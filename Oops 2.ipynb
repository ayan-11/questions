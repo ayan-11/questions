{
 "cells": [
  {
   "cell_type": "code",
   "execution_count": null,
   "id": "36aadde2-f85c-467f-becf-03d73a5ccf9d",
   "metadata": {},
   "outputs": [],
   "source": [
    "1. What is a constructor in Python? Explain its purpose and usage."
   ]
  },
  {
   "cell_type": "code",
   "execution_count": null,
   "id": "4a11043e-c664-4b4d-91e9-dd05dfb5beff",
   "metadata": {},
   "outputs": [],
   "source": [
    "A constructor in Python is a special method that gets called when an object of a class is created. \n",
    "It initializes the object's attributes and performs any setup required for the object to function properly."
   ]
  },
  {
   "cell_type": "code",
   "execution_count": null,
   "id": "f08a431c-88bf-4134-a427-4d9d02a14322",
   "metadata": {},
   "outputs": [],
   "source": [
    "2. Differentiate between a parameterless constructor and a parameterized constructor in Python."
   ]
  },
  {
   "cell_type": "code",
   "execution_count": null,
   "id": "994e33ce-7e66-4f80-9e5c-b33c75a3d7e6",
   "metadata": {},
   "outputs": [],
   "source": [
    "Parameterless Constructor: Also known as a default constructor, it takes no parameters and is automatically called when an object is created. \n",
    "It's defined without any parameters.\n",
    "\n",
    "Parameterized Constructor: Accepts parameters during object creation, allowing you to initialize the object's attributes with specific values.\n",
    "It's defined with parameters."
   ]
  },
  {
   "cell_type": "code",
   "execution_count": null,
   "id": "6a2d25e6-0dc5-4e0a-bcf3-570fd50ee38a",
   "metadata": {},
   "outputs": [],
   "source": [
    "3. How do you define a constructor in a Python class? Provide an example."
   ]
  },
  {
   "cell_type": "code",
   "execution_count": null,
   "id": "9d1a668e-72df-45ef-aba0-7e7169b677e3",
   "metadata": {},
   "outputs": [],
   "source": [
    "In Python, the constructor is defined using the __init__ method. "
   ]
  },
  {
   "cell_type": "code",
   "execution_count": 1,
   "id": "f0bce6c1-3e10-4e5a-95fc-51daff618044",
   "metadata": {},
   "outputs": [],
   "source": [
    "class MyClass:\n",
    "    # Parameterless constructor\n",
    "    def __init__(self):\n",
    "        # Initialization code here\n",
    "        self.attribute = \"Default\"\n",
    "\n",
    "    # Parameterized constructor\n",
    "    def __init__(self, value):\n",
    "        self.attribute = value\n"
   ]
  },
  {
   "cell_type": "code",
   "execution_count": null,
   "id": "4b2ced8a-b53d-4f38-97e6-9c23399f4f74",
   "metadata": {},
   "outputs": [],
   "source": [
    "4. Explain the `__init__` method in Python and its role in constructors."
   ]
  },
  {
   "cell_type": "code",
   "execution_count": null,
   "id": "f2f3d405-127e-4393-947c-03a27d133c14",
   "metadata": {},
   "outputs": [],
   "source": [
    "The __init__ method is a special method in Python classes, and it stands for \"initialize.\"\n",
    "It is automatically called when an object is created from the class.\n",
    "It allows you to perform any setup or initialization required for the object.\n",
    "The first parameter, conventionally named self, refers to the instance of the class."
   ]
  },
  {
   "cell_type": "code",
   "execution_count": null,
   "id": "3b3b49f4-55f5-4e58-b073-bfc7807180b0",
   "metadata": {},
   "outputs": [],
   "source": [
    "5. In a class named `Person`, create a constructor that initializes the `name` and `age` attributes. Provide an\n",
    "example of creating an object of this class."
   ]
  },
  {
   "cell_type": "code",
   "execution_count": 2,
   "id": "35231d76-c8c3-4896-b6cf-ea9395bef52b",
   "metadata": {},
   "outputs": [
    {
     "name": "stdout",
     "output_type": "stream",
     "text": [
      "Name: Alice\n",
      "Age: 30\n"
     ]
    }
   ],
   "source": [
    "class Person:\n",
    "    def __init__(self, name, age):\n",
    "        self.name = name\n",
    "        self.age = age\n",
    "\n",
    "# Creating an object of the Person class\n",
    "person1 = Person(\"Alice\", 30)\n",
    "\n",
    "# Accessing attributes of the object\n",
    "print(\"Name:\", person1.name)\n",
    "print(\"Age:\", person1.age)\n"
   ]
  },
  {
   "cell_type": "code",
   "execution_count": null,
   "id": "4e7ec458-e090-48cd-9f00-b2cc9237bbcd",
   "metadata": {},
   "outputs": [],
   "source": [
    "\n",
    "\n",
    "\n",
    "16. How do you prevent a class from having multiple instances by using constructors in Python? Provide an\n",
    "example.\n",
    "17. Create a Python class called `Student` with a constructor that takes a list of subjects as a parameter and\n",
    "initializes the `subjects` attribute.\n",
    "18. What is the purpose of the `__del__` method in Python classes, and how does it relate to constructors?\n",
    "19. Explain the use of constructor chaining in Python. Provide a practical example.\n",
    "20. Create a Python class called `Car` with a default constructor that initializes the `make` and `model`\n",
    "attributes. Provide a method to display car information."
   ]
  },
  {
   "cell_type": "code",
   "execution_count": null,
   "id": "66e7fbb0-3c87-441c-851e-2b8d1a1a9e52",
   "metadata": {},
   "outputs": [],
   "source": [
    "6. How can you call a constructor explicitly in Python? Give an example."
   ]
  },
  {
   "cell_type": "code",
   "execution_count": null,
   "id": "997cfeb1-af29-44d0-a9ef-c4b463d76c12",
   "metadata": {},
   "outputs": [],
   "source": [
    "In Python, you can call a constructor explicitly using the class name followed by parentheses."
   ]
  },
  {
   "cell_type": "code",
   "execution_count": 3,
   "id": "e61a3d06-388f-43e8-919a-5fa97fc43c01",
   "metadata": {},
   "outputs": [
    {
     "name": "stdout",
     "output_type": "stream",
     "text": [
      "Constructor called\n",
      "Constructor called\n"
     ]
    }
   ],
   "source": [
    "class MyClass:\n",
    "    def __init__(self):\n",
    "        print(\"Constructor called\")\n",
    "\n",
    "# Creating an object\n",
    "obj = MyClass()\n",
    "\n",
    "# Calling the constructor explicitly\n",
    "MyClass.__init__(obj)\n"
   ]
  },
  {
   "cell_type": "code",
   "execution_count": null,
   "id": "9907e687-6533-4501-8abb-6de1f320c44a",
   "metadata": {},
   "outputs": [],
   "source": [
    "7. What is the significance of the `self` parameter in Python constructors? Explain with an example."
   ]
  },
  {
   "cell_type": "code",
   "execution_count": null,
   "id": "7b86bcce-e279-49ee-97a7-44ce4ce8085c",
   "metadata": {},
   "outputs": [],
   "source": [
    "The self parameter in Python constructors refers to the instance of the class and is used to access and modify class attributes.\n",
    "It distinguishes instance variables from local variables."
   ]
  },
  {
   "cell_type": "code",
   "execution_count": 4,
   "id": "36724d8e-a761-4e0e-9280-625becc54cf6",
   "metadata": {},
   "outputs": [
    {
     "name": "stdout",
     "output_type": "stream",
     "text": [
      "Alice\n"
     ]
    }
   ],
   "source": [
    "class Person:\n",
    "    def __init__(self, name, age):\n",
    "        self.name = name\n",
    "        self.age = age\n",
    "\n",
    "person1 = Person(\"Alice\", 25)\n",
    "print(person1.name)  # Accessing attribute using self\n"
   ]
  },
  {
   "cell_type": "code",
   "execution_count": null,
   "id": "25d154e9-59b7-4175-8b38-d87ff86ee742",
   "metadata": {},
   "outputs": [],
   "source": [
    "8. Discuss the concept of default constructors in Python. When are they used?"
   ]
  },
  {
   "cell_type": "code",
   "execution_count": null,
   "id": "84ee1b35-df6e-4c2c-932a-29805b052b97",
   "metadata": {},
   "outputs": [],
   "source": [
    "Default constructors in Python are those without any parameters. They are automatically called when an object is created.\n",
    "If you don't explicitly define a constructor, Python provides a default constructor. "
   ]
  },
  {
   "cell_type": "code",
   "execution_count": 5,
   "id": "7f3f15c0-8e69-4c68-a02b-5bb0bb9285fb",
   "metadata": {},
   "outputs": [],
   "source": [
    "class MyClass:\n",
    "    pass\n",
    "\n",
    "obj = MyClass()  # Default constructor called\n"
   ]
  },
  {
   "cell_type": "code",
   "execution_count": null,
   "id": "9b7501a7-cb51-4b9d-befd-e05e02931c08",
   "metadata": {},
   "outputs": [],
   "source": [
    "9. Create a Python class called `Rectangle` with a constructor that initializes the `width` and `height`"
   ]
  },
  {
   "cell_type": "code",
   "execution_count": 6,
   "id": "53a060f4-f297-4609-ab6c-ad00bb89c794",
   "metadata": {},
   "outputs": [
    {
     "name": "stdout",
     "output_type": "stream",
     "text": [
      "Area: 50\n"
     ]
    }
   ],
   "source": [
    "class Rectangle:\n",
    "    def __init__(self, width, height):\n",
    "        self.width = width\n",
    "        self.height = height\n",
    "\n",
    "    def calculate_area(self):\n",
    "        return self.width * self.height\n",
    "\n",
    "# Creating an object of the Rectangle class\n",
    "rectangle1 = Rectangle(5, 10)\n",
    "\n",
    "# Calculating and displaying the area\n",
    "area = rectangle1.calculate_area()\n",
    "print(\"Area:\", area)\n"
   ]
  },
  {
   "cell_type": "code",
   "execution_count": null,
   "id": "bf62f5e3-ba45-4ee8-87e1-d7a89e98bb54",
   "metadata": {},
   "outputs": [],
   "source": [
    "10. How can you have multiple constructors in a Python class? Explain with an example."
   ]
  },
  {
   "cell_type": "code",
   "execution_count": null,
   "id": "d92fdc33-b32e-4cfa-96ab-826d97d4c89d",
   "metadata": {},
   "outputs": [],
   "source": [
    "Python doesn't directly support multiple constructors. However, you can achieve similar behavior using default values."
   ]
  },
  {
   "cell_type": "code",
   "execution_count": null,
   "id": "9233abd8-d979-445a-8084-0b65d8aaaf27",
   "metadata": {},
   "outputs": [],
   "source": [
    "class MyClass:\n",
    "    def __init__(self, param1=None, param2=None):\n",
    "        if param1 is not None and param2 is not None:\n",
    "            # Constructor with specific parameters\n",
    "        else:\n",
    "            # Default constructor logic\n"
   ]
  },
  {
   "cell_type": "code",
   "execution_count": null,
   "id": "bb473674-e587-41d0-8fc6-27dd1eb44ade",
   "metadata": {},
   "outputs": [],
   "source": [
    "11. What is method overloading, and how is it related to constructors in Python?"
   ]
  },
  {
   "cell_type": "code",
   "execution_count": null,
   "id": "9cbad581-0598-476b-a145-f3bf7f4b17ba",
   "metadata": {},
   "outputs": [],
   "source": [
    "Method overloading in Python refers to the ability to define multiple methods with the same name in a class, but with different parameters.\n",
    "However, Python doesn't support traditional method overloading like some other languages do. \n",
    "Instead, you can achieve a similar effect using default values or variable-length argument lists."
   ]
  },
  {
   "cell_type": "code",
   "execution_count": null,
   "id": "9c74aa41-65f2-40dc-ab30-8ee4bdba3410",
   "metadata": {},
   "outputs": [],
   "source": [
    "12. Explain the use of the `super()` function in Python constructors. Provide an example."
   ]
  },
  {
   "cell_type": "code",
   "execution_count": null,
   "id": "44557858-e0bd-4b99-b740-4a642f47d7ad",
   "metadata": {},
   "outputs": [],
   "source": [
    "The super() function is used to call a method from a parent class.\n",
    "In the context of constructors, it's often used to call the constructor of the parent class. "
   ]
  },
  {
   "cell_type": "code",
   "execution_count": 8,
   "id": "4cfeda60-c689-46c6-9a4d-39fba973351e",
   "metadata": {},
   "outputs": [
    {
     "name": "stdout",
     "output_type": "stream",
     "text": [
      "John\n",
      "10\n"
     ]
    }
   ],
   "source": [
    "class Parent:\n",
    "    def __init__(self, name):\n",
    "        self.name = name\n",
    "\n",
    "class Child(Parent):\n",
    "    def __init__(self, name, age):\n",
    "        super().__init__(name)\n",
    "        self.age = age\n",
    "\n",
    "# Creating an object of the Child class\n",
    "child1 = Child(\"John\", 10)\n",
    "\n",
    "# Accessing attributes\n",
    "print(child1.name)\n",
    "print(child1.age)\n"
   ]
  },
  {
   "cell_type": "code",
   "execution_count": null,
   "id": "15ae75bd-b609-453a-a105-fae8f8e9895e",
   "metadata": {},
   "outputs": [],
   "source": [
    "13. Create a class called `Book` with a constructor that initializes the `title`, `author`, and `published_year`\n",
    "attributes. Provide a method to display book details."
   ]
  },
  {
   "cell_type": "code",
   "execution_count": 9,
   "id": "755e9bde-cbe2-4085-a7cc-26fd9b6a687e",
   "metadata": {},
   "outputs": [
    {
     "name": "stdout",
     "output_type": "stream",
     "text": [
      "Title: Python for Beginners, Author: Jane Doe, Published Year: 2022\n"
     ]
    }
   ],
   "source": [
    "class Book:\n",
    "    def __init__(self, title, author, published_year):\n",
    "        self.title = title\n",
    "        self.author = author\n",
    "        self.published_year = published_year\n",
    "\n",
    "    def display_details(self):\n",
    "        print(f\"Title: {self.title}, Author: {self.author}, Published Year: {self.published_year}\")\n",
    "\n",
    "# Creating an object of the Book class\n",
    "book1 = Book(\"Python for Beginners\", \"Jane Doe\", 2022)\n",
    "\n",
    "# Displaying book details\n",
    "book1.display_details()\n"
   ]
  },
  {
   "cell_type": "code",
   "execution_count": null,
   "id": "f26ddc91-838e-4dfe-941f-b646cd6ba592",
   "metadata": {},
   "outputs": [],
   "source": [
    "14. Discuss the differences between constructors and regular methods in Python classes."
   ]
  },
  {
   "cell_type": "code",
   "execution_count": null,
   "id": "e0731399-6e55-4b50-94ef-f06e463546ba",
   "metadata": {},
   "outputs": [],
   "source": [
    "Constructors are called automatically when an object is created, while regular methods need to be called explicitly.\n",
    "Constructors initialize the object's attributes, while regular methods perform specific actions on the object's data.\n",
    "Constructors have a special name (__init__), while regular methods have any valid method name."
   ]
  },
  {
   "cell_type": "code",
   "execution_count": null,
   "id": "fc57d4d1-becc-4743-b99c-c5545bb41337",
   "metadata": {},
   "outputs": [],
   "source": [
    "15. Explain the role of the `self` parameter in instance variable initialization within a constructor."
   ]
  },
  {
   "cell_type": "code",
   "execution_count": null,
   "id": "36590bc2-0713-474e-86de-40e56ef78989",
   "metadata": {},
   "outputs": [],
   "source": [
    "The self parameter in a constructor refers to the instance of the class being created. \n",
    "It is used to access and initialize instance variables."
   ]
  },
  {
   "cell_type": "code",
   "execution_count": null,
   "id": "5826a86f-83f9-42cf-8ef7-3d2e6a75f55c",
   "metadata": {},
   "outputs": [],
   "source": [
    "class Example:\n",
    "    def __init__(self, attribute):\n",
    "        self.attribute = attribute\n"
   ]
  },
  {
   "cell_type": "code",
   "execution_count": null,
   "id": "a60c48fd-57c2-4256-ae3a-e7df00f9daf7",
   "metadata": {},
   "outputs": [],
   "source": [
    "16. How do you prevent a class from having multiple instances by using constructors in Python? Provide an\n",
    "example."
   ]
  },
  {
   "cell_type": "code",
   "execution_count": null,
   "id": "226c39ae-c794-4067-b5d0-bccfe58e706e",
   "metadata": {},
   "outputs": [],
   "source": [
    "In Python, you can prevent a class from having multiple instances by using a class variable to keep track of whether an instance has already been created."
   ]
  },
  {
   "cell_type": "code",
   "execution_count": 10,
   "id": "54808acb-d1ab-4df2-b6c1-4e5fe1b4eb3f",
   "metadata": {},
   "outputs": [
    {
     "name": "stdout",
     "output_type": "stream",
     "text": [
      "True\n"
     ]
    }
   ],
   "source": [
    "class Singleton:\n",
    "    _instance = None\n",
    "\n",
    "    def __new__(cls):\n",
    "        if cls._instance is None:\n",
    "            cls._instance = super(Singleton, cls).__new__(cls)\n",
    "        return cls._instance\n",
    "\n",
    "# Testing\n",
    "obj1 = Singleton()\n",
    "obj2 = Singleton()\n",
    "\n",
    "print(obj1 is obj2)  # This will print True, as both variables reference the same instance\n"
   ]
  },
  {
   "cell_type": "code",
   "execution_count": null,
   "id": "b93600a1-f51c-4a21-8cad-25703511b2ba",
   "metadata": {},
   "outputs": [],
   "source": [
    "17. Create a Python class called `Student` with a constructor that takes a list of subjects as a parameter and\n",
    "initializes the `subjects` attribute."
   ]
  },
  {
   "cell_type": "code",
   "execution_count": null,
   "id": "70bec831-6662-4aaf-8263-72da0957847e",
   "metadata": {},
   "outputs": [],
   "source": [
    "class Student:\n",
    "    def __init__(self, subjects):\n",
    "        self.subjects = subjects\n",
    "\n",
    "# Creating an object of the Student class\n",
    "student1 = Student([\"Math\", \"History\", \"Science\"])\n"
   ]
  },
  {
   "cell_type": "code",
   "execution_count": null,
   "id": "43668809-6f77-41fa-a4f3-eae5a3b9694e",
   "metadata": {},
   "outputs": [],
   "source": [
    "18. What is the purpose of the `__del__` method in Python classes, and how does it relate to constructors?"
   ]
  },
  {
   "cell_type": "code",
   "execution_count": null,
   "id": "224a9874-a732-4ba4-b2ab-3f0d4da3e388",
   "metadata": {},
   "outputs": [],
   "source": [
    "The __del__ method is called when an object is about to be destroyed. \n",
    "It's the counterpart to the __init__ method. However, it's not commonly used because the timing of object destruction is not guaranteed. \n",
    "It's better to use the with statement or the contextlib module for resource management."
   ]
  },
  {
   "cell_type": "code",
   "execution_count": null,
   "id": "3d4d15b8-aae9-4930-903b-c8a2b3cd39c6",
   "metadata": {},
   "outputs": [],
   "source": [
    "19. Explain the use of constructor chaining in Python. Provide a practical example."
   ]
  },
  {
   "cell_type": "code",
   "execution_count": null,
   "id": "de2aa726-8118-4e35-a6cb-2f96489ad243",
   "metadata": {},
   "outputs": [],
   "source": [
    "Constructor chaining in Python is the ability of a subclass to call the constructor of its superclass. \n",
    "This is achieved using the super() function."
   ]
  },
  {
   "cell_type": "code",
   "execution_count": 11,
   "id": "dea46f04-5e87-4675-8846-36925c231a5f",
   "metadata": {},
   "outputs": [],
   "source": [
    "class Parent:\n",
    "    def __init__(self, name):\n",
    "        self.name = name\n",
    "\n",
    "class Child(Parent):\n",
    "    def __init__(self, name, age):\n",
    "        super().__init__(name)\n",
    "        self.age = age\n",
    "\n",
    "# Creating an object of the Child class\n",
    "child1 = Child(\"John\", 10)\n"
   ]
  },
  {
   "cell_type": "code",
   "execution_count": null,
   "id": "a37c0ad1-5e19-432d-9af2-a86152c92fd9",
   "metadata": {},
   "outputs": [],
   "source": [
    "20. Create a Python class called `Car` with a default constructor that initializes the `make` and `model`\n",
    "attributes. Provide a method to display car information."
   ]
  },
  {
   "cell_type": "code",
   "execution_count": null,
   "id": "08775e1a-bcc2-421a-8e23-2570cd906c6a",
   "metadata": {},
   "outputs": [
    {
     "name": "stdout",
     "output_type": "stream",
     "text": [
      "Make: Toyota, Model: Camry\n"
     ]
    }
   ],
   "source": [
    "class Car:\n",
    "    def __init__(self):\n",
    "        self.make = \"Toyota\"\n",
    "        self.model = \"Camry\"\n",
    "\n",
    "    def display_info(self):\n",
    "        print(f\"Make: {self.make}, Model: {self.model}\")\n",
    "\n",
    "# Creating an object of the Car class\n",
    "car1 = Car()\n",
    "\n",
    "# Displaying car information\n",
    "car1.display_info()\n"
   ]
  },
  {
   "cell_type": "code",
   "execution_count": null,
   "id": "7f5312ee-f41e-44b6-b6bc-2e833c508bc5",
   "metadata": {},
   "outputs": [],
   "source": [
    "Inheritance:"
   ]
  },
  {
   "cell_type": "code",
   "execution_count": null,
   "id": "21979be1-3c73-4478-9c67-3fa7b8d4c569",
   "metadata": {},
   "outputs": [],
   "source": [
    "1. What is inheritance in Python? Explain its significance in object-oriented programming."
   ]
  },
  {
   "cell_type": "code",
   "execution_count": null,
   "id": "fa4c0355-aa70-4384-a550-2db4f3d74088",
   "metadata": {},
   "outputs": [],
   "source": [
    "Inheritance in Python is a mechanism that allows a class (subclass or derived class) to inherit properties and behaviors from another class (base class or superclass). \n",
    "It promotes code reusability and helps in creating a hierarchy of classes. \n",
    "The significance lies in the ability to build upon existing classes, extending or modifying their functionality without rewriting the entire code."
   ]
  },
  {
   "cell_type": "code",
   "execution_count": null,
   "id": "2a738ec2-8175-44fb-8713-90f62b81c08a",
   "metadata": {},
   "outputs": [],
   "source": [
    "2. Differentiate between single inheritance and multiple inheritance in Python. Provide examples for each."
   ]
  },
  {
   "cell_type": "code",
   "execution_count": null,
   "id": "283c5a75-6f5c-448f-9a30-7018829ba8fd",
   "metadata": {},
   "outputs": [],
   "source": [
    "Single Inheritance:-\n",
    "class Animal:\n",
    "    def speak(self):\n",
    "        print(\"Animal speaks\")\n",
    "\n",
    "class Dog(Animal):\n",
    "    def bark(self):\n",
    "        print(\"Dog barks\")\n",
    "\n",
    "Multiple Inheritance:-\n",
    "class Bird:\n",
    "    def chirp(self):\n",
    "        print(\"Bird chirps\")\n",
    "\n",
    "class Parrot(Animal, Bird):\n",
    "    pass\n"
   ]
  },
  {
   "cell_type": "code",
   "execution_count": null,
   "id": "47729b7e-747e-4e87-a8b1-3bef66a98f28",
   "metadata": {},
   "outputs": [],
   "source": [
    "3. Create a Python class called `Vehicle` with attributes `color` and `speed`. Then, create a child class called\n",
    "`Car` that inherits from `Vehicle` and adds a `brand` attribute. Provide an example of creating a `Car` object."
   ]
  },
  {
   "cell_type": "code",
   "execution_count": 13,
   "id": "a38281db-fe47-4e1a-a789-84f36ee56eb4",
   "metadata": {},
   "outputs": [],
   "source": [
    "class Vehicle:\n",
    "    def __init__(self, color, speed):\n",
    "        self.color = color\n",
    "        self.speed = speed\n",
    "\n",
    "class Car(Vehicle):\n",
    "    def __init__(self, color, speed, brand):\n",
    "        super().__init__(color, speed)\n",
    "        self.brand = brand\n",
    "\n",
    "# Example of creating a Car object\n",
    "my_car = Car(color='Blue', speed=60, brand='Toyota')\n"
   ]
  },
  {
   "cell_type": "code",
   "execution_count": null,
   "id": "28228251-0cc0-4d41-8927-b3bb5069e4f9",
   "metadata": {},
   "outputs": [],
   "source": [
    "4. Explain the concept of method overriding in inheritance. Provide a practical example."
   ]
  },
  {
   "cell_type": "code",
   "execution_count": null,
   "id": "b7449428-4dca-4a23-b887-28b36f983681",
   "metadata": {},
   "outputs": [],
   "source": [
    "Method overriding in inheritance occurs when a subclass provides a specific implementation for a method that is already defined in its superclass. "
   ]
  },
  {
   "cell_type": "code",
   "execution_count": 14,
   "id": "180d9ac8-0147-4ba9-8853-4d0128eb9380",
   "metadata": {},
   "outputs": [
    {
     "name": "stdout",
     "output_type": "stream",
     "text": [
      "Dog barks\n"
     ]
    }
   ],
   "source": [
    "class Animal:\n",
    "    def speak(self):\n",
    "        print(\"Animal speaks\")\n",
    "\n",
    "class Dog(Animal):\n",
    "    def speak(self):\n",
    "        print(\"Dog barks\")\n",
    "\n",
    "# Example of method overriding\n",
    "my_dog = Dog()\n",
    "my_dog.speak()  # Output: Dog barks\n"
   ]
  },
  {
   "cell_type": "code",
   "execution_count": null,
   "id": "f5fe85eb-e827-4f81-9678-5b62f694dcea",
   "metadata": {},
   "outputs": [],
   "source": [
    "5. How can you access the methods and attributes of a parent class from a child class in Python? Give an\n",
    "example."
   ]
  },
  {
   "cell_type": "code",
   "execution_count": null,
   "id": "b0d3a21e-ff2b-45ef-a4ea-97389903179b",
   "metadata": {},
   "outputs": [],
   "source": [
    "You can access the methods and attributes of a parent class from a child class using the super() function."
   ]
  },
  {
   "cell_type": "code",
   "execution_count": 15,
   "id": "56e0f1d5-80ea-48bd-8464-0533a24e229e",
   "metadata": {},
   "outputs": [
    {
     "name": "stdout",
     "output_type": "stream",
     "text": [
      "Animal speaks\n",
      "Dog barks\n",
      "Canine\n"
     ]
    }
   ],
   "source": [
    "class Animal:\n",
    "    def __init__(self, species):\n",
    "        self.species = species\n",
    "\n",
    "    def speak(self):\n",
    "        print(\"Animal speaks\")\n",
    "\n",
    "class Dog(Animal):\n",
    "    def __init__(self, species, breed):\n",
    "        super().__init__(species)\n",
    "        self.breed = breed\n",
    "\n",
    "    def speak(self):\n",
    "        super().speak()\n",
    "        print(\"Dog barks\")\n",
    "\n",
    "# Example of accessing parent class methods and attributes\n",
    "my_dog = Dog(species='Canine', breed='Labrador')\n",
    "my_dog.speak()\n",
    "print(my_dog.species)  # Output: Canine\n"
   ]
  },
  {
   "cell_type": "code",
   "execution_count": null,
   "id": "48265958-6e2d-41aa-a7bd-5df0e46e0db0",
   "metadata": {},
   "outputs": [],
   "source": [
    "6. Discuss the use of the `super()` function in Python inheritance. When and why is it used? Provide an\n",
    "example."
   ]
  },
  {
   "cell_type": "code",
   "execution_count": null,
   "id": "17172a60-9439-4ed7-9e4c-c8dff4dea487",
   "metadata": {},
   "outputs": [],
   "source": [
    "In Python, the super() function is used to call a method from a parent class.\n",
    "It is often used in the context of inheritance when you want to invoke a method from the parent class within the child class."
   ]
  },
  {
   "cell_type": "code",
   "execution_count": null,
   "id": "5376c7f2-0dc6-4e99-ae6e-46845890450d",
   "metadata": {},
   "outputs": [],
   "source": [
    "7. Create a Python class called `Animal` with a method `speak()`. Then, create child classes `Dog` and `Cat` that inherit from `Animal` and override the `speak()` method. Provide an example of using these classes."
   ]
  },
  {
   "cell_type": "code",
   "execution_count": 2,
   "id": "7a4c9fed-ed43-42c0-bc8f-f28eff283cd1",
   "metadata": {},
   "outputs": [
    {
     "name": "stdout",
     "output_type": "stream",
     "text": [
      "Name: John\n",
      "Age: 25\n"
     ]
    }
   ],
   "source": [
    "class Parent:\n",
    "    def __init__(self, name):\n",
    "        self.name = name\n",
    "\n",
    "    def show_info(self):\n",
    "        print(f\"Name: {self.name}\")\n",
    "\n",
    "class Child(Parent):\n",
    "    def __init__(self, name, age):\n",
    "        super().__init__(name)\n",
    "        self.age = age\n",
    "\n",
    "    def show_info(self):\n",
    "        super().show_info()\n",
    "        print(f\"Age: {self.age}\")\n",
    "\n",
    "# Example usage\n",
    "child_obj = Child(\"John\", 25)\n",
    "child_obj.show_info()\n"
   ]
  },
  {
   "cell_type": "code",
   "execution_count": 3,
   "id": "3eb9be00-b363-40de-b6a1-2ca0d28bd870",
   "metadata": {},
   "outputs": [
    {
     "name": "stdout",
     "output_type": "stream",
     "text": [
      "Woof!\n",
      "Meow!\n"
     ]
    }
   ],
   "source": [
    "class Animal:\n",
    "    def speak(self):\n",
    "        pass\n",
    "\n",
    "class Dog(Animal):\n",
    "    def speak(self):\n",
    "        return \"Woof!\"\n",
    "\n",
    "class Cat(Animal):\n",
    "    def speak(self):\n",
    "        return \"Meow!\"\n",
    "\n",
    "# Example usage\n",
    "dog_instance = Dog()\n",
    "cat_instance = Cat()\n",
    "\n",
    "print(dog_instance.speak())  # Output: Woof!\n",
    "print(cat_instance.speak())  # Output: Meow!\n"
   ]
  },
  {
   "cell_type": "code",
   "execution_count": null,
   "id": "0858424b-d79b-4ac1-bb24-fe58fcf540ea",
   "metadata": {},
   "outputs": [],
   "source": [
    "8. Explain the role of the `isinstance()` function in Python and how it relates to inheritance."
   ]
  },
  {
   "cell_type": "code",
   "execution_count": null,
   "id": "5d04b4bd-f359-4c80-8aba-2ffc481fde98",
   "metadata": {},
   "outputs": [],
   "source": [
    "The isinstance() function in Python is used to check if an object is an instance of a particular class or a tuple of classes.\n",
    "It is often used in conjunction with inheritance to determine the type of an object."
   ]
  },
  {
   "cell_type": "code",
   "execution_count": 4,
   "id": "c768b292-e67b-440c-8bb5-87fb61656ae3",
   "metadata": {},
   "outputs": [
    {
     "name": "stdout",
     "output_type": "stream",
     "text": [
      "It's an Animal!\n",
      "It's a Dog!\n"
     ]
    }
   ],
   "source": [
    "obj = Dog()\n",
    "if isinstance(obj, Animal):\n",
    "    print(\"It's an Animal!\")\n",
    "if isinstance(obj, Dog):\n",
    "    print(\"It's a Dog!\")\n"
   ]
  },
  {
   "cell_type": "code",
   "execution_count": null,
   "id": "859c8784-5e69-48d6-920c-3186cefa0dbf",
   "metadata": {},
   "outputs": [],
   "source": [
    "9. What is the purpose of the `issubclass()` function in Python? Provide an example."
   ]
  },
  {
   "cell_type": "code",
   "execution_count": null,
   "id": "363654d3-e7cc-490b-b3bf-0aef4f1d30eb",
   "metadata": {},
   "outputs": [],
   "source": [
    "The issubclass() function is used to check if a class is a subclass of another class."
   ]
  },
  {
   "cell_type": "code",
   "execution_count": 5,
   "id": "ff8852bd-2504-451d-b821-c4a8de456c64",
   "metadata": {},
   "outputs": [
    {
     "name": "stdout",
     "output_type": "stream",
     "text": [
      "True\n",
      "True\n",
      "False\n"
     ]
    }
   ],
   "source": [
    "print(issubclass(Dog, Animal))  # Output: True\n",
    "print(issubclass(Cat, Animal))  # Output: True\n",
    "print(issubclass(Animal, Dog))  # Output: False\n"
   ]
  },
  {
   "cell_type": "code",
   "execution_count": null,
   "id": "3e449558-4dc9-4c12-9733-df00c80bbf05",
   "metadata": {},
   "outputs": [],
   "source": [
    "10. Discuss the concept of constructor inheritance in Python. How are constructors inherited in child classes?"
   ]
  },
  {
   "cell_type": "code",
   "execution_count": null,
   "id": "34471bfe-1865-4f67-901d-8e7e2ef5f667",
   "metadata": {},
   "outputs": [],
   "source": [
    "In Python, constructors are inherited by default when a class is derived from another class.\n",
    "When a child class is created, it can either use the constructor of the parent class as is or override it."
   ]
  },
  {
   "cell_type": "code",
   "execution_count": 6,
   "id": "38c2cdbc-342a-4f77-b2d5-0f2ef45dd40d",
   "metadata": {},
   "outputs": [
    {
     "name": "stdout",
     "output_type": "stream",
     "text": [
      "John\n",
      "25\n"
     ]
    }
   ],
   "source": [
    "class Parent:\n",
    "    def __init__(self, name):\n",
    "        self.name = name\n",
    "\n",
    "class Child(Parent):\n",
    "    def __init__(self, name, age):\n",
    "        super().__init__(name)\n",
    "        self.age = age\n",
    "\n",
    "# Example usage\n",
    "child_obj = Child(\"John\", 25)\n",
    "print(child_obj.name)  # Output: John\n",
    "print(child_obj.age)   # Output: 25\n"
   ]
  },
  {
   "cell_type": "code",
   "execution_count": 7,
   "id": "43794bbd-2c13-4e98-9599-78e06b848e3c",
   "metadata": {},
   "outputs": [
    {
     "name": "stdout",
     "output_type": "stream",
     "text": [
      "Circle Area: 78.5\n",
      "Rectangle Area: 24\n"
     ]
    }
   ],
   "source": [
    "class Shape:\n",
    "    def area(self):\n",
    "        pass\n",
    "\n",
    "class Circle(Shape):\n",
    "    def __init__(self, radius):\n",
    "        self.radius = radius\n",
    "\n",
    "    def area(self):\n",
    "        return 3.14 * self.radius ** 2\n",
    "\n",
    "class Rectangle(Shape):\n",
    "    def __init__(self, width, height):\n",
    "        self.width = width\n",
    "        self.height = height\n",
    "\n",
    "    def area(self):\n",
    "        return self.width * self.height\n",
    "\n",
    "# Example usage\n",
    "circle_instance = Circle(5)\n",
    "rectangle_instance = Rectangle(4, 6)\n",
    "\n",
    "print(f\"Circle Area: {circle_instance.area()}\")       # Output: 78.5\n",
    "print(f\"Rectangle Area: {rectangle_instance.area()}\")  # Output: 24\n"
   ]
  },
  {
   "cell_type": "code",
   "execution_count": null,
   "id": "96c891e9-5442-4e8b-9598-4db7f6e28b3d",
   "metadata": {},
   "outputs": [],
   "source": [
    "Abstract base classes (ABCs) in Python are classes that cannot be instantiated on their own and are meant to be subclassed by other classes. "
   ]
  },
  {
   "cell_type": "code",
   "execution_count": null,
   "id": "f6934b29-05b8-4ce1-a122-d23380a91a42",
   "metadata": {},
   "outputs": [],
   "source": [
    "from abc import ABC, abstractmethod\n",
    "\n",
    "class Shape(ABC):\n",
    "    @abstractmethod\n",
    "    def area(self):\n",
    "        pass\n",
    "\n",
    "class Circle(Shape):\n",
    "    def __init__(self, radius):\n",
    "        self.radius = radius\n",
    "\n",
    "    def area(self):\n",
    "        return 3.14 * self.radius ** 2\n",
    "\n",
    "# Example usage\n",
    "# This will raise a TypeError because an abstract method is not implemented in Rectangle.\n",
    "rectangle_instance = Rectangle(4, 6)\n"
   ]
  },
  {
   "cell_type": "code",
   "execution_count": null,
   "id": "a89535f1-61fa-4f05-b954-8af853e9e000",
   "metadata": {},
   "outputs": [],
   "source": [
    "In Python, you can make attributes or methods in a parent class \"private\" by prefixing them with two underscores (__). \n",
    "This makes them name-mangled and harder to access or modify from outside the class."
   ]
  },
  {
   "cell_type": "code",
   "execution_count": 8,
   "id": "77413bd9-ec80-40a5-94be-c03d69b69538",
   "metadata": {},
   "outputs": [
    {
     "name": "stdout",
     "output_type": "stream",
     "text": [
      "John\n",
      "50000\n",
      "HR\n"
     ]
    }
   ],
   "source": [
    "class Employee:\n",
    "    def __init__(self, name, salary):\n",
    "        self.name = name\n",
    "        self.salary = salary\n",
    "\n",
    "class Manager(Employee):\n",
    "    def __init__(self, name, salary, department):\n",
    "        super().__init__(name, salary)\n",
    "        self.department = department\n",
    "\n",
    "# Example usage\n",
    "manager_obj = Manager(\"John\", 50000, \"HR\")\n",
    "print(manager_obj.name)        # Output: John\n",
    "print(manager_obj.salary)      # Output: 50000\n",
    "print(manager_obj.department)  # Output: HR\n"
   ]
  },
  {
   "cell_type": "code",
   "execution_count": null,
   "id": "13aba9a2-caef-4823-ad4e-3af69a1ee42f",
   "metadata": {},
   "outputs": [],
   "source": [
    "Method overloading in Python refers to defining multiple methods in the same class with the same name but different parameters.\n",
    "\n",
    "Method overriding, on the other hand, is when a method in a child class has the same name and parameters as a method in its parent class, and it provides a different implementation."
   ]
  },
  {
   "cell_type": "code",
   "execution_count": null,
   "id": "d93048c2-e365-4f6e-b95e-3b3e31d238b0",
   "metadata": {},
   "outputs": [],
   "source": [
    "16. Explain the purpose of the `__init__()` method in Python inheritance and how it is utilized in child classes."
   ]
  },
  {
   "cell_type": "code",
   "execution_count": null,
   "id": "19346851-b4ed-4918-a2a0-64d66e660460",
   "metadata": {
    "tags": []
   },
   "outputs": [],
   "source": [
    "The __init__() method in Python is a special method used for initializing objects when an instance of a class is created. \n",
    "It is called a constructor and is automatically invoked when an object is instantiated from a class."
   ]
  },
  {
   "cell_type": "code",
   "execution_count": null,
   "id": "98a086e6-bcf9-4b13-9447-a0d96fb9776e",
   "metadata": {},
   "outputs": [],
   "source": [
    "17. Create a Python class called `Bird` with a method `fly()`. Then, create child classes `Eagle` and `Sparrow` that inherit from `Bird` and implement the `fly()` method differently. Provide an example of using these\n",
    "classes."
   ]
  },
  {
   "cell_type": "code",
   "execution_count": 9,
   "id": "85e8bf94-40dd-4db4-ac9f-d48365977dfd",
   "metadata": {},
   "outputs": [
    {
     "name": "stdout",
     "output_type": "stream",
     "text": [
      "Soaring high in the sky\n",
      "Flitting from branch to branch\n"
     ]
    }
   ],
   "source": [
    "class Bird:\n",
    "    def fly(self):\n",
    "        pass\n",
    "\n",
    "class Eagle(Bird):\n",
    "    def fly(self):\n",
    "        return \"Soaring high in the sky\"\n",
    "\n",
    "class Sparrow(Bird):\n",
    "    def fly(self):\n",
    "        return \"Flitting from branch to branch\"\n",
    "\n",
    "# Example usage\n",
    "eagle_instance = Eagle()\n",
    "sparrow_instance = Sparrow()\n",
    "\n",
    "print(eagle_instance.fly())    # Output: Soaring high in the sky\n",
    "print(sparrow_instance.fly())  # Output: Flitting from branch to branch\n"
   ]
  },
  {
   "cell_type": "code",
   "execution_count": null,
   "id": "4080a26b-38f6-433b-b417-d59d827fc55e",
   "metadata": {},
   "outputs": [],
   "source": [
    "18. What is the \"diamond problem\" in multiple inheritance, and how does Python address it?"
   ]
  },
  {
   "cell_type": "code",
   "execution_count": null,
   "id": "24a09be5-9c7f-45cb-b6fe-d92e56aa63fd",
   "metadata": {},
   "outputs": [],
   "source": [
    "The \"diamond problem\" occurs in programming languages that support multiple inheritance when a class inherits from two classes that have a common ancestor.\n",
    "Python addresses this problem by using a method resolution order (MRO) algorithm. "
   ]
  },
  {
   "cell_type": "code",
   "execution_count": null,
   "id": "3f2de30d-9287-42e6-a452-c42758878ef9",
   "metadata": {},
   "outputs": [],
   "source": [
    "19. Discuss the concept of \"is-a\" and \"has-a\" relationships in inheritance, and provide examples of each."
   ]
  },
  {
   "cell_type": "code",
   "execution_count": null,
   "id": "56a584c3-5856-4395-b106-b730607a44f8",
   "metadata": {},
   "outputs": [],
   "source": [
    "\"is-a\" relationship: This is used to indicate that a class is a subclass of another class. It implies a type of relationship."
   ]
  },
  {
   "cell_type": "code",
   "execution_count": 10,
   "id": "2a4b2707-6d95-4db4-ac57-158fb2d07278",
   "metadata": {},
   "outputs": [],
   "source": [
    "class Vehicle:\n",
    "    pass\n",
    "\n",
    "class Car(Vehicle):\n",
    "    pass\n"
   ]
  },
  {
   "cell_type": "code",
   "execution_count": null,
   "id": "e05a0861-56c8-46d0-9ac3-df258a772b9c",
   "metadata": {},
   "outputs": [],
   "source": [
    "\"has-a\" relationship: This is used to indicate that a class has another class as a part of its implementation."
   ]
  },
  {
   "cell_type": "code",
   "execution_count": 11,
   "id": "30b87bf4-8576-4cdf-9b83-964715ed0d59",
   "metadata": {},
   "outputs": [],
   "source": [
    "class Engine:\n",
    "    pass\n",
    "\n",
    "class Car:\n",
    "    def __init__(self):\n",
    "        self.engine = Engine()\n"
   ]
  },
  {
   "cell_type": "code",
   "execution_count": null,
   "id": "4b2d4a90-4854-448e-870a-b0e38484bc37",
   "metadata": {},
   "outputs": [],
   "source": [
    "20. Create a Python class hierarchy for a university system. Start with a base class `Person` and create child\n",
    "classes `Student` and `Professor`, each with their own attributes and methods. Provide an example of using\n",
    "these classes in a university context."
   ]
  },
  {
   "cell_type": "code",
   "execution_count": 12,
   "id": "e4726652-91dd-4c82-922a-3ab9f614c814",
   "metadata": {},
   "outputs": [
    {
     "name": "stdout",
     "output_type": "stream",
     "text": [
      "Name: Alice, Age: 20\n",
      "Student ID: S12345\n",
      "Name: Dr. Smith, Age: 45\n",
      "Employee ID: P98765\n"
     ]
    }
   ],
   "source": [
    "class Person:\n",
    "    def __init__(self, name, age):\n",
    "        self.name = name\n",
    "        self.age = age\n",
    "\n",
    "    def display_info(self):\n",
    "        print(f\"Name: {self.name}, Age: {self.age}\")\n",
    "\n",
    "class Student(Person):\n",
    "    def __init__(self, name, age, student_id):\n",
    "        super().__init__(name, age)\n",
    "        self.student_id = student_id\n",
    "\n",
    "    def display_info(self):\n",
    "        super().display_info()\n",
    "        print(f\"Student ID: {self.student_id}\")\n",
    "\n",
    "class Professor(Person):\n",
    "    def __init__(self, name, age, employee_id):\n",
    "        super().__init__(name, age)\n",
    "        self.employee_id = employee_id\n",
    "\n",
    "    def display_info(self):\n",
    "        super().display_info()\n",
    "        print(f\"Employee ID: {self.employee_id}\")\n",
    "\n",
    "# Example usage\n",
    "student_obj = Student(\"Alice\", 20, \"S12345\")\n",
    "professor_obj = Professor(\"Dr. Smith\", 45, \"P98765\")\n",
    "\n",
    "student_obj.display_info()\n",
    "professor_obj.display_info()\n"
   ]
  },
  {
   "cell_type": "code",
   "execution_count": null,
   "id": "223fcbbd-0f86-44ae-aec4-4e8e0b170269",
   "metadata": {},
   "outputs": [],
   "source": [
    "Encapsulation:"
   ]
  },
  {
   "cell_type": "code",
   "execution_count": null,
   "id": "87b1e705-a781-4eed-8d68-c1a9150b9d4a",
   "metadata": {},
   "outputs": [],
   "source": [
    "1. Explain the concept of encapsulation in Python. What is its role in object-oriented programming?"
   ]
  },
  {
   "cell_type": "code",
   "execution_count": null,
   "id": "3183191a-5b6d-4d46-a3e1-88c0745792a6",
   "metadata": {
    "tags": []
   },
   "outputs": [],
   "source": [
    "Encapsulation is one of the fundamental concepts of object-oriented programming (OOP). \n",
    "It involves bundling the data (attributes) and the methods (functions) that operate on the data into a single unit called a class."
   ]
  },
  {
   "cell_type": "code",
   "execution_count": null,
   "id": "6952066b-be0d-48ae-af43-6b84803badb2",
   "metadata": {},
   "outputs": [],
   "source": [
    "2. Describe the key principles of encapsulation, including access control and data hiding."
   ]
  },
  {
   "cell_type": "code",
   "execution_count": null,
   "id": "81697939-95b6-4c0c-875e-1aeb1572dbfc",
   "metadata": {},
   "outputs": [],
   "source": [
    "Access control: Encapsulation provides control over the access to the internal components of an object. \n",
    "                This helps in preventing unauthorized access and manipulation of data.\n",
    "\n",
    "Data hiding: Encapsulation hides the implementation details of an object's internal state.\n",
    "             It exposes only the necessary information through well-defined interfaces, protecting the internal data from unintended modifications."
   ]
  },
  {
   "cell_type": "code",
   "execution_count": null,
   "id": "bf8b4142-4033-4524-a82f-44bf4f49f16a",
   "metadata": {},
   "outputs": [],
   "source": [
    "3. How can you achieve encapsulation in Python classes? Provide an example."
   ]
  },
  {
   "cell_type": "code",
   "execution_count": null,
   "id": "064911fe-d3d3-42ef-8fd3-e8fd652c126f",
   "metadata": {},
   "outputs": [],
   "source": [
    "In Python, encapsulation can be achieved by using private attributes and methods, which are designated by a double underscore (__) prefix. "
   ]
  },
  {
   "cell_type": "code",
   "execution_count": 1,
   "id": "78532eac-5a69-4a9c-a6a7-d22b4e5a08d6",
   "metadata": {},
   "outputs": [
    {
     "name": "stdout",
     "output_type": "stream",
     "text": [
      "John\n",
      "Alice\n"
     ]
    }
   ],
   "source": [
    "class Person:\n",
    "    def __init__(self, name):\n",
    "        self.__name = name\n",
    "\n",
    "    def get_name(self):\n",
    "        return self.__name\n",
    "\n",
    "    def set_name(self, new_name):\n",
    "        self.__name = new_name\n",
    "\n",
    "# Example usage\n",
    "person_obj = Person(\"John\")\n",
    "print(person_obj.get_name())  # Output: John\n",
    "\n",
    "# Attempting to access the private attribute directly will result in an AttributeError\n",
    "# person_obj.__name  # Uncommenting this line will raise an AttributeError\n",
    "\n",
    "person_obj.set_name(\"Alice\")\n",
    "print(person_obj.get_name())  # Output: Alice\n"
   ]
  },
  {
   "cell_type": "code",
   "execution_count": null,
   "id": "ac2c2dd5-4752-4dd2-a225-4a715be623c3",
   "metadata": {},
   "outputs": [],
   "source": [
    "4. Discuss the difference between public, private, and protected access modifiers in Python."
   ]
  },
  {
   "cell_type": "code",
   "execution_count": null,
   "id": "a1f57f14-ea85-458b-a6dc-4dab1444d3cc",
   "metadata": {
    "tags": []
   },
   "outputs": [],
   "source": [
    "Public: Members (attributes or methods) declared without any modifier are public by default. They can be accessed from anywhere, both inside and outside the class.\n",
    "\n",
    "Private: Members prefixed with a double underscore (__) are considered private. They are not accessible directly from outside the class.\n",
    "\n",
    "Protected: Members prefixed with a single underscore (_) are considered protected. They are accessible within the class and its subclasses. "
   ]
  },
  {
   "cell_type": "code",
   "execution_count": null,
   "id": "dd60d8bc-8e2c-4823-8d29-05b1f8eb6ccc",
   "metadata": {},
   "outputs": [],
   "source": [
    "5. Create a Python class called `Person` with a private attribute `__name`. Provide methods to get and set the\n",
    "name attribute."
   ]
  },
  {
   "cell_type": "code",
   "execution_count": 2,
   "id": "df4e952e-7ea2-4db6-8206-a98b0937714d",
   "metadata": {},
   "outputs": [
    {
     "name": "stdout",
     "output_type": "stream",
     "text": [
      "John\n",
      "Alice\n"
     ]
    }
   ],
   "source": [
    "class Person:\n",
    "    def __init__(self, name):\n",
    "        self.__name = name\n",
    "\n",
    "    def get_name(self):\n",
    "        return self.__name\n",
    "\n",
    "    def set_name(self, new_name):\n",
    "        self.__name = new_name\n",
    "\n",
    "# Example usage\n",
    "person_obj = Person(\"John\")\n",
    "print(person_obj.get_name())  # Output: John\n",
    "\n",
    "# Attempting to access the private attribute directly will result in an AttributeError\n",
    "# person_obj.__name  # Uncommenting this line will raise an AttributeError\n",
    "\n",
    "person_obj.set_name(\"Alice\")\n",
    "print(person_obj.get_name())  # Output: Alice\n"
   ]
  },
  {
   "cell_type": "code",
   "execution_count": null,
   "id": "da3ef43b-5ff3-4217-adcd-11a3e39e8070",
   "metadata": {},
   "outputs": [],
   "source": [
    "6. Explain the purpose of getter and setter methods in encapsulation. Provide examples."
   ]
  },
  {
   "cell_type": "code",
   "execution_count": null,
   "id": "92053d9b-6801-45f6-92a6-8cb3c0736051",
   "metadata": {},
   "outputs": [],
   "source": [
    "Getter methods: These methods are used to retrieve the values of private attributes. They allow controlled access to the internal state of an object.\n",
    "\n",
    "Setter methods: These methods are used to modify the values of private attributes. They allow controlled modification of the internal state of an object, often including validation logic."
   ]
  },
  {
   "cell_type": "code",
   "execution_count": 3,
   "id": "6f3b8d10-93c7-4f83-bdb4-a3f8ba55a6da",
   "metadata": {},
   "outputs": [
    {
     "name": "stdout",
     "output_type": "stream",
     "text": [
      "10\n",
      "15\n",
      "Width must be greater than 0\n"
     ]
    }
   ],
   "source": [
    "class Rectangle:\n",
    "    def __init__(self, width, height):\n",
    "        self.__width = width\n",
    "        self.__height = height\n",
    "\n",
    "    def get_width(self):\n",
    "        return self.__width\n",
    "\n",
    "    def set_width(self, width):\n",
    "        if width > 0:\n",
    "            self.__width = width\n",
    "        else:\n",
    "            print(\"Width must be greater than 0\")\n",
    "\n",
    "    def get_height(self):\n",
    "        return self.__height\n",
    "\n",
    "    def set_height(self, height):\n",
    "        if height > 0:\n",
    "            self.__height = height\n",
    "        else:\n",
    "            print(\"Height must be greater than 0\")\n",
    "\n",
    "# Example usage\n",
    "rectangle = Rectangle(10, 5)\n",
    "print(rectangle.get_width())  # Output: 10\n",
    "\n",
    "rectangle.set_width(15)\n",
    "print(rectangle.get_width())  # Output: 15\n",
    "\n",
    "rectangle.set_width(-5)  # Output: Width must be greater than 0\n"
   ]
  },
  {
   "cell_type": "code",
   "execution_count": null,
   "id": "e7b32e28-b2c5-483a-9031-2dac371759a9",
   "metadata": {},
   "outputs": [],
   "source": [
    "7. What is name mangling in Python, and how does it affect encapsulation?"
   ]
  },
  {
   "cell_type": "code",
   "execution_count": null,
   "id": "c667e5f3-7a27-4cc0-a2a2-58afad6e54cc",
   "metadata": {},
   "outputs": [],
   "source": [
    "Name mangling is a technique used in Python to make the names of attributes in a class more unique by adding a prefix _classname to them. \n",
    "This is done to avoid naming conflicts in case of multiple inheritance and to provide a form of \"pseudo-privacy.\""
   ]
  },
  {
   "cell_type": "code",
   "execution_count": null,
   "id": "21674efe-fb52-47be-af01-02e601b9d5e8",
   "metadata": {},
   "outputs": [],
   "source": [
    "8. Create a Python class called `BankAccount` with private attributes for the account balance (`__balance`) and account number (`__account_number`). Provide methods for depositing and withdrawing money."
   ]
  },
  {
   "cell_type": "code",
   "execution_count": 4,
   "id": "1b374d44-9cb3-46e3-9d12-509614e90df2",
   "metadata": {},
   "outputs": [
    {
     "name": "stdout",
     "output_type": "stream",
     "text": [
      "Deposited $1000. New balance: $1000\n",
      "Withdrew $500. New balance: $500\n",
      "Invalid withdrawal amount.\n"
     ]
    }
   ],
   "source": [
    "class BankAccount:\n",
    "    def __init__(self, account_number, initial_balance=0):\n",
    "        self.__account_number = account_number\n",
    "        self.__balance = initial_balance\n",
    "\n",
    "    def deposit(self, amount):\n",
    "        if amount > 0:\n",
    "            self.__balance += amount\n",
    "            print(f\"Deposited ${amount}. New balance: ${self.__balance}\")\n",
    "        else:\n",
    "            print(\"Deposit amount must be greater than 0.\")\n",
    "\n",
    "    def withdraw(self, amount):\n",
    "        if amount > 0 and amount <= self.__balance:\n",
    "            self.__balance -= amount\n",
    "            print(f\"Withdrew ${amount}. New balance: ${self.__balance}\")\n",
    "        else:\n",
    "            print(\"Invalid withdrawal amount.\")\n",
    "\n",
    "# Example usage\n",
    "account = BankAccount(\"12345\")\n",
    "account.deposit(1000)   # Output: Deposited $1000. New balance: $1000\n",
    "account.withdraw(500)    # Output: Withdrew $500. New balance: $500\n",
    "account.withdraw(10000)  # Output: Invalid withdrawal amount.\n"
   ]
  },
  {
   "cell_type": "code",
   "execution_count": null,
   "id": "c3d7d2ef-7b4f-42ca-aa62-ea95c702cb9d",
   "metadata": {},
   "outputs": [],
   "source": [
    "9. Discuss the advantages of encapsulation in terms of code maintainability and security."
   ]
  },
  {
   "cell_type": "code",
   "execution_count": null,
   "id": "08cb890b-ad8c-4697-ac87-58b2acc15e18",
   "metadata": {},
   "outputs": [],
   "source": [
    "Code maintainability: Encapsulation improves code organization and readability.\n",
    "By hiding the internal details of an object, changes can be made to the implementation without affecting the external code that uses the object.\n",
    "\n",
    "Security: Encapsulation enhances security by restricting access to internal data.\n",
    "Private attributes and methods cannot be accessed directly from outside the class, reducing the risk of unintended modifications."
   ]
  },
  {
   "cell_type": "code",
   "execution_count": null,
   "id": "37e877b0-4824-4309-aad7-03bd54f08ce9",
   "metadata": {},
   "outputs": [],
   "source": [
    "10. How can you access private attributes in Python? Provide an example demonstrating the use of name\n",
    "mangling."
   ]
  },
  {
   "cell_type": "code",
   "execution_count": null,
   "id": "fba165bb-8f0b-4277-b5b3-ac5681ab8f44",
   "metadata": {},
   "outputs": [],
   "source": [
    "While it is generally not recommended to access private attributes directly, name mangling allows access using the mangled name. "
   ]
  },
  {
   "cell_type": "code",
   "execution_count": 5,
   "id": "a9b8fd51-abac-4c4b-b54d-c1542734e988",
   "metadata": {},
   "outputs": [
    {
     "name": "stdout",
     "output_type": "stream",
     "text": [
      "42\n"
     ]
    }
   ],
   "source": [
    "class MyClass:\n",
    "    def __init__(self):\n",
    "        self.__private_attr = 42\n",
    "\n",
    "obj = MyClass()\n",
    "print(obj._MyClass__private_attr)  # Output: 42\n"
   ]
  },
  {
   "cell_type": "code",
   "execution_count": null,
   "id": "b0ce4322-6404-420a-93b5-55a051f40eb4",
   "metadata": {},
   "outputs": [],
   "source": [
    "11. Create a Python class hierarchy for a school system, including classes for students, teachers, and courses,\n",
    "and implement encapsulation principles to protect sensitive information."
   ]
  },
  {
   "cell_type": "code",
   "execution_count": 1,
   "id": "7636b970-4133-4b24-9752-99aa01689334",
   "metadata": {},
   "outputs": [
    {
     "name": "stdout",
     "output_type": "stream",
     "text": [
      "Name: Alice, Age: 18\n",
      "Student ID: S12345\n",
      "Name: Mr. Smith, Age: 35\n",
      "Employee ID: T98765\n",
      "Course: Math, Code: MATH101\n"
     ]
    }
   ],
   "source": [
    "class Person:\n",
    "    def __init__(self, name, age):\n",
    "        self.__name = name\n",
    "        self.__age = age\n",
    "\n",
    "    def display_info(self):\n",
    "        print(f\"Name: {self.__name}, Age: {self.__age}\")\n",
    "\n",
    "\n",
    "class Student(Person):\n",
    "    def __init__(self, name, age, student_id):\n",
    "        super().__init__(name, age)\n",
    "        self.__student_id = student_id\n",
    "\n",
    "    def display_info(self):\n",
    "        super().display_info()\n",
    "        print(f\"Student ID: {self.__student_id}\")\n",
    "\n",
    "\n",
    "class Teacher(Person):\n",
    "    def __init__(self, name, age, employee_id):\n",
    "        super().__init__(name, age)\n",
    "        self.__employee_id = employee_id\n",
    "\n",
    "    def display_info(self):\n",
    "        super().display_info()\n",
    "        print(f\"Employee ID: {self.__employee_id}\")\n",
    "\n",
    "\n",
    "class Course:\n",
    "    def __init__(self, course_name, course_code):\n",
    "        self.__course_name = course_name\n",
    "        self.__course_code = course_code\n",
    "\n",
    "    def display_info(self):\n",
    "        print(f\"Course: {self.__course_name}, Code: {self.__course_code}\")\n",
    "\n",
    "\n",
    "# Example usage\n",
    "student = Student(\"Alice\", 18, \"S12345\")\n",
    "teacher = Teacher(\"Mr. Smith\", 35, \"T98765\")\n",
    "course = Course(\"Math\", \"MATH101\")\n",
    "\n",
    "student.display_info()\n",
    "teacher.display_info()\n",
    "course.display_info()\n"
   ]
  },
  {
   "cell_type": "code",
   "execution_count": null,
   "id": "221c79be-b92d-4459-8f4e-873524afb810",
   "metadata": {},
   "outputs": [],
   "source": [
    "12. Explain the concept of property decorators in Python and how they relate to encapsulation."
   ]
  },
  {
   "cell_type": "code",
   "execution_count": null,
   "id": "1f6ae4bc-da27-4ac1-934d-3c1dce276038",
   "metadata": {},
   "outputs": [],
   "source": [
    "Property decorators are used to define getter, setter, and deleter methods for a class attribute. \n",
    "They provide a way to encapsulate attribute access and modification, allowing additional logic to be executed when getting or setting a value."
   ]
  },
  {
   "cell_type": "code",
   "execution_count": null,
   "id": "aa8fe1ef-fe97-4454-9f77-8d328837e1c7",
   "metadata": {},
   "outputs": [],
   "source": [
    "13. What is data hiding, and why is it important in encapsulation? Provide examples."
   ]
  },
  {
   "cell_type": "code",
   "execution_count": null,
   "id": "c4ff8a5f-5b3c-42de-b5ce-54ed0f4a6477",
   "metadata": {},
   "outputs": [],
   "source": [
    "Data hiding is the concept of restricting access to certain attributes or methods within a class to prevent unintentional or unauthorized modification.\n",
    "It helps maintain the integrity of the class and reduces the risk of errors."
   ]
  },
  {
   "cell_type": "code",
   "execution_count": 2,
   "id": "10bcdffa-5241-4014-89bb-cdf0938defe6",
   "metadata": {},
   "outputs": [
    {
     "name": "stdout",
     "output_type": "stream",
     "text": [
      "0\n"
     ]
    }
   ],
   "source": [
    "class BankAccount:\n",
    "    def __init__(self, account_number, initial_balance=0):\n",
    "        self.__account_number = account_number\n",
    "        self.__balance = initial_balance\n",
    "\n",
    "    def get_balance(self):\n",
    "        return self.__balance\n",
    "\n",
    "    def deposit(self, amount):\n",
    "        if amount > 0:\n",
    "            self.__balance += amount\n",
    "            print(f\"Deposited ${amount}. New balance: ${self.__balance}\")\n",
    "        else:\n",
    "            print(\"Deposit amount must be greater than 0.\")\n",
    "\n",
    "# Example usage\n",
    "account = BankAccount(\"12345\")\n",
    "print(account.get_balance())  # Output: 0\n"
   ]
  },
  {
   "cell_type": "code",
   "execution_count": null,
   "id": "2d41b9bb-3c44-4b90-91d8-0825b33ab7e2",
   "metadata": {},
   "outputs": [],
   "source": [
    "14. Create a Python class called `Employee` with private attributes for salary (`__salary`) and employee ID (`__employee_id`). Provide a method to calculate yearly bonuses."
   ]
  },
  {
   "cell_type": "code",
   "execution_count": 3,
   "id": "b8a9a670-b292-4c74-b536-c5687b9604e1",
   "metadata": {},
   "outputs": [
    {
     "name": "stdout",
     "output_type": "stream",
     "text": [
      "Yearly Bonus: $5000.0\n"
     ]
    }
   ],
   "source": [
    "class Employee:\n",
    "    def __init__(self, salary, employee_id):\n",
    "        self.__salary = salary\n",
    "        self.__employee_id = employee_id\n",
    "\n",
    "    def calculate_bonus(self, percentage):\n",
    "        bonus = (percentage / 100) * self.__salary\n",
    "        return bonus\n",
    "\n",
    "# Example usage\n",
    "employee = Employee(50000, \"E12345\")\n",
    "bonus = employee.calculate_bonus(10)\n",
    "print(f\"Yearly Bonus: ${bonus}\")\n"
   ]
  },
  {
   "cell_type": "code",
   "execution_count": null,
   "id": "88e2f470-5f11-46c5-ab54-036d6600a048",
   "metadata": {},
   "outputs": [],
   "source": [
    "15. Discuss the use of accessors and mutators in encapsulation. How do they help maintain control over\n",
    "attribute access?"
   ]
  },
  {
   "cell_type": "code",
   "execution_count": null,
   "id": "3650b519-16bb-465c-b99e-3fe97b3c74eb",
   "metadata": {},
   "outputs": [],
   "source": [
    "Accessors: These are methods that provide read access to the private attributes of a class. \n",
    "           They are often prefixed with \"get\" and allow controlled retrieval of attribute values.\n",
    "\n",
    "Mutators: These are methods that provide write access to the private attributes of a class. \n",
    "          They are often prefixed with \"set\" and allow controlled modification of attribute values."
   ]
  },
  {
   "cell_type": "code",
   "execution_count": null,
   "id": "918dbf75-f314-4b7a-a5bf-68237d257ac7",
   "metadata": {},
   "outputs": [],
   "source": [
    "16. What are the potential drawbacks or disadvantages of using encapsulation in Python?\n",
    "17. Create a Python class for a library system that encapsulates book information, including titles, authors,\n",
    "and availability status.\n",
    "18. Explain how encapsulation enhances code reusability and modularity in Python programs.\n",
    "19. Describe the concept of information hiding in encapsulation. Why is it essential in software development?\n",
    "20. Create a Python class called `Customer` with private attributes for customer details like name, address,\n",
    "and contact information. Implement encapsulation to ensure data integrity and security."
   ]
  },
  {
   "cell_type": "code",
   "execution_count": null,
   "id": "82d7202b-b37c-4cc7-b7d7-1c2a077ddea4",
   "metadata": {},
   "outputs": [],
   "source": [
    "Complexity: Excessive encapsulation can make the code more complex and harder to understand, especially for small projects or simple classes.\n",
    "\n",
    "Overhead: The use of getter and setter methods may introduce additional method calls, leading to a slight performance overhead. \n",
    "In performance-critical scenarios, this can be a concern.\n",
    "\n",
    "Flexibility: Strict encapsulation can limit the flexibility of subclasses to access or modify attributes. \n",
    "This can be a disadvantage in certain scenarios where more flexibility is required."
   ]
  },
  {
   "cell_type": "code",
   "execution_count": 4,
   "id": "f6034b2c-a9b1-4990-bfaf-c204bc0944a1",
   "metadata": {},
   "outputs": [
    {
     "name": "stdout",
     "output_type": "stream",
     "text": [
      "True\n",
      "The Catcher in the Rye by J.D. Salinger has been borrowed.\n",
      "False\n",
      "The Catcher in the Rye by J.D. Salinger has been returned.\n",
      "True\n"
     ]
    }
   ],
   "source": [
    "class Book:\n",
    "    def __init__(self, title, author):\n",
    "        self.__title = title\n",
    "        self.__author = author\n",
    "        self.__available = True\n",
    "\n",
    "    def get_title(self):\n",
    "        return self.__title\n",
    "\n",
    "    def get_author(self):\n",
    "        return self.__author\n",
    "\n",
    "    def is_available(self):\n",
    "        return self.__available\n",
    "\n",
    "    def borrow_book(self):\n",
    "        if self.__available:\n",
    "            self.__available = False\n",
    "            print(f\"{self.__title} by {self.__author} has been borrowed.\")\n",
    "        else:\n",
    "            print(\"Sorry, the book is currently not available.\")\n",
    "\n",
    "    def return_book(self):\n",
    "        if not self.__available:\n",
    "            self.__available = True\n",
    "            print(f\"{self.__title} by {self.__author} has been returned.\")\n",
    "        else:\n",
    "            print(\"The book was not borrowed.\")\n",
    "\n",
    "# Example usage\n",
    "book = Book(\"The Catcher in the Rye\", \"J.D. Salinger\")\n",
    "print(book.is_available())  # Output: True\n",
    "\n",
    "book.borrow_book()\n",
    "print(book.is_available())  # Output: False\n",
    "\n",
    "book.return_book()\n",
    "print(book.is_available())  # Output: True\n"
   ]
  },
  {
   "cell_type": "code",
   "execution_count": null,
   "id": "472b435a-2839-4347-acba-a22daf22a392",
   "metadata": {},
   "outputs": [],
   "source": [
    "Code Reusability: Encapsulation promotes the reuse of classes in different parts of a program or even in different projects. \n",
    "By encapsulating functionality within well-defined classes, you can reuse those classes without worrying about the internal implementation details.\n",
    "\n",
    "Modularity: Encapsulation contributes to modularity by allowing you to treat a class as a standalone unit. \n",
    "Each class can be developed, tested, and modified independently without affecting the rest of the codebase. \n",
    "This makes it easier to maintain and update software systems."
   ]
  },
  {
   "cell_type": "code",
   "execution_count": null,
   "id": "09c11100-f2bb-4456-8cbe-a0e5065bdd34",
   "metadata": {},
   "outputs": [],
   "source": [
    "Information Hiding: Information hiding is a key concept in encapsulation that involves restricting access to certain details of an object. \n",
    "\n",
    "Importance in Software Development: Information hiding is crucial for creating robust and maintainable software.\n",
    "It allows developers to change the internal implementation of a class without affecting the external code that uses the class. "
   ]
  },
  {
   "cell_type": "code",
   "execution_count": 5,
   "id": "0e78745f-22b7-4a98-b4a7-4721ce534c76",
   "metadata": {},
   "outputs": [
    {
     "name": "stdout",
     "output_type": "stream",
     "text": [
      "John Doe\n",
      "123 Main St\n",
      "555-1234\n",
      "Contact information updated for John Doe.\n",
      "555-5678\n"
     ]
    }
   ],
   "source": [
    "class Customer:\n",
    "    def __init__(self, name, address, contact_info):\n",
    "        self.__name = name\n",
    "        self.__address = address\n",
    "        self.__contact_info = contact_info\n",
    "\n",
    "    def get_name(self):\n",
    "        return self.__name\n",
    "\n",
    "    def get_address(self):\n",
    "        return self.__address\n",
    "\n",
    "    def get_contact_info(self):\n",
    "        return self.__contact_info\n",
    "\n",
    "    def update_contact_info(self, new_contact_info):\n",
    "        self.__contact_info = new_contact_info\n",
    "        print(f\"Contact information updated for {self.__name}.\")\n",
    "\n",
    "# Example usage\n",
    "customer = Customer(\"John Doe\", \"123 Main St\", \"555-1234\")\n",
    "print(customer.get_name())          # Output: John Doe\n",
    "print(customer.get_address())       # Output: 123 Main St\n",
    "print(customer.get_contact_info())  # Output: 555-1234\n",
    "\n",
    "customer.update_contact_info(\"555-5678\")\n",
    "print(customer.get_contact_info())  # Output: 555-5678\n"
   ]
  },
  {
   "cell_type": "code",
   "execution_count": null,
   "id": "26c2fdfc-2e40-4df8-b1a0-1d8ab49bb669",
   "metadata": {},
   "outputs": [],
   "source": [
    "Polymorphism:"
   ]
  },
  {
   "cell_type": "code",
   "execution_count": null,
   "id": "6b715713-3c29-467e-9d1e-24949c2605a9",
   "metadata": {},
   "outputs": [],
   "source": [
    "1. What is polymorphism in Python? Explain how it is related to object-oriented programming."
   ]
  },
  {
   "cell_type": "code",
   "execution_count": null,
   "id": "d7637759-8e4b-4bfd-9864-84f076cdcda8",
   "metadata": {},
   "outputs": [],
   "source": [
    "Polymorphism is a fundamental concept in object-oriented programming (OOP) that allows objects of different classes to be treated as objects of a common base class. \n",
    "It enables a single interface to represent entities of different types."
   ]
  },
  {
   "cell_type": "code",
   "execution_count": null,
   "id": "e60fec42-eed5-4d88-b0f2-3223571db127",
   "metadata": {},
   "outputs": [],
   "source": [
    "2. Describe the difference between compile-time polymorphism and runtime polymorphism in Python."
   ]
  },
  {
   "cell_type": "code",
   "execution_count": null,
   "id": "41465e15-e44f-41a7-b15e-15668b8f6ff4",
   "metadata": {},
   "outputs": [],
   "source": [
    "Compile-time polymorphism (Method Overloading): This occurs when multiple methods in the same class have the same name but different parameters. \n",
    "The method to be executed is determined at compile-time based on the number and types of arguments.\n",
    "\n",
    "Runtime polymorphism (Method Overriding): This occurs when a method in a subclass has the same name and parameters as a method in its superclass.\n",
    "The decision on which method to execute is made at runtime based on the actual type of the object."
   ]
  },
  {
   "cell_type": "code",
   "execution_count": null,
   "id": "4f64e0d2-1674-4558-a173-88ca7e2ef0d1",
   "metadata": {},
   "outputs": [],
   "source": [
    "3. Create a Python class hierarchy for shapes (e.g., circle, square, triangle) and demonstrate polymorphism\n",
    "through a common method, such as `calculate_area()`."
   ]
  },
  {
   "cell_type": "code",
   "execution_count": 6,
   "id": "2f7bb4fb-09ce-40a5-84c3-5e502b5981c5",
   "metadata": {},
   "outputs": [
    {
     "name": "stdout",
     "output_type": "stream",
     "text": [
      "Area: 78.5\n",
      "Area: 16\n",
      "Area: 9.0\n"
     ]
    }
   ],
   "source": [
    "class Shape:\n",
    "    def calculate_area(self):\n",
    "        pass\n",
    "\n",
    "class Circle(Shape):\n",
    "    def __init__(self, radius):\n",
    "        self.radius = radius\n",
    "\n",
    "    def calculate_area(self):\n",
    "        return 3.14 * self.radius ** 2\n",
    "\n",
    "class Square(Shape):\n",
    "    def __init__(self, side_length):\n",
    "        self.side_length = side_length\n",
    "\n",
    "    def calculate_area(self):\n",
    "        return self.side_length ** 2\n",
    "\n",
    "class Triangle(Shape):\n",
    "    def __init__(self, base, height):\n",
    "        self.base = base\n",
    "        self.height = height\n",
    "\n",
    "    def calculate_area(self):\n",
    "        return 0.5 * self.base * self.height\n",
    "\n",
    "# Example usage\n",
    "circle = Circle(5)\n",
    "square = Square(4)\n",
    "triangle = Triangle(3, 6)\n",
    "\n",
    "shapes = [circle, square, triangle]\n",
    "\n",
    "for shape in shapes:\n",
    "    print(f\"Area: {shape.calculate_area()}\")\n"
   ]
  },
  {
   "cell_type": "code",
   "execution_count": null,
   "id": "332998f7-3b3d-4c72-a43f-fc871a7e7709",
   "metadata": {},
   "outputs": [],
   "source": [
    "4. Explain the concept of method overriding in polymorphism. Provide an example."
   ]
  },
  {
   "cell_type": "code",
   "execution_count": null,
   "id": "41af4ccd-a473-4bab-99c7-cabfec8e1b44",
   "metadata": {},
   "outputs": [],
   "source": [
    "Method overriding occurs when a subclass provides a specific implementation for a method that is already defined in its superclass."
   ]
  },
  {
   "cell_type": "code",
   "execution_count": 7,
   "id": "cc4f502b-4211-4972-9ea2-17e399f8101f",
   "metadata": {},
   "outputs": [
    {
     "name": "stdout",
     "output_type": "stream",
     "text": [
      "Woof!\n",
      "Meow!\n"
     ]
    }
   ],
   "source": [
    "class Animal:\n",
    "    def speak(self):\n",
    "        pass\n",
    "\n",
    "class Dog(Animal):\n",
    "    def speak(self):\n",
    "        return \"Woof!\"\n",
    "\n",
    "class Cat(Animal):\n",
    "    def speak(self):\n",
    "        return \"Meow!\"\n",
    "\n",
    "# Example usage\n",
    "dog = Dog()\n",
    "cat = Cat()\n",
    "\n",
    "print(dog.speak())  # Output: Woof!\n",
    "print(cat.speak())  # Output: Meow!\n"
   ]
  },
  {
   "cell_type": "code",
   "execution_count": null,
   "id": "019ac589-115a-4c76-bb66-6a1fe4c9818b",
   "metadata": {},
   "outputs": [],
   "source": [
    "5. How is polymorphism different from method overloading in Python? Provide examples for both."
   ]
  },
  {
   "cell_type": "code",
   "execution_count": null,
   "id": "abaa7567-640c-4882-9c97-ed8145132276",
   "metadata": {},
   "outputs": [],
   "source": [
    "Polymorphism: In polymorphism, a single method name is used to represent multiple methods in different classes.\n",
    "\n",
    "Method Overloading: Method overloading involves defining multiple methods in the same class with the same name but different parameters."
   ]
  },
  {
   "cell_type": "code",
   "execution_count": 8,
   "id": "a8d2567a-e309-44ff-a77c-d8faf958434b",
   "metadata": {},
   "outputs": [
    {
     "name": "stdout",
     "output_type": "stream",
     "text": [
      "Woof!\n",
      "Meow!\n"
     ]
    },
    {
     "ename": "TypeError",
     "evalue": "Calculator.add() missing 1 required positional argument: 'c'",
     "output_type": "error",
     "traceback": [
      "\u001b[0;31m---------------------------------------------------------------------------\u001b[0m",
      "\u001b[0;31mTypeError\u001b[0m                                 Traceback (most recent call last)",
      "Cell \u001b[0;32mIn[8], line 32\u001b[0m\n\u001b[1;32m     29\u001b[0m \u001b[38;5;66;03m# Example usage\u001b[39;00m\n\u001b[1;32m     30\u001b[0m calculator \u001b[38;5;241m=\u001b[39m Calculator()\n\u001b[0;32m---> 32\u001b[0m \u001b[38;5;28mprint\u001b[39m(\u001b[43mcalculator\u001b[49m\u001b[38;5;241;43m.\u001b[39;49m\u001b[43madd\u001b[49m\u001b[43m(\u001b[49m\u001b[38;5;241;43m1\u001b[39;49m\u001b[43m,\u001b[49m\u001b[43m \u001b[49m\u001b[38;5;241;43m2\u001b[39;49m\u001b[43m)\u001b[49m)      \u001b[38;5;66;03m# Compile-time error\u001b[39;00m\n\u001b[1;32m     33\u001b[0m \u001b[38;5;28mprint\u001b[39m(calculator\u001b[38;5;241m.\u001b[39madd(\u001b[38;5;241m1\u001b[39m, \u001b[38;5;241m2\u001b[39m, \u001b[38;5;241m3\u001b[39m))   \u001b[38;5;66;03m# Output: 6\u001b[39;00m\n",
      "\u001b[0;31mTypeError\u001b[0m: Calculator.add() missing 1 required positional argument: 'c'"
     ]
    }
   ],
   "source": [
    "# Polymophism:\n",
    "class Animal:\n",
    "    def speak(self):\n",
    "        pass\n",
    "\n",
    "class Dog(Animal):\n",
    "    def speak(self):\n",
    "        return \"Woof!\"\n",
    "\n",
    "class Cat(Animal):\n",
    "    def speak(self):\n",
    "        return \"Meow!\"\n",
    "\n",
    "# Example usage\n",
    "dog = Dog()\n",
    "cat = Cat()\n",
    "\n",
    "print(dog.speak())  # Output: Woof!\n",
    "print(cat.speak())  # Output: Meow!\n",
    "\n",
    "#Method Overloading:\n",
    "class Calculator:\n",
    "    def add(self, a, b):\n",
    "        return a + b\n",
    "\n",
    "    def add(self, a, b, c):\n",
    "        return a + b + c\n",
    "\n",
    "# Example usage\n",
    "calculator = Calculator()\n",
    "\n",
    "print(calculator.add(1, 2))      # Compile-time error\n",
    "print(calculator.add(1, 2, 3))   # Output: 6\n"
   ]
  },
  {
   "cell_type": "code",
   "execution_count": null,
   "id": "cedd12c5-6508-4464-bdc3-f21b469cfc6d",
   "metadata": {},
   "outputs": [],
   "source": [
    "6. Create a Python class called `Animal` with a method `speak()`. Then, create child classes like `Dog`, `Cat`, and `Bird`, each with their own `speak()` method. Demonstrate polymorphism by calling the `speak()` method\n",
    "on objects of different subclasses."
   ]
  },
  {
   "cell_type": "code",
   "execution_count": 9,
   "id": "4b341cd3-7b61-43ef-894c-5ba45142b47a",
   "metadata": {},
   "outputs": [
    {
     "name": "stdout",
     "output_type": "stream",
     "text": [
      "Woof!\n",
      "Meow!\n",
      "Chirp!\n"
     ]
    }
   ],
   "source": [
    "class Animal:\n",
    "    def speak(self):\n",
    "        pass\n",
    "\n",
    "class Dog(Animal):\n",
    "    def speak(self):\n",
    "        return \"Woof!\"\n",
    "\n",
    "class Cat(Animal):\n",
    "    def speak(self):\n",
    "        return \"Meow!\"\n",
    "\n",
    "class Bird(Animal):\n",
    "    def speak(self):\n",
    "        return \"Chirp!\"\n",
    "\n",
    "# Example usage\n",
    "dog = Dog()\n",
    "cat = Cat()\n",
    "bird = Bird()\n",
    "\n",
    "animals = [dog, cat, bird]\n",
    "\n",
    "for animal in animals:\n",
    "    print(animal.speak())\n"
   ]
  },
  {
   "cell_type": "code",
   "execution_count": null,
   "id": "6eb76958-5105-4ac4-a7a8-d072fcc11ce4",
   "metadata": {},
   "outputs": [],
   "source": [
    "7. Discuss the use of abstract methods and classes in achieving polymorphism in Python. Provide an example\n",
    "using the `abc` module."
   ]
  },
  {
   "cell_type": "code",
   "execution_count": 10,
   "id": "908fce64-f2f6-41b8-a328-84fd1ac1e901",
   "metadata": {},
   "outputs": [
    {
     "name": "stdout",
     "output_type": "stream",
     "text": [
      "Area: 78.5\n",
      "Area: 16\n"
     ]
    }
   ],
   "source": [
    "from abc import ABC, abstractmethod\n",
    "\n",
    "class Shape(ABC):\n",
    "    @abstractmethod\n",
    "    def calculate_area(self):\n",
    "        pass\n",
    "\n",
    "class Circle(Shape):\n",
    "    def __init__(self, radius):\n",
    "        self.radius = radius\n",
    "\n",
    "    def calculate_area(self):\n",
    "        return 3.14 * self.radius ** 2\n",
    "\n",
    "class Square(Shape):\n",
    "    def __init__(self, side_length):\n",
    "        self.side_length = side_length\n",
    "\n",
    "    def calculate_area(self):\n",
    "        return self.side_length ** 2\n",
    "\n",
    "# Example usage\n",
    "circle = Circle(5)\n",
    "square = Square(4)\n",
    "\n",
    "shapes = [circle, square]\n",
    "\n",
    "for shape in shapes:\n",
    "    print(f\"Area: {shape.calculate_area()}\")\n"
   ]
  },
  {
   "cell_type": "code",
   "execution_count": null,
   "id": "50745c67-5580-41ed-a88b-ad6f9db1afca",
   "metadata": {},
   "outputs": [],
   "source": [
    "8. Create a Python class hierarchy for a vehicle system (e.g., car, bicycle, boat) and implement a polymorphic `start()` method that prints a message specific to each vehicle type."
   ]
  },
  {
   "cell_type": "code",
   "execution_count": 11,
   "id": "f4753de9-9ab2-4ca9-bec0-d5d74975919a",
   "metadata": {},
   "outputs": [
    {
     "name": "stdout",
     "output_type": "stream",
     "text": [
      "Car engine started.\n",
      "Pedaling the bicycle.\n",
      "Starting the boat engine.\n"
     ]
    }
   ],
   "source": [
    "class Vehicle:\n",
    "    def start(self):\n",
    "        pass\n",
    "\n",
    "class Car(Vehicle):\n",
    "    def start(self):\n",
    "        return \"Car engine started.\"\n",
    "\n",
    "class Bicycle(Vehicle):\n",
    "    def start(self):\n",
    "        return \"Pedaling the bicycle.\"\n",
    "\n",
    "class Boat(Vehicle):\n",
    "    def start(self):\n",
    "        return \"Starting the boat engine.\"\n",
    "\n",
    "# Example usage\n",
    "car = Car()\n",
    "bicycle = Bicycle()\n",
    "boat = Boat()\n",
    "\n",
    "vehicles = [car, bicycle, boat]\n",
    "\n",
    "for vehicle in vehicles:\n",
    "    print(vehicle.start())\n"
   ]
  },
  {
   "cell_type": "code",
   "execution_count": null,
   "id": "96aa77c5-cb4c-4fc9-8e2b-8aa3afe7b1f0",
   "metadata": {},
   "outputs": [],
   "source": [
    "9. Explain the significance of the `isinstance()` and `issubclass()` functions in Python polymorphism."
   ]
  },
  {
   "cell_type": "code",
   "execution_count": null,
   "id": "53799e5e-98a6-4bd5-97f6-f5e723de8e87",
   "metadata": {},
   "outputs": [],
   "source": [
    "isinstance() function: It is used to check if an object is an instance of a particular class or a tuple of classes. \n",
    "It is valuable in determining the type of an object dynamically.\n",
    "\n",
    "issubclass() function: It checks if a class is a subclass of another class. It helps in checking the inheritance relationship between classes."
   ]
  },
  {
   "cell_type": "code",
   "execution_count": null,
   "id": "865048c1-0c57-41d1-ae6a-185d12a3a2aa",
   "metadata": {},
   "outputs": [],
   "source": [
    "10. What is the role of the `@abstractmethod` decorator in achieving polymorphism in Python? Provide an\n",
    "example."
   ]
  },
  {
   "cell_type": "code",
   "execution_count": null,
   "id": "32cc9828-87fc-4fb7-a050-560c818aaf42",
   "metadata": {},
   "outputs": [],
   "source": [
    "The @abstractmethod decorator is used to declare abstract methods within an abstract class. "
   ]
  },
  {
   "cell_type": "code",
   "execution_count": 12,
   "id": "859af98d-d148-4fa7-bedf-24c97ac8115d",
   "metadata": {},
   "outputs": [
    {
     "name": "stdout",
     "output_type": "stream",
     "text": [
      "78.5\n"
     ]
    }
   ],
   "source": [
    "from abc import ABC, abstractmethod\n",
    "\n",
    "class Shape(ABC):\n",
    "    @abstractmethod\n",
    "    def calculate_area(self):\n",
    "        pass\n",
    "\n",
    "class Circle(Shape):\n",
    "    def __init__(self, radius):\n",
    "        self.radius = radius\n",
    "\n",
    "    def calculate_area(self):\n",
    "        return 3.14 * self.radius ** 2\n",
    "\n",
    "# Example usage\n",
    "circle = Circle(5)\n",
    "print(circle.calculate_area())  # Output: 78.5\n"
   ]
  },
  {
   "cell_type": "code",
   "execution_count": null,
   "id": "6f02d85a-8ece-4285-969c-a2e5c5b50b6e",
   "metadata": {},
   "outputs": [],
   "source": [
    "11. Create a Python class called `Shape` with a polymorphic method `area()` that calculates the area of different shapes (e.g., circle, rectangle, triangle)."
   ]
  },
  {
   "cell_type": "code",
   "execution_count": 13,
   "id": "5aa9e480-9466-4c6c-bc2e-fe9304b8cdb0",
   "metadata": {},
   "outputs": [
    {
     "name": "stdout",
     "output_type": "stream",
     "text": [
      "Area: 78.5\n",
      "Area: 24\n",
      "Area: 12.0\n"
     ]
    }
   ],
   "source": [
    "class Shape:\n",
    "    def area(self):\n",
    "        pass\n",
    "\n",
    "class Circle(Shape):\n",
    "    def __init__(self, radius):\n",
    "        self.radius = radius\n",
    "\n",
    "    def area(self):\n",
    "        return 3.14 * self.radius ** 2\n",
    "\n",
    "class Rectangle(Shape):\n",
    "    def __init__(self, length, width):\n",
    "        self.length = length\n",
    "        self.width = width\n",
    "\n",
    "    def area(self):\n",
    "        return self.length * self.width\n",
    "\n",
    "class Triangle(Shape):\n",
    "    def __init__(self, base, height):\n",
    "        self.base = base\n",
    "        self.height = height\n",
    "\n",
    "    def area(self):\n",
    "        return 0.5 * self.base * self.height\n",
    "\n",
    "# Example usage\n",
    "circle = Circle(5)\n",
    "rectangle = Rectangle(4, 6)\n",
    "triangle = Triangle(3, 8)\n",
    "\n",
    "shapes = [circle, rectangle, triangle]\n",
    "\n",
    "for shape in shapes:\n",
    "    print(f\"Area: {shape.area()}\")\n"
   ]
  },
  {
   "cell_type": "code",
   "execution_count": null,
   "id": "8eec771f-bc5e-4ac5-b674-145034f17b55",
   "metadata": {},
   "outputs": [],
   "source": [
    "12. Discuss the benefits of polymorphism in terms of code reusability and flexibility in Python programs."
   ]
  },
  {
   "cell_type": "code",
   "execution_count": null,
   "id": "77096cc5-a552-4355-a236-0e3146201713",
   "metadata": {},
   "outputs": [],
   "source": [
    "Code Reusability: Polymorphism enables the use of a common interface for objects of different types. \n",
    "This promotes code reusability by allowing the same code to work with different classes that share a common base.\n",
    "\n",
    "Flexibility: Polymorphism allows for more flexible and extensible code.\n",
    "New classes can be added without modifying existing code as long as they adhere to the common interface.\n",
    "This makes the code more adaptable to changes and additions."
   ]
  },
  {
   "cell_type": "code",
   "execution_count": null,
   "id": "d74d59c4-9c57-478e-9654-baddcde34efd",
   "metadata": {},
   "outputs": [],
   "source": [
    "13. Explain the use of the `super()` function in Python polymorphism. How does it help call methods of parent\n",
    "classes?"
   ]
  },
  {
   "cell_type": "code",
   "execution_count": null,
   "id": "212630d1-0d0f-4abb-9832-36f47c16cd5a",
   "metadata": {},
   "outputs": [],
   "source": [
    "The super() function is used to call methods from a parent class within a subclass. "
   ]
  },
  {
   "cell_type": "code",
   "execution_count": 14,
   "id": "e8a16a3f-9620-4d0f-9725-b85475411672",
   "metadata": {},
   "outputs": [
    {
     "name": "stdout",
     "output_type": "stream",
     "text": [
      "Generic animal sound. Woof!\n"
     ]
    }
   ],
   "source": [
    "class Animal:\n",
    "    def speak(self):\n",
    "        return \"Generic animal sound.\"\n",
    "\n",
    "class Dog(Animal):\n",
    "    def speak(self):\n",
    "        return super().speak() + \" Woof!\"\n",
    "\n",
    "# Example usage\n",
    "dog = Dog()\n",
    "print(dog.speak())  # Output: Generic animal sound. Woof!\n"
   ]
  },
  {
   "cell_type": "code",
   "execution_count": null,
   "id": "260fac19-6490-478b-bcd5-1c7f4671d1d2",
   "metadata": {},
   "outputs": [],
   "source": [
    "14. Create a Python class hierarchy for a banking system with various account types (e.g., savings, checking, credit card) and demonstrate polymorphism by implementing a common `withdraw()` method."
   ]
  },
  {
   "cell_type": "code",
   "execution_count": 15,
   "id": "20e8ff79-b076-42ab-ae0d-3bb607999d08",
   "metadata": {},
   "outputs": [
    {
     "name": "stdout",
     "output_type": "stream",
     "text": [
      "Withdrawing $100 from savings account.\n",
      "Withdrawing $100 from checking account.\n",
      "Withdrawing $100 from credit card account.\n"
     ]
    }
   ],
   "source": [
    "class Account:\n",
    "    def withdraw(self, amount):\n",
    "        pass\n",
    "\n",
    "class SavingsAccount(Account):\n",
    "    def withdraw(self, amount):\n",
    "        return f\"Withdrawing ${amount} from savings account.\"\n",
    "\n",
    "class CheckingAccount(Account):\n",
    "    def withdraw(self, amount):\n",
    "        return f\"Withdrawing ${amount} from checking account.\"\n",
    "\n",
    "class CreditCardAccount(Account):\n",
    "    def withdraw(self, amount):\n",
    "        return f\"Withdrawing ${amount} from credit card account.\"\n",
    "\n",
    "# Example usage\n",
    "savings_account = SavingsAccount()\n",
    "checking_account = CheckingAccount()\n",
    "credit_card_account = CreditCardAccount()\n",
    "\n",
    "accounts = [savings_account, checking_account, credit_card_account]\n",
    "\n",
    "for account in accounts:\n",
    "    print(account.withdraw(100))\n"
   ]
  },
  {
   "cell_type": "code",
   "execution_count": null,
   "id": "ca10c850-5196-4c07-aa59-9aec6a74045b",
   "metadata": {},
   "outputs": [],
   "source": [
    "15. Describe the concept of operator overloading in Python and how it relates to polymorphism. Provide\n",
    "examples using operators like `+` and `*`."
   ]
  },
  {
   "cell_type": "code",
   "execution_count": null,
   "id": "c5765be2-71ea-4f50-992f-76905143c0ea",
   "metadata": {},
   "outputs": [],
   "source": [
    "Operator overloading allows operators to be used with user-defined objects.\n",
    "It is related to polymorphism because it enables different classes to define their behavior for the same operator, leading to polymorphic behavior."
   ]
  },
  {
   "cell_type": "code",
   "execution_count": 16,
   "id": "263ede5e-cc3a-4f7b-9776-a7902b8a9cb7",
   "metadata": {},
   "outputs": [
    {
     "name": "stdout",
     "output_type": "stream",
     "text": [
      "(4, 6)\n",
      "(2, 4)\n"
     ]
    }
   ],
   "source": [
    "class Vector:\n",
    "    def __init__(self, x, y):\n",
    "        self.x = x\n",
    "        self.y = y\n",
    "\n",
    "    def __add__(self, other):\n",
    "        return Vector(self.x + other.x, self.y + other.y)\n",
    "\n",
    "    def __mul__(self, scalar):\n",
    "        return Vector(self.x * scalar, self.y * scalar)\n",
    "\n",
    "    def __str__(self):\n",
    "        return f\"({self.x}, {self.y})\"\n",
    "\n",
    "# Example usage\n",
    "v1 = Vector(1, 2)\n",
    "v2 = Vector(3, 4)\n",
    "\n",
    "result_addition = v1 + v2\n",
    "result_multiplication = v1 * 2\n",
    "\n",
    "print(result_addition)        # Output: (4, 6)\n",
    "print(result_multiplication)  # Output: (2, 4)\n"
   ]
  },
  {
   "cell_type": "code",
   "execution_count": null,
   "id": "c5dfd1d6-8324-45be-8c54-5d1ae78f2d36",
   "metadata": {},
   "outputs": [],
   "source": [
    "16. What is dynamic polymorphism, and how is it achieved in Python?"
   ]
  },
  {
   "cell_type": "code",
   "execution_count": null,
   "id": "ab93904c-d4de-473c-94d3-c706d7705514",
   "metadata": {},
   "outputs": [],
   "source": [
    "Dynamic polymorphism, also known as runtime polymorphism, is a type of polymorphism where the method that needs to be executed is determined at runtime.\n",
    "In Python, dynamic polymorphism is achieved through method overriding, where a subclass provides a specific implementation of a method that is already defined in its superclass. "
   ]
  },
  {
   "cell_type": "code",
   "execution_count": null,
   "id": "a369a678-79ad-4732-a4d7-dd39744efd35",
   "metadata": {},
   "outputs": [],
   "source": [
    "17. Create a Python class hierarchy for employees in a company (e.g., manager, developer, designer) and implement polymorphism through a common `calculate_salary()` method."
   ]
  },
  {
   "cell_type": "code",
   "execution_count": 17,
   "id": "44057d21-335a-40a4-9299-165ba9822543",
   "metadata": {},
   "outputs": [
    {
     "name": "stdout",
     "output_type": "stream",
     "text": [
      "John Doe's salary: $80000\n",
      "Jane Smith's salary: $60000\n",
      "Bob Johnson's salary: $70000\n"
     ]
    }
   ],
   "source": [
    "class Employee:\n",
    "    def __init__(self, name, role):\n",
    "        self.name = name\n",
    "        self.role = role\n",
    "\n",
    "    def calculate_salary(self):\n",
    "        pass\n",
    "\n",
    "class Manager(Employee):\n",
    "    def calculate_salary(self):\n",
    "        return 80000  # Example salary for a manager\n",
    "\n",
    "class Developer(Employee):\n",
    "    def calculate_salary(self):\n",
    "        return 60000  # Example salary for a developer\n",
    "\n",
    "class Designer(Employee):\n",
    "    def calculate_salary(self):\n",
    "        return 70000  # Example salary for a designer\n",
    "\n",
    "# Example usage\n",
    "manager = Manager(\"John Doe\", \"Manager\")\n",
    "developer = Developer(\"Jane Smith\", \"Developer\")\n",
    "designer = Designer(\"Bob Johnson\", \"Designer\")\n",
    "\n",
    "employees = [manager, developer, designer]\n",
    "\n",
    "for employee in employees:\n",
    "    print(f\"{employee.name}'s salary: ${employee.calculate_salary()}\")\n"
   ]
  },
  {
   "cell_type": "code",
   "execution_count": null,
   "id": "6f816fc1-ce2f-429e-a293-05260f45510f",
   "metadata": {},
   "outputs": [],
   "source": [
    "18. Discuss the concept of function pointers and how they can be used to achieve polymorphism in Python."
   ]
  },
  {
   "cell_type": "code",
   "execution_count": null,
   "id": "edbdb748-66b4-4942-97c4-052d99a1d76d",
   "metadata": {},
   "outputs": [],
   "source": [
    "In Python, the concept of function pointers is not explicitly used as in some other languages.\n",
    "However, the idea can be achieved using higher-order functions and passing functions as arguments."
   ]
  },
  {
   "cell_type": "code",
   "execution_count": 18,
   "id": "6e47bf2c-ee70-435a-a4db-e1b6d9b841bf",
   "metadata": {},
   "outputs": [
    {
     "name": "stdout",
     "output_type": "stream",
     "text": [
      "7\n",
      "12\n"
     ]
    }
   ],
   "source": [
    "def add(a, b):\n",
    "    return a + b\n",
    "\n",
    "def multiply(a, b):\n",
    "    return a * b\n",
    "\n",
    "def operate(func, a, b):\n",
    "    return func(a, b)\n",
    "\n",
    "# Example usage\n",
    "result_addition = operate(add, 3, 4)\n",
    "result_multiplication = operate(multiply, 3, 4)\n",
    "\n",
    "print(result_addition)        # Output: 7\n",
    "print(result_multiplication)  # Output: 12\n"
   ]
  },
  {
   "cell_type": "code",
   "execution_count": null,
   "id": "e7750904-e6e5-4671-b2de-3fd1094a43a0",
   "metadata": {},
   "outputs": [],
   "source": [
    "19. Explain the role of interfaces and abstract classes in polymorphism, drawing comparisons between them."
   ]
  },
  {
   "cell_type": "code",
   "execution_count": null,
   "id": "e82f7e7e-0228-480a-8882-e00264f423b4",
   "metadata": {},
   "outputs": [],
   "source": [
    "Interfaces: In Python, interfaces are not explicitly defined, but the concept is achieved through classes with methods that must be implemented by subclasses.\n",
    "An interface defines a contract that classes must adhere to.\n",
    "\n",
    "Abstract Classes: Abstract classes in Python can have both abstract methods (methods without implementation) and concrete methods. \n",
    "`Subclasses must implement abstract methods, providing a form of polymorphism."
   ]
  },
  {
   "cell_type": "code",
   "execution_count": null,
   "id": "c826c8eb-a107-459c-a54f-ca16fc727b74",
   "metadata": {},
   "outputs": [],
   "source": [
    "20. Create a Python class for a zoo simulation, demonstrating polymorphism with different animal types (e.g.,"
   ]
  },
  {
   "cell_type": "code",
   "execution_count": 19,
   "id": "e18c37cc-952d-44ae-898f-216e69e0345b",
   "metadata": {},
   "outputs": [
    {
     "name": "stdout",
     "output_type": "stream",
     "text": [
      "Roar!\n",
      "Trumpet!\n",
      "Honk!\n"
     ]
    }
   ],
   "source": [
    "class Animal:\n",
    "    def speak(self):\n",
    "        pass\n",
    "\n",
    "class Lion(Animal):\n",
    "    def speak(self):\n",
    "        return \"Roar!\"\n",
    "\n",
    "class Elephant(Animal):\n",
    "    def speak(self):\n",
    "        return \"Trumpet!\"\n",
    "\n",
    "class Penguin(Animal):\n",
    "    def speak(self):\n",
    "        return \"Honk!\"\n",
    "\n",
    "# Example usage\n",
    "lion = Lion()\n",
    "elephant = Elephant()\n",
    "penguin = Penguin()\n",
    "\n",
    "zoo_animals = [lion, elephant, penguin]\n",
    "\n",
    "for animal in zoo_animals:\n",
    "    print(animal.speak())\n"
   ]
  },
  {
   "cell_type": "code",
   "execution_count": null,
   "id": "243e942f-ae0c-4bfe-8e6d-e5d1da1f9cc1",
   "metadata": {},
   "outputs": [],
   "source": [
    "Abstraction:"
   ]
  },
  {
   "cell_type": "code",
   "execution_count": null,
   "id": "4c7f2f97-bff0-4522-aaad-9b61400a6975",
   "metadata": {},
   "outputs": [],
   "source": [
    "1. What is abstraction in Python, and how does it relate to object-oriented programming?"
   ]
  },
  {
   "cell_type": "code",
   "execution_count": null,
   "id": "8c28752e-6a8f-4cf7-92ea-d78781f01a9d",
   "metadata": {},
   "outputs": [],
   "source": [
    "Abstraction is a fundamental concept in object-oriented programming (OOP) that involves simplifying complex systems by modeling classes based on essential features and ignoring unnecessary details."
   ]
  },
  {
   "cell_type": "code",
   "execution_count": null,
   "id": "2ede28bd-be80-4597-84f8-6934a4bbf770",
   "metadata": {},
   "outputs": [],
   "source": [
    "2. Describe the benefits of abstraction in terms of code organization and complexity reduction."
   ]
  },
  {
   "cell_type": "code",
   "execution_count": null,
   "id": "231e7d0d-8694-4170-b4a8-05c25a3f5551",
   "metadata": {},
   "outputs": [],
   "source": [
    "Code Organization: Abstraction promotes a modular and organized code structure by allowing the separation of concerns.\n",
    "Abstract classes define a common interface and provide a clear structure for subclasses to follow.\n",
    "\n",
    "Complexity Reduction: Abstraction helps in managing complexity by hiding unnecessary details and exposing only essential features. \n",
    "This makes the code more understandable and maintainable."
   ]
  },
  {
   "cell_type": "code",
   "execution_count": null,
   "id": "0fb6b32f-c013-4600-af3e-5ddbe8914715",
   "metadata": {},
   "outputs": [],
   "source": [
    "3. Create a Python class called `Shape` with an abstract method `calculate_area()`. Then, create child classes (e.g., `Circle`, `Rectangle`) that implement the `calculate_area()` method. Provide an example of\n",
    "using these classes."
   ]
  },
  {
   "cell_type": "code",
   "execution_count": 20,
   "id": "2a310ed1-c72f-4b98-ad13-edf7f74468f1",
   "metadata": {},
   "outputs": [
    {
     "name": "stdout",
     "output_type": "stream",
     "text": [
      "Area: 78.5\n",
      "Area: 24\n"
     ]
    }
   ],
   "source": [
    "from abc import ABC, abstractmethod\n",
    "\n",
    "class Shape(ABC):\n",
    "    @abstractmethod\n",
    "    def calculate_area(self):\n",
    "        pass\n",
    "\n",
    "class Circle(Shape):\n",
    "    def __init__(self, radius):\n",
    "        self.radius = radius\n",
    "\n",
    "    def calculate_area(self):\n",
    "        return 3.14 * self.radius ** 2\n",
    "\n",
    "class Rectangle(Shape):\n",
    "    def __init__(self, length, width):\n",
    "        self.length = length\n",
    "        self.width = width\n",
    "\n",
    "    def calculate_area(self):\n",
    "        return self.length * self.width\n",
    "\n",
    "# Example usage\n",
    "circle = Circle(5)\n",
    "rectangle = Rectangle(4, 6)\n",
    "\n",
    "shapes = [circle, rectangle]\n",
    "\n",
    "for shape in shapes:\n",
    "    print(f\"Area: {shape.calculate_area()}\")\n"
   ]
  },
  {
   "cell_type": "code",
   "execution_count": null,
   "id": "824c9383-a449-488c-8c88-733fd6c9fb10",
   "metadata": {},
   "outputs": [],
   "source": [
    "4. Explain the concept of abstract classes in Python and how they are defined using the `abc` module. Provide\n",
    "an example."
   ]
  },
  {
   "cell_type": "code",
   "execution_count": null,
   "id": "53a8f32b-1181-46aa-b5d0-353b2f277d73",
   "metadata": {},
   "outputs": [],
   "source": [
    "The abc module in Python provides the ABC (Abstract Base Class) and abstractmethod decorator for defining abstract classes and methods."
   ]
  },
  {
   "cell_type": "code",
   "execution_count": 21,
   "id": "aed2c123-587d-4006-b0c8-de167a79a58a",
   "metadata": {},
   "outputs": [],
   "source": [
    "from abc import ABC, abstractmethod\n",
    "\n",
    "class MyAbstractClass(ABC):\n",
    "    @abstractmethod\n",
    "    def my_abstract_method(self):\n",
    "        pass\n"
   ]
  },
  {
   "cell_type": "code",
   "execution_count": null,
   "id": "a3829e5f-b6b1-43f5-aefd-1850db7ba501",
   "metadata": {},
   "outputs": [],
   "source": [
    "5. How do abstract classes differ from regular classes in Python? Discuss their use cases."
   ]
  },
  {
   "cell_type": "code",
   "execution_count": null,
   "id": "1f5bce38-47b8-4b60-beb6-bd49e68e794a",
   "metadata": {},
   "outputs": [],
   "source": [
    "Instantiation: Abstract classes cannot be instantiated, meaning you cannot create objects directly from them. \n",
    "They serve as blueprints for other classes.\n",
    "\n",
    "Abstract Methods: Abstract classes may contain abstract methods (methods without implementation) that must be implemented by any concrete (non-abstract) subclasses.\n",
    "\n",
    "Inheritance: Abstract classes are meant to be inherited by other classes. Regular classes can be instantiated without the need for inheritance."
   ]
  },
  {
   "cell_type": "code",
   "execution_count": null,
   "id": "27c69edf-9dca-4adf-8408-9ecdaffb4b57",
   "metadata": {},
   "outputs": [],
   "source": [
    "6. Create a Python class for a bank account and demonstrate abstraction by hiding the account balance and\n",
    "providing methods to deposit and withdraw funds."
   ]
  },
  {
   "cell_type": "code",
   "execution_count": 22,
   "id": "eb251fbb-18d1-4aa3-aa10-2588f15d6673",
   "metadata": {},
   "outputs": [
    {
     "name": "stdout",
     "output_type": "stream",
     "text": [
      "Balance: $1000\n",
      "Balance after withdrawal: $500\n"
     ]
    }
   ],
   "source": [
    "from abc import ABC, abstractmethod\n",
    "\n",
    "class BankAccount(ABC):\n",
    "    def __init__(self):\n",
    "        self._balance = 0  # Balance is hidden (encapsulation)\n",
    "\n",
    "    @abstractmethod\n",
    "    def deposit(self, amount):\n",
    "        pass\n",
    "\n",
    "    @abstractmethod\n",
    "    def withdraw(self, amount):\n",
    "        pass\n",
    "\n",
    "    def get_balance(self):\n",
    "        return self._balance\n",
    "\n",
    "class SavingsAccount(BankAccount):\n",
    "    def deposit(self, amount):\n",
    "        self._balance += amount\n",
    "\n",
    "    def withdraw(self, amount):\n",
    "        if self._balance >= amount:\n",
    "            self._balance -= amount\n",
    "        else:\n",
    "            print(\"Insufficient funds.\")\n",
    "\n",
    "# Example usage\n",
    "savings_account = SavingsAccount()\n",
    "savings_account.deposit(1000)\n",
    "print(f\"Balance: ${savings_account.get_balance()}\")\n",
    "\n",
    "savings_account.withdraw(500)\n",
    "print(f\"Balance after withdrawal: ${savings_account.get_balance()}\")\n"
   ]
  },
  {
   "cell_type": "code",
   "execution_count": null,
   "id": "51d5de9e-09cd-423d-927e-d34e0d88501f",
   "metadata": {},
   "outputs": [],
   "source": [
    "7. Discuss the concept of interface classes in Python and their role in achieving abstraction."
   ]
  },
  {
   "cell_type": "code",
   "execution_count": null,
   "id": "1c86d8a6-2fb4-495a-ba0a-83d77c601185",
   "metadata": {},
   "outputs": [],
   "source": [
    "Interface classes in Python are classes that define a set of methods that must be implemented by any concrete class that inherits from them.\n",
    "While Python does not have a distinct syntax for interfaces, the concept is achieved through abstract classes with abstract methods."
   ]
  },
  {
   "cell_type": "code",
   "execution_count": null,
   "id": "380ee402-b13a-438c-907a-55442260c32d",
   "metadata": {},
   "outputs": [],
   "source": [
    "8. Create a Python class hierarchy for animals and implement abstraction by defining common methods (e.g., `eat()`, `sleep()`) in an abstract base class."
   ]
  },
  {
   "cell_type": "code",
   "execution_count": 23,
   "id": "94d3191f-9f69-433b-a13b-f0cdb7121c23",
   "metadata": {},
   "outputs": [
    {
     "name": "stdout",
     "output_type": "stream",
     "text": [
      "Lion is eating.\n",
      "Elephant is sleeping.\n"
     ]
    }
   ],
   "source": [
    "from abc import ABC, abstractmethod\n",
    "\n",
    "class Animal(ABC):\n",
    "    @abstractmethod\n",
    "    def eat(self):\n",
    "        pass\n",
    "\n",
    "    @abstractmethod\n",
    "    def sleep(self):\n",
    "        pass\n",
    "\n",
    "class Lion(Animal):\n",
    "    def eat(self):\n",
    "        return \"Lion is eating.\"\n",
    "\n",
    "    def sleep(self):\n",
    "        return \"Lion is sleeping.\"\n",
    "\n",
    "class Elephant(Animal):\n",
    "    def eat(self):\n",
    "        return \"Elephant is eating.\"\n",
    "\n",
    "    def sleep(self):\n",
    "        return \"Elephant is sleeping.\"\n",
    "\n",
    "# Example usage\n",
    "lion = Lion()\n",
    "elephant = Elephant()\n",
    "\n",
    "print(lion.eat())\n",
    "print(elephant.sleep())\n"
   ]
  },
  {
   "cell_type": "code",
   "execution_count": null,
   "id": "01a54f98-864b-43b5-9c45-270dd7937b18",
   "metadata": {},
   "outputs": [],
   "source": [
    "9. Explain the significance of encapsulation in achieving abstraction. Provide examples."
   ]
  },
  {
   "cell_type": "code",
   "execution_count": null,
   "id": "d62b7ab8-8826-4414-afa7-d23bd9e3f0f6",
   "metadata": {},
   "outputs": [],
   "source": [
    "Encapsulation is the bundling of data and the methods that operate on the data into a single unit, i.e., a class. \n",
    "It plays a significant role in achieving abstraction by hiding the internal details of how data is stored and manipulated."
   ]
  },
  {
   "cell_type": "code",
   "execution_count": null,
   "id": "1826f3ca-9b3f-4330-b94e-94135e702957",
   "metadata": {},
   "outputs": [],
   "source": [
    "10. What is the purpose of abstract methods, and how do they enforce abstraction in Python classes?"
   ]
  },
  {
   "cell_type": "code",
   "execution_count": null,
   "id": "94b1e859-886a-4226-8f99-2f335a8dbb5d",
   "metadata": {},
   "outputs": [],
   "source": [
    "Purpose: Abstract methods in Python are methods declared in an abstract class that do not have an implementation in the abstract class.\n",
    "They serve as placeholders for methods that must be implemented by any concrete subclass.\n",
    "\n",
    "Enforcing Abstraction: Abstract methods enforce abstraction by providing a common interface that concrete subclasses must adhere to. \n",
    "Subclasses are required to provide their own implementations for abstract methods, ensuring a consistent behavior across different subclasses."
   ]
  },
  {
   "cell_type": "code",
   "execution_count": null,
   "id": "8eec23eb-a380-4af0-9eb4-aeff0e0995ed",
   "metadata": {},
   "outputs": [],
   "source": [
    "11. Create a Python class for a vehicle system and demonstrate abstraction by defining common methods (e.g., `start()`, `stop()`) in an abstract base class."
   ]
  },
  {
   "cell_type": "code",
   "execution_count": 24,
   "id": "51d46b77-d08d-49a9-975d-f53b1103264c",
   "metadata": {},
   "outputs": [
    {
     "name": "stdout",
     "output_type": "stream",
     "text": [
      "Car engine started.\n",
      "Bicycle stopped.\n"
     ]
    }
   ],
   "source": [
    "from abc import ABC, abstractmethod\n",
    "\n",
    "class Vehicle(ABC):\n",
    "    @abstractmethod\n",
    "    def start(self):\n",
    "        pass\n",
    "\n",
    "    @abstractmethod\n",
    "    def stop(self):\n",
    "        pass\n",
    "\n",
    "class Car(Vehicle):\n",
    "    def start(self):\n",
    "        return \"Car engine started.\"\n",
    "\n",
    "    def stop(self):\n",
    "        return \"Car engine stopped.\"\n",
    "\n",
    "class Bicycle(Vehicle):\n",
    "    def start(self):\n",
    "        return \"Pedaling the bicycle.\"\n",
    "\n",
    "    def stop(self):\n",
    "        return \"Bicycle stopped.\"\n",
    "\n",
    "# Example usage\n",
    "car = Car()\n",
    "bicycle = Bicycle()\n",
    "\n",
    "print(car.start())\n",
    "print(bicycle.stop())\n"
   ]
  },
  {
   "cell_type": "code",
   "execution_count": null,
   "id": "7808af0a-0ffa-477f-8a9a-68b7b21f672a",
   "metadata": {},
   "outputs": [],
   "source": [
    "12. Describe the use of abstract properties in Python and how they can be employed in abstract classes."
   ]
  },
  {
   "cell_type": "code",
   "execution_count": null,
   "id": "23309508-2938-4edf-bd09-3cf25dcceab0",
   "metadata": {},
   "outputs": [],
   "source": [
    "Abstract properties in Python are defined using the @property decorator in an abstract class.\n",
    "They provide a way to ensure that concrete subclasses must implement specific properties. "
   ]
  },
  {
   "cell_type": "code",
   "execution_count": 25,
   "id": "92a8e482-c256-4e9a-b935-2d413514c3e5",
   "metadata": {},
   "outputs": [
    {
     "name": "stdout",
     "output_type": "stream",
     "text": [
      "Area of the circle: 78.5\n"
     ]
    }
   ],
   "source": [
    "from abc import ABC, abstractmethod\n",
    "\n",
    "class Shape(ABC):\n",
    "    @property\n",
    "    @abstractmethod\n",
    "    def area(self):\n",
    "        pass\n",
    "\n",
    "class Circle(Shape):\n",
    "    def __init__(self, radius):\n",
    "        self._radius = radius\n",
    "\n",
    "    @property\n",
    "    def area(self):\n",
    "        return 3.14 * self._radius ** 2\n",
    "\n",
    "# Example usage\n",
    "circle = Circle(5)\n",
    "print(f\"Area of the circle: {circle.area}\")\n"
   ]
  },
  {
   "cell_type": "code",
   "execution_count": null,
   "id": "ee9b3fe7-0713-4379-a57b-b46ba205de20",
   "metadata": {},
   "outputs": [],
   "source": [
    "13. Create a Python class hierarchy for employees in a company (e.g., manager, developer, designer) and implement abstraction by defining a common `get_salary()` method."
   ]
  },
  {
   "cell_type": "code",
   "execution_count": 26,
   "id": "f58d2cee-6a83-4619-963b-c6ef3c6df3bc",
   "metadata": {},
   "outputs": [
    {
     "name": "stdout",
     "output_type": "stream",
     "text": [
      "John Doe's salary: $80000\n",
      "Jane Smith's salary: $60000\n",
      "Bob Johnson's salary: $70000\n"
     ]
    }
   ],
   "source": [
    "from abc import ABC, abstractmethod\n",
    "\n",
    "class Employee(ABC):\n",
    "    def __init__(self, name, role):\n",
    "        self.name = name\n",
    "        self.role = role\n",
    "\n",
    "    @abstractmethod\n",
    "    def get_salary(self):\n",
    "        pass\n",
    "\n",
    "class Manager(Employee):\n",
    "    def get_salary(self):\n",
    "        return 80000  # Example salary for a manager\n",
    "\n",
    "class Developer(Employee):\n",
    "    def get_salary(self):\n",
    "        return 60000  # Example salary for a developer\n",
    "\n",
    "class Designer(Employee):\n",
    "    def get_salary(self):\n",
    "        return 70000  # Example salary for a designer\n",
    "\n",
    "# Example usage\n",
    "manager = Manager(\"John Doe\", \"Manager\")\n",
    "developer = Developer(\"Jane Smith\", \"Developer\")\n",
    "designer = Designer(\"Bob Johnson\", \"Designer\")\n",
    "\n",
    "employees = [manager, developer, designer]\n",
    "\n",
    "for employee in employees:\n",
    "    print(f\"{employee.name}'s salary: ${employee.get_salary()}\")\n"
   ]
  },
  {
   "cell_type": "code",
   "execution_count": null,
   "id": "044999a4-b8ba-4afb-b4f2-a3d6a28de73d",
   "metadata": {},
   "outputs": [],
   "source": [
    "14. Discuss the differences between abstract classes and concrete classes in Python, including their\n",
    "instantiation."
   ]
  },
  {
   "cell_type": "code",
   "execution_count": null,
   "id": "fc40b7c7-5dff-40a5-88db-eb510e3b08b6",
   "metadata": {},
   "outputs": [],
   "source": [
    "Instantiation: Abstract classes cannot be instantiated directly; they require concrete subclasses to provide implementations for abstract methods.\n",
    "Concrete classes can be instantiated directly.\n",
    "\n",
    "Abstract Methods: Abstract classes may contain abstract methods (methods without implementation) that must be implemented by concrete subclasses.\n",
    "Concrete classes have fully implemented methods.\n",
    "\n",
    "Purpose: Abstract classes serve as blueprints for other classes and enforce a common interface. \n",
    "Concrete classes are meant to be instantiated and can be used as-is."
   ]
  },
  {
   "cell_type": "code",
   "execution_count": null,
   "id": "de295f8b-8a63-415f-947e-b0ed9f382d27",
   "metadata": {},
   "outputs": [],
   "source": [
    "15. Explain the concept of abstract data types (ADTs) and their role in achieving abstraction in Python."
   ]
  },
  {
   "cell_type": "code",
   "execution_count": null,
   "id": "bd58f817-116a-4fb3-99df-698e9078216e",
   "metadata": {},
   "outputs": [],
   "source": [
    "Abstract Data Types (ADTs) are high-level descriptions of a set of operations that can be performed on data, without specifying how the operations are implemented. \n",
    "They play a crucial role in achieving abstraction by hiding the underlying details of data structures and focusing on the operations that can be performed on them."
   ]
  },
  {
   "cell_type": "code",
   "execution_count": null,
   "id": "40ec6bdd-1631-4530-b378-c3401f9e6d83",
   "metadata": {},
   "outputs": [],
   "source": [
    "16. Create a Python class for a computer system, demonstrating abstraction by defining common methods (e.g., `power_on()`, `shutdown()`) in an abstract base class."
   ]
  },
  {
   "cell_type": "code",
   "execution_count": 27,
   "id": "adac55bf-40f9-4cf9-ab46-76e553791dda",
   "metadata": {},
   "outputs": [
    {
     "name": "stdout",
     "output_type": "stream",
     "text": [
      "Laptop is powering on.\n",
      "Desktop is shutting down.\n"
     ]
    }
   ],
   "source": [
    "from abc import ABC, abstractmethod\n",
    "\n",
    "class ComputerSystem(ABC):\n",
    "    @abstractmethod\n",
    "    def power_on(self):\n",
    "        pass\n",
    "\n",
    "    @abstractmethod\n",
    "    def shutdown(self):\n",
    "        pass\n",
    "\n",
    "class Laptop(ComputerSystem):\n",
    "    def power_on(self):\n",
    "        return \"Laptop is powering on.\"\n",
    "\n",
    "    def shutdown(self):\n",
    "        return \"Laptop is shutting down.\"\n",
    "\n",
    "class Desktop(ComputerSystem):\n",
    "    def power_on(self):\n",
    "        return \"Desktop is powering on.\"\n",
    "\n",
    "    def shutdown(self):\n",
    "        return \"Desktop is shutting down.\"\n",
    "\n",
    "# Example usage\n",
    "laptop = Laptop()\n",
    "desktop = Desktop()\n",
    "\n",
    "print(laptop.power_on())\n",
    "print(desktop.shutdown())\n"
   ]
  },
  {
   "cell_type": "code",
   "execution_count": null,
   "id": "4f5e3434-c729-452a-b7d8-27702bf52bb6",
   "metadata": {},
   "outputs": [],
   "source": [
    "17. Discuss the benefits of using abstraction in large-scale software development projects."
   ]
  },
  {
   "cell_type": "code",
   "execution_count": null,
   "id": "10918460-9712-43ba-9eed-4da296679db2",
   "metadata": {},
   "outputs": [],
   "source": [
    "Code Organization: Abstraction helps organize code by providing clear hierarchies and structures.\n",
    "Abstract classes define common interfaces, and concrete subclasses implement specific behaviors, making it easier to navigate and understand the codebase.\n",
    "\n",
    "Reduced Complexity: Abstraction reduces the complexity of a system by hiding implementation details. \n",
    "Developers can work with high-level interfaces without needing to understand the internal workings of every component.\n",
    "\n",
    "Maintenance: Changes can be made more easily and with fewer side effects. \n",
    "If a modification is needed, it can often be confined to a specific class or module without affecting the entire system."
   ]
  },
  {
   "cell_type": "code",
   "execution_count": null,
   "id": "6692598f-4a5a-49d4-bd65-8753aed2032a",
   "metadata": {},
   "outputs": [],
   "source": [
    "18. Explain how abstraction enhances code reusability and modularity in Python programs."
   ]
  },
  {
   "cell_type": "code",
   "execution_count": null,
   "id": "87a7c697-b512-4ea3-b4fc-9a3a191a7cef",
   "metadata": {},
   "outputs": [],
   "source": [
    "Code Reusability: Abstract classes provide a blueprint for common behaviors and interfaces.\n",
    "Subclasses can reuse the code defined in abstract classes, promoting reuse and reducing redundancy.\n",
    "\n",
    "Modularity: Abstraction encourages the creation of modular components. \n",
    "Each class represents a module with a well-defined interface and behavior. Changes to one module have minimal impact on others, promoting modularity and maintainability."
   ]
  },
  {
   "cell_type": "code",
   "execution_count": null,
   "id": "c9a4991f-6d88-4f9b-af06-d643efc52ac4",
   "metadata": {},
   "outputs": [],
   "source": [
    "19. Create a Python class for a library system, implementing abstraction by defining common methods (e.g., `add_book()`, `borrow_book()`) in an abstract base class."
   ]
  },
  {
   "cell_type": "code",
   "execution_count": 28,
   "id": "c273f034-69dd-4b7a-8440-5af1e7212f37",
   "metadata": {},
   "outputs": [
    {
     "name": "stdout",
     "output_type": "stream",
     "text": [
      "Book 'Introduction to Python' added to the public library.\n",
      "Book 'Advanced Mathematics' borrowed from the school library.\n"
     ]
    }
   ],
   "source": [
    "from abc import ABC, abstractmethod\n",
    "\n",
    "class LibrarySystem(ABC):\n",
    "    @abstractmethod\n",
    "    def add_book(self, book):\n",
    "        pass\n",
    "\n",
    "    @abstractmethod\n",
    "    def borrow_book(self, book):\n",
    "        pass\n",
    "\n",
    "class PublicLibrary(LibrarySystem):\n",
    "    def add_book(self, book):\n",
    "        return f\"Book '{book}' added to the public library.\"\n",
    "\n",
    "    def borrow_book(self, book):\n",
    "        return f\"Book '{book}' borrowed from the public library.\"\n",
    "\n",
    "class SchoolLibrary(LibrarySystem):\n",
    "    def add_book(self, book):\n",
    "        return f\"Book '{book}' added to the school library.\"\n",
    "\n",
    "    def borrow_book(self, book):\n",
    "        return f\"Book '{book}' borrowed from the school library.\"\n",
    "\n",
    "# Example usage\n",
    "public_library = PublicLibrary()\n",
    "school_library = SchoolLibrary()\n",
    "\n",
    "print(public_library.add_book(\"Introduction to Python\"))\n",
    "print(school_library.borrow_book(\"Advanced Mathematics\"))\n"
   ]
  },
  {
   "cell_type": "code",
   "execution_count": null,
   "id": "786b7a8a-4364-4699-a9ff-2c34bdfb8999",
   "metadata": {},
   "outputs": [],
   "source": [
    "20. Describe the concept of method abstraction in Python and how it relates to polymorphism."
   ]
  },
  {
   "cell_type": "code",
   "execution_count": null,
   "id": "86f8bc1c-3283-4ed4-b409-9dc936eaad9d",
   "metadata": {},
   "outputs": [],
   "source": [
    "Method Abstraction: Method abstraction in Python involves defining methods in an abstract class without specifying their implementation. \n",
    "The abstract class serves as a blueprint, and concrete subclasses must provide their own implementations for these abstract methods.\n",
    "\n",
    "Relation to Polymorphism: Method abstraction is closely related to polymorphism. \n",
    "Abstract methods define a common interface, and polymorphism allows different classes to provide their own implementations for these methods. \n",
    "This enables code to work with objects of different types (subclasses) through a common interface, achieving polymorphic behavior."
   ]
  },
  {
   "cell_type": "code",
   "execution_count": null,
   "id": "6fc5e6d7-653f-4467-a36e-ab903070a0e1",
   "metadata": {},
   "outputs": [],
   "source": [
    "Composition:"
   ]
  },
  {
   "cell_type": "code",
   "execution_count": null,
   "id": "5206e687-105f-497b-8a84-26be832618d6",
   "metadata": {},
   "outputs": [],
   "source": [
    "1. Explain the concept of composition in Python and how it is used to build complex objects from simpler ones."
   ]
  },
  {
   "cell_type": "code",
   "execution_count": null,
   "id": "a1aec9d9-d43a-4dc5-85a1-49bc1fa08457",
   "metadata": {},
   "outputs": [],
   "source": [
    "Composition is a concept in object-oriented programming (OOP) where complex objects are built by combining simpler objects as components.\n",
    "Instead of relying on inheritance to achieve code reuse, composition allows the creation of more flexible and modular systems by assembling objects from other objects."
   ]
  },
  {
   "cell_type": "code",
   "execution_count": null,
   "id": "bd00bf17-2a45-4ea0-81d4-232252b6c6a2",
   "metadata": {},
   "outputs": [],
   "source": [
    "2. Describe the difference between composition and inheritance in object-oriented programming."
   ]
  },
  {
   "cell_type": "code",
   "execution_count": null,
   "id": "8eba6243-fc19-4315-8ec7-dd0b6fd65524",
   "metadata": {},
   "outputs": [],
   "source": [
    "Composition: Composition involves creating objects by combining simpler objects, known as components. \n",
    "It emphasizes building relationships between objects by containing instances of other classes.\n",
    "\n",
    "Inheritance: Inheritance involves creating a new class by deriving from an existing class. \n",
    "It allows a new class (subclass) to inherit attributes and behaviors from an existing class (superclass)."
   ]
  },
  {
   "cell_type": "code",
   "execution_count": null,
   "id": "f8211b3c-3efa-4811-881d-9fea69df493e",
   "metadata": {},
   "outputs": [],
   "source": [
    "3. Create a Python class called `Author` with attributes for name and birthdate. Then, create a `Book` class\n",
    "that contains an instance of `Author` as a composition. Provide an example of creating a `Book` object."
   ]
  },
  {
   "cell_type": "code",
   "execution_count": 29,
   "id": "56b6195c-0922-42f5-9058-2639640ce9dc",
   "metadata": {},
   "outputs": [
    {
     "name": "stdout",
     "output_type": "stream",
     "text": [
      "Book Title: Python Programming\n",
      "Author: Jane Doe\n",
      "Publication Year: 2022\n"
     ]
    }
   ],
   "source": [
    "class Author:\n",
    "    def __init__(self, name, birthdate):\n",
    "        self.name = name\n",
    "        self.birthdate = birthdate\n",
    "\n",
    "class Book:\n",
    "    def __init__(self, title, author, publication_year):\n",
    "        self.title = title\n",
    "        self.author = author  # Composition: Book contains an instance of Author\n",
    "        self.publication_year = publication_year\n",
    "\n",
    "# Example usage\n",
    "author = Author(\"Jane Doe\", \"January 1, 1980\")\n",
    "book = Book(\"Python Programming\", author, 2022)\n",
    "\n",
    "print(f\"Book Title: {book.title}\")\n",
    "print(f\"Author: {book.author.name}\")\n",
    "print(f\"Publication Year: {book.publication_year}\")\n"
   ]
  },
  {
   "cell_type": "code",
   "execution_count": null,
   "id": "0797a6ce-2bfe-438b-9119-508c2bf35f8b",
   "metadata": {},
   "outputs": [],
   "source": [
    "4. Discuss the benefits of using composition over inheritance in Python, especially in terms of code flexibility\n",
    "and reusability."
   ]
  },
  {
   "cell_type": "code",
   "execution_count": null,
   "id": "a41d90a7-d95e-46fc-b65a-6ea4824c0681",
   "metadata": {},
   "outputs": [],
   "source": [
    "Flexibility: Composition allows more flexibility in combining and reusing components. \n",
    "Objects can be composed of various components, and relationships can be changed more easily than with inheritance.\n",
    "\n",
    "Modularity: Composition promotes modularity by breaking down complex systems into smaller, manageable components. \n",
    "Changes to one component have minimal impact on others.\n",
    "\n",
    "Reduced Coupling: With composition, classes are less tightly coupled than in inheritance. \n",
    "Components are independent entities, making it easier to replace or modify them without affecting the entire system."
   ]
  },
  {
   "cell_type": "code",
   "execution_count": null,
   "id": "61a8da0d-99e9-4fe5-b20f-bbc932afb020",
   "metadata": {},
   "outputs": [],
   "source": [
    "5. How can you implement composition in Python classes? Provide examples of using composition to create\n",
    "complex objects."
   ]
  },
  {
   "cell_type": "code",
   "execution_count": null,
   "id": "25aa7fb2-b2b2-4f06-847e-efb4e1ad8e85",
   "metadata": {},
   "outputs": [],
   "source": [
    "Composition in Python is implemented by creating instances of other classes within a class. Objects of one class become attributes of another class."
   ]
  },
  {
   "cell_type": "code",
   "execution_count": 30,
   "id": "863d930e-2c5c-4931-9f4c-25aef1c6ea70",
   "metadata": {},
   "outputs": [
    {
     "name": "stdout",
     "output_type": "stream",
     "text": [
      "Toyota Camry - Engine started.\n",
      "Toyota Camry - Engine stopped.\n"
     ]
    }
   ],
   "source": [
    "class Engine:\n",
    "    def start(self):\n",
    "        return \"Engine started.\"\n",
    "\n",
    "    def stop(self):\n",
    "        return \"Engine stopped.\"\n",
    "\n",
    "class Car:\n",
    "    def __init__(self, make, model):\n",
    "        self.make = make\n",
    "        self.model = model\n",
    "        self.engine = Engine()  # Composition: Car contains an instance of Engine\n",
    "\n",
    "    def start(self):\n",
    "        return f\"{self.make} {self.model} - {self.engine.start()}\"\n",
    "\n",
    "    def stop(self):\n",
    "        return f\"{self.make} {self.model} - {self.engine.stop()}\"\n",
    "\n",
    "# Example usage\n",
    "my_car = Car(\"Toyota\", \"Camry\")\n",
    "\n",
    "print(my_car.start())\n",
    "print(my_car.stop())\n"
   ]
  },
  {
   "cell_type": "code",
   "execution_count": null,
   "id": "dcce48f9-5afa-4422-9a79-4db47cb7895a",
   "metadata": {},
   "outputs": [],
   "source": [
    "6. Create a Python class hierarchy for a music player system, using composition to represent playlists and\n",
    "songs."
   ]
  },
  {
   "cell_type": "code",
   "execution_count": 31,
   "id": "90c14705-eb81-4ae8-af11-9bf81ff822f3",
   "metadata": {},
   "outputs": [
    {
     "name": "stdout",
     "output_type": "stream",
     "text": [
      "Playing songs in My Favorites playlist:\n",
      "- Song 1 by Artist 1\n",
      "- Song 2 by Artist 2\n"
     ]
    }
   ],
   "source": [
    "class Song:\n",
    "    def __init__(self, title, artist, duration):\n",
    "        self.title = title\n",
    "        self.artist = artist\n",
    "        self.duration = duration\n",
    "\n",
    "class Playlist:\n",
    "    def __init__(self, name):\n",
    "        self.name = name\n",
    "        self.songs = []  # Composition: Playlist contains a list of Song instances\n",
    "\n",
    "    def add_song(self, song):\n",
    "        self.songs.append(song)\n",
    "\n",
    "    def play(self):\n",
    "        print(f\"Playing songs in {self.name} playlist:\")\n",
    "        for song in self.songs:\n",
    "            print(f\"- {song.title} by {song.artist}\")\n",
    "\n",
    "# Example usage\n",
    "song1 = Song(\"Song 1\", \"Artist 1\", \"3:30\")\n",
    "song2 = Song(\"Song 2\", \"Artist 2\", \"4:15\")\n",
    "\n",
    "playlist = Playlist(\"My Favorites\")\n",
    "playlist.add_song(song1)\n",
    "playlist.add_song(song2)\n",
    "\n",
    "playlist.play()\n"
   ]
  },
  {
   "cell_type": "code",
   "execution_count": null,
   "id": "74901486-3798-47f9-9d3a-fba093c3e0a7",
   "metadata": {},
   "outputs": [],
   "source": [
    "7. Explain the concept of \"has-a\" relationships in composition and how it helps design software systems."
   ]
  },
  {
   "cell_type": "code",
   "execution_count": null,
   "id": "111d24ca-8b12-4644-86a4-e4246f9f9ca0",
   "metadata": {},
   "outputs": [],
   "source": [
    "In composition, the \"has-a\" relationship implies that one class has another class as a component. \n",
    "It signifies that an object of one class contains an instance of another class. For example, a Car has an Engine, a Library has a Book, or a MusicPlayer has a Playlist. \n",
    "\n",
    "This relationship allows for building more complex objects by combining simpler ones."
   ]
  },
  {
   "cell_type": "code",
   "execution_count": null,
   "id": "f3f53e7d-51ee-4e08-ad1a-55c94ba967e9",
   "metadata": {},
   "outputs": [],
   "source": [
    "8. Create a Python class for a computer system, using composition to represent components like CPU, RAM,\n",
    "and storage devices."
   ]
  },
  {
   "cell_type": "code",
   "execution_count": 32,
   "id": "e1eb0422-eaee-4173-8a92-c4455fb91037",
   "metadata": {},
   "outputs": [
    {
     "name": "stdout",
     "output_type": "stream",
     "text": [
      "Processing data.\n",
      "Storing data in RAM.\n",
      "Reading data from storage.\n"
     ]
    }
   ],
   "source": [
    "class CPU:\n",
    "    def process_data(self):\n",
    "        return \"Processing data.\"\n",
    "\n",
    "class RAM:\n",
    "    def store_data(self):\n",
    "        return \"Storing data in RAM.\"\n",
    "\n",
    "class Storage:\n",
    "    def read_data(self):\n",
    "        return \"Reading data from storage.\"\n",
    "\n",
    "class Computer:\n",
    "    def __init__(self):\n",
    "        self.cpu = CPU()       # Composition: Computer contains an instance of CPU\n",
    "        self.ram = RAM()       # Composition: Computer contains an instance of RAM\n",
    "        self.storage = Storage() # Composition: Computer contains an instance of Storage\n",
    "\n",
    "# Example usage\n",
    "my_computer = Computer()\n",
    "\n",
    "print(my_computer.cpu.process_data())\n",
    "print(my_computer.ram.store_data())\n",
    "print(my_computer.storage.read_data())\n"
   ]
  },
  {
   "cell_type": "code",
   "execution_count": null,
   "id": "a60f52c5-fa08-4750-8b54-e25c6c1dd75a",
   "metadata": {},
   "outputs": [],
   "source": [
    "9. Describe the concept of \"delegation\" in composition and how it simplifies the design of complex systems."
   ]
  },
  {
   "cell_type": "code",
   "execution_count": null,
   "id": "2e571985-d542-46a4-9b39-80e4d391e863",
   "metadata": {},
   "outputs": [],
   "source": [
    "Delegation in composition involves one object (delegator) containing another object (delegate) and forwarding certain operations to the delegate. \n",
    "\n",
    "It simplifies the design by allowing an object to rely on the behavior of another object without inheriting from it."
   ]
  },
  {
   "cell_type": "code",
   "execution_count": null,
   "id": "b8739e13-92ff-4cd1-b022-2d2f96057f2a",
   "metadata": {},
   "outputs": [],
   "source": [
    "10. Create a Python class for a car, using composition to represent components like the engine, wheels, and\n",
    "transmission."
   ]
  },
  {
   "cell_type": "code",
   "execution_count": 33,
   "id": "a56e2ec0-56ef-4e39-83b8-067126eb6522",
   "metadata": {},
   "outputs": [
    {
     "name": "stdout",
     "output_type": "stream",
     "text": [
      "Engine started. Gear shifted. Wheels rotating.\n"
     ]
    }
   ],
   "source": [
    "class Engine:\n",
    "    def start(self):\n",
    "        return \"Engine started.\"\n",
    "\n",
    "    def stop(self):\n",
    "        return \"Engine stopped.\"\n",
    "\n",
    "class Wheels:\n",
    "    def rotate(self):\n",
    "        return \"Wheels rotating.\"\n",
    "\n",
    "class Transmission:\n",
    "    def shift_gear(self):\n",
    "        return \"Gear shifted.\"\n",
    "\n",
    "class Car:\n",
    "    def __init__(self):\n",
    "        self.engine = Engine()         # Composition: Car contains an instance of Engine\n",
    "        self.wheels = Wheels()         # Composition: Car contains an instance of Wheels\n",
    "        self.transmission = Transmission() # Composition: Car contains an instance of Transmission\n",
    "\n",
    "    def drive(self):\n",
    "        return f\"{self.engine.start()} {self.transmission.shift_gear()} {self.wheels.rotate()}\"\n",
    "\n",
    "# Example usage\n",
    "my_car = Car()\n",
    "\n",
    "print(my_car.drive())\n"
   ]
  },
  {
   "cell_type": "code",
   "execution_count": null,
   "id": "6e779c8d-d1c7-48a2-93e3-958c37a32f28",
   "metadata": {},
   "outputs": [],
   "source": [
    "11. How can you encapsulate and hide the details of composed objects in Python classes to maintain\n",
    "abstraction?"
   ]
  },
  {
   "cell_type": "code",
   "execution_count": null,
   "id": "81a8f7d3-c613-4d0e-b1d4-4cf14a46d588",
   "metadata": {},
   "outputs": [],
   "source": [
    "Use Private Attributes: Declare the attributes representing composed objects as private by using a single leading underscore (e.g., _engine). \n",
    "This convention indicates that these attributes are intended to be private, even though Python does not enforce strict privacy.\n",
    "\n",
    "Provide Accessor Methods: Create accessor methods in the class that expose only the necessary information and behavior of the composed objects. \n",
    "These methods act as a controlled interface to the internal details."
   ]
  },
  {
   "cell_type": "code",
   "execution_count": null,
   "id": "95f79828-6b8b-4c75-850a-bd67e9fe338c",
   "metadata": {},
   "outputs": [],
   "source": [
    "12. Create a Python class for a university course, using composition to represent students, instructors, and\n",
    "course materials."
   ]
  },
  {
   "cell_type": "code",
   "execution_count": 34,
   "id": "a6112f12-862f-45d1-89bb-79730ea33e23",
   "metadata": {},
   "outputs": [],
   "source": [
    "class Student:\n",
    "    def __init__(self, name, student_id):\n",
    "        self.name = name\n",
    "        self.student_id = student_id\n",
    "\n",
    "class Instructor:\n",
    "    def __init__(self, name, employee_id):\n",
    "        self.name = name\n",
    "        self.employee_id = employee_id\n",
    "\n",
    "class Course:\n",
    "    def __init__(self, course_name):\n",
    "        self.course_name = course_name\n",
    "        self.students = []    # Composition: Course contains a list of Student instances\n",
    "        self.instructor = None # Composition: Course contains an instance of Instructor\n",
    "\n",
    "    def add_student(self, student):\n",
    "        self.students.append(student)\n",
    "\n",
    "    def assign_instructor(self, instructor):\n",
    "        self.instructor = instructor\n",
    "\n",
    "# Example usage\n",
    "student1 = Student(\"Alice\", \"S12345\")\n",
    "student2 = Student(\"Bob\", \"S67890\")\n",
    "\n",
    "instructor = Instructor(\"Dr. Smith\", \"I98765\")\n",
    "\n",
    "python_course = Course(\"Python Programming\")\n",
    "python_course.add_student(student1)\n",
    "python_course.add_student(student2)\n",
    "python_course.assign_instructor(instructor)\n"
   ]
  },
  {
   "cell_type": "code",
   "execution_count": null,
   "id": "0551533c-c996-4da0-9bd0-27f8da742d1e",
   "metadata": {},
   "outputs": [],
   "source": [
    "13. Discuss the challenges and drawbacks of composition, such as increased complexity and potential for\n",
    "tight coupling between objects."
   ]
  },
  {
   "cell_type": "code",
   "execution_count": null,
   "id": "fe49454f-5901-4188-924a-e696d54a20c1",
   "metadata": {},
   "outputs": [],
   "source": [
    "Increased Complexity: As more components are composed to build complex objects, the overall system complexity may increase.\n",
    "Understanding and managing these interactions can become challenging.\n",
    "\n",
    "Potential for Tight Coupling: If not carefully designed, composition can lead to tight coupling between objects.\n",
    "Changes in one component may affect others, reducing the flexibility of the system.\n",
    "\n",
    "Delegating Responsibilities: The need to delegate responsibilities to composed objects may lead to a larger number of methods in the main class, potentially making it harder to manage."
   ]
  },
  {
   "cell_type": "code",
   "execution_count": null,
   "id": "fbe127fc-9d21-4664-b883-d5a6382cebcd",
   "metadata": {},
   "outputs": [],
   "source": [
    "14. Create a Python class hierarchy for a restaurant system, using composition to represent menus, dishes,\n",
    "and ingredients."
   ]
  },
  {
   "cell_type": "code",
   "execution_count": 35,
   "id": "e7905c8d-3196-4850-b327-9f6c31e74bc9",
   "metadata": {},
   "outputs": [],
   "source": [
    "class Ingredient:\n",
    "    def __init__(self, name):\n",
    "        self.name = name\n",
    "\n",
    "class Dish:\n",
    "    def __init__(self, name, ingredients):\n",
    "        self.name = name\n",
    "        self.ingredients = ingredients  # Composition: Dish contains a list of Ingredient instances\n",
    "\n",
    "class Menu:\n",
    "    def __init__(self, name):\n",
    "        self.name = name\n",
    "        self.dishes = []  # Composition: Menu contains a list of Dish instances\n",
    "\n",
    "    def add_dish(self, dish):\n",
    "        self.dishes.append(dish)\n",
    "\n",
    "# Example usage\n",
    "ingredient1 = Ingredient(\"Tomato\")\n",
    "ingredient2 = Ingredient(\"Cheese\")\n",
    "\n",
    "pizza = Dish(\"Margherita Pizza\", [ingredient1, ingredient2])\n",
    "\n",
    "menu = Menu(\"Italian Cuisine\")\n",
    "menu.add_dish(pizza)\n"
   ]
  },
  {
   "cell_type": "code",
   "execution_count": null,
   "id": "c86e8927-dc0d-409b-8291-4ef2c17c3c8d",
   "metadata": {},
   "outputs": [],
   "source": [
    "15. Explain how composition enhances code maintainability and modularity in Python programs."
   ]
  },
  {
   "cell_type": "code",
   "execution_count": null,
   "id": "c9a515bf-4e32-4e72-a908-2f5504b48d3e",
   "metadata": {},
   "outputs": [],
   "source": [
    "Modularity: Composition encourages modularity by breaking down a system into smaller, independently replaceable components. \n",
    "Each class represents a modular piece that can be modified or replaced without affecting the entire system.\n",
    "\n",
    "Code Maintainability: With composition, changes to one component are less likely to impact other components. \n",
    "This separation of concerns makes it easier to maintain and extend the codebase. \n",
    "Each class has a well-defined responsibility, improving code readability and maintainability."
   ]
  },
  {
   "cell_type": "code",
   "execution_count": null,
   "id": "7edd4503-b8a2-4d17-abbb-652bd6392007",
   "metadata": {},
   "outputs": [],
   "source": [
    "16. Create a Python class for a computer game character, using composition to represent attributes like\n",
    "weapons, armor, and inventory."
   ]
  },
  {
   "cell_type": "code",
   "execution_count": 36,
   "id": "c8918ca4-35c2-454b-b932-a681dfac7d9a",
   "metadata": {},
   "outputs": [
    {
     "name": "stdout",
     "output_type": "stream",
     "text": [
      "Hero has a Sword and wears Shield.\n",
      "Inventory: ['Health Potion']\n"
     ]
    }
   ],
   "source": [
    "class Weapon:\n",
    "    def __init__(self, name, damage):\n",
    "        self.name = name\n",
    "        self.damage = damage\n",
    "\n",
    "class Armor:\n",
    "    def __init__(self, name, defense):\n",
    "        self.name = name\n",
    "        self.defense = defense\n",
    "\n",
    "class Inventory:\n",
    "    def __init__(self):\n",
    "        self.items = []\n",
    "\n",
    "    def add_item(self, item):\n",
    "        self.items.append(item)\n",
    "\n",
    "class GameCharacter:\n",
    "    def __init__(self, name):\n",
    "        self.name = name\n",
    "        self.weapon = None  # Composition: GameCharacter contains an instance of Weapon\n",
    "        self.armor = None   # Composition: GameCharacter contains an instance of Armor\n",
    "        self.inventory = Inventory()  # Composition: GameCharacter contains an instance of Inventory\n",
    "\n",
    "# Example usage\n",
    "sword = Weapon(\"Sword\", 15)\n",
    "shield = Armor(\"Shield\", 10)\n",
    "\n",
    "player = GameCharacter(\"Hero\")\n",
    "player.weapon = sword\n",
    "player.armor = shield\n",
    "player.inventory.add_item(\"Health Potion\")\n",
    "\n",
    "print(f\"{player.name} has a {player.weapon.name} and wears {player.armor.name}.\")\n",
    "print(f\"Inventory: {player.inventory.items}\")\n"
   ]
  },
  {
   "cell_type": "code",
   "execution_count": null,
   "id": "489dbdd4-7e1a-42aa-9e55-9454f53ab30d",
   "metadata": {},
   "outputs": [],
   "source": [
    "17. Describe the concept of \"aggregation\" in composition and how it differs from simple composition."
   ]
  },
  {
   "cell_type": "code",
   "execution_count": null,
   "id": "1e850b57-2146-47b6-99ae-42f50abe2ed6",
   "metadata": {},
   "outputs": [],
   "source": [
    "Aggregation: Aggregation is a form of composition where one class is composed of another class, but the composed class can exist independently.\n",
    "In other words, the relationship between the classes is considered to be more loosely coupled. "
   ]
  },
  {
   "cell_type": "code",
   "execution_count": null,
   "id": "3d6d8606-3b6b-4726-97e3-6b8847c7f85b",
   "metadata": {},
   "outputs": [],
   "source": [
    "18. Create a Python class for a house, using composition to represent rooms, furniture, and appliances."
   ]
  },
  {
   "cell_type": "code",
   "execution_count": 37,
   "id": "7f33f1a0-e1c2-4d9e-bed4-2192749a7cab",
   "metadata": {},
   "outputs": [],
   "source": [
    "class Room:\n",
    "    def __init__(self, name, area):\n",
    "        self.name = name\n",
    "        self.area = area\n",
    "\n",
    "class Furniture:\n",
    "    def __init__(self, name):\n",
    "        self.name = name\n",
    "\n",
    "class Appliance:\n",
    "    def __init__(self, name):\n",
    "        self.name = name\n",
    "\n",
    "class House:\n",
    "    def __init__(self):\n",
    "        self.rooms = []       # Composition: House contains a list of Room instances\n",
    "        self.furniture = []   # Composition: House contains a list of Furniture instances\n",
    "        self.appliances = []  # Composition: House contains a list of Appliance instances\n",
    "\n",
    "# Example usage\n",
    "living_room = Room(\"Living Room\", 200)\n",
    "sofa = Furniture(\"Sofa\")\n",
    "tv = Appliance(\"Television\")\n",
    "\n",
    "my_house = House()\n",
    "my_house.rooms.append(living_room)\n",
    "my_house.furniture.append(sofa)\n",
    "my_house.appliances.append(tv)\n"
   ]
  },
  {
   "cell_type": "code",
   "execution_count": null,
   "id": "13236a2b-c297-4dfc-8ba4-a2427da3d437",
   "metadata": {},
   "outputs": [],
   "source": [
    "19. How can you achieve flexibility in composed objects by allowing them to be replaced or modified\n",
    "dynamically at runtime?"
   ]
  },
  {
   "cell_type": "code",
   "execution_count": null,
   "id": "db0f74c2-fd11-4435-9382-4f881d6032cf",
   "metadata": {},
   "outputs": [],
   "source": [
    "To achieve flexibility, you can design the composed objects to be replaceable or modifiable dynamically at runtime. \n",
    "This can be done by providing methods in the main class to update or switch out the composed objects."
   ]
  },
  {
   "cell_type": "code",
   "execution_count": null,
   "id": "8bd47e09-9a2e-4114-825a-767b685e6417",
   "metadata": {},
   "outputs": [],
   "source": [
    "20. Create a Python class for a social media application, using composition to represent users, posts, and\n",
    "comments."
   ]
  },
  {
   "cell_type": "code",
   "execution_count": 38,
   "id": "91036dbb-56e2-40df-b8e7-324eab3741ac",
   "metadata": {},
   "outputs": [],
   "source": [
    "class Post:\n",
    "    def __init__(self, content, author):\n",
    "        self.content = content\n",
    "        self.author = author\n",
    "\n",
    "class Comment:\n",
    "    def __init__(self, text, author):\n",
    "        self.text = text\n",
    "        self.author = author\n",
    "\n",
    "class User:\n",
    "    def __init__(self, username):\n",
    "        self.username = username\n",
    "        self.posts = []      # Composition: User contains a list of Post instances\n",
    "        self.comments = []   # Composition: User contains a list of Comment instances\n",
    "\n",
    "# Example usage\n",
    "user1 = User(\"Alice\")\n",
    "user2 = User(\"Bob\")\n",
    "\n",
    "post1 = Post(\"Hello, world!\", user1)\n",
    "post2 = Post(\"Python is amazing!\", user2)\n",
    "\n",
    "comment1 = Comment(\"Great post!\", user2)\n",
    "comment2 = Comment(\"Thanks!\", user1)\n",
    "\n",
    "user1.posts.append(post1)\n",
    "user2.posts.append(post2)\n",
    "\n",
    "user1.comments.append(comment1)\n",
    "user2.comments.append(comment2)\n"
   ]
  },
  {
   "cell_type": "code",
   "execution_count": null,
   "id": "c877312c-9020-4560-a6bf-249ebb559f02",
   "metadata": {},
   "outputs": [],
   "source": []
  }
 ],
 "metadata": {
  "kernelspec": {
   "display_name": "Python 3 (ipykernel)",
   "language": "python",
   "name": "python3"
  },
  "language_info": {
   "codemirror_mode": {
    "name": "ipython",
    "version": 3
   },
   "file_extension": ".py",
   "mimetype": "text/x-python",
   "name": "python",
   "nbconvert_exporter": "python",
   "pygments_lexer": "ipython3",
   "version": "3.10.8"
  }
 },
 "nbformat": 4,
 "nbformat_minor": 5
}
