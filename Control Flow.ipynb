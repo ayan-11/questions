{
 "cells": [
  {
   "cell_type": "code",
   "execution_count": null,
   "id": "2435d820-05e2-4543-8cd3-b79f8d455cdb",
   "metadata": {},
   "outputs": [],
   "source": [
    "Basic If-Else Statements:"
   ]
  },
  {
   "cell_type": "code",
   "execution_count": null,
   "id": "896a8768-5665-47f7-9557-5bb23d671e1e",
   "metadata": {},
   "outputs": [],
   "source": [
    "1. Write a Python program to check if a given number is positive or negative."
   ]
  },
  {
   "cell_type": "code",
   "execution_count": 1,
   "id": "62ea6eb6-6127-4cad-9eaf-578a19ed0e5e",
   "metadata": {},
   "outputs": [
    {
     "name": "stdout",
     "output_type": "stream",
     "text": [
      "Number is negative\n"
     ]
    }
   ],
   "source": [
    "n=-7\n",
    "if n>0:\n",
    "    print(\"Number is positive\")\n",
    "else:\n",
    "    print(\"Number is negative\")"
   ]
  },
  {
   "cell_type": "code",
   "execution_count": null,
   "id": "c6bb9b20-bdd3-46d3-b487-90871d053760",
   "metadata": {},
   "outputs": [],
   "source": [
    "2. Create a program that determines if a person is eligible to vote based on their age."
   ]
  },
  {
   "cell_type": "code",
   "execution_count": 2,
   "id": "386ca8c5-aa48-426a-8edf-47976c51d645",
   "metadata": {},
   "outputs": [
    {
     "name": "stdout",
     "output_type": "stream",
     "text": [
      "Person is eligible to vote\n"
     ]
    }
   ],
   "source": [
    "age=56\n",
    "if age>=18:\n",
    "    print(\"Person is eligible to vote\")\n",
    "else:\n",
    "    print(\"Person is not eligiblie to vote\")"
   ]
  },
  {
   "cell_type": "code",
   "execution_count": null,
   "id": "037880ec-f7af-467b-bfa0-f9ff23215ff4",
   "metadata": {},
   "outputs": [],
   "source": [
    "3. Develop a program to find the maximum of two numbers using if-else statements.`"
   ]
  },
  {
   "cell_type": "code",
   "execution_count": 3,
   "id": "512bbafa-ee34-4f21-a025-dc75100da8a5",
   "metadata": {},
   "outputs": [
    {
     "name": "stdout",
     "output_type": "stream",
     "text": [
      "n1 is maximum\n"
     ]
    }
   ],
   "source": [
    "n1,n2=56,45\n",
    "if n1>n2:\n",
    "    print(\"n1 is maximum\")\n",
    "else:\n",
    "    print(\"n2 is maximum\")"
   ]
  },
  {
   "cell_type": "code",
   "execution_count": null,
   "id": "88eac4b1-05a1-424c-8561-96ba3299fe3e",
   "metadata": {},
   "outputs": [],
   "source": [
    "4. Write a Python script to classify a given year as a leap year or not."
   ]
  },
  {
   "cell_type": "code",
   "execution_count": 5,
   "id": "7496b0b5-5b38-4a5d-b195-f615434a490d",
   "metadata": {},
   "outputs": [
    {
     "name": "stdout",
     "output_type": "stream",
     "text": [
      "1998 is not a leap year.\n"
     ]
    }
   ],
   "source": [
    "year=1998\n",
    "if (year % 4 == 0 and year % 100 != 0) or (year % 400 == 0):\n",
    "    print(year, \"is a leap year.\")\n",
    "else:\n",
    "    print(year, \"is not a leap year.\")"
   ]
  },
  {
   "cell_type": "code",
   "execution_count": null,
   "id": "fec2a6c6-d963-4c00-8ee4-0d3d3487b883",
   "metadata": {},
   "outputs": [],
   "source": [
    "5. Create a program that checks whether a character is a vowel or a consonant."
   ]
  },
  {
   "cell_type": "code",
   "execution_count": 8,
   "id": "dadd0bdb-d5ea-42c5-b443-dc5cb9707c6f",
   "metadata": {},
   "outputs": [
    {
     "name": "stdout",
     "output_type": "stream",
     "text": [
      "a is a vowel.\n"
     ]
    }
   ],
   "source": [
    "char=\"a\"\n",
    "char = char.lower()\n",
    "if char.isalpha() and len(char) == 1:\n",
    "    if char in 'aeiou':\n",
    "        print(char, \"is a vowel.\")\n",
    "    else:\n",
    "        print(char, \"is a consonant.\")\n",
    "else:\n",
    "    print(\"Please enter a single alphabetic character.\")"
   ]
  },
  {
   "cell_type": "code",
   "execution_count": null,
   "id": "8b468dd0-662d-4632-a32a-dedb3da0e655",
   "metadata": {},
   "outputs": [],
   "source": [
    "6. Implement a program to determine whether a given number is even or odd."
   ]
  },
  {
   "cell_type": "code",
   "execution_count": 9,
   "id": "df5465e7-41b0-4d88-af93-4b73099d0f2a",
   "metadata": {},
   "outputs": [
    {
     "name": "stdout",
     "output_type": "stream",
     "text": [
      "Number is not even\n"
     ]
    }
   ],
   "source": [
    "n=45\n",
    "if n%2==0:\n",
    "    print(\"Number is even\")\n",
    "else:\n",
    "    print(\"Number is not even\")"
   ]
  },
  {
   "cell_type": "code",
   "execution_count": null,
   "id": "b26bf5ab-67c5-4ffb-a4e8-ad1c17d83e50",
   "metadata": {},
   "outputs": [],
   "source": [
    "7. Write a Python function to calculate the absolute value of a number without using the `abs()` function."
   ]
  },
  {
   "cell_type": "code",
   "execution_count": 10,
   "id": "c30a0ab6-ae52-477c-8146-45cddb01fc33",
   "metadata": {},
   "outputs": [
    {
     "name": "stdout",
     "output_type": "stream",
     "text": [
      "The absolute value of -5 is 5\n"
     ]
    }
   ],
   "source": [
    "def absolute_value(number):\n",
    "    if number < 0:\n",
    "        return -number\n",
    "    else:\n",
    "        return number\n",
    "num = -5\n",
    "result = absolute_value(num)\n",
    "print(f\"The absolute value of {num} is {result}\")"
   ]
  },
  {
   "cell_type": "code",
   "execution_count": null,
   "id": "d9020193-8c6c-41fa-9ffa-235879c46d52",
   "metadata": {},
   "outputs": [],
   "source": [
    "8. Develop a program that determines the largest of three given numbers using if-else statements."
   ]
  },
  {
   "cell_type": "code",
   "execution_count": 11,
   "id": "16913e55-8d4f-4704-97fe-d926a1824bcd",
   "metadata": {},
   "outputs": [
    {
     "name": "stdout",
     "output_type": "stream",
     "text": [
      "The largest number among 45, 34, and 3 is 45.\n"
     ]
    }
   ],
   "source": [
    "num1,num2,num3=45,34,3\n",
    "if num1 >= num2 and num1 >= num3:\n",
    "    largest = num1\n",
    "elif num2 >= num1 and num2 >= num3:\n",
    "    largest = num2\n",
    "else:\n",
    "    largest = num3\n",
    "print(f\"The largest number among {num1}, {num2}, and {num3} is {largest}.\")"
   ]
  },
  {
   "cell_type": "code",
   "execution_count": null,
   "id": "f241349d-9689-47e7-acc6-45ca1aaf218a",
   "metadata": {},
   "outputs": [],
   "source": [
    "9. Create a program that checks if a given string is a palindrome."
   ]
  },
  {
   "cell_type": "code",
   "execution_count": 12,
   "id": "9d14e186-787d-460a-ac11-d52e09ebed46",
   "metadata": {},
   "outputs": [
    {
     "name": "stdout",
     "output_type": "stream",
     "text": [
      "Palindromic string\n"
     ]
    }
   ],
   "source": [
    "st=\"malayalam\"\n",
    "if st == st[::-1]:\n",
    "    print(\"Palindromic string\")\n",
    "else:\n",
    "    print(\"Not a Palindromic string\")"
   ]
  },
  {
   "cell_type": "code",
   "execution_count": null,
   "id": "cbaff78f-337c-43f3-81b9-15bdf22d7fcf",
   "metadata": {},
   "outputs": [],
   "source": [
    "10. Write a Python program to calculate the grade based on a student's score."
   ]
  },
  {
   "cell_type": "code",
   "execution_count": 13,
   "id": "dc953d01-132f-4fa8-bf14-7d6367b8bd9b",
   "metadata": {},
   "outputs": [
    {
     "name": "stdin",
     "output_type": "stream",
     "text": [
      "Enter the student's score:  56\n"
     ]
    },
    {
     "name": "stdout",
     "output_type": "stream",
     "text": [
      "The student's score is  56.0\n",
      "The student's grade is: F\n"
     ]
    }
   ],
   "source": [
    "score = float(input(\"Enter the student's score: \"))\n",
    "print(\"The student's score is \",score)\n",
    "if 90 <= score <= 100:\n",
    "    grade = 'A'\n",
    "elif 80 <= score < 90:\n",
    "    grade = 'B'\n",
    "elif 70 <= score < 80:\n",
    "    grade = 'C'\n",
    "elif 60 <= score < 70:\n",
    "    grade = 'D'\n",
    "elif 0 <= score < 60:\n",
    "    grade = 'F'\n",
    "else:\n",
    "    grade = 'Invalid (score out of range)'\n",
    "print(f\"The student's grade is: {grade}\")"
   ]
  },
  {
   "cell_type": "code",
   "execution_count": null,
   "id": "0a3c9707-08fd-4dab-9e7c-b78cc0bc4ee0",
   "metadata": {},
   "outputs": [],
   "source": [
    "Nested If-Else Statements:"
   ]
  },
  {
   "cell_type": "code",
   "execution_count": null,
   "id": "362a2a99-89d8-4f35-b364-c352ca3c52f8",
   "metadata": {},
   "outputs": [],
   "source": [
    "11. Write a program to find the largest among three numbers using nested if-else statements."
   ]
  },
  {
   "cell_type": "code",
   "execution_count": 14,
   "id": "0ee39257-bb34-4a82-9bcc-2e858cca7e57",
   "metadata": {},
   "outputs": [
    {
     "name": "stdout",
     "output_type": "stream",
     "text": [
      "The largest number among 78, 56, and 88 is 88.\n"
     ]
    }
   ],
   "source": [
    "num1,num2,num3=78,56,88\n",
    "if num1 >= num2:\n",
    "    if num1 >= num3:\n",
    "        largest = num1\n",
    "    else:\n",
    "        largest = num3\n",
    "else:\n",
    "    if num2 >= num3:\n",
    "        largest = num2\n",
    "    else:\n",
    "        largest = num3\n",
    "print(f\"The largest number among {num1}, {num2}, and {num3} is {largest}.\")"
   ]
  },
  {
   "cell_type": "code",
   "execution_count": null,
   "id": "a67486a9-7ddd-4bed-8c75-6cc7b173f42a",
   "metadata": {},
   "outputs": [],
   "source": [
    "12. Implement a program to determine if a triangle is equilateral, isosceles, or scalene."
   ]
  },
  {
   "cell_type": "code",
   "execution_count": 15,
   "id": "3981c30f-47d6-4667-984f-8246fd5ca4e0",
   "metadata": {},
   "outputs": [
    {
     "name": "stdout",
     "output_type": "stream",
     "text": [
      "Triangle is isoceles\n"
     ]
    }
   ],
   "source": [
    "s1,s2,s3=25,25,56\n",
    "if s1 == s2 or s2 == s3 or s3 == s1:\n",
    "    print(\"Triangle is isoceles\")\n",
    "elif s1 == s2 == s3:\n",
    "    print(\"Triangle is equilateral\")\n",
    "else:\n",
    "    print(\"Triangle is scalene\")"
   ]
  },
  {
   "cell_type": "code",
   "execution_count": null,
   "id": "5da754ed-ecdc-4795-8573-7f5d795c2909",
   "metadata": {},
   "outputs": [],
   "source": [
    "13. Develop a program that checks if a year is a leap year and also if it is a century year."
   ]
  },
  {
   "cell_type": "code",
   "execution_count": 16,
   "id": "b632cc4e-505c-4d7d-bdff-6675c24c2032",
   "metadata": {},
   "outputs": [
    {
     "name": "stdin",
     "output_type": "stream",
     "text": [
      "Enter a year:  1992\n"
     ]
    },
    {
     "name": "stdout",
     "output_type": "stream",
     "text": [
      "1992 is a leap year.\n",
      "1992 is not a century year.\n"
     ]
    }
   ],
   "source": [
    "year = int(input(\"Enter a year: \"))\n",
    "is_leap_year = False\n",
    "if (year % 4 == 0 and year % 100 != 0) or (year % 400 == 0):\n",
    "    is_leap_year = True\n",
    "is_century_year = year % 100 == 0\n",
    "if is_leap_year == True:\n",
    "    print(year, \"is a leap year.\")\n",
    "else:\n",
    "    print(year, \"is not a leap year.\")\n",
    "if is_century_year == True:\n",
    "    print(year, \"is a century year.\")\n",
    "else:\n",
    "    print(year, \"is not a century year.\")"
   ]
  },
  {
   "cell_type": "code",
   "execution_count": null,
   "id": "dd5cd325-4b12-4dbb-96c7-8ad13bc77830",
   "metadata": {},
   "outputs": [],
   "source": [
    "14. Write a Python script to determine if a number is positive, negative, or zero."
   ]
  },
  {
   "cell_type": "code",
   "execution_count": 17,
   "id": "5ee8a257-ff8b-4d75-a152-28d8dcb9293d",
   "metadata": {},
   "outputs": [
    {
     "name": "stdin",
     "output_type": "stream",
     "text": [
      "Enter a number:-  5\n"
     ]
    },
    {
     "name": "stdout",
     "output_type": "stream",
     "text": [
      "Number provided is:-  5\n",
      "Number is positive\n"
     ]
    }
   ],
   "source": [
    "num=int(input(\"Enter a number:- \"))\n",
    "print(\"Number provided is:- \",num)\n",
    "if num > 0:\n",
    "    print(\"Number is positive\")\n",
    "elif num < 0:\n",
    "    print(\"Number is negative\")\n",
    "else:\n",
    "    print(\"Number is 0\")"
   ]
  },
  {
   "cell_type": "code",
   "execution_count": null,
   "id": "cd72081b-f902-4046-9ba9-ce12dc98628c",
   "metadata": {},
   "outputs": [],
   "source": [
    "15. Create a program to check if a person is a teenager (between 13 and 19 years old)."
   ]
  },
  {
   "cell_type": "code",
   "execution_count": 22,
   "id": "602d67dc-2f7f-482c-8cbb-b917f4cfbdcd",
   "metadata": {},
   "outputs": [
    {
     "name": "stdin",
     "output_type": "stream",
     "text": [
      "Enter the person's age 15\n"
     ]
    },
    {
     "name": "stdout",
     "output_type": "stream",
     "text": [
      "The person's age is :-  15\n",
      "Person is a teenager\n"
     ]
    }
   ],
   "source": [
    "age=int(input(\"Enter the person's age\"))\n",
    "print(\"The person's age is :- \",age)\n",
    "if 13 < age <19:\n",
    "    print(\"Person is a teenager\")\n",
    "else:\n",
    "    print(\"Person is not a teenager\")"
   ]
  },
  {
   "cell_type": "code",
   "execution_count": null,
   "id": "bc866a18-5410-44eb-b882-ed5fc6bd5882",
   "metadata": {},
   "outputs": [],
   "source": [
    "16. Develop a program that determines the type of angle based on its measure (acute, obtuse, or right)."
   ]
  },
  {
   "cell_type": "code",
   "execution_count": 24,
   "id": "d1a5c8d3-ed10-4b7a-bf84-eb40dfcf645d",
   "metadata": {},
   "outputs": [
    {
     "name": "stdin",
     "output_type": "stream",
     "text": [
      "Enter the measure of the angle in degrees:  120\n"
     ]
    },
    {
     "name": "stdout",
     "output_type": "stream",
     "text": [
      "The measure of the angle in the triangle is :-  120.0\n",
      "The angle with a measure of 120.0 degrees is a Obtuse angle.\n"
     ]
    }
   ],
   "source": [
    "angle_measure = float(input(\"Enter the measure of the angle in degrees: \"))\n",
    "print(\"The measure of the angle in the triangle is :- \",angle_measure)\n",
    "if angle_measure < 90:\n",
    "    angle_type = \"Acute\"\n",
    "elif angle_measure == 90:\n",
    "    angle_type = \"Right\"\n",
    "elif angle_measure > 90 and angle_measure < 180:\n",
    "    angle_type = \"Obtuse\"\n",
    "else:\n",
    "    angle_type = \"Reflex\"\n",
    "print(f\"The angle with a measure of {angle_measure} degrees is a {angle_type} angle.\")"
   ]
  },
  {
   "cell_type": "code",
   "execution_count": null,
   "id": "ed1d5296-a9a5-4b34-845d-c417197cd26f",
   "metadata": {},
   "outputs": [],
   "source": [
    "17. Write a Python program to calculate the roots of a quadratic equation."
   ]
  },
  {
   "cell_type": "code",
   "execution_count": 28,
   "id": "2179b693-15cf-4ee1-9b9b-8cabb0746d28",
   "metadata": {},
   "outputs": [
    {
     "name": "stdout",
     "output_type": "stream",
     "text": [
      "The roots are complex: -1.0 + 1.4142135623730951i and -1.0 - 1.4142135623730951i\n"
     ]
    }
   ],
   "source": [
    "a,b,c=5,10,15\n",
    "D = b**2 - 4*a*c\n",
    "if D > 0:\n",
    "    root1 = (-b + (D**0.5)) / (2*a)\n",
    "    root2 = (-b - (D**0.5)) / (2*a)\n",
    "    print(f\"The roots are real and distinct: {root1} and {root2}\")\n",
    "elif D == 0:\n",
    "    root1 = -b / (2*a)\n",
    "    print(f\"There is one real root (repeated): {root1}\")\n",
    "else:\n",
    "    real_part = -b / (2*a)\n",
    "    imaginary_part = (abs(D)**0.5) / (2*a)\n",
    "    print(f\"The roots are complex: {real_part} + {imaginary_part}i and {real_part} - {imaginary_part}i\")"
   ]
  },
  {
   "cell_type": "code",
   "execution_count": null,
   "id": "c6a09da6-1912-4a30-80a1-f9a8109105d8",
   "metadata": {},
   "outputs": [],
   "source": [
    "18. Implement a program to determine the day of the week based on a user-provided number (1 for Monday, 2 for Tuesday, etc.)."
   ]
  },
  {
   "cell_type": "code",
   "execution_count": 29,
   "id": "7c5297c7-71db-4efd-a749-dfaeae8dd458",
   "metadata": {},
   "outputs": [
    {
     "name": "stdout",
     "output_type": "stream",
     "text": [
      "The day corresponding to 5 is Friday.\n"
     ]
    }
   ],
   "source": [
    "day_number = 5\n",
    "days_of_week = [\"Monday\", \"Tuesday\", \"Wednesday\", \"Thursday\", \"Friday\", \"Saturday\", \"Sunday\"]\n",
    "if 1 <= day_number <= 7:\n",
    "    day_name = days_of_week[day_number - 1]\n",
    "    print(f\"The day corresponding to {day_number} is {day_name}.\")\n",
    "else:\n",
    "    print(\"Invalid input. Please enter a number between 1 and 7.\")"
   ]
  },
  {
   "cell_type": "code",
   "execution_count": null,
   "id": "ee19b71f-a15e-4169-8944-c8065871f15a",
   "metadata": {},
   "outputs": [],
   "source": [
    "19. Create a program that determines if a year is a leap year and also if it is evenly divisible by 400."
   ]
  },
  {
   "cell_type": "code",
   "execution_count": 32,
   "id": "bc1ebd56-0b6c-4db3-a659-96bcf1d10b2b",
   "metadata": {},
   "outputs": [
    {
     "name": "stdin",
     "output_type": "stream",
     "text": [
      "Enter a year:  2000\n"
     ]
    },
    {
     "name": "stdout",
     "output_type": "stream",
     "text": [
      "Year provided:-  2000\n",
      "2000 is a leap year and evenly divisible by 400.\n"
     ]
    }
   ],
   "source": [
    "year = int(input(\"Enter a year: \"))\n",
    "print(\"Year provided:- \",year)\n",
    "is_leap_year = (year % 4 == 0 and (year % 100 != 0 or year % 400 == 0))\n",
    "\n",
    "if is_leap_year:\n",
    "    print(year, \"is a leap year and evenly divisible by 400.\")\n",
    "else:\n",
    "    print(year, \"is not a leap year or not evenly divisible by 400.\")"
   ]
  },
  {
   "cell_type": "code",
   "execution_count": null,
   "id": "c1de0c68-eef1-4fc1-ab2e-a5380adec467",
   "metadata": {},
   "outputs": [],
   "source": [
    "20. Develop a program that checks if a given number is prime or not using nested if-else statements."
   ]
  },
  {
   "cell_type": "code",
   "execution_count": 35,
   "id": "79ce65b4-094e-4a79-991a-b04eb1a54951",
   "metadata": {},
   "outputs": [
    {
     "name": "stdin",
     "output_type": "stream",
     "text": [
      "Enter a number:  83\n"
     ]
    },
    {
     "name": "stdout",
     "output_type": "stream",
     "text": [
      "Number is :-  83\n",
      "83 is a prime number.\n"
     ]
    }
   ],
   "source": [
    "num = int(input(\"Enter a number: \"))\n",
    "print(\"Number is :- \",num)\n",
    "if num > 1:\n",
    "    for i in range(2, int(num ** 0.5) + 1):\n",
    "        if num % i == 0:\n",
    "            print(num, \"is not a prime number.\")\n",
    "            break\n",
    "    else:\n",
    "        print(num, \"is a prime number.\")\n",
    "else:\n",
    "    print(num, \"is not a prime number.\")"
   ]
  },
  {
   "cell_type": "code",
   "execution_count": null,
   "id": "3194804c-80f4-4b52-9791-54473507d846",
   "metadata": {},
   "outputs": [],
   "source": [
    "Elif Statements:"
   ]
  },
  {
   "cell_type": "code",
   "execution_count": null,
   "id": "c786bbba-35e3-491e-8196-4abbaeeda1a3",
   "metadata": {},
   "outputs": [],
   "source": [
    "21. Write a Python program to assign grades based on different ranges of scores using elif statements."
   ]
  },
  {
   "cell_type": "code",
   "execution_count": 36,
   "id": "9debe40f-4b2d-4909-97c8-cc916e7431b6",
   "metadata": {},
   "outputs": [
    {
     "name": "stdin",
     "output_type": "stream",
     "text": [
      "Enter the student's score:  87\n"
     ]
    },
    {
     "name": "stdout",
     "output_type": "stream",
     "text": [
      "The student's score is  87.0\n",
      "The student's grade is: B\n"
     ]
    }
   ],
   "source": [
    "score = float(input(\"Enter the student's score: \"))\n",
    "print(\"The student's score is \",score)\n",
    "if 90 <= score <= 100:\n",
    "    grade = 'A'\n",
    "elif 80 <= score < 90:\n",
    "    grade = 'B'\n",
    "elif 70 <= score < 80:\n",
    "    grade = 'C'\n",
    "elif 60 <= score < 70:\n",
    "    grade = 'D'\n",
    "elif 0 <= score < 60:\n",
    "    grade = 'F'\n",
    "else:\n",
    "    grade = 'Invalid (score out of range)'\n",
    "print(f\"The student's grade is: {grade}\")"
   ]
  },
  {
   "cell_type": "code",
   "execution_count": null,
   "id": "2d068655-f727-445f-8cd9-2629d5389b32",
   "metadata": {},
   "outputs": [],
   "source": [
    "22. Implement a program to determine the type of a triangle based on its angles."
   ]
  },
  {
   "cell_type": "code",
   "execution_count": 39,
   "id": "d9d5ad25-5a8c-4044-a8f8-eb04e685e260",
   "metadata": {},
   "outputs": [
    {
     "name": "stdout",
     "output_type": "stream",
     "text": [
      "Invalid input: The angles do not form a valid triangle.\n"
     ]
    }
   ],
   "source": [
    "angle1,angle2,angle3=78,56,47\n",
    "if angle1 + angle2 + angle3 == 180:\n",
    "    if angle1 < 90 and angle2 < 90 and angle3 < 90:\n",
    "        triangle_type = \"Acute\"\n",
    "    elif angle1 == 90 or angle2 == 90 or angle3 == 90:\n",
    "        triangle_type = \"Right\"\n",
    "    else:\n",
    "        triangle_type = \"Obtuse\"\n",
    "    print(f\"The triangle with angles {angle1}, {angle2}, and {angle3} degrees is a {triangle_type} triangle.\")\n",
    "else:\n",
    "    print(\"Invalid input: The angles do not form a valid triangle.\")"
   ]
  },
  {
   "cell_type": "code",
   "execution_count": null,
   "id": "21fc547b-1ab4-4981-8667-2d70aa5ad551",
   "metadata": {},
   "outputs": [],
   "source": [
    "23. Develop a program to categorize a given person's BMI into underweight, normal, overweight, or obese using elif statements."
   ]
  },
  {
   "cell_type": "code",
   "execution_count": 42,
   "id": "d46b491c-f1d2-43f1-8683-d77a75e4719d",
   "metadata": {},
   "outputs": [
    {
     "name": "stdout",
     "output_type": "stream",
     "text": [
      "Your BMI is 22.40, which falls into the category: Normal\n"
     ]
    }
   ],
   "source": [
    "weight,height=80,1.89\n",
    "bmi = weight / (height ** 2)\n",
    "if bmi < 18.5:\n",
    "    category = \"Underweight\"\n",
    "elif 18.5 <= bmi < 24.9:\n",
    "    category = \"Normal\"\n",
    "elif 24.9 <= bmi < 29.9:\n",
    "    category = \"Overweight\"\n",
    "else:\n",
    "    category = \"Obese\"\n",
    "print(f\"Your BMI is {bmi:.2f}, which falls into the category: {category}\")"
   ]
  },
  {
   "cell_type": "code",
   "execution_count": null,
   "id": "1518d287-8236-4bbd-a6a0-754a0f2500f6",
   "metadata": {},
   "outputs": [],
   "source": [
    "24. Create a program that determines whether a given number is positive, negative, or zero using elif\n",
    "statements."
   ]
  },
  {
   "cell_type": "code",
   "execution_count": 43,
   "id": "867b6d9e-55d1-4b49-82c9-88ba89129aa3",
   "metadata": {},
   "outputs": [
    {
     "name": "stdin",
     "output_type": "stream",
     "text": [
      "Enter a number:-  0\n"
     ]
    },
    {
     "name": "stdout",
     "output_type": "stream",
     "text": [
      "Number provided is:-  0\n",
      "Number is 0\n"
     ]
    }
   ],
   "source": [
    "num=int(input(\"Enter a number:- \"))\n",
    "print(\"Number provided is:- \",num)\n",
    "if num > 0:\n",
    "    print(\"Number is positive\")\n",
    "elif num < 0:\n",
    "    print(\"Number is negative\")\n",
    "else:\n",
    "    print(\"Number is 0\")"
   ]
  },
  {
   "cell_type": "code",
   "execution_count": null,
   "id": "05e88022-c226-4dfb-926f-4c459db83ff2",
   "metadata": {},
   "outputs": [],
   "source": [
    "25. Write a Python script to determine the type of a character (uppercase, lowercase, or special) using elif\n",
    "statements."
   ]
  },
  {
   "cell_type": "code",
   "execution_count": 46,
   "id": "86078ef3-9a7e-4e72-b648-aa8baa6ba6b8",
   "metadata": {},
   "outputs": [
    {
     "name": "stdout",
     "output_type": "stream",
     "text": [
      "Character is LowerCase\n"
     ]
    }
   ],
   "source": [
    "char = \"a\"\n",
    "\n",
    "if char.isupper():\n",
    "    print(\"Character is UpperCase\")\n",
    "elif char.islower():\n",
    "    print(\"Character is LowerCase\")\n",
    "else:\n",
    "    print(\"Character is a special character\")"
   ]
  },
  {
   "cell_type": "code",
   "execution_count": null,
   "id": "f7757ad2-0f5b-4249-a763-7c9465458cde",
   "metadata": {},
   "outputs": [],
   "source": [
    "26. Implement a program to calculate the discounted price based on different purchase amounts using elif\n",
    "statements."
   ]
  },
  {
   "cell_type": "code",
   "execution_count": 48,
   "id": "c5985878-bcaa-4662-a0ba-d60c3a100c1d",
   "metadata": {},
   "outputs": [
    {
     "name": "stdin",
     "output_type": "stream",
     "text": [
      "Enter the purchase amount:  560\n"
     ]
    },
    {
     "name": "stdout",
     "output_type": "stream",
     "text": [
      "The purchased amount is :-  560.0\n",
      "The discounted price is: $504.00\n"
     ]
    }
   ],
   "source": [
    "purchase_amount = float(input(\"Enter the purchase amount: \"))\n",
    "print(\"The purchased amount is :- \",purchase_amount)\n",
    "discounted_price = purchase_amount  \n",
    "if purchase_amount >= 100:\n",
    "    discounted_price *= 0.9 \n",
    "elif purchase_amount >= 50:\n",
    "    discounted_price *= 0.95 \n",
    "elif purchase_amount >= 25:\n",
    "    discounted_price *= 0.98 \n",
    "print(f\"The discounted price is: ${discounted_price:.2f}\")"
   ]
  },
  {
   "cell_type": "code",
   "execution_count": null,
   "id": "5abbb70d-82fe-45f4-8093-132dbb218a4a",
   "metadata": {},
   "outputs": [],
   "source": [
    "27. Develop a program to calculate the electricity bill based on different consumption slabs using elif\n",
    "statements."
   ]
  },
  {
   "cell_type": "code",
   "execution_count": 49,
   "id": "e101b07a-1812-4c64-b53a-c935bf953341",
   "metadata": {},
   "outputs": [
    {
     "name": "stdout",
     "output_type": "stream",
     "text": [
      "The electricity bill for 200 kWh is: $120.00\n"
     ]
    }
   ],
   "source": [
    "consumption = 200\n",
    "total_bill = 0.0\n",
    "slab1_limit = 100  \n",
    "slab2_limit = 200  \n",
    "slab3_limit = 300 \n",
    "rate_slab1 = 0.5  \n",
    "rate_slab2 = 0.7  \n",
    "rate_slab3 = 1.0  \n",
    "if consumption <= slab1_limit:\n",
    "    total_bill = consumption * rate_slab1\n",
    "elif consumption <= slab2_limit:\n",
    "    total_bill = (slab1_limit * rate_slab1) + ((consumption - slab1_limit) * rate_slab2)\n",
    "elif consumption <= slab3_limit:\n",
    "    total_bill = (slab1_limit * rate_slab1) + (slab2_limit * rate_slab2) + ((consumption - slab2_limit) * rate_slab3)\n",
    "else:\n",
    "    total_bill = (slab1_limit * rate_slab1) + (slab2_limit * rate_slab2) + (slab3_limit * rate_slab3) + ((consumption - slab3_limit) * rate_slab3)\n",
    "print(f\"The electricity bill for {consumption} kWh is: ${total_bill:.2f}\")"
   ]
  },
  {
   "cell_type": "code",
   "execution_count": null,
   "id": "385ddf5e-9a5b-4bd5-a88f-0f6eead40863",
   "metadata": {},
   "outputs": [],
   "source": [
    "28. Create a program to determine the type of quadrilateral based on its angles and sides using elif\n",
    "statements."
   ]
  },
  {
   "cell_type": "code",
   "execution_count": 52,
   "id": "40259688-3d4f-4f37-9793-bac73c86596a",
   "metadata": {},
   "outputs": [
    {
     "name": "stdout",
     "output_type": "stream",
     "text": [
      "The quadrilateral is a Quadrilateral (General quadrilateral).\n"
     ]
    }
   ],
   "source": [
    "angle1,angle2,angle3,angle4 = 80,100,90,90\n",
    "side1,side2,side3,side4=55,77,55,78\n",
    "if angle1 + angle2 + angle3 + angle4 == 360 and side1 + side2 + side3 + side4 > 0:\n",
    "    if angle1 == angle2 == angle3 == angle4 == 90:\n",
    "        quadrilateral_type = \"Square (All angles are right angles)\"\n",
    "    elif angle1 == angle2 == angle3 == angle4:\n",
    "        quadrilateral_type = \"Rectangle (All angles are equal but not necessarily right angles)\"\n",
    "    elif side1 == side2 == side3 == side4:\n",
    "        quadrilateral_type = \"Rhombus (All sides are equal)\"\n",
    "    elif angle1 == angle3 and angle2 == angle4 and side1 == side3 and side2 == side4:\n",
    "        quadrilateral_type = \"Parallelogram (Opposite angles and sides are equal)\"\n",
    "    elif angle1 == angle2 and angle3 == angle4 and side1 != side2 and side3 != side4:\n",
    "        quadrilateral_type = \"Kite (Two pairs of adjacent angles are equal)\"\n",
    "    else:\n",
    "        quadrilateral_type = \"Quadrilateral (General quadrilateral)\"\n",
    "    print(f\"The quadrilateral is a {quadrilateral_type}.\")\n",
    "else:\n",
    "    print(\"Invalid input: The angles do not add up to 360 degrees or the sides are not positive.\")"
   ]
  },
  {
   "cell_type": "code",
   "execution_count": null,
   "id": "1ed3305e-2053-413b-bcc1-d4d138491f2f",
   "metadata": {},
   "outputs": [],
   "source": [
    "29. Write a Python script to determine the season based on a user-provided month using elif statements."
   ]
  },
  {
   "cell_type": "code",
   "execution_count": 53,
   "id": "8561f73e-3c06-4cb5-9c2f-a04a47f377e7",
   "metadata": {},
   "outputs": [
    {
     "name": "stdout",
     "output_type": "stream",
     "text": [
      "The season for month 6 is Summer.\n"
     ]
    }
   ],
   "source": [
    "month = 6\n",
    "if 3 <= month <= 5:\n",
    "    season = \"Spring\"\n",
    "elif 6 <= month <= 8:\n",
    "    season = \"Summer\"\n",
    "elif 9 <= month <= 11:\n",
    "    season = \"Autumn (Fall)\"\n",
    "elif month == 12 or month == 1 or month == 2:\n",
    "    season = \"Winter\"\n",
    "else:\n",
    "    season = \"Invalid month\"\n",
    "if season != \"Invalid month\":\n",
    "    print(f\"The season for month {month} is {season}.\")\n",
    "else:\n",
    "    print(\"Invalid input: Please enter a month between 1 and 12.\")"
   ]
  },
  {
   "cell_type": "code",
   "execution_count": null,
   "id": "ebe3ff1e-7e82-404d-b97b-22f8bf5d756d",
   "metadata": {},
   "outputs": [],
   "source": [
    "30. Implement a program to determine the type of a year (leap or common) and month (30 or 31 days) using\n",
    "elif statements."
   ]
  },
  {
   "cell_type": "code",
   "execution_count": 55,
   "id": "d448dd72-41c2-4b61-a1ed-17f2d66e16f2",
   "metadata": {},
   "outputs": [
    {
     "name": "stdout",
     "output_type": "stream",
     "text": [
      "2002 is a common year.\n",
      "The month 10 has 31 days.\n"
     ]
    }
   ],
   "source": [
    "year = 2002\n",
    "month = 10\n",
    "is_leap_year = (year % 4 == 0 and (year % 100 != 0 or year % 400 == 0))\n",
    "if 1 <= month <= 12:\n",
    "    if month in [4, 6, 9, 11]:\n",
    "        days_in_month = 30\n",
    "    elif month == 2:\n",
    "        if is_leap_year:\n",
    "            days_in_month = 29\n",
    "        else:\n",
    "            days_in_month = 28\n",
    "    else:\n",
    "        days_in_month = 31\n",
    "    if is_leap_year:\n",
    "        print(f\"{year} is a leap year.\")\n",
    "    else:\n",
    "        print(f\"{year} is a common year.\")\n",
    "    print(f\"The month {month} has {days_in_month} days.\")\n",
    "else:\n",
    "    print(\"Invalid input: Please enter a valid month (1-12).\")"
   ]
  },
  {
   "cell_type": "code",
   "execution_count": null,
   "id": "4bb6056e-a60a-4943-bf1a-acb2e80f11ea",
   "metadata": {},
   "outputs": [],
   "source": []
  }
 ],
 "metadata": {
  "kernelspec": {
   "display_name": "Python 3 (ipykernel)",
   "language": "python",
   "name": "python3"
  },
  "language_info": {
   "codemirror_mode": {
    "name": "ipython",
    "version": 3
   },
   "file_extension": ".py",
   "mimetype": "text/x-python",
   "name": "python",
   "nbconvert_exporter": "python",
   "pygments_lexer": "ipython3",
   "version": "3.10.8"
  }
 },
 "nbformat": 4,
 "nbformat_minor": 5
}
