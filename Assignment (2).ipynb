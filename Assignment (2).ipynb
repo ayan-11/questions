{
 "cells": [
  {
   "cell_type": "markdown",
   "id": "e2524775-344e-4ff1-adc6-4874e05eac0d",
   "metadata": {},
   "source": [
    "Problem 1.Given an array of n numbers, give an algorithm which gives the element appearing maximum\n",
    "number of times?"
   ]
  },
  {
   "cell_type": "code",
   "execution_count": 1,
   "id": "d736bc86-ff98-4558-a15d-b55ce717f774",
   "metadata": {},
   "outputs": [
    {
     "name": "stdout",
     "output_type": "stream",
     "text": [
      "Element appearing maximum number of times: 1\n"
     ]
    }
   ],
   "source": [
    "def max_occurrence(arr):\n",
    "    frequency = {}\n",
    "    \n",
    "    # Count frequency of each element\n",
    "    for num in arr:\n",
    "        frequency[num] = frequency.get(num, 0) + 1\n",
    "    \n",
    "    # Find element with maximum frequency\n",
    "    max_freq_element = None\n",
    "    max_freq = float('-inf')\n",
    "    for num, freq in frequency.items():\n",
    "        if freq > max_freq:\n",
    "            max_freq = freq\n",
    "            max_freq_element = num\n",
    "    \n",
    "    return max_freq_element\n",
    "\n",
    "# Test the algorithm\n",
    "arr = [1, 2, 3, 4, 5, 1, 2, 3, 1, 2, 1]\n",
    "print(\"Element appearing maximum number of times:\", max_occurrence(arr))\n"
   ]
  },
  {
   "cell_type": "markdown",
   "id": "49cba0f3-5aef-4be3-a606-5917974ba40e",
   "metadata": {},
   "source": [
    "Problem 2 : We are given a list of n-1 integers and these integers are in the range of 1 to n . There are no\n",
    "duplicates in the list. One of the integers is missing in the list. Give an algorithm to find that element Ex:\n",
    "[1,2,4,6,3,7,8] 5 is the missing num."
   ]
  },
  {
   "cell_type": "code",
   "execution_count": 2,
   "id": "193914f2-a141-4226-8cdf-7db65b061c36",
   "metadata": {},
   "outputs": [
    {
     "name": "stdout",
     "output_type": "stream",
     "text": [
      "Missing number: 5\n"
     ]
    }
   ],
   "source": [
    "def find_missing_number(nums):\n",
    "    # Calculate the sum of all integers from 1 to n\n",
    "    n = len(nums) + 1\n",
    "    total_sum = (n * (n + 1)) // 2\n",
    "    \n",
    "    # Calculate the sum of all integers in the given list\n",
    "    list_sum = sum(nums)\n",
    "    \n",
    "    # Subtract the sum of the given list from the sum of all integers from 1 to n\n",
    "    missing_number = total_sum - list_sum\n",
    "    \n",
    "    return missing_number\n",
    "\n",
    "# Test the algorithm\n",
    "nums = [1, 2, 4, 6, 3, 7, 8]\n",
    "print(\"Missing number:\", find_missing_number(nums))\n"
   ]
  },
  {
   "cell_type": "markdown",
   "id": "9a128fbe-38c9-4dc8-8d17-7cb8be0ba9a3",
   "metadata": {},
   "source": [
    "Problem 3 : Given an array of n positive numbers. All numbers occurs even number of times except 1 which\n",
    "occurs odd number of times. Find that number in O(n) time and O(1) space. Ex: [1,2,3,2,3,1,3]. 3 is repeats odd\n",
    "times."
   ]
  },
  {
   "cell_type": "code",
   "execution_count": 3,
   "id": "59d792f8-a2d6-4e53-b917-898b93c3dfed",
   "metadata": {},
   "outputs": [
    {
     "name": "stdout",
     "output_type": "stream",
     "text": [
      "Number occurring odd number of times: 3\n"
     ]
    }
   ],
   "source": [
    "def find_odd_occurrence(arr):\n",
    "    result = 0\n",
    "    for num in arr:\n",
    "        result ^= num\n",
    "    return result\n",
    "\n",
    "# Test the algorithm\n",
    "arr = [1, 2, 3, 2, 3, 1, 3]\n",
    "print(\"Number occurring odd number of times:\", find_odd_occurrence(arr))\n"
   ]
  },
  {
   "cell_type": "markdown",
   "id": "4f7c422e-ed3d-437e-be1a-17c0cfc51161",
   "metadata": {},
   "source": [
    "Problem 4 : Given an array of n elements. Find two elements in the array such that their sum is equal to given\n",
    "element K."
   ]
  },
  {
   "cell_type": "code",
   "execution_count": 1,
   "id": "421dc86a-3865-4f49-bf35-73ab1b9ff49b",
   "metadata": {},
   "outputs": [
    {
     "name": "stdout",
     "output_type": "stream",
     "text": [
      "Pair with sum 7 : (4, 3)\n"
     ]
    }
   ],
   "source": [
    "def find_pair_with_sum(arr, K):\n",
    "    seen = set()\n",
    "    for num in arr:\n",
    "        diff = K - num\n",
    "        if diff in seen:\n",
    "            return num, diff\n",
    "        seen.add(num)\n",
    "    return None\n",
    "\n",
    "# Test the algorithm\n",
    "arr = [1, 2, 3, 4, 5]\n",
    "K = 7\n",
    "pair = find_pair_with_sum(arr, K)\n",
    "if pair:\n",
    "    print(\"Pair with sum\", K, \":\", pair)\n",
    "else:\n",
    "    print(\"No pair found with sum\", K)\n"
   ]
  },
  {
   "cell_type": "markdown",
   "id": "e08ed82f-79b3-490b-9103-c57f17765145",
   "metadata": {},
   "source": [
    "Problem 5 : Given an array of both positive and negative numbers, find two numbers such that their sum is\n",
    "closest to 0. Ex: [ 1 ,60 ,-10, 70, -80,85]. Ans : -80,85."
   ]
  },
  {
   "cell_type": "code",
   "execution_count": 3,
   "id": "1dfb7325-41c1-4894-9b96-636c79c27a26",
   "metadata": {},
   "outputs": [
    {
     "name": "stdout",
     "output_type": "stream",
     "text": [
      "Two numbers closest to 0: (-80, 85)\n"
     ]
    }
   ],
   "source": [
    "def closest_to_zero(arr):\n",
    "    arr.sort()\n",
    "    left, right = 0, len(arr) - 1\n",
    "    min_sum = float('inf')\n",
    "    closest_pair = None\n",
    "    while left < right:\n",
    "        curr_sum = arr[left] + arr[right]\n",
    "        if abs(curr_sum) < min_sum:\n",
    "            min_sum = abs(curr_sum)\n",
    "            closest_pair = (arr[left], arr[right])\n",
    "        if curr_sum < 0:\n",
    "            left += 1\n",
    "        elif curr_sum > 0:\n",
    "            right -= 1\n",
    "        else:\n",
    "            return closest_pair\n",
    "    return closest_pair\n",
    "\n",
    "# Test the algorithm\n",
    "arr = [1, 60, -10, 70, -80, 85]\n",
    "print(\"Two numbers closest to 0:\", closest_to_zero(arr))\n"
   ]
  },
  {
   "cell_type": "markdown",
   "id": "07bd4649-4725-4dfe-844d-b0eef392e8ee",
   "metadata": {},
   "source": [
    "Problem 6 : Given an array of n elements . Find three elements such that their sum is equal to the given\n",
    "number."
   ]
  },
  {
   "cell_type": "code",
   "execution_count": 4,
   "id": "6191c4e3-445d-4c23-956e-fe330fb6204e",
   "metadata": {},
   "outputs": [
    {
     "name": "stdout",
     "output_type": "stream",
     "text": [
      "Three elements with sum 16 : (2, 5, 9)\n"
     ]
    }
   ],
   "source": [
    "def find_three_elements_with_sum(arr, K):\n",
    "    arr.sort()\n",
    "    for i in range(len(arr) - 2):\n",
    "        left, right = i + 1, len(arr) - 1\n",
    "        while left < right:\n",
    "            curr_sum = arr[i] + arr[left] + arr[right]\n",
    "            if curr_sum == K:\n",
    "                return arr[i], arr[left], arr[right]\n",
    "            elif curr_sum < K:\n",
    "                left += 1\n",
    "            else:\n",
    "                right -= 1\n",
    "    return None\n",
    "\n",
    "# Test the algorithm\n",
    "arr = [1, 4, 7, 2, 5, 9]\n",
    "K = 16\n",
    "result = find_three_elements_with_sum(arr, K)\n",
    "print(\"Three elements with sum\", K, \":\", result)\n"
   ]
  },
  {
   "cell_type": "markdown",
   "id": "9aa0925c-d906-4519-9b7d-8509705ba624",
   "metadata": {},
   "source": [
    "Problem 7 : Given an array of n elements . Find three elements i, j, k in the array such that\n",
    "i * i + j * j = k*k."
   ]
  },
  {
   "cell_type": "code",
   "execution_count": 5,
   "id": "49cbcf66-2171-48b1-bcc6-84b6aa1d2a6d",
   "metadata": {},
   "outputs": [
    {
     "name": "stdout",
     "output_type": "stream",
     "text": [
      "Pythagorean triplet found: (3, 4, 5)\n"
     ]
    }
   ],
   "source": [
    "def find_pythagorean_triplet(arr):\n",
    "    arr.sort()  # Sort the array in non-decreasing order\n",
    "    n = len(arr)\n",
    "    for k in range(n - 1, 1, -1):\n",
    "        i = 0\n",
    "        j = k - 1\n",
    "        while i < j:\n",
    "            if arr[i] * arr[i] + arr[j] * arr[j] == arr[k] * arr[k]:\n",
    "                return (arr[i], arr[j], arr[k])\n",
    "            elif arr[i] * arr[i] + arr[j] * arr[j] < arr[k] * arr[k]:\n",
    "                i += 1\n",
    "            else:\n",
    "                j -= 1\n",
    "    return None\n",
    "\n",
    "# Example usage:\n",
    "arr = [3, 1, 4, 6, 5]\n",
    "result = find_pythagorean_triplet(arr)\n",
    "if result:\n",
    "    print(\"Pythagorean triplet found:\", result)\n",
    "else:\n",
    "    print(\"No Pythagorean triplet found.\")\n"
   ]
  },
  {
   "cell_type": "markdown",
   "id": "b0ff493b-6d43-4769-983f-5379bcaeb784",
   "metadata": {},
   "source": [
    "Problem 8 : An element is a majority if it appears more than n/2 times. Give an algorithm takes an array of n\n",
    "element as argument and identifies a majority (if it exists)."
   ]
  },
  {
   "cell_type": "code",
   "execution_count": 6,
   "id": "ba2110e7-7097-4b14-8020-35f3fe2eec8d",
   "metadata": {},
   "outputs": [
    {
     "name": "stdout",
     "output_type": "stream",
     "text": [
      "Majority element: 4\n"
     ]
    }
   ],
   "source": [
    "def find_majority_element(arr):\n",
    "    candidate = None\n",
    "    count = 0\n",
    "    \n",
    "    # Find potential candidate\n",
    "    for num in arr:\n",
    "        if count == 0:\n",
    "            candidate = num\n",
    "            count = 1\n",
    "        elif num == candidate:\n",
    "            count += 1\n",
    "        else:\n",
    "            count -= 1\n",
    "    \n",
    "    # Verify if the candidate is a majority element\n",
    "    if arr.count(candidate) > len(arr) / 2:\n",
    "        return candidate\n",
    "    else:\n",
    "        return None\n",
    "\n",
    "# Example usage:\n",
    "arr = [3, 3, 4, 2, 4, 4, 2, 4, 4]  # Example array\n",
    "result = find_majority_element(arr)\n",
    "if result:\n",
    "    print(\"Majority element:\", result)\n",
    "else:\n",
    "    print(\"No majority element found.\")\n"
   ]
  },
  {
   "cell_type": "markdown",
   "id": "20a77f3f-6503-4a8a-98d8-a04385dc7494",
   "metadata": {},
   "source": [
    "Problem 9 : Given n × n matrix, and in each row all 1’s are followed by 0’s. Find the row with the maximum\n",
    "number of 0’s."
   ]
  },
  {
   "cell_type": "code",
   "execution_count": 7,
   "id": "76f190ef-3263-4004-80f0-ff06c9d56936",
   "metadata": {},
   "outputs": [
    {
     "name": "stdout",
     "output_type": "stream",
     "text": [
      "Row with maximum number of zeros: 2\n"
     ]
    }
   ],
   "source": [
    "def find_max_zeros_row(matrix):\n",
    "    n = len(matrix)\n",
    "    max_zeros_row = -1\n",
    "    max_zeros_count = 0\n",
    "    row = 0\n",
    "    col = n - 1\n",
    "    \n",
    "    # Traverse the matrix row-wise and column-wise\n",
    "    while row < n and col >= 0:\n",
    "        # If the current element is 0, move left\n",
    "        if matrix[row][col] == 0:\n",
    "            col -= 1\n",
    "            # Update max_zeros_count and max_zeros_row if necessary\n",
    "            zeros_count = n - col - 1\n",
    "            if zeros_count > max_zeros_count:\n",
    "                max_zeros_count = zeros_count\n",
    "                max_zeros_row = row\n",
    "        # If the current element is 1, move down to the next row\n",
    "        else:\n",
    "            row += 1\n",
    "    \n",
    "    return max_zeros_row\n",
    "\n",
    "# Example usage:\n",
    "matrix = [\n",
    "    [1, 1, 1, 0],\n",
    "    [1, 1, 0, 0],\n",
    "    [1, 0, 0, 0],\n",
    "    [1, 1, 1, 1]\n",
    "]\n",
    "result = find_max_zeros_row(matrix)\n",
    "if result != -1:\n",
    "    print(\"Row with maximum number of zeros:\", result)\n",
    "else:\n",
    "    print(\"No row with all zeros.\")\n"
   ]
  },
  {
   "cell_type": "markdown",
   "id": "4a3b3c17-cfca-483f-af08-a9fecc33ab38",
   "metadata": {},
   "source": [
    "Problem 10 : Sort an array of 0’s, 1’s and 2’s [or R’s, G’s and B’s]: Given an array A[] consisting of 0’s, 1’s and\n",
    "2’s, give an algorithm for sorting A[].The algorithm should put all 0’s first, then all 1’s and finally all 2’s at the\n",
    "end. Example Input = {0,1,1,0,1,2,1,2,0,0,0,1}, Output = {0,0,0,0,0,1,1,1,1,1,2,2}"
   ]
  },
  {
   "cell_type": "code",
   "execution_count": 8,
   "id": "ac63686e-c07b-4e99-8b9d-3647b906efeb",
   "metadata": {},
   "outputs": [
    {
     "name": "stdout",
     "output_type": "stream",
     "text": [
      "Sorted array: [0, 0, 0, 0, 0, 1, 1, 1, 1, 1, 2, 2]\n"
     ]
    }
   ],
   "source": [
    "def sort_012(arr):\n",
    "    low = 0\n",
    "    mid = 0\n",
    "    high = len(arr) - 1\n",
    "\n",
    "    while mid <= high:\n",
    "        if arr[mid] == 0:\n",
    "            arr[low], arr[mid] = arr[mid], arr[low]\n",
    "            low += 1\n",
    "            mid += 1\n",
    "        elif arr[mid] == 1:\n",
    "            mid += 1\n",
    "        else:  # arr[mid] == 2\n",
    "            arr[mid], arr[high] = arr[high], arr[mid]\n",
    "            high -= 1\n",
    "\n",
    "# Example usage:\n",
    "arr = [0, 1, 1, 0, 1, 2, 1, 2, 0, 0, 0, 1]\n",
    "sort_012(arr)\n",
    "print(\"Sorted array:\", arr)\n"
   ]
  },
  {
   "cell_type": "code",
   "execution_count": null,
   "id": "72a08d9f-3f84-43f4-840f-dd16e79e41c9",
   "metadata": {},
   "outputs": [],
   "source": []
  }
 ],
 "metadata": {
  "kernelspec": {
   "display_name": "Python 3 (ipykernel)",
   "language": "python",
   "name": "python3"
  },
  "language_info": {
   "codemirror_mode": {
    "name": "ipython",
    "version": 3
   },
   "file_extension": ".py",
   "mimetype": "text/x-python",
   "name": "python",
   "nbconvert_exporter": "python",
   "pygments_lexer": "ipython3",
   "version": "3.10.8"
  }
 },
 "nbformat": 4,
 "nbformat_minor": 5
}
