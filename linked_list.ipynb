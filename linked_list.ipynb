{
 "cells": [
  {
   "cell_type": "raw",
   "id": "d2d167ef-db5d-47a5-8715-489901a84818",
   "metadata": {},
   "source": [
    "1. Define a double linked list "
   ]
  },
  {
   "cell_type": "markdown",
   "id": "ae1eef1c-9466-4b9a-a1e3-492513c88f34",
   "metadata": {},
   "source": [
    "A doubly linked list is a data structure consisting of nodes, each containing data and two references: \n",
    "    one to the next node and one to the previous node, allowing traversal in both directions.\n",
    "This structure enables efficient insertion and deletion of elements from both ends of the list."
   ]
  },
  {
   "cell_type": "markdown",
   "id": "3ac63ec6-4446-4ee7-8dbd-4b97575dd893",
   "metadata": {},
   "source": [
    "2. Write a function to reverse a linked list in-place"
   ]
  },
  {
   "cell_type": "code",
   "execution_count": 1,
   "id": "e86932fc-abbe-4164-b7df-fb2facec4bd7",
   "metadata": {},
   "outputs": [],
   "source": [
    "def reverse_linked_list(head):\n",
    "    prev = None\n",
    "    current = head\n",
    "    while current:\n",
    "        next_node = current.next\n",
    "        current.next = prev\n",
    "        prev = current\n",
    "        current = next_node\n",
    "    return prev"
   ]
  },
  {
   "cell_type": "markdown",
   "id": "58507dfe-1c85-4a9c-ae70-fda4383de02c",
   "metadata": {},
   "source": [
    "3. Detect cycle in a linked list"
   ]
  },
  {
   "cell_type": "code",
   "execution_count": 2,
   "id": "fabc5468-a907-410c-97d7-3757279e7eab",
   "metadata": {},
   "outputs": [],
   "source": [
    "def has_cycle(head):\n",
    "    slow = head\n",
    "    fast = head\n",
    "    while fast and fast.next:\n",
    "        slow = slow.next\n",
    "        fast = fast.next.next\n",
    "        if slow == fast:\n",
    "            return True\n",
    "    return False\n"
   ]
  },
  {
   "cell_type": "markdown",
   "id": "ee1c9daf-3d2e-4c21-bf2d-dd7badc9f7cb",
   "metadata": {},
   "source": [
    "4. Merge two sorted linked list into one"
   ]
  },
  {
   "cell_type": "code",
   "execution_count": 3,
   "id": "53703481-7b5c-4ece-9e62-bfa89a724327",
   "metadata": {},
   "outputs": [],
   "source": [
    "def merge_two_sorted_lists(l1, l2):\n",
    "    dummy = ListNode()\n",
    "    current = dummy\n",
    "    while l1 and l2:\n",
    "        if l1.value < l2.value:\n",
    "            current.next = l1\n",
    "            l1 = l1.next\n",
    "        else:\n",
    "            current.next = l2\n",
    "            l2 = l2.next\n",
    "        current = current.next\n",
    "    current.next = l1 if l1 else l2\n",
    "    return dummy.next\n"
   ]
  },
  {
   "cell_type": "markdown",
   "id": "af9139b0-215e-425a-93b0-15374e1bfc49",
   "metadata": {},
   "source": [
    "5. Write a function to remove nth node from the end in a linked list"
   ]
  },
  {
   "cell_type": "code",
   "execution_count": 4,
   "id": "e72286d7-5046-4576-9e60-527026d22cb8",
   "metadata": {},
   "outputs": [],
   "source": [
    "def remove_nth_from_end(head, n):\n",
    "    dummy = ListNode(0)\n",
    "    dummy.next = head\n",
    "    first = dummy\n",
    "    second = dummy\n",
    "    \n",
    "    # Move first n+1 steps ahead\n",
    "    for _ in range(n + 1):\n",
    "        first = first.next\n",
    "    \n",
    "    # Move both pointers until first reaches the end\n",
    "    while first:\n",
    "        first = first.next\n",
    "        second = second.next\n",
    "    \n",
    "    # Remove the nth node\n",
    "    second.next = second.next.next\n",
    "    \n",
    "    return dummy.next\n"
   ]
  },
  {
   "cell_type": "markdown",
   "id": "3d430a9a-d370-4f5f-b33f-99b74fa9bf45",
   "metadata": {},
   "source": [
    "6. Remove duplicates from a sorted linked list"
   ]
  },
  {
   "cell_type": "code",
   "execution_count": 9,
   "id": "7c1c804a-420e-44ba-83e8-d7cbb7489d1c",
   "metadata": {},
   "outputs": [],
   "source": [
    "def remove_duplicates(head):\n",
    "    current = head\n",
    "    while current and current.next:\n",
    "        if current.value == current.next.value:\n",
    "            current.next = current.next.next\n",
    "        else:\n",
    "            current = current.next\n",
    "    return head\n"
   ]
  },
  {
   "cell_type": "markdown",
   "id": "b522d3a7-dce4-429e-bd79-3f5161c75e30",
   "metadata": {},
   "source": [
    "7. Find the intersection of the two linked lists"
   ]
  },
  {
   "cell_type": "code",
   "execution_count": null,
   "id": "e2b585a5-1f1f-4e59-810c-f5797697b33f",
   "metadata": {},
   "outputs": [],
   "source": [
    "def get_intersection_node(headA, headB):\n",
    "    if not headA or not headB:\n",
    "        return None\n",
    "\n",
    "    pointerA = headA\n",
    "    pointerB = headB\n",
    "\n",
    "    # Traverse both lists, switching heads when reaching the end\n",
    "    while pointerA is not pointerB:\n",
    "        pointerA = headB if not pointerA else pointerA.next\n",
    "        pointerB = headA if not pointerB else pointerB.next\n",
    "\n",
    "    return pointerA\n"
   ]
  },
  {
   "cell_type": "markdown",
   "id": "b4590a17-fa95-4557-938d-3a18d4e32d05",
   "metadata": {},
   "source": [
    "8. Rotate a linked list by k positions to the right"
   ]
  },
  {
   "cell_type": "code",
   "execution_count": 6,
   "id": "0b07b9ea-ce8c-4d6e-a2d0-f490214c5832",
   "metadata": {},
   "outputs": [],
   "source": [
    "def rotate_right(head, k):\n",
    "    if not head or k == 0:\n",
    "        return head\n",
    "\n",
    "    # Find the length of the list and the last node\n",
    "    length = 1\n",
    "    tail = head\n",
    "    while tail.next:\n",
    "        tail = tail.next\n",
    "        length += 1\n",
    "\n",
    "    # Make the list circular\n",
    "    tail.next = head\n",
    "\n",
    "    # Find the new head and tail\n",
    "    k = k % length\n",
    "    steps_to_new_head = length - k\n",
    "    new_tail = head\n",
    "    for _ in range(steps_to_new_head - 1):\n",
    "        new_tail = new_tail.next\n",
    "    new_head = new_tail.next\n",
    "\n",
    "    # Break the circular list\n",
    "    new_tail.next = None\n",
    "\n",
    "    return new_head\n"
   ]
  },
  {
   "cell_type": "markdown",
   "id": "8837bbb2-ffc9-47d8-80e8-8817ec94bad8",
   "metadata": {},
   "source": [
    "9. Add Two Numbers Represented by LinkedLists:"
   ]
  },
  {
   "cell_type": "code",
   "execution_count": 7,
   "id": "d885d2c7-b0aa-4dc1-bb5b-32ce177e1984",
   "metadata": {},
   "outputs": [],
   "source": [
    "class ListNode:\n",
    "    def __init__(self, value=0, next=None):\n",
    "        self.value = value\n",
    "        self.next = next\n",
    "\n",
    "def add_two_numbers(l1, l2):\n",
    "    dummy = ListNode()\n",
    "    current = dummy\n",
    "    carry = 0\n",
    "\n",
    "    while l1 or l2 or carry:\n",
    "        val1 = l1.value if l1 else 0\n",
    "        val2 = l2.value if l2 else 0\n",
    "        carry, out = divmod(val1 + val2 + carry, 10)\n",
    "        \n",
    "        current.next = ListNode(out)\n",
    "        current = current.next\n",
    "        \n",
    "        l1 = l1.next if l1 else None\n",
    "        l2 = l2.next if l2 else None\n",
    "    \n",
    "    return dummy.next\n"
   ]
  },
  {
   "cell_type": "markdown",
   "id": "a67e1251-93fc-4cd1-948a-82a7740f550d",
   "metadata": {},
   "source": [
    "10. Clone a Linked List with next and Random Pointer"
   ]
  },
  {
   "cell_type": "code",
   "execution_count": 8,
   "id": "755340d4-6f52-49da-9e5b-af6806f5fd7d",
   "metadata": {},
   "outputs": [],
   "source": [
    "class Node:\n",
    "    def __init__(self, value, next=None, random=None):\n",
    "        self.value = value\n",
    "        self.next = next\n",
    "        self.random = random\n",
    "\n",
    "def copy_random_list(head):\n",
    "    if not head:\n",
    "        return None\n",
    "\n",
    "    # Step 1: Create a copy of each node and insert it right next to the original node\n",
    "    current = head\n",
    "    while current:\n",
    "        next_node = current.next\n",
    "        copy = Node(current.value)\n",
    "        current.next = copy\n",
    "        copy.next = next_node\n",
    "        current = next_node\n",
    "\n",
    "    # Step 2: Assign random pointers to the copied nodes\n",
    "    current = head\n",
    "    while current:\n",
    "        if current.random:\n",
    "            current.next.random = current.random.next\n",
    "        current = current.next.next\n",
    "\n",
    "    # Step 3: Separate the original list and the copied list\n",
    "    current = head\n",
    "    copy_head = head.next\n",
    "    while current:\n",
    "        copy = current.next\n",
    "        current.next = copy.next\n",
    "        copy.next = copy.next.next if copy.next else None\n",
    "        current = current.next\n",
    "\n",
    "    return copy_head\n"
   ]
  }
 ],
 "metadata": {
  "kernelspec": {
   "display_name": "Python 3 (ipykernel)",
   "language": "python",
   "name": "python3"
  },
  "language_info": {
   "codemirror_mode": {
    "name": "ipython",
    "version": 3
   },
   "file_extension": ".py",
   "mimetype": "text/x-python",
   "name": "python",
   "nbconvert_exporter": "python",
   "pygments_lexer": "ipython3",
   "version": "3.10.8"
  }
 },
 "nbformat": 4,
 "nbformat_minor": 5
}
