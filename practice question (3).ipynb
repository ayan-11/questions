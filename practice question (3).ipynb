{
 "cells": [
  {
   "cell_type": "markdown",
   "id": "4748e933-dbfd-471e-a955-034afb37ea4e",
   "metadata": {},
   "source": [
    "TOPIC: String Based Assignment Problem"
   ]
  },
  {
   "cell_type": "code",
   "execution_count": null,
   "id": "d58fb6ee-e29c-4b43-a6af-85f2645484ac",
   "metadata": {},
   "outputs": [],
   "source": [
    "1. Write a program to reverse a string."
   ]
  },
  {
   "cell_type": "code",
   "execution_count": 3,
   "id": "38073dfb-20f9-4dd8-81cc-3540b0817e6d",
   "metadata": {},
   "outputs": [
    {
     "name": "stdin",
     "output_type": "stream",
     "text": [
      "Enter a string:-  naman\n"
     ]
    },
    {
     "name": "stdout",
     "output_type": "stream",
     "text": [
      "The string provided is  naman\n"
     ]
    }
   ],
   "source": [
    "string=input(\"Enter a string:- \")\n",
    "print(\"The string provided is \",string)"
   ]
  },
  {
   "cell_type": "code",
   "execution_count": 4,
   "id": "6c6b634b-25e3-4d8b-88d9-1c2cb5b6090f",
   "metadata": {},
   "outputs": [
    {
     "name": "stdout",
     "output_type": "stream",
     "text": [
      "The string reversed is  naman\n"
     ]
    }
   ],
   "source": [
    "rev=string[::-1]\n",
    "print(\"The string reversed is \",rev) "
   ]
  },
  {
   "cell_type": "code",
   "execution_count": null,
   "id": "73e62601-0176-4a5d-99a9-25c1d7d5cc69",
   "metadata": {},
   "outputs": [],
   "source": [
    "2. Check if a string is a palindrome."
   ]
  },
  {
   "cell_type": "code",
   "execution_count": 5,
   "id": "446c972f-8b4d-4334-be29-6a7028d6c7da",
   "metadata": {},
   "outputs": [
    {
     "name": "stdin",
     "output_type": "stream",
     "text": [
      "Enter a string:-  hello_world\n"
     ]
    },
    {
     "name": "stdout",
     "output_type": "stream",
     "text": [
      "The string provided is  hello_world\n"
     ]
    }
   ],
   "source": [
    "string=input(\"Enter a string:- \")\n",
    "print(\"The string provided is \",string)"
   ]
  },
  {
   "cell_type": "code",
   "execution_count": 6,
   "id": "dcd2af07-5e28-449b-a37b-81c68f58cb18",
   "metadata": {},
   "outputs": [
    {
     "name": "stdout",
     "output_type": "stream",
     "text": [
      "The string is not palindrome\n"
     ]
    }
   ],
   "source": [
    "rev=string[::-1]\n",
    "if rev == string:\n",
    "    print(\"The string is palindrome\")\n",
    "else:\n",
    "    print(\"The string is not palindrome\")"
   ]
  },
  {
   "cell_type": "code",
   "execution_count": null,
   "id": "e91bfe12-8fa2-4f29-affd-dd94a1723b5a",
   "metadata": {},
   "outputs": [],
   "source": [
    "3. Convert a string to uppercase."
   ]
  },
  {
   "cell_type": "code",
   "execution_count": 7,
   "id": "8fb053a0-02c7-40c1-8f0e-1266f9aef086",
   "metadata": {},
   "outputs": [
    {
     "name": "stdin",
     "output_type": "stream",
     "text": [
      "Enter a string:-  hello \n"
     ]
    },
    {
     "name": "stdout",
     "output_type": "stream",
     "text": [
      "The string provided is  hello \n"
     ]
    }
   ],
   "source": [
    "string=input(\"Enter a string:- \")\n",
    "print(\"The string provided is \",string)"
   ]
  },
  {
   "cell_type": "code",
   "execution_count": 9,
   "id": "9bab38d5-4fb0-4ecf-941a-ec9c97d38e6d",
   "metadata": {},
   "outputs": [
    {
     "name": "stdout",
     "output_type": "stream",
     "text": [
      "The string in uppercase case is :-  HELLO \n"
     ]
    }
   ],
   "source": [
    "string_upper=string.upper()\n",
    "print(\"The string in uppercase case is :- \",string_upper)"
   ]
  },
  {
   "cell_type": "code",
   "execution_count": null,
   "id": "50d401ae-4de0-401f-93cf-595427016824",
   "metadata": {},
   "outputs": [],
   "source": [
    "4. Convert a string to lowercase."
   ]
  },
  {
   "cell_type": "code",
   "execution_count": 10,
   "id": "63506b46-78e7-4d89-9575-e7ee7588a889",
   "metadata": {},
   "outputs": [
    {
     "name": "stdin",
     "output_type": "stream",
     "text": [
      "Enter a string:-  HEllo\n"
     ]
    },
    {
     "name": "stdout",
     "output_type": "stream",
     "text": [
      "The string provided is  HEllo\n"
     ]
    }
   ],
   "source": [
    "string=input(\"Enter a string:- \")\n",
    "print(\"The string provided is \",string)"
   ]
  },
  {
   "cell_type": "code",
   "execution_count": 11,
   "id": "38dfdb66-398e-4693-be03-10663b5c3e95",
   "metadata": {},
   "outputs": [
    {
     "name": "stdout",
     "output_type": "stream",
     "text": [
      "The string in uppercase case is :-  hello\n"
     ]
    }
   ],
   "source": [
    "string_lower=string.lower()\n",
    "print(\"The string in uppercase case is :- \",string_lower)"
   ]
  },
  {
   "cell_type": "code",
   "execution_count": null,
   "id": "8f8ba214-de56-4836-a7f9-fa06e3d758f2",
   "metadata": {},
   "outputs": [],
   "source": [
    "5. Count the number of vowels in a string."
   ]
  },
  {
   "cell_type": "code",
   "execution_count": 12,
   "id": "4b2b5e56-012e-48eb-a27e-b64a422b6239",
   "metadata": {},
   "outputs": [
    {
     "name": "stdin",
     "output_type": "stream",
     "text": [
      "Enter a string:-  ayanmukherjee\n"
     ]
    },
    {
     "name": "stdout",
     "output_type": "stream",
     "text": [
      "The string provided is  ayanmukherjee\n"
     ]
    }
   ],
   "source": [
    "string=input(\"Enter a string:- \")\n",
    "print(\"The string provided is \",string)"
   ]
  },
  {
   "cell_type": "code",
   "execution_count": 13,
   "id": "acd310c1-186e-413e-afb0-91bb90e07c85",
   "metadata": {},
   "outputs": [
    {
     "name": "stdout",
     "output_type": "stream",
     "text": [
      "Number of 'a's:  2\n",
      "Number of 'e's:  3\n",
      "Number of 'i's:  0\n",
      "Number of 'o's:  0\n",
      "Number of 'u's:  1\n"
     ]
    }
   ],
   "source": [
    "string = string.lower()\n",
    "\n",
    "# Counting vowels using a count variable\n",
    "count_a = 0\n",
    "count_e = 0\n",
    "count_i = 0\n",
    "count_o = 0\n",
    "count_u = 0\n",
    "for char in string:\n",
    "    if char == 'a':\n",
    "        count_a += 1\n",
    "    elif char == 'e':\n",
    "        count_e += 1\n",
    "    elif char == 'i':\n",
    "        count_i += 1\n",
    "    elif char == 'o':\n",
    "        count_o += 1\n",
    "    elif char == 'u':\n",
    "        count_u += 1\n",
    "print(f\"Number of 'a's: \",count_a)\n",
    "print(f\"Number of 'e's: \",count_e)\n",
    "print(f\"Number of 'i's: \",count_i)\n",
    "print(f\"Number of 'o's: \",count_o)\n",
    "print(f\"Number of 'u's: \",count_u)"
   ]
  },
  {
   "cell_type": "code",
   "execution_count": null,
   "id": "8d4e42b7-1679-4529-8a50-9ba65e56e217",
   "metadata": {},
   "outputs": [],
   "source": [
    "6. Count the number of consonants in a string."
   ]
  },
  {
   "cell_type": "code",
   "execution_count": 14,
   "id": "c0f88472-b6a4-4d13-9720-2308d97f7efb",
   "metadata": {},
   "outputs": [
    {
     "name": "stdin",
     "output_type": "stream",
     "text": [
      "Enter a string:-  helloworld\n"
     ]
    },
    {
     "name": "stdout",
     "output_type": "stream",
     "text": [
      "The string provided is  helloworld\n"
     ]
    }
   ],
   "source": [
    "string=input(\"Enter a string:- \")\n",
    "print(\"The string provided is \",string)"
   ]
  },
  {
   "cell_type": "code",
   "execution_count": 18,
   "id": "49c55c2b-868a-42c9-b616-4fc71f7a5683",
   "metadata": {},
   "outputs": [
    {
     "name": "stdout",
     "output_type": "stream",
     "text": [
      "Number of consonants are: 7\n"
     ]
    }
   ],
   "source": [
    "con=0\n",
    "for i in range(len(string)):\n",
    "    if string[i] not in 'aeiouAEIOU':\n",
    "        con += 1\n",
    "\n",
    "print(\"Number of consonants are:\", con)"
   ]
  },
  {
   "cell_type": "code",
   "execution_count": null,
   "id": "8c9a88e9-7f4f-40d7-9b68-78e8596f769a",
   "metadata": {},
   "outputs": [],
   "source": [
    "7. Remove all whitespaces from a string."
   ]
  },
  {
   "cell_type": "code",
   "execution_count": 20,
   "id": "fb66a87b-6ff4-4141-be4c-c6986cc775ba",
   "metadata": {},
   "outputs": [
    {
     "name": "stdin",
     "output_type": "stream",
     "text": [
      "Enter a string:-  What a beautiful day\n"
     ]
    },
    {
     "name": "stdout",
     "output_type": "stream",
     "text": [
      "The string provided is  What a beautiful day\n"
     ]
    }
   ],
   "source": [
    "string=input(\"Enter a string:- \")\n",
    "print(\"The string provided is \",string)"
   ]
  },
  {
   "cell_type": "code",
   "execution_count": 21,
   "id": "cc5c96ba-e21b-4c8d-aaf5-e57dc4897cd6",
   "metadata": {},
   "outputs": [
    {
     "name": "stdout",
     "output_type": "stream",
     "text": [
      "The number of spaces are:-  3\n"
     ]
    }
   ],
   "source": [
    "sp_num=0\n",
    "for i in range(len(string)):\n",
    "    if string[i] == ' ':\n",
    "        sp_num+=1\n",
    "print(\"The number of spaces are:- \",sp_num)"
   ]
  },
  {
   "cell_type": "code",
   "execution_count": null,
   "id": "f02a1688-7b3e-4168-a62c-7f1b7290cdd1",
   "metadata": {},
   "outputs": [],
   "source": [
    "8. Find the length of a string without using the `len()` function."
   ]
  },
  {
   "cell_type": "code",
   "execution_count": 22,
   "id": "de6e1804-e2a2-49a1-bbbb-06e7ec51b958",
   "metadata": {},
   "outputs": [
    {
     "name": "stdin",
     "output_type": "stream",
     "text": [
      "Enter a string:-  apple\n"
     ]
    },
    {
     "name": "stdout",
     "output_type": "stream",
     "text": [
      "The string provided is  apple\n"
     ]
    }
   ],
   "source": [
    "string=input(\"Enter a string:- \")\n",
    "print(\"The string provided is \",string)"
   ]
  },
  {
   "cell_type": "code",
   "execution_count": 23,
   "id": "c36df8b8-4122-4340-a718-9e7d0bb0c594",
   "metadata": {},
   "outputs": [
    {
     "name": "stdout",
     "output_type": "stream",
     "text": [
      "The length of the string is :-  5\n"
     ]
    }
   ],
   "source": [
    "print(\"The length of the string is :- \",len(string))"
   ]
  },
  {
   "cell_type": "code",
   "execution_count": null,
   "id": "3c506c67-632e-442c-8598-06fcf240febb",
   "metadata": {},
   "outputs": [],
   "source": [
    "9. Check if a string contains a specific word."
   ]
  },
  {
   "cell_type": "code",
   "execution_count": 25,
   "id": "92971ca8-6d76-407b-b4cd-18262725fefb",
   "metadata": {},
   "outputs": [
    {
     "name": "stdin",
     "output_type": "stream",
     "text": [
      "Enter a string:-  What a beautiful day\n"
     ]
    },
    {
     "name": "stdout",
     "output_type": "stream",
     "text": [
      "The string provided is  What a beautiful day\n"
     ]
    }
   ],
   "source": [
    "string=input(\"Enter a string:- \")\n",
    "print(\"The string provided is \",string)"
   ]
  },
  {
   "cell_type": "code",
   "execution_count": 27,
   "id": "32aae281-491d-4933-9454-0703a37d54e3",
   "metadata": {},
   "outputs": [
    {
     "name": "stdout",
     "output_type": "stream",
     "text": [
      "The word is present in the string!!\n"
     ]
    }
   ],
   "source": [
    "word=\"day\"\n",
    "if word in string:\n",
    "    print(\"The word is present in the string!!\")\n",
    "else:\n",
    "    print(\"The word is not present in the string!!\")"
   ]
  },
  {
   "cell_type": "code",
   "execution_count": null,
   "id": "b4a6af1f-fcb7-4698-90fa-2e4f47aacbd2",
   "metadata": {},
   "outputs": [],
   "source": [
    "10. Replace a word in a string with another word."
   ]
  },
  {
   "cell_type": "code",
   "execution_count": 28,
   "id": "37f75919-437d-4252-b864-544941591c8d",
   "metadata": {},
   "outputs": [
    {
     "name": "stdin",
     "output_type": "stream",
     "text": [
      "Enter a string:-  what a beautiful day\n"
     ]
    },
    {
     "name": "stdout",
     "output_type": "stream",
     "text": [
      "The string provided is  what a beautiful day\n"
     ]
    }
   ],
   "source": [
    "string=input(\"Enter a string:- \")\n",
    "print(\"The string provided is \",string)"
   ]
  },
  {
   "cell_type": "code",
   "execution_count": 30,
   "id": "1475ce3d-1d49-460f-90fe-2235e79ce202",
   "metadata": {},
   "outputs": [
    {
     "name": "stdout",
     "output_type": "stream",
     "text": [
      "The string with replacement is :-  what a beautiful morning\n"
     ]
    }
   ],
   "source": [
    "string=string.replace(\"day\" , \"morning\")\n",
    "print(\"The string with replacement is :- \",string)"
   ]
  },
  {
   "cell_type": "code",
   "execution_count": 32,
   "id": "c456a983-4f06-4da4-98af-639dc6954ed9",
   "metadata": {},
   "outputs": [],
   "source": [
    "11. Count the occurrences of a word in a string."
   ]
  },
  {
   "cell_type": "code",
   "execution_count": 37,
   "id": "bd7edc7f-e54f-45ce-9cf7-7152feb29b59",
   "metadata": {},
   "outputs": [
    {
     "name": "stdin",
     "output_type": "stream",
     "text": [
      "Enter a string:-  This is a sample string. This string contains the word sample multiple times. Sample!\n"
     ]
    },
    {
     "name": "stdout",
     "output_type": "stream",
     "text": [
      "The string provided is:-  This is a sample string. This string contains the word sample multiple times. Sample!\n"
     ]
    }
   ],
   "source": [
    "string=input(\"Enter a string:- \")\n",
    "print(\"The string provided is:- \",string)"
   ]
  },
  {
   "cell_type": "code",
   "execution_count": 38,
   "id": "97c58df5-4127-4320-b8a7-7e5658be115d",
   "metadata": {},
   "outputs": [
    {
     "name": "stdout",
     "output_type": "stream",
     "text": [
      "The number of 'sample' present in the string is:-  3\n"
     ]
    }
   ],
   "source": [
    "string=string.lower()\n",
    "num=string.count(\"sample\")\n",
    "print(\"The number of 'sample' present in the string is:- \",num)"
   ]
  },
  {
   "cell_type": "code",
   "execution_count": null,
   "id": "7c7057ae-69dc-4f02-b567-c969187b6cd2",
   "metadata": {},
   "outputs": [],
   "source": [
    "12. Find the first occurrence of a word in a string."
   ]
  },
  {
   "cell_type": "code",
   "execution_count": 39,
   "id": "870370d5-fe8c-425c-88fb-a872405ac1a6",
   "metadata": {},
   "outputs": [
    {
     "name": "stdin",
     "output_type": "stream",
     "text": [
      "Enter a string:-  This is a sample string. This string contains the word sample multiple times. Sample!\n"
     ]
    },
    {
     "name": "stdout",
     "output_type": "stream",
     "text": [
      "The string provided is:-  This is a sample string. This string contains the word sample multiple times. Sample!\n"
     ]
    }
   ],
   "source": [
    "string=input(\"Enter a string:- \")\n",
    "print(\"The string provided is:- \",string)"
   ]
  },
  {
   "cell_type": "code",
   "execution_count": 40,
   "id": "6019dc52-65e1-4c83-bd26-8d05c11ab624",
   "metadata": {},
   "outputs": [
    {
     "name": "stdout",
     "output_type": "stream",
     "text": [
      "The first occurence of 'sample' is at index:-  10\n"
     ]
    }
   ],
   "source": [
    "string=string.lower()\n",
    "index=string.find('sample')\n",
    "print(\"The first occurence of 'sample' is at index:- \",index)"
   ]
  },
  {
   "cell_type": "code",
   "execution_count": null,
   "id": "100457a3-07fa-480d-8f38-38ae6060e38e",
   "metadata": {},
   "outputs": [],
   "source": [
    "13. Find the last occurrence of a word in a string."
   ]
  },
  {
   "cell_type": "code",
   "execution_count": 41,
   "id": "9b8d8658-c094-4071-a26a-35d7e78f31c3",
   "metadata": {},
   "outputs": [
    {
     "name": "stdin",
     "output_type": "stream",
     "text": [
      "Enter a string:-  This is a sample string. This string contains the word sample multiple times. Sample!\n"
     ]
    },
    {
     "name": "stdout",
     "output_type": "stream",
     "text": [
      "The string provided is:-  This is a sample string. This string contains the word sample multiple times. Sample!\n"
     ]
    }
   ],
   "source": [
    "string=input(\"Enter a string:- \")\n",
    "print(\"The string provided is:- \",string)"
   ]
  },
  {
   "cell_type": "code",
   "execution_count": 42,
   "id": "63d39ebc-8b48-44bc-ad30-03294af6f72b",
   "metadata": {},
   "outputs": [
    {
     "name": "stdout",
     "output_type": "stream",
     "text": [
      "The first occurence of 'sample' is at index:-  78\n"
     ]
    }
   ],
   "source": [
    "string=string.lower()\n",
    "index=string.rfind('sample')\n",
    "print(\"The first occurence of 'sample' is at index:- \",index)"
   ]
  },
  {
   "cell_type": "code",
   "execution_count": null,
   "id": "d32c68a2-b675-4879-815b-10557131678c",
   "metadata": {},
   "outputs": [],
   "source": [
    "14. Split a string into a list of words."
   ]
  },
  {
   "cell_type": "code",
   "execution_count": 44,
   "id": "c4641f9e-e443-4710-8e52-72d3c4871036",
   "metadata": {},
   "outputs": [
    {
     "name": "stdin",
     "output_type": "stream",
     "text": [
      "Enter a string:-  what a beautiful day\n"
     ]
    },
    {
     "name": "stdout",
     "output_type": "stream",
     "text": [
      "The string provided is:-  what a beautiful day\n"
     ]
    }
   ],
   "source": [
    "string=input(\"Enter a string:- \")\n",
    "print(\"The string provided is:- \",string)"
   ]
  },
  {
   "cell_type": "code",
   "execution_count": 48,
   "id": "da059c99-c16c-4f7c-9542-bce8a83671bd",
   "metadata": {},
   "outputs": [
    {
     "name": "stdout",
     "output_type": "stream",
     "text": [
      "['what', 'a', 'beautiful', 'day']\n"
     ]
    }
   ],
   "source": [
    "split_string=string.split()\n",
    "print(split_string)"
   ]
  },
  {
   "cell_type": "code",
   "execution_count": null,
   "id": "45a40724-7aa4-4983-8de4-cc12d9df1aa2",
   "metadata": {},
   "outputs": [],
   "source": [
    "15. Join a list of words into a string."
   ]
  },
  {
   "cell_type": "code",
   "execution_count": 51,
   "id": "9ff1fd2a-a44f-4221-a77b-64bcd7a864ec",
   "metadata": {},
   "outputs": [
    {
     "name": "stdout",
     "output_type": "stream",
     "text": [
      "The new string is :-  what a beautiful day\n"
     ]
    }
   ],
   "source": [
    "word_list = ['what','a','beautiful','day']\n",
    "res= ' '.join(word_list)\n",
    "print(\"The new string is :- \",res)"
   ]
  },
  {
   "cell_type": "code",
   "execution_count": null,
   "id": "6ed31766-93fb-491e-bde2-3a07c4e0a6f0",
   "metadata": {},
   "outputs": [],
   "source": [
    "16. Convert a string where words are separated by spaces to one where words are separated by underscores."
   ]
  },
  {
   "cell_type": "code",
   "execution_count": 1,
   "id": "ba8f1801-4b0c-4c6e-99fc-ceeef4baa94a",
   "metadata": {},
   "outputs": [
    {
     "name": "stdin",
     "output_type": "stream",
     "text": [
      "Enter a string:-  what a beautiful day\n"
     ]
    },
    {
     "name": "stdout",
     "output_type": "stream",
     "text": [
      "The string provided is:-  what a beautiful day\n"
     ]
    }
   ],
   "source": [
    "string=input(\"Enter a string:- \")\n",
    "print(\"The string provided is:- \",string)"
   ]
  },
  {
   "cell_type": "code",
   "execution_count": 2,
   "id": "1dd46006-330e-4123-b782-15031ee7f066",
   "metadata": {},
   "outputs": [
    {
     "name": "stdout",
     "output_type": "stream",
     "text": [
      "The string after replacement is :-  what_a_beautiful_day\n"
     ]
    }
   ],
   "source": [
    "rep_str=string.replace(' ','_')\n",
    "print(\"The string after replacement is :- \",rep_str)"
   ]
  },
  {
   "cell_type": "code",
   "execution_count": null,
   "id": "0688a8e9-4908-4cc4-ba05-e7e481ccdb0d",
   "metadata": {},
   "outputs": [],
   "source": [
    "17. Check if a string starts with a specific word or phrase."
   ]
  },
  {
   "cell_type": "code",
   "execution_count": 3,
   "id": "dddc94ad-7fec-48cf-ba97-5593f93b6a62",
   "metadata": {},
   "outputs": [
    {
     "name": "stdin",
     "output_type": "stream",
     "text": [
      "Enter a string:-  what a beautiful day\n"
     ]
    },
    {
     "name": "stdout",
     "output_type": "stream",
     "text": [
      "The string provided is:-  what a beautiful day\n"
     ]
    }
   ],
   "source": [
    "string=input(\"Enter a string:- \")\n",
    "print(\"The string provided is:- \",string)"
   ]
  },
  {
   "cell_type": "code",
   "execution_count": 5,
   "id": "7a5867a5-6a8f-472c-8b05-897447a9b80d",
   "metadata": {},
   "outputs": [
    {
     "name": "stdout",
     "output_type": "stream",
     "text": [
      "The string starts with 'what' \n"
     ]
    }
   ],
   "source": [
    "start_with=string.startswith(\"what\")\n",
    "if start_with:\n",
    "    print(\"The string starts with 'what' \")\n",
    "else: \n",
    "    print(\"The string doesnt starts with 'what'\")"
   ]
  },
  {
   "cell_type": "code",
   "execution_count": null,
   "id": "dcd93d92-8635-48d3-a2ec-44cb54b6ddc6",
   "metadata": {},
   "outputs": [],
   "source": [
    "18. Check if a string ends with a specific word or phrase."
   ]
  },
  {
   "cell_type": "code",
   "execution_count": 6,
   "id": "a5e8085f-0a9b-4bbf-96af-8301ef2c045e",
   "metadata": {},
   "outputs": [
    {
     "name": "stdin",
     "output_type": "stream",
     "text": [
      "Enter a string:-  what a beautiful day\n"
     ]
    },
    {
     "name": "stdout",
     "output_type": "stream",
     "text": [
      "The string provided is:-  what a beautiful day\n"
     ]
    }
   ],
   "source": [
    "string=input(\"Enter a string:- \")\n",
    "print(\"The string provided is:- \",string)"
   ]
  },
  {
   "cell_type": "code",
   "execution_count": 7,
   "id": "710da40d-8702-40f5-83a3-a07c2cf756d2",
   "metadata": {},
   "outputs": [
    {
     "name": "stdout",
     "output_type": "stream",
     "text": [
      "The string doesnt end with 'what'\n"
     ]
    }
   ],
   "source": [
    "start_with=string.endswith(\"what\")\n",
    "if start_with:\n",
    "    print(\"The string ends with 'what' \")\n",
    "else: \n",
    "    print(\"The string doesnt end with 'what'\")"
   ]
  },
  {
   "cell_type": "code",
   "execution_count": null,
   "id": "e3b4c996-1f60-4e5f-85e3-cfc7821297a5",
   "metadata": {},
   "outputs": [],
   "source": [
    "19. Convert a string to title case (e.g., \"hello world\" to \"Hello World\")."
   ]
  },
  {
   "cell_type": "code",
   "execution_count": 8,
   "id": "bb7a6588-2ff2-4517-b241-3b68e4f75283",
   "metadata": {},
   "outputs": [
    {
     "name": "stdin",
     "output_type": "stream",
     "text": [
      "Enter a string:-  what a beautiful day\n"
     ]
    },
    {
     "name": "stdout",
     "output_type": "stream",
     "text": [
      "The string provided is:-  what a beautiful day\n"
     ]
    }
   ],
   "source": [
    "string=input(\"Enter a string:- \")\n",
    "print(\"The string provided is:- \",string)"
   ]
  },
  {
   "cell_type": "code",
   "execution_count": 10,
   "id": "18c268a7-e52b-4bb2-a95b-5eca68220496",
   "metadata": {},
   "outputs": [
    {
     "name": "stdout",
     "output_type": "stream",
     "text": [
      "The required string is :-  What A Beautiful Day\n"
     ]
    }
   ],
   "source": [
    "string=string.title()\n",
    "print(\"The required string is :- \",string)"
   ]
  },
  {
   "cell_type": "code",
   "execution_count": null,
   "id": "29d75ce1-7d6e-47ef-8aa8-5fdaec10c655",
   "metadata": {},
   "outputs": [],
   "source": [
    "20. Find the longest word in a string."
   ]
  },
  {
   "cell_type": "code",
   "execution_count": 11,
   "id": "f1924368-7858-4bc8-877a-2a0885cf9fe5",
   "metadata": {},
   "outputs": [
    {
     "name": "stdin",
     "output_type": "stream",
     "text": [
      "Enter a string:-  what a beautiful string\n"
     ]
    },
    {
     "name": "stdout",
     "output_type": "stream",
     "text": [
      "The string provided is:-  what a beautiful string\n"
     ]
    }
   ],
   "source": [
    "string=input(\"Enter a string:- \")\n",
    "print(\"The string provided is:- \",string)"
   ]
  },
  {
   "cell_type": "code",
   "execution_count": 14,
   "id": "eb2dc30d-4edf-4dc9-b29e-0a116c28a039",
   "metadata": {},
   "outputs": [
    {
     "name": "stdout",
     "output_type": "stream",
     "text": [
      "Longest string is :-  beautiful\n"
     ]
    }
   ],
   "source": [
    "strs=string.split()\n",
    "max_len=0\n",
    "max_str=\"\"\n",
    "for i in strs:\n",
    "    if len(i) > max_len:\n",
    "        max_len = len(i)\n",
    "        max_str = i\n",
    "print(\"Longest string is :- \",max_str)"
   ]
  },
  {
   "cell_type": "code",
   "execution_count": null,
   "id": "cd461f49-4077-43f2-9c70-9e4557f829dc",
   "metadata": {},
   "outputs": [],
   "source": [
    "21. Find the shortest word in a string."
   ]
  },
  {
   "cell_type": "code",
   "execution_count": 17,
   "id": "0c443909-b8e3-4c1e-8d67-189faa270853",
   "metadata": {},
   "outputs": [
    {
     "name": "stdin",
     "output_type": "stream",
     "text": [
      "Enter a string:-  what a beautiful day\n"
     ]
    },
    {
     "name": "stdout",
     "output_type": "stream",
     "text": [
      "The string provided is:-  what a beautiful day\n"
     ]
    }
   ],
   "source": [
    "string=input(\"Enter a string:- \")\n",
    "print(\"The string provided is:- \",string)"
   ]
  },
  {
   "cell_type": "code",
   "execution_count": 19,
   "id": "94e200dc-cca7-465d-aaff-bd6eb6cf27eb",
   "metadata": {},
   "outputs": [
    {
     "name": "stdout",
     "output_type": "stream",
     "text": [
      "Shortest string is :-  a\n"
     ]
    }
   ],
   "source": [
    "strs=string.split()\n",
    "min_len=float('inf')\n",
    "min_str=\"\"\n",
    "for i in strs:\n",
    "    if len(i) < min_len:\n",
    "        min_len = len(i)\n",
    "        min_str = i\n",
    "print(\"Shortest string is :- \",min_str)"
   ]
  },
  {
   "cell_type": "code",
   "execution_count": null,
   "id": "1f31f0cc-ac30-46fe-90a3-def4cda018ec",
   "metadata": {},
   "outputs": [],
   "source": [
    "22. Reverse the order of words in a string."
   ]
  },
  {
   "cell_type": "code",
   "execution_count": 20,
   "id": "028a0f2e-e123-4999-bb4c-a91cc89dc592",
   "metadata": {},
   "outputs": [
    {
     "name": "stdin",
     "output_type": "stream",
     "text": [
      "Enter a string:-  what a beautiful day\n"
     ]
    },
    {
     "name": "stdout",
     "output_type": "stream",
     "text": [
      "The string provided is:-  what a beautiful day\n"
     ]
    }
   ],
   "source": [
    "string=input(\"Enter a string:- \")\n",
    "print(\"The string provided is:- \",string)"
   ]
  },
  {
   "cell_type": "code",
   "execution_count": 21,
   "id": "84a8e05f-da48-4d49-be26-c2e363b9fc7a",
   "metadata": {},
   "outputs": [
    {
     "name": "stdout",
     "output_type": "stream",
     "text": [
      "The string reversed is :-  day beautiful a what\n"
     ]
    }
   ],
   "source": [
    "string=string.split()\n",
    "rev_str= ' '.join(reversed(string))\n",
    "print(\"The string reversed is :- \",rev_str)"
   ]
  },
  {
   "cell_type": "code",
   "execution_count": null,
   "id": "3bbe27fb-a0c8-4fd4-a034-92bca5847ba5",
   "metadata": {},
   "outputs": [],
   "source": [
    "23. Check if a string is alphanumeric."
   ]
  },
  {
   "cell_type": "code",
   "execution_count": 28,
   "id": "b94d6446-b82f-4f22-831a-aab091e5a5c5",
   "metadata": {},
   "outputs": [
    {
     "name": "stdin",
     "output_type": "stream",
     "text": [
      "Enter a string:-  check123\n"
     ]
    },
    {
     "name": "stdout",
     "output_type": "stream",
     "text": [
      "The string provided is:-  check123\n"
     ]
    }
   ],
   "source": [
    "string=input(\"Enter a string:- \")\n",
    "print(\"The string provided is:- \",string)"
   ]
  },
  {
   "cell_type": "code",
   "execution_count": 29,
   "id": "80ff735e-0c81-44a2-abf9-3764a64bf25b",
   "metadata": {},
   "outputs": [
    {
     "name": "stdout",
     "output_type": "stream",
     "text": [
      "The string is alphanumeric\n"
     ]
    }
   ],
   "source": [
    "res=string.isalnum()\n",
    "if res:\n",
    "    print(\"The string is alphanumeric\")\n",
    "else:\n",
    "    print(\"The string is not alphanumeric\")"
   ]
  },
  {
   "cell_type": "code",
   "execution_count": null,
   "id": "a45cafde-cba8-408a-87e7-1aa36a89002e",
   "metadata": {},
   "outputs": [],
   "source": [
    "24. Extract all digits from a string."
   ]
  },
  {
   "cell_type": "code",
   "execution_count": 30,
   "id": "352a1d9c-9a89-4eec-879d-f79c7825c001",
   "metadata": {},
   "outputs": [
    {
     "name": "stdin",
     "output_type": "stream",
     "text": [
      "Enter a string:-  hello123\n"
     ]
    },
    {
     "name": "stdout",
     "output_type": "stream",
     "text": [
      "The string provided is:-  hello123\n"
     ]
    }
   ],
   "source": [
    "string=input(\"Enter a string:- \")\n",
    "print(\"The string provided is:- \",string)"
   ]
  },
  {
   "cell_type": "code",
   "execution_count": 33,
   "id": "c6fbcb93-34c4-404e-b94d-7c1ad255ed1a",
   "metadata": {},
   "outputs": [
    {
     "name": "stdout",
     "output_type": "stream",
     "text": [
      "Number of digits are :-  123\n"
     ]
    }
   ],
   "source": [
    "digits=\"\"\n",
    "for i in string:\n",
    "    if i.isdigit():\n",
    "        digits+=i\n",
    "print(\"Number of digits are :- \",digits)"
   ]
  },
  {
   "cell_type": "code",
   "execution_count": null,
   "id": "38e8e425-abd8-481e-8913-9585fedfb072",
   "metadata": {},
   "outputs": [],
   "source": [
    "25. Extract all alphabets from a string"
   ]
  },
  {
   "cell_type": "code",
   "execution_count": 40,
   "id": "cd1e19bc-07c3-4b4e-babd-614b7f667645",
   "metadata": {},
   "outputs": [
    {
     "name": "stdin",
     "output_type": "stream",
     "text": [
      "Enter a string:-  hello123\n"
     ]
    },
    {
     "name": "stdout",
     "output_type": "stream",
     "text": [
      "The string provided is:-  hello123\n"
     ]
    }
   ],
   "source": [
    "string=input(\"Enter a string:- \")\n",
    "print(\"The string provided is:- \",string)"
   ]
  },
  {
   "cell_type": "code",
   "execution_count": 41,
   "id": "c3c3d1a6-a393-4d98-a92a-9b67b22a3239",
   "metadata": {},
   "outputs": [
    {
     "name": "stdout",
     "output_type": "stream",
     "text": [
      "Number of alphabets are :-  hello\n"
     ]
    }
   ],
   "source": [
    "str=\"\"\n",
    "for i in string:\n",
    "    if i.isalpha():\n",
    "        str+=i\n",
    "print(\"Number of alphabets are :- \",str)"
   ]
  },
  {
   "cell_type": "code",
   "execution_count": null,
   "id": "708d4e71-a2e3-4ef8-b18e-f06c8f11e257",
   "metadata": {},
   "outputs": [],
   "source": [
    "26. Count the number of uppercase letters in a string"
   ]
  },
  {
   "cell_type": "code",
   "execution_count": 42,
   "id": "22c446e4-3904-4f9f-be3b-fa56b039d154",
   "metadata": {},
   "outputs": [
    {
     "name": "stdin",
     "output_type": "stream",
     "text": [
      "Enter a string:-  helloWorld\n"
     ]
    },
    {
     "name": "stdout",
     "output_type": "stream",
     "text": [
      "The string provided is:-  helloWorld\n"
     ]
    }
   ],
   "source": [
    "string=input(\"Enter a string:- \")\n",
    "print(\"The string provided is:- \",string)"
   ]
  },
  {
   "cell_type": "code",
   "execution_count": 43,
   "id": "d75e02a7-6267-4d0e-bd77-da2bd9c9554e",
   "metadata": {},
   "outputs": [
    {
     "name": "stdout",
     "output_type": "stream",
     "text": [
      "The number of uppercase letters are :-  1\n"
     ]
    }
   ],
   "source": [
    "digits=0\n",
    "for word in string:\n",
    "    if word.isupper():\n",
    "        digits+=1\n",
    "print(\"The number of uppercase letters are :- \",digits)"
   ]
  },
  {
   "cell_type": "code",
   "execution_count": null,
   "id": "16a2ffc9-3614-45da-b010-4eb58802803d",
   "metadata": {},
   "outputs": [],
   "source": [
    "27. Count the number of lowercase letters in a string."
   ]
  },
  {
   "cell_type": "code",
   "execution_count": 44,
   "id": "517bff31-bac3-4acb-9216-5d83e0db42e1",
   "metadata": {},
   "outputs": [
    {
     "name": "stdin",
     "output_type": "stream",
     "text": [
      "Enter a string:-  Helloworld\n"
     ]
    },
    {
     "name": "stdout",
     "output_type": "stream",
     "text": [
      "The string provided is:-  Helloworld\n"
     ]
    }
   ],
   "source": [
    "string=input(\"Enter a string:- \")\n",
    "print(\"The string provided is:- \",string)"
   ]
  },
  {
   "cell_type": "code",
   "execution_count": 45,
   "id": "8e1c9a27-f7f1-4662-9ac3-ad56ecde3430",
   "metadata": {},
   "outputs": [
    {
     "name": "stdout",
     "output_type": "stream",
     "text": [
      "The number of lowercase letters are :-  9\n"
     ]
    }
   ],
   "source": [
    "digits=0\n",
    "for word in string:\n",
    "    if word.islower():\n",
    "        digits+=1\n",
    "print(\"The number of lowercase letters are :- \",digits)"
   ]
  },
  {
   "cell_type": "code",
   "execution_count": null,
   "id": "9b5f4540-1fac-4854-bea9-bcd6090950b0",
   "metadata": {},
   "outputs": [],
   "source": [
    "28. Swap the case of each character in a string."
   ]
  },
  {
   "cell_type": "code",
   "execution_count": 46,
   "id": "43643bf1-864f-4b62-936d-0fa46f040176",
   "metadata": {},
   "outputs": [
    {
     "name": "stdin",
     "output_type": "stream",
     "text": [
      "Enter a string:-  HelloWorld\n"
     ]
    },
    {
     "name": "stdout",
     "output_type": "stream",
     "text": [
      "The string provided is:-  HelloWorld\n"
     ]
    }
   ],
   "source": [
    "string=input(\"Enter a string:- \")\n",
    "print(\"The string provided is:- \",string)"
   ]
  },
  {
   "cell_type": "code",
   "execution_count": 49,
   "id": "038d9b45-a6a1-4826-b46e-ce4a4374a96f",
   "metadata": {},
   "outputs": [
    {
     "name": "stdout",
     "output_type": "stream",
     "text": [
      "String after changing :-  hELLOwORLD\n"
     ]
    }
   ],
   "source": [
    "string = string.swapcase()\n",
    "print(\"String after changing :- \",string)"
   ]
  },
  {
   "cell_type": "code",
   "execution_count": null,
   "id": "d3b2ba67-3d02-47ec-ba83-59e6fe38af40",
   "metadata": {},
   "outputs": [],
   "source": [
    "29. Remove a specific word from a string."
   ]
  },
  {
   "cell_type": "code",
   "execution_count": 82,
   "id": "415586e6-bbef-47d8-ba8a-edfd196e9138",
   "metadata": {},
   "outputs": [
    {
     "name": "stdout",
     "output_type": "stream",
     "text": [
      "String changed is: This is an example sentence.\n"
     ]
    }
   ],
   "source": [
    "input_string = \"This is an example mst sentence.\"\n",
    "split_string = input_string.split()\n",
    "if \"mst\" in split_string:\n",
    "    split_string.remove(\"mst\")\n",
    "    new_string = ' '.join(split_string)\n",
    "    print(\"String changed is:\", new_string)\n",
    "else:\n",
    "    print(\"'mst' not found in the string.\")"
   ]
  },
  {
   "cell_type": "code",
   "execution_count": null,
   "id": "58588745-0857-44e2-9e9a-0504e12b0704",
   "metadata": {},
   "outputs": [],
   "source": [
    "30. Check if a string is a valid email address."
   ]
  },
  {
   "cell_type": "code",
   "execution_count": 1,
   "id": "fe3580bc-e863-46c7-b095-2e87c897fee3",
   "metadata": {},
   "outputs": [
    {
     "name": "stdout",
     "output_type": "stream",
     "text": [
      "True\n",
      "True\n"
     ]
    }
   ],
   "source": [
    "import re\n",
    "def is_valid_email(email):\n",
    "    pattern = r'^[\\w\\.-]+@[\\w\\.-]+\\.\\w+$'  \n",
    "    if re.match(pattern, email):\n",
    "        return True\n",
    "    else:\n",
    "        return False\n",
    "email1 = \"ayan02mukherjee22@email.com\"\n",
    "email2 = \"1234@gmail.com\"\n",
    "result1 = is_valid_email(email1)\n",
    "result2 = is_valid_email(email2)\n",
    "print(result1)\n",
    "print(result2)\n"
   ]
  },
  {
   "cell_type": "code",
   "execution_count": null,
   "id": "1a70dbf7-2f7d-4846-ba1f-62870db42a80",
   "metadata": {},
   "outputs": [],
   "source": [
    "31. Extract the username from an email address string."
   ]
  },
  {
   "cell_type": "code",
   "execution_count": 2,
   "id": "4d675301-8de3-4735-b751-45ce3d42843e",
   "metadata": {},
   "outputs": [
    {
     "name": "stdout",
     "output_type": "stream",
     "text": [
      "ayan02mukherjee\n"
     ]
    }
   ],
   "source": [
    "email=\"ayan02mukherjee@gmail.com\"\n",
    "string=email.split(\"@\")[0]\n",
    "print(string)"
   ]
  },
  {
   "cell_type": "code",
   "execution_count": null,
   "id": "7c619058-c647-4b55-9701-fe99caf97179",
   "metadata": {},
   "outputs": [],
   "source": [
    "32. Extract the domain name from an email address string."
   ]
  },
  {
   "cell_type": "code",
   "execution_count": 7,
   "id": "29c4f7f3-a626-4218-83cf-29f0e53c94ee",
   "metadata": {},
   "outputs": [
    {
     "name": "stdout",
     "output_type": "stream",
     "text": [
      "gmail.com\n"
     ]
    }
   ],
   "source": [
    "email=\"ayan@gmail.com\"\n",
    "string=email.split(\"@\")[1]\n",
    "print(string)"
   ]
  },
  {
   "cell_type": "code",
   "execution_count": null,
   "id": "6b5492d6-7bde-42fe-ac54-076e906dccd0",
   "metadata": {},
   "outputs": [],
   "source": [
    "33. Replace multiple spaces in a string with a single space."
   ]
  },
  {
   "cell_type": "code",
   "execution_count": 10,
   "id": "203bd49f-9327-4582-9b83-c417daf3de51",
   "metadata": {},
   "outputs": [],
   "source": [
    "string=\"    the     world  is beautiful\"\n",
    "res=' '.join(string.split())"
   ]
  },
  {
   "cell_type": "code",
   "execution_count": 11,
   "id": "59f1df95-c208-4966-b083-8609c0768c66",
   "metadata": {},
   "outputs": [
    {
     "name": "stdout",
     "output_type": "stream",
     "text": [
      "the world is beautiful\n"
     ]
    }
   ],
   "source": [
    "print(res)"
   ]
  },
  {
   "cell_type": "code",
   "execution_count": null,
   "id": "0dd8f036-000a-49ae-b5a6-c10ed30c3701",
   "metadata": {},
   "outputs": [],
   "source": [
    "34. Check if a string is a valid URL."
   ]
  },
  {
   "cell_type": "code",
   "execution_count": 13,
   "id": "75869b00-9137-4b4b-886b-c46390cf27ed",
   "metadata": {},
   "outputs": [
    {
     "name": "stdout",
     "output_type": "stream",
     "text": [
      "The string is not a URL\n"
     ]
    }
   ],
   "source": [
    "email=\"ayan2gmail.com\"\n",
    "if '.com' and '@' in email:\n",
    "    print(\"The string is a valid URL\")\n",
    "else:\n",
    "    print(\"The string is not a URL\")"
   ]
  },
  {
   "cell_type": "code",
   "execution_count": null,
   "id": "2348adf5-a789-4afe-94b5-efac99435042",
   "metadata": {},
   "outputs": [],
   "source": [
    "35. Extract the protocol (http or https) from a URL string."
   ]
  },
  {
   "cell_type": "code",
   "execution_count": 16,
   "id": "b31ff2f2-d0cc-4613-b554-af3dfc6ed02b",
   "metadata": {},
   "outputs": [
    {
     "name": "stdout",
     "output_type": "stream",
     "text": [
      "https\n"
     ]
    }
   ],
   "source": [
    "url=\"https://github.com/\"\n",
    "string=url.split(':')[0]\n",
    "print(string)"
   ]
  },
  {
   "cell_type": "code",
   "execution_count": null,
   "id": "2d597f35-cd3d-44d9-8f65-9308b1c66429",
   "metadata": {},
   "outputs": [],
   "source": [
    "36. Find the frequency of each character in a string."
   ]
  },
  {
   "cell_type": "code",
   "execution_count": 17,
   "id": "d26ed1ec-8c53-4294-abdb-4c4420cc1db0",
   "metadata": {},
   "outputs": [
    {
     "name": "stdin",
     "output_type": "stream",
     "text": [
      "Enter a string:-  ayanmukherjee\n"
     ]
    },
    {
     "name": "stdout",
     "output_type": "stream",
     "text": [
      "The string provided is:-  ayanmukherjee\n"
     ]
    }
   ],
   "source": [
    "string=input(\"Enter a string:- \")\n",
    "print(\"The string provided is:- \",string)"
   ]
  },
  {
   "cell_type": "code",
   "execution_count": 25,
   "id": "44a9157e-8e0c-4e49-8d45-74fa16159034",
   "metadata": {},
   "outputs": [
    {
     "name": "stdout",
     "output_type": "stream",
     "text": [
      "Character: 'a', Frequency: 2\n",
      "Character: 'y', Frequency: 1\n",
      "Character: 'n', Frequency: 1\n",
      "Character: 'm', Frequency: 1\n",
      "Character: 'u', Frequency: 1\n",
      "Character: 'k', Frequency: 1\n",
      "Character: 'h', Frequency: 1\n",
      "Character: 'e', Frequency: 3\n",
      "Character: 'r', Frequency: 1\n",
      "Character: 'j', Frequency: 1\n"
     ]
    }
   ],
   "source": [
    "char_freq = {}\n",
    "for char in string:\n",
    "    if char in char_freq:\n",
    "        char_freq[char] += 1\n",
    "    else:\n",
    "        char_freq[char] = 1\n",
    "for char, freq in char_freq.items():\n",
    "    print(f\"Character: '{char}', Frequency: {freq}\")"
   ]
  },
  {
   "cell_type": "code",
   "execution_count": null,
   "id": "0431d759-3734-4342-af3c-adff15cf30b8",
   "metadata": {},
   "outputs": [],
   "source": [
    "37. Remove all punctuation from a string."
   ]
  },
  {
   "cell_type": "code",
   "execution_count": 30,
   "id": "61d577ba-0d8b-477d-abaa-787eae67031b",
   "metadata": {},
   "outputs": [
    {
     "name": "stdout",
     "output_type": "stream",
     "text": [
      "Hello World This is an example string\n"
     ]
    }
   ],
   "source": [
    "import string\n",
    "\n",
    "input_string = \"Hello, World! This is an example string.\"\n",
    "\n",
    "translator = str.maketrans('', '', string.punctuation)\n",
    "cleaned_string = input_string.translate(translator)\n",
    "\n",
    "print(cleaned_string)"
   ]
  },
  {
   "cell_type": "code",
   "execution_count": null,
   "id": "10b9ec33-6b93-4d70-9621-ee2b24bb02aa",
   "metadata": {},
   "outputs": [],
   "source": [
    "38. Check if a string contains only digits."
   ]
  },
  {
   "cell_type": "code",
   "execution_count": 32,
   "id": "74222079-e8a5-47cf-b790-3be653ca5d78",
   "metadata": {},
   "outputs": [
    {
     "name": "stdout",
     "output_type": "stream",
     "text": [
      "It has only digits\n"
     ]
    }
   ],
   "source": [
    "string=\"12345\"\n",
    "if string.isdigit():\n",
    "    print(\"It has only digits\")\n",
    "else:\n",
    "    print(\"It doesnt have only digits\")"
   ]
  },
  {
   "cell_type": "code",
   "execution_count": null,
   "id": "3af8de84-6193-4d77-8769-8036d0138f32",
   "metadata": {},
   "outputs": [],
   "source": [
    "39. Check if a string contains only alphabets."
   ]
  },
  {
   "cell_type": "code",
   "execution_count": 34,
   "id": "da3b0997-045c-4fe3-9ddf-c36309d45b1d",
   "metadata": {},
   "outputs": [
    {
     "name": "stdout",
     "output_type": "stream",
     "text": [
      "It doesnt have only alphabets\n"
     ]
    }
   ],
   "source": [
    "string=\"12345\"\n",
    "if string.isalpha():\n",
    "    print(\"It has only alphabets\")\n",
    "else:\n",
    "    print(\"It doesnt have only alphabets\")"
   ]
  },
  {
   "cell_type": "code",
   "execution_count": null,
   "id": "293c14f1-0071-4b62-99d4-79c1003fb860",
   "metadata": {},
   "outputs": [],
   "source": [
    "40. Convert a string to a list of characters."
   ]
  },
  {
   "cell_type": "code",
   "execution_count": 35,
   "id": "ad95c87c-6f39-4c04-8db5-551c728fe4de",
   "metadata": {},
   "outputs": [
    {
     "name": "stdout",
     "output_type": "stream",
     "text": [
      "['T', 'o', 'd', 'a', 'y', ' ', 'i', 's', ' ', 'a', ' ', 'b', 'e', 'a', 'u', 't', 'i', 'f', 'u', 'l', ' ', 'd', 'a', 'y']\n"
     ]
    }
   ],
   "source": [
    "string = \"Today is a beautiful day\"\n",
    "print(list(string))"
   ]
  },
  {
   "cell_type": "code",
   "execution_count": null,
   "id": "236ea10c-46ea-4fae-85c7-fb349104a213",
   "metadata": {},
   "outputs": [],
   "source": [
    "41. Check if two strings are anagrams."
   ]
  },
  {
   "cell_type": "code",
   "execution_count": 38,
   "id": "784b92f9-fb41-4bb4-a3a6-6f9b6a93faec",
   "metadata": {},
   "outputs": [
    {
     "name": "stdout",
     "output_type": "stream",
     "text": [
      "The two strings are anagrams\n"
     ]
    }
   ],
   "source": [
    "str1=\"listen\"\n",
    "str2=\"silent\"\n",
    "if sorted(str1) == sorted(str2):\n",
    "    print(\"The two strings are anagrams\")\n",
    "else:\n",
    "    print(\"The two strings are not anagrams\")"
   ]
  },
  {
   "cell_type": "code",
   "execution_count": null,
   "id": "8c02dcc0-8eea-4fc6-a3d2-e7935a8acf9d",
   "metadata": {},
   "outputs": [],
   "source": [
    "42. Encode a string using a Caesar cipher."
   ]
  },
  {
   "cell_type": "code",
   "execution_count": 39,
   "id": "150ac6c6-5ab6-43d2-b2bd-686436c04ca7",
   "metadata": {},
   "outputs": [],
   "source": [
    "string=\"helloworld\"\n",
    "s=3"
   ]
  },
  {
   "cell_type": "code",
   "execution_count": 41,
   "id": "03171525-efb3-41ae-81f2-25d0263af040",
   "metadata": {},
   "outputs": [
    {
     "name": "stdout",
     "output_type": "stream",
     "text": [
      "khoorzruog\n"
     ]
    }
   ],
   "source": [
    "result = \"\"\n",
    "for i in range(len(string)):\n",
    "        char = string[i]\n",
    "        if (char.isupper()):\n",
    "            result += chr((ord(char) + s-65) % 26 + 65)\n",
    "        else:\n",
    "            result += chr((ord(char) + s - 97) % 26 + 97)\n",
    "print(result)"
   ]
  },
  {
   "cell_type": "code",
   "execution_count": null,
   "id": "856c5344-8aca-44f4-bdd4-7e8e9e422b91",
   "metadata": {},
   "outputs": [],
   "source": [
    "43. Decode a Caesar cipher encoded string."
   ]
  },
  {
   "cell_type": "code",
   "execution_count": 46,
   "id": "e613a7d5-51ea-4c6d-9543-1175eda084e7",
   "metadata": {},
   "outputs": [],
   "source": [
    "string=\"khoorzruog\"\n",
    "s=-3"
   ]
  },
  {
   "cell_type": "code",
   "execution_count": 47,
   "id": "3ab29f80-80a0-49f8-9d86-5714e8432925",
   "metadata": {},
   "outputs": [
    {
     "name": "stdout",
     "output_type": "stream",
     "text": [
      "helloworld\n"
     ]
    }
   ],
   "source": [
    "ans = \"\"\n",
    "for i in range(len(string)):\n",
    "        ch = string[i]\n",
    "        if ch==\" \":\n",
    "            ans+=\" \"\n",
    "        elif (ch.isupper()):\n",
    "            ans += chr((ord(ch) + s-65) % 26 + 65)\n",
    "        else:\n",
    "            ans += chr((ord(ch) + s-97) % 26 + 97)\n",
    "print(ans)"
   ]
  },
  {
   "cell_type": "code",
   "execution_count": null,
   "id": "301a013c-b299-4010-9772-6f1c314e66fd",
   "metadata": {},
   "outputs": [],
   "source": [
    "44. Find the most frequent word in a string."
   ]
  },
  {
   "cell_type": "code",
   "execution_count": 58,
   "id": "01e12c49-cc3b-4fc8-81b7-9f6655a784eb",
   "metadata": {},
   "outputs": [
    {
     "name": "stdout",
     "output_type": "stream",
     "text": [
      "Most frequent word: hello\n"
     ]
    }
   ],
   "source": [
    "import re\n",
    "from collections import Counter\n",
    "def most_frequent_word(input_string):\n",
    "    clean_string = re.sub(r'[^\\w\\s]', '', input_string).lower()\n",
    "    words = clean_string.split()\n",
    "    word_counter = Counter(words)\n",
    "    most_common_word = word_counter.most_common(1)[0][0]\n",
    "    return most_common_word\n",
    "input_str = \"Hello world, hello there! How's the world?\"\n",
    "most_common = most_frequent_word(input_str)\n",
    "print(\"Most frequent word:\", most_common)"
   ]
  },
  {
   "cell_type": "code",
   "execution_count": null,
   "id": "52e247fb-ccf0-4109-a309-0a63ba5525a4",
   "metadata": {},
   "outputs": [],
   "source": [
    "45. Find all unique words in a string."
   ]
  },
  {
   "cell_type": "code",
   "execution_count": 5,
   "id": "3baf8cbd-fa94-4bfa-bfed-fcb3ca126d55",
   "metadata": {},
   "outputs": [
    {
     "name": "stdout",
     "output_type": "stream",
     "text": [
      "{',', 'a', 'beautiful', 'day', 'what'}\n"
     ]
    }
   ],
   "source": [
    "string=\"day , what a beautiful day\"\n",
    "l_string=list(string)\n",
    "sp_str=string.split()\n",
    "print(set(sp_str))"
   ]
  },
  {
   "cell_type": "code",
   "execution_count": null,
   "id": "06a76807-cdf2-43ac-aa02-d550c8dc2315",
   "metadata": {},
   "outputs": [],
   "source": [
    "46. Count the number of syllables in a string."
   ]
  },
  {
   "cell_type": "code",
   "execution_count": 11,
   "id": "9badb7d3-5df9-41a3-9d1d-4ce98ade5fde",
   "metadata": {},
   "outputs": [],
   "source": [
    "word=\"banana\""
   ]
  },
  {
   "cell_type": "code",
   "execution_count": 12,
   "id": "e6d442e2-b0e9-4417-b3ae-6f7b89b74652",
   "metadata": {},
   "outputs": [
    {
     "name": "stdout",
     "output_type": "stream",
     "text": [
      "Number of syllables:-  3\n"
     ]
    }
   ],
   "source": [
    "syllables = 0\n",
    "for i in range(len(word)):\n",
    "    if word[i] in \"aeiou\":\n",
    "      syllables += 1\n",
    "    if word[i] == \"y\" and i != len(word) - 1 and word[i + 1] in \"aeiou\":\n",
    "      syllables += 1\n",
    "print(\"Number of syllables:- \",syllables)"
   ]
  },
  {
   "cell_type": "code",
   "execution_count": null,
   "id": "30c485bc-9b39-437e-b953-661f387958f8",
   "metadata": {},
   "outputs": [],
   "source": [
    "47. Check if a string contains any special characters."
   ]
  },
  {
   "cell_type": "code",
   "execution_count": 22,
   "id": "0aec8fec-73c3-4552-8e6d-0ac3882359d8",
   "metadata": {},
   "outputs": [
    {
     "name": "stdout",
     "output_type": "stream",
     "text": [
      "The string has special characters!!\n"
     ]
    }
   ],
   "source": [
    "string = \"Ayan@good\"\n",
    "flag = 0  \n",
    "for char in string:\n",
    "    if char in '!@#$%^&*':\n",
    "        flag = 1\n",
    "        break \n",
    "if flag == 1:\n",
    "    print(\"The string has special characters!!\")\n",
    "else:\n",
    "    print(\"The string doesn't have special characters!!\")"
   ]
  },
  {
   "cell_type": "code",
   "execution_count": null,
   "id": "9e618f78-d5a7-4b30-9297-f372fcc747a9",
   "metadata": {},
   "outputs": [],
   "source": [
    "48. Remove the nth word from a string."
   ]
  },
  {
   "cell_type": "code",
   "execution_count": 26,
   "id": "a14a5593-cb5b-4493-9098-a20b8465c2f2",
   "metadata": {},
   "outputs": [
    {
     "name": "stdout",
     "output_type": "stream",
     "text": [
      "ayan is good guy\n"
     ]
    }
   ],
   "source": [
    "input_string=\"ayan is a good guy\"\n",
    "n=2\n",
    "words = input_string.split()\n",
    "if 0 <= n < len(words):\n",
    "        del words[n]\n",
    "        result_string = ' '.join(words)\n",
    "        print(result_string)\n",
    "else:\n",
    "        print(\"Invalid index, word not removed.\")"
   ]
  },
  {
   "cell_type": "code",
   "execution_count": null,
   "id": "4d459ffd-5025-4d8f-adf7-60908060b5bf",
   "metadata": {},
   "outputs": [],
   "source": [
    "49. Insert a word at the nth position in a string."
   ]
  },
  {
   "cell_type": "code",
   "execution_count": 30,
   "id": "b4e03592-50a9-4dbf-961c-eb9833949d30",
   "metadata": {},
   "outputs": [
    {
     "name": "stdout",
     "output_type": "stream",
     "text": [
      "ayan is awesome good guy\n"
     ]
    }
   ],
   "source": [
    "input_string = \"ayan is good guy\"\n",
    "n = 2\n",
    "new_word = \"awesome\" \n",
    "words = input_string.split()\n",
    "if 0 <= n <= len(words):\n",
    "    words.insert(n, new_word) \n",
    "    result_string = ' '.join(words)\n",
    "    print(result_string)\n",
    "else:\n",
    "    print(\"Invalid position, word not added.\")"
   ]
  },
  {
   "cell_type": "code",
   "execution_count": null,
   "id": "d5a93a26-f4a4-4d55-b4eb-f03053ca9263",
   "metadata": {},
   "outputs": [],
   "source": [
    "50. Convert a CSV string to a list of lists."
   ]
  },
  {
   "cell_type": "code",
   "execution_count": 33,
   "id": "3a400fb9-d9fa-41c3-b459-a386be2a3844",
   "metadata": {},
   "outputs": [
    {
     "name": "stdout",
     "output_type": "stream",
     "text": [
      "[['Name', ' Age', ' Country'], ['John', ' 25', ' USA'], ['Alice', ' 30', ' Canada'], ['Bob', ' 22', ' UK']]\n"
     ]
    }
   ],
   "source": [
    "csv_data = \"Name, Age, Country\\nJohn, 25, USA\\nAlice, 30, Canada\\nBob, 22, UK\"\n",
    "lines = csv_data.split('\\n')\n",
    "result = []\n",
    "for line in lines:\n",
    "        fields = line.split(',')\n",
    "        result.append(fields)\n",
    "print(result)"
   ]
  },
  {
   "cell_type": "markdown",
   "id": "2affa3a4-dcff-4af8-8fdc-5c2f0ab82829",
   "metadata": {},
   "source": [
    "List Based Practice Problem :"
   ]
  },
  {
   "cell_type": "code",
   "execution_count": null,
   "id": "47ee2b1c-1a43-4675-bdcb-b9080cf14b28",
   "metadata": {},
   "outputs": [],
   "source": [
    "1. Create a list with integers from 1 to 10."
   ]
  },
  {
   "cell_type": "code",
   "execution_count": 5,
   "id": "858e59fe-9668-4ef4-82cd-2c48b51a7ed7",
   "metadata": {},
   "outputs": [
    {
     "name": "stdout",
     "output_type": "stream",
     "text": [
      "[1, 2, 3, 4, 5, 6, 7, 8, 9, 10]\n"
     ]
    }
   ],
   "source": [
    "res=[]\n",
    "for i in range(1,11):\n",
    "    res.append(i)\n",
    "print(res)"
   ]
  },
  {
   "cell_type": "code",
   "execution_count": null,
   "id": "6738f1ac-b6c8-4871-bf01-7c0a43a90eae",
   "metadata": {},
   "outputs": [],
   "source": [
    "2. Find the length of a list without using the len() function."
   ]
  },
  {
   "cell_type": "code",
   "execution_count": 3,
   "id": "538b58b1-fcad-4592-adbd-24bfb7abe58b",
   "metadata": {},
   "outputs": [
    {
     "name": "stdout",
     "output_type": "stream",
     "text": [
      "The length of the list is :-  10\n"
     ]
    }
   ],
   "source": [
    "c=0\n",
    "for i in res:\n",
    "    c+=1\n",
    "print(\"The length of the list is :- \",c)"
   ]
  },
  {
   "cell_type": "code",
   "execution_count": null,
   "id": "03057fcb-464e-44a8-b326-c7cbddacc616",
   "metadata": {},
   "outputs": [],
   "source": [
    "3. Append an element to the end of a list."
   ]
  },
  {
   "cell_type": "code",
   "execution_count": 6,
   "id": "03058030-3e41-4da1-a946-cd410ad185db",
   "metadata": {},
   "outputs": [
    {
     "name": "stdout",
     "output_type": "stream",
     "text": [
      "The list after adding element:-  [1, 2, 3, 4, 5, 6, 7, 8, 9, 10, 11]\n"
     ]
    }
   ],
   "source": [
    "res.append(11)\n",
    "print(\"The list after adding element:- \",res)"
   ]
  },
  {
   "cell_type": "code",
   "execution_count": null,
   "id": "c5c7f324-3e1e-4aa7-9bbf-1a68017ff445",
   "metadata": {},
   "outputs": [],
   "source": [
    "4. Insert an element at a specific index in a list."
   ]
  },
  {
   "cell_type": "code",
   "execution_count": 14,
   "id": "484c0c1e-3b97-4fb5-8b58-45ad56925bfd",
   "metadata": {},
   "outputs": [
    {
     "name": "stdout",
     "output_type": "stream",
     "text": [
      "The list after adding element:-  [1, 2, 3, 30, 4, 5, 6, 7, 8, 9, 10, 11]\n"
     ]
    }
   ],
   "source": [
    "index=3\n",
    "element=30\n",
    "res.insert(index,element)\n",
    "print(\"The list after adding element:- \",res)"
   ]
  },
  {
   "cell_type": "code",
   "execution_count": null,
   "id": "5ab0b328-dcfa-4ac5-af51-e0bec87b7600",
   "metadata": {},
   "outputs": [],
   "source": [
    "5. Remove an element from a list by its value."
   ]
  },
  {
   "cell_type": "code",
   "execution_count": 15,
   "id": "835117b5-fc4e-4e5b-ada6-c3454f455805",
   "metadata": {},
   "outputs": [
    {
     "name": "stdout",
     "output_type": "stream",
     "text": [
      "Updated list:-  [1, 2, 3, 4, 5, 6, 7, 8, 9, 10, 11]\n"
     ]
    }
   ],
   "source": [
    "res.remove(30)\n",
    "print(\"Updated list:- \",res)"
   ]
  },
  {
   "cell_type": "code",
   "execution_count": null,
   "id": "d0fca9e6-a822-42d7-b9a8-1990f85ad26b",
   "metadata": {},
   "outputs": [],
   "source": [
    "6. Remove an element from a list by its index."
   ]
  },
  {
   "cell_type": "code",
   "execution_count": 16,
   "id": "8e2f2fe5-fbdf-41c8-9392-674a7dc3a05a",
   "metadata": {},
   "outputs": [
    {
     "name": "stdout",
     "output_type": "stream",
     "text": [
      "updated list:-  [1, 2, 3, 4, 5, 6, 7, 8, 9, 10]\n"
     ]
    }
   ],
   "source": [
    "res.pop(10)\n",
    "print(\"updated list:- \",res)"
   ]
  },
  {
   "cell_type": "code",
   "execution_count": null,
   "id": "227142cc-920c-4a13-969e-9e16b99807ca",
   "metadata": {},
   "outputs": [],
   "source": [
    "7. Check if an element exists in a list."
   ]
  },
  {
   "cell_type": "code",
   "execution_count": 26,
   "id": "e637563c-2655-414c-b8dd-11d50dbe7d88",
   "metadata": {},
   "outputs": [
    {
     "name": "stdout",
     "output_type": "stream",
     "text": [
      "The element exists\n"
     ]
    }
   ],
   "source": [
    "value=5\n",
    "if value in res:\n",
    "    print(\"The element exists\")\n",
    "else:\n",
    "    print(\"The element doesnt exists\")"
   ]
  },
  {
   "cell_type": "code",
   "execution_count": null,
   "id": "d67a8c63-a054-4162-9079-9feebac2c1c5",
   "metadata": {},
   "outputs": [],
   "source": [
    "8. Find the index of the first occurrence of an element in a list."
   ]
  },
  {
   "cell_type": "code",
   "execution_count": 36,
   "id": "6c0d3fa1-daa0-4ad1-8512-e130312ec789",
   "metadata": {},
   "outputs": [
    {
     "name": "stdout",
     "output_type": "stream",
     "text": [
      "The index of the first occurrence is: 6\n"
     ]
    }
   ],
   "source": [
    "val=7\n",
    "flag=-1\n",
    "for i, item in enumerate(res):\n",
    "    if item == val:\n",
    "        flag = i\n",
    "        break\n",
    "\n",
    "if flag != -1:\n",
    "    print(\"The index of the first occurrence is:\", flag)\n",
    "else:\n",
    "    print(\"The value does not exist in the list.\")"
   ]
  },
  {
   "cell_type": "code",
   "execution_count": null,
   "id": "a029d147-8526-4c44-b5bb-9acac342855a",
   "metadata": {},
   "outputs": [],
   "source": [
    "9. Count the occurrences of an element in a list."
   ]
  },
  {
   "cell_type": "code",
   "execution_count": 37,
   "id": "519349d1-6bde-4d31-ab82-1ce247050d34",
   "metadata": {},
   "outputs": [
    {
     "name": "stdout",
     "output_type": "stream",
     "text": [
      "No. of  30  are :-  3\n"
     ]
    }
   ],
   "source": [
    "my_list = [10, 20, 30, 40, 50, 30, 30]\n",
    "val=30\n",
    "c=0\n",
    "for i in my_list:\n",
    "    if  i == val:\n",
    "        c+=1\n",
    "print(\"No. of \",val,\" are :- \",c)"
   ]
  },
  {
   "cell_type": "code",
   "execution_count": null,
   "id": "6e3370c7-1593-4891-95e6-3d20f3051256",
   "metadata": {},
   "outputs": [],
   "source": [
    "10. Reverse the order of elements in a list."
   ]
  },
  {
   "cell_type": "code",
   "execution_count": 41,
   "id": "7fc15a1b-be0a-4744-bb91-13a60f08b519",
   "metadata": {},
   "outputs": [
    {
     "name": "stdout",
     "output_type": "stream",
     "text": [
      "The list reversed is :-  [30, 30, 50, 40, 30, 20, 10]\n"
     ]
    }
   ],
   "source": [
    "my_list = [10, 20, 30, 40, 50, 30, 30]\n",
    "my_list.reverse()\n",
    "print(\"The list reversed is :- \",my_list)"
   ]
  },
  {
   "cell_type": "code",
   "execution_count": null,
   "id": "e166c510-8b86-4282-ae43-161356585775",
   "metadata": {},
   "outputs": [],
   "source": [
    "11. Sort a list in ascending order."
   ]
  },
  {
   "cell_type": "code",
   "execution_count": 40,
   "id": "7195e320-2549-4726-8e5f-5f7c43ab97f7",
   "metadata": {},
   "outputs": [
    {
     "name": "stdout",
     "output_type": "stream",
     "text": [
      "Sorted list is :-  [1, 3, 5, 8, 9, 64]\n"
     ]
    }
   ],
   "source": [
    "my_list=[64,8,9,1,3,5]\n",
    "print(\"Sorted list is :- \",sorted(my_list))"
   ]
  },
  {
   "cell_type": "code",
   "execution_count": null,
   "id": "8c5e2c49-f7ee-4f77-813d-567feb216508",
   "metadata": {},
   "outputs": [],
   "source": [
    "12. Sort a list in descending order."
   ]
  },
  {
   "cell_type": "code",
   "execution_count": 43,
   "id": "15026d92-f8a2-4838-bd06-ee36eb5ae695",
   "metadata": {},
   "outputs": [
    {
     "name": "stdout",
     "output_type": "stream",
     "text": [
      "List in descending order is:-  [50, 40, 30, 30, 30, 20, 10]\n"
     ]
    }
   ],
   "source": [
    "my_list.sort(reverse=True)\n",
    "print(\"List in descending order is:- \",my_list)"
   ]
  },
  {
   "cell_type": "code",
   "execution_count": null,
   "id": "afb00fd5-1a7e-4fe8-ab7e-9f82c8453d1e",
   "metadata": {},
   "outputs": [],
   "source": [
    "13. Create a list of even numbers from 1 to 20."
   ]
  },
  {
   "cell_type": "code",
   "execution_count": 46,
   "id": "58188899-8401-46c2-8653-bba6277685bc",
   "metadata": {},
   "outputs": [
    {
     "name": "stdout",
     "output_type": "stream",
     "text": [
      "The list of even numbers is:-  [2, 4, 6, 8, 10, 12, 14, 16, 18, 20]\n"
     ]
    }
   ],
   "source": [
    "res=[]\n",
    "for i in range(1,21):\n",
    "    if i % 2 ==0:\n",
    "        res.append(i)\n",
    "print(\"The list of even numbers is:- \",res)"
   ]
  },
  {
   "cell_type": "code",
   "execution_count": null,
   "id": "0eb913bc-f1d2-4e78-adeb-903ba333b0ee",
   "metadata": {},
   "outputs": [],
   "source": [
    "14. Create a list of odd numbers from 1 to 20."
   ]
  },
  {
   "cell_type": "code",
   "execution_count": 45,
   "id": "d12faea1-06d7-4b19-bfad-f43b4b2ccba1",
   "metadata": {},
   "outputs": [
    {
     "name": "stdout",
     "output_type": "stream",
     "text": [
      "The list of odd numbers is:-  [1, 3, 5, 7, 9, 11, 13, 15, 17, 19]\n"
     ]
    }
   ],
   "source": [
    "tot=[]\n",
    "for i in range(1,21):\n",
    "    if i % 2 !=0:\n",
    "        tot.append(i)\n",
    "print(\"The list of odd numbers is:- \",tot)"
   ]
  },
  {
   "cell_type": "code",
   "execution_count": null,
   "id": "dc015540-7a27-4268-bb93-5d8c350a04ec",
   "metadata": {},
   "outputs": [],
   "source": [
    "15. Find the sum of all elements in a list."
   ]
  },
  {
   "cell_type": "code",
   "execution_count": 47,
   "id": "cfaeebce-bfe7-41e6-8603-5bcc625b7e40",
   "metadata": {},
   "outputs": [
    {
     "name": "stdout",
     "output_type": "stream",
     "text": [
      "The sum of elements are :-  17\n"
     ]
    }
   ],
   "source": [
    "lst=[3,6,2,5,1]\n",
    "add=0\n",
    "for i in lst:\n",
    "    add = add + i\n",
    "print(\"The sum of elements are :- \",add)"
   ]
  },
  {
   "cell_type": "code",
   "execution_count": null,
   "id": "4866384f-2a1c-4bf5-b216-813cf1dff5c2",
   "metadata": {},
   "outputs": [],
   "source": [
    "16. Find the maximum value in a list."
   ]
  },
  {
   "cell_type": "code",
   "execution_count": 50,
   "id": "3d2cd2e9-34b2-4267-b278-4ed0c423917e",
   "metadata": {},
   "outputs": [
    {
     "name": "stdout",
     "output_type": "stream",
     "text": [
      "the max element is :-  6\n"
     ]
    }
   ],
   "source": [
    "lst=[3,6,2,5,1]\n",
    "max_ele=max(lst)\n",
    "print(\"the max element is :- \",max_ele)"
   ]
  },
  {
   "cell_type": "code",
   "execution_count": null,
   "id": "5309e47f-e796-4ada-8c5f-934578275d19",
   "metadata": {},
   "outputs": [],
   "source": [
    "17. Find the minimum value in a list."
   ]
  },
  {
   "cell_type": "code",
   "execution_count": 49,
   "id": "62f71f05-2a1f-4233-98b0-a59a34eb54c5",
   "metadata": {},
   "outputs": [
    {
     "name": "stdout",
     "output_type": "stream",
     "text": [
      "the max element is :-  1\n"
     ]
    }
   ],
   "source": [
    "lst=[3,6,2,5,1]\n",
    "min_ele=min(lst)\n",
    "print(\"the max element is :- \",min_ele)"
   ]
  },
  {
   "cell_type": "code",
   "execution_count": null,
   "id": "12e32392-9c6d-4bd8-b765-4d135e6576d6",
   "metadata": {},
   "outputs": [],
   "source": [
    "18. Create a list of squares of numbers from 1 to 10."
   ]
  },
  {
   "cell_type": "code",
   "execution_count": 51,
   "id": "04f19270-bd09-4c2d-b037-0b9d126c1c4d",
   "metadata": {},
   "outputs": [
    {
     "name": "stdout",
     "output_type": "stream",
     "text": [
      "The list is :-  [1, 4, 9, 16, 25, 36, 49, 64, 81, 100]\n"
     ]
    }
   ],
   "source": [
    "sol=[]\n",
    "for i in range(1,11):\n",
    "    sq=i**2\n",
    "    sol.append(sq)\n",
    "print(\"The list is :- \",sol)"
   ]
  },
  {
   "cell_type": "code",
   "execution_count": null,
   "id": "e1d04a43-7e07-433f-afc9-f2cd4aa34bf7",
   "metadata": {},
   "outputs": [],
   "source": [
    "19. Create a list of random numbers."
   ]
  },
  {
   "cell_type": "code",
   "execution_count": 52,
   "id": "f8fc2ba3-74af-4911-a25b-ca3993ee5cd9",
   "metadata": {},
   "outputs": [
    {
     "name": "stdout",
     "output_type": "stream",
     "text": [
      "The list with random numbers:-  [65, 91, 28, 92, 56, 22, 10, 11, 83, 5]\n"
     ]
    }
   ],
   "source": [
    "import random\n",
    "r_nums=[]\n",
    "for i in range(1,11):\n",
    "    ran=random.randint(1,100)\n",
    "    r_nums.append(ran)\n",
    "print(\"The list with random numbers:- \",r_nums)"
   ]
  },
  {
   "cell_type": "code",
   "execution_count": null,
   "id": "1dd2269e-abc5-4745-996b-5b3d8e60ba16",
   "metadata": {},
   "outputs": [],
   "source": [
    "20. Remove duplicates from a list."
   ]
  },
  {
   "cell_type": "code",
   "execution_count": 67,
   "id": "1beb4ea9-6406-41d9-961c-f7bd7491dc28",
   "metadata": {},
   "outputs": [
    {
     "name": "stdout",
     "output_type": "stream",
     "text": [
      "The list without any duplicate elements: {1, 2, 3, 4, 5, 6, 7}\n"
     ]
    }
   ],
   "source": [
    "my_list = [1, 2, 1, 2, 5, 6, 7, 3, 4]\n",
    "lt = set(my_list)\n",
    "print(\"The list without any duplicate elements:\", lt)"
   ]
  },
  {
   "cell_type": "code",
   "execution_count": null,
   "id": "a2a6851d-f6ae-4051-bfe0-bf89efcf3f56",
   "metadata": {},
   "outputs": [],
   "source": [
    "21. Find the common elements between two lists."
   ]
  },
  {
   "cell_type": "code",
   "execution_count": 71,
   "id": "e0a47908-ee7a-429c-9b90-88ecc0d3bc86",
   "metadata": {},
   "outputs": [
    {
     "name": "stdout",
     "output_type": "stream",
     "text": [
      "The common elements are: [10]\n"
     ]
    }
   ],
   "source": [
    "l1=[1,3,5,7,9,10,28]\n",
    "l2=[2,4,6,8,10,23]\n",
    "common_elements = []\n",
    "for i in range(len(l1)):\n",
    "    for j in range(len(l2)):\n",
    "        if l1[i] == l2[j]:\n",
    "            common_elements.append(l1[i])\n",
    "if common_elements:\n",
    "    print(\"The common elements are:\", common_elements)\n",
    "else:\n",
    "    print(\"There are no common elements.\")"
   ]
  },
  {
   "cell_type": "code",
   "execution_count": null,
   "id": "cb2b2268-9470-4490-a0a2-cd84f8d49b29",
   "metadata": {},
   "outputs": [],
   "source": [
    "22. Find the difference between two lists."
   ]
  },
  {
   "cell_type": "code",
   "execution_count": 83,
   "id": "7a430d69-26fa-4a64-95ce-1cff41ea4771",
   "metadata": {},
   "outputs": [
    {
     "name": "stdout",
     "output_type": "stream",
     "text": [
      "The difference between two sets is: {1, 3, 5, 7, 9, 28}\n"
     ]
    }
   ],
   "source": [
    "l1 = [1, 3, 5, 7, 9, 10, 28]\n",
    "l2 = [2, 4, 6, 8, 10, 23]\n",
    "s1 = set(l1)\n",
    "s2 = set(l2)\n",
    "diff = s1-s2\n",
    "print(\"The difference between two sets is:\", diff)"
   ]
  },
  {
   "cell_type": "code",
   "execution_count": null,
   "id": "98d5bc5a-1651-4408-bfbb-e40daf91b73b",
   "metadata": {},
   "outputs": [],
   "source": [
    "23. Merge two lists."
   ]
  },
  {
   "cell_type": "code",
   "execution_count": 75,
   "id": "3ccc883e-5bb9-4c9e-8110-f43bc560e003",
   "metadata": {},
   "outputs": [
    {
     "name": "stdout",
     "output_type": "stream",
     "text": [
      "Merged list is :-  [1, 3, 5, 2, 4]\n"
     ]
    }
   ],
   "source": [
    "l1=[1,3,5]\n",
    "l2=[2,4]\n",
    "merg=l1+l2\n",
    "print(\"Merged list is :- \",merg)"
   ]
  },
  {
   "cell_type": "code",
   "execution_count": null,
   "id": "75e19ee5-516d-496d-8024-8b0870593be8",
   "metadata": {},
   "outputs": [],
   "source": [
    "24. Multiply all elements in a list by 2."
   ]
  },
  {
   "cell_type": "code",
   "execution_count": 74,
   "id": "402884e0-2645-4715-9c75-17016acbd295",
   "metadata": {},
   "outputs": [
    {
     "name": "stdout",
     "output_type": "stream",
     "text": [
      "[12, 8, 4]\n"
     ]
    }
   ],
   "source": [
    "lst=[6,4,2]\n",
    "sol=[]\n",
    "for i in range(len(lst)):\n",
    "    sol.append(lst[i]*2)\n",
    "print(sol)"
   ]
  },
  {
   "cell_type": "code",
   "execution_count": null,
   "id": "20080d8a-87a8-4582-8e1f-ee52a812123c",
   "metadata": {},
   "outputs": [],
   "source": [
    "25. Filter out all even numbers from a list."
   ]
  },
  {
   "cell_type": "code",
   "execution_count": 1,
   "id": "a2e7ea95-f1f3-481a-a990-97274b616d7d",
   "metadata": {},
   "outputs": [
    {
     "name": "stdout",
     "output_type": "stream",
     "text": [
      "[9, 5, 5, 7]\n"
     ]
    }
   ],
   "source": [
    "lst=[9,5,8,6,5,2,7]\n",
    "sol=[]\n",
    "for i in lst:\n",
    "    if i % 2 != 0:\n",
    "        sol.append(i)\n",
    "print(sol)"
   ]
  },
  {
   "cell_type": "code",
   "execution_count": null,
   "id": "43634508-e29b-4f1a-ab39-7d599f99a850",
   "metadata": {},
   "outputs": [],
   "source": [
    "26. Convert a list of strings to a list of integers."
   ]
  },
  {
   "cell_type": "code",
   "execution_count": 1,
   "id": "286389d7-6013-41fb-9058-2623d30d97bf",
   "metadata": {},
   "outputs": [
    {
     "name": "stdout",
     "output_type": "stream",
     "text": [
      "[1, 2, 3, 4, 5]\n"
     ]
    }
   ],
   "source": [
    "l=[\"1\",\"2\",\"3\",\"4\",\"5\"]\n",
    "ml=[]\n",
    "for i in l:\n",
    "    ml.append(int(i))\n",
    "print(ml)"
   ]
  },
  {
   "cell_type": "code",
   "execution_count": null,
   "id": "1e4acd83-3faa-4082-83a8-510086cb8d02",
   "metadata": {},
   "outputs": [],
   "source": [
    "27. Convert a list of integers to a list of strings."
   ]
  },
  {
   "cell_type": "code",
   "execution_count": 2,
   "id": "c3d86a4e-597c-424e-b112-2181e7ab0382",
   "metadata": {},
   "outputs": [
    {
     "name": "stdout",
     "output_type": "stream",
     "text": [
      "['1', '2', '3', '4', '5']\n"
     ]
    }
   ],
   "source": [
    "l=[1,2,3,4,5]\n",
    "ml=[]\n",
    "for i in l:\n",
    "    ml.append(str(i))\n",
    "print(ml)"
   ]
  },
  {
   "cell_type": "code",
   "execution_count": null,
   "id": "838fdb06-d6a7-4fc0-a887-62b2b62fbfa1",
   "metadata": {},
   "outputs": [],
   "source": [
    "28. Flatten a nested list."
   ]
  },
  {
   "cell_type": "code",
   "execution_count": 5,
   "id": "c2475cf9-0989-4e27-8ee6-813ff3f48f73",
   "metadata": {},
   "outputs": [
    {
     "name": "stdout",
     "output_type": "stream",
     "text": [
      "[1, 2, 3, 4, 5, 6]\n"
     ]
    }
   ],
   "source": [
    "l = [1, 2, 3, [4, 5, 6]]\n",
    "res = []\n",
    "\n",
    "for i in l:\n",
    "    if isinstance(i, list):     #isinstance checks if instance of i is list or not\n",
    "        for j in i:\n",
    "            res.append(j)\n",
    "    else:\n",
    "        res.append(i)\n",
    "\n",
    "print(res)"
   ]
  },
  {
   "cell_type": "code",
   "execution_count": null,
   "id": "e93c88c0-c383-4dfd-9bca-fcd6c349672c",
   "metadata": {},
   "outputs": [],
   "source": [
    "29. Create a list of the first 10 Fibonacci numbers."
   ]
  },
  {
   "cell_type": "code",
   "execution_count": 7,
   "id": "67d70d52-588f-4369-ad4c-388597e0d520",
   "metadata": {},
   "outputs": [
    {
     "name": "stdout",
     "output_type": "stream",
     "text": [
      "[0, 1, 1, 2, 3, 5, 8, 13, 21, 34, 55]\n"
     ]
    }
   ],
   "source": [
    "f_list=[0,1]\n",
    "for i in range(2,11):\n",
    "    n_list=f_list[i-1] + f_list[i-2]\n",
    "    f_list.append(n_list)\n",
    "print(f_list)"
   ]
  },
  {
   "cell_type": "code",
   "execution_count": null,
   "id": "f235130d-ceb5-4c5d-bb37-68f3e21e2ac0",
   "metadata": {},
   "outputs": [],
   "source": [
    "30. Check if a list is sorted."
   ]
  },
  {
   "cell_type": "code",
   "execution_count": 9,
   "id": "e5870e3e-7ca4-4420-84c3-49e724ad828b",
   "metadata": {},
   "outputs": [
    {
     "name": "stdout",
     "output_type": "stream",
     "text": [
      "The list isnt sorted\n"
     ]
    }
   ],
   "source": [
    "l=[2,4,1,5,3,6]\n",
    "s_l=l.sort()\n",
    "if l==s_l:\n",
    "    print(\"The list is sorted\")\n",
    "else:\n",
    "    print(\"The list isnt sorted\")"
   ]
  },
  {
   "cell_type": "code",
   "execution_count": null,
   "id": "9f2297d3-baae-4584-8088-592ea8741156",
   "metadata": {},
   "outputs": [],
   "source": [
    "31. Rotate a list to the left by n positions."
   ]
  },
  {
   "cell_type": "code",
   "execution_count": 10,
   "id": "04692e8d-5b09-47f7-a50d-41d04e03a57a",
   "metadata": {},
   "outputs": [
    {
     "name": "stdout",
     "output_type": "stream",
     "text": [
      "[8, 9, 10, 4, 5, 6, 7]\n"
     ]
    }
   ],
   "source": [
    "lst=[4,5,6,7,8,9,10]\n",
    "n=4\n",
    "r_lst=lst[n:] + lst[:n]\n",
    "print(r_lst)"
   ]
  },
  {
   "cell_type": "code",
   "execution_count": null,
   "id": "1448fc9a-4c0e-4b39-a55a-3352a3f19875",
   "metadata": {},
   "outputs": [],
   "source": [
    "32. Rotate a list to the right by n positions."
   ]
  },
  {
   "cell_type": "code",
   "execution_count": 11,
   "id": "ad592845-2e1a-411e-acfe-8993cd0f0880",
   "metadata": {},
   "outputs": [
    {
     "name": "stdout",
     "output_type": "stream",
     "text": [
      "[8, 9, 10, 4, 5, 6, 7]\n"
     ]
    }
   ],
   "source": [
    "lst=[4,5,6,7,8,9,10]\n",
    "n=3\n",
    "r_list=lst[:n]+lst[n:]\n",
    "print(r_lst)"
   ]
  },
  {
   "cell_type": "code",
   "execution_count": null,
   "id": "21693e4d-a7e5-4aa2-9133-d6374b305dde",
   "metadata": {},
   "outputs": [],
   "source": [
    "33. Create a list of prime numbers up to 50."
   ]
  },
  {
   "cell_type": "code",
   "execution_count": 13,
   "id": "f390c95c-e406-4444-b32a-c1597d0f8f68",
   "metadata": {},
   "outputs": [
    {
     "name": "stdout",
     "output_type": "stream",
     "text": [
      "[2, 3, 5, 7, 11, 13, 17, 19, 23, 29, 31, 37, 41, 43, 47]\n"
     ]
    }
   ],
   "source": [
    "prime_list = []\n",
    "for num in range(2, 51):\n",
    "    is_prime = True\n",
    "    for divisor in range(2, int(num ** 0.5) + 1):\n",
    "        if num % divisor == 0:\n",
    "            is_prime = False\n",
    "            break\n",
    "    if is_prime:\n",
    "        prime_list.append(num)\n",
    "print(prime_list)"
   ]
  },
  {
   "cell_type": "code",
   "execution_count": null,
   "id": "bc6d8c28-35c9-4299-bc60-ac4683999151",
   "metadata": {},
   "outputs": [],
   "source": [
    "34. Split a list into chunks of size n."
   ]
  },
  {
   "cell_type": "code",
   "execution_count": 14,
   "id": "e9dec682-8ad3-4a3f-a75e-6322aa3129cd",
   "metadata": {},
   "outputs": [
    {
     "name": "stdout",
     "output_type": "stream",
     "text": [
      "[3, 4, 5] [6, 7, 1, 2]\n"
     ]
    }
   ],
   "source": [
    "lst=[3,4,5,6,7,1,2]\n",
    "n=3\n",
    "fh=lst[:n]\n",
    "sh=lst[n:]\n",
    "print(fh,sh)"
   ]
  },
  {
   "cell_type": "code",
   "execution_count": null,
   "id": "e41c31e1-9518-4f28-af98-fca06123e792",
   "metadata": {},
   "outputs": [],
   "source": [
    "35. Find the second largest number in a list."
   ]
  },
  {
   "cell_type": "code",
   "execution_count": 15,
   "id": "b860d0c3-69d6-489c-a730-e53c628b4d6c",
   "metadata": {},
   "outputs": [
    {
     "name": "stdout",
     "output_type": "stream",
     "text": [
      "8\n"
     ]
    }
   ],
   "source": [
    "lst=[8,9,1,4,6,7]\n",
    "lst.sort()\n",
    "print(lst[-2])"
   ]
  },
  {
   "cell_type": "code",
   "execution_count": null,
   "id": "6ecc7d23-94bd-496b-b944-bd4d4363cdbe",
   "metadata": {},
   "outputs": [],
   "source": [
    "36. Replace every element in a list with its square."
   ]
  },
  {
   "cell_type": "code",
   "execution_count": 19,
   "id": "b58a84d9-ad86-4fb2-9823-586d3f67e118",
   "metadata": {},
   "outputs": [
    {
     "name": "stdout",
     "output_type": "stream",
     "text": [
      "[1, 4, 9, 16, 25]\n"
     ]
    }
   ],
   "source": [
    "lst=[1,2,3,4,5]\n",
    "for i in range(len(lst)):\n",
    "    lst[i] = lst[i] ** 2\n",
    "print(lst)"
   ]
  },
  {
   "cell_type": "code",
   "execution_count": null,
   "id": "fd223f63-2194-45e1-9120-a0f01897ebcc",
   "metadata": {},
   "outputs": [],
   "source": [
    "37. Convert a list to a dictionary where list elements become keys and their indices become values."
   ]
  },
  {
   "cell_type": "code",
   "execution_count": 25,
   "id": "1c00f1ed-7f69-43ef-8315-858040507c93",
   "metadata": {},
   "outputs": [
    {
     "name": "stdout",
     "output_type": "stream",
     "text": [
      "{0: 4, 1: 5, 2: 6, 3: 7, 4: 8, 5: 9}\n"
     ]
    }
   ],
   "source": [
    "lst=[4,5,6,7,8,9]\n",
    "dt={}\n",
    "for index, i in enumerate(lst):\n",
    "    dt.update({index:i})\n",
    "print(dt)"
   ]
  },
  {
   "cell_type": "code",
   "execution_count": null,
   "id": "e17c63e6-183c-4719-9c87-bb5338c5943b",
   "metadata": {},
   "outputs": [],
   "source": [
    "38. Shuffle the elements of a list randomly."
   ]
  },
  {
   "cell_type": "code",
   "execution_count": 26,
   "id": "f29e0c55-c79b-4341-8649-23da68ee5745",
   "metadata": {},
   "outputs": [
    {
     "name": "stdout",
     "output_type": "stream",
     "text": [
      "[5, 8, 4, 6, 3, 2, 7]\n"
     ]
    }
   ],
   "source": [
    "import random\n",
    "lst=[2,3,4,5,6,7,8]\n",
    "random.shuffle(lst)\n",
    "print(lst)"
   ]
  },
  {
   "cell_type": "code",
   "execution_count": null,
   "id": "eb3c9966-124a-4985-ad36-d97b0882feb7",
   "metadata": {},
   "outputs": [],
   "source": [
    "39. Create a list of the first 10 factorial numbers."
   ]
  },
  {
   "cell_type": "code",
   "execution_count": 27,
   "id": "1894a3b0-e29f-45fe-9992-d13fd213b1c4",
   "metadata": {},
   "outputs": [
    {
     "name": "stdout",
     "output_type": "stream",
     "text": [
      "[1, 1, 2, 6, 24, 120, 720, 5040, 40320, 362880, 3628800]\n"
     ]
    }
   ],
   "source": [
    "res=[1]\n",
    "s=1\n",
    "for i in range(1,11):\n",
    "    s=s * i\n",
    "    res.append(s)\n",
    "print(res)"
   ]
  },
  {
   "cell_type": "code",
   "execution_count": null,
   "id": "5e252c09-8eeb-4f4d-ad91-4a2b614e218c",
   "metadata": {},
   "outputs": [],
   "source": [
    "40. Check if two lists have at least one element in common."
   ]
  },
  {
   "cell_type": "code",
   "execution_count": 32,
   "id": "f9c478a6-32dc-42b9-bb9e-6a55b2b4bf98",
   "metadata": {},
   "outputs": [
    {
     "name": "stdout",
     "output_type": "stream",
     "text": [
      "True\n"
     ]
    }
   ],
   "source": [
    "l1 = [1, 2, 3, 4, 5]\n",
    "l2 = [5, 6, 7, 8, 9]\n",
    "found_common = False\n",
    "for i in l1:\n",
    "    if i in l2:\n",
    "        found_common = True\n",
    "        break\n",
    "if found_common:\n",
    "    print(True)"
   ]
  },
  {
   "cell_type": "code",
   "execution_count": null,
   "id": "f80bdf42-f350-44d7-9d95-7c42c7fbc97f",
   "metadata": {},
   "outputs": [],
   "source": [
    "41. Remove all elements from a list."
   ]
  },
  {
   "cell_type": "code",
   "execution_count": 1,
   "id": "a5a227bd-a8f3-4bb1-80d8-92bb06f3cb02",
   "metadata": {},
   "outputs": [
    {
     "name": "stdout",
     "output_type": "stream",
     "text": [
      "[]\n"
     ]
    }
   ],
   "source": [
    "lst=[1,2,3,4,5]\n",
    "lst.clear()\n",
    "print(lst)"
   ]
  },
  {
   "cell_type": "code",
   "execution_count": null,
   "id": "67629d87-2769-44f5-8011-35d19a7489a2",
   "metadata": {},
   "outputs": [],
   "source": [
    "42. Replace negative numbers in a list with 0."
   ]
  },
  {
   "cell_type": "code",
   "execution_count": 2,
   "id": "c26fe79e-3dc4-4505-b5e2-9b5821c9e7c2",
   "metadata": {},
   "outputs": [
    {
     "name": "stdout",
     "output_type": "stream",
     "text": [
      "[0, 0, 4, 5, 6, 0]\n"
     ]
    }
   ],
   "source": [
    "lst=[-1,-2,4,5,6,-3]\n",
    "for i in range(len(lst)):\n",
    "    if lst[i] <= 0:\n",
    "       lst [i] =0\n",
    "print(lst)"
   ]
  },
  {
   "cell_type": "code",
   "execution_count": null,
   "id": "d4184062-5886-4c36-845b-f9407740ba01",
   "metadata": {},
   "outputs": [],
   "source": [
    "43. Convert a string into a list of words."
   ]
  },
  {
   "cell_type": "code",
   "execution_count": 4,
   "id": "59660bf2-0365-4c2d-97fb-2a60407a7638",
   "metadata": {},
   "outputs": [
    {
     "name": "stdout",
     "output_type": "stream",
     "text": [
      "['hello', 'it', 'is', 'a', 'beautiful', 'day']\n"
     ]
    }
   ],
   "source": [
    "str=\"hello it is a beautiful day\"\n",
    "lst=str.split()\n",
    "print(lst)"
   ]
  },
  {
   "cell_type": "code",
   "execution_count": null,
   "id": "134d94c5-95ea-4dd7-8e9c-6e65a6289763",
   "metadata": {},
   "outputs": [],
   "source": [
    "44. Convert a list of words into a string."
   ]
  },
  {
   "cell_type": "code",
   "execution_count": 5,
   "id": "8942ef15-af3f-403f-9879-e81c03e57bd0",
   "metadata": {},
   "outputs": [
    {
     "name": "stdout",
     "output_type": "stream",
     "text": [
      "hello it is a beautiful day\n"
     ]
    }
   ],
   "source": [
    "lst=['hello', 'it', 'is', 'a', 'beautiful', 'day']\n",
    "str=' '.join(lst)\n",
    "print(str)"
   ]
  },
  {
   "cell_type": "code",
   "execution_count": null,
   "id": "ab7b5efb-8a66-4fcd-bb79-0778882da576",
   "metadata": {},
   "outputs": [],
   "source": [
    "46. Find the longest string in a list of strings."
   ]
  },
  {
   "cell_type": "code",
   "execution_count": 8,
   "id": "95b1f342-b9a9-44cd-a7a5-59090b2b3273",
   "metadata": {},
   "outputs": [
    {
     "name": "stdout",
     "output_type": "stream",
     "text": [
      "beautiful\n"
     ]
    }
   ],
   "source": [
    "lst=['hello', 'it', 'is', 'a', 'beautiful', 'day']\n",
    "longest_string = \"\"\n",
    "for s in lst:\n",
    "    if len(s) > len(longest_string):\n",
    "        longest_string = s\n",
    "print(longest_string)"
   ]
  },
  {
   "cell_type": "code",
   "execution_count": null,
   "id": "91775e84-7bdc-4b3b-b6a2-2acdf4190b5f",
   "metadata": {},
   "outputs": [],
   "source": [
    "47. Find the shortest string in a list of strings."
   ]
  },
  {
   "cell_type": "code",
   "execution_count": 10,
   "id": "4514ba88-0f45-4df5-bd13-fa737f37164f",
   "metadata": {},
   "outputs": [
    {
     "name": "stdout",
     "output_type": "stream",
     "text": [
      "a\n"
     ]
    }
   ],
   "source": [
    "lst=['hello', 'it', 'is', 'a', 'beautiful', 'day']\n",
    "shortest_string = lst[0]\n",
    "for s in lst:\n",
    "    if len(s) < len(shortest_string):\n",
    "        shortest_string = s\n",
    "print(shortest_string)"
   ]
  },
  {
   "cell_type": "code",
   "execution_count": null,
   "id": "ccda35a8-7367-4873-a0e1-96aeb0f436a5",
   "metadata": {},
   "outputs": [],
   "source": [
    "48. Create a list of the first n triangular numbers."
   ]
  },
  {
   "cell_type": "code",
   "execution_count": 11,
   "id": "a83ef986-5ec3-41fb-9397-6a65a1646781",
   "metadata": {},
   "outputs": [
    {
     "name": "stdout",
     "output_type": "stream",
     "text": [
      "1 3 6 10 15 "
     ]
    }
   ],
   "source": [
    "n=5\n",
    "for i in range(1, n + 1):\n",
    "         print( i*(i+1)//2,end=' ')"
   ]
  },
  {
   "cell_type": "code",
   "execution_count": null,
   "id": "d5c4e766-cae9-4209-a5fb-ba50db321292",
   "metadata": {},
   "outputs": [],
   "source": [
    "49. Check if a list contains another list as a subsequence."
   ]
  },
  {
   "cell_type": "code",
   "execution_count": 18,
   "id": "6d0d30ca-7cd3-4ccc-ab6a-7eb6605583af",
   "metadata": {},
   "outputs": [
    {
     "name": "stdout",
     "output_type": "stream",
     "text": [
      "sub_list is a subsequence of main_list.\n"
     ]
    }
   ],
   "source": [
    "main_list = [1, 2, 3, 4, 5, 6, 7]\n",
    "sub_list = [3, 4, 5]\n",
    "if all(item in main_list for item in sub_list):\n",
    "    print(\"sub_list is a subsequence of main_list.\")\n",
    "else:\n",
    "    print(\"sub_list is not a subsequence of main_list.\")"
   ]
  },
  {
   "cell_type": "code",
   "execution_count": null,
   "id": "1cd288dc-9644-403d-be9e-6a267c25e74c",
   "metadata": {},
   "outputs": [],
   "source": [
    "50. Swap two elements in a list by their indices."
   ]
  },
  {
   "cell_type": "code",
   "execution_count": 17,
   "id": "14e07863-4d62-4651-bb60-53361ac93c84",
   "metadata": {},
   "outputs": [
    {
     "name": "stdout",
     "output_type": "stream",
     "text": [
      "[9, 6, 8, 5, 2]\n"
     ]
    }
   ],
   "source": [
    "lst=[5,6,8,9,2]\n",
    "f=0\n",
    "s=3\n",
    "lst[f],lst[s]=lst[s],lst[f]\n",
    "print(lst)"
   ]
  },
  {
   "cell_type": "markdown",
   "id": "1ddedb30-8c0a-48a2-8d23-7d7728f3e9ee",
   "metadata": {},
   "source": [
    "Tuple Based Practice Problem :"
   ]
  },
  {
   "cell_type": "code",
   "execution_count": null,
   "id": "58872b6c-a310-4e3c-b044-4859c50d8590",
   "metadata": {},
   "outputs": [],
   "source": [
    "1. Create a tuple with integers from 1 to 5."
   ]
  },
  {
   "cell_type": "code",
   "execution_count": 1,
   "id": "2413e60c-0f2e-41e8-b4f6-75f1ec7fcdc6",
   "metadata": {},
   "outputs": [
    {
     "name": "stdout",
     "output_type": "stream",
     "text": [
      "(1, 2, 3, 4, 5)\n"
     ]
    }
   ],
   "source": [
    "tup=(1,2,3,4,5)\n",
    "print(tup)"
   ]
  },
  {
   "cell_type": "code",
   "execution_count": null,
   "id": "084437fd-a31b-4896-8821-bd1bca23afb3",
   "metadata": {},
   "outputs": [],
   "source": [
    "2. Access the third element of a tuple."
   ]
  },
  {
   "cell_type": "code",
   "execution_count": 2,
   "id": "7331d059-aa05-49c7-be90-18d01319a0d0",
   "metadata": {},
   "outputs": [
    {
     "name": "stdout",
     "output_type": "stream",
     "text": [
      "30\n"
     ]
    }
   ],
   "source": [
    "tup=(10,20,30,40,50)\n",
    "print(tup[2])"
   ]
  },
  {
   "cell_type": "code",
   "execution_count": null,
   "id": "8641861e-48a7-42d6-8b9c-1df51ff1a235",
   "metadata": {},
   "outputs": [],
   "source": [
    "3. Find the length of a tuple without using the len() function."
   ]
  },
  {
   "cell_type": "code",
   "execution_count": 3,
   "id": "32275954-d924-4574-b107-51d2d317b9c3",
   "metadata": {},
   "outputs": [
    {
     "name": "stdout",
     "output_type": "stream",
     "text": [
      "5\n"
     ]
    }
   ],
   "source": [
    "tup=(1,2,3,4,5)\n",
    "c=0\n",
    "for i in tup:\n",
    "    c+=1\n",
    "print(c)"
   ]
  },
  {
   "cell_type": "code",
   "execution_count": null,
   "id": "c0e6907c-9c32-4fa4-a6e8-f64f1c7cbba6",
   "metadata": {},
   "outputs": [],
   "source": [
    "4. Count the occurrences of an element in a tuple."
   ]
  },
  {
   "cell_type": "code",
   "execution_count": 4,
   "id": "d4b83b9d-9f59-40f8-bad0-7f10c59f1dde",
   "metadata": {},
   "outputs": [
    {
     "name": "stdout",
     "output_type": "stream",
     "text": [
      "3\n"
     ]
    }
   ],
   "source": [
    "tup=(1,2,3,2,1,2)\n",
    "ele=2\n",
    "c=0\n",
    "for i in tup:\n",
    "    if i == ele:\n",
    "        c+=1\n",
    "print(c)"
   ]
  },
  {
   "cell_type": "code",
   "execution_count": null,
   "id": "8c636365-efdb-4dbf-a3e1-87c4c05c3f71",
   "metadata": {},
   "outputs": [],
   "source": [
    "5. Find the index of the first occurrence of an element in a tuple."
   ]
  },
  {
   "cell_type": "code",
   "execution_count": 7,
   "id": "be0c14dd-48fb-4e7c-b3ef-e48d3dee56f2",
   "metadata": {},
   "outputs": [
    {
     "name": "stdout",
     "output_type": "stream",
     "text": [
      "2\n"
     ]
    }
   ],
   "source": [
    "tup=(1,2,3,1,2,3,1)\n",
    "ele=3\n",
    "for i in range(len(tup)):\n",
    "    if tup[i] == ele:\n",
    "        print(i)\n",
    "        break"
   ]
  },
  {
   "cell_type": "code",
   "execution_count": null,
   "id": "3787b060-c43e-4db3-b646-a6f71939dcce",
   "metadata": {},
   "outputs": [],
   "source": [
    "6. Check if an element exists in a tuple."
   ]
  },
  {
   "cell_type": "code",
   "execution_count": 12,
   "id": "e41585c7-af52-408b-a38d-c685b821c0d1",
   "metadata": {},
   "outputs": [
    {
     "name": "stdout",
     "output_type": "stream",
     "text": [
      "False\n"
     ]
    }
   ],
   "source": [
    "tup=(1,2,3,2,3,4,6,7)\n",
    "ele=5\n",
    "flag=False\n",
    "for i in tup:\n",
    "    if i == ele:\n",
    "        flag=True\n",
    "print(flag)"
   ]
  },
  {
   "cell_type": "code",
   "execution_count": null,
   "id": "f6ce1757-7cfa-4e77-982e-2f2356f5f474",
   "metadata": {},
   "outputs": [],
   "source": [
    "7. Convert a tuple to a list."
   ]
  },
  {
   "cell_type": "code",
   "execution_count": 13,
   "id": "2e6da3a6-dd0b-48c6-bc3a-3692cd4cfe60",
   "metadata": {},
   "outputs": [
    {
     "name": "stdout",
     "output_type": "stream",
     "text": [
      "[2, 3, 4, 5, 6]\n"
     ]
    }
   ],
   "source": [
    "tup=(2,3,4,5,6)\n",
    "lt=list(tup)\n",
    "print(lt)"
   ]
  },
  {
   "cell_type": "code",
   "execution_count": null,
   "id": "d671394a-e6ff-4b73-9476-01223071f64a",
   "metadata": {},
   "outputs": [],
   "source": [
    "8. Convert a list to a tuple."
   ]
  },
  {
   "cell_type": "code",
   "execution_count": 14,
   "id": "6a29c7aa-ff30-4572-adeb-eeca9ef4897a",
   "metadata": {},
   "outputs": [
    {
     "name": "stdout",
     "output_type": "stream",
     "text": [
      "(2, 3, 4, 5, 6)\n"
     ]
    }
   ],
   "source": [
    "lt=[2,3,4,5,6]\n",
    "tup=tuple(lt)\n",
    "print(tup)"
   ]
  },
  {
   "cell_type": "code",
   "execution_count": null,
   "id": "535704c9-e0ef-4759-8056-42d2e76fee5b",
   "metadata": {},
   "outputs": [],
   "source": [
    "9. Unpack the elements of a tuple into variables."
   ]
  },
  {
   "cell_type": "code",
   "execution_count": 15,
   "id": "165baaf5-6647-4688-ab77-98650e435c47",
   "metadata": {},
   "outputs": [
    {
     "name": "stdout",
     "output_type": "stream",
     "text": [
      "1 2 3\n"
     ]
    }
   ],
   "source": [
    "tup=(1,2,3)\n",
    "v1,v2,v3=tup\n",
    "print(v1,v2,v3)"
   ]
  },
  {
   "cell_type": "code",
   "execution_count": null,
   "id": "99a2823b-53e2-4b95-800c-f75fcfa9e0f5",
   "metadata": {},
   "outputs": [],
   "source": [
    "10. Create a tuple of even numbers from 1 to 10."
   ]
  },
  {
   "cell_type": "code",
   "execution_count": 19,
   "id": "adca1af1-0007-4fe7-829a-c0c86c092118",
   "metadata": {},
   "outputs": [
    {
     "name": "stdout",
     "output_type": "stream",
     "text": [
      "(2, 4, 6, 8, 10)\n"
     ]
    }
   ],
   "source": [
    "tup=[]\n",
    "for i in range(1,11):\n",
    "    if i % 2 == 0:\n",
    "        tup.append(i)\n",
    "print(tuple(tup))"
   ]
  },
  {
   "cell_type": "code",
   "execution_count": null,
   "id": "6e100242-59ca-4f1c-857f-8138a8a9090d",
   "metadata": {},
   "outputs": [],
   "source": [
    "12. Concatenate two tuples."
   ]
  },
  {
   "cell_type": "code",
   "execution_count": 20,
   "id": "ed0ce25e-c6b2-49e0-9450-990b85653a68",
   "metadata": {},
   "outputs": [
    {
     "name": "stdout",
     "output_type": "stream",
     "text": [
      "(1, 2, 3, 4, 5, 6)\n"
     ]
    }
   ],
   "source": [
    "t1=(1,2,3)\n",
    "t2=(4,5,6)\n",
    "tup=t1+t2\n",
    "print(tup)"
   ]
  },
  {
   "cell_type": "code",
   "execution_count": null,
   "id": "080a8de5-194e-4088-bd1e-bf32d357cc8d",
   "metadata": {},
   "outputs": [],
   "source": [
    "13. Repeat a tuple three times."
   ]
  },
  {
   "cell_type": "code",
   "execution_count": 21,
   "id": "d1ee0839-58f0-45fa-ae8b-99ae7dc83ce7",
   "metadata": {},
   "outputs": [
    {
     "name": "stdout",
     "output_type": "stream",
     "text": [
      "(1, 2, 3, 1, 2, 3, 1, 2, 3)\n"
     ]
    }
   ],
   "source": [
    "tup=(1,2,3)\n",
    "print(tup * 3)"
   ]
  },
  {
   "cell_type": "code",
   "execution_count": null,
   "id": "a2489776-afda-415a-be6e-bcd03eb3830d",
   "metadata": {},
   "outputs": [],
   "source": [
    "14. Check if a tuple is empty."
   ]
  },
  {
   "cell_type": "code",
   "execution_count": 28,
   "id": "9a7092f6-ac72-4c69-b34b-9327bdbc292b",
   "metadata": {},
   "outputs": [
    {
     "name": "stdout",
     "output_type": "stream",
     "text": [
      "the tuple is not empty\n"
     ]
    }
   ],
   "source": [
    "tup=(1,2,3)\n",
    "if len(tup) == 0:\n",
    "    print(\"The tuple is empty\")\n",
    "else:\n",
    "    print(\"the tuple is not empty\")"
   ]
  },
  {
   "cell_type": "code",
   "execution_count": null,
   "id": "236b2817-5293-4394-af43-4733adc3c52a",
   "metadata": {},
   "outputs": [],
   "source": [
    "15. Create a nested tuple."
   ]
  },
  {
   "cell_type": "code",
   "execution_count": 29,
   "id": "1fa30f6f-b9cf-48c8-ac94-1386e3334936",
   "metadata": {},
   "outputs": [
    {
     "name": "stdout",
     "output_type": "stream",
     "text": [
      "(1, 2, 3, (4, 5, 6), 7, ('A', 'B'))\n"
     ]
    }
   ],
   "source": [
    "tup=(1,2,3,(4,5,6),7,(\"A\",\"B\"))\n",
    "print(tup)"
   ]
  },
  {
   "cell_type": "code",
   "execution_count": null,
   "id": "e5001c54-f3d5-491f-b00a-ca145574539e",
   "metadata": {},
   "outputs": [],
   "source": [
    "16. Access the first element of a nested tuple."
   ]
  },
  {
   "cell_type": "code",
   "execution_count": 30,
   "id": "1b66f277-6cb3-441e-aaf7-c0fa8024b581",
   "metadata": {},
   "outputs": [
    {
     "name": "stdout",
     "output_type": "stream",
     "text": [
      "1\n"
     ]
    }
   ],
   "source": [
    "tup=(1,2,3,(4,5,6),7,(\"A\",\"B\"))\n",
    "print(tup[0])"
   ]
  },
  {
   "cell_type": "code",
   "execution_count": null,
   "id": "55042440-b1e3-4ee1-b18a-5ddd63b9b1eb",
   "metadata": {},
   "outputs": [],
   "source": [
    "17. Create a tuple with a single element."
   ]
  },
  {
   "cell_type": "code",
   "execution_count": 32,
   "id": "5627b59e-b3be-4434-92c7-a2041037bf26",
   "metadata": {},
   "outputs": [
    {
     "name": "stdout",
     "output_type": "stream",
     "text": [
      "(1,)\n"
     ]
    }
   ],
   "source": [
    "tup=(1,)\n",
    "print(tup)"
   ]
  },
  {
   "cell_type": "code",
   "execution_count": null,
   "id": "5ea4fe54-1bad-4b1a-87ec-46c4fdaad1c0",
   "metadata": {},
   "outputs": [],
   "source": [
    "18. Compare two tuples."
   ]
  },
  {
   "cell_type": "code",
   "execution_count": 33,
   "id": "690ac9cb-a574-43be-9569-d668f80298de",
   "metadata": {},
   "outputs": [
    {
     "name": "stdout",
     "output_type": "stream",
     "text": [
      "tuple1 == tuple2: False\n",
      "tuple1 != tuple2: True\n",
      "tuple1 < tuple2: True\n",
      "tuple1 <= tuple2: True\n",
      "tuple1 > tuple2: False\n",
      "tuple1 >= tuple2: False\n"
     ]
    }
   ],
   "source": [
    "tuple1 = (1, 2, 3)\n",
    "tuple2 = (1, 2, 4)\n",
    "print(\"tuple1 == tuple2:\", tuple1 == tuple2)\n",
    "print(\"tuple1 != tuple2:\", tuple1 != tuple2)  \n",
    "print(\"tuple1 < tuple2:\", tuple1 < tuple2) \n",
    "print(\"tuple1 <= tuple2:\", tuple1 <= tuple2)\n",
    "print(\"tuple1 > tuple2:\", tuple1 > tuple2)   \n",
    "print(\"tuple1 >= tuple2:\", tuple1 >= tuple2)  "
   ]
  },
  {
   "cell_type": "code",
   "execution_count": null,
   "id": "c10075e5-be1e-4663-af03-52fe8d311cbe",
   "metadata": {},
   "outputs": [],
   "source": [
    "19. Delete a tuple."
   ]
  },
  {
   "cell_type": "code",
   "execution_count": 34,
   "id": "8a68d3bb-3fbc-4d56-a403-7d6f98623390",
   "metadata": {
    "tags": []
   },
   "outputs": [
    {
     "ename": "NameError",
     "evalue": "name 'tup' is not defined",
     "output_type": "error",
     "traceback": [
      "\u001b[0;31m---------------------------------------------------------------------------\u001b[0m",
      "\u001b[0;31mNameError\u001b[0m                                 Traceback (most recent call last)",
      "Cell \u001b[0;32mIn[34], line 3\u001b[0m\n\u001b[1;32m      1\u001b[0m tup\u001b[38;5;241m=\u001b[39m(\u001b[38;5;241m1\u001b[39m,\u001b[38;5;241m2\u001b[39m,\u001b[38;5;241m3\u001b[39m)\n\u001b[1;32m      2\u001b[0m \u001b[38;5;28;01mdel\u001b[39;00m tup\n\u001b[0;32m----> 3\u001b[0m \u001b[38;5;28mprint\u001b[39m(\u001b[43mtup\u001b[49m)\n",
      "\u001b[0;31mNameError\u001b[0m: name 'tup' is not defined"
     ]
    }
   ],
   "source": [
    "tup=(1,2,3)\n",
    "del tup\n",
    "print(tup)"
   ]
  },
  {
   "cell_type": "code",
   "execution_count": null,
   "id": "fab1761b-6b00-4bf9-a24d-5071d6291dfd",
   "metadata": {},
   "outputs": [],
   "source": [
    "20. Slice a tuple."
   ]
  },
  {
   "cell_type": "code",
   "execution_count": 35,
   "id": "b129d3fe-3073-4094-bc5c-1da9533b2176",
   "metadata": {},
   "outputs": [
    {
     "name": "stdout",
     "output_type": "stream",
     "text": [
      "(3, 4, 5, 6)\n"
     ]
    }
   ],
   "source": [
    "tup=(1,2,3,4,5,6,7,8,9,10)\n",
    "sl_tup=tup[2:6]\n",
    "print(sl_tup)"
   ]
  },
  {
   "cell_type": "code",
   "execution_count": null,
   "id": "34fb7fa7-d366-4a66-a4bc-6171884d6cf0",
   "metadata": {},
   "outputs": [],
   "source": [
    "21. Find the maximum value in a tuple."
   ]
  },
  {
   "cell_type": "code",
   "execution_count": 36,
   "id": "a5a54439-558d-49e9-93a5-f02c13e63594",
   "metadata": {},
   "outputs": [
    {
     "name": "stdout",
     "output_type": "stream",
     "text": [
      "65\n"
     ]
    }
   ],
   "source": [
    "tup=(3,4,5,61,2,7,8,65)\n",
    "print(max(tup))"
   ]
  },
  {
   "cell_type": "code",
   "execution_count": null,
   "id": "9129e5c8-ed45-4f9a-818c-4703b847c343",
   "metadata": {},
   "outputs": [],
   "source": [
    "22. Find the minimum value in a tuple."
   ]
  },
  {
   "cell_type": "code",
   "execution_count": 37,
   "id": "835357a3-117e-41a6-b23f-053599fc9197",
   "metadata": {},
   "outputs": [
    {
     "name": "stdout",
     "output_type": "stream",
     "text": [
      "2\n"
     ]
    }
   ],
   "source": [
    "tup=(3,4,5,61,2,7,8,65)\n",
    "print(min(tup))"
   ]
  },
  {
   "cell_type": "code",
   "execution_count": null,
   "id": "5a49def7-c9a4-4ac9-8c0c-40b29050ae27",
   "metadata": {},
   "outputs": [],
   "source": [
    "23. Convert a string to a tuple of characters."
   ]
  },
  {
   "cell_type": "code",
   "execution_count": 38,
   "id": "01eacd54-ef21-4892-a5e0-27b788dafd7b",
   "metadata": {},
   "outputs": [
    {
     "name": "stdout",
     "output_type": "stream",
     "text": [
      "('a', 'y', 'a', 'n')\n"
     ]
    }
   ],
   "source": [
    "st=\"ayan\"\n",
    "st=tuple(st)\n",
    "print(st)"
   ]
  },
  {
   "cell_type": "code",
   "execution_count": null,
   "id": "71b7b8b7-61a8-4c65-80e8-792fbccf3a61",
   "metadata": {},
   "outputs": [],
   "source": [
    "24. Convert a tuple of characters to a string."
   ]
  },
  {
   "cell_type": "code",
   "execution_count": 40,
   "id": "1d745886-9716-4a36-8eb5-1343fdb19915",
   "metadata": {},
   "outputs": [
    {
     "name": "stdout",
     "output_type": "stream",
     "text": [
      "ayan\n"
     ]
    }
   ],
   "source": [
    "tup=('a', 'y', 'a', 'n')\n",
    "st=\"\".join(tup)\n",
    "print(st)"
   ]
  },
  {
   "cell_type": "code",
   "execution_count": null,
   "id": "0a3baaa0-1c9c-4f38-851a-b8604ce43e1a",
   "metadata": {},
   "outputs": [],
   "source": [
    "25. Create a tuple from multiple data types."
   ]
  },
  {
   "cell_type": "code",
   "execution_count": 41,
   "id": "f2879a42-276e-4315-9ac1-fbc2072aba92",
   "metadata": {},
   "outputs": [
    {
     "name": "stdout",
     "output_type": "stream",
     "text": [
      "(1, 2, 3, (4, 5), ('A', 'B', 'C'), 3.14, True)\n"
     ]
    }
   ],
   "source": [
    "tup=(1,2,3,(4,5),(\"A\",\"B\",\"C\"),3.14,True)\n",
    "print(tup)"
   ]
  },
  {
   "cell_type": "code",
   "execution_count": null,
   "id": "a6be6464-4e43-4376-ba32-608149725272",
   "metadata": {},
   "outputs": [],
   "source": [
    "26. Check if two tuples are identical."
   ]
  },
  {
   "cell_type": "code",
   "execution_count": 1,
   "id": "a55faeec-819d-46d2-b79f-7854480ccf6e",
   "metadata": {},
   "outputs": [
    {
     "name": "stdout",
     "output_type": "stream",
     "text": [
      "Not Identical\n"
     ]
    }
   ],
   "source": [
    "tup1=(1,2,3,4,5)\n",
    "tup2=(5,4,3,2,1)\n",
    "if tup1==tup2:\n",
    "    print(\"Identical\")\n",
    "else:\n",
    "    print(\"Not Identical\")"
   ]
  },
  {
   "cell_type": "code",
   "execution_count": null,
   "id": "8c9f22b6-d1f3-4671-8ce0-ad14688f3841",
   "metadata": {},
   "outputs": [],
   "source": [
    "27. Sort the elements of a tuple."
   ]
  },
  {
   "cell_type": "code",
   "execution_count": 3,
   "id": "c4978bdc-8b79-441f-b78b-e83066dea7f8",
   "metadata": {},
   "outputs": [
    {
     "name": "stdout",
     "output_type": "stream",
     "text": [
      "(1, 2, 3, 4, 5, 6)\n"
     ]
    }
   ],
   "source": [
    "tup1=(4,5,6,3,2,1)\n",
    "t=tuple(sorted(tup1))\n",
    "print(t)"
   ]
  },
  {
   "cell_type": "code",
   "execution_count": null,
   "id": "23c47a3f-b912-4d8d-a853-1b4a45840d7d",
   "metadata": {},
   "outputs": [],
   "source": [
    "28. Convert a tuple of integers to a tuple of strings."
   ]
  },
  {
   "cell_type": "code",
   "execution_count": 8,
   "id": "e7b00904-5b1a-44aa-b0ef-34e1f55e9add",
   "metadata": {},
   "outputs": [
    {
     "name": "stdout",
     "output_type": "stream",
     "text": [
      "('4', '5', '3', '2', '1')\n"
     ]
    }
   ],
   "source": [
    "tup1=(4,5,3,2,1)\n",
    "st=[]\n",
    "for i in tup1:\n",
    "    st.append(str(i))\n",
    "print(tuple(st))"
   ]
  },
  {
   "cell_type": "code",
   "execution_count": null,
   "id": "6b82e43e-8a3a-4c85-8d72-332512c70cfe",
   "metadata": {},
   "outputs": [],
   "source": [
    "29. Convert a tuple of strings to a tuple of integers."
   ]
  },
  {
   "cell_type": "code",
   "execution_count": 13,
   "id": "370a8559-c596-4764-be33-d1af767c2151",
   "metadata": {},
   "outputs": [
    {
     "name": "stdout",
     "output_type": "stream",
     "text": [
      "(4, 5, 3, 2, 1)\n"
     ]
    }
   ],
   "source": [
    "st=('4', '5', '3', '2', '1')\n",
    "tup1=[]\n",
    "for i in st:\n",
    "    tup1.append(int(i))\n",
    "print(tuple(tup1))"
   ]
  },
  {
   "cell_type": "code",
   "execution_count": null,
   "id": "a202e8eb-4eb0-4b13-8270-acc8ade8dee9",
   "metadata": {},
   "outputs": [],
   "source": [
    "30. Merge two tuples."
   ]
  },
  {
   "cell_type": "code",
   "execution_count": 14,
   "id": "fdcf7fbc-ca6a-41b6-9414-596dfdec9b89",
   "metadata": {},
   "outputs": [
    {
     "name": "stdout",
     "output_type": "stream",
     "text": [
      "(1, 2, 3, 4, 5, 6)\n"
     ]
    }
   ],
   "source": [
    "tup1=(1,2,3)\n",
    "tup2=(4,5,6)\n",
    "tup3=tup1+tup2\n",
    "print(tup3)"
   ]
  },
  {
   "cell_type": "code",
   "execution_count": null,
   "id": "c3e83d42-b55c-48ab-abe4-d269e584d8cb",
   "metadata": {},
   "outputs": [],
   "source": [
    "31. Flatten a nested tuple."
   ]
  },
  {
   "cell_type": "code",
   "execution_count": 19,
   "id": "808f33ac-4316-49b0-9547-92b979b959e2",
   "metadata": {},
   "outputs": [
    {
     "name": "stdout",
     "output_type": "stream",
     "text": [
      "(1, 2, 3, 4, 5, 6, 7, 8)\n"
     ]
    }
   ],
   "source": [
    "tup1 = (1, 2, (3, 4, 5), (6, 7, 8))\n",
    "res = ()\n",
    "for items in tup1:\n",
    "    if isinstance(items, tuple):\n",
    "        for item in items:\n",
    "            res += (item,)\n",
    "    else:\n",
    "        res += (items,)\n",
    "print(res)"
   ]
  },
  {
   "cell_type": "code",
   "execution_count": null,
   "id": "5867886d-04b4-48d0-8094-ace127679b05",
   "metadata": {},
   "outputs": [],
   "source": [
    "32. Create a tuple of the first 5 prime numbers."
   ]
  },
  {
   "cell_type": "code",
   "execution_count": 20,
   "id": "a980aec6-163a-47fc-9d64-0821ddd46533",
   "metadata": {},
   "outputs": [
    {
     "name": "stdout",
     "output_type": "stream",
     "text": [
      "(2, 3, 5, 7, 11)\n"
     ]
    }
   ],
   "source": [
    "n = 5 \n",
    "prime_numbers = ()\n",
    "candidate = 2 \n",
    "while len(prime_numbers) < n:\n",
    "    is_prime = True\n",
    "    for divisor in range(2, int(candidate ** 0.5) + 1):\n",
    "        if candidate % divisor == 0:\n",
    "            is_prime = False\n",
    "            break\n",
    "    if is_prime:\n",
    "        prime_numbers += (candidate,)\n",
    "    candidate += 1\n",
    "print(prime_numbers)"
   ]
  },
  {
   "cell_type": "code",
   "execution_count": null,
   "id": "c2553a6c-abf1-4a9f-ad21-ffde45ffda73",
   "metadata": {},
   "outputs": [],
   "source": [
    "3. Check if a tuple is a palindrome."
   ]
  },
  {
   "cell_type": "code",
   "execution_count": 21,
   "id": "51279394-4077-4927-b5f5-2e13b9a5c2ff",
   "metadata": {},
   "outputs": [
    {
     "name": "stdout",
     "output_type": "stream",
     "text": [
      "Palindrome\n"
     ]
    }
   ],
   "source": [
    "tup1=(1,2,3,2,1)\n",
    "if tup1 == tup1[::-1]:\n",
    "    print(\"Palindrome\")\n",
    "else:\n",
    "    print(\"Not Palindrome\")"
   ]
  },
  {
   "cell_type": "code",
   "execution_count": null,
   "id": "aa2b2eed-e2a6-4c22-a033-2ca1f82ebdb8",
   "metadata": {},
   "outputs": [],
   "source": [
    "34. Create a tuple of squares of numbers from 1 to 5."
   ]
  },
  {
   "cell_type": "code",
   "execution_count": 23,
   "id": "e02a0280-0897-40e0-93df-399593860860",
   "metadata": {},
   "outputs": [
    {
     "name": "stdout",
     "output_type": "stream",
     "text": [
      "(1, 4, 9, 16, 25)\n"
     ]
    }
   ],
   "source": [
    "tup=(1,2,3,4,5)\n",
    "st=[]\n",
    "for i in tup:\n",
    "    st.append(i ** 2)\n",
    "print(tuple(st))"
   ]
  },
  {
   "cell_type": "code",
   "execution_count": null,
   "id": "a72ff208-2a4b-4cd4-99cc-5faab278d985",
   "metadata": {},
   "outputs": [],
   "source": [
    "35. Filter out all even numbers from a tuple."
   ]
  },
  {
   "cell_type": "code",
   "execution_count": 24,
   "id": "95adaf54-2e7f-47b9-a339-b716042a0946",
   "metadata": {},
   "outputs": [
    {
     "name": "stdout",
     "output_type": "stream",
     "text": [
      "[2, 6, 12]\n"
     ]
    }
   ],
   "source": [
    "tup=(2,3,41,6,5,7,12,9)\n",
    "sol=[]\n",
    "for i in tup:\n",
    "    if i % 2 ==0:\n",
    "      sol.append(i)\n",
    "print(sol)"
   ]
  },
  {
   "cell_type": "code",
   "execution_count": null,
   "id": "ac898657-582b-4846-a772-3554d77a3b1c",
   "metadata": {},
   "outputs": [],
   "source": [
    "36. Multiply all elements in a tuple by 2."
   ]
  },
  {
   "cell_type": "code",
   "execution_count": 25,
   "id": "cc81eb1c-47f0-4eb4-bc39-726a6878021c",
   "metadata": {},
   "outputs": [
    {
     "name": "stdout",
     "output_type": "stream",
     "text": [
      "[4, 8, 12, 2, 4]\n"
     ]
    }
   ],
   "source": [
    "tup=(2,4,6,1,2)\n",
    "sol=[]\n",
    "for i in tup:\n",
    "    sol.append(i*2)\n",
    "print(sol)"
   ]
  },
  {
   "cell_type": "code",
   "execution_count": null,
   "id": "09780c73-5216-4566-868b-42528a28d874",
   "metadata": {},
   "outputs": [],
   "source": [
    "37. Create a tuple of random numbers."
   ]
  },
  {
   "cell_type": "code",
   "execution_count": 29,
   "id": "e85e4ce4-c575-4acd-be7f-e9070733f60a",
   "metadata": {},
   "outputs": [
    {
     "name": "stdout",
     "output_type": "stream",
     "text": [
      "(6, 1, 1, 8, 2)\n"
     ]
    }
   ],
   "source": [
    "import random\n",
    "res=[]\n",
    "for i in range(5):\n",
    "    t=random.randint(1,10)\n",
    "    res.append(t)\n",
    "print(tuple(res))"
   ]
  },
  {
   "cell_type": "code",
   "execution_count": null,
   "id": "4f9ea6ff-34d4-4822-a2ef-75074d5ec666",
   "metadata": {},
   "outputs": [],
   "source": [
    "38. Check if a tuple is sorted."
   ]
  },
  {
   "cell_type": "code",
   "execution_count": 32,
   "id": "f3195188-4d9f-4f51-9fc3-4a26258b3b92",
   "metadata": {},
   "outputs": [
    {
     "name": "stdout",
     "output_type": "stream",
     "text": [
      "[1, 1, 2, 6, 8]\n"
     ]
    }
   ],
   "source": [
    "tup1=(6, 1, 1, 8, 2)\n",
    "tup1=sorted(tup1)\n",
    "print(tup1)"
   ]
  },
  {
   "cell_type": "code",
   "execution_count": null,
   "id": "c630798e-0b40-4130-a359-199f600b9e4e",
   "metadata": {},
   "outputs": [],
   "source": [
    "39. Rotate a tuple to the left by n positions."
   ]
  },
  {
   "cell_type": "code",
   "execution_count": 34,
   "id": "f70e2925-90b8-4d84-95a2-9c51e27c8299",
   "metadata": {},
   "outputs": [
    {
     "name": "stdout",
     "output_type": "stream",
     "text": [
      "(5, 6, 7, 8, 9, 10, 1, 2, 3, 4)\n"
     ]
    }
   ],
   "source": [
    "tup1=(1,2,3,4,5,6,7,8,9,10)\n",
    "n=4\n",
    "tp=tup1[n:] + tup1[:n]\n",
    "print(tp)"
   ]
  },
  {
   "cell_type": "code",
   "execution_count": null,
   "id": "1ecd46da-ef5f-4a6f-9b61-a34c50d5b33e",
   "metadata": {},
   "outputs": [],
   "source": [
    "40. Rotate a tuple to the right by n positions."
   ]
  },
  {
   "cell_type": "code",
   "execution_count": 36,
   "id": "955fd4e6-697c-49da-8077-5edecbcc8343",
   "metadata": {},
   "outputs": [
    {
     "name": "stdout",
     "output_type": "stream",
     "text": [
      "(7, 8, 9, 10, 1, 2, 3, 4, 5, 6)\n"
     ]
    }
   ],
   "source": [
    "tup1=(1,2,3,4,5,6,7,8,9,10)\n",
    "n=4\n",
    "tp=tup1[-n:] + tup1[:-n]\n",
    "print(tp)"
   ]
  },
  {
   "cell_type": "code",
   "execution_count": null,
   "id": "0f9a6355-a954-48aa-8e56-6fba05742655",
   "metadata": {},
   "outputs": [],
   "source": [
    "41. Create a tuple of the first 5 Fibonacci numbers."
   ]
  },
  {
   "cell_type": "code",
   "execution_count": 39,
   "id": "6916b431-29a9-4613-b285-12214b9745c5",
   "metadata": {},
   "outputs": [
    {
     "name": "stdout",
     "output_type": "stream",
     "text": [
      "[0, 1, 1, 2, 3]\n"
     ]
    }
   ],
   "source": [
    "tup=[0,1]\n",
    "while len(tup) < 5:\n",
    "    add=tup[-1] + tup[-2]\n",
    "    tup.append(add)\n",
    "print(tup)"
   ]
  },
  {
   "cell_type": "code",
   "execution_count": null,
   "id": "5c28da36-8aab-4459-8267-09220cc948ba",
   "metadata": {},
   "outputs": [],
   "source": [
    "42. Create a tuple from user input."
   ]
  },
  {
   "cell_type": "code",
   "execution_count": 40,
   "id": "b306ac38-a095-4d87-b0d8-8647eac5c1e3",
   "metadata": {},
   "outputs": [
    {
     "name": "stdin",
     "output_type": "stream",
     "text": [
      "Enter elements: -  1,2,3,4,5,3.14,\"A\",True\n"
     ]
    },
    {
     "name": "stdout",
     "output_type": "stream",
     "text": [
      "('1', ',', '2', ',', '3', ',', '4', ',', '5', ',', '3', '.', '1', '4', ',', '\"', 'A', '\"', ',', 'T', 'r', 'u', 'e')\n"
     ]
    }
   ],
   "source": [
    "num=5\n",
    "tup=tuple(input(\"Enter elements: - \"))\n",
    "print(tup)"
   ]
  },
  {
   "cell_type": "code",
   "execution_count": null,
   "id": "601eddf8-0ff6-44be-a598-7d9c13f25b1a",
   "metadata": {},
   "outputs": [],
   "source": [
    "43. Swap two elements in a tuple."
   ]
  },
  {
   "cell_type": "code",
   "execution_count": 44,
   "id": "a779992f-34ca-4ffa-b0af-cd180b9480e4",
   "metadata": {},
   "outputs": [
    {
     "name": "stdout",
     "output_type": "stream",
     "text": [
      "(1, 4, 3, 2, 5)\n"
     ]
    }
   ],
   "source": [
    "tup1=(1,2,3,4,5)\n",
    "i1,i2=1,3\n",
    "tup=list(tup1)\n",
    "tup[i1],tup[i2] = tup[i2],tup[i1]\n",
    "print(tuple(tup))"
   ]
  },
  {
   "cell_type": "code",
   "execution_count": null,
   "id": "1e3e6dfc-018b-4cda-96e8-9a9c7bfaac86",
   "metadata": {},
   "outputs": [],
   "source": [
    "44. Reverse the elements of a tuple."
   ]
  },
  {
   "cell_type": "code",
   "execution_count": 45,
   "id": "77d91a4e-68c0-475f-8a93-c19a4c384c0a",
   "metadata": {},
   "outputs": [
    {
     "name": "stdout",
     "output_type": "stream",
     "text": [
      "(5, 4, 3, 2, 1)\n"
     ]
    }
   ],
   "source": [
    "tup1=(1,2,3,4,5)\n",
    "tup1=tup1[::-1]\n",
    "print(tup1)"
   ]
  },
  {
   "cell_type": "code",
   "execution_count": null,
   "id": "a5b7aef1-f29a-4ae3-8141-99f61d34f87e",
   "metadata": {},
   "outputs": [],
   "source": [
    "45. Create a tuple of the first n powers of 2."
   ]
  },
  {
   "cell_type": "code",
   "execution_count": 49,
   "id": "56e1fbf8-71c2-4315-a6bc-ae18bfad3660",
   "metadata": {},
   "outputs": [
    {
     "name": "stdout",
     "output_type": "stream",
     "text": [
      "(2, 4, 8, 16, 32)\n"
     ]
    }
   ],
   "source": [
    "n=5\n",
    "ans=[]\n",
    "for i in range(1,n+1):\n",
    "    ans.append(2 ** i)\n",
    "print(tuple(ans))"
   ]
  },
  {
   "cell_type": "code",
   "execution_count": null,
   "id": "a3859f7a-6568-44ab-af55-544d87e1b1bd",
   "metadata": {},
   "outputs": [],
   "source": [
    "46. Find the longest string in a tuple of strings."
   ]
  },
  {
   "cell_type": "code",
   "execution_count": 53,
   "id": "e7ef129a-6968-4752-9f60-ea5500848026",
   "metadata": {},
   "outputs": [
    {
     "name": "stdout",
     "output_type": "stream",
     "text": [
      "watermelon\n"
     ]
    }
   ],
   "source": [
    "tup = (\"apple\", \"banana\", \"grape\", \"kiwi\", \"watermelon\")\n",
    "max_str=max(tup,key=len)\n",
    "print(max_str)"
   ]
  },
  {
   "cell_type": "code",
   "execution_count": null,
   "id": "e080300e-752f-45f7-b8ca-352097e819da",
   "metadata": {},
   "outputs": [],
   "source": [
    "47. Find the shortest string in a tuple of strings."
   ]
  },
  {
   "cell_type": "code",
   "execution_count": 52,
   "id": "9fb48bbb-03c4-49a9-a584-829805a36b02",
   "metadata": {},
   "outputs": [
    {
     "name": "stdout",
     "output_type": "stream",
     "text": [
      "kiwi\n"
     ]
    }
   ],
   "source": [
    "tup = (\"apple\", \"banana\", \"grape\", \"kiwi\", \"watermelon\")\n",
    "min_str=min(tup,key=len)\n",
    "print(min_str)"
   ]
  },
  {
   "cell_type": "code",
   "execution_count": null,
   "id": "bc8266bd-d2f9-4b2f-b839-2b03ccc48469",
   "metadata": {},
   "outputs": [],
   "source": [
    "48. Create a tuple of the first n triangular numbers."
   ]
  },
  {
   "cell_type": "code",
   "execution_count": 54,
   "id": "dcc6338c-7f8c-40f4-b644-479b33fbd792",
   "metadata": {},
   "outputs": [
    {
     "name": "stdout",
     "output_type": "stream",
     "text": [
      "(1, 3, 6, 10, 15)\n"
     ]
    }
   ],
   "source": [
    "n=5\n",
    "ans=()\n",
    "for i in range(1,n+1):\n",
    "    num=(i *(i+1)) // 2\n",
    "    ans+=(num,)\n",
    "print(ans)"
   ]
  },
  {
   "cell_type": "code",
   "execution_count": null,
   "id": "aff2c584-b5b9-47cf-92a2-5b5609eea0bd",
   "metadata": {},
   "outputs": [],
   "source": [
    "49. Check if a tuple contains another tuple as a subsequence."
   ]
  },
  {
   "cell_type": "code",
   "execution_count": 56,
   "id": "ac84ac19-fbc5-437a-8bb3-cb43869ee9a5",
   "metadata": {},
   "outputs": [
    {
     "name": "stdout",
     "output_type": "stream",
     "text": [
      "It is a subsequence\n"
     ]
    }
   ],
   "source": [
    "tup1 = (1, 2, 3, 4, 5, 6, 7, 8, 9)\n",
    "tup2 = (4, 5, 6)\n",
    "sl = len(tup2)\n",
    "found = False\n",
    "for i in range(len(tup1) - sl + 1):\n",
    "    if tup1[i:i+sl] == tup2:\n",
    "        print(\"It is a subsequence\")\n",
    "        found = True\n",
    "        break\n",
    "if not found:\n",
    "    print(\"It is not a subsequence\")"
   ]
  },
  {
   "cell_type": "code",
   "execution_count": null,
   "id": "ae56cb39-3e9d-479f-92fa-5c67495d483a",
   "metadata": {},
   "outputs": [],
   "source": [
    "50. Create a tuple of alternating 1s and 0s of length n."
   ]
  },
  {
   "cell_type": "code",
   "execution_count": 57,
   "id": "313b46ca-ec67-4e7f-a4d2-b6a8aed6d281",
   "metadata": {},
   "outputs": [
    {
     "name": "stdout",
     "output_type": "stream",
     "text": [
      "(0, 1, 0, 1, 0, 1, 0, 1, 0, 1)\n"
     ]
    }
   ],
   "source": [
    "n=10\n",
    "res=[]\n",
    "for i in range(n):\n",
    "    num = i % 2\n",
    "    res.append(num)\n",
    "print(tuple(res))"
   ]
  },
  {
   "cell_type": "code",
   "execution_count": null,
   "id": "e4f144ac-17e1-4f3d-b96c-c0df2eb36bd1",
   "metadata": {},
   "outputs": [],
   "source": []
  }
 ],
 "metadata": {
  "kernelspec": {
   "display_name": "Python 3 (ipykernel)",
   "language": "python",
   "name": "python3"
  },
  "language_info": {
   "codemirror_mode": {
    "name": "ipython",
    "version": 3
   },
   "file_extension": ".py",
   "mimetype": "text/x-python",
   "name": "python",
   "nbconvert_exporter": "python",
   "pygments_lexer": "ipython3",
   "version": "3.10.8"
  }
 },
 "nbformat": 4,
 "nbformat_minor": 5
}
