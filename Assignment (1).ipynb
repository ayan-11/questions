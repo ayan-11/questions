{
 "cells": [
  {
   "cell_type": "code",
   "execution_count": null,
   "id": "0b18cfe2-088f-46ac-abdf-3b7eb66d64e7",
   "metadata": {},
   "outputs": [],
   "source": [
    "For Loop :-"
   ]
  },
  {
   "cell_type": "code",
   "execution_count": null,
   "id": "5b3bf88d-f966-47a1-8323-09d0f9515220",
   "metadata": {},
   "outputs": [],
   "source": [
    "Write a Python program to print numbers from 1 to 10 using a for loop."
   ]
  },
  {
   "cell_type": "code",
   "execution_count": 2,
   "id": "b344dd10-a83a-4954-b2ec-cd934cb0eddc",
   "metadata": {},
   "outputs": [
    {
     "name": "stdout",
     "output_type": "stream",
     "text": [
      "1\n",
      "2\n",
      "3\n",
      "4\n",
      "5\n",
      "6\n",
      "7\n",
      "8\n",
      "9\n",
      "10\n"
     ]
    }
   ],
   "source": [
    "for i in range(1,11):\n",
    "    print (i)"
   ]
  },
  {
   "cell_type": "code",
   "execution_count": null,
   "id": "70a83d32-11fb-4aa9-927d-a9122b5ffe1f",
   "metadata": {},
   "outputs": [],
   "source": [
    "Explain the difference between a for loop and a while loop in Python."
   ]
  },
  {
   "cell_type": "code",
   "execution_count": null,
   "id": "5bccb540-8a5e-423f-8ea1-208d4aecad22",
   "metadata": {},
   "outputs": [],
   "source": [
    "For loop is used when the number of iterations is already known. While loop is used when the number of iterations is already Unknown. \n",
    "In the while loop, it can be repeated at every iteration. To iterate, the range or xrange function is used."
   ]
  },
  {
   "cell_type": "code",
   "execution_count": null,
   "id": "0b965474-fe70-4750-b63b-3b982d86e9f5",
   "metadata": {},
   "outputs": [],
   "source": [
    "Write a Python program to calculate the sum of all numbers from 1 to 100 using a for loop."
   ]
  },
  {
   "cell_type": "code",
   "execution_count": 5,
   "id": "fb0f0ff9-b4ac-4ba1-bfb2-17a0cc503afe",
   "metadata": {},
   "outputs": [
    {
     "name": "stdout",
     "output_type": "stream",
     "text": [
      "5050\n"
     ]
    }
   ],
   "source": [
    "ans=0\n",
    "for i in range(1,101):\n",
    "    ans+=i\n",
    "print(ans)"
   ]
  },
  {
   "cell_type": "code",
   "execution_count": null,
   "id": "ff177fb8-207b-402f-8077-368c04c0e6cc",
   "metadata": {},
   "outputs": [],
   "source": [
    "How do you iterate through a list using a for loop in Python?"
   ]
  },
  {
   "cell_type": "code",
   "execution_count": null,
   "id": "d3096cd2-2441-49ab-8588-d373c309247a",
   "metadata": {},
   "outputs": [],
   "source": [
    "Here's a pseudocode representation of the process:\n",
    "my_list = [element1, element2, element3, ...]  \n",
    "for item in my_list:  # Start the for loop\n",
    "    # Code to be executed for each item in the list\n",
    "    # Access the current item using the 'item' variable\n",
    "\n",
    "# Code after the loop will be executed after the loop has finished."
   ]
  },
  {
   "cell_type": "code",
   "execution_count": null,
   "id": "0e636dd6-b525-4f0f-b5e0-0e8ba302e26f",
   "metadata": {},
   "outputs": [],
   "source": [
    "Write a Python program to find the product of all elements in a list using a for loop."
   ]
  },
  {
   "cell_type": "code",
   "execution_count": 1,
   "id": "176c8b87-2c80-4c0d-a32c-7587b108feaa",
   "metadata": {},
   "outputs": [
    {
     "name": "stdout",
     "output_type": "stream",
     "text": [
      "120\n"
     ]
    }
   ],
   "source": [
    "my_list = [2, 3, 4, 5]\n",
    "product = 1\n",
    "for number in my_list:\n",
    "    product *= number\n",
    "print(product)"
   ]
  },
  {
   "cell_type": "code",
   "execution_count": null,
   "id": "3d2e7ce7-17fc-43a6-a09e-66c0ce525681",
   "metadata": {},
   "outputs": [],
   "source": [
    "Create a Python program that prints all even numbers from 1 to 20 using a for loop."
   ]
  },
  {
   "cell_type": "code",
   "execution_count": 2,
   "id": "25ded08e-8f41-486f-b5f2-3db442e3bc13",
   "metadata": {},
   "outputs": [
    {
     "name": "stdout",
     "output_type": "stream",
     "text": [
      "2\n",
      "4\n",
      "6\n",
      "8\n",
      "10\n",
      "12\n",
      "14\n",
      "16\n",
      "18\n",
      "20\n"
     ]
    }
   ],
   "source": [
    "for number in range(2, 21, 2):\n",
    "    print(number)"
   ]
  },
  {
   "cell_type": "code",
   "execution_count": null,
   "id": "2537dbbc-9687-4235-b340-a77fcb9620d2",
   "metadata": {},
   "outputs": [],
   "source": [
    "Write a Python program that calculates the factorial of a number using a for loop."
   ]
  },
  {
   "cell_type": "code",
   "execution_count": 3,
   "id": "9397c135-361c-41be-94a1-f9f8a3f13adc",
   "metadata": {},
   "outputs": [
    {
     "name": "stdin",
     "output_type": "stream",
     "text": [
      "Enter a number:  10\n"
     ]
    },
    {
     "name": "stdout",
     "output_type": "stream",
     "text": [
      "Factorial of 10 is 3628800\n"
     ]
    }
   ],
   "source": [
    "number = int(input(\"Enter a number: \"))\n",
    "factorial = 1\n",
    "for i in range(1, number + 1):\n",
    "    factorial *= i\n",
    "print(f\"Factorial of {number} is {factorial}\")"
   ]
  },
  {
   "cell_type": "code",
   "execution_count": null,
   "id": "a6968275-f015-4a79-8133-380acb63760d",
   "metadata": {},
   "outputs": [],
   "source": [
    "How can you iterate through the characters of a string using a for loop in Python?"
   ]
  },
  {
   "cell_type": "code",
   "execution_count": 4,
   "id": "a671bdea-7d70-465e-9756-53b40dfdc10d",
   "metadata": {},
   "outputs": [
    {
     "name": "stdout",
     "output_type": "stream",
     "text": [
      "H\n",
      "e\n",
      "l\n",
      "l\n",
      "o\n",
      ",\n",
      " \n",
      "W\n",
      "o\n",
      "r\n",
      "l\n",
      "d\n",
      "!\n"
     ]
    }
   ],
   "source": [
    "my_string = \"Hello, World!\"\n",
    "\n",
    "for char in my_string:\n",
    "    print(char)\n"
   ]
  },
  {
   "cell_type": "raw",
   "id": "49ae803a-b4d5-461b-98cf-18c22e905457",
   "metadata": {},
   "source": [
    "Write a Python program to find the largest number in a list using a for loop."
   ]
  },
  {
   "cell_type": "code",
   "execution_count": 6,
   "id": "ec5cde43-2503-4a4e-98d2-99f2fe7578dd",
   "metadata": {},
   "outputs": [
    {
     "name": "stdout",
     "output_type": "stream",
     "text": [
      "The largest number in the list is: 89\n"
     ]
    }
   ],
   "source": [
    "my_list = [23, 45, 12, 67, 89, 54]\n",
    "largest = my_list[0]\n",
    "\n",
    "for number in my_list:\n",
    "    if number > largest:\n",
    "        largest = number\n",
    "\n",
    "print(\"The largest number in the list is:\", largest)\n"
   ]
  },
  {
   "cell_type": "code",
   "execution_count": null,
   "id": "f89a0da8-d4ed-446e-baf8-37e16fa2c04a",
   "metadata": {},
   "outputs": [],
   "source": [
    "Create a Python program that prints the Fibonacci sequence up to a specified limit using a for loop."
   ]
  },
  {
   "cell_type": "code",
   "execution_count": 7,
   "id": "4871b5cd-e0c6-4406-b394-e4ba532b45e9",
   "metadata": {},
   "outputs": [
    {
     "name": "stdin",
     "output_type": "stream",
     "text": [
      "Enter the limit for the Fibonacci sequence:  9\n"
     ]
    },
    {
     "name": "stdout",
     "output_type": "stream",
     "text": [
      "0 1 1 2 3 5 8 "
     ]
    }
   ],
   "source": [
    "limit = int(input(\"Enter the limit for the Fibonacci sequence: \"))\n",
    "a, b = 0, 1\n",
    "\n",
    "while a <= limit:\n",
    "    print(a, end=\" \")\n",
    "    a, b = b, a + b\n"
   ]
  },
  {
   "cell_type": "code",
   "execution_count": null,
   "id": "b67db9aa-6b15-4329-91c1-d90ecbbe4fec",
   "metadata": {},
   "outputs": [],
   "source": [
    "Write a Python program to count the number of vowels in a given string using a for loop."
   ]
  },
  {
   "cell_type": "code",
   "execution_count": 8,
   "id": "dbc4e1f2-fc95-4417-b763-c6eaf690ead5",
   "metadata": {},
   "outputs": [
    {
     "name": "stdin",
     "output_type": "stream",
     "text": [
      "Enter a string:  ayanmukherjee\n"
     ]
    },
    {
     "name": "stdout",
     "output_type": "stream",
     "text": [
      "Number of vowels in the string: 6\n"
     ]
    }
   ],
   "source": [
    "input_string = input(\"Enter a string: \")\n",
    "vowels = \"AEIOUaeiou\"\n",
    "count = 0\n",
    "\n",
    "for char in input_string:\n",
    "    if char in vowels:\n",
    "        count += 1\n",
    "\n",
    "print(\"Number of vowels in the string:\", count)"
   ]
  },
  {
   "cell_type": "code",
   "execution_count": null,
   "id": "056ce193-8e88-4fdd-a6a5-ab42fea82894",
   "metadata": {},
   "outputs": [],
   "source": [
    "Create a Python program that generates a multiplication table for a given number using a for loop."
   ]
  },
  {
   "cell_type": "code",
   "execution_count": 9,
   "id": "bc7462fa-8965-4205-8828-ecf1e3f0b426",
   "metadata": {},
   "outputs": [
    {
     "name": "stdin",
     "output_type": "stream",
     "text": [
      "Enter a number to generate its multiplication table:  8\n"
     ]
    },
    {
     "name": "stdout",
     "output_type": "stream",
     "text": [
      "8 x 1 = 8\n",
      "8 x 2 = 16\n",
      "8 x 3 = 24\n",
      "8 x 4 = 32\n",
      "8 x 5 = 40\n",
      "8 x 6 = 48\n",
      "8 x 7 = 56\n",
      "8 x 8 = 64\n",
      "8 x 9 = 72\n",
      "8 x 10 = 80\n"
     ]
    }
   ],
   "source": [
    "number = int(input(\"Enter a number to generate its multiplication table: \"))\n",
    "\n",
    "for i in range(1, 11):\n",
    "    product = number * i\n",
    "    print(f\"{number} x {i} = {product}\")"
   ]
  },
  {
   "cell_type": "code",
   "execution_count": null,
   "id": "4552f1f5-1164-4f3a-9c6e-38be320afc6b",
   "metadata": {},
   "outputs": [],
   "source": [
    "Write a Python program to reverse a list using a for loop."
   ]
  },
  {
   "cell_type": "code",
   "execution_count": 10,
   "id": "ab52ac79-0e09-4b58-9d64-dc1d611b26fb",
   "metadata": {},
   "outputs": [
    {
     "name": "stdout",
     "output_type": "stream",
     "text": [
      "Original list: [1, 2, 3, 4, 5]\n",
      "Reversed list: [5, 4, 3, 2, 1]\n"
     ]
    }
   ],
   "source": [
    "original_list = [1, 2, 3, 4, 5]\n",
    "reversed_list = []\n",
    "\n",
    "for item in original_list:\n",
    "    reversed_list.insert(0, item)\n",
    "\n",
    "print(\"Original list:\", original_list)\n",
    "print(\"Reversed list:\", reversed_list)"
   ]
  },
  {
   "cell_type": "code",
   "execution_count": null,
   "id": "6a076c93-8f36-4e12-ab74-b54e8dae3aa2",
   "metadata": {},
   "outputs": [],
   "source": [
    "Write a Python program to find the common elements between two lists using a for loop."
   ]
  },
  {
   "cell_type": "code",
   "execution_count": 11,
   "id": "3cd210ef-1f10-4e3f-a048-d75df2fd5643",
   "metadata": {},
   "outputs": [
    {
     "name": "stdout",
     "output_type": "stream",
     "text": [
      "Common elements: [3, 4, 5]\n"
     ]
    }
   ],
   "source": [
    "list1 = [1, 2, 3, 4, 5]\n",
    "list2 = [3, 4, 5, 6, 7]\n",
    "\n",
    "common_elements = []\n",
    "\n",
    "for item1 in list1:\n",
    "    for item2 in list2:\n",
    "        if item1 == item2:\n",
    "            common_elements.append(item1)\n",
    "\n",
    "print(\"Common elements:\", common_elements)"
   ]
  },
  {
   "cell_type": "code",
   "execution_count": null,
   "id": "7e035473-659d-4762-8461-d85bea9b51b7",
   "metadata": {},
   "outputs": [],
   "source": [
    "Explain how to use a for loop to iterate through the keys and values of a dictionary in Python."
   ]
  },
  {
   "cell_type": "code",
   "execution_count": 12,
   "id": "4d717119-eeb6-40eb-ae4a-d375d3ae449d",
   "metadata": {},
   "outputs": [
    {
     "name": "stdout",
     "output_type": "stream",
     "text": [
      "Key: a, Value: 1\n",
      "Key: b, Value: 2\n",
      "Key: c, Value: 3\n"
     ]
    }
   ],
   "source": [
    "my_dict = {'a': 1, 'b': 2, 'c': 3}\n",
    "\n",
    "for key, value in my_dict.items():\n",
    "    print(f\"Key: {key}, Value: {value}\")\n"
   ]
  },
  {
   "cell_type": "code",
   "execution_count": null,
   "id": "a10d5235-1132-4fb8-9196-6296617ca605",
   "metadata": {},
   "outputs": [],
   "source": [
    "Write a Python program to find the GCD (Greatest Common Divisor) of two numbers using a for loop."
   ]
  },
  {
   "cell_type": "code",
   "execution_count": 14,
   "id": "b595c1a6-35ea-4512-8b6d-2cccee0278f2",
   "metadata": {},
   "outputs": [
    {
     "name": "stdin",
     "output_type": "stream",
     "text": [
      "Enter the first number:  8\n",
      "Enter the second number:  7\n"
     ]
    },
    {
     "name": "stdout",
     "output_type": "stream",
     "text": [
      "GCD of 8 and 7 is 1\n"
     ]
    }
   ],
   "source": [
    "def gcd(a, b):\n",
    "    while b:\n",
    "        a, b = b, a % b\n",
    "    return a\n",
    "\n",
    "num1 = int(input(\"Enter the first number: \"))\n",
    "num2 = int(input(\"Enter the second number: \"))\n",
    "\n",
    "result = gcd(num1, num2)\n",
    "print(\"GCD of\", num1, \"and\", num2, \"is\", result)"
   ]
  },
  {
   "cell_type": "code",
   "execution_count": null,
   "id": "5f0b0284-d2c7-4776-bea5-00620489416f",
   "metadata": {},
   "outputs": [],
   "source": [
    "Create a Python program that checks if a string is a palindrome using a for loop."
   ]
  },
  {
   "cell_type": "code",
   "execution_count": 15,
   "id": "ba753380-2a63-40e5-99c8-2cf3f4cd9c64",
   "metadata": {},
   "outputs": [
    {
     "name": "stdin",
     "output_type": "stream",
     "text": [
      "Enter a string:  naman\n"
     ]
    },
    {
     "name": "stdout",
     "output_type": "stream",
     "text": [
      "It's a palindrome!\n"
     ]
    }
   ],
   "source": [
    "input_string = input(\"Enter a string: \")\n",
    "input_string = input_string.replace(\" \", \"\").lower()\n",
    "is_palindrome = True\n",
    "\n",
    "for i in range(len(input_string) // 2):\n",
    "    if input_string[i] != input_string[len(input_string) - 1 - i]:\n",
    "        is_palindrome = False\n",
    "        break\n",
    "\n",
    "if is_palindrome:\n",
    "    print(\"It's a palindrome!\")\n",
    "else:\n",
    "    print(\"It's not a palindrome.\")"
   ]
  },
  {
   "cell_type": "code",
   "execution_count": null,
   "id": "088e5ca9-4615-4539-bf56-edc0109d48d0",
   "metadata": {},
   "outputs": [],
   "source": [
    "Write a Python program to remove duplicates from a list using a for loop."
   ]
  },
  {
   "cell_type": "code",
   "execution_count": 16,
   "id": "bc36f57d-5ca6-4267-bb43-92cb12779526",
   "metadata": {},
   "outputs": [
    {
     "name": "stdout",
     "output_type": "stream",
     "text": [
      "Original list: [1, 2, 2, 3, 4, 4, 5, 6, 6, 7]\n",
      "List with duplicates removed: [1, 2, 3, 4, 5, 6, 7]\n"
     ]
    }
   ],
   "source": [
    "original_list = [1, 2, 2, 3, 4, 4, 5, 6, 6, 7]\n",
    "unique_list = []\n",
    "\n",
    "for item in original_list:\n",
    "    if item not in unique_list:\n",
    "        unique_list.append(item)\n",
    "\n",
    "print(\"Original list:\", original_list)\n",
    "print(\"List with duplicates removed:\", unique_list)\n"
   ]
  },
  {
   "cell_type": "code",
   "execution_count": null,
   "id": "7ed661ed-d45a-4c80-871b-9af3da9bf5de",
   "metadata": {},
   "outputs": [],
   "source": [
    "Create a Python program that counts the number of words in a sentence using a for loop."
   ]
  },
  {
   "cell_type": "code",
   "execution_count": 17,
   "id": "dffc473d-ee6a-45ea-8bce-97f9a4481c6c",
   "metadata": {},
   "outputs": [
    {
     "name": "stdin",
     "output_type": "stream",
     "text": [
      "Enter a sentence:  what a good day it is\n"
     ]
    },
    {
     "name": "stdout",
     "output_type": "stream",
     "text": [
      "Number of words in the sentence: 6\n"
     ]
    }
   ],
   "source": [
    "sentence = input(\"Enter a sentence: \")\n",
    "words = sentence.split()\n",
    "word_count = 0\n",
    "\n",
    "for word in words:\n",
    "    word_count += 1\n",
    "\n",
    "print(\"Number of words in the sentence:\", word_count)\n"
   ]
  },
  {
   "cell_type": "code",
   "execution_count": null,
   "id": "edc971c0-8e46-4594-bdfe-95b7dd5d03ba",
   "metadata": {},
   "outputs": [],
   "source": [
    "Write a Python program to find the sum of all odd numbers from 1 to 50 using a for loop."
   ]
  },
  {
   "cell_type": "code",
   "execution_count": 18,
   "id": "53b6c63a-0696-4530-a919-09be4c468436",
   "metadata": {},
   "outputs": [
    {
     "name": "stdout",
     "output_type": "stream",
     "text": [
      "Sum of all odd numbers from 1 to 50: 625\n"
     ]
    }
   ],
   "source": [
    "sum_of_odd_numbers = 0\n",
    "\n",
    "for number in range(1, 51):\n",
    "    if number % 2 != 0:\n",
    "        sum_of_odd_numbers += number\n",
    "\n",
    "print(\"Sum of all odd numbers from 1 to 50:\", sum_of_odd_numbers)\n"
   ]
  },
  {
   "cell_type": "code",
   "execution_count": null,
   "id": "943f7e7a-1588-4887-854b-4c802838ea2e",
   "metadata": {},
   "outputs": [],
   "source": [
    "Write a Python program that checks if a given year is a leap year using a for loop."
   ]
  },
  {
   "cell_type": "code",
   "execution_count": 19,
   "id": "f8d18550-c97c-4aa6-bb4c-fa0d6040f74b",
   "metadata": {},
   "outputs": [
    {
     "name": "stdin",
     "output_type": "stream",
     "text": [
      "Enter a year:  2002\n"
     ]
    },
    {
     "name": "stdout",
     "output_type": "stream",
     "text": [
      "2002 is not a leap year.\n"
     ]
    }
   ],
   "source": [
    "year = int(input(\"Enter a year: \"))\n",
    "\n",
    "is_leap_year = False\n",
    "\n",
    "if year % 4 == 0:\n",
    "    if year % 100 != 0 or year % 400 == 0:\n",
    "        is_leap_year = True\n",
    "\n",
    "if is_leap_year:\n",
    "    print(year, \"is a leap year.\")\n",
    "else:\n",
    "    print(year, \"is not a leap year.\")\n"
   ]
  },
  {
   "cell_type": "code",
   "execution_count": null,
   "id": "e06d2ba5-4520-444b-b86e-dd47b5b88e1e",
   "metadata": {},
   "outputs": [],
   "source": [
    "Create a Python program that calculates the square root of a number using a for loop."
   ]
  },
  {
   "cell_type": "code",
   "execution_count": 20,
   "id": "8ecb7d49-bbb7-4f4b-bf07-50e560d77a52",
   "metadata": {},
   "outputs": [
    {
     "name": "stdin",
     "output_type": "stream",
     "text": [
      "Enter a number:  81\n"
     ]
    },
    {
     "name": "stdout",
     "output_type": "stream",
     "text": [
      "Square root of 81.0 is approximately 9.0\n"
     ]
    }
   ],
   "source": [
    "number = float(input(\"Enter a number: \"))\n",
    "if number < 0:\n",
    "    print(\"Square root is undefined for negative numbers.\")\n",
    "else:\n",
    "    guess = number / 2\n",
    "    iterations = 20\n",
    "    for _ in range(iterations):\n",
    "        guess = 0.5 * (guess + number / guess)\n",
    "    print(\"Square root of\", number, \"is approximately\", guess)\n"
   ]
  },
  {
   "cell_type": "code",
   "execution_count": null,
   "id": "ee6ab2ac-41fb-4bf3-922a-76030c4b549c",
   "metadata": {},
   "outputs": [],
   "source": [
    "Write a Python program to find the LCM (Least Common Multiple) of two numbers using a for loop."
   ]
  },
  {
   "cell_type": "code",
   "execution_count": 22,
   "id": "bc2f3902-971f-42ce-81f8-8060a298d539",
   "metadata": {},
   "outputs": [
    {
     "name": "stdin",
     "output_type": "stream",
     "text": [
      "Enter the first number:  56\n",
      "Enter the second number:  7\n"
     ]
    },
    {
     "name": "stdout",
     "output_type": "stream",
     "text": [
      "LCM of 56 and 7 is 56\n"
     ]
    }
   ],
   "source": [
    "def gcd(a, b):\n",
    "    while b:\n",
    "        a, b = b, a % b\n",
    "    return a\n",
    "\n",
    "def lcm(a, b):\n",
    "    return (a * b) // gcd(a, b)\n",
    "\n",
    "num1 = int(input(\"Enter the first number: \"))\n",
    "num2 = int(input(\"Enter the second number: \"))\n",
    "\n",
    "result = lcm(num1, num2)\n",
    "print(\"LCM of\", num1, \"and\", num2, \"is\", result)\n"
   ]
  },
  {
   "cell_type": "code",
   "execution_count": null,
   "id": "3a1146f1-5560-4d4e-b0bc-d3af36144ece",
   "metadata": {},
   "outputs": [],
   "source": [
    "If else :"
   ]
  },
  {
   "cell_type": "code",
   "execution_count": null,
   "id": "3b687a01-cfc3-4c99-b3da-82cdd6b91df8",
   "metadata": {},
   "outputs": [],
   "source": [
    "Write a Python program to check if a number is positive, negative, or zero using an if-else statement."
   ]
  },
  {
   "cell_type": "code",
   "execution_count": 24,
   "id": "26cfbab0-1d51-481e-883b-be271ea353f5",
   "metadata": {},
   "outputs": [
    {
     "name": "stdin",
     "output_type": "stream",
     "text": [
      "Enter a number:  56.9\n"
     ]
    },
    {
     "name": "stdout",
     "output_type": "stream",
     "text": [
      "The number is positive.\n"
     ]
    }
   ],
   "source": [
    "number = float(input(\"Enter a number: \"))\n",
    "\n",
    "if number > 0:\n",
    "    print(\"The number is positive.\")\n",
    "elif number < 0:\n",
    "    print(\"The number is negative.\")\n",
    "else:\n",
    "    print(\"The number is zero.\")\n"
   ]
  },
  {
   "cell_type": "code",
   "execution_count": null,
   "id": "309fdc80-3f03-4a8a-84fe-1968292c8f38",
   "metadata": {},
   "outputs": [],
   "source": [
    "Create a Python program that checks if a given number is even or odd using an if-else statement."
   ]
  },
  {
   "cell_type": "code",
   "execution_count": 25,
   "id": "baa4c68e-7b5d-4c8a-b16e-54f108ebaa01",
   "metadata": {},
   "outputs": [
    {
     "name": "stdin",
     "output_type": "stream",
     "text": [
      "Enter a number:  745\n"
     ]
    },
    {
     "name": "stdout",
     "output_type": "stream",
     "text": [
      "The number is odd.\n"
     ]
    }
   ],
   "source": [
    "number = int(input(\"Enter a number: \"))\n",
    "\n",
    "if number % 2 == 0:\n",
    "    print(\"The number is even.\")\n",
    "else:\n",
    "    print(\"The number is odd.\")\n"
   ]
  },
  {
   "cell_type": "code",
   "execution_count": null,
   "id": "a9564c2b-0ea1-4764-a5e7-126a6f187f8a",
   "metadata": {},
   "outputs": [],
   "source": [
    "How can you use nested if-else statements in Python, and provide an example?"
   ]
  },
  {
   "cell_type": "code",
   "execution_count": null,
   "id": "662d14ef-d4c9-445f-8d1b-9efcca7c0eb0",
   "metadata": {},
   "outputs": [],
   "source": [
    "if condition1:\n",
    "    # Code block for condition1\n",
    "    if nested_condition1:\n",
    "        # Code block for nested_condition1\n",
    "    else:\n",
    "        # Code block for else part of nested_condition1\n",
    "else:\n",
    "    # Code block for else part of condition1"
   ]
  },
  {
   "cell_type": "code",
   "execution_count": null,
   "id": "e54cd571-f100-496b-b707-adf760cee7f6",
   "metadata": {},
   "outputs": [],
   "source": [
    "Write a Python program to determine the largest of three numbers using if-else."
   ]
  },
  {
   "cell_type": "code",
   "execution_count": 26,
   "id": "c56337eb-ab88-427f-a6fb-a21882be31a8",
   "metadata": {},
   "outputs": [
    {
     "name": "stdin",
     "output_type": "stream",
     "text": [
      "Enter the first number:  89\n",
      "Enter the second number:  78\n",
      "Enter the third number:  56\n"
     ]
    },
    {
     "name": "stdout",
     "output_type": "stream",
     "text": [
      "The largest number is 89.0\n"
     ]
    }
   ],
   "source": [
    "num1 = float(input(\"Enter the first number: \"))\n",
    "num2 = float(input(\"Enter the second number: \"))\n",
    "num3 = float(input(\"Enter the third number: \"))\n",
    "\n",
    "if num1 >= num2 and num1 >= num3:\n",
    "    largest = num1\n",
    "elif num2 >= num1 and num2 >= num3:\n",
    "    largest = num2\n",
    "else:\n",
    "    largest = num3\n",
    "\n",
    "print(\"The largest number is\", largest)\n"
   ]
  },
  {
   "cell_type": "code",
   "execution_count": null,
   "id": "199e7339-3104-49ad-952e-564de08d491d",
   "metadata": {},
   "outputs": [],
   "source": [
    "Write a Python program that calculates the absolute value of a number using if-else."
   ]
  },
  {
   "cell_type": "code",
   "execution_count": 27,
   "id": "765cf07b-0431-4a1a-aa62-ed3f419dce95",
   "metadata": {},
   "outputs": [
    {
     "name": "stdin",
     "output_type": "stream",
     "text": [
      "Enter a number:  -89\n"
     ]
    },
    {
     "name": "stdout",
     "output_type": "stream",
     "text": [
      "The absolute value of the number is 89.0\n"
     ]
    }
   ],
   "source": [
    "number = float(input(\"Enter a number: \"))\n",
    "\n",
    "if number >= 0:\n",
    "    absolute_value = number\n",
    "else:\n",
    "    absolute_value = -number\n",
    "\n",
    "print(\"The absolute value of the number is\", absolute_value)\n"
   ]
  },
  {
   "cell_type": "code",
   "execution_count": null,
   "id": "cdbf3ae8-14ee-4098-bbf8-d2d388f4609b",
   "metadata": {},
   "outputs": [],
   "source": [
    "Create a Python program that checks if a given character is a vowel or consonant using if-else."
   ]
  },
  {
   "cell_type": "code",
   "execution_count": 1,
   "id": "6f688a8b-4171-4163-8613-34c4d930c894",
   "metadata": {},
   "outputs": [
    {
     "name": "stdin",
     "output_type": "stream",
     "text": [
      "Enter a character:  w\n"
     ]
    },
    {
     "name": "stdout",
     "output_type": "stream",
     "text": [
      "w is a Consonant\n"
     ]
    }
   ],
   "source": [
    "ch = input(\"Enter a character: \")\n",
    "\n",
    "if(ch=='A' or ch=='a' or ch=='E' or ch =='e' or ch=='I'\n",
    " or ch=='i' or ch=='O' or ch=='o' or ch=='U' or ch=='u'):\n",
    "    print(ch, \"is a Vowel\")\n",
    "else:\n",
    "    print(ch, \"is a Consonant\")"
   ]
  },
  {
   "cell_type": "code",
   "execution_count": null,
   "id": "5799d530-98de-4d4b-8613-d44c54191c0f",
   "metadata": {},
   "outputs": [],
   "source": [
    "Write a Python program to determine if a user is eligible to vote based on their age using if-else."
   ]
  },
  {
   "cell_type": "code",
   "execution_count": 2,
   "id": "c5b61dea-536e-44a9-ac11-18bca86272af",
   "metadata": {},
   "outputs": [
    {
     "name": "stdin",
     "output_type": "stream",
     "text": [
      "Enter your age:  74\n"
     ]
    },
    {
     "name": "stdout",
     "output_type": "stream",
     "text": [
      "You are eligible to vote.\n"
     ]
    }
   ],
   "source": [
    "age = int(input(\"Enter your age: \"))\n",
    "\n",
    "# Check if the user is eligible to vote.\n",
    "if age >= 18:\n",
    "    print(\"You are eligible to vote.\")\n",
    "else:\n",
    "    print(\"You are not eligible to vote.\")"
   ]
  },
  {
   "cell_type": "code",
   "execution_count": null,
   "id": "af549d4b-2a89-48e3-a8dc-4f70f9a08196",
   "metadata": {},
   "outputs": [],
   "source": [
    "Create a Python program that calculates the discount amount based on the purchase amount using if-else."
   ]
  },
  {
   "cell_type": "code",
   "execution_count": 3,
   "id": "143c672b-caa1-4c1a-8ed8-ded4b7649c02",
   "metadata": {},
   "outputs": [
    {
     "name": "stdin",
     "output_type": "stream",
     "text": [
      "Enter Sale Amount:  3000\n"
     ]
    },
    {
     "name": "stdout",
     "output_type": "stream",
     "text": [
      "Discount :  150.0\n",
      "Net Pay  :  2850.0\n"
     ]
    }
   ],
   "source": [
    "amt = int(input(\"Enter Sale Amount: \"))\n",
    "\n",
    "# checking conditions and calculating discount\n",
    "if(amt>0):\n",
    "    if amt<=5000:\n",
    "       disc = amt*0.05\n",
    "    elif amt<=15000:\n",
    "        disc=amt*0.12\n",
    "    elif amt<=25000:\n",
    "        disc=0.2 * amt\n",
    "    else:\n",
    "         disc=0.3 * amt\n",
    "\n",
    "    print(\"Discount : \",disc)\n",
    "    print(\"Net Pay  : \",amt-disc)\n",
    "else:\n",
    "    print(\"Invalid Amount\")"
   ]
  },
  {
   "cell_type": "code",
   "execution_count": null,
   "id": "d2e02d01-b292-4aa6-909d-66286cc4e086",
   "metadata": {},
   "outputs": [],
   "source": [
    "Write a Python program to check if a number is within a specified range using if-else."
   ]
  },
  {
   "cell_type": "code",
   "execution_count": 1,
   "id": "d424e6f5-65ce-4fda-a90e-448789425306",
   "metadata": {},
   "outputs": [
    {
     "name": "stdin",
     "output_type": "stream",
     "text": [
      "Enter a number:  35\n"
     ]
    },
    {
     "name": "stdout",
     "output_type": "stream",
     "text": [
      "The number is outside the specified range.\n"
     ]
    }
   ],
   "source": [
    "lower_bound = 10\n",
    "upper_bound = 20\n",
    "\n",
    "# Get the number from the user\n",
    "number = int(input(\"Enter a number: \"))\n",
    "\n",
    "# Check if the number is within the range\n",
    "if lower_bound <= number <= upper_bound:\n",
    "    print(\"The number is within the specified range.\")\n",
    "else:\n",
    "    print(\"The number is outside the specified range.\")"
   ]
  },
  {
   "cell_type": "code",
   "execution_count": null,
   "id": "ab0902ed-1f57-45bc-8794-b89d000c9f12",
   "metadata": {},
   "outputs": [],
   "source": [
    "Create a Python program that determines the grade of a student based on their score using if-else."
   ]
  },
  {
   "cell_type": "code",
   "execution_count": 2,
   "id": "cc7ccfcd-12e1-4fea-b52e-0d2f0e4ed65f",
   "metadata": {},
   "outputs": [
    {
     "name": "stdin",
     "output_type": "stream",
     "text": [
      "Enter your score:  78\n"
     ]
    },
    {
     "name": "stdout",
     "output_type": "stream",
     "text": [
      "Your grade is C\n"
     ]
    }
   ],
   "source": [
    "# This program determines the grade of a student based on their score.\n",
    "\n",
    "# Get the student's score.\n",
    "score = int(input(\"Enter your score: \"))\n",
    "\n",
    "# Determine the grade.\n",
    "if score >= 90:\n",
    "    grade = \"A\"\n",
    "elif score >= 80:\n",
    "    grade = \"B\"\n",
    "elif score >= 70:\n",
    "    grade = \"C\"\n",
    "elif score >= 60:\n",
    "    grade = \"D\"\n",
    "else:\n",
    "    grade = \"F\"\n",
    "\n",
    "# Print the grade.\n",
    "print(\"Your grade is\", grade)"
   ]
  },
  {
   "cell_type": "code",
   "execution_count": null,
   "id": "13c69c6f-68d9-4cce-905c-6f46d1f39a99",
   "metadata": {},
   "outputs": [],
   "source": [
    "Write a Python program to check if a string is empty or not using if-else.\n"
   ]
  },
  {
   "cell_type": "code",
   "execution_count": 3,
   "id": "a27da322-0540-4dea-a243-9e9fd29fbceb",
   "metadata": {},
   "outputs": [
    {
     "name": "stdin",
     "output_type": "stream",
     "text": [
      "Enter a string:  ayan\n"
     ]
    },
    {
     "name": "stdout",
     "output_type": "stream",
     "text": [
      "The string is not empty.\n"
     ]
    }
   ],
   "source": [
    "# Check if a string is empty or not using if-else\n",
    "\n",
    "string = input(\"Enter a string: \")\n",
    "\n",
    "if len(string) == 0:\n",
    "    print(\"The string is empty.\")\n",
    "else:\n",
    "    print(\"The string is not empty.\")"
   ]
  },
  {
   "cell_type": "code",
   "execution_count": null,
   "id": "bf7f3a8e-99c6-433d-bcf0-3fcce4b5bc33",
   "metadata": {},
   "outputs": [],
   "source": [
    "Create a Python program that identifies the type of a triangle (e.g., equilateral, isosceles, or scalene) based on input values using if-else."
   ]
  },
  {
   "cell_type": "code",
   "execution_count": 4,
   "id": "81025aaa-cb80-4f43-9353-105eadcf149f",
   "metadata": {},
   "outputs": [
    {
     "name": "stdin",
     "output_type": "stream",
     "text": [
      "Enter the length of side 1:  25\n",
      "Enter the length of side 2:  45\n",
      "Enter the length of side 3:  25\n"
     ]
    },
    {
     "name": "stdout",
     "output_type": "stream",
     "text": [
      "The triangle is isosceles.\n"
     ]
    }
   ],
   "source": [
    "# Get the lengths of the sides of the triangle from the user.\n",
    "side1 = int(input(\"Enter the length of side 1: \"))\n",
    "side2 = int(input(\"Enter the length of side 2: \"))\n",
    "side3 = int(input(\"Enter the length of side 3: \"))\n",
    "\n",
    "# Check if all three sides are equal.\n",
    "if side1 == side2 == side3:\n",
    "    print(\"The triangle is equilateral.\")\n",
    "\n",
    "# Check if at least two sides are equal.\n",
    "elif side1 == side2 or side1 == side3 or side2 == side3:\n",
    "    print(\"The triangle is isosceles.\")\n",
    "\n",
    "# Otherwise, the triangle is scalene.\n",
    "else:\n",
    "    print(\"The triangle is scalene.\")"
   ]
  },
  {
   "cell_type": "code",
   "execution_count": null,
   "id": "8defa840-8195-4919-bde1-d4639c60c328",
   "metadata": {},
   "outputs": [],
   "source": [
    "Write a Python program to determine the day of the week based on a user-provided number using if-else."
   ]
  },
  {
   "cell_type": "code",
   "execution_count": 6,
   "id": "27a051a8-7a11-49f9-8819-cf8fce8e856c",
   "metadata": {},
   "outputs": [
    {
     "name": "stdin",
     "output_type": "stream",
     "text": [
      "Enter weekday number (1-7) :  3\n"
     ]
    },
    {
     "name": "stdout",
     "output_type": "stream",
     "text": [
      "\n",
      "Wednesday\n"
     ]
    }
   ],
   "source": [
    "weekday = int(input(\"Enter weekday number (1-7) : \"))\n",
    "\n",
    "if weekday == 1 :\n",
    "    print(\"\\nMonday\");\n",
    "\n",
    "elif weekday == 2 :\n",
    "    print(\"\\nTuesday\")\n",
    "\n",
    "elif(weekday == 3) :\n",
    "    print(\"\\nWednesday\")\n",
    "\n",
    "elif(weekday == 4) :\n",
    "    print(\"\\nThursday\")\n",
    "\n",
    "elif(weekday == 5) :\n",
    "    print(\"\\nFriday\")\n",
    "\n",
    "elif(weekday == 6) :\n",
    "    print(\"\\nSaturday\")\n",
    "\n",
    "elif (weekday == 7) :\n",
    "    print(\"\\nSunday\")\n",
    "\n",
    "else :\n",
    "    print(\"\\nPlease enter any weekday number (1-7)\")"
   ]
  },
  {
   "cell_type": "code",
   "execution_count": null,
   "id": "eba2792e-39f2-4d5e-a63a-e49cb822843e",
   "metadata": {},
   "outputs": [],
   "source": [
    "Create a Python program that checks if a given year is a leap year using both if-else and a function."
   ]
  },
  {
   "cell_type": "code",
   "execution_count": 7,
   "id": "200b2fb7-76a4-41c5-8403-aec2ae3d44aa",
   "metadata": {},
   "outputs": [
    {
     "name": "stdin",
     "output_type": "stream",
     "text": [
      "Enter year to be checked:  2024\n"
     ]
    },
    {
     "name": "stdout",
     "output_type": "stream",
     "text": [
      "The year is a leap year!\n"
     ]
    },
    {
     "name": "stdin",
     "output_type": "stream",
     "text": [
      "Enter year to be checked:  2023\n"
     ]
    },
    {
     "name": "stdout",
     "output_type": "stream",
     "text": [
      "The year isn't a leap year!\n"
     ]
    }
   ],
   "source": [
    "# Check if a given year is a leap year using if-else\n",
    "\n",
    "year = int(input(\"Enter year to be checked: \"))\n",
    "\n",
    "if (year % 4 == 0 and year % 100 != 0 or year % 400 == 0):\n",
    "    print(\"The year is a leap year!\")\n",
    "else:\n",
    "    print(\"The year isn't a leap year!\")\n",
    "\n",
    "\n",
    "# Check if a given year is a leap year using a function\n",
    "\n",
    "def is_leap_year(year):\n",
    "    if (year % 4 == 0 and year % 100 != 0 or year % 400 == 0):\n",
    "        return True\n",
    "    else:\n",
    "        return False\n",
    "\n",
    "\n",
    "year = int(input(\"Enter year to be checked: \"))\n",
    "\n",
    "if is_leap_year(year):\n",
    "    print(\"The year is a leap year!\")\n",
    "else:\n",
    "    print(\"The year isn't a leap year!\")"
   ]
  },
  {
   "cell_type": "code",
   "execution_count": null,
   "id": "a2cf37d7-7e5e-42d8-a4db-87e53af4222e",
   "metadata": {},
   "outputs": [],
   "source": [
    "How do you use the \"assert\" statement in Python to add debugging checks within if-else blocks?"
   ]
  },
  {
   "cell_type": "code",
   "execution_count": null,
   "id": "6fe17ca9-296c-4f05-ad8e-4296e86cfa47",
   "metadata": {},
   "outputs": [],
   "source": [
    "if variable == 10:\n",
    "    print(\"The variable is equal to 10.\")\n",
    "else:\n",
    "    assert variable == 5, \"The variable is not equal to 10.\"\n",
    "\n",
    "    \n",
    "The assert keyword is used when debugging code.\n",
    "The assert keyword lets you test if a condition in your code returns True, if not, the program will raise an AssertionError. "
   ]
  },
  {
   "cell_type": "code",
   "execution_count": null,
   "id": "cf7412bc-b42a-43ee-a5f8-4d80790fd0c4",
   "metadata": {},
   "outputs": [],
   "source": [
    "Create a Python program that determines the eligibility of a person for a senior citizen discount based on age using if-else."
   ]
  },
  {
   "cell_type": "code",
   "execution_count": 10,
   "id": "b6f3bf69-8b08-4dc9-b0cd-1a99f38eede5",
   "metadata": {},
   "outputs": [
    {
     "name": "stdin",
     "output_type": "stream",
     "text": [
      "Enter your age:  55\n"
     ]
    },
    {
     "name": "stdout",
     "output_type": "stream",
     "text": [
      "You are not eligible for a senior citizen discount.\n"
     ]
    }
   ],
   "source": [
    "# This program determines the eligibility of a person for a senior citizen discount based on age.\n",
    "\n",
    "# Get the person's age.\n",
    "age = int(input(\"Enter your age: \"))\n",
    "\n",
    "# Check if the person is eligible for a senior citizen discount.\n",
    "if age >= 60:\n",
    "    print(\"You are eligible for a senior citizen discount.\")\n",
    "else:\n",
    "    print(\"You are not eligible for a senior citizen discount.\")"
   ]
  },
  {
   "cell_type": "code",
   "execution_count": null,
   "id": "5fe392da-be57-4d98-931c-eaf8ecb3f153",
   "metadata": {},
   "outputs": [],
   "source": [
    "Write a Python program to categorize a given character as uppercase, lowercase, or neither using if-else."
   ]
  },
  {
   "cell_type": "code",
   "execution_count": 11,
   "id": "fe88c320-0a07-430f-9273-bcae048bbcf7",
   "metadata": {},
   "outputs": [
    {
     "name": "stdin",
     "output_type": "stream",
     "text": [
      "Enter a character:  !\n"
     ]
    },
    {
     "name": "stdout",
     "output_type": "stream",
     "text": [
      "The character is neither uppercase nor lowercase.\n"
     ]
    }
   ],
   "source": [
    "# A Python program to categorize a given character as uppercase, lowercase, or neither\n",
    "\n",
    "# Get the character from the user\n",
    "char = input(\"Enter a character: \")\n",
    "\n",
    "# Check if the character is uppercase\n",
    "if char >= 'A' and char <= 'Z':\n",
    "    print(\"The character is uppercase.\")\n",
    "\n",
    "# Check if the character is lowercase\n",
    "elif char >= 'a' and char <= 'z':\n",
    "    print(\"The character is lowercase.\")\n",
    "\n",
    "# Otherwise, the character is neither uppercase nor lowercase\n",
    "else:\n",
    "    print(\"The character is neither uppercase nor lowercase.\")"
   ]
  },
  {
   "cell_type": "code",
   "execution_count": null,
   "id": "6fd1543a-2437-4443-aed1-b9510f1cf270",
   "metadata": {},
   "outputs": [],
   "source": [
    "Write a Python program to determine the roots of a quadratic equation using if-else."
   ]
  },
  {
   "cell_type": "code",
   "execution_count": 12,
   "id": "ada112a1-e72a-4c45-b76e-11bcc27dca83",
   "metadata": {},
   "outputs": [
    {
     "name": "stdin",
     "output_type": "stream",
     "text": [
      "Enter the coefficient a:  25\n",
      "Enter the coefficient b:  50\n",
      "Enter the coefficient c:  75\n"
     ]
    },
    {
     "name": "stdout",
     "output_type": "stream",
     "text": [
      "Root 1: -1.0 + 1.4142135623730951i\n",
      "Root 2: -1.0 - 1.4142135623730951i\n"
     ]
    }
   ],
   "source": [
    "# Input coefficients a, b, and c\n",
    "a = float(input(\"Enter the coefficient a: \"))\n",
    "b = float(input(\"Enter the coefficient b: \"))\n",
    "c = float(input(\"Enter the coefficient c: \"))\n",
    "\n",
    "# Calculate the discriminant\n",
    "discriminant = b**2 - 4*a*c\n",
    "\n",
    "# Check if the discriminant is positive, negative, or zero\n",
    "if discriminant > 0:\n",
    "    # Two real and distinct roots\n",
    "    root1 = (-b + (discriminant ** 0.5)) / (2*a)\n",
    "    root2 = (-b - (discriminant ** 0.5)) / (2*a)\n",
    "    print(f\"Root 1: {root1}\")\n",
    "    print(f\"Root 2: {root2}\")\n",
    "elif discriminant == 0:\n",
    "    # One real root\n",
    "    root1 = -b / (2*a)\n",
    "    print(f\"Root: {root1}\")\n",
    "else:\n",
    "    # Complex roots\n",
    "    real_part = -b / (2*a)\n",
    "    imaginary_part = (abs(discriminant) ** 0.5) / (2*a)\n",
    "    print(f\"Root 1: {real_part} + {imaginary_part}i\")\n",
    "    print(f\"Root 2: {real_part} - {imaginary_part}i\")\n"
   ]
  },
  {
   "cell_type": "code",
   "execution_count": null,
   "id": "121028ad-0c01-47c7-a5dd-364ee0124f4b",
   "metadata": {},
   "outputs": [],
   "source": [
    "Create a Python program that checks if a given year is a century year or not using if-else."
   ]
  },
  {
   "cell_type": "code",
   "execution_count": 15,
   "id": "5f78d96c-9896-4884-b8f5-fcecbb87b44e",
   "metadata": {},
   "outputs": [
    {
     "name": "stdout",
     "output_type": "stream",
     "text": [
      "20 century\n"
     ]
    }
   ],
   "source": [
    "# Python3 code for find the century \n",
    "# in a given year \n",
    "\n",
    "def find_century(year): \n",
    "\t\n",
    "\t# No negative value is allow for year \n",
    "\tif (year <= 0): \n",
    "\t\tprint(\"0 and negative is not allow for a year\") \n",
    "\t\t\n",
    "\t# If year is between 1 to 100 it \n",
    "\t# will come in 1st century \n",
    "\telif (year <= 100): \n",
    "\t\tprint(\"1st century\") \n",
    "\telif (year % 100 == 0): \n",
    "\t\tprint(year // 100,\"century\") \n",
    "\telse: \n",
    "\t\tprint(year // 100 + 1,\"century\") \n",
    "\n",
    "# Driver code \n",
    "year = 1992\n",
    "find_century(year) \n",
    "\n",
    "# This code is contributed by shubhamsingh10\n"
   ]
  },
  {
   "cell_type": "code",
   "execution_count": null,
   "id": "ac6013d5-346c-4380-89b6-193c576e19ed",
   "metadata": {},
   "outputs": [],
   "source": [
    "Write a Python program to determine if a given number is a perfect square using if-else."
   ]
  },
  {
   "cell_type": "code",
   "execution_count": 16,
   "id": "a5b04a45-fa76-4856-9614-5fe5bed85b2d",
   "metadata": {},
   "outputs": [
    {
     "name": "stdin",
     "output_type": "stream",
     "text": [
      "Enter a number:  89\n"
     ]
    },
    {
     "name": "stdout",
     "output_type": "stream",
     "text": [
      "The number is not a perfect square.\n"
     ]
    }
   ],
   "source": [
    "# This program determines if a given number is a perfect square\n",
    "\n",
    "number = int(input(\"Enter a number: \"))\n",
    "\n",
    "# Check if the number is a perfect square\n",
    "\n",
    "if number < 0:\n",
    "    print(\"Invalid input.\")\n",
    "elif number == 0:\n",
    "    print(\"0 is a perfect square.\")\n",
    "else:\n",
    "    is_perfect_square = False\n",
    "    for i in range(1, number + 1):\n",
    "        if i * i == number:\n",
    "            is_perfect_square = True\n",
    "            break\n",
    "\n",
    "    if is_perfect_square:\n",
    "        print(\"The number is a perfect square.\")\n",
    "    else:\n",
    "        print(\"The number is not a perfect square.\")"
   ]
  },
  {
   "cell_type": "code",
   "execution_count": null,
   "id": "05a14040-09d6-4c3d-a2d3-35910dbc1662",
   "metadata": {},
   "outputs": [],
   "source": [
    "Explain the purpose of the \"continue\" and \"break\" statements within if-else loops."
   ]
  },
  {
   "cell_type": "code",
   "execution_count": null,
   "id": "b6a0c879-7c14-4957-9c61-833389bc7e41",
   "metadata": {},
   "outputs": [],
   "source": [
    "The continue statement is used to skip the current iteration of a loop and move on to the next iteration. \n",
    "When the continue statement is encountered in a loop, the current iteration of the loop is terminated and the next iteration begins immediately.\n",
    "\n",
    "The break statement is used to exit a loop prematurely. \n",
    "When the break statement is encountered in a loop, the loop is terminated immediately and the program continues with the next statement after the loop."
   ]
  },
  {
   "cell_type": "code",
   "execution_count": null,
   "id": "09202fad-b3f7-44d8-864b-f266a0f341df",
   "metadata": {},
   "outputs": [],
   "source": [
    "Create a Python program that calculates the BMI (Body Mass Index) of a person based on their weight and height using if-else."
   ]
  },
  {
   "cell_type": "code",
   "execution_count": 18,
   "id": "263f45b4-9d9d-4114-bb17-3af90a8c12c3",
   "metadata": {},
   "outputs": [
    {
     "name": "stdin",
     "output_type": "stream",
     "text": [
      "Enter the height in cm:  180\n",
      "Enter the weight in kg:  80\n"
     ]
    },
    {
     "name": "stdout",
     "output_type": "stream",
     "text": [
      "Your Body Mass Index is 24.691358024691358\n",
      "Awesome! You are healthy.\n"
     ]
    }
   ],
   "source": [
    "# asking for input from the users  \n",
    "the_height = float(input(\"Enter the height in cm: \"))  \n",
    "the_weight = float(input(\"Enter the weight in kg: \"))  \n",
    "# defining a function for BMI  \n",
    "the_BMI = the_weight / (the_height/100)**2  \n",
    "# printing the BMI  \n",
    "print(\"Your Body Mass Index is\", the_BMI)  \n",
    "# using the if-elif-else conditions  \n",
    "if the_BMI <= 18.5:  \n",
    "    print(\"Oops! You are underweight.\")  \n",
    "elif the_BMI <= 24.9:  \n",
    "    print(\"Awesome! You are healthy.\")  \n",
    "elif the_BMI <= 29.9:  \n",
    "    print(\"Eee! You are over weight.\")  \n",
    "else:  \n",
    "    print(\"Seesh! You are obese.\")  "
   ]
  },
  {
   "cell_type": "code",
   "execution_count": null,
   "id": "1d4ac82c-0fb5-48ab-8610-c69e96b7d1a9",
   "metadata": {},
   "outputs": [],
   "source": [
    "How can you use the \"filter()\" function with if-else statements to filter elements from a list?"
   ]
  },
  {
   "cell_type": "code",
   "execution_count": null,
   "id": "cde3d395-ca84-41cb-aea1-3ad0750f2801",
   "metadata": {},
   "outputs": [],
   "source": [
    "First, define an empty list ( filtered ) that will hold the elements from the scores list.\n",
    "\n",
    "Second, iterate over the elements of the scores list. If the element is greater than or equal to 70, add it to the filtered list.\n",
    "\n",
    "Third, show the filtered list to the screen."
   ]
  },
  {
   "cell_type": "code",
   "execution_count": null,
   "id": "b6f09317-e086-4687-95bc-f0e1575ca743",
   "metadata": {},
   "outputs": [],
   "source": [
    "Write a Python program to determine if a given number is prime or not using if-else."
   ]
  },
  {
   "cell_type": "code",
   "execution_count": 19,
   "id": "06f2cf88-66c5-4b3f-91a8-591058e81d5a",
   "metadata": {},
   "outputs": [
    {
     "name": "stdin",
     "output_type": "stream",
     "text": [
      "Enter a number:  55\n"
     ]
    },
    {
     "name": "stdout",
     "output_type": "stream",
     "text": [
      "55 is not a prime number\n"
     ]
    }
   ],
   "source": [
    "# Take input from the user\n",
    "num = int(input(\"Enter a number: \"))\n",
    "\n",
    "# Check if the number is greater than 1\n",
    "if num > 1:\n",
    "\n",
    "    # Check for factors for i in range(2, num):\n",
    "    for i in range(2, num):\n",
    "\n",
    "        # If the number is divisible by any factor, it is not prime\n",
    "        if (num % i) == 0:\n",
    "\n",
    "            print(num, \"is not a prime number\")\n",
    "\n",
    "            # Break out of the loop\n",
    "            break\n",
    "\n",
    "    # If the number is not divisible by any factor, it is prime\n",
    "    else:\n",
    "\n",
    "        print(num, \"is a prime number\")\n",
    "\n",
    "# If the number is less than or equal to 1, it is not prime\n",
    "else:\n",
    "\n",
    "    print(num, \"is not a prime number\")"
   ]
  },
  {
   "cell_type": "code",
   "execution_count": null,
   "id": "9f06c61e-fcd2-4688-8aa5-84f13f2c7e6c",
   "metadata": {},
   "outputs": [],
   "source": [
    "Map :-"
   ]
  },
  {
   "cell_type": "code",
   "execution_count": null,
   "id": "f97724a2-28ca-498d-9682-236a7f68e40e",
   "metadata": {},
   "outputs": [],
   "source": [
    "Explain the purpose of the `map()` function in Python and provide an example of how it can be used to apply a function to each element of an iterable."
   ]
  },
  {
   "cell_type": "code",
   "execution_count": null,
   "id": "669ca665-93a1-4f6d-aa01-8d88ee5b2817",
   "metadata": {},
   "outputs": [],
   "source": [
    "Map in Python is a function that works as an iterator to return a result after applying a function to every item of an iterable (tuple, lists, etc.). \n",
    "It is used when you want to apply a single transformation function to all the iterable elements. \n",
    "The iterable and function are passed as arguments to the map in Python."
   ]
  },
  {
   "cell_type": "code",
   "execution_count": 20,
   "id": "b1ae377e-087e-4788-93e4-18502fc5f2ea",
   "metadata": {},
   "outputs": [
    {
     "name": "stdout",
     "output_type": "stream",
     "text": [
      "<map object at 0x7fe5386011b0>\n",
      "[9, 25, 49, 121, 169]\n"
     ]
    }
   ],
   "source": [
    "def mul(i):\n",
    "\n",
    "    return i * i\n",
    "\n",
    "# Using the map function\n",
    "\n",
    "x = map(mul, (3, 5, 7, 11, 13))\n",
    "\n",
    "print (x)\n",
    "\n",
    "print(list(x))"
   ]
  },
  {
   "cell_type": "code",
   "execution_count": null,
   "id": "dfca4d6d-5c0c-4331-88e5-059ec5809392",
   "metadata": {},
   "outputs": [],
   "source": [
    "Write a Python program that uses the `map()` function to square each element of a list of numbers."
   ]
  },
  {
   "cell_type": "code",
   "execution_count": 21,
   "id": "bff77647-7ace-4869-bb6e-6996efb3ee7e",
   "metadata": {},
   "outputs": [
    {
     "name": "stdout",
     "output_type": "stream",
     "text": [
      "Original List:  [4, 5, 2, 9]\n",
      "Square the elements of the said list using map():\n",
      "[16, 25, 4, 81]\n"
     ]
    }
   ],
   "source": [
    "def square_num(n):\n",
    "  return n * n\n",
    "nums = [4, 5, 2, 9]\n",
    "print(\"Original List: \",nums)\n",
    "result = map(square_num, nums)\n",
    "print(\"Square the elements of the said list using map():\")\n",
    "print(list(result))"
   ]
  },
  {
   "cell_type": "code",
   "execution_count": null,
   "id": "167f84a0-e3c9-4f48-ab71-19ce35d3d902",
   "metadata": {},
   "outputs": [],
   "source": [
    "How does the `map()` function differ from a list comprehension in Python, and when would you choose one over the other?"
   ]
  },
  {
   "cell_type": "code",
   "execution_count": null,
   "id": "ee3eb931-5eb6-4bf3-9364-f9dd7762ef76",
   "metadata": {},
   "outputs": [],
   "source": [
    "List comprehensions: Return a list, are more concise and easier to read than map(), and can be used with if conditions.\n",
    "\n",
    "map(): Returns a map object, which is similar to a generator, and is more memory efficient than list comprehensions. \n",
    "       map() can be faster than list comprehensions when calling an already defined function."
   ]
  },
  {
   "cell_type": "code",
   "execution_count": null,
   "id": "eae83b68-777b-40a7-b5fe-3bae49f45573",
   "metadata": {},
   "outputs": [],
   "source": [
    "Create a Python program that uses the `map()` function to convert a list of names to uppercase."
   ]
  },
  {
   "cell_type": "code",
   "execution_count": 22,
   "id": "6689c9ce-e230-4843-8704-85c0b0a23b00",
   "metadata": {},
   "outputs": [
    {
     "name": "stdout",
     "output_type": "stream",
     "text": [
      "['ALICE', 'BOB', 'CAROL']\n"
     ]
    }
   ],
   "source": [
    "# Create a list of names\n",
    "names = [\"Alice\", \"Bob\", \"Carol\"]\n",
    "\n",
    "# Convert the names to uppercase using the `map()` function\n",
    "upper_names = list(map(str.upper, names))\n",
    "\n",
    "# Print the uppercase names\n",
    "print(upper_names)"
   ]
  },
  {
   "cell_type": "code",
   "execution_count": null,
   "id": "bb96ee06-5edb-42e1-b80e-86d0c76b9889",
   "metadata": {},
   "outputs": [],
   "source": [
    "Write a Python program that uses the `map()` function to calculate the length of each word in a list of strings."
   ]
  },
  {
   "cell_type": "code",
   "execution_count": 23,
   "id": "c5b8f962-3dc2-41b8-99ee-65eda8100cd4",
   "metadata": {},
   "outputs": [
    {
     "name": "stdout",
     "output_type": "stream",
     "text": [
      "The original string is : Ayan Mukherjee\n",
      "The list of words lengths is : [4, 9]\n"
     ]
    }
   ],
   "source": [
    "test_string = \"Ayan Mukherjee\"\n",
    "print(\"The original string is : \" + test_string)\n",
    "res = list(map(len, test_string.split()))\n",
    "print(\"The list of words lengths is : \" + str(res))\n"
   ]
  },
  {
   "cell_type": "code",
   "execution_count": null,
   "id": "2a154446-b3e8-4da0-9286-9b1bb0145fd0",
   "metadata": {},
   "outputs": [],
   "source": [
    "How can you use the `map()` function to apply a custom function to elements of multiple lists simultaneously in Python?"
   ]
  },
  {
   "cell_type": "code",
   "execution_count": 25,
   "id": "a241c73f-f367-40c9-b6f0-b921fc280c42",
   "metadata": {},
   "outputs": [
    {
     "name": "stdout",
     "output_type": "stream",
     "text": [
      "[1, 4, 9, 16]\n"
     ]
    }
   ],
   "source": [
    "numbers = [1, 2, 3, 4]\n",
    "#square each element in the list\n",
    "squared_numbers = map(lambda x: x * x, numbers)\n",
    "\n",
    "print(list(squared_numbers))"
   ]
  },
  {
   "cell_type": "code",
   "execution_count": null,
   "id": "73f9749b-d2c1-4f03-a3f7-ffc0d8c2cdf4",
   "metadata": {},
   "outputs": [],
   "source": [
    "Create a Python program that uses `map()` to convert a list of temperatures from Celsius to Fahrenheit."
   ]
  },
  {
   "cell_type": "code",
   "execution_count": 27,
   "id": "9f1a99ea-f4c6-41f9-97d9-c8c7db7eb98c",
   "metadata": {},
   "outputs": [
    {
     "name": "stdout",
     "output_type": "stream",
     "text": [
      "[50.0, 68.0, 86.0, 104.0, 122.0]\n"
     ]
    }
   ],
   "source": [
    "def c_to_f(c):\n",
    "  return (c * 9 / 5) + 32\n",
    "temps_c = [10, 20, 30, 40, 50]\n",
    "temps_f = list(map(c_to_f, temps_c))\n",
    "print(temps_f)"
   ]
  },
  {
   "cell_type": "code",
   "execution_count": null,
   "id": "71248315-ad0a-4400-8887-ae3fc6154951",
   "metadata": {},
   "outputs": [],
   "source": [
    "Write a Python program that uses the `map()` function to round each element of a list of floating-point numbers to the nearest integer."
   ]
  },
  {
   "cell_type": "code",
   "execution_count": 29,
   "id": "d735f16a-7323-4126-917e-fcdd8dd0fa27",
   "metadata": {},
   "outputs": [
    {
     "name": "stdout",
     "output_type": "stream",
     "text": [
      "[1, 3, 6, 8, 9]\n"
     ]
    }
   ],
   "source": [
    "# Create a list of floating-point numbers\n",
    "numbers = [1.2, 3.4, 5.6, 7.8, 9.0]\n",
    "\n",
    "# Round each element of the list to the nearest integer\n",
    "rounded_numbers = map(round, numbers)\n",
    "\n",
    "# Print the rounded numbers\n",
    "print(list(rounded_numbers))"
   ]
  },
  {
   "cell_type": "code",
   "execution_count": null,
   "id": "3801272a-e203-4600-8820-cb8ea3811e3a",
   "metadata": {},
   "outputs": [],
   "source": [
    "Reduce :-"
   ]
  },
  {
   "cell_type": "code",
   "execution_count": null,
   "id": "4058170c-c3d8-4568-ab67-f9258930bba0",
   "metadata": {},
   "outputs": [],
   "source": [
    "What is the `reduce()` function in Python, and what module should you import to use it? Provide an example of its basic usage."
   ]
  },
  {
   "cell_type": "code",
   "execution_count": null,
   "id": "7c433031-3d8e-4f12-ba27-7d1da3f15312",
   "metadata": {},
   "outputs": [],
   "source": [
    "The reduce() function in Python is a higher-order function that applies a binary operation to a sequence of values, producing a single value. \n",
    "It is often used to perform mathematical operations on sequences of numbers, but it can also be used to apply other operations, such as string concatenation or list concatenation.\n",
    "The reduce() function is defined in the functools module, so you need to import that module before you can use it."
   ]
  },
  {
   "cell_type": "code",
   "execution_count": 30,
   "id": "70ab405b-8e78-406a-8f4a-3f2b42bf1c9a",
   "metadata": {},
   "outputs": [
    {
     "name": "stdout",
     "output_type": "stream",
     "text": [
      "15\n"
     ]
    }
   ],
   "source": [
    "from functools import reduce\n",
    "\n",
    "# This function adds all the numbers in a list\n",
    "def adder(a, b):\n",
    "    return a + b\n",
    "\n",
    "# This line reduces the list of numbers to a single value, the sum of all the numbers\n",
    "result = reduce(adder, [1, 2, 3, 4, 5])\n",
    "\n",
    "# This line prints the result\n",
    "print(result)"
   ]
  },
  {
   "cell_type": "code",
   "execution_count": null,
   "id": "3bc73f30-0615-4a9c-9fb2-231174d4b2d5",
   "metadata": {},
   "outputs": [],
   "source": [
    "Write a Python program that uses the `reduce()` function to find the product of all elements in a list."
   ]
  },
  {
   "cell_type": "code",
   "execution_count": 32,
   "id": "f4b6375d-0fd6-49f2-9065-1727d8fa4ef7",
   "metadata": {},
   "outputs": [
    {
     "name": "stdout",
     "output_type": "stream",
     "text": [
      "The sum of the list elements is : 180\n"
     ]
    }
   ],
   "source": [
    "# python code to demonstrate working of reduce() \n",
    "\n",
    "# importing functools for reduce() \n",
    "import functools \n",
    "\n",
    "# initializing list \n",
    "lis = [1, 3, 5, 6, 2] \n",
    "\n",
    "# using reduce to compute sum of list \n",
    "print(\"The sum of the list elements is : \", end=\"\") \n",
    "print(functools.reduce(lambda a, b: a*b, lis)) "
   ]
  },
  {
   "cell_type": "code",
   "execution_count": null,
   "id": "bd2f779f-7759-4a2f-a37c-ecf7aaf35a15",
   "metadata": {},
   "outputs": [],
   "source": [
    "Create a Python program that uses `reduce()` to find the maximum element in a list of numbers."
   ]
  },
  {
   "cell_type": "code",
   "execution_count": 33,
   "id": "352cdb00-46a6-4093-a3c4-7e671f498c24",
   "metadata": {},
   "outputs": [
    {
     "name": "stdout",
     "output_type": "stream",
     "text": [
      "The maximum element of the list is : 6\n"
     ]
    }
   ],
   "source": [
    "import functools \n",
    "lis = [1, 3, 5, 6, 2] \n",
    "print(\"The maximum element of the list is : \", end=\"\") \n",
    "print(functools.reduce(lambda a, b: a if a > b else b, lis)) \n"
   ]
  },
  {
   "cell_type": "code",
   "execution_count": null,
   "id": "2d939902-96f6-4fba-a6b4-33275de7a6a8",
   "metadata": {},
   "outputs": [],
   "source": [
    "How can you use the `reduce()` function to concatenate a list of strings into a single string?"
   ]
  },
  {
   "cell_type": "code",
   "execution_count": 34,
   "id": "539a2dfd-6bd5-427b-a8b2-ae202a2a3e3b",
   "metadata": {},
   "outputs": [
    {
     "name": "stdout",
     "output_type": "stream",
     "text": [
      "Hello world!\n"
     ]
    }
   ],
   "source": [
    "from functools import reduce\n",
    "# Sample list of strings\n",
    "string_list = [\"Hello\", \" \", \"world\", \"!\"]\n",
    "\n",
    "# Use reduce() to concatenate the list of strings\n",
    "result = reduce(lambda x, y: x + y, string_list)\n",
    "\n",
    "# Print the concatenated string\n",
    "print(result)\n"
   ]
  },
  {
   "cell_type": "code",
   "execution_count": null,
   "id": "013d1159-8ed1-4d35-856f-dcb8869efbfa",
   "metadata": {},
   "outputs": [],
   "source": [
    "Write a Python program that calculates the factorial of a number using the `reduce()` function."
   ]
  },
  {
   "cell_type": "code",
   "execution_count": 35,
   "id": "6550da46-f01c-4de0-a533-3e75e1c49b02",
   "metadata": {},
   "outputs": [
    {
     "name": "stdin",
     "output_type": "stream",
     "text": [
      "Enter a number:  8\n"
     ]
    },
    {
     "name": "stdout",
     "output_type": "stream",
     "text": [
      "The factorial of 8 is 40320\n"
     ]
    }
   ],
   "source": [
    "from functools import reduce\n",
    "\n",
    "def factorial(n):\n",
    "    if n == 0:\n",
    "        return 1\n",
    "    else:\n",
    "        return reduce(lambda x, y: x * y, range(1, n + 1))\n",
    "\n",
    "# Input: Get the number from the user\n",
    "num = int(input(\"Enter a number: \"))\n",
    "\n",
    "# Calculate the factorial using the factorial function\n",
    "result = factorial(num)\n",
    "\n",
    "# Display the factorial\n",
    "print(f\"The factorial of {num} is {result}\")\n"
   ]
  },
  {
   "cell_type": "code",
   "execution_count": null,
   "id": "3958c8f9-21b3-4dc8-8232-9000a9c1ff06",
   "metadata": {},
   "outputs": [],
   "source": [
    "Create a Python program that uses `reduce()` to find the GCD (Greatest Common Divisor) of a list of numbers."
   ]
  },
  {
   "cell_type": "code",
   "execution_count": 36,
   "id": "6aa1c03e-6007-4dcd-a632-eb1fba24d340",
   "metadata": {},
   "outputs": [
    {
     "name": "stdout",
     "output_type": "stream",
     "text": [
      "The GCD of the numbers [12, 18, 24, 36] is 6\n"
     ]
    }
   ],
   "source": [
    "from functools import reduce\n",
    "\n",
    "# Function to find the GCD of two numbers using the Euclidean algorithm\n",
    "def gcd(x, y):\n",
    "    while y:\n",
    "        x, y = y, x % y\n",
    "    return x\n",
    "\n",
    "# List of numbers for which you want to find the GCD\n",
    "numbers = [12, 18, 24, 36]\n",
    "\n",
    "# Use the reduce function to find the GCD of the list of numbers\n",
    "gcd_result = reduce(gcd, numbers)\n",
    "\n",
    "# Print the GCD\n",
    "print(f\"The GCD of the numbers {numbers} is {gcd_result}\")\n"
   ]
  },
  {
   "cell_type": "code",
   "execution_count": null,
   "id": "3b78e45e-3273-41eb-9a1e-d1fe481e49fc",
   "metadata": {},
   "outputs": [],
   "source": [
    "Write a Python program that uses the `reduce()` function to find the sum of the digits of a given number."
   ]
  },
  {
   "cell_type": "code",
   "execution_count": 38,
   "id": "c5d04b8e-8504-49e4-9b6b-6a42e134f9f2",
   "metadata": {},
   "outputs": [
    {
     "name": "stdin",
     "output_type": "stream",
     "text": [
      "Enter a number:  8569\n"
     ]
    },
    {
     "name": "stdout",
     "output_type": "stream",
     "text": [
      "The sum of the digits in 8569 is 28\n"
     ]
    }
   ],
   "source": [
    "from functools import reduce\n",
    "\n",
    "# Function to sum the digits of two numbers\n",
    "def sum_digits(x, y):\n",
    "    return int(x) + int(y)\n",
    "\n",
    "# Input: Get the number from the user\n",
    "num = input(\"Enter a number: \")\n",
    "\n",
    "# Use the reduce function to find the sum of the digits\n",
    "digit_sum = reduce(sum_digits, num)\n",
    "\n",
    "# Print the sum of the digits\n",
    "print(f\"The sum of the digits in {num} is {digit_sum}\")\n"
   ]
  },
  {
   "cell_type": "code",
   "execution_count": null,
   "id": "4ffd447c-2658-4062-bfbf-ec7c64a80c69",
   "metadata": {},
   "outputs": [],
   "source": [
    "Filter :-"
   ]
  },
  {
   "cell_type": "code",
   "execution_count": null,
   "id": "ee6c9d23-32ae-487c-9efb-664fd53da144",
   "metadata": {},
   "outputs": [],
   "source": [
    "Explain the purpose of the `filter()` function in Python and provide an example of how it can be used to filter elements from an iterable."
   ]
  },
  {
   "cell_type": "code",
   "execution_count": 39,
   "id": "cfd29db2-1b9d-4610-be9e-8191e044479c",
   "metadata": {},
   "outputs": [
    {
     "name": "stdout",
     "output_type": "stream",
     "text": [
      "Even numbers: [2, 4, 6, 8, 10]\n"
     ]
    }
   ],
   "source": [
    "# Define a list of numbers\n",
    "numbers = [1, 2, 3, 4, 5, 6, 7, 8, 9, 10]\n",
    "\n",
    "# Define a function to filter even numbers\n",
    "def is_even(num):\n",
    "    return num % 2 == 0\n",
    "\n",
    "# Use the filter function to create a new iterable containing even numbers\n",
    "even_numbers = filter(is_even, numbers)\n",
    "\n",
    "# Convert the filter object to a list (optional, for printing)\n",
    "even_numbers_list = list(even_numbers)\n",
    "\n",
    "# Print the even numbers\n",
    "print(\"Even numbers:\", even_numbers_list)\n"
   ]
  },
  {
   "cell_type": "code",
   "execution_count": null,
   "id": "6f808dd1-2bb6-401a-b512-2898d8521881",
   "metadata": {},
   "outputs": [],
   "source": [
    "Write a Python program that uses the `filter()` function to select even numbers from a list of integers."
   ]
  },
  {
   "cell_type": "code",
   "execution_count": 40,
   "id": "46e0ad73-021d-4f50-9d77-91a0b2947ef0",
   "metadata": {},
   "outputs": [
    {
     "name": "stdout",
     "output_type": "stream",
     "text": [
      "Even numbers: [2, 4, 6, 8, 10]\n"
     ]
    }
   ],
   "source": [
    "# Define a list of numbers\n",
    "numbers = [1, 2, 3, 4, 5, 6, 7, 8, 9, 10]\n",
    "\n",
    "# Define a function to filter even numbers\n",
    "def is_even(num):\n",
    "    return num % 2 == 0\n",
    "\n",
    "# Use the filter function to create a new iterable containing even numbers\n",
    "even_numbers = filter(is_even, numbers)\n",
    "\n",
    "# Convert the filter object to a list (optional, for printing)\n",
    "even_numbers_list = list(even_numbers)\n",
    "\n",
    "# Print the even numbers\n",
    "print(\"Even numbers:\", even_numbers_list)\n"
   ]
  },
  {
   "cell_type": "code",
   "execution_count": null,
   "id": "f8b3c6c8-c7a3-42a3-b128-0b89e07a474b",
   "metadata": {},
   "outputs": [],
   "source": [
    "Create a Python program that uses the `filter()` function to select names that start with a specific letter from a list of strings."
   ]
  },
  {
   "cell_type": "code",
   "execution_count": 41,
   "id": "2ed84cf0-1bbb-4440-b23f-23a49603431a",
   "metadata": {},
   "outputs": [
    {
     "name": "stdout",
     "output_type": "stream",
     "text": [
      "Names that start with 'D': ['Dobby', 'David']\n"
     ]
    }
   ],
   "source": [
    "# Define a list of strings (names)\n",
    "names = [\"Alice\", \"Dobby\", \"Charlie\", \"David\", \"Ella\", \"Frank\", \"Grace\", \"Henry\"]\n",
    "\n",
    "# Define the specific letter to filter by\n",
    "letter_to_filter = \"D\"\n",
    "\n",
    "# Define a function to filter names that start with the specific letter\n",
    "def starts_with_letter(name):\n",
    "    return name.startswith(letter_to_filter)\n",
    "\n",
    "# Use the filter function to create a new iterable containing names that start with the specific letter\n",
    "filtered_names = filter(starts_with_letter, names)\n",
    "\n",
    "# Convert the filter object to a list (optional)\n",
    "filtered_names_list = list(filtered_names)\n",
    "\n",
    "# Print the filtered names\n",
    "print(f\"Names that start with '{letter_to_filter}':\", filtered_names_list)\n"
   ]
  },
  {
   "cell_type": "code",
   "execution_count": null,
   "id": "257a0d7e-63d5-4035-bcb5-633f178fe0b3",
   "metadata": {},
   "outputs": [],
   "source": [
    "Write a Python program that uses the `filter()` function to select prime numbers from a list of integers."
   ]
  },
  {
   "cell_type": "code",
   "execution_count": 42,
   "id": "c573832d-a61b-474c-b482-26ecb6749f63",
   "metadata": {},
   "outputs": [
    {
     "name": "stdout",
     "output_type": "stream",
     "text": [
      "Prime numbers: [2, 3, 5, 7, 11, 13, 17, 19, 23]\n"
     ]
    }
   ],
   "source": [
    "# Define a list of integers\n",
    "numbers = [2, 3, 5, 7, 10, 11, 13, 17, 19, 20, 23]\n",
    "\n",
    "# Define a function to check if a number is prime\n",
    "def is_prime(num):\n",
    "    if num < 2:\n",
    "        return False\n",
    "    for i in range(2, int(num**0.5) + 1):\n",
    "        if num % i == 0:\n",
    "            return False\n",
    "    return True\n",
    "\n",
    "# Use the filter function to create a new iterable containing prime numbers\n",
    "prime_numbers = filter(is_prime, numbers)\n",
    "\n",
    "# Convert the filter object to a list (optional)\n",
    "prime_numbers_list = list(prime_numbers)\n",
    "\n",
    "# Print the prime numbers\n",
    "print(\"Prime numbers:\", prime_numbers_list)\n"
   ]
  },
  {
   "cell_type": "code",
   "execution_count": null,
   "id": "d99cd041-8fc7-4e17-afeb-52932221dd9d",
   "metadata": {},
   "outputs": [],
   "source": [
    "How can you use the `filter()` function to remove None values from a list in Python?"
   ]
  },
  {
   "cell_type": "code",
   "execution_count": 43,
   "id": "94f421d7-6c39-49af-b212-edd6445e1085",
   "metadata": {},
   "outputs": [
    {
     "name": "stdout",
     "output_type": "stream",
     "text": [
      "List with None values removed: [1, 2, 3, 4, 5]\n"
     ]
    }
   ],
   "source": [
    "# Define a list that includes None values\n",
    "values = [1, None, 2, None, 3, None, 4, None, 5]\n",
    "\n",
    "# Use the filter function to remove None values\n",
    "filtered_values = filter(lambda x: x is not None, values)\n",
    "\n",
    "# Convert the filter object to a list (optional)\n",
    "filtered_values_list = list(filtered_values)\n",
    "\n",
    "# Print the filtered list\n",
    "print(\"List with None values removed:\", filtered_values_list)\n"
   ]
  },
  {
   "cell_type": "code",
   "execution_count": null,
   "id": "4c9233f5-1cda-4fe5-87ce-caca8f7e208d",
   "metadata": {},
   "outputs": [],
   "source": [
    "Create a Python program that uses `filter()` to select words longer than a certain length from a list of strings."
   ]
  },
  {
   "cell_type": "code",
   "execution_count": 44,
   "id": "ba82a6bf-6868-431b-86a4-8aa112629aca",
   "metadata": {},
   "outputs": [
    {
     "name": "stdout",
     "output_type": "stream",
     "text": [
      "Words longer than 5 characters: ['banana', 'cherry', 'elderberry']\n"
     ]
    }
   ],
   "source": [
    "# Define a list of strings (words)\n",
    "words = [\"apple\", \"banana\", \"cherry\", \"date\", \"elderberry\", \"fig\", \"grape\"]\n",
    "\n",
    "# Define the minimum length for words to be selected\n",
    "min_length = 5\n",
    "\n",
    "# Define a function to filter words based on length\n",
    "def is_long_word(word):\n",
    "    return len(word) > min_length\n",
    "\n",
    "# Use the filter function to create a new iterable containing long words\n",
    "long_words = filter(is_long_word, words)\n",
    "\n",
    "# Convert the filter object to a list (optional)\n",
    "long_words_list = list(long_words)\n",
    "\n",
    "# Print the long words\n",
    "print(f\"Words longer than {min_length} characters:\", long_words_list)\n"
   ]
  },
  {
   "cell_type": "code",
   "execution_count": null,
   "id": "0745b71f-7bf9-4be7-8390-9131d57ccd47",
   "metadata": {},
   "outputs": [],
   "source": [
    "Write a Python program that uses the `filter()` function to select elements greater than a specified threshold from a list of values."
   ]
  },
  {
   "cell_type": "code",
   "execution_count": 45,
   "id": "cb5bb4cb-7c8c-4d6b-b73c-a8d4f51c4da5",
   "metadata": {},
   "outputs": [
    {
     "name": "stdout",
     "output_type": "stream",
     "text": [
      "Values greater than 50: [60, 70, 80, 90]\n"
     ]
    }
   ],
   "source": [
    "# Define a list of values\n",
    "values = [10, 20, 30, 40, 50, 60, 70, 80, 90]\n",
    "\n",
    "# Define the threshold value for filtering\n",
    "threshold = 50\n",
    "\n",
    "# Define a function to filter values greater than the threshold\n",
    "def greater_than_threshold(value):\n",
    "    return value > threshold\n",
    "\n",
    "# Use the filter function to create a new iterable containing values greater than the threshold\n",
    "filtered_values = filter(greater_than_threshold, values)\n",
    "\n",
    "# Convert the filter object to a list (optional)\n",
    "filtered_values_list = list(filtered_values)\n",
    "\n",
    "# Print the values greater than the threshold\n",
    "print(f\"Values greater than {threshold}:\", filtered_values_list)\n"
   ]
  },
  {
   "cell_type": "code",
   "execution_count": null,
   "id": "0d005c95-a725-46e4-a382-ae176684a5e5",
   "metadata": {},
   "outputs": [],
   "source": [
    "Recursion:-"
   ]
  },
  {
   "cell_type": "code",
   "execution_count": null,
   "id": "59735317-eee7-4486-b6e9-a472ddb5176f",
   "metadata": {},
   "outputs": [],
   "source": [
    "Explain the concept of recursion in Python. How does it differ from iteration?"
   ]
  },
  {
   "cell_type": "code",
   "execution_count": null,
   "id": "a34ab4a4-733d-424c-a4df-64a9c11e72fa",
   "metadata": {},
   "outputs": [],
   "source": [
    "Recursion is a programming technique where a function calls itself in order to solve a problem. \n",
    "In Python, a recursive function is a function that, during its execution, calls itself with a modified set of parameters or arguments.\n",
    "\n",
    "In recursion, control flows by making a function call to itself, whereas iteration involves using loops (e.g., for or while) to control the flow."
   ]
  },
  {
   "cell_type": "code",
   "execution_count": null,
   "id": "3c5fec02-455a-46ff-8efe-c23417236e92",
   "metadata": {},
   "outputs": [],
   "source": [
    "Write a Python program to calculate the factorial of a number using recursion."
   ]
  },
  {
   "cell_type": "code",
   "execution_count": 1,
   "id": "6a50dfb7-66f1-40ff-943b-c8e3a66ee5f6",
   "metadata": {},
   "outputs": [
    {
     "name": "stdin",
     "output_type": "stream",
     "text": [
      "Enter a number:  8\n"
     ]
    },
    {
     "name": "stdout",
     "output_type": "stream",
     "text": [
      "The factorial of 8 is 40320\n"
     ]
    }
   ],
   "source": [
    "def factorial(n):\n",
    "    if n == 0:\n",
    "        return 1\n",
    "    else:\n",
    "        return n * factorial(n - 1)\n",
    "\n",
    "# Input: Get the number from the user\n",
    "num = int(input(\"Enter a number: \"))\n",
    "\n",
    "# Calculate the factorial using the factorial function\n",
    "result = factorial(num)\n",
    "\n",
    "# Display the factorial\n",
    "print(f\"The factorial of {num} is {result}\")\n"
   ]
  },
  {
   "cell_type": "code",
   "execution_count": null,
   "id": "389026c1-4fd0-4077-9ece-bc837957db33",
   "metadata": {},
   "outputs": [],
   "source": [
    "Create a recursive Python function to find the nth Fibonacci number."
   ]
  },
  {
   "cell_type": "code",
   "execution_count": 2,
   "id": "81e62e99-2b37-4246-9e86-4024cb67ae78",
   "metadata": {},
   "outputs": [
    {
     "name": "stdin",
     "output_type": "stream",
     "text": [
      "Enter the value of n:  20\n"
     ]
    },
    {
     "name": "stdout",
     "output_type": "stream",
     "text": [
      "The 20th Fibonacci number is 6765\n"
     ]
    }
   ],
   "source": [
    "def fibonacci(n):\n",
    "    if n <= 0:\n",
    "        return 0\n",
    "    elif n == 1:\n",
    "        return 1\n",
    "    else:\n",
    "        return fibonacci(n - 1) + fibonacci(n - 2)\n",
    "\n",
    "# Input: Get the value of n from the user\n",
    "n = int(input(\"Enter the value of n: \"))\n",
    "\n",
    "# Calculate the nth Fibonacci number using the fibonacci function\n",
    "result = fibonacci(n)\n",
    "\n",
    "# Display the nth Fibonacci number\n",
    "print(f\"The {n}th Fibonacci number is {result}\")\n"
   ]
  },
  {
   "cell_type": "code",
   "execution_count": null,
   "id": "49ad03ff-55f1-48d0-8b63-2dd5218b76d1",
   "metadata": {},
   "outputs": [],
   "source": [
    "Write a recursive Python function to calculate the sum of all elements in a list."
   ]
  },
  {
   "cell_type": "code",
   "execution_count": 4,
   "id": "43acb25c-ffe8-4410-a1ba-f3450c632e2c",
   "metadata": {},
   "outputs": [
    {
     "name": "stdin",
     "output_type": "stream",
     "text": [
      "Enter a list of numbers separated by spaces:  1 2 3 4 5 6 7 8 9 0\n"
     ]
    },
    {
     "name": "stdout",
     "output_type": "stream",
     "text": [
      "The sum of the elements in the list is 45\n"
     ]
    }
   ],
   "source": [
    "def recursive_sum(lst):\n",
    "    if len(lst) == 0:\n",
    "        return 0\n",
    "    else:\n",
    "        return lst[0] + recursive_sum(lst[1:])\n",
    "\n",
    "# Input: Get a list of numbers from the user\n",
    "numbers = list(map(int, input(\"Enter a list of numbers separated by spaces: \").split()))\n",
    "\n",
    "# Calculate the sum using the recursive_sum function\n",
    "result = recursive_sum(numbers)\n",
    "\n",
    "# Display the sum\n",
    "print(f\"The sum of the elements in the list is {result}\")\n"
   ]
  },
  {
   "cell_type": "code",
   "execution_count": null,
   "id": "55d9793c-184c-4460-a52a-c25747154c6b",
   "metadata": {},
   "outputs": [],
   "source": [
    "How can you prevent a recursive function from running indefinitely, causing a stack overflow error?"
   ]
  },
  {
   "cell_type": "code",
   "execution_count": null,
   "id": "e3703063-68ad-4074-a9c7-7d8935345134",
   "metadata": {},
   "outputs": [],
   "source": [
    "Ensure that your recursive function has a base case. A base case defines a condition under which the recursion should stop. When the base case is met, the function should return a value without making any further recursive calls. This is crucial to stop the recursion from going on forever."
   ]
  },
  {
   "cell_type": "code",
   "execution_count": null,
   "id": "46e0e9e9-e1bc-406a-aa7a-cee1871a0130",
   "metadata": {},
   "outputs": [],
   "source": [
    "Create a recursive Python function to find the greatest common divisor (GCD) of two numbers using the Euclidean algorithm."
   ]
  },
  {
   "cell_type": "code",
   "execution_count": 5,
   "id": "cd17fae6-d8d6-471e-a25a-07d9850563f7",
   "metadata": {},
   "outputs": [
    {
     "name": "stdin",
     "output_type": "stream",
     "text": [
      "Enter the first number:  85\n",
      "Enter the second number:  5\n"
     ]
    },
    {
     "name": "stdout",
     "output_type": "stream",
     "text": [
      "The GCD of 85 and 5 is 5\n"
     ]
    }
   ],
   "source": [
    "def gcd(a, b):\n",
    "    if b == 0:\n",
    "        return a\n",
    "    else:\n",
    "        return gcd(b, a % b)\n",
    "\n",
    "# Input: Get two numbers from the user\n",
    "num1 = int(input(\"Enter the first number: \"))\n",
    "num2 = int(input(\"Enter the second number: \"))\n",
    "\n",
    "# Calculate the GCD using the gcd function\n",
    "result = gcd(num1, num2)\n",
    "\n",
    "# Display the GCD\n",
    "print(f\"The GCD of {num1} and {num2} is {result}\")\n"
   ]
  },
  {
   "cell_type": "code",
   "execution_count": null,
   "id": "980f7489-87fc-4973-aaa9-b06d7ffef6cb",
   "metadata": {},
   "outputs": [],
   "source": [
    "Write a recursive Python function to reverse a string."
   ]
  },
  {
   "cell_type": "code",
   "execution_count": 6,
   "id": "264721e4-1c1b-411b-9f8f-1a8b65bb3b29",
   "metadata": {},
   "outputs": [
    {
     "name": "stdin",
     "output_type": "stream",
     "text": [
      "Enter a string:  ayan\n"
     ]
    },
    {
     "name": "stdout",
     "output_type": "stream",
     "text": [
      "Reversed string: naya\n"
     ]
    }
   ],
   "source": [
    "def reverse_string(input_str):\n",
    "    # Base case: If the string is empty or has only one character, return the string itself\n",
    "    if len(input_str) <= 1:\n",
    "        return input_str\n",
    "    else:\n",
    "        # Recursive case: Reverse the string by swapping the first and last characters\n",
    "        return input_str[-1] + reverse_string(input_str[1:-1]) + input_str[0]\n",
    "\n",
    "# Input: Get a string from the user\n",
    "user_input = input(\"Enter a string: \")\n",
    "\n",
    "# Call the reverse_string function to reverse the input string\n",
    "reversed_str = reverse_string(user_input)\n",
    "\n",
    "# Display the reversed string\n",
    "print(\"Reversed string:\", reversed_str)\n"
   ]
  },
  {
   "cell_type": "code",
   "execution_count": null,
   "id": "a53194f5-5d75-412a-834b-8bc6aecfa8d4",
   "metadata": {},
   "outputs": [],
   "source": [
    "Create a recursive Python function to calculate the power of a number (x^n)."
   ]
  },
  {
   "cell_type": "code",
   "execution_count": 7,
   "id": "0c644d75-dbba-45b8-a23f-fb62f054edac",
   "metadata": {},
   "outputs": [
    {
     "name": "stdin",
     "output_type": "stream",
     "text": [
      "Enter the base (x):  8\n",
      "Enter the exponent (n):  3\n"
     ]
    },
    {
     "name": "stdout",
     "output_type": "stream",
     "text": [
      "8.0^3 = 512.0\n"
     ]
    }
   ],
   "source": [
    "def power(x, n):\n",
    "    if n == 0:\n",
    "        return 1\n",
    "    elif n > 0:\n",
    "        return x * power(x, n - 1)\n",
    "    else:\n",
    "        return 1 / (x * power(x, -n - 1))\n",
    "\n",
    "# Input: Get the base (x) and exponent (n) from the user\n",
    "x = float(input(\"Enter the base (x): \"))\n",
    "n = int(input(\"Enter the exponent (n): \"))\n",
    "\n",
    "# Calculate the power using the power function\n",
    "result = power(x, n)\n",
    "\n",
    "# Display the result\n",
    "print(f\"{x}^{n} = {result}\")\n"
   ]
  },
  {
   "cell_type": "code",
   "execution_count": null,
   "id": "3d0f121c-7f2f-49ae-9762-05c66ef4810f",
   "metadata": {},
   "outputs": [],
   "source": [
    "Write a recursive Python function to find all permutations of a given string."
   ]
  },
  {
   "cell_type": "code",
   "execution_count": 1,
   "id": "47d80b98-1607-4dca-8368-d8cc122866d3",
   "metadata": {},
   "outputs": [
    {
     "name": "stdin",
     "output_type": "stream",
     "text": [
      "Enter a string:  good\n"
     ]
    },
    {
     "name": "stdout",
     "output_type": "stream",
     "text": [
      "All permutations of the string:\n",
      "good\n",
      "godo\n",
      "good\n",
      "godo\n",
      "gdoo\n",
      "gdoo\n",
      "ogod\n",
      "ogdo\n",
      "oogd\n",
      "oodg\n",
      "odgo\n",
      "odog\n",
      "ogod\n",
      "ogdo\n",
      "oogd\n",
      "oodg\n",
      "odgo\n",
      "odog\n",
      "dgoo\n",
      "dgoo\n",
      "dogo\n",
      "doog\n",
      "dogo\n",
      "doog\n"
     ]
    }
   ],
   "source": [
    "def get_permutations(input_str):\n",
    "    if len(input_str) == 0:\n",
    "        return [\"\"]\n",
    "    \n",
    "    # Initialize an empty list to store permutations\n",
    "    permutations = []\n",
    "\n",
    "    for i in range(len(input_str)):\n",
    "        # Extract the current character\n",
    "        current_char = input_str[i]\n",
    "\n",
    "        # Generate permutations of the remaining characters\n",
    "        remaining_chars = input_str[:i] + input_str[i + 1:]\n",
    "        sub_permutations = get_permutations(remaining_chars)\n",
    "\n",
    "        # Combine the current character with each permutation of the remaining characters\n",
    "        for sub_permutation in sub_permutations:\n",
    "            permutations.append(current_char + sub_permutation)\n",
    "\n",
    "    return permutations\n",
    "\n",
    "# Input: Get a string from the user\n",
    "user_input = input(\"Enter a string: \")\n",
    "\n",
    "# Call the get_permutations function to find all permutations\n",
    "all_permutations = get_permutations(user_input)\n",
    "\n",
    "# Display all permutations\n",
    "print(\"All permutations of the string:\")\n",
    "for perm in all_permutations:\n",
    "    print(perm)\n"
   ]
  },
  {
   "cell_type": "code",
   "execution_count": null,
   "id": "4563fd15-9db0-4599-bdb6-a2e9912680f6",
   "metadata": {},
   "outputs": [],
   "source": [
    "Write a recursive Python function to check if a string is a palindrome."
   ]
  },
  {
   "cell_type": "code",
   "execution_count": 2,
   "id": "f6beacd0-0e5b-466b-ae01-834dabd4eff2",
   "metadata": {},
   "outputs": [
    {
     "name": "stdin",
     "output_type": "stream",
     "text": [
      "Enter a string:  naman\n"
     ]
    },
    {
     "name": "stdout",
     "output_type": "stream",
     "text": [
      "naman is a palindrome.\n"
     ]
    }
   ],
   "source": [
    "def is_palindrome(input_str):\n",
    "    # Base case: An empty string or a string with one character is a palindrome\n",
    "    if len(input_str) <= 1:\n",
    "        return True\n",
    "\n",
    "    # Check if the first and last characters are the same\n",
    "    if input_str[0] == input_str[-1]:\n",
    "        # Recursively check the substring without the first and last characters\n",
    "        return is_palindrome(input_str[1:-1])\n",
    "    else:\n",
    "        return False\n",
    "\n",
    "# Input: Get a string from the user\n",
    "user_input = input(\"Enter a string: \")\n",
    "\n",
    "# Call the is_palindrome function to check if it's a palindrome\n",
    "if is_palindrome(user_input):\n",
    "    print(f\"{user_input} is a palindrome.\")\n",
    "else:\n",
    "    print(f\"{user_input} is not a palindrome.\")\n"
   ]
  },
  {
   "cell_type": "code",
   "execution_count": null,
   "id": "25e2e026-2ff8-492e-b508-4a6c96cf6473",
   "metadata": {},
   "outputs": [],
   "source": [
    "Create a recursive Python function to generate all possible combinations of a list of elements"
   ]
  },
  {
   "cell_type": "code",
   "execution_count": 5,
   "id": "025376d1-c9b1-48e7-8423-007fb5c917eb",
   "metadata": {},
   "outputs": [
    {
     "name": "stdout",
     "output_type": "stream",
     "text": [
      "All possible 2-element combinations of ['A', 'B', 'C']:\n",
      "['B', 'C']\n",
      "['A', 'C']\n",
      "['A', 'B']\n"
     ]
    }
   ],
   "source": [
    "def get_combinations(elements, r):\n",
    "    if r == 0:\n",
    "        return [[]]\n",
    "    if not elements:\n",
    "        return []\n",
    "\n",
    "    first, rest = elements[0], elements[1:]\n",
    "\n",
    "    without_first = get_combinations(rest, r)\n",
    "    with_first = get_combinations(rest, r - 1)\n",
    "\n",
    "    with_first = [[first] + combination for combination in with_first]\n",
    "\n",
    "    return without_first + with_first\n",
    "\n",
    "# Input elements and length of combinations\n",
    "elements = [\"A\", \"B\", \"C\"]\n",
    "r = 2\n",
    "\n",
    "# Call the get_combinations function to generate all combinations\n",
    "combinations = get_combinations(elements, r)\n",
    "\n",
    "# Display all combinations\n",
    "print(f\"All possible {r}-element combinations of {elements}:\")\n",
    "for combination in combinations:\n",
    "    print(combination)\n"
   ]
  },
  {
   "cell_type": "code",
   "execution_count": null,
   "id": "05f9be86-4114-4c78-b1cd-27468d94c41f",
   "metadata": {},
   "outputs": [],
   "source": [
    "Basics of Functions:"
   ]
  },
  {
   "cell_type": "code",
   "execution_count": null,
   "id": "4057da5b-2cf0-4c43-998e-1aa5da0a91cc",
   "metadata": {},
   "outputs": [],
   "source": [
    "What is a function in Python, and why is it used?"
   ]
  },
  {
   "cell_type": "code",
   "execution_count": null,
   "id": "c951e6f9-7320-42e3-b823-4d68566cf7e7",
   "metadata": {},
   "outputs": [],
   "source": [
    "In Python, a function is a self-contained block of code that performs a specific task or a set of tasks. \n",
    "Functions are used to organize code into manageable and reusable blocks, making it easier to read, maintain, and debug a program. \n",
    "Functions are a fundamental concept in Python and are widely used for various purposes."
   ]
  },
  {
   "cell_type": "code",
   "execution_count": null,
   "id": "091074e9-56a0-453b-b660-48248ca04144",
   "metadata": {},
   "outputs": [],
   "source": [
    "How do you define a function in Python? Provide an example."
   ]
  },
  {
   "cell_type": "code",
   "execution_count": null,
   "id": "a7dda823-8d7e-4e16-9099-078fa78b0330",
   "metadata": {},
   "outputs": [],
   "source": [
    "In Python, you can define a function using the def keyword followed by the function name, parameters in parentheses, a colon, and the body of the function."
   ]
  },
  {
   "cell_type": "code",
   "execution_count": 1,
   "id": "81edc9e4-138c-4f2c-82b2-dd912c96a47d",
   "metadata": {},
   "outputs": [
    {
     "name": "stdout",
     "output_type": "stream",
     "text": [
      "Sum: 8\n"
     ]
    }
   ],
   "source": [
    "def add_numbers(x, y):\n",
    "    sum_result = x + y\n",
    "    return sum_result\n",
    "\n",
    "# Example usage\n",
    "result = add_numbers(3, 5)\n",
    "print(\"Sum:\", result)\n"
   ]
  },
  {
   "cell_type": "code",
   "execution_count": null,
   "id": "e350184e-3381-4c9b-a736-75dadf87e2ee",
   "metadata": {},
   "outputs": [],
   "source": [
    "Explain the difference between a function definition and a function call"
   ]
  },
  {
   "cell_type": "code",
   "execution_count": null,
   "id": "6cc05490-0608-4115-9f83-6926f97518e5",
   "metadata": {},
   "outputs": [],
   "source": [
    "The function definition defines the structure and behavior of the function, specifying what the function does and how it does it. \n",
    "On the other hand, the function call is the actual execution of the function, using it to perform a specific task."
   ]
  },
  {
   "cell_type": "code",
   "execution_count": null,
   "id": "624400b3-2d33-4c62-bd23-5447a95ee6e2",
   "metadata": {},
   "outputs": [],
   "source": [
    "Write a Python program that defines a function to calculate the sum of two numbers and then calls the function"
   ]
  },
  {
   "cell_type": "code",
   "execution_count": 2,
   "id": "3a44a9ba-5099-46f3-91c3-d3d8431199af",
   "metadata": {},
   "outputs": [
    {
     "name": "stdin",
     "output_type": "stream",
     "text": [
      "Enter the first number:  8\n",
      "Enter the second number:  78\n"
     ]
    },
    {
     "name": "stdout",
     "output_type": "stream",
     "text": [
      "The sum of 8.0 and 78.0 is: 86.0\n"
     ]
    }
   ],
   "source": [
    "def calculate_sum(x, y):\n",
    "    # Function to calculate the sum of two numbers\n",
    "    result = x + y\n",
    "    return result\n",
    "\n",
    "# Get user input for two numbers\n",
    "num1 = float(input(\"Enter the first number: \"))\n",
    "num2 = float(input(\"Enter the second number: \"))\n",
    "\n",
    "# Call the calculate_sum function\n",
    "sum_result = calculate_sum(num1, num2)\n",
    "\n",
    "# Display the result\n",
    "print(f\"The sum of {num1} and {num2} is: {sum_result}\")\n"
   ]
  },
  {
   "cell_type": "code",
   "execution_count": null,
   "id": "cb3968e2-2b0e-45f2-97b0-373c61d55cd6",
   "metadata": {},
   "outputs": [],
   "source": [
    "What is a function signature, and what information does it typically include?"
   ]
  },
  {
   "cell_type": "code",
   "execution_count": null,
   "id": "3b98e313-9a17-46a0-a035-d852ff293202",
   "metadata": {},
   "outputs": [],
   "source": [
    "A function signature in programming, also known as a function prototype or declaration, defines the essential characteristics of a function without specifying the actual implementation."
   ]
  },
  {
   "cell_type": "code",
   "execution_count": null,
   "id": "6daf8d78-d247-4b29-84de-dedb3560d24e",
   "metadata": {},
   "outputs": [],
   "source": [
    "Create a Python function that takes two arguments and returns their product."
   ]
  },
  {
   "cell_type": "code",
   "execution_count": 3,
   "id": "5754fed8-ff77-466e-867e-4099363f3c5a",
   "metadata": {},
   "outputs": [
    {
     "name": "stdin",
     "output_type": "stream",
     "text": [
      "Enter the first number:  14\n",
      "Enter the second number:  2\n"
     ]
    },
    {
     "name": "stdout",
     "output_type": "stream",
     "text": [
      "The product of 14.0 and 2.0 is: 28.0\n"
     ]
    }
   ],
   "source": [
    "def calculate_product(x, y):\n",
    "    \"\"\"\n",
    "    Calculates the product of two numbers.\n",
    "\n",
    "    Parameters:\n",
    "    - x (float or int): The first number.\n",
    "    - y (float or int): The second number.\n",
    "\n",
    "    Returns:\n",
    "    float or int: The product of x and y.\n",
    "    \"\"\"\n",
    "    product_result = x * y\n",
    "    return product_result\n",
    "\n",
    "# Example usage\n",
    "num1 = float(input(\"Enter the first number: \"))\n",
    "num2 = float(input(\"Enter the second number: \"))\n",
    "\n",
    "result = calculate_product(num1, num2)\n",
    "\n",
    "print(f\"The product of {num1} and {num2} is: {result}\")\n"
   ]
  },
  {
   "cell_type": "code",
   "execution_count": null,
   "id": "ad849f98-e6c6-4d17-b01a-dc6d63af599d",
   "metadata": {},
   "outputs": [],
   "source": [
    "Function Parameters and Arguments:`"
   ]
  },
  {
   "cell_type": "code",
   "execution_count": null,
   "id": "00f5f70a-9e57-4550-a253-cc0e3ab22f0b",
   "metadata": {},
   "outputs": [],
   "source": [
    "Explain the concepts of formal parameters and actual arguments in Python functions."
   ]
  },
  {
   "cell_type": "code",
   "execution_count": null,
   "id": "ee322942-d830-42ba-bf31-92472ca8fce8",
   "metadata": {},
   "outputs": [],
   "source": [
    "Formal parameters are the variables listed in the function definition. \n",
    "They act as placeholders for the values that will be provided when the function is called.\n",
    "\n",
    "Actual arguments, often simply referred to as arguments, are the values that are passed to the function when it is called. \n",
    "These values are substituted for the corresponding formal parameters in the function."
   ]
  },
  {
   "cell_type": "code",
   "execution_count": null,
   "id": "5aa4f9db-1c8f-4b41-8256-7be5cb8d9594",
   "metadata": {},
   "outputs": [],
   "source": [
    "Write a Python program that defines a function with default argument values."
   ]
  },
  {
   "cell_type": "code",
   "execution_count": 4,
   "id": "8e26d1c0-4901-4a69-988e-df7122719f67",
   "metadata": {},
   "outputs": [
    {
     "name": "stdin",
     "output_type": "stream",
     "text": [
      "Enter your name:  ayan\n"
     ]
    },
    {
     "name": "stdout",
     "output_type": "stream",
     "text": [
      "Hello, ayan!\n"
     ]
    }
   ],
   "source": [
    "def greet(name, greeting=\"Hello\"):\n",
    "    \"\"\"\n",
    "    Greets a person with a specified greeting.\n",
    "\n",
    "    Parameters:\n",
    "    - name (str): The name of the person.\n",
    "    - greeting (str): The greeting message. Default is \"Hello\".\n",
    "\n",
    "    Returns:\n",
    "    str: The complete greeting message.\n",
    "    \"\"\"\n",
    "    complete_greeting = f\"{greeting}, {name}!\"\n",
    "    return complete_greeting\n",
    "\n",
    "# Example usage without providing the 'greeting' argument\n",
    "name_input = input(\"Enter your name: \")\n",
    "result = greet(name_input)\n",
    "\n",
    "# Display the result\n",
    "print(result)\n"
   ]
  },
  {
   "cell_type": "code",
   "execution_count": null,
   "id": "18a1ce39-4b48-479c-af67-88b1981abe4d",
   "metadata": {},
   "outputs": [],
   "source": [
    "How do you use keyword arguments in Python function calls? Provide an example."
   ]
  },
  {
   "cell_type": "code",
   "execution_count": 6,
   "id": "9f81b832-c0be-4f7a-89c2-d7381ae2b83a",
   "metadata": {},
   "outputs": [
    {
     "name": "stdout",
     "output_type": "stream",
     "text": [
      "Ayan is 25 years old, lives in jamshedpur, Unknown.\n"
     ]
    }
   ],
   "source": [
    "def display_info(name, age, city=\"Unknown\", country=\"Unknown\"):\n",
    "    \"\"\"\n",
    "    Displays information about a person.\n",
    "\n",
    "    Parameters:\n",
    "    - name (str): The name of the person.\n",
    "    - age (int): The age of the person.\n",
    "    - city (str): The city where the person lives. Default is \"Unknown\".\n",
    "    - country (str): The country where the person lives. Default is \"Unknown\".\n",
    "\n",
    "    Returns:\n",
    "    str: A formatted string with the person's information.\n",
    "    \"\"\"\n",
    "    info = f\"{name} is {age} years old, lives in {city}, {country}.\"\n",
    "    return info\n",
    "\n",
    "# Example usage with keyword arguments\n",
    "result = display_info(name=\"Ayan\", age=25, city=\"jamshedpur\")\n",
    "\n",
    "# Display the result\n",
    "print(result)\n"
   ]
  },
  {
   "cell_type": "code",
   "execution_count": null,
   "id": "a291afb6-9f96-4cf6-9f46-374b94ee0e02",
   "metadata": {},
   "outputs": [],
   "source": [
    "Create a Python function that accepts a variable number of arguments and calculates their sum."
   ]
  },
  {
   "cell_type": "code",
   "execution_count": 7,
   "id": "9b780a83-0ebb-4e68-98d6-46e162739265",
   "metadata": {},
   "outputs": [
    {
     "name": "stdout",
     "output_type": "stream",
     "text": [
      "Sum 1: 6\n",
      "Sum 2: 22\n",
      "Sum 3: 50\n"
     ]
    }
   ],
   "source": [
    "def calculate_sum(*args):\n",
    "    \"\"\"\n",
    "    Calculates the sum of variable number of arguments.\n",
    "\n",
    "    Parameters:\n",
    "    - *args (float or int): Variable number of arguments.\n",
    "\n",
    "    Returns:\n",
    "    float or int: The sum of all the arguments.\n",
    "    \"\"\"\n",
    "    sum_result = sum(args)\n",
    "    return sum_result\n",
    "\n",
    "# Example usage with different numbers of arguments\n",
    "result1 = calculate_sum(1, 2, 3)\n",
    "result2 = calculate_sum(4, 5, 6, 7)\n",
    "result3 = calculate_sum(8, 9, 10, 11, 12)\n",
    "\n",
    "# Display the results\n",
    "print(\"Sum 1:\", result1)\n",
    "print(\"Sum 2:\", result2)\n",
    "print(\"Sum 3:\", result3)\n"
   ]
  },
  {
   "cell_type": "code",
   "execution_count": null,
   "id": "47410cf8-9447-4856-be6c-8596435b2361",
   "metadata": {},
   "outputs": [],
   "source": [
    "What is the purpose of the `*args` and `**kwargs` syntax in function parameter lists?"
   ]
  },
  {
   "cell_type": "code",
   "execution_count": null,
   "id": "473d3699-9f85-4d85-b79d-6280d5851cae",
   "metadata": {},
   "outputs": [],
   "source": [
    "The *args syntax allows a function to accept any number of positional arguments. \n",
    "The name args is a convention, and you can use any name preceded by a single asterisk (*).\n",
    "    \n",
    "The **kwargs syntax allows a function to accept any number of keyword arguments. \n",
    "The name kwargs is a convention, and you can use any name preceded by a double asterisk (**)."
   ]
  },
  {
   "cell_type": "code",
   "execution_count": null,
   "id": "b72d6774-efbf-4d32-966c-8b02e9fe2ede",
   "metadata": {},
   "outputs": [],
   "source": [
    "Return Values and Scoping:"
   ]
  },
  {
   "cell_type": "code",
   "execution_count": null,
   "id": "5107682a-4e88-479f-a8fd-0d65e7cb61de",
   "metadata": {},
   "outputs": [],
   "source": [
    "Describe the role of the `return` statement in Python functions and provide examples"
   ]
  },
  {
   "cell_type": "code",
   "execution_count": null,
   "id": "df74da20-fbfb-4121-b142-ee127d3d80df",
   "metadata": {},
   "outputs": [],
   "source": [
    "The return statement in Python functions is used to specify the value that a function should return to the caller.\n",
    "When a function encounters a return statement, it immediately exits, and the specified value (if any) is sent back to the point in the code where the function was called.\n"
   ]
  },
  {
   "cell_type": "code",
   "execution_count": 8,
   "id": "d7055668-7ff5-44f1-badf-5d070565bb5b",
   "metadata": {},
   "outputs": [
    {
     "name": "stdout",
     "output_type": "stream",
     "text": [
      "Sum: 8\n"
     ]
    }
   ],
   "source": [
    "def add_numbers(x, y):\n",
    "    result = x + y\n",
    "    return result\n",
    "\n",
    "sum_result = add_numbers(3, 5)\n",
    "print(\"Sum:\", sum_result)\n"
   ]
  },
  {
   "cell_type": "code",
   "execution_count": null,
   "id": "744170d6-187b-4569-adf0-999231035b82",
   "metadata": {},
   "outputs": [],
   "source": [
    "Explain the concept of variable scope in Python, including local and global variables."
   ]
  },
  {
   "cell_type": "code",
   "execution_count": null,
   "id": "210a5e63-db0d-44d2-860e-76f18519591e",
   "metadata": {},
   "outputs": [],
   "source": [
    "Variable scope in Python refers to the region or context in which a variable is defined and can be accessed.\n",
    "Python has two main types of variable scope: local scope and global scope.\n",
    "\n",
    "A local variable is a variable that is defined within a specific block of code, such as a function. \n",
    "It is only accessible within that block and cannot be accessed from outside.\n",
    "\n",
    "A global variable is a variable that is defined at the top level of a script or module. \n",
    "It is accessible from any part of the code, both inside and outside functions."
   ]
  },
  {
   "cell_type": "code",
   "execution_count": null,
   "id": "11e3f964-2e25-4753-aaa5-a1f99835ee28",
   "metadata": {},
   "outputs": [],
   "source": [
    "Write a Python program that demonstrates the use of global variables within functions"
   ]
  },
  {
   "cell_type": "code",
   "execution_count": 9,
   "id": "bda3f57d-a326-4c97-98e1-8cc5a303baed",
   "metadata": {},
   "outputs": [
    {
     "name": "stdout",
     "output_type": "stream",
     "text": [
      "Before function call: 42\n",
      "Inside the function: 42\n",
      "Modified inside the function: 10\n",
      "After function call: 10\n"
     ]
    }
   ],
   "source": [
    "# Global variable\n",
    "global_variable = 42\n",
    "\n",
    "def print_global_variable():\n",
    "    # Accessing the global variable within the function\n",
    "    print(\"Inside the function:\", global_variable)\n",
    "\n",
    "def modify_global_variable():\n",
    "    # Modifying the global variable within the function\n",
    "    global global_variable\n",
    "    global_variable = 10\n",
    "    print(\"Modified inside the function:\", global_variable)\n",
    "\n",
    "# Display the initial value of the global variable\n",
    "print(\"Before function call:\", global_variable)\n",
    "\n",
    "# Call the function to print the global variable\n",
    "print_global_variable()\n",
    "\n",
    "# Call the function to modify the global variable\n",
    "modify_global_variable()\n",
    "\n",
    "# Display the modified value of the global variable\n",
    "print(\"After function call:\", global_variable)\n"
   ]
  },
  {
   "cell_type": "code",
   "execution_count": null,
   "id": "39b5063b-05a1-4cf6-a485-ef9fff7a4fad",
   "metadata": {},
   "outputs": [],
   "source": [
    "Create a Python function that calculates the factorial of a number and returns it."
   ]
  },
  {
   "cell_type": "code",
   "execution_count": null,
   "id": "5e9c8111-3de5-4dc5-8e24-0852c090fee0",
   "metadata": {},
   "outputs": [],
   "source": [
    "def calculate_factorial(n):\n",
    "    \"\"\"\n",
    "    Calculates the factorial of a non-negative integer.\n",
    "\n",
    "    Parameters:\n",
    "    - n (int): The non-negative integer for which to calculate the factorial.\n",
    "\n",
    "    Returns:\n",
    "    int: The factorial of n.\n",
    "    \"\"\"\n",
    "    if n == 0 or n == 1:\n",
    "        return 1\n",
    "    else:\n",
    "        return n * calculate_factorial(n - 1)\n",
    "\n",
    "# Example usage\n",
    "number = int(input(\"Enter a non-negative integer: \"))\n",
    "\n",
    "# Calculate and display the factorial\n",
    "factorial_result = calculate_factorial(number)\n",
    "print(f\"The factorial of {number} is: {factorial_result}\")\n"
   ]
  },
  {
   "cell_type": "code",
   "execution_count": null,
   "id": "ee557af0-8685-4285-9bf4-8dd29da174aa",
   "metadata": {},
   "outputs": [],
   "source": [
    "How can you access variables defined outside a function from within the function?"
   ]
  },
  {
   "cell_type": "code",
   "execution_count": null,
   "id": "516a09f1-72c1-4120-9ab5-f3504c404d43",
   "metadata": {},
   "outputs": [],
   "source": [
    "In Python, you can access variables defined outside a function from within the function by using the global keyword or by simply referencing the variable without using global. \n",
    "The way you access external variables depends on whether you want to modify them within the function or just read their values."
   ]
  },
  {
   "cell_type": "code",
   "execution_count": null,
   "id": "3eda9507-58c8-4773-bc23-b39ba8087b17",
   "metadata": {},
   "outputs": [],
   "source": [
    "Lambda Functions and Higher-Order Functions:"
   ]
  },
  {
   "cell_type": "code",
   "execution_count": null,
   "id": "c2dd63f4-eb19-49d5-90f3-c358fa95732b",
   "metadata": {},
   "outputs": [],
   "source": [
    "What are lambda functions in Python, and when are they typically used?"
   ]
  },
  {
   "cell_type": "code",
   "execution_count": null,
   "id": "d75d8ee1-60ee-48e3-9d2a-3de45b6c0d2b",
   "metadata": {},
   "outputs": [],
   "source": [
    "Lambda functions in Python, also known as anonymous functions, are small, inline functions defined using the lambda keyword.\n",
    "Unlike regular functions created with the def keyword, lambda functions are concise and designed for simple operations.\n",
    "\n",
    "They are often used for short-lived tasks where a full function definition is not required."
   ]
  },
  {
   "cell_type": "code",
   "execution_count": null,
   "id": "526115c7-c741-4cae-84ce-b5cb1705e178",
   "metadata": {},
   "outputs": [],
   "source": [
    "Write a Python program that uses lambda functions to sort a list of tuples based on the second element."
   ]
  },
  {
   "cell_type": "code",
   "execution_count": 10,
   "id": "49a97033-ee0b-4415-b1e7-c691fa9940a8",
   "metadata": {},
   "outputs": [
    {
     "name": "stdout",
     "output_type": "stream",
     "text": [
      "Sorted Students (based on age): [('David', 19), ('Bob', 20), ('Charlie', 22), ('Alice', 25)]\n"
     ]
    }
   ],
   "source": [
    "# List of tuples\n",
    "students = [('Alice', 25), ('Bob', 20), ('Charlie', 22), ('David', 19)]\n",
    "\n",
    "# Sorting based on the second element (age) of each tuple using lambda\n",
    "sorted_students = sorted(students, key=lambda x: x[1])\n",
    "\n",
    "# Display the sorted list\n",
    "print(\"Sorted Students (based on age):\", sorted_students)\n"
   ]
  },
  {
   "cell_type": "code",
   "execution_count": null,
   "id": "5e72ea3a-d052-40b5-bc05-44573c7332a8",
   "metadata": {},
   "outputs": [],
   "source": [
    "Explain the concept of higher-order functions in Python, and provide an example."
   ]
  },
  {
   "cell_type": "code",
   "execution_count": null,
   "id": "e13e66ab-e593-4a2b-a057-6ad1d67256e4",
   "metadata": {},
   "outputs": [],
   "source": [
    "In Python, a higher-order function is a function that can take one or more functions as arguments or can return a function as its result. \n",
    "Essentially, it treats functions as first-class citizens, allowing them to be used and manipulated like any other data type."
   ]
  },
  {
   "cell_type": "code",
   "execution_count": 12,
   "id": "e1ab4a1e-aa38-4c22-923c-44fb7339329f",
   "metadata": {},
   "outputs": [
    {
     "name": "stdout",
     "output_type": "stream",
     "text": [
      "Result of multiplication: 15\n"
     ]
    }
   ],
   "source": [
    "def apply_operation(x, y, operation):\n",
    "    \"\"\"\n",
    "    Applies the specified operation function to two operands.\n",
    "\n",
    "    Parameters:\n",
    "    - x (int): The first operand.\n",
    "    - y (int): The second operand.\n",
    "    - operation (function): The operation function to be applied.\n",
    "\n",
    "    Returns:\n",
    "    int: Result of the operation.\n",
    "    \"\"\"\n",
    "    return operation(x, y)\n",
    "\n",
    "def multiply(x, y):\n",
    "    return x * y\n",
    "\n",
    "# Applying the multiply operation\n",
    "result_multiply = apply_operation(3, 5, multiply)\n",
    "print(\"Result of multiplication:\", result_multiply)\n"
   ]
  },
  {
   "cell_type": "code",
   "execution_count": null,
   "id": "f74594dd-88bb-43af-b3db-7fdf490ab54b",
   "metadata": {},
   "outputs": [],
   "source": [
    "Create a Python function that takes a list of numbers and a function as arguments, applying the function to each element in the list."
   ]
  },
  {
   "cell_type": "code",
   "execution_count": 13,
   "id": "f3f81db3-3d56-4080-b7c9-8c635ae6e187",
   "metadata": {},
   "outputs": [
    {
     "name": "stdout",
     "output_type": "stream",
     "text": [
      "Original List: [1, 2, 3, 4, 5]\n",
      "Squared Result: [1, 4, 9, 16, 25]\n"
     ]
    }
   ],
   "source": [
    "def apply_function_to_list(numbers, custom_function):\n",
    "    \"\"\"\n",
    "    Applies a specified function to each element in a list of numbers.\n",
    "\n",
    "    Parameters:\n",
    "    - numbers (list): List of numbers.\n",
    "    - custom_function (function): The function to be applied to each element.\n",
    "\n",
    "    Returns:\n",
    "    list: List of results after applying the function to each element.\n",
    "    \"\"\"\n",
    "    result = [custom_function(x) for x in numbers]\n",
    "    return result\n",
    "\n",
    "# Example usage with a custom function\n",
    "def square(x):\n",
    "    return x**2\n",
    "\n",
    "# List of numbers\n",
    "numbers_list = [1, 2, 3, 4, 5]\n",
    "\n",
    "# Applying the square function to each element in the list\n",
    "squared_result = apply_function_to_list(numbers_list, square)\n",
    "\n",
    "# Displaying the original list and the result after applying the function\n",
    "print(\"Original List:\", numbers_list)\n",
    "print(\"Squared Result:\", squared_result)\n"
   ]
  },
  {
   "cell_type": "code",
   "execution_count": null,
   "id": "b646cfe2-58a4-46f1-882a-1538865cbfb3",
   "metadata": {},
   "outputs": [],
   "source": [
    "Built-in Functions:"
   ]
  },
  {
   "cell_type": "code",
   "execution_count": null,
   "id": "f580f559-d007-408d-ac70-5512d0a65705",
   "metadata": {},
   "outputs": [],
   "source": [
    "Describe the role of built-in functions like `len()`, `max()`, and `min()` in Python."
   ]
  },
  {
   "cell_type": "code",
   "execution_count": null,
   "id": "ff79d82b-2f72-4d8f-91bf-e69fae98d575",
   "metadata": {},
   "outputs": [],
   "source": [
    "The len() function is used to get the length (the number of items) of an object, such as a string, list, tuple, or dictionary.\n",
    "\n",
    "The max() function is used to find the maximum value among the arguments or the maximum value within an iterable (e.g., list, tuple).\n",
    "\n",
    "The min() function is used to find the minimum value among the arguments or the minimum value within an iterable."
   ]
  },
  {
   "cell_type": "code",
   "execution_count": null,
   "id": "34216073-8ef3-4e0f-9808-7e03b9c616ef",
   "metadata": {},
   "outputs": [],
   "source": [
    "Write a Python program that uses the `map()` function to apply a function to each element of a list."
   ]
  },
  {
   "cell_type": "code",
   "execution_count": 14,
   "id": "54b33908-a87a-447e-b83e-83b9381d8f1d",
   "metadata": {},
   "outputs": [
    {
     "name": "stdout",
     "output_type": "stream",
     "text": [
      "Original List: [1, 2, 3, 4, 5]\n",
      "Squared Result: [1, 4, 9, 16, 25]\n"
     ]
    }
   ],
   "source": [
    "# Custom function to square a number\n",
    "def square(x):\n",
    "    return x**2\n",
    "\n",
    "# List of numbers\n",
    "numbers = [1, 2, 3, 4, 5]\n",
    "\n",
    "# Using map() to apply the square function to each element in the list\n",
    "squared_numbers = list(map(square, numbers))\n",
    "\n",
    "# Displaying the original list and the result after applying the function\n",
    "print(\"Original List:\", numbers)\n",
    "print(\"Squared Result:\", squared_numbers)\n"
   ]
  },
  {
   "cell_type": "code",
   "execution_count": null,
   "id": "dc54b142-e226-4141-9292-33486d6b1293",
   "metadata": {},
   "outputs": [],
   "source": [
    "How does the `filter()` function work in Python, and when would you use it?"
   ]
  },
  {
   "cell_type": "code",
   "execution_count": null,
   "id": "760d42fb-4fdc-4c69-914e-030bb9eb0be4",
   "metadata": {},
   "outputs": [],
   "source": [
    "The filter() function in Python is used to filter elements from an iterable (e.g., list, tuple) based on a specified function or condition. \n",
    "It constructs an iterator from elements of the iterable for which the function returns True.\n",
    "\n",
    "Use filter() when you want to include or exclude elements from a collection based on a specific condition or criteria."
   ]
  },
  {
   "cell_type": "code",
   "execution_count": null,
   "id": "d9892cbb-01a9-4e26-aea9-ff2e6221a0ea",
   "metadata": {},
   "outputs": [],
   "source": [
    "Create a Python program that uses the `reduce()` function to find the product of all elements in a list."
   ]
  },
  {
   "cell_type": "code",
   "execution_count": 15,
   "id": "4a7716dd-27be-495f-9c54-1fa889658688",
   "metadata": {},
   "outputs": [
    {
     "name": "stdout",
     "output_type": "stream",
     "text": [
      "Original List: [2, 3, 4, 5]\n",
      "Product Result: 120\n"
     ]
    }
   ],
   "source": [
    "from functools import reduce\n",
    "\n",
    "# List of numbers\n",
    "numbers = [2, 3, 4, 5]\n",
    "\n",
    "# Using reduce() to find the product of all elements in the list\n",
    "product_result = reduce(lambda x, y: x * y, numbers, 1)\n",
    "\n",
    "# Displaying the original list and the result\n",
    "print(\"Original List:\", numbers)\n",
    "print(\"Product Result:\", product_result)\n"
   ]
  },
  {
   "cell_type": "code",
   "execution_count": null,
   "id": "c513bd66-8422-432e-98f5-0757d636fa93",
   "metadata": {},
   "outputs": [],
   "source": [
    "Function Documentation and Best Practices:"
   ]
  },
  {
   "cell_type": "code",
   "execution_count": null,
   "id": "54051258-36c8-4319-ba82-4a66fda71a23",
   "metadata": {},
   "outputs": [],
   "source": [
    "Explain the purpose of docstrings in Python functions and how to write them."
   ]
  },
  {
   "cell_type": "code",
   "execution_count": null,
   "id": "dfdccb4d-8a32-41de-8234-644fd8248aa9",
   "metadata": {},
   "outputs": [],
   "source": [
    "Docstrings (documentation strings) in Python are used to provide documentation and information about a function, module, class, or method.\n",
    "Docstrings provide a concise and clear description of the purpose, usage, and behavior of a function or module. \n",
    "\n",
    "Docstrings are enclosed in triple double-quotes (\"\"\").\n",
    "The docstring should start with a concise one-line summary followed by a more detailed description.\n",
    "Sections like \"Parameters,\" \"Returns,\" and \"Examples\" may be included to provide additional information."
   ]
  },
  {
   "cell_type": "code",
   "execution_count": null,
   "id": "6eaf631e-7325-464e-8a2e-17bfe68a1cba",
   "metadata": {},
   "outputs": [],
   "source": [
    "Describe some best practices for naming functions and variables in Python, including naming conventions and guidelines."
   ]
  },
  {
   "cell_type": "code",
   "execution_count": null,
   "id": "4ef6dc37-6ad5-45ea-a9f0-862cf96d5ef4",
   "metadata": {},
   "outputs": [],
   "source": [
    "Choose names that clearly and accurately describe the purpose or functionality of the function or variable.\n",
    "Avoid single-letter variable names unless they are used as iterators in short loops.\n",
    "\n",
    "Use lowercase with underscores for function and variable names (snake_case).\n",
    "Functions: calculate_area, process_data.\n",
    "Variables: user_input, total_sum.\n",
    "\n",
    "Use all uppercase with underscores for constants.\n",
    "Constants: MAX_LIMIT, PI_VALUE.\n",
    "Constants are usually defined at the module level and not inside functions or methods."
   ]
  }
 ],
 "metadata": {
  "kernelspec": {
   "display_name": "Python 3 (ipykernel)",
   "language": "python",
   "name": "python3"
  },
  "language_info": {
   "codemirror_mode": {
    "name": "ipython",
    "version": 3
   },
   "file_extension": ".py",
   "mimetype": "text/x-python",
   "name": "python",
   "nbconvert_exporter": "python",
   "pygments_lexer": "ipython3",
   "version": "3.10.8"
  }
 },
 "nbformat": 4,
 "nbformat_minor": 5
}
