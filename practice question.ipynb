{
 "cells": [
  {
   "cell_type": "markdown",
   "id": "4748e933-dbfd-471e-a955-034afb37ea4e",
   "metadata": {},
   "source": [
    "TOPIC: String Based Assignment Problem"
   ]
  },
  {
   "cell_type": "code",
   "execution_count": null,
   "id": "d58fb6ee-e29c-4b43-a6af-85f2645484ac",
   "metadata": {},
   "outputs": [],
   "source": [
    "1. Write a program to reverse a string."
   ]
  },
  {
   "cell_type": "code",
   "execution_count": 3,
   "id": "38073dfb-20f9-4dd8-81cc-3540b0817e6d",
   "metadata": {},
   "outputs": [
    {
     "name": "stdin",
     "output_type": "stream",
     "text": [
      "Enter a string:-  naman\n"
     ]
    },
    {
     "name": "stdout",
     "output_type": "stream",
     "text": [
      "The string provided is  naman\n"
     ]
    }
   ],
   "source": [
    "string=input(\"Enter a string:- \")\n",
    "print(\"The string provided is \",string)"
   ]
  },
  {
   "cell_type": "code",
   "execution_count": 4,
   "id": "6c6b634b-25e3-4d8b-88d9-1c2cb5b6090f",
   "metadata": {},
   "outputs": [
    {
     "name": "stdout",
     "output_type": "stream",
     "text": [
      "The string reversed is  naman\n"
     ]
    }
   ],
   "source": [
    "rev=string[::-1]\n",
    "print(\"The string reversed is \",rev) "
   ]
  },
  {
   "cell_type": "code",
   "execution_count": null,
   "id": "73e62601-0176-4a5d-99a9-25c1d7d5cc69",
   "metadata": {},
   "outputs": [],
   "source": [
    "2. Check if a string is a palindrome."
   ]
  },
  {
   "cell_type": "code",
   "execution_count": 5,
   "id": "446c972f-8b4d-4334-be29-6a7028d6c7da",
   "metadata": {},
   "outputs": [
    {
     "name": "stdin",
     "output_type": "stream",
     "text": [
      "Enter a string:-  hello_world\n"
     ]
    },
    {
     "name": "stdout",
     "output_type": "stream",
     "text": [
      "The string provided is  hello_world\n"
     ]
    }
   ],
   "source": [
    "string=input(\"Enter a string:- \")\n",
    "print(\"The string provided is \",string)"
   ]
  },
  {
   "cell_type": "code",
   "execution_count": 6,
   "id": "dcd2af07-5e28-449b-a37b-81c68f58cb18",
   "metadata": {},
   "outputs": [
    {
     "name": "stdout",
     "output_type": "stream",
     "text": [
      "The string is not palindrome\n"
     ]
    }
   ],
   "source": [
    "rev=string[::-1]\n",
    "if rev == string:\n",
    "    print(\"The string is palindrome\")\n",
    "else:\n",
    "    print(\"The string is not palindrome\")"
   ]
  },
  {
   "cell_type": "code",
   "execution_count": null,
   "id": "e91bfe12-8fa2-4f29-affd-dd94a1723b5a",
   "metadata": {},
   "outputs": [],
   "source": [
    "3. Convert a string to uppercase."
   ]
  },
  {
   "cell_type": "code",
   "execution_count": 7,
   "id": "8fb053a0-02c7-40c1-8f0e-1266f9aef086",
   "metadata": {},
   "outputs": [
    {
     "name": "stdin",
     "output_type": "stream",
     "text": [
      "Enter a string:-  hello \n"
     ]
    },
    {
     "name": "stdout",
     "output_type": "stream",
     "text": [
      "The string provided is  hello \n"
     ]
    }
   ],
   "source": [
    "string=input(\"Enter a string:- \")\n",
    "print(\"The string provided is \",string)"
   ]
  },
  {
   "cell_type": "code",
   "execution_count": 9,
   "id": "9bab38d5-4fb0-4ecf-941a-ec9c97d38e6d",
   "metadata": {},
   "outputs": [
    {
     "name": "stdout",
     "output_type": "stream",
     "text": [
      "The string in uppercase case is :-  HELLO \n"
     ]
    }
   ],
   "source": [
    "string_upper=string.upper()\n",
    "print(\"The string in uppercase case is :- \",string_upper)"
   ]
  },
  {
   "cell_type": "code",
   "execution_count": null,
   "id": "50d401ae-4de0-401f-93cf-595427016824",
   "metadata": {},
   "outputs": [],
   "source": [
    "4. Convert a string to lowercase."
   ]
  },
  {
   "cell_type": "code",
   "execution_count": 10,
   "id": "63506b46-78e7-4d89-9575-e7ee7588a889",
   "metadata": {},
   "outputs": [
    {
     "name": "stdin",
     "output_type": "stream",
     "text": [
      "Enter a string:-  HEllo\n"
     ]
    },
    {
     "name": "stdout",
     "output_type": "stream",
     "text": [
      "The string provided is  HEllo\n"
     ]
    }
   ],
   "source": [
    "string=input(\"Enter a string:- \")\n",
    "print(\"The string provided is \",string)"
   ]
  },
  {
   "cell_type": "code",
   "execution_count": 11,
   "id": "38dfdb66-398e-4693-be03-10663b5c3e95",
   "metadata": {},
   "outputs": [
    {
     "name": "stdout",
     "output_type": "stream",
     "text": [
      "The string in uppercase case is :-  hello\n"
     ]
    }
   ],
   "source": [
    "string_lower=string.lower()\n",
    "print(\"The string in uppercase case is :- \",string_lower)"
   ]
  },
  {
   "cell_type": "code",
   "execution_count": null,
   "id": "8f8ba214-de56-4836-a7f9-fa06e3d758f2",
   "metadata": {},
   "outputs": [],
   "source": [
    "5. Count the number of vowels in a string."
   ]
  },
  {
   "cell_type": "code",
   "execution_count": 12,
   "id": "4b2b5e56-012e-48eb-a27e-b64a422b6239",
   "metadata": {},
   "outputs": [
    {
     "name": "stdin",
     "output_type": "stream",
     "text": [
      "Enter a string:-  ayanmukherjee\n"
     ]
    },
    {
     "name": "stdout",
     "output_type": "stream",
     "text": [
      "The string provided is  ayanmukherjee\n"
     ]
    }
   ],
   "source": [
    "string=input(\"Enter a string:- \")\n",
    "print(\"The string provided is \",string)"
   ]
  },
  {
   "cell_type": "code",
   "execution_count": 13,
   "id": "acd310c1-186e-413e-afb0-91bb90e07c85",
   "metadata": {},
   "outputs": [
    {
     "name": "stdout",
     "output_type": "stream",
     "text": [
      "Number of 'a's:  2\n",
      "Number of 'e's:  3\n",
      "Number of 'i's:  0\n",
      "Number of 'o's:  0\n",
      "Number of 'u's:  1\n"
     ]
    }
   ],
   "source": [
    "string = string.lower()\n",
    "\n",
    "# Counting vowels using a count variable\n",
    "count_a = 0\n",
    "count_e = 0\n",
    "count_i = 0\n",
    "count_o = 0\n",
    "count_u = 0\n",
    "for char in string:\n",
    "    if char == 'a':\n",
    "        count_a += 1\n",
    "    elif char == 'e':\n",
    "        count_e += 1\n",
    "    elif char == 'i':\n",
    "        count_i += 1\n",
    "    elif char == 'o':\n",
    "        count_o += 1\n",
    "    elif char == 'u':\n",
    "        count_u += 1\n",
    "print(f\"Number of 'a's: \",count_a)\n",
    "print(f\"Number of 'e's: \",count_e)\n",
    "print(f\"Number of 'i's: \",count_i)\n",
    "print(f\"Number of 'o's: \",count_o)\n",
    "print(f\"Number of 'u's: \",count_u)"
   ]
  },
  {
   "cell_type": "code",
   "execution_count": null,
   "id": "8d4e42b7-1679-4529-8a50-9ba65e56e217",
   "metadata": {},
   "outputs": [],
   "source": [
    "6. Count the number of consonants in a string."
   ]
  },
  {
   "cell_type": "code",
   "execution_count": 14,
   "id": "c0f88472-b6a4-4d13-9720-2308d97f7efb",
   "metadata": {},
   "outputs": [
    {
     "name": "stdin",
     "output_type": "stream",
     "text": [
      "Enter a string:-  helloworld\n"
     ]
    },
    {
     "name": "stdout",
     "output_type": "stream",
     "text": [
      "The string provided is  helloworld\n"
     ]
    }
   ],
   "source": [
    "string=input(\"Enter a string:- \")\n",
    "print(\"The string provided is \",string)"
   ]
  },
  {
   "cell_type": "code",
   "execution_count": 18,
   "id": "49c55c2b-868a-42c9-b616-4fc71f7a5683",
   "metadata": {},
   "outputs": [
    {
     "name": "stdout",
     "output_type": "stream",
     "text": [
      "Number of consonants are: 7\n"
     ]
    }
   ],
   "source": [
    "con=0\n",
    "for i in range(len(string)):\n",
    "    if string[i] not in 'aeiouAEIOU':\n",
    "        con += 1\n",
    "\n",
    "print(\"Number of consonants are:\", con)"
   ]
  },
  {
   "cell_type": "code",
   "execution_count": null,
   "id": "8c9a88e9-7f4f-40d7-9b68-78e8596f769a",
   "metadata": {},
   "outputs": [],
   "source": [
    "7. Remove all whitespaces from a string."
   ]
  },
  {
   "cell_type": "code",
   "execution_count": 20,
   "id": "fb66a87b-6ff4-4141-be4c-c6986cc775ba",
   "metadata": {},
   "outputs": [
    {
     "name": "stdin",
     "output_type": "stream",
     "text": [
      "Enter a string:-  What a beautiful day\n"
     ]
    },
    {
     "name": "stdout",
     "output_type": "stream",
     "text": [
      "The string provided is  What a beautiful day\n"
     ]
    }
   ],
   "source": [
    "string=input(\"Enter a string:- \")\n",
    "print(\"The string provided is \",string)"
   ]
  },
  {
   "cell_type": "code",
   "execution_count": 21,
   "id": "cc5c96ba-e21b-4c8d-aaf5-e57dc4897cd6",
   "metadata": {},
   "outputs": [
    {
     "name": "stdout",
     "output_type": "stream",
     "text": [
      "The number of spaces are:-  3\n"
     ]
    }
   ],
   "source": [
    "sp_num=0\n",
    "for i in range(len(string)):\n",
    "    if string[i] == ' ':\n",
    "        sp_num+=1\n",
    "print(\"The number of spaces are:- \",sp_num)"
   ]
  },
  {
   "cell_type": "code",
   "execution_count": null,
   "id": "f02a1688-7b3e-4168-a62c-7f1b7290cdd1",
   "metadata": {},
   "outputs": [],
   "source": [
    "8. Find the length of a string without using the `len()` function."
   ]
  },
  {
   "cell_type": "code",
   "execution_count": 22,
   "id": "de6e1804-e2a2-49a1-bbbb-06e7ec51b958",
   "metadata": {},
   "outputs": [
    {
     "name": "stdin",
     "output_type": "stream",
     "text": [
      "Enter a string:-  apple\n"
     ]
    },
    {
     "name": "stdout",
     "output_type": "stream",
     "text": [
      "The string provided is  apple\n"
     ]
    }
   ],
   "source": [
    "string=input(\"Enter a string:- \")\n",
    "print(\"The string provided is \",string)"
   ]
  },
  {
   "cell_type": "code",
   "execution_count": 23,
   "id": "c36df8b8-4122-4340-a718-9e7d0bb0c594",
   "metadata": {},
   "outputs": [
    {
     "name": "stdout",
     "output_type": "stream",
     "text": [
      "The length of the string is :-  5\n"
     ]
    }
   ],
   "source": [
    "print(\"The length of the string is :- \",len(string))"
   ]
  },
  {
   "cell_type": "code",
   "execution_count": null,
   "id": "3c506c67-632e-442c-8598-06fcf240febb",
   "metadata": {},
   "outputs": [],
   "source": [
    "9. Check if a string contains a specific word."
   ]
  },
  {
   "cell_type": "code",
   "execution_count": 25,
   "id": "92971ca8-6d76-407b-b4cd-18262725fefb",
   "metadata": {},
   "outputs": [
    {
     "name": "stdin",
     "output_type": "stream",
     "text": [
      "Enter a string:-  What a beautiful day\n"
     ]
    },
    {
     "name": "stdout",
     "output_type": "stream",
     "text": [
      "The string provided is  What a beautiful day\n"
     ]
    }
   ],
   "source": [
    "string=input(\"Enter a string:- \")\n",
    "print(\"The string provided is \",string)"
   ]
  },
  {
   "cell_type": "code",
   "execution_count": 27,
   "id": "32aae281-491d-4933-9454-0703a37d54e3",
   "metadata": {},
   "outputs": [
    {
     "name": "stdout",
     "output_type": "stream",
     "text": [
      "The word is present in the string!!\n"
     ]
    }
   ],
   "source": [
    "word=\"day\"\n",
    "if word in string:\n",
    "    print(\"The word is present in the string!!\")\n",
    "else:\n",
    "    print(\"The word is not present in the string!!\")"
   ]
  },
  {
   "cell_type": "code",
   "execution_count": null,
   "id": "b4a6af1f-fcb7-4698-90fa-2e4f47aacbd2",
   "metadata": {},
   "outputs": [],
   "source": [
    "10. Replace a word in a string with another word."
   ]
  },
  {
   "cell_type": "code",
   "execution_count": 28,
   "id": "37f75919-437d-4252-b864-544941591c8d",
   "metadata": {},
   "outputs": [
    {
     "name": "stdin",
     "output_type": "stream",
     "text": [
      "Enter a string:-  what a beautiful day\n"
     ]
    },
    {
     "name": "stdout",
     "output_type": "stream",
     "text": [
      "The string provided is  what a beautiful day\n"
     ]
    }
   ],
   "source": [
    "string=input(\"Enter a string:- \")\n",
    "print(\"The string provided is \",string)"
   ]
  },
  {
   "cell_type": "code",
   "execution_count": 30,
   "id": "1475ce3d-1d49-460f-90fe-2235e79ce202",
   "metadata": {},
   "outputs": [
    {
     "name": "stdout",
     "output_type": "stream",
     "text": [
      "The string with replacement is :-  what a beautiful morning\n"
     ]
    }
   ],
   "source": [
    "string=string.replace(\"day\" , \"morning\")\n",
    "print(\"The string with replacement is :- \",string)"
   ]
  },
  {
   "cell_type": "code",
   "execution_count": 32,
   "id": "c456a983-4f06-4da4-98af-639dc6954ed9",
   "metadata": {},
   "outputs": [],
   "source": [
    "11. Count the occurrences of a word in a string."
   ]
  },
  {
   "cell_type": "code",
   "execution_count": 37,
   "id": "bd7edc7f-e54f-45ce-9cf7-7152feb29b59",
   "metadata": {},
   "outputs": [
    {
     "name": "stdin",
     "output_type": "stream",
     "text": [
      "Enter a string:-  This is a sample string. This string contains the word sample multiple times. Sample!\n"
     ]
    },
    {
     "name": "stdout",
     "output_type": "stream",
     "text": [
      "The string provided is:-  This is a sample string. This string contains the word sample multiple times. Sample!\n"
     ]
    }
   ],
   "source": [
    "string=input(\"Enter a string:- \")\n",
    "print(\"The string provided is:- \",string)"
   ]
  },
  {
   "cell_type": "code",
   "execution_count": 38,
   "id": "97c58df5-4127-4320-b8a7-7e5658be115d",
   "metadata": {},
   "outputs": [
    {
     "name": "stdout",
     "output_type": "stream",
     "text": [
      "The number of 'sample' present in the string is:-  3\n"
     ]
    }
   ],
   "source": [
    "string=string.lower()\n",
    "num=string.count(\"sample\")\n",
    "print(\"The number of 'sample' present in the string is:- \",num)"
   ]
  },
  {
   "cell_type": "code",
   "execution_count": null,
   "id": "7c7057ae-69dc-4f02-b567-c969187b6cd2",
   "metadata": {},
   "outputs": [],
   "source": [
    "12. Find the first occurrence of a word in a string."
   ]
  },
  {
   "cell_type": "code",
   "execution_count": 39,
   "id": "870370d5-fe8c-425c-88fb-a872405ac1a6",
   "metadata": {},
   "outputs": [
    {
     "name": "stdin",
     "output_type": "stream",
     "text": [
      "Enter a string:-  This is a sample string. This string contains the word sample multiple times. Sample!\n"
     ]
    },
    {
     "name": "stdout",
     "output_type": "stream",
     "text": [
      "The string provided is:-  This is a sample string. This string contains the word sample multiple times. Sample!\n"
     ]
    }
   ],
   "source": [
    "string=input(\"Enter a string:- \")\n",
    "print(\"The string provided is:- \",string)"
   ]
  },
  {
   "cell_type": "code",
   "execution_count": 40,
   "id": "6019dc52-65e1-4c83-bd26-8d05c11ab624",
   "metadata": {},
   "outputs": [
    {
     "name": "stdout",
     "output_type": "stream",
     "text": [
      "The first occurence of 'sample' is at index:-  10\n"
     ]
    }
   ],
   "source": [
    "string=string.lower()\n",
    "index=string.find('sample')\n",
    "print(\"The first occurence of 'sample' is at index:- \",index)"
   ]
  },
  {
   "cell_type": "code",
   "execution_count": null,
   "id": "100457a3-07fa-480d-8f38-38ae6060e38e",
   "metadata": {},
   "outputs": [],
   "source": [
    "13. Find the last occurrence of a word in a string."
   ]
  },
  {
   "cell_type": "code",
   "execution_count": 41,
   "id": "9b8d8658-c094-4071-a26a-35d7e78f31c3",
   "metadata": {},
   "outputs": [
    {
     "name": "stdin",
     "output_type": "stream",
     "text": [
      "Enter a string:-  This is a sample string. This string contains the word sample multiple times. Sample!\n"
     ]
    },
    {
     "name": "stdout",
     "output_type": "stream",
     "text": [
      "The string provided is:-  This is a sample string. This string contains the word sample multiple times. Sample!\n"
     ]
    }
   ],
   "source": [
    "string=input(\"Enter a string:- \")\n",
    "print(\"The string provided is:- \",string)"
   ]
  },
  {
   "cell_type": "code",
   "execution_count": 42,
   "id": "63d39ebc-8b48-44bc-ad30-03294af6f72b",
   "metadata": {},
   "outputs": [
    {
     "name": "stdout",
     "output_type": "stream",
     "text": [
      "The first occurence of 'sample' is at index:-  78\n"
     ]
    }
   ],
   "source": [
    "string=string.lower()\n",
    "index=string.rfind('sample')\n",
    "print(\"The first occurence of 'sample' is at index:- \",index)"
   ]
  },
  {
   "cell_type": "code",
   "execution_count": null,
   "id": "d32c68a2-b675-4879-815b-10557131678c",
   "metadata": {},
   "outputs": [],
   "source": [
    "14. Split a string into a list of words."
   ]
  },
  {
   "cell_type": "code",
   "execution_count": 44,
   "id": "c4641f9e-e443-4710-8e52-72d3c4871036",
   "metadata": {},
   "outputs": [
    {
     "name": "stdin",
     "output_type": "stream",
     "text": [
      "Enter a string:-  what a beautiful day\n"
     ]
    },
    {
     "name": "stdout",
     "output_type": "stream",
     "text": [
      "The string provided is:-  what a beautiful day\n"
     ]
    }
   ],
   "source": [
    "string=input(\"Enter a string:- \")\n",
    "print(\"The string provided is:- \",string)"
   ]
  },
  {
   "cell_type": "code",
   "execution_count": 48,
   "id": "da059c99-c16c-4f7c-9542-bce8a83671bd",
   "metadata": {},
   "outputs": [
    {
     "name": "stdout",
     "output_type": "stream",
     "text": [
      "['what', 'a', 'beautiful', 'day']\n"
     ]
    }
   ],
   "source": [
    "split_string=string.split()\n",
    "print(split_string)"
   ]
  },
  {
   "cell_type": "code",
   "execution_count": null,
   "id": "45a40724-7aa4-4983-8de4-cc12d9df1aa2",
   "metadata": {},
   "outputs": [],
   "source": [
    "15. Join a list of words into a string."
   ]
  },
  {
   "cell_type": "code",
   "execution_count": 51,
   "id": "9ff1fd2a-a44f-4221-a77b-64bcd7a864ec",
   "metadata": {},
   "outputs": [
    {
     "name": "stdout",
     "output_type": "stream",
     "text": [
      "The new string is :-  what a beautiful day\n"
     ]
    }
   ],
   "source": [
    "word_list = ['what','a','beautiful','day']\n",
    "res= ' '.join(word_list)\n",
    "print(\"The new string is :- \",res)"
   ]
  },
  {
   "cell_type": "code",
   "execution_count": null,
   "id": "6ed31766-93fb-491e-bde2-3a07c4e0a6f0",
   "metadata": {},
   "outputs": [],
   "source": []
  }
 ],
 "metadata": {
  "kernelspec": {
   "display_name": "Python 3 (ipykernel)",
   "language": "python",
   "name": "python3"
  },
  "language_info": {
   "codemirror_mode": {
    "name": "ipython",
    "version": 3
   },
   "file_extension": ".py",
   "mimetype": "text/x-python",
   "name": "python",
   "nbconvert_exporter": "python",
   "pygments_lexer": "ipython3",
   "version": "3.10.8"
  }
 },
 "nbformat": 4,
 "nbformat_minor": 5
}
