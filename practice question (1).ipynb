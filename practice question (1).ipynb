{
 "cells": [
  {
   "cell_type": "markdown",
   "id": "4748e933-dbfd-471e-a955-034afb37ea4e",
   "metadata": {},
   "source": [
    "TOPIC: String Based Assignment Problem"
   ]
  },
  {
   "cell_type": "code",
   "execution_count": null,
   "id": "d58fb6ee-e29c-4b43-a6af-85f2645484ac",
   "metadata": {},
   "outputs": [],
   "source": [
    "1. Write a program to reverse a string."
   ]
  },
  {
   "cell_type": "code",
   "execution_count": 3,
   "id": "38073dfb-20f9-4dd8-81cc-3540b0817e6d",
   "metadata": {},
   "outputs": [
    {
     "name": "stdin",
     "output_type": "stream",
     "text": [
      "Enter a string:-  naman\n"
     ]
    },
    {
     "name": "stdout",
     "output_type": "stream",
     "text": [
      "The string provided is  naman\n"
     ]
    }
   ],
   "source": [
    "string=input(\"Enter a string:- \")\n",
    "print(\"The string provided is \",string)"
   ]
  },
  {
   "cell_type": "code",
   "execution_count": 4,
   "id": "6c6b634b-25e3-4d8b-88d9-1c2cb5b6090f",
   "metadata": {},
   "outputs": [
    {
     "name": "stdout",
     "output_type": "stream",
     "text": [
      "The string reversed is  naman\n"
     ]
    }
   ],
   "source": [
    "rev=string[::-1]\n",
    "print(\"The string reversed is \",rev) "
   ]
  },
  {
   "cell_type": "code",
   "execution_count": null,
   "id": "73e62601-0176-4a5d-99a9-25c1d7d5cc69",
   "metadata": {},
   "outputs": [],
   "source": [
    "2. Check if a string is a palindrome."
   ]
  },
  {
   "cell_type": "code",
   "execution_count": 5,
   "id": "446c972f-8b4d-4334-be29-6a7028d6c7da",
   "metadata": {},
   "outputs": [
    {
     "name": "stdin",
     "output_type": "stream",
     "text": [
      "Enter a string:-  hello_world\n"
     ]
    },
    {
     "name": "stdout",
     "output_type": "stream",
     "text": [
      "The string provided is  hello_world\n"
     ]
    }
   ],
   "source": [
    "string=input(\"Enter a string:- \")\n",
    "print(\"The string provided is \",string)"
   ]
  },
  {
   "cell_type": "code",
   "execution_count": 6,
   "id": "dcd2af07-5e28-449b-a37b-81c68f58cb18",
   "metadata": {},
   "outputs": [
    {
     "name": "stdout",
     "output_type": "stream",
     "text": [
      "The string is not palindrome\n"
     ]
    }
   ],
   "source": [
    "rev=string[::-1]\n",
    "if rev == string:\n",
    "    print(\"The string is palindrome\")\n",
    "else:\n",
    "    print(\"The string is not palindrome\")"
   ]
  },
  {
   "cell_type": "code",
   "execution_count": null,
   "id": "e91bfe12-8fa2-4f29-affd-dd94a1723b5a",
   "metadata": {},
   "outputs": [],
   "source": [
    "3. Convert a string to uppercase."
   ]
  },
  {
   "cell_type": "code",
   "execution_count": 7,
   "id": "8fb053a0-02c7-40c1-8f0e-1266f9aef086",
   "metadata": {},
   "outputs": [
    {
     "name": "stdin",
     "output_type": "stream",
     "text": [
      "Enter a string:-  hello \n"
     ]
    },
    {
     "name": "stdout",
     "output_type": "stream",
     "text": [
      "The string provided is  hello \n"
     ]
    }
   ],
   "source": [
    "string=input(\"Enter a string:- \")\n",
    "print(\"The string provided is \",string)"
   ]
  },
  {
   "cell_type": "code",
   "execution_count": 9,
   "id": "9bab38d5-4fb0-4ecf-941a-ec9c97d38e6d",
   "metadata": {},
   "outputs": [
    {
     "name": "stdout",
     "output_type": "stream",
     "text": [
      "The string in uppercase case is :-  HELLO \n"
     ]
    }
   ],
   "source": [
    "string_upper=string.upper()\n",
    "print(\"The string in uppercase case is :- \",string_upper)"
   ]
  },
  {
   "cell_type": "code",
   "execution_count": null,
   "id": "50d401ae-4de0-401f-93cf-595427016824",
   "metadata": {},
   "outputs": [],
   "source": [
    "4. Convert a string to lowercase."
   ]
  },
  {
   "cell_type": "code",
   "execution_count": 10,
   "id": "63506b46-78e7-4d89-9575-e7ee7588a889",
   "metadata": {},
   "outputs": [
    {
     "name": "stdin",
     "output_type": "stream",
     "text": [
      "Enter a string:-  HEllo\n"
     ]
    },
    {
     "name": "stdout",
     "output_type": "stream",
     "text": [
      "The string provided is  HEllo\n"
     ]
    }
   ],
   "source": [
    "string=input(\"Enter a string:- \")\n",
    "print(\"The string provided is \",string)"
   ]
  },
  {
   "cell_type": "code",
   "execution_count": 11,
   "id": "38dfdb66-398e-4693-be03-10663b5c3e95",
   "metadata": {},
   "outputs": [
    {
     "name": "stdout",
     "output_type": "stream",
     "text": [
      "The string in uppercase case is :-  hello\n"
     ]
    }
   ],
   "source": [
    "string_lower=string.lower()\n",
    "print(\"The string in uppercase case is :- \",string_lower)"
   ]
  },
  {
   "cell_type": "code",
   "execution_count": null,
   "id": "8f8ba214-de56-4836-a7f9-fa06e3d758f2",
   "metadata": {},
   "outputs": [],
   "source": [
    "5. Count the number of vowels in a string."
   ]
  },
  {
   "cell_type": "code",
   "execution_count": 12,
   "id": "4b2b5e56-012e-48eb-a27e-b64a422b6239",
   "metadata": {},
   "outputs": [
    {
     "name": "stdin",
     "output_type": "stream",
     "text": [
      "Enter a string:-  ayanmukherjee\n"
     ]
    },
    {
     "name": "stdout",
     "output_type": "stream",
     "text": [
      "The string provided is  ayanmukherjee\n"
     ]
    }
   ],
   "source": [
    "string=input(\"Enter a string:- \")\n",
    "print(\"The string provided is \",string)"
   ]
  },
  {
   "cell_type": "code",
   "execution_count": 13,
   "id": "acd310c1-186e-413e-afb0-91bb90e07c85",
   "metadata": {},
   "outputs": [
    {
     "name": "stdout",
     "output_type": "stream",
     "text": [
      "Number of 'a's:  2\n",
      "Number of 'e's:  3\n",
      "Number of 'i's:  0\n",
      "Number of 'o's:  0\n",
      "Number of 'u's:  1\n"
     ]
    }
   ],
   "source": [
    "string = string.lower()\n",
    "\n",
    "# Counting vowels using a count variable\n",
    "count_a = 0\n",
    "count_e = 0\n",
    "count_i = 0\n",
    "count_o = 0\n",
    "count_u = 0\n",
    "for char in string:\n",
    "    if char == 'a':\n",
    "        count_a += 1\n",
    "    elif char == 'e':\n",
    "        count_e += 1\n",
    "    elif char == 'i':\n",
    "        count_i += 1\n",
    "    elif char == 'o':\n",
    "        count_o += 1\n",
    "    elif char == 'u':\n",
    "        count_u += 1\n",
    "print(f\"Number of 'a's: \",count_a)\n",
    "print(f\"Number of 'e's: \",count_e)\n",
    "print(f\"Number of 'i's: \",count_i)\n",
    "print(f\"Number of 'o's: \",count_o)\n",
    "print(f\"Number of 'u's: \",count_u)"
   ]
  },
  {
   "cell_type": "code",
   "execution_count": null,
   "id": "8d4e42b7-1679-4529-8a50-9ba65e56e217",
   "metadata": {},
   "outputs": [],
   "source": [
    "6. Count the number of consonants in a string."
   ]
  },
  {
   "cell_type": "code",
   "execution_count": 14,
   "id": "c0f88472-b6a4-4d13-9720-2308d97f7efb",
   "metadata": {},
   "outputs": [
    {
     "name": "stdin",
     "output_type": "stream",
     "text": [
      "Enter a string:-  helloworld\n"
     ]
    },
    {
     "name": "stdout",
     "output_type": "stream",
     "text": [
      "The string provided is  helloworld\n"
     ]
    }
   ],
   "source": [
    "string=input(\"Enter a string:- \")\n",
    "print(\"The string provided is \",string)"
   ]
  },
  {
   "cell_type": "code",
   "execution_count": 18,
   "id": "49c55c2b-868a-42c9-b616-4fc71f7a5683",
   "metadata": {},
   "outputs": [
    {
     "name": "stdout",
     "output_type": "stream",
     "text": [
      "Number of consonants are: 7\n"
     ]
    }
   ],
   "source": [
    "con=0\n",
    "for i in range(len(string)):\n",
    "    if string[i] not in 'aeiouAEIOU':\n",
    "        con += 1\n",
    "\n",
    "print(\"Number of consonants are:\", con)"
   ]
  },
  {
   "cell_type": "code",
   "execution_count": null,
   "id": "8c9a88e9-7f4f-40d7-9b68-78e8596f769a",
   "metadata": {},
   "outputs": [],
   "source": [
    "7. Remove all whitespaces from a string."
   ]
  },
  {
   "cell_type": "code",
   "execution_count": 20,
   "id": "fb66a87b-6ff4-4141-be4c-c6986cc775ba",
   "metadata": {},
   "outputs": [
    {
     "name": "stdin",
     "output_type": "stream",
     "text": [
      "Enter a string:-  What a beautiful day\n"
     ]
    },
    {
     "name": "stdout",
     "output_type": "stream",
     "text": [
      "The string provided is  What a beautiful day\n"
     ]
    }
   ],
   "source": [
    "string=input(\"Enter a string:- \")\n",
    "print(\"The string provided is \",string)"
   ]
  },
  {
   "cell_type": "code",
   "execution_count": 21,
   "id": "cc5c96ba-e21b-4c8d-aaf5-e57dc4897cd6",
   "metadata": {},
   "outputs": [
    {
     "name": "stdout",
     "output_type": "stream",
     "text": [
      "The number of spaces are:-  3\n"
     ]
    }
   ],
   "source": [
    "sp_num=0\n",
    "for i in range(len(string)):\n",
    "    if string[i] == ' ':\n",
    "        sp_num+=1\n",
    "print(\"The number of spaces are:- \",sp_num)"
   ]
  },
  {
   "cell_type": "code",
   "execution_count": null,
   "id": "f02a1688-7b3e-4168-a62c-7f1b7290cdd1",
   "metadata": {},
   "outputs": [],
   "source": [
    "8. Find the length of a string without using the `len()` function."
   ]
  },
  {
   "cell_type": "code",
   "execution_count": 22,
   "id": "de6e1804-e2a2-49a1-bbbb-06e7ec51b958",
   "metadata": {},
   "outputs": [
    {
     "name": "stdin",
     "output_type": "stream",
     "text": [
      "Enter a string:-  apple\n"
     ]
    },
    {
     "name": "stdout",
     "output_type": "stream",
     "text": [
      "The string provided is  apple\n"
     ]
    }
   ],
   "source": [
    "string=input(\"Enter a string:- \")\n",
    "print(\"The string provided is \",string)"
   ]
  },
  {
   "cell_type": "code",
   "execution_count": 23,
   "id": "c36df8b8-4122-4340-a718-9e7d0bb0c594",
   "metadata": {},
   "outputs": [
    {
     "name": "stdout",
     "output_type": "stream",
     "text": [
      "The length of the string is :-  5\n"
     ]
    }
   ],
   "source": [
    "print(\"The length of the string is :- \",len(string))"
   ]
  },
  {
   "cell_type": "code",
   "execution_count": null,
   "id": "3c506c67-632e-442c-8598-06fcf240febb",
   "metadata": {},
   "outputs": [],
   "source": [
    "9. Check if a string contains a specific word."
   ]
  },
  {
   "cell_type": "code",
   "execution_count": 25,
   "id": "92971ca8-6d76-407b-b4cd-18262725fefb",
   "metadata": {},
   "outputs": [
    {
     "name": "stdin",
     "output_type": "stream",
     "text": [
      "Enter a string:-  What a beautiful day\n"
     ]
    },
    {
     "name": "stdout",
     "output_type": "stream",
     "text": [
      "The string provided is  What a beautiful day\n"
     ]
    }
   ],
   "source": [
    "string=input(\"Enter a string:- \")\n",
    "print(\"The string provided is \",string)"
   ]
  },
  {
   "cell_type": "code",
   "execution_count": 27,
   "id": "32aae281-491d-4933-9454-0703a37d54e3",
   "metadata": {},
   "outputs": [
    {
     "name": "stdout",
     "output_type": "stream",
     "text": [
      "The word is present in the string!!\n"
     ]
    }
   ],
   "source": [
    "word=\"day\"\n",
    "if word in string:\n",
    "    print(\"The word is present in the string!!\")\n",
    "else:\n",
    "    print(\"The word is not present in the string!!\")"
   ]
  },
  {
   "cell_type": "code",
   "execution_count": null,
   "id": "b4a6af1f-fcb7-4698-90fa-2e4f47aacbd2",
   "metadata": {},
   "outputs": [],
   "source": [
    "10. Replace a word in a string with another word."
   ]
  },
  {
   "cell_type": "code",
   "execution_count": 28,
   "id": "37f75919-437d-4252-b864-544941591c8d",
   "metadata": {},
   "outputs": [
    {
     "name": "stdin",
     "output_type": "stream",
     "text": [
      "Enter a string:-  what a beautiful day\n"
     ]
    },
    {
     "name": "stdout",
     "output_type": "stream",
     "text": [
      "The string provided is  what a beautiful day\n"
     ]
    }
   ],
   "source": [
    "string=input(\"Enter a string:- \")\n",
    "print(\"The string provided is \",string)"
   ]
  },
  {
   "cell_type": "code",
   "execution_count": 30,
   "id": "1475ce3d-1d49-460f-90fe-2235e79ce202",
   "metadata": {},
   "outputs": [
    {
     "name": "stdout",
     "output_type": "stream",
     "text": [
      "The string with replacement is :-  what a beautiful morning\n"
     ]
    }
   ],
   "source": [
    "string=string.replace(\"day\" , \"morning\")\n",
    "print(\"The string with replacement is :- \",string)"
   ]
  },
  {
   "cell_type": "code",
   "execution_count": 32,
   "id": "c456a983-4f06-4da4-98af-639dc6954ed9",
   "metadata": {},
   "outputs": [],
   "source": [
    "11. Count the occurrences of a word in a string."
   ]
  },
  {
   "cell_type": "code",
   "execution_count": 37,
   "id": "bd7edc7f-e54f-45ce-9cf7-7152feb29b59",
   "metadata": {},
   "outputs": [
    {
     "name": "stdin",
     "output_type": "stream",
     "text": [
      "Enter a string:-  This is a sample string. This string contains the word sample multiple times. Sample!\n"
     ]
    },
    {
     "name": "stdout",
     "output_type": "stream",
     "text": [
      "The string provided is:-  This is a sample string. This string contains the word sample multiple times. Sample!\n"
     ]
    }
   ],
   "source": [
    "string=input(\"Enter a string:- \")\n",
    "print(\"The string provided is:- \",string)"
   ]
  },
  {
   "cell_type": "code",
   "execution_count": 38,
   "id": "97c58df5-4127-4320-b8a7-7e5658be115d",
   "metadata": {},
   "outputs": [
    {
     "name": "stdout",
     "output_type": "stream",
     "text": [
      "The number of 'sample' present in the string is:-  3\n"
     ]
    }
   ],
   "source": [
    "string=string.lower()\n",
    "num=string.count(\"sample\")\n",
    "print(\"The number of 'sample' present in the string is:- \",num)"
   ]
  },
  {
   "cell_type": "code",
   "execution_count": null,
   "id": "7c7057ae-69dc-4f02-b567-c969187b6cd2",
   "metadata": {},
   "outputs": [],
   "source": [
    "12. Find the first occurrence of a word in a string."
   ]
  },
  {
   "cell_type": "code",
   "execution_count": 39,
   "id": "870370d5-fe8c-425c-88fb-a872405ac1a6",
   "metadata": {},
   "outputs": [
    {
     "name": "stdin",
     "output_type": "stream",
     "text": [
      "Enter a string:-  This is a sample string. This string contains the word sample multiple times. Sample!\n"
     ]
    },
    {
     "name": "stdout",
     "output_type": "stream",
     "text": [
      "The string provided is:-  This is a sample string. This string contains the word sample multiple times. Sample!\n"
     ]
    }
   ],
   "source": [
    "string=input(\"Enter a string:- \")\n",
    "print(\"The string provided is:- \",string)"
   ]
  },
  {
   "cell_type": "code",
   "execution_count": 40,
   "id": "6019dc52-65e1-4c83-bd26-8d05c11ab624",
   "metadata": {},
   "outputs": [
    {
     "name": "stdout",
     "output_type": "stream",
     "text": [
      "The first occurence of 'sample' is at index:-  10\n"
     ]
    }
   ],
   "source": [
    "string=string.lower()\n",
    "index=string.find('sample')\n",
    "print(\"The first occurence of 'sample' is at index:- \",index)"
   ]
  },
  {
   "cell_type": "code",
   "execution_count": null,
   "id": "100457a3-07fa-480d-8f38-38ae6060e38e",
   "metadata": {},
   "outputs": [],
   "source": [
    "13. Find the last occurrence of a word in a string."
   ]
  },
  {
   "cell_type": "code",
   "execution_count": 41,
   "id": "9b8d8658-c094-4071-a26a-35d7e78f31c3",
   "metadata": {},
   "outputs": [
    {
     "name": "stdin",
     "output_type": "stream",
     "text": [
      "Enter a string:-  This is a sample string. This string contains the word sample multiple times. Sample!\n"
     ]
    },
    {
     "name": "stdout",
     "output_type": "stream",
     "text": [
      "The string provided is:-  This is a sample string. This string contains the word sample multiple times. Sample!\n"
     ]
    }
   ],
   "source": [
    "string=input(\"Enter a string:- \")\n",
    "print(\"The string provided is:- \",string)"
   ]
  },
  {
   "cell_type": "code",
   "execution_count": 42,
   "id": "63d39ebc-8b48-44bc-ad30-03294af6f72b",
   "metadata": {},
   "outputs": [
    {
     "name": "stdout",
     "output_type": "stream",
     "text": [
      "The first occurence of 'sample' is at index:-  78\n"
     ]
    }
   ],
   "source": [
    "string=string.lower()\n",
    "index=string.rfind('sample')\n",
    "print(\"The first occurence of 'sample' is at index:- \",index)"
   ]
  },
  {
   "cell_type": "code",
   "execution_count": null,
   "id": "d32c68a2-b675-4879-815b-10557131678c",
   "metadata": {},
   "outputs": [],
   "source": [
    "14. Split a string into a list of words."
   ]
  },
  {
   "cell_type": "code",
   "execution_count": 44,
   "id": "c4641f9e-e443-4710-8e52-72d3c4871036",
   "metadata": {},
   "outputs": [
    {
     "name": "stdin",
     "output_type": "stream",
     "text": [
      "Enter a string:-  what a beautiful day\n"
     ]
    },
    {
     "name": "stdout",
     "output_type": "stream",
     "text": [
      "The string provided is:-  what a beautiful day\n"
     ]
    }
   ],
   "source": [
    "string=input(\"Enter a string:- \")\n",
    "print(\"The string provided is:- \",string)"
   ]
  },
  {
   "cell_type": "code",
   "execution_count": 48,
   "id": "da059c99-c16c-4f7c-9542-bce8a83671bd",
   "metadata": {},
   "outputs": [
    {
     "name": "stdout",
     "output_type": "stream",
     "text": [
      "['what', 'a', 'beautiful', 'day']\n"
     ]
    }
   ],
   "source": [
    "split_string=string.split()\n",
    "print(split_string)"
   ]
  },
  {
   "cell_type": "code",
   "execution_count": null,
   "id": "45a40724-7aa4-4983-8de4-cc12d9df1aa2",
   "metadata": {},
   "outputs": [],
   "source": [
    "15. Join a list of words into a string."
   ]
  },
  {
   "cell_type": "code",
   "execution_count": 51,
   "id": "9ff1fd2a-a44f-4221-a77b-64bcd7a864ec",
   "metadata": {},
   "outputs": [
    {
     "name": "stdout",
     "output_type": "stream",
     "text": [
      "The new string is :-  what a beautiful day\n"
     ]
    }
   ],
   "source": [
    "word_list = ['what','a','beautiful','day']\n",
    "res= ' '.join(word_list)\n",
    "print(\"The new string is :- \",res)"
   ]
  },
  {
   "cell_type": "code",
   "execution_count": null,
   "id": "6ed31766-93fb-491e-bde2-3a07c4e0a6f0",
   "metadata": {},
   "outputs": [],
   "source": [
    "16. Convert a string where words are separated by spaces to one where words are separated by underscores."
   ]
  },
  {
   "cell_type": "code",
   "execution_count": 1,
   "id": "ba8f1801-4b0c-4c6e-99fc-ceeef4baa94a",
   "metadata": {},
   "outputs": [
    {
     "name": "stdin",
     "output_type": "stream",
     "text": [
      "Enter a string:-  what a beautiful day\n"
     ]
    },
    {
     "name": "stdout",
     "output_type": "stream",
     "text": [
      "The string provided is:-  what a beautiful day\n"
     ]
    }
   ],
   "source": [
    "string=input(\"Enter a string:- \")\n",
    "print(\"The string provided is:- \",string)"
   ]
  },
  {
   "cell_type": "code",
   "execution_count": 2,
   "id": "1dd46006-330e-4123-b782-15031ee7f066",
   "metadata": {},
   "outputs": [
    {
     "name": "stdout",
     "output_type": "stream",
     "text": [
      "The string after replacement is :-  what_a_beautiful_day\n"
     ]
    }
   ],
   "source": [
    "rep_str=string.replace(' ','_')\n",
    "print(\"The string after replacement is :- \",rep_str)"
   ]
  },
  {
   "cell_type": "code",
   "execution_count": null,
   "id": "0688a8e9-4908-4cc4-ba05-e7e481ccdb0d",
   "metadata": {},
   "outputs": [],
   "source": [
    "17. Check if a string starts with a specific word or phrase."
   ]
  },
  {
   "cell_type": "code",
   "execution_count": 3,
   "id": "dddc94ad-7fec-48cf-ba97-5593f93b6a62",
   "metadata": {},
   "outputs": [
    {
     "name": "stdin",
     "output_type": "stream",
     "text": [
      "Enter a string:-  what a beautiful day\n"
     ]
    },
    {
     "name": "stdout",
     "output_type": "stream",
     "text": [
      "The string provided is:-  what a beautiful day\n"
     ]
    }
   ],
   "source": [
    "string=input(\"Enter a string:- \")\n",
    "print(\"The string provided is:- \",string)"
   ]
  },
  {
   "cell_type": "code",
   "execution_count": 5,
   "id": "7a5867a5-6a8f-472c-8b05-897447a9b80d",
   "metadata": {},
   "outputs": [
    {
     "name": "stdout",
     "output_type": "stream",
     "text": [
      "The string starts with 'what' \n"
     ]
    }
   ],
   "source": [
    "start_with=string.startswith(\"what\")\n",
    "if start_with:\n",
    "    print(\"The string starts with 'what' \")\n",
    "else: \n",
    "    print(\"The string doesnt starts with 'what'\")"
   ]
  },
  {
   "cell_type": "code",
   "execution_count": null,
   "id": "dcd93d92-8635-48d3-a2ec-44cb54b6ddc6",
   "metadata": {},
   "outputs": [],
   "source": [
    "18. Check if a string ends with a specific word or phrase."
   ]
  },
  {
   "cell_type": "code",
   "execution_count": 6,
   "id": "a5e8085f-0a9b-4bbf-96af-8301ef2c045e",
   "metadata": {},
   "outputs": [
    {
     "name": "stdin",
     "output_type": "stream",
     "text": [
      "Enter a string:-  what a beautiful day\n"
     ]
    },
    {
     "name": "stdout",
     "output_type": "stream",
     "text": [
      "The string provided is:-  what a beautiful day\n"
     ]
    }
   ],
   "source": [
    "string=input(\"Enter a string:- \")\n",
    "print(\"The string provided is:- \",string)"
   ]
  },
  {
   "cell_type": "code",
   "execution_count": 7,
   "id": "710da40d-8702-40f5-83a3-a07c2cf756d2",
   "metadata": {},
   "outputs": [
    {
     "name": "stdout",
     "output_type": "stream",
     "text": [
      "The string doesnt end with 'what'\n"
     ]
    }
   ],
   "source": [
    "start_with=string.endswith(\"what\")\n",
    "if start_with:\n",
    "    print(\"The string ends with 'what' \")\n",
    "else: \n",
    "    print(\"The string doesnt end with 'what'\")"
   ]
  },
  {
   "cell_type": "code",
   "execution_count": null,
   "id": "e3b4c996-1f60-4e5f-85e3-cfc7821297a5",
   "metadata": {},
   "outputs": [],
   "source": [
    "19. Convert a string to title case (e.g., \"hello world\" to \"Hello World\")."
   ]
  },
  {
   "cell_type": "code",
   "execution_count": 8,
   "id": "bb7a6588-2ff2-4517-b241-3b68e4f75283",
   "metadata": {},
   "outputs": [
    {
     "name": "stdin",
     "output_type": "stream",
     "text": [
      "Enter a string:-  what a beautiful day\n"
     ]
    },
    {
     "name": "stdout",
     "output_type": "stream",
     "text": [
      "The string provided is:-  what a beautiful day\n"
     ]
    }
   ],
   "source": [
    "string=input(\"Enter a string:- \")\n",
    "print(\"The string provided is:- \",string)"
   ]
  },
  {
   "cell_type": "code",
   "execution_count": 10,
   "id": "18c268a7-e52b-4bb2-a95b-5eca68220496",
   "metadata": {},
   "outputs": [
    {
     "name": "stdout",
     "output_type": "stream",
     "text": [
      "The required string is :-  What A Beautiful Day\n"
     ]
    }
   ],
   "source": [
    "string=string.title()\n",
    "print(\"The required string is :- \",string)"
   ]
  },
  {
   "cell_type": "code",
   "execution_count": null,
   "id": "29d75ce1-7d6e-47ef-8aa8-5fdaec10c655",
   "metadata": {},
   "outputs": [],
   "source": [
    "20. Find the longest word in a string."
   ]
  },
  {
   "cell_type": "code",
   "execution_count": 11,
   "id": "f1924368-7858-4bc8-877a-2a0885cf9fe5",
   "metadata": {},
   "outputs": [
    {
     "name": "stdin",
     "output_type": "stream",
     "text": [
      "Enter a string:-  what a beautiful string\n"
     ]
    },
    {
     "name": "stdout",
     "output_type": "stream",
     "text": [
      "The string provided is:-  what a beautiful string\n"
     ]
    }
   ],
   "source": [
    "string=input(\"Enter a string:- \")\n",
    "print(\"The string provided is:- \",string)"
   ]
  },
  {
   "cell_type": "code",
   "execution_count": 14,
   "id": "eb2dc30d-4edf-4dc9-b29e-0a116c28a039",
   "metadata": {},
   "outputs": [
    {
     "name": "stdout",
     "output_type": "stream",
     "text": [
      "Longest string is :-  beautiful\n"
     ]
    }
   ],
   "source": [
    "strs=string.split()\n",
    "max_len=0\n",
    "max_str=\"\"\n",
    "for i in strs:\n",
    "    if len(i) > max_len:\n",
    "        max_len = len(i)\n",
    "        max_str = i\n",
    "print(\"Longest string is :- \",max_str)"
   ]
  },
  {
   "cell_type": "code",
   "execution_count": null,
   "id": "cd461f49-4077-43f2-9c70-9e4557f829dc",
   "metadata": {},
   "outputs": [],
   "source": [
    "21. Find the shortest word in a string."
   ]
  },
  {
   "cell_type": "code",
   "execution_count": 17,
   "id": "0c443909-b8e3-4c1e-8d67-189faa270853",
   "metadata": {},
   "outputs": [
    {
     "name": "stdin",
     "output_type": "stream",
     "text": [
      "Enter a string:-  what a beautiful day\n"
     ]
    },
    {
     "name": "stdout",
     "output_type": "stream",
     "text": [
      "The string provided is:-  what a beautiful day\n"
     ]
    }
   ],
   "source": [
    "string=input(\"Enter a string:- \")\n",
    "print(\"The string provided is:- \",string)"
   ]
  },
  {
   "cell_type": "code",
   "execution_count": 19,
   "id": "94e200dc-cca7-465d-aaff-bd6eb6cf27eb",
   "metadata": {},
   "outputs": [
    {
     "name": "stdout",
     "output_type": "stream",
     "text": [
      "Shortest string is :-  a\n"
     ]
    }
   ],
   "source": [
    "strs=string.split()\n",
    "min_len=float('inf')\n",
    "min_str=\"\"\n",
    "for i in strs:\n",
    "    if len(i) < min_len:\n",
    "        min_len = len(i)\n",
    "        min_str = i\n",
    "print(\"Shortest string is :- \",min_str)"
   ]
  },
  {
   "cell_type": "code",
   "execution_count": null,
   "id": "1f31f0cc-ac30-46fe-90a3-def4cda018ec",
   "metadata": {},
   "outputs": [],
   "source": [
    "22. Reverse the order of words in a string."
   ]
  },
  {
   "cell_type": "code",
   "execution_count": 20,
   "id": "028a0f2e-e123-4999-bb4c-a91cc89dc592",
   "metadata": {},
   "outputs": [
    {
     "name": "stdin",
     "output_type": "stream",
     "text": [
      "Enter a string:-  what a beautiful day\n"
     ]
    },
    {
     "name": "stdout",
     "output_type": "stream",
     "text": [
      "The string provided is:-  what a beautiful day\n"
     ]
    }
   ],
   "source": [
    "string=input(\"Enter a string:- \")\n",
    "print(\"The string provided is:- \",string)"
   ]
  },
  {
   "cell_type": "code",
   "execution_count": 21,
   "id": "84a8e05f-da48-4d49-be26-c2e363b9fc7a",
   "metadata": {},
   "outputs": [
    {
     "name": "stdout",
     "output_type": "stream",
     "text": [
      "The string reversed is :-  day beautiful a what\n"
     ]
    }
   ],
   "source": [
    "string=string.split()\n",
    "rev_str= ' '.join(reversed(string))\n",
    "print(\"The string reversed is :- \",rev_str)"
   ]
  },
  {
   "cell_type": "code",
   "execution_count": null,
   "id": "3bbe27fb-a0c8-4fd4-a034-92bca5847ba5",
   "metadata": {},
   "outputs": [],
   "source": [
    "23. Check if a string is alphanumeric."
   ]
  },
  {
   "cell_type": "code",
   "execution_count": 28,
   "id": "b94d6446-b82f-4f22-831a-aab091e5a5c5",
   "metadata": {},
   "outputs": [
    {
     "name": "stdin",
     "output_type": "stream",
     "text": [
      "Enter a string:-  check123\n"
     ]
    },
    {
     "name": "stdout",
     "output_type": "stream",
     "text": [
      "The string provided is:-  check123\n"
     ]
    }
   ],
   "source": [
    "string=input(\"Enter a string:- \")\n",
    "print(\"The string provided is:- \",string)"
   ]
  },
  {
   "cell_type": "code",
   "execution_count": 29,
   "id": "80ff735e-0c81-44a2-abf9-3764a64bf25b",
   "metadata": {},
   "outputs": [
    {
     "name": "stdout",
     "output_type": "stream",
     "text": [
      "The string is alphanumeric\n"
     ]
    }
   ],
   "source": [
    "res=string.isalnum()\n",
    "if res:\n",
    "    print(\"The string is alphanumeric\")\n",
    "else:\n",
    "    print(\"The string is not alphanumeric\")"
   ]
  },
  {
   "cell_type": "code",
   "execution_count": null,
   "id": "a45cafde-cba8-408a-87e7-1aa36a89002e",
   "metadata": {},
   "outputs": [],
   "source": [
    "24. Extract all digits from a string."
   ]
  },
  {
   "cell_type": "code",
   "execution_count": 30,
   "id": "352a1d9c-9a89-4eec-879d-f79c7825c001",
   "metadata": {},
   "outputs": [
    {
     "name": "stdin",
     "output_type": "stream",
     "text": [
      "Enter a string:-  hello123\n"
     ]
    },
    {
     "name": "stdout",
     "output_type": "stream",
     "text": [
      "The string provided is:-  hello123\n"
     ]
    }
   ],
   "source": [
    "string=input(\"Enter a string:- \")\n",
    "print(\"The string provided is:- \",string)"
   ]
  },
  {
   "cell_type": "code",
   "execution_count": 33,
   "id": "c6fbcb93-34c4-404e-b94d-7c1ad255ed1a",
   "metadata": {},
   "outputs": [
    {
     "name": "stdout",
     "output_type": "stream",
     "text": [
      "Number of digits are :-  123\n"
     ]
    }
   ],
   "source": [
    "digits=\"\"\n",
    "for i in string:\n",
    "    if i.isdigit():\n",
    "        digits+=i\n",
    "print(\"Number of digits are :- \",digits)"
   ]
  },
  {
   "cell_type": "code",
   "execution_count": null,
   "id": "38e8e425-abd8-481e-8913-9585fedfb072",
   "metadata": {},
   "outputs": [],
   "source": [
    "25. Extract all alphabets from a string"
   ]
  },
  {
   "cell_type": "code",
   "execution_count": 40,
   "id": "cd1e19bc-07c3-4b4e-babd-614b7f667645",
   "metadata": {},
   "outputs": [
    {
     "name": "stdin",
     "output_type": "stream",
     "text": [
      "Enter a string:-  hello123\n"
     ]
    },
    {
     "name": "stdout",
     "output_type": "stream",
     "text": [
      "The string provided is:-  hello123\n"
     ]
    }
   ],
   "source": [
    "string=input(\"Enter a string:- \")\n",
    "print(\"The string provided is:- \",string)"
   ]
  },
  {
   "cell_type": "code",
   "execution_count": 41,
   "id": "c3c3d1a6-a393-4d98-a92a-9b67b22a3239",
   "metadata": {},
   "outputs": [
    {
     "name": "stdout",
     "output_type": "stream",
     "text": [
      "Number of alphabets are :-  hello\n"
     ]
    }
   ],
   "source": [
    "str=\"\"\n",
    "for i in string:\n",
    "    if i.isalpha():\n",
    "        str+=i\n",
    "print(\"Number of alphabets are :- \",str)"
   ]
  },
  {
   "cell_type": "code",
   "execution_count": null,
   "id": "708d4e71-a2e3-4ef8-b18e-f06c8f11e257",
   "metadata": {},
   "outputs": [],
   "source": [
    "26. Count the number of uppercase letters in a string"
   ]
  },
  {
   "cell_type": "code",
   "execution_count": 42,
   "id": "22c446e4-3904-4f9f-be3b-fa56b039d154",
   "metadata": {},
   "outputs": [
    {
     "name": "stdin",
     "output_type": "stream",
     "text": [
      "Enter a string:-  helloWorld\n"
     ]
    },
    {
     "name": "stdout",
     "output_type": "stream",
     "text": [
      "The string provided is:-  helloWorld\n"
     ]
    }
   ],
   "source": [
    "string=input(\"Enter a string:- \")\n",
    "print(\"The string provided is:- \",string)"
   ]
  },
  {
   "cell_type": "code",
   "execution_count": 43,
   "id": "d75e02a7-6267-4d0e-bd77-da2bd9c9554e",
   "metadata": {},
   "outputs": [
    {
     "name": "stdout",
     "output_type": "stream",
     "text": [
      "The number of uppercase letters are :-  1\n"
     ]
    }
   ],
   "source": [
    "digits=0\n",
    "for word in string:\n",
    "    if word.isupper():\n",
    "        digits+=1\n",
    "print(\"The number of uppercase letters are :- \",digits)"
   ]
  },
  {
   "cell_type": "code",
   "execution_count": null,
   "id": "16a2ffc9-3614-45da-b010-4eb58802803d",
   "metadata": {},
   "outputs": [],
   "source": [
    "27. Count the number of lowercase letters in a string."
   ]
  },
  {
   "cell_type": "code",
   "execution_count": 44,
   "id": "517bff31-bac3-4acb-9216-5d83e0db42e1",
   "metadata": {},
   "outputs": [
    {
     "name": "stdin",
     "output_type": "stream",
     "text": [
      "Enter a string:-  Helloworld\n"
     ]
    },
    {
     "name": "stdout",
     "output_type": "stream",
     "text": [
      "The string provided is:-  Helloworld\n"
     ]
    }
   ],
   "source": [
    "string=input(\"Enter a string:- \")\n",
    "print(\"The string provided is:- \",string)"
   ]
  },
  {
   "cell_type": "code",
   "execution_count": 45,
   "id": "8e1c9a27-f7f1-4662-9ac3-ad56ecde3430",
   "metadata": {},
   "outputs": [
    {
     "name": "stdout",
     "output_type": "stream",
     "text": [
      "The number of lowercase letters are :-  9\n"
     ]
    }
   ],
   "source": [
    "digits=0\n",
    "for word in string:\n",
    "    if word.islower():\n",
    "        digits+=1\n",
    "print(\"The number of lowercase letters are :- \",digits)"
   ]
  },
  {
   "cell_type": "code",
   "execution_count": null,
   "id": "9b5f4540-1fac-4854-bea9-bcd6090950b0",
   "metadata": {},
   "outputs": [],
   "source": [
    "28. Swap the case of each character in a string."
   ]
  },
  {
   "cell_type": "code",
   "execution_count": 46,
   "id": "43643bf1-864f-4b62-936d-0fa46f040176",
   "metadata": {},
   "outputs": [
    {
     "name": "stdin",
     "output_type": "stream",
     "text": [
      "Enter a string:-  HelloWorld\n"
     ]
    },
    {
     "name": "stdout",
     "output_type": "stream",
     "text": [
      "The string provided is:-  HelloWorld\n"
     ]
    }
   ],
   "source": [
    "string=input(\"Enter a string:- \")\n",
    "print(\"The string provided is:- \",string)"
   ]
  },
  {
   "cell_type": "code",
   "execution_count": 49,
   "id": "038d9b45-a6a1-4826-b46e-ce4a4374a96f",
   "metadata": {},
   "outputs": [
    {
     "name": "stdout",
     "output_type": "stream",
     "text": [
      "String after changing :-  hELLOwORLD\n"
     ]
    }
   ],
   "source": [
    "string = string.swapcase()\n",
    "print(\"String after changing :- \",string)"
   ]
  },
  {
   "cell_type": "code",
   "execution_count": null,
   "id": "d3b2ba67-3d02-47ec-ba83-59e6fe38af40",
   "metadata": {},
   "outputs": [],
   "source": [
    "29. Remove a specific word from a string."
   ]
  },
  {
   "cell_type": "code",
   "execution_count": null,
   "id": "dca842c5-0e06-4eda-bc0c-916386300125",
   "metadata": {},
   "outputs": [],
   "source": [
    "string=input(\"Enter a string:- \")\n",
    "print(\"The string provided is:- \",string)"
   ]
  },
  {
   "cell_type": "code",
   "execution_count": 59,
   "id": "415586e6-bbef-47d8-ba8a-edfd196e9138",
   "metadata": {},
   "outputs": [
    {
     "ename": "AttributeError",
     "evalue": "'NoneType' object has no attribute 'split'",
     "output_type": "error",
     "traceback": [
      "\u001b[0;31m---------------------------------------------------------------------------\u001b[0m",
      "\u001b[0;31mAttributeError\u001b[0m                            Traceback (most recent call last)",
      "Cell \u001b[0;32mIn[59], line 1\u001b[0m\n\u001b[0;32m----> 1\u001b[0m split_string \u001b[38;5;241m=\u001b[39m \u001b[43mstring\u001b[49m\u001b[38;5;241;43m.\u001b[39;49m\u001b[43msplit\u001b[49m()\n\u001b[1;32m      2\u001b[0m split_string\u001b[38;5;241m.\u001b[39mremove(\u001b[38;5;124m\"\u001b[39m\u001b[38;5;124mmst\u001b[39m\u001b[38;5;124m\"\u001b[39m)\n\u001b[1;32m      3\u001b[0m new_string \u001b[38;5;241m=\u001b[39m \u001b[38;5;124m'\u001b[39m\u001b[38;5;124m \u001b[39m\u001b[38;5;124m'\u001b[39m\u001b[38;5;241m.\u001b[39mjoin(split_string)\n",
      "\u001b[0;31mAttributeError\u001b[0m: 'NoneType' object has no attribute 'split'"
     ]
    }
   ],
   "source": [
    "split_string = string.split()\n",
    "split_string.remove(\"mst\")\n",
    "new_string = ' '.join(split_string)\n",
    "print(\"String changed is:\", new_string)"
   ]
  },
  {
   "cell_type": "code",
   "execution_count": null,
   "id": "58588745-0857-44e2-9e9a-0504e12b0704",
   "metadata": {},
   "outputs": [],
   "source": [
    "30. Check if a string is a valid email address."
   ]
  },
  {
   "cell_type": "code",
   "execution_count": 1,
   "id": "fe3580bc-e863-46c7-b095-2e87c897fee3",
   "metadata": {},
   "outputs": [
    {
     "name": "stdout",
     "output_type": "stream",
     "text": [
      "True\n",
      "True\n"
     ]
    }
   ],
   "source": [
    "import re\n",
    "def is_valid_email(email):\n",
    "    pattern = r'^[\\w\\.-]+@[\\w\\.-]+\\.\\w+$'  \n",
    "    if re.match(pattern, email):\n",
    "        return True\n",
    "    else:\n",
    "        return False\n",
    "email1 = \"ayan02mukherjee22@email.com\"\n",
    "email2 = \"1234@gmail.com\"\n",
    "result1 = is_valid_email(email1)\n",
    "result2 = is_valid_email(email2)\n",
    "print(result1)\n",
    "print(result2)\n"
   ]
  },
  {
   "cell_type": "code",
   "execution_count": null,
   "id": "1a70dbf7-2f7d-4846-ba1f-62870db42a80",
   "metadata": {},
   "outputs": [],
   "source": [
    "31. Extract the username from an email address string."
   ]
  },
  {
   "cell_type": "code",
   "execution_count": 2,
   "id": "4d675301-8de3-4735-b751-45ce3d42843e",
   "metadata": {},
   "outputs": [
    {
     "name": "stdout",
     "output_type": "stream",
     "text": [
      "ayan02mukherjee\n"
     ]
    }
   ],
   "source": [
    "email=\"ayan02mukherjee@gmail.com\"\n",
    "string=email.split(\"@\")[0]\n",
    "print(string)"
   ]
  },
  {
   "cell_type": "code",
   "execution_count": null,
   "id": "7c619058-c647-4b55-9701-fe99caf97179",
   "metadata": {},
   "outputs": [],
   "source": [
    "32. Extract the domain name from an email address string."
   ]
  },
  {
   "cell_type": "code",
   "execution_count": 7,
   "id": "29c4f7f3-a626-4218-83cf-29f0e53c94ee",
   "metadata": {},
   "outputs": [
    {
     "name": "stdout",
     "output_type": "stream",
     "text": [
      "gmail.com\n"
     ]
    }
   ],
   "source": [
    "email=\"ayan@gmail.com\"\n",
    "string=email.split(\"@\")[1]\n",
    "print(string)"
   ]
  },
  {
   "cell_type": "code",
   "execution_count": null,
   "id": "6b5492d6-7bde-42fe-ac54-076e906dccd0",
   "metadata": {},
   "outputs": [],
   "source": [
    "33. Replace multiple spaces in a string with a single space."
   ]
  },
  {
   "cell_type": "code",
   "execution_count": 10,
   "id": "203bd49f-9327-4582-9b83-c417daf3de51",
   "metadata": {},
   "outputs": [],
   "source": [
    "string=\"    the     world  is beautiful\"\n",
    "res=' '.join(string.split())"
   ]
  },
  {
   "cell_type": "code",
   "execution_count": 11,
   "id": "59f1df95-c208-4966-b083-8609c0768c66",
   "metadata": {},
   "outputs": [
    {
     "name": "stdout",
     "output_type": "stream",
     "text": [
      "the world is beautiful\n"
     ]
    }
   ],
   "source": [
    "print(res)"
   ]
  },
  {
   "cell_type": "code",
   "execution_count": null,
   "id": "0dd8f036-000a-49ae-b5a6-c10ed30c3701",
   "metadata": {},
   "outputs": [],
   "source": [
    "34. Check if a string is a valid URL."
   ]
  },
  {
   "cell_type": "code",
   "execution_count": 13,
   "id": "75869b00-9137-4b4b-886b-c46390cf27ed",
   "metadata": {},
   "outputs": [
    {
     "name": "stdout",
     "output_type": "stream",
     "text": [
      "The string is not a URL\n"
     ]
    }
   ],
   "source": [
    "email=\"ayan2gmail.com\"\n",
    "if '.com' and '@' in email:\n",
    "    print(\"The string is a valid URL\")\n",
    "else:\n",
    "    print(\"The string is not a URL\")"
   ]
  },
  {
   "cell_type": "code",
   "execution_count": null,
   "id": "2348adf5-a789-4afe-94b5-efac99435042",
   "metadata": {},
   "outputs": [],
   "source": [
    "35. Extract the protocol (http or https) from a URL string."
   ]
  },
  {
   "cell_type": "code",
   "execution_count": 16,
   "id": "b31ff2f2-d0cc-4613-b554-af3dfc6ed02b",
   "metadata": {},
   "outputs": [
    {
     "name": "stdout",
     "output_type": "stream",
     "text": [
      "https\n"
     ]
    }
   ],
   "source": [
    "url=\"https://github.com/\"\n",
    "string=url.split(':')[0]\n",
    "print(string)"
   ]
  },
  {
   "cell_type": "code",
   "execution_count": null,
   "id": "2d597f35-cd3d-44d9-8f65-9308b1c66429",
   "metadata": {},
   "outputs": [],
   "source": [
    "36. Find the frequency of each character in a string."
   ]
  },
  {
   "cell_type": "code",
   "execution_count": 17,
   "id": "d26ed1ec-8c53-4294-abdb-4c4420cc1db0",
   "metadata": {},
   "outputs": [
    {
     "name": "stdin",
     "output_type": "stream",
     "text": [
      "Enter a string:-  ayanmukherjee\n"
     ]
    },
    {
     "name": "stdout",
     "output_type": "stream",
     "text": [
      "The string provided is:-  ayanmukherjee\n"
     ]
    }
   ],
   "source": [
    "string=input(\"Enter a string:- \")\n",
    "print(\"The string provided is:- \",string)"
   ]
  },
  {
   "cell_type": "code",
   "execution_count": 25,
   "id": "44a9157e-8e0c-4e49-8d45-74fa16159034",
   "metadata": {},
   "outputs": [
    {
     "name": "stdout",
     "output_type": "stream",
     "text": [
      "Character: 'a', Frequency: 2\n",
      "Character: 'y', Frequency: 1\n",
      "Character: 'n', Frequency: 1\n",
      "Character: 'm', Frequency: 1\n",
      "Character: 'u', Frequency: 1\n",
      "Character: 'k', Frequency: 1\n",
      "Character: 'h', Frequency: 1\n",
      "Character: 'e', Frequency: 3\n",
      "Character: 'r', Frequency: 1\n",
      "Character: 'j', Frequency: 1\n"
     ]
    }
   ],
   "source": [
    "char_freq = {}\n",
    "for char in string:\n",
    "    if char in char_freq:\n",
    "        char_freq[char] += 1\n",
    "    else:\n",
    "        char_freq[char] = 1\n",
    "for char, freq in char_freq.items():\n",
    "    print(f\"Character: '{char}', Frequency: {freq}\")"
   ]
  },
  {
   "cell_type": "code",
   "execution_count": null,
   "id": "0431d759-3734-4342-af3c-adff15cf30b8",
   "metadata": {},
   "outputs": [],
   "source": [
    "37. Remove all punctuation from a string."
   ]
  },
  {
   "cell_type": "code",
   "execution_count": 30,
   "id": "61d577ba-0d8b-477d-abaa-787eae67031b",
   "metadata": {},
   "outputs": [
    {
     "name": "stdout",
     "output_type": "stream",
     "text": [
      "Hello World This is an example string\n"
     ]
    }
   ],
   "source": [
    "import string\n",
    "\n",
    "input_string = \"Hello, World! This is an example string.\"\n",
    "\n",
    "translator = str.maketrans('', '', string.punctuation)\n",
    "cleaned_string = input_string.translate(translator)\n",
    "\n",
    "print(cleaned_string)"
   ]
  },
  {
   "cell_type": "code",
   "execution_count": null,
   "id": "10b9ec33-6b93-4d70-9621-ee2b24bb02aa",
   "metadata": {},
   "outputs": [],
   "source": [
    "38. Check if a string contains only digits."
   ]
  },
  {
   "cell_type": "code",
   "execution_count": 32,
   "id": "74222079-e8a5-47cf-b790-3be653ca5d78",
   "metadata": {},
   "outputs": [
    {
     "name": "stdout",
     "output_type": "stream",
     "text": [
      "It has only digits\n"
     ]
    }
   ],
   "source": [
    "string=\"12345\"\n",
    "if string.isdigit():\n",
    "    print(\"It has only digits\")\n",
    "else:\n",
    "    print(\"It doesnt have only digits\")"
   ]
  },
  {
   "cell_type": "code",
   "execution_count": null,
   "id": "3af8de84-6193-4d77-8769-8036d0138f32",
   "metadata": {},
   "outputs": [],
   "source": [
    "39. Check if a string contains only alphabets."
   ]
  },
  {
   "cell_type": "code",
   "execution_count": 34,
   "id": "da3b0997-045c-4fe3-9ddf-c36309d45b1d",
   "metadata": {},
   "outputs": [
    {
     "name": "stdout",
     "output_type": "stream",
     "text": [
      "It doesnt have only alphabets\n"
     ]
    }
   ],
   "source": [
    "string=\"12345\"\n",
    "if string.isalpha():\n",
    "    print(\"It has only alphabets\")\n",
    "else:\n",
    "    print(\"It doesnt have only alphabets\")"
   ]
  },
  {
   "cell_type": "code",
   "execution_count": null,
   "id": "293c14f1-0071-4b62-99d4-79c1003fb860",
   "metadata": {},
   "outputs": [],
   "source": [
    "40. Convert a string to a list of characters."
   ]
  },
  {
   "cell_type": "code",
   "execution_count": 35,
   "id": "ad95c87c-6f39-4c04-8db5-551c728fe4de",
   "metadata": {},
   "outputs": [
    {
     "name": "stdout",
     "output_type": "stream",
     "text": [
      "['T', 'o', 'd', 'a', 'y', ' ', 'i', 's', ' ', 'a', ' ', 'b', 'e', 'a', 'u', 't', 'i', 'f', 'u', 'l', ' ', 'd', 'a', 'y']\n"
     ]
    }
   ],
   "source": [
    "string = \"Today is a beautiful day\"\n",
    "print(list(string))"
   ]
  },
  {
   "cell_type": "code",
   "execution_count": null,
   "id": "236ea10c-46ea-4fae-85c7-fb349104a213",
   "metadata": {},
   "outputs": [],
   "source": [
    "41. Check if two strings are anagrams."
   ]
  },
  {
   "cell_type": "code",
   "execution_count": 38,
   "id": "784b92f9-fb41-4bb4-a3a6-6f9b6a93faec",
   "metadata": {},
   "outputs": [
    {
     "name": "stdout",
     "output_type": "stream",
     "text": [
      "The two strings are anagrams\n"
     ]
    }
   ],
   "source": [
    "str1=\"listen\"\n",
    "str2=\"silent\"\n",
    "if sorted(str1) == sorted(str2):\n",
    "    print(\"The two strings are anagrams\")\n",
    "else:\n",
    "    print(\"The two strings are not anagrams\")"
   ]
  },
  {
   "cell_type": "code",
   "execution_count": null,
   "id": "8c02dcc0-8eea-4fc6-a3d2-e7935a8acf9d",
   "metadata": {},
   "outputs": [],
   "source": [
    "42. Encode a string using a Caesar cipher."
   ]
  },
  {
   "cell_type": "code",
   "execution_count": 39,
   "id": "150ac6c6-5ab6-43d2-b2bd-686436c04ca7",
   "metadata": {},
   "outputs": [],
   "source": [
    "string=\"helloworld\"\n",
    "s=3"
   ]
  },
  {
   "cell_type": "code",
   "execution_count": 41,
   "id": "03171525-efb3-41ae-81f2-25d0263af040",
   "metadata": {},
   "outputs": [
    {
     "name": "stdout",
     "output_type": "stream",
     "text": [
      "khoorzruog\n"
     ]
    }
   ],
   "source": [
    "result = \"\"\n",
    "for i in range(len(string)):\n",
    "        char = string[i]\n",
    "        if (char.isupper()):\n",
    "            result += chr((ord(char) + s-65) % 26 + 65)\n",
    "        else:\n",
    "            result += chr((ord(char) + s - 97) % 26 + 97)\n",
    "print(result)"
   ]
  },
  {
   "cell_type": "code",
   "execution_count": null,
   "id": "856c5344-8aca-44f4-bdd4-7e8e9e422b91",
   "metadata": {},
   "outputs": [],
   "source": [
    "43. Decode a Caesar cipher encoded string."
   ]
  },
  {
   "cell_type": "code",
   "execution_count": 46,
   "id": "e613a7d5-51ea-4c6d-9543-1175eda084e7",
   "metadata": {},
   "outputs": [],
   "source": [
    "string=\"khoorzruog\"\n",
    "s=-3"
   ]
  },
  {
   "cell_type": "code",
   "execution_count": 47,
   "id": "3ab29f80-80a0-49f8-9d86-5714e8432925",
   "metadata": {},
   "outputs": [
    {
     "name": "stdout",
     "output_type": "stream",
     "text": [
      "helloworld\n"
     ]
    }
   ],
   "source": [
    "ans = \"\"\n",
    "for i in range(len(string)):\n",
    "        ch = string[i]\n",
    "        if ch==\" \":\n",
    "            ans+=\" \"\n",
    "        elif (ch.isupper()):\n",
    "            ans += chr((ord(ch) + s-65) % 26 + 65)\n",
    "        else:\n",
    "            ans += chr((ord(ch) + s-97) % 26 + 97)\n",
    "print(ans)"
   ]
  },
  {
   "cell_type": "code",
   "execution_count": null,
   "id": "301a013c-b299-4010-9772-6f1c314e66fd",
   "metadata": {},
   "outputs": [],
   "source": [
    "44. Find the most frequent word in a string."
   ]
  },
  {
   "cell_type": "code",
   "execution_count": 58,
   "id": "01e12c49-cc3b-4fc8-81b7-9f6655a784eb",
   "metadata": {},
   "outputs": [
    {
     "name": "stdout",
     "output_type": "stream",
     "text": [
      "Most frequent word: hello\n"
     ]
    }
   ],
   "source": [
    "import re\n",
    "from collections import Counter\n",
    "def most_frequent_word(input_string):\n",
    "    clean_string = re.sub(r'[^\\w\\s]', '', input_string).lower()\n",
    "    words = clean_string.split()\n",
    "    word_counter = Counter(words)\n",
    "    most_common_word = word_counter.most_common(1)[0][0]\n",
    "    return most_common_word\n",
    "input_str = \"Hello world, hello there! How's the world?\"\n",
    "most_common = most_frequent_word(input_str)\n",
    "print(\"Most frequent word:\", most_common)"
   ]
  },
  {
   "cell_type": "code",
   "execution_count": null,
   "id": "52e247fb-ccf0-4109-a309-0a63ba5525a4",
   "metadata": {},
   "outputs": [],
   "source": [
    "45. Find all unique words in a string."
   ]
  },
  {
   "cell_type": "code",
   "execution_count": 5,
   "id": "3baf8cbd-fa94-4bfa-bfed-fcb3ca126d55",
   "metadata": {},
   "outputs": [
    {
     "name": "stdout",
     "output_type": "stream",
     "text": [
      "{',', 'a', 'beautiful', 'day', 'what'}\n"
     ]
    }
   ],
   "source": [
    "string=\"day , what a beautiful day\"\n",
    "l_string=list(string)\n",
    "sp_str=string.split()\n",
    "print(set(sp_str))"
   ]
  },
  {
   "cell_type": "code",
   "execution_count": null,
   "id": "06a76807-cdf2-43ac-aa02-d550c8dc2315",
   "metadata": {},
   "outputs": [],
   "source": [
    "46. Count the number of syllables in a string."
   ]
  },
  {
   "cell_type": "code",
   "execution_count": 11,
   "id": "9badb7d3-5df9-41a3-9d1d-4ce98ade5fde",
   "metadata": {},
   "outputs": [],
   "source": [
    "word=\"banana\""
   ]
  },
  {
   "cell_type": "code",
   "execution_count": 12,
   "id": "e6d442e2-b0e9-4417-b3ae-6f7b89b74652",
   "metadata": {},
   "outputs": [
    {
     "name": "stdout",
     "output_type": "stream",
     "text": [
      "Number of syllables:-  3\n"
     ]
    }
   ],
   "source": [
    "syllables = 0\n",
    "for i in range(len(word)):\n",
    "    if word[i] in \"aeiou\":\n",
    "      syllables += 1\n",
    "    if word[i] == \"y\" and i != len(word) - 1 and word[i + 1] in \"aeiou\":\n",
    "      syllables += 1\n",
    "print(\"Number of syllables:- \",syllables)"
   ]
  },
  {
   "cell_type": "code",
   "execution_count": null,
   "id": "30c485bc-9b39-437e-b953-661f387958f8",
   "metadata": {},
   "outputs": [],
   "source": [
    "47. Check if a string contains any special characters."
   ]
  },
  {
   "cell_type": "code",
   "execution_count": 22,
   "id": "0aec8fec-73c3-4552-8e6d-0ac3882359d8",
   "metadata": {},
   "outputs": [
    {
     "name": "stdout",
     "output_type": "stream",
     "text": [
      "The string has special characters!!\n"
     ]
    }
   ],
   "source": [
    "string = \"Ayan@good\"\n",
    "flag = 0  \n",
    "for char in string:\n",
    "    if char in '!@#$%^&*':\n",
    "        flag = 1\n",
    "        break \n",
    "if flag == 1:\n",
    "    print(\"The string has special characters!!\")\n",
    "else:\n",
    "    print(\"The string doesn't have special characters!!\")"
   ]
  },
  {
   "cell_type": "code",
   "execution_count": null,
   "id": "9e618f78-d5a7-4b30-9297-f372fcc747a9",
   "metadata": {},
   "outputs": [],
   "source": [
    "48. Remove the nth word from a string."
   ]
  },
  {
   "cell_type": "code",
   "execution_count": 26,
   "id": "a14a5593-cb5b-4493-9098-a20b8465c2f2",
   "metadata": {},
   "outputs": [
    {
     "name": "stdout",
     "output_type": "stream",
     "text": [
      "ayan is good guy\n"
     ]
    }
   ],
   "source": [
    "input_string=\"ayan is a good guy\"\n",
    "n=2\n",
    "words = input_string.split()\n",
    "if 0 <= n < len(words):\n",
    "        del words[n]\n",
    "        result_string = ' '.join(words)\n",
    "        print(result_string)\n",
    "else:\n",
    "        print(\"Invalid index, word not removed.\")"
   ]
  },
  {
   "cell_type": "code",
   "execution_count": null,
   "id": "4d459ffd-5025-4d8f-adf7-60908060b5bf",
   "metadata": {},
   "outputs": [],
   "source": [
    "49. Insert a word at the nth position in a string."
   ]
  },
  {
   "cell_type": "code",
   "execution_count": 30,
   "id": "b4e03592-50a9-4dbf-961c-eb9833949d30",
   "metadata": {},
   "outputs": [
    {
     "name": "stdout",
     "output_type": "stream",
     "text": [
      "ayan is awesome good guy\n"
     ]
    }
   ],
   "source": [
    "input_string = \"ayan is good guy\"\n",
    "n = 2\n",
    "new_word = \"awesome\" \n",
    "words = input_string.split()\n",
    "if 0 <= n <= len(words):\n",
    "    words.insert(n, new_word) \n",
    "    result_string = ' '.join(words)\n",
    "    print(result_string)\n",
    "else:\n",
    "    print(\"Invalid position, word not added.\")"
   ]
  },
  {
   "cell_type": "code",
   "execution_count": null,
   "id": "d5a93a26-f4a4-4d55-b4eb-f03053ca9263",
   "metadata": {},
   "outputs": [],
   "source": [
    "50. Convert a CSV string to a list of lists."
   ]
  },
  {
   "cell_type": "code",
   "execution_count": 33,
   "id": "3a400fb9-d9fa-41c3-b459-a386be2a3844",
   "metadata": {},
   "outputs": [
    {
     "name": "stdout",
     "output_type": "stream",
     "text": [
      "[['Name', ' Age', ' Country'], ['John', ' 25', ' USA'], ['Alice', ' 30', ' Canada'], ['Bob', ' 22', ' UK']]\n"
     ]
    }
   ],
   "source": [
    "csv_data = \"Name, Age, Country\\nJohn, 25, USA\\nAlice, 30, Canada\\nBob, 22, UK\"\n",
    "lines = csv_data.split('\\n')\n",
    "result = []\n",
    "for line in lines:\n",
    "        fields = line.split(',')\n",
    "        result.append(fields)\n",
    "print(result)"
   ]
  },
  {
   "cell_type": "markdown",
   "id": "2affa3a4-dcff-4af8-8fdc-5c2f0ab82829",
   "metadata": {},
   "source": [
    "List Based Practice Problem :"
   ]
  },
  {
   "cell_type": "code",
   "execution_count": null,
   "id": "47ee2b1c-1a43-4675-bdcb-b9080cf14b28",
   "metadata": {},
   "outputs": [],
   "source": [
    "1. Create a list with integers from 1 to 10."
   ]
  }
 ],
 "metadata": {
  "kernelspec": {
   "display_name": "Python 3 (ipykernel)",
   "language": "python",
   "name": "python3"
  },
  "language_info": {
   "codemirror_mode": {
    "name": "ipython",
    "version": 3
   },
   "file_extension": ".py",
   "mimetype": "text/x-python",
   "name": "python",
   "nbconvert_exporter": "python",
   "pygments_lexer": "ipython3",
   "version": "3.10.8"
  }
 },
 "nbformat": 4,
 "nbformat_minor": 5
}
