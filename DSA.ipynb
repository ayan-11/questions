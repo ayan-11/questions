{
 "cells": [
  {
   "cell_type": "markdown",
   "id": "9d9bfb79-fce8-4736-9019-b903be06a9fb",
   "metadata": {},
   "source": [
    "Problem 1: Reverse a singly linked list."
   ]
  },
  {
   "cell_type": "code",
   "execution_count": 1,
   "id": "af740b97-cc8b-4e9e-a7a6-1ab44b01729a",
   "metadata": {},
   "outputs": [
    {
     "name": "stdout",
     "output_type": "stream",
     "text": [
      "Output: 5 -> 4 -> 3 -> 2 -> 1 -> None\n"
     ]
    }
   ],
   "source": [
    "class ListNode:\n",
    "    def __init__(self, val=0, next=None):\n",
    "        self.val = val\n",
    "        self.next = next\n",
    "\n",
    "def reverse_linked_list(head):\n",
    "    prev = None\n",
    "    current = head\n",
    "    while current:\n",
    "        next_node = current.next\n",
    "        current.next = prev\n",
    "        prev = current\n",
    "        current = next_node\n",
    "    return prev\n",
    "\n",
    "# Helper function to print the reversed linked list\n",
    "def print_linked_list(head):\n",
    "    current = head\n",
    "    while current:\n",
    "        print(current.val, end=\" -> \")\n",
    "        current = current.next\n",
    "    print(\"None\")\n",
    "\n",
    "# Input list: 1 -> 2 -> 3 -> 4 -> 5\n",
    "head = ListNode(1)\n",
    "head.next = ListNode(2)\n",
    "head.next.next = ListNode(3)\n",
    "head.next.next.next = ListNode(4)\n",
    "head.next.next.next.next = ListNode(5)\n",
    "\n",
    "# Reverse the linked list\n",
    "reversed_head = reverse_linked_list(head)\n",
    "\n",
    "# Print the reversed linked list\n",
    "print(\"Output:\", end=\" \")\n",
    "print_linked_list(reversed_head)\n"
   ]
  },
  {
   "cell_type": "markdown",
   "id": "94a03507-b400-463c-a06c-01681e9ddc82",
   "metadata": {},
   "source": [
    "Problem 2: Merge two sorted linked lists into one sorted linked list."
   ]
  },
  {
   "cell_type": "code",
   "execution_count": 2,
   "id": "6ea29dd3-3c22-4f5f-813e-011593dfb389",
   "metadata": {},
   "outputs": [
    {
     "name": "stdout",
     "output_type": "stream",
     "text": [
      "Merged List: 1 -> 1 -> 2 -> 3 -> 4 -> 4 -> None\n"
     ]
    }
   ],
   "source": [
    "class ListNode:\n",
    "    def __init__(self, val=0, next=None):\n",
    "        self.val = val\n",
    "        self.next = next\n",
    "\n",
    "def merge_sorted_lists(l1, l2):\n",
    "    dummy = ListNode()\n",
    "    current = dummy\n",
    "    while l1 and l2:\n",
    "        if l1.val < l2.val:\n",
    "            current.next = l1\n",
    "            l1 = l1.next\n",
    "        else:\n",
    "            current.next = l2\n",
    "            l2 = l2.next\n",
    "        current = current.next\n",
    "    current.next = l1 or l2\n",
    "    return dummy.next\n",
    "\n",
    "# Helper function to print the merged linked list\n",
    "def print_linked_list(head):\n",
    "    current = head\n",
    "    while current:\n",
    "        print(current.val, end=\" -> \")\n",
    "        current = current.next\n",
    "    print(\"None\")\n",
    "\n",
    "# Input lists: 1 -> 2 -> 4, 1 -> 3 -> 4\n",
    "l1 = ListNode(1)\n",
    "l1.next = ListNode(2)\n",
    "l1.next.next = ListNode(4)\n",
    "\n",
    "l2 = ListNode(1)\n",
    "l2.next = ListNode(3)\n",
    "l2.next.next = ListNode(4)\n",
    "\n",
    "# Merge the linked lists\n",
    "merged_head = merge_sorted_lists(l1, l2)\n",
    "\n",
    "# Print the merged linked list\n",
    "print(\"Merged List:\", end=\" \")\n",
    "print_linked_list(merged_head)\n"
   ]
  },
  {
   "cell_type": "markdown",
   "id": "c4cd2994-c41a-4997-805c-3a0f90deb943",
   "metadata": {},
   "source": [
    "Problem 3: Remove the nth node from the end of a linked list."
   ]
  },
  {
   "cell_type": "code",
   "execution_count": 3,
   "id": "b8186e2f-816d-42dc-be1c-1a30fd0f9964",
   "metadata": {},
   "outputs": [
    {
     "name": "stdout",
     "output_type": "stream",
     "text": [
      "Updated List: 1 -> 2 -> 3 -> 5 -> None\n"
     ]
    }
   ],
   "source": [
    "class ListNode:\n",
    "    def __init__(self, val=0, next=None):\n",
    "        self.val = val\n",
    "        self.next = next\n",
    "\n",
    "def remove_nth_from_end(head, n):\n",
    "    dummy = ListNode(0)\n",
    "    dummy.next = head\n",
    "    slow = fast = dummy\n",
    "    # Move the fast pointer n steps ahead\n",
    "    for _ in range(n):\n",
    "        fast = fast.next\n",
    "    # Move both pointers until the fast pointer reaches the end\n",
    "    while fast.next:\n",
    "        slow = slow.next\n",
    "        fast = fast.next\n",
    "    # Remove the nth node from the end\n",
    "    slow.next = slow.next.next\n",
    "    return dummy.next\n",
    "\n",
    "# Helper function to print the linked list\n",
    "def print_linked_list(head):\n",
    "    current = head\n",
    "    while current:\n",
    "        print(current.val, end=\" -> \")\n",
    "        current = current.next\n",
    "    print(\"None\")\n",
    "\n",
    "# Input list: 1 -> 2 -> 3 -> 4 -> 5\n",
    "head = ListNode(1)\n",
    "head.next = ListNode(2)\n",
    "head.next.next = ListNode(3)\n",
    "head.next.next.next = ListNode(4)\n",
    "head.next.next.next.next = ListNode(5)\n",
    "n = 2\n",
    "\n",
    "# Remove the nth node from the end\n",
    "head = remove_nth_from_end(head, n)\n",
    "\n",
    "# Print the updated linked list\n",
    "print(\"Updated List:\", end=\" \")\n",
    "print_linked_list(head)\n"
   ]
  },
  {
   "cell_type": "code",
   "execution_count": 4,
   "id": "3bdb2e6b-74ae-4ba2-acb1-b98468cc95cf",
   "metadata": {},
   "outputs": [
    {
     "ename": "SyntaxError",
     "evalue": "invalid syntax (432282339.py, line 1)",
     "output_type": "error",
     "traceback": [
      "\u001b[0;36m  Cell \u001b[0;32mIn[4], line 1\u001b[0;36m\u001b[0m\n\u001b[0;31m    Problem 4: Find the intersection point of two linked lists.\u001b[0m\n\u001b[0m            ^\u001b[0m\n\u001b[0;31mSyntaxError\u001b[0m\u001b[0;31m:\u001b[0m invalid syntax\n"
     ]
    }
   ],
   "source": [
    "Problem 4: Find the intersection point of two linked lists."
   ]
  },
  {
   "cell_type": "code",
   "execution_count": 5,
   "id": "73176bc0-4bf4-448e-ae83-33fdd067f886",
   "metadata": {},
   "outputs": [
    {
     "name": "stdout",
     "output_type": "stream",
     "text": [
      "Intersection Point: 3\n"
     ]
    }
   ],
   "source": [
    "class ListNode:\n",
    "    def __init__(self, val=0, next=None):\n",
    "        self.val = val\n",
    "        self.next = next\n",
    "\n",
    "def get_intersection_node(headA, headB):\n",
    "    lenA, lenB = 0, 0\n",
    "    nodeA, nodeB = headA, headB\n",
    "\n",
    "    # Find the lengths of both lists\n",
    "    while nodeA:\n",
    "        lenA += 1\n",
    "        nodeA = nodeA.next\n",
    "\n",
    "    while nodeB:\n",
    "        lenB += 1\n",
    "        nodeB = nodeB.next\n",
    "\n",
    "    # Adjust the starting point of the longer list\n",
    "    nodeA, nodeB = headA, headB\n",
    "    if lenA > lenB:\n",
    "        for _ in range(lenA - lenB):\n",
    "            nodeA = nodeA.next\n",
    "    else:\n",
    "        for _ in range(lenB - lenA):\n",
    "            nodeB = nodeB.next\n",
    "\n",
    "    # Traverse both lists in parallel until intersection point is found\n",
    "    while nodeA != nodeB:\n",
    "        nodeA = nodeA.next\n",
    "        nodeB = nodeB.next\n",
    "\n",
    "    return nodeA\n",
    "\n",
    "# Helper function to print the linked list\n",
    "def print_linked_list(head):\n",
    "    current = head\n",
    "    while current:\n",
    "        print(current.val, end=\" -> \")\n",
    "        current = current.next\n",
    "    print(\"None\")\n",
    "\n",
    "# Example:\n",
    "# Input lists: 1 -> 2 -> 3 -> 4, 5 -> 6 -> 3 -> 4\n",
    "# Intersection point: Node with value 3\n",
    "\n",
    "# Create the lists\n",
    "common_node = ListNode(3)\n",
    "common_node.next = ListNode(4)\n",
    "\n",
    "list1 = ListNode(1)\n",
    "list1.next = ListNode(2)\n",
    "list1.next.next = common_node\n",
    "\n",
    "list2 = ListNode(5)\n",
    "list2.next = ListNode(6)\n",
    "list2.next.next = common_node\n",
    "\n",
    "# Find the intersection point\n",
    "intersection_node = get_intersection_node(list1, list2)\n",
    "\n",
    "# Print the intersection point\n",
    "print(\"Intersection Point:\", intersection_node.val)\n"
   ]
  },
  {
   "cell_type": "markdown",
   "id": "9142f14d-1e12-4653-9189-17bd719fa743",
   "metadata": {},
   "source": [
    "Problem 5: Remove duplicates from a sorted linked list."
   ]
  },
  {
   "cell_type": "code",
   "execution_count": 6,
   "id": "1907a728-0531-454a-a4f4-7db3ec2ebf82",
   "metadata": {},
   "outputs": [
    {
     "name": "stdout",
     "output_type": "stream",
     "text": [
      "Updated List: 1 -> 2 -> 3 -> None\n"
     ]
    }
   ],
   "source": [
    "class ListNode:\n",
    "    def __init__(self, val=0, next=None):\n",
    "        self.val = val\n",
    "        self.next = next\n",
    "\n",
    "def delete_duplicates(head):\n",
    "    current = head\n",
    "    while current and current.next:\n",
    "        if current.val == current.next.val:\n",
    "            current.next = current.next.next\n",
    "        else:\n",
    "            current = current.next\n",
    "    return head\n",
    "\n",
    "# Helper function to print the linked list\n",
    "def print_linked_list(head):\n",
    "    current = head\n",
    "    while current:\n",
    "        print(current.val, end=\" -> \")\n",
    "        current = current.next\n",
    "    print(\"None\")\n",
    "\n",
    "# Example:\n",
    "# Input list: 1 -> 1 -> 2 -> 3 -> 3\n",
    "# Output list: 1 -> 2 -> 3\n",
    "\n",
    "# Create the list\n",
    "head = ListNode(1)\n",
    "head.next = ListNode(1)\n",
    "head.next.next = ListNode(2)\n",
    "head.next.next.next = ListNode(3)\n",
    "head.next.next.next.next = ListNode(3)\n",
    "\n",
    "# Remove duplicates\n",
    "head = delete_duplicates(head)\n",
    "\n",
    "# Print the updated list\n",
    "print(\"Updated List:\", end=\" \")\n",
    "print_linked_list(head)\n"
   ]
  },
  {
   "cell_type": "markdown",
   "id": "16195865-d6df-41e0-b20b-3e561c0cb39a",
   "metadata": {},
   "source": [
    "Problem 6: Add two numbers represented by linked lists (where each node contains a single digit)."
   ]
  },
  {
   "cell_type": "code",
   "execution_count": 7,
   "id": "f0049854-e283-42cd-b1f6-c4092e5c324b",
   "metadata": {},
   "outputs": [
    {
     "name": "stdout",
     "output_type": "stream",
     "text": [
      "Sum Result: 7 -> 0 -> 8 -> None\n"
     ]
    }
   ],
   "source": [
    "class ListNode:\n",
    "    def __init__(self, val=0, next=None):\n",
    "        self.val = val\n",
    "        self.next = next\n",
    "\n",
    "def add_two_numbers(l1, l2):\n",
    "    dummy = ListNode()\n",
    "    current = dummy\n",
    "    carry = 0\n",
    "\n",
    "    while l1 or l2 or carry:\n",
    "        sum_val = carry\n",
    "        if l1:\n",
    "            sum_val += l1.val\n",
    "            l1 = l1.next\n",
    "        if l2:\n",
    "            sum_val += l2.val\n",
    "            l2 = l2.next\n",
    "\n",
    "        carry = sum_val // 10\n",
    "        sum_val %= 10\n",
    "\n",
    "        current.next = ListNode(sum_val)\n",
    "        current = current.next\n",
    "\n",
    "    return dummy.next\n",
    "\n",
    "# Helper function to print the linked list\n",
    "def print_linked_list(head):\n",
    "    current = head\n",
    "    while current:\n",
    "        print(current.val, end=\" -> \")\n",
    "        current = current.next\n",
    "    print(\"None\")\n",
    "\n",
    "# Example:\n",
    "# Input lists: (2 -> 4 -> 3) + (5 -> 6 -> 4) = 342 + 465 = 807\n",
    "\n",
    "# Create the lists\n",
    "l1 = ListNode(2)\n",
    "l1.next = ListNode(4)\n",
    "l1.next.next = ListNode(3)\n",
    "\n",
    "l2 = ListNode(5)\n",
    "l2.next = ListNode(6)\n",
    "l2.next.next = ListNode(4)\n",
    "\n",
    "# Add the numbers\n",
    "sum_result = add_two_numbers(l1, l2)\n",
    "\n",
    "# Print the sum result\n",
    "print(\"Sum Result:\", end=\" \")\n",
    "print_linked_list(sum_result)\n"
   ]
  },
  {
   "cell_type": "markdown",
   "id": "3f022c6c-9dd9-4e5e-93af-05081ce677bb",
   "metadata": {},
   "source": [
    "Problem 7: Swap nodes in pairs in a linked list."
   ]
  },
  {
   "cell_type": "code",
   "execution_count": 8,
   "id": "36dcbe48-d006-4f33-ad18-e4dc4816afd2",
   "metadata": {},
   "outputs": [
    {
     "name": "stdout",
     "output_type": "stream",
     "text": [
      "Swapped List: 2 -> 1 -> 4 -> 3 -> None\n"
     ]
    }
   ],
   "source": [
    "class ListNode:\n",
    "    def __init__(self, val=0, next=None):\n",
    "        self.val = val\n",
    "        self.next = next\n",
    "\n",
    "def swap_pairs(head):\n",
    "    dummy = ListNode()\n",
    "    dummy.next = head\n",
    "    prev = dummy\n",
    "    \n",
    "    while prev.next and prev.next.next:\n",
    "        # Nodes to be swapped\n",
    "        first = prev.next\n",
    "        second = prev.next.next\n",
    "        \n",
    "        # Swapping\n",
    "        prev.next = second\n",
    "        first.next = second.next\n",
    "        second.next = first\n",
    "        \n",
    "        # Move to next pair\n",
    "        prev = first\n",
    "        \n",
    "    return dummy.next\n",
    "\n",
    "# Helper function to print the linked list\n",
    "def print_linked_list(head):\n",
    "    current = head\n",
    "    while current:\n",
    "        print(current.val, end=\" -> \")\n",
    "        current = current.next\n",
    "    print(\"None\")\n",
    "\n",
    "# Example:\n",
    "# Input list: 1 -> 2 -> 3 -> 4\n",
    "# Output list: 2 -> 1 -> 4 -> 3\n",
    "\n",
    "# Create the list\n",
    "head = ListNode(1)\n",
    "head.next = ListNode(2)\n",
    "head.next.next = ListNode(3)\n",
    "head.next.next.next = ListNode(4)\n",
    "\n",
    "# Swap pairs\n",
    "swapped_head = swap_pairs(head)\n",
    "\n",
    "# Print the swapped list\n",
    "print(\"Swapped List:\", end=\" \")\n",
    "print_linked_list(swapped_head)\n"
   ]
  },
  {
   "cell_type": "markdown",
   "id": "b58211a5-4006-41bd-bc1c-348540ef1c7a",
   "metadata": {},
   "source": [
    "Problem 8: Reverse nodes in a linked list in groups of k."
   ]
  },
  {
   "cell_type": "code",
   "execution_count": 9,
   "id": "6f0a8cbf-e7d6-45da-91c6-74461908b346",
   "metadata": {},
   "outputs": [
    {
     "name": "stdout",
     "output_type": "stream",
     "text": [
      "Reversed List in groups of 3 : 3 -> 2 -> 1 -> None\n"
     ]
    }
   ],
   "source": [
    "class ListNode:\n",
    "    def __init__(self, val=0, next=None):\n",
    "        self.val = val\n",
    "        self.next = next\n",
    "\n",
    "def reverse_k_group(head, k):\n",
    "    def reverse_group(prev, current, k):\n",
    "        # Reverse k nodes\n",
    "        prev_node = None\n",
    "        while k > 0:\n",
    "            next_node = current.next\n",
    "            current.next = prev_node\n",
    "            prev_node = current\n",
    "            current = next_node\n",
    "            k -= 1\n",
    "        return prev_node, current\n",
    "\n",
    "    dummy = ListNode(0)\n",
    "    dummy.next = head\n",
    "    prev = dummy\n",
    "\n",
    "    while head:\n",
    "        tail = prev.next\n",
    "        for _ in range(k):\n",
    "            tail = tail.next\n",
    "            if not tail:\n",
    "                return dummy.next\n",
    "\n",
    "        prev.next, head = reverse_group(prev.next, head, k)\n",
    "        prev = head\n",
    "\n",
    "    return dummy.next\n",
    "\n",
    "# Helper function to print the linked list\n",
    "def print_linked_list(head):\n",
    "    current = head\n",
    "    while current:\n",
    "        print(current.val, end=\" -> \")\n",
    "        current = current.next\n",
    "    print(\"None\")\n",
    "\n",
    "# Example:\n",
    "# Input list: 1 -> 2 -> 3 -> 4 -> 5 -> 6 -> 7 -> 8\n",
    "# Output list (for k=3): 3 -> 2 -> 1 -> 6 -> 5 -> 4 -> 7 -> 8\n",
    "\n",
    "# Create the list\n",
    "head = ListNode(1)\n",
    "current = head\n",
    "for i in range(2, 9):\n",
    "    current.next = ListNode(i)\n",
    "    current = current.next\n",
    "\n",
    "# Reverse nodes in groups of k\n",
    "k = 3\n",
    "reversed_head = reverse_k_group(head, k)\n",
    "\n",
    "# Print the reversed list\n",
    "print(\"Reversed List in groups of\", k, \":\", end=\" \")\n",
    "print_linked_list(reversed_head)\n"
   ]
  },
  {
   "cell_type": "markdown",
   "id": "7689b464-aa11-480b-b823-250572766739",
   "metadata": {},
   "source": [
    "Problem 9: Determine if a linked list is a palindrome."
   ]
  },
  {
   "cell_type": "code",
   "execution_count": 10,
   "id": "4bfc1abd-c89c-4369-80f5-bc0ac8d4d6f2",
   "metadata": {},
   "outputs": [
    {
     "name": "stdout",
     "output_type": "stream",
     "text": [
      "Is the list a palindrome? True\n"
     ]
    }
   ],
   "source": [
    "class ListNode:\n",
    "    def __init__(self, val=0, next=None):\n",
    "        self.val = val\n",
    "        self.next = next\n",
    "\n",
    "def is_palindrome(head):\n",
    "    # Find the middle of the linked list\n",
    "    slow = fast = head\n",
    "    while fast and fast.next:\n",
    "        slow = slow.next\n",
    "        fast = fast.next.next\n",
    "    \n",
    "    # Reverse the second half of the linked list\n",
    "    prev = None\n",
    "    while slow:\n",
    "        next_node = slow.next\n",
    "        slow.next = prev\n",
    "        prev = slow\n",
    "        slow = next_node\n",
    "    \n",
    "    # Compare the first half with the reversed second half\n",
    "    first_half = head\n",
    "    second_half = prev\n",
    "    while second_half:\n",
    "        if first_half.val != second_half.val:\n",
    "            return False\n",
    "        first_half = first_half.next\n",
    "        second_half = second_half.next\n",
    "    return True\n",
    "\n",
    "# Helper function to print the linked list\n",
    "def print_linked_list(head):\n",
    "    current = head\n",
    "    while current:\n",
    "        print(current.val, end=\" -> \")\n",
    "        current = current.next\n",
    "    print(\"None\")\n",
    "\n",
    "# Example:\n",
    "# Input list: 1 -> 2 -> 3 -> 2 -> 1\n",
    "# Output: True (the list is a palindrome)\n",
    "\n",
    "# Create the list\n",
    "head = ListNode(1)\n",
    "head.next = ListNode(2)\n",
    "head.next.next = ListNode(3)\n",
    "head.next.next.next = ListNode(2)\n",
    "head.next.next.next.next = ListNode(1)\n",
    "\n",
    "# Check if the list is a palindrome\n",
    "print(\"Is the list a palindrome?\", is_palindrome(head))\n"
   ]
  },
  {
   "cell_type": "markdown",
   "id": "637d8acd-2eb4-4efe-bbbf-eaf3201b3559",
   "metadata": {},
   "source": [
    "Problem 10: Rotate a linked list to the right by k places."
   ]
  },
  {
   "cell_type": "code",
   "execution_count": 11,
   "id": "550810e4-f295-4baf-8714-acf220f4ab3b",
   "metadata": {},
   "outputs": [
    {
     "name": "stdout",
     "output_type": "stream",
     "text": [
      "Rotated List: 4 -> 5 -> 1 -> 2 -> 3 -> None\n"
     ]
    }
   ],
   "source": [
    "class ListNode:\n",
    "    def __init__(self, val=0, next=None):\n",
    "        self.val = val\n",
    "        self.next = next\n",
    "\n",
    "def rotate_right(head, k):\n",
    "    if not head or k == 0:\n",
    "        return head\n",
    "    \n",
    "    # Calculate the length of the linked list and find the tail\n",
    "    length = 1\n",
    "    tail = head\n",
    "    while tail.next:\n",
    "        tail = tail.next\n",
    "        length += 1\n",
    "    \n",
    "    # Connect the tail to the head to form a cycle\n",
    "    tail.next = head\n",
    "    \n",
    "    # Calculate the new head position\n",
    "    k = k % length\n",
    "    if k == 0:\n",
    "        return head\n",
    "    new_tail = head\n",
    "    for _ in range(length - k - 1):\n",
    "        new_tail = new_tail.next\n",
    "    new_head = new_tail.next\n",
    "    \n",
    "    # Break the cycle and set the new head\n",
    "    new_tail.next = None\n",
    "    return new_head\n",
    "\n",
    "# Helper function to print the linked list\n",
    "def print_linked_list(head):\n",
    "    current = head\n",
    "    while current:\n",
    "        print(current.val, end=\" -> \")\n",
    "        current = current.next\n",
    "    print(\"None\")\n",
    "\n",
    "# Example:\n",
    "# Input list: 1 -> 2 -> 3 -> 4 -> 5, k = 2\n",
    "# Output list: 4 -> 5 -> 1 -> 2 -> 3\n",
    "\n",
    "# Create the list\n",
    "head = ListNode(1)\n",
    "head.next = ListNode(2)\n",
    "head.next.next = ListNode(3)\n",
    "head.next.next.next = ListNode(4)\n",
    "head.next.next.next.next = ListNode(5)\n",
    "k = 2\n",
    "\n",
    "# Rotate the list\n",
    "rotated_head = rotate_right(head, k)\n",
    "\n",
    "# Print the rotated list\n",
    "print(\"Rotated List:\", end=\" \")\n",
    "print_linked_list(rotated_head)\n"
   ]
  },
  {
   "cell_type": "markdown",
   "id": "8287f580-d632-473d-941c-9ac1c18325ef",
   "metadata": {},
   "source": [
    "Problem 11: Flatten a multilevel doubly linked list."
   ]
  },
  {
   "cell_type": "code",
   "execution_count": 12,
   "id": "7a0dbf14-983b-4116-9f0e-3bc11ef81d97",
   "metadata": {},
   "outputs": [
    {
     "name": "stdout",
     "output_type": "stream",
     "text": [
      "Flattened List:\n",
      "1 <-> 2 <-> 4 <-> 6 <-> 13 <-> 5 <-> 9 <-> 10 <-> 3 <-> 7 <-> 8 <-> 11 <-> 12 <-> None\n"
     ]
    }
   ],
   "source": [
    "class Node:\n",
    "    def __init__(self, val, prev=None, next=None, child=None):\n",
    "        self.val = val\n",
    "        self.prev = prev\n",
    "        self.next = next\n",
    "        self.child = child\n",
    "\n",
    "def flatten(head):\n",
    "    if not head:\n",
    "        return None\n",
    "    \n",
    "    current = head\n",
    "    while current:\n",
    "        if current.child:\n",
    "            next_node = current.next\n",
    "            child = flatten(current.child)\n",
    "            current.next = child\n",
    "            child.prev = current\n",
    "            current.child = None\n",
    "            \n",
    "            while current.next:\n",
    "                current = current.next\n",
    "            current.next = next_node\n",
    "            if next_node:\n",
    "                next_node.prev = current\n",
    "        \n",
    "        current = current.next\n",
    "    \n",
    "    return head\n",
    "\n",
    "def print_list(head):\n",
    "    current = head\n",
    "    while current:\n",
    "        print(current.val, end=\" <-> \")\n",
    "        current = current.next\n",
    "    print(\"None\")\n",
    "\n",
    "# Example:\n",
    "# Input list:\n",
    "# 1 <-> 2 <-> 3 <-> 7 <-> 8 <-> 11 -> 12\n",
    "#      |\n",
    "#      4 <-> 5 -> 9 -> 10\n",
    "#           |\n",
    "#           6 -> 13\n",
    "# Output list:\n",
    "# 1 <-> 2 <-> 3 <-> 4 <-> 5 <-> 6 <-> 7 <-> 8 <-> 9 <-> 10 <-> 11 <-> 12 <-> 13\n",
    "\n",
    "# Create the input list\n",
    "head = Node(1)\n",
    "head.next = Node(2)\n",
    "head.next.prev = head\n",
    "head.next.next = Node(3)\n",
    "head.next.next.prev = head.next\n",
    "head.next.next.next = Node(7)\n",
    "head.next.next.next.prev = head.next.next\n",
    "head.next.next.next.next = Node(8)\n",
    "head.next.next.next.next.prev = head.next.next.next\n",
    "head.next.next.next.next.next = Node(11)\n",
    "head.next.next.next.next.next.prev = head.next.next.next.next\n",
    "head.next.next.next.next.next.next = Node(12)\n",
    "head.next.next.next.next.next.next.prev = head.next.next.next.next\n",
    "head.next.child = Node(4)\n",
    "head.next.child.next = Node(5)\n",
    "head.next.child.next.prev = head.next.child\n",
    "head.next.child.next.next = Node(9)\n",
    "head.next.child.next.next.prev = head.next.child.next\n",
    "head.next.child.next.next.next = Node(10)\n",
    "head.next.child.next.next.next.prev = head.next.child.next.next\n",
    "head.next.child.child = Node(6)\n",
    "head.next.child.child.next = Node(13)\n",
    "head.next.child.child.next.prev = head.next.child.child\n",
    "\n",
    "# Flatten the list\n",
    "flattened_head = flatten(head)\n",
    "\n",
    "# Print the flattened list\n",
    "print(\"Flattened List:\")\n",
    "print_list(flattened_head)\n"
   ]
  },
  {
   "cell_type": "markdown",
   "id": "2f3f1121-8d0d-45c5-aef1-e869b507e651",
   "metadata": {},
   "source": [
    "Problem 12: Rearrange a linked list such that all even positioned nodes are placed at the end."
   ]
  },
  {
   "cell_type": "code",
   "execution_count": 13,
   "id": "f5a870d9-4136-4efc-99df-0a203bbd8484",
   "metadata": {},
   "outputs": [
    {
     "name": "stdout",
     "output_type": "stream",
     "text": [
      "Rearranged List: 1 -> 3 -> 5 -> 7 -> 2 -> 4 -> 6 -> 8 -> None\n"
     ]
    }
   ],
   "source": [
    "class ListNode:\n",
    "    def __init__(self, val=0, next=None):\n",
    "        self.val = val\n",
    "        self.next = next\n",
    "\n",
    "def rearrange_linked_list(head):\n",
    "    if not head or not head.next or not head.next.next:\n",
    "        return head\n",
    "    \n",
    "    # Separate odd and even positioned nodes\n",
    "    odd_head = odd = head\n",
    "    even_head = even = head.next\n",
    "    \n",
    "    while even and even.next:\n",
    "        odd.next = even.next\n",
    "        odd = odd.next\n",
    "        even.next = odd.next\n",
    "        even = even.next\n",
    "    \n",
    "    # Connect the last node of the odd list with the first node of the even list\n",
    "    odd.next = even_head\n",
    "    \n",
    "    return odd_head\n",
    "\n",
    "# Helper function to print the linked list\n",
    "def print_linked_list(head):\n",
    "    current = head\n",
    "    while current:\n",
    "        print(current.val, end=\" -> \")\n",
    "        current = current.next\n",
    "    print(\"None\")\n",
    "\n",
    "# Example:\n",
    "# Input list: 1 -> 2 -> 3 -> 4 -> 5 -> 6 -> 7 -> 8\n",
    "# Output list: 1 -> 3 -> 5 -> 7 -> 2 -> 4 -> 6 -> 8\n",
    "\n",
    "# Create the list\n",
    "head = ListNode(1)\n",
    "current = head\n",
    "for i in range(2, 9):\n",
    "    current.next = ListNode(i)\n",
    "    current = current.next\n",
    "\n",
    "# Rearrange the list\n",
    "rearranged_head = rearrange_linked_list(head)\n",
    "\n",
    "# Print the rearranged list\n",
    "print(\"Rearranged List:\", end=\" \")\n",
    "print_linked_list(rearranged_head)\n"
   ]
  },
  {
   "cell_type": "markdown",
   "id": "0ad0e13b-599e-4a07-9fb1-84b1615f19e9",
   "metadata": {},
   "source": [
    "Problem 13: Given a non-negative number represented as a linked list, add one to it."
   ]
  },
  {
   "cell_type": "code",
   "execution_count": 14,
   "id": "add29dd9-5d62-4065-ace2-01f97cd73ab5",
   "metadata": {},
   "outputs": [
    {
     "name": "stdout",
     "output_type": "stream",
     "text": [
      "Updated List: 1 -> 2 -> 4 -> None\n"
     ]
    }
   ],
   "source": [
    "class ListNode:\n",
    "    def __init__(self, val=0, next=None):\n",
    "        self.val = val\n",
    "        self.next = next\n",
    "\n",
    "def add_one(head):\n",
    "    # Reverse the linked list\n",
    "    prev = None\n",
    "    current = head\n",
    "    while current:\n",
    "        next_node = current.next\n",
    "        current.next = prev\n",
    "        prev = current\n",
    "        current = next_node\n",
    "    \n",
    "    # Traverse the reversed linked list, adding one to the first node and propagating the carry\n",
    "    current = prev\n",
    "    carry = 1\n",
    "    while current and carry:\n",
    "        current.val += carry\n",
    "        carry = current.val // 10\n",
    "        current.val %= 10\n",
    "        if carry and not current.next:\n",
    "            current.next = ListNode(carry)\n",
    "            carry = 0\n",
    "        current = current.next\n",
    "    \n",
    "    # Reverse the updated linked list back to its original order\n",
    "    head = None\n",
    "    while prev:\n",
    "        next_node = prev.next\n",
    "        prev.next = head\n",
    "        head = prev\n",
    "        prev = next_node\n",
    "    \n",
    "    return head\n",
    "\n",
    "# Helper function to print the linked list\n",
    "def print_linked_list(head):\n",
    "    current = head\n",
    "    while current:\n",
    "        print(current.val, end=\" -> \")\n",
    "        current = current.next\n",
    "    print(\"None\")\n",
    "\n",
    "# Example:\n",
    "# Input list: 1 -> 2 -> 3\n",
    "# Output list: 1 -> 2 -> 4\n",
    "\n",
    "# Create the list\n",
    "head = ListNode(1)\n",
    "head.next = ListNode(2)\n",
    "head.next.next = ListNode(3)\n",
    "\n",
    "# Add one to the number represented by the linked list\n",
    "updated_head = add_one(head)\n",
    "\n",
    "# Print the updated list\n",
    "print(\"Updated List:\", end=\" \")\n",
    "print_linked_list(updated_head)\n"
   ]
  },
  {
   "cell_type": "markdown",
   "id": "f023e502-7282-452d-94ab-4d15bd60dcc7",
   "metadata": {},
   "source": [
    "Problem 14: Given a sorted array and a target value, return the index if the target is found. If not, return the\n",
    "index where it would be inserted.\n"
   ]
  },
  {
   "cell_type": "code",
   "execution_count": 15,
   "id": "5675d519-1545-435e-8291-284f44cf7a4e",
   "metadata": {},
   "outputs": [
    {
     "name": "stdout",
     "output_type": "stream",
     "text": [
      "Index where the target is found or would be inserted: 2\n"
     ]
    }
   ],
   "source": [
    "def search_insert_position(nums, target):\n",
    "    left, right = 0, len(nums) - 1\n",
    "    \n",
    "    while left <= right:\n",
    "        mid = (left + right) // 2\n",
    "        if nums[mid] == target:\n",
    "            return mid\n",
    "        elif nums[mid] < target:\n",
    "            left = mid + 1\n",
    "        else:\n",
    "            right = mid - 1\n",
    "    \n",
    "    return left\n",
    "\n",
    "# Example usage:\n",
    "nums = [1, 3, 5, 6]\n",
    "target = 5\n",
    "print(\"Index where the target is found or would be inserted:\", search_insert_position(nums, target))\n"
   ]
  },
  {
   "cell_type": "markdown",
   "id": "679ecabe-f781-4b5a-998c-903761ccb876",
   "metadata": {},
   "source": [
    "Problem 15: Find the minimum element in a rotated sorted array."
   ]
  },
  {
   "cell_type": "code",
   "execution_count": 16,
   "id": "c57198ee-c7e1-43bc-9d1b-197d90d94dc5",
   "metadata": {},
   "outputs": [
    {
     "name": "stdout",
     "output_type": "stream",
     "text": [
      "Minimum element in the rotated sorted array: 0\n"
     ]
    }
   ],
   "source": [
    "def find_min(nums):\n",
    "    left, right = 0, len(nums) - 1\n",
    "    \n",
    "    while left < right:\n",
    "        mid = (left + right) // 2\n",
    "        if nums[mid] > nums[right]:\n",
    "            left = mid + 1\n",
    "        else:\n",
    "            right = mid\n",
    "    \n",
    "    return nums[left]\n",
    "\n",
    "# Example usage:\n",
    "nums = [4, 5, 6, 7, 0, 1, 2]\n",
    "print(\"Minimum element in the rotated sorted array:\", find_min(nums))\n"
   ]
  },
  {
   "cell_type": "markdown",
   "id": "aab7fe67-ca2f-4fa6-a38b-f5f2df84ca3f",
   "metadata": {},
   "source": [
    "Problem 16: Search for a target value in a rotated sorted array."
   ]
  },
  {
   "cell_type": "code",
   "execution_count": 17,
   "id": "405e5989-4003-4b63-b423-5d8262600453",
   "metadata": {},
   "outputs": [
    {
     "name": "stdout",
     "output_type": "stream",
     "text": [
      "Index of the target in the rotated sorted array: 4\n"
     ]
    }
   ],
   "source": [
    "def search_rotated(nums, target):\n",
    "    left, right = 0, len(nums) - 1\n",
    "    \n",
    "    while left <= right:\n",
    "        mid = (left + right) // 2\n",
    "        if nums[mid] == target:\n",
    "            return mid\n",
    "        if nums[left] <= nums[mid]:\n",
    "            if nums[left] <= target <= nums[mid]:\n",
    "                right = mid - 1\n",
    "            else:\n",
    "                left = mid + 1\n",
    "        else:\n",
    "            if nums[mid] <= target <= nums[right]:\n",
    "                left = mid + 1\n",
    "            else:\n",
    "                right = mid - 1\n",
    "    \n",
    "    return -1\n",
    "\n",
    "# Example usage:\n",
    "nums = [4, 5, 6, 7, 0, 1, 2]\n",
    "target = 0\n",
    "print(\"Index of the target in the rotated sorted array:\", search_rotated(nums, target))\n"
   ]
  },
  {
   "cell_type": "markdown",
   "id": "d20ac762-31e8-4888-9a0d-0f690677e180",
   "metadata": {},
   "source": [
    "Problem 17: Find the peak element in an array. A peak element is greater than its neighbors."
   ]
  },
  {
   "cell_type": "code",
   "execution_count": 18,
   "id": "711c92d6-6995-4321-af79-2ae1f23992d8",
   "metadata": {},
   "outputs": [
    {
     "name": "stdout",
     "output_type": "stream",
     "text": [
      "Index of the peak element: 5\n"
     ]
    }
   ],
   "source": [
    "def find_peak(nums):\n",
    "    left, right = 0, len(nums) - 1\n",
    "    \n",
    "    while left < right:\n",
    "        mid = (left + right) // 2\n",
    "        if nums[mid] < nums[mid + 1]:\n",
    "            left = mid + 1\n",
    "        else:\n",
    "            right = mid\n",
    "    \n",
    "    return left\n",
    "\n",
    "# Example usage:\n",
    "nums = [1, 2, 1, 3, 5, 6, 4]\n",
    "print(\"Index of the peak element:\", find_peak(nums))\n"
   ]
  },
  {
   "cell_type": "markdown",
   "id": "4a191fbd-c4c0-462f-bf87-a1595f03af74",
   "metadata": {},
   "source": [
    "Problem 18: Given a m x n matrix where each row and column is sorted in ascending order, count the number\n",
    "of negative numbers."
   ]
  },
  {
   "cell_type": "code",
   "execution_count": 19,
   "id": "4b8f8002-8cab-4469-afe2-790c23f38a20",
   "metadata": {},
   "outputs": [
    {
     "name": "stdout",
     "output_type": "stream",
     "text": [
      "Number of negative numbers in the matrix: 0\n"
     ]
    }
   ],
   "source": [
    "def count_negatives(matrix):\n",
    "    count = 0\n",
    "    m, n = len(matrix), len(matrix[0])\n",
    "    row, col = 0, n - 1\n",
    "    \n",
    "    while row < m and col >= 0:\n",
    "        if matrix[row][col] < 0:\n",
    "            count += (m - row)  # All elements below are negative too\n",
    "            col -= 1  # Move to the previous column\n",
    "        else:\n",
    "            row += 1  # Move to the next row\n",
    "    \n",
    "    return count\n",
    "\n",
    "# Example usage:\n",
    "matrix = [\n",
    "    [-4, -3, -1, 1],\n",
    "    [-2, -2,  1, 2],\n",
    "    [-1,  1,  2, 3],\n",
    "    [ 1,  2,  4, 5]\n",
    "]\n",
    "print(\"Number of negative numbers in the matrix:\", count_negatives(matrix))\n"
   ]
  },
  {
   "cell_type": "markdown",
   "id": "6cc8af40-4419-4cfc-adfb-10a56fd46a6e",
   "metadata": {},
   "source": [
    "Problem 19: Given a 2D matrix sorted in ascending order in each row, and the first integer of each row is\n",
    "greater than the last integer of the previous row, determine if a target value is present in the matrix."
   ]
  },
  {
   "cell_type": "code",
   "execution_count": 20,
   "id": "11cd773a-bf1a-4de7-9636-ae600bb6dcfb",
   "metadata": {},
   "outputs": [
    {
     "name": "stdout",
     "output_type": "stream",
     "text": [
      "Is target present in the matrix? True\n"
     ]
    }
   ],
   "source": [
    "def searchMatrix(matrix, target):\n",
    "    if not matrix or not matrix[0]:\n",
    "        return False\n",
    "    \n",
    "    rows = len(matrix)\n",
    "    cols = len(matrix[0])\n",
    "    \n",
    "    # Perform binary search\n",
    "    left, right = 0, rows * cols - 1\n",
    "    while left <= right:\n",
    "        mid = (left + right) // 2\n",
    "        num = matrix[mid // cols][mid % cols]\n",
    "        if num == target:\n",
    "            return True\n",
    "        elif num < target:\n",
    "            left = mid + 1\n",
    "        else:\n",
    "            right = mid - 1\n",
    "    \n",
    "    return False\n",
    "\n",
    "# Test the function\n",
    "matrix = [\n",
    "    [1, 3, 5, 7],\n",
    "    [10, 11, 16, 20],\n",
    "    [23, 30, 34, 60]\n",
    "]\n",
    "target = 3\n",
    "print(\"Is target present in the matrix?\", searchMatrix(matrix, target))\n"
   ]
  },
  {
   "cell_type": "markdown",
   "id": "67577c2e-29ec-42b6-9560-33e917ee2fb4",
   "metadata": {},
   "source": [
    "Problem 20: Find Median in Two Sorted Arrays\n",
    "Problem: Given two sorted arrays, find the median of the combined sorted array."
   ]
  },
  {
   "cell_type": "code",
   "execution_count": 21,
   "id": "09b0b56a-805b-4010-866d-d92e6676bc81",
   "metadata": {},
   "outputs": [
    {
     "name": "stdout",
     "output_type": "stream",
     "text": [
      "2\n"
     ]
    }
   ],
   "source": [
    "def findMedianSortedArrays(nums1, nums2):\n",
    "    merged = sorted(nums1 + nums2)\n",
    "    length = len(merged)\n",
    "    mid = length // 2\n",
    "    \n",
    "    if length % 2 == 0:\n",
    "        return (merged[mid] + merged[mid-1]) / 2\n",
    "    else:\n",
    "        return merged[mid]\n",
    "nums1 = [1, 3]  \n",
    "nums2 = [2]\n",
    "print(findMedianSortedArrays(nums1, nums2))"
   ]
  },
  {
   "cell_type": "markdown",
   "id": "965cb299-7f1e-4427-9df2-b3c24c768dc4",
   "metadata": {},
   "source": [
    "Problem 21: Given a sorted character array and a target letter, find the smallest letter in the array that is\n",
    "greater than the target."
   ]
  },
  {
   "cell_type": "code",
   "execution_count": 22,
   "id": "7acecbef-25be-4f50-b0eb-3114f5a94d4b",
   "metadata": {},
   "outputs": [
    {
     "name": "stdout",
     "output_type": "stream",
     "text": [
      "c\n"
     ]
    }
   ],
   "source": [
    "def nextGreatestLetter(letters, target):\n",
    "    for letter in letters:\n",
    "        if letter > target:\n",
    "            return letter\n",
    "    return letters[0]\n",
    "letters = ['c', 'f', 'j']\n",
    "target = 'a'\n",
    "print(nextGreatestLetter(letters, target))"
   ]
  },
  {
   "cell_type": "markdown",
   "id": "592be431-14dd-4925-b4af-a98e5adf0a5f",
   "metadata": {},
   "source": [
    "Problem 22: Given an array with n objects colored red, white, or blue, sort them in-place so that objects of\n",
    "the same color are adjacent, with the colors in the order red, white, and blue."
   ]
  },
  {
   "cell_type": "code",
   "execution_count": 23,
   "id": "31834b68-6090-4c8e-9e46-0ad886059e9c",
   "metadata": {},
   "outputs": [
    {
     "name": "stdout",
     "output_type": "stream",
     "text": [
      "[0, 0, 1, 1, 2, 2]\n"
     ]
    }
   ],
   "source": [
    "def sortColors(nums):\n",
    "    red, white, blue = 0, 0, len(nums)-1\n",
    "    \n",
    "    while white <= blue:\n",
    "        if nums[white] == 0:\n",
    "            nums[red], nums[white] = nums[white], nums[red] \n",
    "            red += 1\n",
    "            white += 1\n",
    "        elif nums[white] == 1:\n",
    "            white += 1\n",
    "        else:\n",
    "            nums[white], nums[blue] = nums[blue], nums[white] \n",
    "            blue -= 1\n",
    "nums = [2, 0, 2, 1, 1, 0]\n",
    "sortColors(nums)\n",
    "print(nums)"
   ]
  },
  {
   "cell_type": "markdown",
   "id": "8792b527-192c-4015-b68c-4d57421b8630",
   "metadata": {},
   "source": [
    "Problem 23: Find the kth largest element in an unsorted array."
   ]
  },
  {
   "cell_type": "code",
   "execution_count": 24,
   "id": "cf61d473-a318-4d42-869e-f983c6544141",
   "metadata": {},
   "outputs": [
    {
     "name": "stdout",
     "output_type": "stream",
     "text": [
      "5\n"
     ]
    }
   ],
   "source": [
    "import random\n",
    "\n",
    "def findKthLargest(nums, k):\n",
    "    pivot = random.choice(nums)\n",
    "    left = [x for x in nums if x > pivot]\n",
    "    mid = [x for x in nums if x == pivot]\n",
    "    right = [x for x in nums if x < pivot]\n",
    "    \n",
    "    L, M = len(left), len(mid)\n",
    "    \n",
    "    if k <= L:\n",
    "        return findKthLargest(left, k)\n",
    "    elif k > L + M:\n",
    "        return findKthLargest(right, k - L - M)\n",
    "    else:\n",
    "        return mid[0]\n",
    "nums = [3,2,1,5,6,4] \n",
    "k = 2\n",
    "print(findKthLargest(nums, k))\n"
   ]
  },
  {
   "cell_type": "markdown",
   "id": "3d67346c-dbf4-4634-add7-a2c721303a23",
   "metadata": {},
   "source": [
    "Problem 24: Given an unsorted array, reorder it in-place such that nums[0] <= nums[1] >= nums[2] <=\n",
    "nums[3]..."
   ]
  },
  {
   "cell_type": "code",
   "execution_count": 25,
   "id": "ea2a42ef-5608-4a99-b54f-da7d2911305f",
   "metadata": {},
   "outputs": [
    {
     "name": "stdout",
     "output_type": "stream",
     "text": [
      "[2, 1, 4, 3, 5]\n"
     ]
    }
   ],
   "source": [
    "def reorder(nums):\n",
    "    nums.sort()\n",
    "    for i in range(1, len(nums), 2):\n",
    "        nums[i], nums[i-1] = nums[i-1], nums[i]\n",
    "\n",
    "nums = [4, 2, 5, 3, 1]  \n",
    "reorder(nums)\n",
    "print(nums)"
   ]
  },
  {
   "cell_type": "markdown",
   "id": "516184ea-ac1f-46fb-88ba-94afca07c5f8",
   "metadata": {},
   "source": [
    "Problem 25: Given an array of integers, calculate the sum of all its elements."
   ]
  },
  {
   "cell_type": "code",
   "execution_count": 26,
   "id": "a14e0aed-8f2d-41a3-9297-bc3231090d99",
   "metadata": {},
   "outputs": [
    {
     "name": "stdout",
     "output_type": "stream",
     "text": [
      "15\n"
     ]
    }
   ],
   "source": [
    "def sumArray(nums):\n",
    "    sum = 0\n",
    "    for n in nums:\n",
    "        sum += n\n",
    "    return sum\n",
    "\n",
    "nums = [1, 2, 3, 4, 5]  \n",
    "print(sumArray(nums))"
   ]
  },
  {
   "cell_type": "markdown",
   "id": "bc23bf73-fcc1-4565-9452-e7427fbafb95",
   "metadata": {},
   "source": [
    "Problem 26: Find the maximum element in an array of integers."
   ]
  },
  {
   "cell_type": "code",
   "execution_count": 27,
   "id": "56a21999-ab10-42ae-80d2-ffaff104110c",
   "metadata": {},
   "outputs": [
    {
     "name": "stdout",
     "output_type": "stream",
     "text": [
      "Maximum element is: 15\n"
     ]
    }
   ],
   "source": [
    "def findMax(arr):\n",
    "    max = arr[0]\n",
    "    for element in arr:\n",
    "        if element > max:\n",
    "            max = element\n",
    "    return max\n",
    "\n",
    "arr = [5, 10, 15, 2, 12]\n",
    "print(\"Maximum element is:\", findMax(arr))"
   ]
  },
  {
   "cell_type": "markdown",
   "id": "92a3a2d3-af42-4e58-9ed7-598dffa161c4",
   "metadata": {},
   "source": [
    "Problem 27: Implement linear search to find the index of a target element in an array."
   ]
  },
  {
   "cell_type": "code",
   "execution_count": 28,
   "id": "58bd20c9-5e9a-4502-92c1-a718ea1ad9e8",
   "metadata": {},
   "outputs": [
    {
     "name": "stdout",
     "output_type": "stream",
     "text": [
      "Element found at index: 3\n"
     ]
    }
   ],
   "source": [
    "def linearSearch(arr, target):\n",
    "    for i in range(len(arr)):\n",
    "        if arr[i] == target:\n",
    "            return i\n",
    "    return -1\n",
    "\n",
    "arr = [20, 5, 7, 25, 10] \n",
    "target = 25\n",
    "index = linearSearch(arr, target)\n",
    "if index != -1:\n",
    "    print(\"Element found at index:\", index)\n",
    "else:\n",
    "    print(\"Element not found in array\")"
   ]
  },
  {
   "cell_type": "markdown",
   "id": "71e1d235-a331-4010-a4c6-53e1e0ddece9",
   "metadata": {},
   "source": [
    "Problem 28 Calculate the factorial of a given number."
   ]
  },
  {
   "cell_type": "code",
   "execution_count": 29,
   "id": "bba7c20c-5fc8-458f-8336-7586ab485f46",
   "metadata": {},
   "outputs": [
    {
     "name": "stdout",
     "output_type": "stream",
     "text": [
      "The factorial of 5 is 120\n"
     ]
    }
   ],
   "source": [
    "def factorial(n):\n",
    "    fact = 1\n",
    "    \n",
    "    if n < 0:\n",
    "        return \"Factorial does not exist for negative numbers\"\n",
    "    elif n == 0:\n",
    "        return 1\n",
    "    else:\n",
    "        for i in range(1, n+1):\n",
    "            fact = fact * i\n",
    "        return fact\n",
    "\n",
    "num = 5\n",
    "result = factorial(num)\n",
    "print(\"The factorial of\", num, \"is\", result)"
   ]
  },
  {
   "cell_type": "markdown",
   "id": "887d865f-df95-4a66-9858-3486a67370da",
   "metadata": {},
   "source": [
    "Problem 29: Check if a given number is a prime number."
   ]
  },
  {
   "cell_type": "code",
   "execution_count": 30,
   "id": "46947f8d-9002-4627-b40c-3d09d16e092f",
   "metadata": {},
   "outputs": [
    {
     "name": "stdout",
     "output_type": "stream",
     "text": [
      "13 is a prime number\n"
     ]
    }
   ],
   "source": [
    "def isPrime(n):\n",
    "    if n <= 1:\n",
    "        return False\n",
    "    for i in range(2, int(n**0.5)+1):\n",
    "        if n % i == 0:\n",
    "            return False\n",
    "    return True\n",
    "\n",
    "num = 13\n",
    "\n",
    "if isPrime(num):\n",
    "    print(num, \"is a prime number\")\n",
    "else: \n",
    "    print(num, \"is not a prime number\")"
   ]
  },
  {
   "cell_type": "markdown",
   "id": "d8161a9a-3a89-4b8b-bb08-3b93da5c7bc5",
   "metadata": {},
   "source": [
    "Problem 30: Generate the Fibonacci series up to a given number n."
   ]
  },
  {
   "cell_type": "code",
   "execution_count": 31,
   "id": "4787b8af-46a1-41fb-a8c1-f625c7ae03a5",
   "metadata": {},
   "outputs": [
    {
     "name": "stdout",
     "output_type": "stream",
     "text": [
      "[0, 1, 1, 2, 3, 5, 8, 13]\n"
     ]
    }
   ],
   "source": [
    "def fibonacci(n):\n",
    "    a, b = 0, 1\n",
    "    fib_series = []\n",
    "    \n",
    "    if n == 1:\n",
    "        fib_series.append(a)\n",
    "    elif n > 1: \n",
    "        fib_series.append(a)\n",
    "        fib_series.append(b)\n",
    "        while b < n:\n",
    "            c = a + b \n",
    "            a = b\n",
    "            b = c\n",
    "            fib_series.append(b)\n",
    "            \n",
    "    return fib_series\n",
    "    \n",
    "n = 10\n",
    "print(fibonacci(n))"
   ]
  },
  {
   "cell_type": "markdown",
   "id": "b5b2dede-c80c-420a-9b19-78fdc245f321",
   "metadata": {},
   "source": [
    "Problem 31: Calculate the power of a number using recursion."
   ]
  },
  {
   "cell_type": "code",
   "execution_count": 32,
   "id": "fff5ac3b-c8f4-4ae0-bb53-d4b52bffff42",
   "metadata": {},
   "outputs": [
    {
     "name": "stdout",
     "output_type": "stream",
     "text": [
      "3 ^ 4 = 81\n"
     ]
    }
   ],
   "source": [
    "def power(base, exp):\n",
    "    if exp == 0:\n",
    "        return 1\n",
    "    if exp == 1:\n",
    "        return base\n",
    "    \n",
    "    return base * power(base, exp-1)\n",
    "\n",
    "base = 3\n",
    "exp = 4\n",
    "\n",
    "result = power(base, exp)\n",
    "print(base, \"^\", exp, \"=\", result)"
   ]
  },
  {
   "cell_type": "markdown",
   "id": "9184a19a-97fe-42a3-8d10-014fa1e5b3e7",
   "metadata": {},
   "source": [
    "Problem 32: Reverse a given string."
   ]
  },
  {
   "cell_type": "code",
   "execution_count": 33,
   "id": "d04a4ce6-2746-4329-937c-828fb5773d15",
   "metadata": {},
   "outputs": [
    {
     "name": "stdout",
     "output_type": "stream",
     "text": [
      "The reversed string is:  olleH\n"
     ]
    }
   ],
   "source": [
    "def reverseString(str):\n",
    "  str = str[::-1]\n",
    "  return str\n",
    "\n",
    "my_string = \"Hello\"\n",
    "\n",
    "reversed = reverseString(my_string)\n",
    "\n",
    "print(\"The reversed string is: \", reversed)"
   ]
  }
 ],
 "metadata": {
  "kernelspec": {
   "display_name": "Python 3 (ipykernel)",
   "language": "python",
   "name": "python3"
  },
  "language_info": {
   "codemirror_mode": {
    "name": "ipython",
    "version": 3
   },
   "file_extension": ".py",
   "mimetype": "text/x-python",
   "name": "python",
   "nbconvert_exporter": "python",
   "pygments_lexer": "ipython3",
   "version": "3.10.8"
  }
 },
 "nbformat": 4,
 "nbformat_minor": 5
}
