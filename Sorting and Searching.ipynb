{
 "cells": [
  {
   "cell_type": "markdown",
   "id": "31c7e79c-c8fb-456c-8934-e277d86ae1ae",
   "metadata": {},
   "source": [
    "Problem 1 :\n",
    "Intersection of Two Sorted Arrays\n",
    "Write a Python program to find the intersection of two sorted arrays.\n",
    "Input:\n",
    "A = [1, 3, 5, 7, 9]\n",
    "B = [2, 4, 5, 8]\n",
    "Output:\n",
    "Intersection: [5]"
   ]
  },
  {
   "cell_type": "code",
   "execution_count": 1,
   "id": "1e464689-ac53-4e5b-bab9-7302d6e1e101",
   "metadata": {},
   "outputs": [
    {
     "name": "stdout",
     "output_type": "stream",
     "text": [
      "Intersection: [5]\n"
     ]
    }
   ],
   "source": [
    "def intersection_sorted_arrays(A, B):\n",
    "    intersection = []\n",
    "    i, j = 0, 0\n",
    "    while i < len(A) and j < len(B):\n",
    "        if A[i] == B[j]:\n",
    "            intersection.append(A[i])\n",
    "            i += 1\n",
    "            j += 1\n",
    "        elif A[i] < B[j]:\n",
    "            i += 1\n",
    "        else:\n",
    "            j += 1\n",
    "    return intersection\n",
    "\n",
    "# Test\n",
    "A = [1, 3, 5, 7, 9]\n",
    "B = [2, 4, 5, 8]\n",
    "print(\"Intersection:\", intersection_sorted_arrays(A, B))\n"
   ]
  },
  {
   "cell_type": "markdown",
   "id": "f6928448-d7f3-40ab-812d-884fc7b6a895",
   "metadata": {},
   "source": [
    "Problem 2 :\n",
    "Find the Kth Smallest Element\n",
    "Write a Python function to find the kth smallest element in an unsorted list.\n",
    "Input:\n",
    "[12, 3, 1, 7, 8, 20], k = 3\n",
    "Output:\n",
    "The 3rd smallest element is 7"
   ]
  },
  {
   "cell_type": "code",
   "execution_count": 2,
   "id": "7be636d3-547e-40db-ad58-0c8e8f9a4dd3",
   "metadata": {},
   "outputs": [
    {
     "name": "stdout",
     "output_type": "stream",
     "text": [
      "The 3rd smallest element is 7\n"
     ]
    }
   ],
   "source": [
    "def kth_smallest(arr, k):\n",
    "    arr.sort()\n",
    "    return arr[k - 1]\n",
    "\n",
    "# Test\n",
    "arr = [12, 3, 1, 7, 8, 20]\n",
    "k = 3\n",
    "print(\"The {}rd smallest element is {}\".format(k, kth_smallest(arr, k)))\n"
   ]
  },
  {
   "cell_type": "markdown",
   "id": "5bc39bfa-f074-40c5-b025-da0facb2ceb9",
   "metadata": {},
   "source": [
    "Problem 3 :\n",
    "Binary Search in a Rotated Sorted Array\n",
    "Implement a Python program to perform a binary search on a rotated sorted array.\n",
    "Input:\n",
    "[4, 5, 6, 7, 8, 9, 1, 2, 3], 6\n",
    "Output:\n",
    "Element 6 found at index 2"
   ]
  },
  {
   "cell_type": "code",
   "execution_count": 3,
   "id": "0d5709bc-04a1-4900-9243-4a57dfff59e3",
   "metadata": {},
   "outputs": [
    {
     "name": "stdout",
     "output_type": "stream",
     "text": [
      "Element 6 found at index 2\n"
     ]
    }
   ],
   "source": [
    "def binary_search_rotated(arr, target):\n",
    "    left, right = 0, len(arr) - 1\n",
    "    while left <= right:\n",
    "        mid = (left + right) // 2\n",
    "        if arr[mid] == target:\n",
    "            return mid\n",
    "        if arr[left] <= arr[mid]:\n",
    "            if arr[left] <= target < arr[mid]:\n",
    "                right = mid - 1\n",
    "            else:\n",
    "                left = mid + 1\n",
    "        else:\n",
    "            if arr[mid] < target <= arr[right]:\n",
    "                left = mid + 1\n",
    "            else:\n",
    "                right = mid - 1\n",
    "    return -1\n",
    "\n",
    "# Test\n",
    "arr = [4, 5, 6, 7, 8, 9, 1, 2, 3]\n",
    "target = 6\n",
    "index = binary_search_rotated(arr, target)\n",
    "if index != -1:\n",
    "    print(\"Element {} found at index {}\".format(target, index))\n",
    "else:\n",
    "    print(\"Element {} not found in the array\".format(target))\n"
   ]
  },
  {
   "cell_type": "markdown",
   "id": "6abb18e5-07cc-44b6-8610-83f5549ee437",
   "metadata": {},
   "source": [
    "Problem 4 :\n",
    "Searching in a Matrix\n",
    "Write a Python program that searches for a given element in a 2D matrix and returns its position.\n",
    "Input:\n",
    "Matrix = [\n",
    "[1, 3, 5],\n",
    "[7, 9, 11],\n",
    "[13, 15, 17]\n",
    "]\n",
    "Element = 11\n",
    "Output:\n",
    "Element 11 found at position (1, 2)"
   ]
  },
  {
   "cell_type": "code",
   "execution_count": 4,
   "id": "70a88bec-e28a-4501-947f-21752ff28cc0",
   "metadata": {},
   "outputs": [
    {
     "name": "stdout",
     "output_type": "stream",
     "text": [
      "Element 11 found at position (1, 2)\n"
     ]
    }
   ],
   "source": [
    "def search_matrix(matrix, target):\n",
    "    if not matrix:\n",
    "        return None\n",
    "    rows, cols = len(matrix), len(matrix[0])\n",
    "    row, col = 0, cols - 1\n",
    "    while row < rows and col >= 0:\n",
    "        if matrix[row][col] == target:\n",
    "            return row, col\n",
    "        elif matrix[row][col] < target:\n",
    "            row += 1\n",
    "        else:\n",
    "            col -= 1\n",
    "    return None\n",
    "\n",
    "# Test\n",
    "matrix = [\n",
    "    [1, 3, 5],\n",
    "    [7, 9, 11],\n",
    "    [13, 15, 17]\n",
    "]\n",
    "target = 11\n",
    "position = search_matrix(matrix, target)\n",
    "if position:\n",
    "    print(\"Element {} found at position {}\".format(target, position))\n",
    "else:\n",
    "    print(\"Element {} not found in the matrix\".format(target))\n"
   ]
  },
  {
   "cell_type": "markdown",
   "id": "ab579685-9229-4ec7-b264-443b3db7a322",
   "metadata": {},
   "source": [
    "Problem 5 :\n",
    "Sorting Strings by Length\n",
    "Write a Python program that takes a list of strings and sorts them based on their length.\n",
    "Input:\n",
    "['apple', 'banana', 'kiwi', 'orange', 'grape']\n",
    "Output:\n",
    "['kiwi', 'grape', 'apple', 'banana', 'orange'"
   ]
  },
  {
   "cell_type": "code",
   "execution_count": 5,
   "id": "dff5cc73-aac1-4fdf-ab32-591dce52069f",
   "metadata": {},
   "outputs": [
    {
     "name": "stdout",
     "output_type": "stream",
     "text": [
      "Sorted strings by length: ['kiwi', 'apple', 'grape', 'banana', 'orange']\n"
     ]
    }
   ],
   "source": [
    "def sort_strings_by_length(strings):\n",
    "    return sorted(strings, key=len)\n",
    "\n",
    "# Test\n",
    "strings = ['apple', 'banana', 'kiwi', 'orange', 'grape']\n",
    "print(\"Sorted strings by length:\", sort_strings_by_length(strings))\n"
   ]
  },
  {
   "cell_type": "markdown",
   "id": "2f791587-5fc7-489b-994f-4fa0fc4fd344",
   "metadata": {},
   "source": [
    "Problem 6 :\n",
    "Implementing the merge sort ( Will be discussed in the class )"
   ]
  },
  {
   "cell_type": "code",
   "execution_count": 6,
   "id": "1e6eda26-b863-4b4b-bacb-dd4161c10263",
   "metadata": {},
   "outputs": [
    {
     "name": "stdout",
     "output_type": "stream",
     "text": [
      "Sorted array using merge sort: [5, 6, 7, 11, 12, 13]\n"
     ]
    }
   ],
   "source": [
    "def merge_sort(arr):\n",
    "    if len(arr) <= 1:\n",
    "        return arr\n",
    "    mid = len(arr) // 2\n",
    "    left_half = merge_sort(arr[:mid])\n",
    "    right_half = merge_sort(arr[mid:])\n",
    "    return merge(left_half, right_half)\n",
    "\n",
    "def merge(left, right):\n",
    "    result = []\n",
    "    i = j = 0\n",
    "    while i < len(left) and j < len(right):\n",
    "        if left[i] < right[j]:\n",
    "            result.append(left[i])\n",
    "            i += 1\n",
    "        else:\n",
    "            result.append(right[j])\n",
    "            j += 1\n",
    "    result.extend(left[i:])\n",
    "    result.extend(right[j:])\n",
    "    return result\n",
    "\n",
    "# Test\n",
    "arr = [12, 11, 13, 5, 6, 7]\n",
    "print(\"Sorted array using merge sort:\", merge_sort(arr))\n",
    "\n"
   ]
  },
  {
   "cell_type": "markdown",
   "id": "76f6fbbd-1317-4b56-ba82-ae66d8a93974",
   "metadata": {},
   "source": [
    "Problem 7 :\n",
    "Implementing the quick sort ( will be discussed in the class )"
   ]
  },
  {
   "cell_type": "code",
   "execution_count": 7,
   "id": "063d7448-2d52-45a7-ba87-0edc2253318b",
   "metadata": {},
   "outputs": [
    {
     "name": "stdout",
     "output_type": "stream",
     "text": [
      "Sorted array using quick sort: [5, 6, 7, 11, 12, 13]\n"
     ]
    }
   ],
   "source": [
    "def quick_sort(arr):\n",
    "    if len(arr) <= 1:\n",
    "        return arr\n",
    "    pivot = arr[len(arr) // 2]\n",
    "    left = [x for x in arr if x < pivot]\n",
    "    middle = [x for x in arr if x == pivot]\n",
    "    right = [x for x in arr if x > pivot]\n",
    "    return quick_sort(left) + middle + quick_sort(right)\n",
    "\n",
    "# Test\n",
    "arr = [12, 11, 13, 5, 6, 7]\n",
    "print(\"Sorted array using quick sort:\", quick_sort(arr))\n"
   ]
  },
  {
   "cell_type": "markdown",
   "id": "da715044-4d38-4d09-9e6c-73efa6806842",
   "metadata": {},
   "source": [
    "Problem 8 :\n",
    "Implementing the count sort ( will be discussed in the class )"
   ]
  },
  {
   "cell_type": "code",
   "execution_count": 8,
   "id": "60b90218-d5e5-4484-bcb7-ce4ac2d5cb4c",
   "metadata": {},
   "outputs": [
    {
     "name": "stdout",
     "output_type": "stream",
     "text": [
      "Sorted array using count sort: [1, 2, 2, 3, 3, 4, 8]\n"
     ]
    }
   ],
   "source": [
    "def count_sort(arr):\n",
    "    max_num = max(arr)\n",
    "    count = [0] * (max_num + 1)\n",
    "    for num in arr:\n",
    "        count[num] += 1\n",
    "    sorted_arr = []\n",
    "    for i in range(max_num + 1):\n",
    "        sorted_arr.extend([i] * count[i])\n",
    "    return sorted_arr\n",
    "\n",
    "# Test\n",
    "arr = [4, 2, 2, 8, 3, 3, 1]\n",
    "print(\"Sorted array using count sort:\", count_sort(arr))\n"
   ]
  },
  {
   "cell_type": "markdown",
   "id": "535eb36e-70f5-41fd-bb0e-7c8acfdba0a5",
   "metadata": {},
   "source": [
    "Problem 9 :\n",
    "Implement a Python function to find a peak element in an array. A peak element is an element that is greater\n",
    "than or equal to its neighbors.\n",
    "Input:\n",
    "[1, 3, 20, 4, 1, 0]\n",
    "Output:\n",
    "Peak element is 20"
   ]
  },
  {
   "cell_type": "code",
   "execution_count": 9,
   "id": "45926c4a-08f4-4489-aece-f577fd2900aa",
   "metadata": {},
   "outputs": [
    {
     "name": "stdout",
     "output_type": "stream",
     "text": [
      "Peak element is 20\n"
     ]
    }
   ],
   "source": [
    "def find_peak_element(arr):\n",
    "    left, right = 0, len(arr) - 1\n",
    "    while left < right:\n",
    "        mid = (left + right) // 2\n",
    "        if arr[mid] > arr[mid + 1]:\n",
    "            right = mid\n",
    "        else:\n",
    "            left = mid + 1\n",
    "    return arr[left]\n",
    "\n",
    "# Test\n",
    "arr = [1, 3, 20, 4, 1, 0]\n",
    "peak_element = find_peak_element(arr)\n",
    "print(\"Peak element is\", peak_element)\n"
   ]
  },
  {
   "cell_type": "markdown",
   "id": "48b41064-14ab-4eaf-b08f-a3ad77991ba0",
   "metadata": {},
   "source": [
    "Problem 10 :\n",
    "Search in a Nearly Sorted Array\n",
    "Implement a Python program to perform a binary search in a nearly sorted array. In a nearly sorted array, each\n",
    "element is at most k positions away from its sorted position.\n",
    "Input:\n",
    "[2, 1, 3, 4, 6, 5, 7], k = 1\n",
    "Output:\n",
    "Element 5 found at index 4"
   ]
  },
  {
   "cell_type": "code",
   "execution_count": 10,
   "id": "5c16f3af-9d35-4098-9621-67720583770f",
   "metadata": {},
   "outputs": [
    {
     "name": "stdout",
     "output_type": "stream",
     "text": [
      "Element 5 found at index 5\n"
     ]
    }
   ],
   "source": [
    "def search_nearly_sorted_array(arr, target, k):\n",
    "    left, right = 0, len(arr) - 1\n",
    "    while left <= right:\n",
    "        mid = (left + right) // 2\n",
    "        if arr[mid] == target:\n",
    "            return mid\n",
    "        for i in range(1, k + 1):\n",
    "            if mid - i >= left and arr[mid - i] == target:\n",
    "                return mid - i\n",
    "            if mid + i <= right and arr[mid + i] == target:\n",
    "                return mid + i\n",
    "        if arr[mid] < target:\n",
    "            left = mid + 1\n",
    "        else:\n",
    "            right = mid - 1\n",
    "    return -1\n",
    "\n",
    "# Test\n",
    "arr = [2, 1, 3, 4, 6, 5, 7]\n",
    "target = 5\n",
    "k = 1\n",
    "index = search_nearly_sorted_array(arr, target, k)\n",
    "if index != -1:\n",
    "    print(\"Element {} found at index {}\".format(target, index))\n",
    "else:\n",
    "    print(\"Element {} not found in the array\".format(target))\n"
   ]
  }
 ],
 "metadata": {
  "kernelspec": {
   "display_name": "Python 3 (ipykernel)",
   "language": "python",
   "name": "python3"
  },
  "language_info": {
   "codemirror_mode": {
    "name": "ipython",
    "version": 3
   },
   "file_extension": ".py",
   "mimetype": "text/x-python",
   "name": "python",
   "nbconvert_exporter": "python",
   "pygments_lexer": "ipython3",
   "version": "3.10.8"
  }
 },
 "nbformat": 4,
 "nbformat_minor": 5
}
