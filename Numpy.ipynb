{
 "cells": [
  {
   "cell_type": "markdown",
   "id": "9e9d36cc-83a7-49ad-869b-4de06c5c3529",
   "metadata": {},
   "source": [
    "1. What is a Python library? Why do we use Python libraries?"
   ]
  },
  {
   "cell_type": "raw",
   "id": "488502b9-6755-41f2-9f63-c8c7d63cfe31",
   "metadata": {},
   "source": [
    "\n",
    "A Python library is a collection of pre-written code for specific tasks or problems. We use them to save time, add functionality, leverage specialization, benefit from community support, and enhance interoperability in our Python projects."
   ]
  },
  {
   "cell_type": "markdown",
   "id": "e7c4cd15-08d7-49d4-a787-e795850765fe",
   "metadata": {},
   "source": [
    "2. What is the difference between Numpy array and List?"
   ]
  },
  {
   "cell_type": "raw",
   "id": "c7ab58d4-c518-4b59-ac27-e6656784bf78",
   "metadata": {},
   "source": [
    "NumPy arrays are homogeneous, memory-efficient, and offer faster computation with specialized numerical functionality, making them ideal for numerical computing tasks. Python lists, on the other hand, are heterogeneous and lack specialized functionality, but they offer more flexibility with data types and are easier to work with for general-purpose tasks."
   ]
  },
  {
   "cell_type": "markdown",
   "id": "ef045853-df28-4749-a525-1ecbe7226f7b",
   "metadata": {},
   "source": [
    "3. Find the shape, size and dimension of the following array?\n",
    "[[1, 2, 3, 4]\n",
    "[5, 6, 7, 8],\n",
    "[9, 10, 11, 12]]"
   ]
  },
  {
   "cell_type": "code",
   "execution_count": 1,
   "id": "33325ddc-d64b-43f9-af80-fcc60bb861ec",
   "metadata": {},
   "outputs": [
    {
     "name": "stdout",
     "output_type": "stream",
     "text": [
      "Shape of the array: (3, 4)\n",
      "Size of the array: 12\n",
      "Dimension of the array: 2\n"
     ]
    }
   ],
   "source": [
    "import numpy as np\n",
    "\n",
    "arr = np.array([[1, 2, 3, 4], [5, 6, 7, 8], [9, 10, 11, 12]])\n",
    "\n",
    "shape = arr.shape\n",
    "size = arr.size\n",
    "dimension = arr.ndim\n",
    "\n",
    "print(\"Shape of the array:\", shape)\n",
    "print(\"Size of the array:\", size)\n",
    "print(\"Dimension of the array:\", dimension)\n"
   ]
  },
  {
   "cell_type": "markdown",
   "id": "fd16ef2f-5827-458b-89e4-879c72717241",
   "metadata": {},
   "source": [
    "4. Write python code to access the first row of the following array?\n",
    "[[1, 2, 3, 4]\n",
    "[5, 6, 7, 8],\n",
    "[9, 10, 11, 12]]"
   ]
  },
  {
   "cell_type": "code",
   "execution_count": 2,
   "id": "8fe526f6-a0d3-443e-b8f7-56e2d3403a08",
   "metadata": {},
   "outputs": [
    {
     "name": "stdout",
     "output_type": "stream",
     "text": [
      "First row of the array: [1 2 3 4]\n"
     ]
    }
   ],
   "source": [
    "import numpy as np\n",
    "\n",
    "arr = np.array([[1, 2, 3, 4], [5, 6, 7, 8], [9, 10, 11, 12]])\n",
    "\n",
    "first_row = arr[0]\n",
    "\n",
    "print(\"First row of the array:\", first_row)\n"
   ]
  },
  {
   "cell_type": "markdown",
   "id": "87d2c4c1-13c6-4091-b132-174fbafdbc66",
   "metadata": {},
   "source": [
    "5. How do you access the element at the third row and fourth column from the given numpy array?\n",
    "[[1, 2, 3, 4]\n",
    "[5, 6, 7, 8],\n",
    "[9, 10, 11, 12]]"
   ]
  },
  {
   "cell_type": "code",
   "execution_count": 3,
   "id": "21d61110-de81-4d0e-85f2-219633769539",
   "metadata": {},
   "outputs": [
    {
     "name": "stdout",
     "output_type": "stream",
     "text": [
      "Element at the third row and fourth column: 12\n"
     ]
    }
   ],
   "source": [
    "import numpy as np\n",
    "\n",
    "arr = np.array([[1, 2, 3, 4], [5, 6, 7, 8], [9, 10, 11, 12]])\n",
    "\n",
    "element = arr[2, 3]\n",
    "\n",
    "print(\"Element at the third row and fourth column:\", element)\n"
   ]
  },
  {
   "cell_type": "markdown",
   "id": "c151fb07-4697-441c-b282-73e017024259",
   "metadata": {},
   "source": [
    "6. Write code to extract all odd-indexed elements from the given numpy array?\n",
    "[[1, 2, 3, 4]\n",
    "[5, 6, 7, 8],\n",
    "[9, 10, 11, 12]]"
   ]
  },
  {
   "cell_type": "code",
   "execution_count": 4,
   "id": "3deeee2f-53f2-4e26-b938-deda77593791",
   "metadata": {},
   "outputs": [
    {
     "name": "stdout",
     "output_type": "stream",
     "text": [
      "Odd-indexed elements from the array: [ 2  4  6  8 10 12]\n"
     ]
    }
   ],
   "source": [
    "import numpy as np\n",
    "\n",
    "arr = np.array([[1, 2, 3, 4], [5, 6, 7, 8], [9, 10, 11, 12]])\n",
    "\n",
    "odd_indexed_elements = arr[:, 1::2].flatten()\n",
    "\n",
    "print(\"Odd-indexed elements from the array:\", odd_indexed_elements)\n"
   ]
  },
  {
   "cell_type": "markdown",
   "id": "55152260-86da-48de-babc-e1fcbc9ae4e6",
   "metadata": {},
   "source": [
    "7. How can you generate a ran^om 3x3 matrix with values between 0 an^ 1?"
   ]
  },
  {
   "cell_type": "code",
   "execution_count": 5,
   "id": "fae5f510-1a18-45b7-bcf9-0e91b20cc486",
   "metadata": {},
   "outputs": [
    {
     "name": "stdout",
     "output_type": "stream",
     "text": [
      "Random 3x3 matrix with values between 0 and 1:\n",
      "[[0.22544237 0.82102569 0.69445788]\n",
      " [0.78521505 0.86485776 0.43840823]\n",
      " [0.65422134 0.74349899 0.85768797]]\n"
     ]
    }
   ],
   "source": [
    "import numpy as np\n",
    "\n",
    "random_matrix = np.random.rand(3, 3)\n",
    "\n",
    "print(\"Random 3x3 matrix with values between 0 and 1:\")\n",
    "print(random_matrix)\n"
   ]
  },
  {
   "cell_type": "markdown",
   "id": "547164d4-b145-4288-a6f3-a1a5d50b2f7f",
   "metadata": {},
   "source": [
    "8. Describe the difference between np.random.rand and np.random.randn?"
   ]
  },
  {
   "cell_type": "raw",
   "id": "a98ac73d-8c09-4ddb-9676-545f66b5593f",
   "metadata": {},
   "source": [
    "- `np.random.rand`: Generates random values from a uniform distribution between 0 and 1, and accepts dimensions as separate arguments.\n",
    "- `np.random.randn`: Generates random values from a standard normal distribution (mean 0, standard deviation 1), and accepts dimensions as a tuple."
   ]
  },
  {
   "cell_type": "markdown",
   "id": "2e1fc8f0-5eb7-4528-a5c4-e9ebde4edb44",
   "metadata": {},
   "source": [
    "9. Write code to increase the dimension of the following array?\n",
    "[[1, 2, 3, 4]\n",
    "[5, 6, 7, 8],\n",
    "[9, 10, 11, 12]]"
   ]
  },
  {
   "cell_type": "code",
   "execution_count": 6,
   "id": "0116635d-912d-440d-8da7-f2434e2139d9",
   "metadata": {},
   "outputs": [
    {
     "name": "stdout",
     "output_type": "stream",
     "text": [
      "Original array:\n",
      "[[ 1  2  3  4]\n",
      " [ 5  6  7  8]\n",
      " [ 9 10 11 12]]\n",
      "\n",
      "Expanded array with an additional dimension:\n",
      "[[[ 1]\n",
      "  [ 2]\n",
      "  [ 3]\n",
      "  [ 4]]\n",
      "\n",
      " [[ 5]\n",
      "  [ 6]\n",
      "  [ 7]\n",
      "  [ 8]]\n",
      "\n",
      " [[ 9]\n",
      "  [10]\n",
      "  [11]\n",
      "  [12]]]\n"
     ]
    }
   ],
   "source": [
    "import numpy as np\n",
    "\n",
    "arr = np.array([[1, 2, 3, 4], [5, 6, 7, 8], [9, 10, 11, 12]])\n",
    "\n",
    "expanded_arr = np.expand_dims(arr, axis=2)\n",
    "\n",
    "print(\"Original array:\")\n",
    "print(arr)\n",
    "print(\"\\nExpanded array with an additional dimension:\")\n",
    "print(expanded_arr)\n"
   ]
  },
  {
   "cell_type": "markdown",
   "id": "bb599849-44e5-4f29-8f8a-b698080598e7",
   "metadata": {},
   "source": [
    "10. How to transpose the following array in NumPy?\n",
    "[[1, 2, 3, 4]\n",
    "[5, 6, 7, 8],\n",
    "[9, 10, 11, 12]]"
   ]
  },
  {
   "cell_type": "code",
   "execution_count": 7,
   "id": "29a526f3-f9bb-4fe8-bf13-ab2afe495c6d",
   "metadata": {},
   "outputs": [
    {
     "name": "stdout",
     "output_type": "stream",
     "text": [
      "Original array:\n",
      "[[ 1  2  3  4]\n",
      " [ 5  6  7  8]\n",
      " [ 9 10 11 12]]\n",
      "\n",
      "Transposed array:\n",
      "[[ 1  5  9]\n",
      " [ 2  6 10]\n",
      " [ 3  7 11]\n",
      " [ 4  8 12]]\n"
     ]
    }
   ],
   "source": [
    "import numpy as np\n",
    "\n",
    "arr = np.array([[1, 2, 3, 4], [5, 6, 7, 8], [9, 10, 11, 12]])\n",
    "\n",
    "transposed_arr = np.transpose(arr)\n",
    "\n",
    "print(\"Original array:\")\n",
    "print(arr)\n",
    "print(\"\\nTransposed array:\")\n",
    "print(transposed_arr)\n"
   ]
  },
  {
   "cell_type": "markdown",
   "id": "ce2cc327-12ac-4979-a26a-677ba37d2b90",
   "metadata": {},
   "source": [
    "11. Consider the following matrix:\n",
    "Matrix A2 [[1, 2, 3, 4] [5, 6, 7, 8],[9, 10, 11, 12]]\n",
    "Matrix B2 [[1, 2, 3, 4] [5, 6, 7, 8],[9, 10, 11, 12]]\n",
    "Perform the following operation using Python1\n",
    "a. Index wise multiplication\n",
    "b. Matix multiplication\n",
    "c. Add both the maticK\n",
    "d. Subtact matix B from A \n",
    "e. Divide Matix B by A"
   ]
  },
  {
   "cell_type": "code",
   "execution_count": 8,
   "id": "561c70aa-f30b-450d-b4be-b561ff946a95",
   "metadata": {},
   "outputs": [
    {
     "name": "stdout",
     "output_type": "stream",
     "text": [
      "Index-wise multiplication:\n",
      "[[  1   4   9  16]\n",
      " [ 25  36  49  64]\n",
      " [ 81 100 121 144]]\n",
      "\n",
      "Matrix multiplication:\n",
      "[[ 30  70 110]\n",
      " [ 70 174 278]\n",
      " [110 278 446]]\n",
      "\n",
      "Matrix addition:\n",
      "[[ 2  4  6  8]\n",
      " [10 12 14 16]\n",
      " [18 20 22 24]]\n",
      "\n",
      "Matrix subtraction:\n",
      "[[0 0 0 0]\n",
      " [0 0 0 0]\n",
      " [0 0 0 0]]\n",
      "\n",
      "Division of matrix B2 by A2:\n",
      "[[1. 1. 1. 1.]\n",
      " [1. 1. 1. 1.]\n",
      " [1. 1. 1. 1.]]\n"
     ]
    }
   ],
   "source": [
    "import numpy as np\n",
    "\n",
    "# Define matrices A2 and B2\n",
    "A2 = np.array([[1, 2, 3, 4], [5, 6, 7, 8], [9, 10, 11, 12]])\n",
    "B2 = np.array([[1, 2, 3, 4], [5, 6, 7, 8], [9, 10, 11, 12]])\n",
    "\n",
    "# Index-wise multiplication\n",
    "index_wise_multiplication = A2 * B2\n",
    "\n",
    "# Matrix multiplication\n",
    "matrix_multiplication = np.matmul(A2, B2.T)  # Transpose of B2 is taken to match dimensions\n",
    "\n",
    "# Matrix addition\n",
    "matrix_addition = A2 + B2\n",
    "\n",
    "# Matrix subtraction\n",
    "matrix_subtraction = A2 - B2\n",
    "\n",
    "# Division of matrix B2 by A2\n",
    "division_matrix = np.divide(B2, A2)\n",
    "\n",
    "# Print results\n",
    "print(\"Index-wise multiplication:\")\n",
    "print(index_wise_multiplication)\n",
    "\n",
    "print(\"\\nMatrix multiplication:\")\n",
    "print(matrix_multiplication)\n",
    "\n",
    "print(\"\\nMatrix addition:\")\n",
    "print(matrix_addition)\n",
    "\n",
    "print(\"\\nMatrix subtraction:\")\n",
    "print(matrix_subtraction)\n",
    "\n",
    "print(\"\\nDivision of matrix B2 by A2:\")\n",
    "print(division_matrix)\n"
   ]
  },
  {
   "cell_type": "markdown",
   "id": "ce046070-d913-4529-b340-f9f084c307d9",
   "metadata": {},
   "source": [
    "12. Which function in Numpy can be use^ to swap the byte or^er of an array?"
   ]
  },
  {
   "cell_type": "raw",
   "id": "7c3bbc36-60d5-4414-b681-0888a187568a",
   "metadata": {},
   "source": [
    "The function you can use in NumPy to swap the byte order of an array is `byteswap()`. It swaps the byte order of elements in the array, useful for converting between little-endian and big-endian byte ordering."
   ]
  },
  {
   "cell_type": "markdown",
   "id": "9da5b8c7-f983-4673-9355-59f407644346",
   "metadata": {},
   "source": [
    "13. What is the significance of the np.linalg.inv function?"
   ]
  },
  {
   "cell_type": "raw",
   "id": "14b141e2-62f2-4c91-9a8c-9fd5a92ba14c",
   "metadata": {},
   "source": [
    "The `np.linalg.inv` function calculates the inverse of a square matrix. It's essential for solving systems of linear equations, computing determinants, and understanding matrix properties."
   ]
  },
  {
   "cell_type": "markdown",
   "id": "f12cdf52-afef-4ebf-accb-1ef59800262b",
   "metadata": {},
   "source": [
    "14. What does the np.reshape function do, and how is it used?"
   ]
  },
  {
   "cell_type": "raw",
   "id": "1d3a071a-3eeb-466c-acdd-380f69323734",
   "metadata": {},
   "source": [
    "The `np.reshape` function in NumPy is used to change the shape of an array without altering its data. It allows you to reorganize the elements of the array into a new shape while maintaining their order."
   ]
  },
  {
   "cell_type": "markdown",
   "id": "da961783-b76d-435b-9738-a98fc15aac53",
   "metadata": {},
   "source": [
    "15. What is broadcasting in Numpy?"
   ]
  },
  {
   "cell_type": "raw",
   "id": "cae4f87d-1c9b-4036-b5d7-bd67e5b7ca0d",
   "metadata": {},
   "source": [
    "Broadcasting in NumPy is a feature that allows arrays with different shapes to be combined and operated upon together without explicit looping. It enables efficient element-wise operations by automatically aligning dimensions and stretching arrays as needed."
   ]
  }
 ],
 "metadata": {
  "kernelspec": {
   "display_name": "Python 3 (ipykernel)",
   "language": "python",
   "name": "python3"
  },
  "language_info": {
   "codemirror_mode": {
    "name": "ipython",
    "version": 3
   },
   "file_extension": ".py",
   "mimetype": "text/x-python",
   "name": "python",
   "nbconvert_exporter": "python",
   "pygments_lexer": "ipython3",
   "version": "3.10.8"
  }
 },
 "nbformat": 4,
 "nbformat_minor": 5
}
