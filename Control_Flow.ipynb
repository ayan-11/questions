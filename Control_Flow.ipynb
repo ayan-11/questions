{
 "cells": [
  {
   "cell_type": "code",
   "execution_count": null,
   "id": "2435d820-05e2-4543-8cd3-b79f8d455cdb",
   "metadata": {},
   "outputs": [],
   "source": [
    "Basic If-Else Statements:"
   ]
  },
  {
   "cell_type": "code",
   "execution_count": null,
   "id": "896a8768-5665-47f7-9557-5bb23d671e1e",
   "metadata": {},
   "outputs": [],
   "source": [
    "1. Write a Python program to check if a given number is positive or negative."
   ]
  },
  {
   "cell_type": "code",
   "execution_count": 1,
   "id": "62ea6eb6-6127-4cad-9eaf-578a19ed0e5e",
   "metadata": {},
   "outputs": [
    {
     "name": "stdout",
     "output_type": "stream",
     "text": [
      "Number is negative\n"
     ]
    }
   ],
   "source": [
    "n=-7\n",
    "if n>0:\n",
    "    print(\"Number is positive\")\n",
    "else:\n",
    "    print(\"Number is negative\")"
   ]
  },
  {
   "cell_type": "code",
   "execution_count": null,
   "id": "c6bb9b20-bdd3-46d3-b487-90871d053760",
   "metadata": {},
   "outputs": [],
   "source": [
    "2. Create a program that determines if a person is eligible to vote based on their age."
   ]
  },
  {
   "cell_type": "code",
   "execution_count": 2,
   "id": "386ca8c5-aa48-426a-8edf-47976c51d645",
   "metadata": {},
   "outputs": [
    {
     "name": "stdout",
     "output_type": "stream",
     "text": [
      "Person is eligible to vote\n"
     ]
    }
   ],
   "source": [
    "age=56\n",
    "if age>=18:\n",
    "    print(\"Person is eligible to vote\")\n",
    "else:\n",
    "    print(\"Person is not eligiblie to vote\")"
   ]
  },
  {
   "cell_type": "code",
   "execution_count": null,
   "id": "037880ec-f7af-467b-bfa0-f9ff23215ff4",
   "metadata": {},
   "outputs": [],
   "source": [
    "3. Develop a program to find the maximum of two numbers using if-else statements.`"
   ]
  },
  {
   "cell_type": "code",
   "execution_count": 3,
   "id": "512bbafa-ee34-4f21-a025-dc75100da8a5",
   "metadata": {},
   "outputs": [
    {
     "name": "stdout",
     "output_type": "stream",
     "text": [
      "n1 is maximum\n"
     ]
    }
   ],
   "source": [
    "n1,n2=56,45\n",
    "if n1>n2:\n",
    "    print(\"n1 is maximum\")\n",
    "else:\n",
    "    print(\"n2 is maximum\")"
   ]
  },
  {
   "cell_type": "code",
   "execution_count": null,
   "id": "88eac4b1-05a1-424c-8561-96ba3299fe3e",
   "metadata": {},
   "outputs": [],
   "source": [
    "4. Write a Python script to classify a given year as a leap year or not."
   ]
  },
  {
   "cell_type": "code",
   "execution_count": 5,
   "id": "7496b0b5-5b38-4a5d-b195-f615434a490d",
   "metadata": {},
   "outputs": [
    {
     "name": "stdout",
     "output_type": "stream",
     "text": [
      "1998 is not a leap year.\n"
     ]
    }
   ],
   "source": [
    "year=1998\n",
    "if (year % 4 == 0 and year % 100 != 0) or (year % 400 == 0):\n",
    "    print(year, \"is a leap year.\")\n",
    "else:\n",
    "    print(year, \"is not a leap year.\")"
   ]
  },
  {
   "cell_type": "code",
   "execution_count": null,
   "id": "fec2a6c6-d963-4c00-8ee4-0d3d3487b883",
   "metadata": {},
   "outputs": [],
   "source": [
    "5. Create a program that checks whether a character is a vowel or a consonant."
   ]
  },
  {
   "cell_type": "code",
   "execution_count": 8,
   "id": "dadd0bdb-d5ea-42c5-b443-dc5cb9707c6f",
   "metadata": {},
   "outputs": [
    {
     "name": "stdout",
     "output_type": "stream",
     "text": [
      "a is a vowel.\n"
     ]
    }
   ],
   "source": [
    "char=\"a\"\n",
    "char = char.lower()\n",
    "if char.isalpha() and len(char) == 1:\n",
    "    if char in 'aeiou':\n",
    "        print(char, \"is a vowel.\")\n",
    "    else:\n",
    "        print(char, \"is a consonant.\")\n",
    "else:\n",
    "    print(\"Please enter a single alphabetic character.\")"
   ]
  },
  {
   "cell_type": "code",
   "execution_count": null,
   "id": "8b468dd0-662d-4632-a32a-dedb3da0e655",
   "metadata": {},
   "outputs": [],
   "source": [
    "6. Implement a program to determine whether a given number is even or odd."
   ]
  },
  {
   "cell_type": "code",
   "execution_count": 9,
   "id": "df5465e7-41b0-4d88-af93-4b73099d0f2a",
   "metadata": {},
   "outputs": [
    {
     "name": "stdout",
     "output_type": "stream",
     "text": [
      "Number is not even\n"
     ]
    }
   ],
   "source": [
    "n=45\n",
    "if n%2==0:\n",
    "    print(\"Number is even\")\n",
    "else:\n",
    "    print(\"Number is not even\")"
   ]
  },
  {
   "cell_type": "code",
   "execution_count": null,
   "id": "b26bf5ab-67c5-4ffb-a4e8-ad1c17d83e50",
   "metadata": {},
   "outputs": [],
   "source": [
    "7. Write a Python function to calculate the absolute value of a number without using the `abs()` function."
   ]
  },
  {
   "cell_type": "code",
   "execution_count": 10,
   "id": "c30a0ab6-ae52-477c-8146-45cddb01fc33",
   "metadata": {},
   "outputs": [
    {
     "name": "stdout",
     "output_type": "stream",
     "text": [
      "The absolute value of -5 is 5\n"
     ]
    }
   ],
   "source": [
    "def absolute_value(number):\n",
    "    if number < 0:\n",
    "        return -number\n",
    "    else:\n",
    "        return number\n",
    "num = -5\n",
    "result = absolute_value(num)\n",
    "print(f\"The absolute value of {num} is {result}\")"
   ]
  },
  {
   "cell_type": "code",
   "execution_count": null,
   "id": "d9020193-8c6c-41fa-9ffa-235879c46d52",
   "metadata": {},
   "outputs": [],
   "source": [
    "8. Develop a program that determines the largest of three given numbers using if-else statements."
   ]
  },
  {
   "cell_type": "code",
   "execution_count": 11,
   "id": "16913e55-8d4f-4704-97fe-d926a1824bcd",
   "metadata": {},
   "outputs": [
    {
     "name": "stdout",
     "output_type": "stream",
     "text": [
      "The largest number among 45, 34, and 3 is 45.\n"
     ]
    }
   ],
   "source": [
    "num1,num2,num3=45,34,3\n",
    "if num1 >= num2 and num1 >= num3:\n",
    "    largest = num1\n",
    "elif num2 >= num1 and num2 >= num3:\n",
    "    largest = num2\n",
    "else:\n",
    "    largest = num3\n",
    "print(f\"The largest number among {num1}, {num2}, and {num3} is {largest}.\")"
   ]
  },
  {
   "cell_type": "code",
   "execution_count": null,
   "id": "f241349d-9689-47e7-acc6-45ca1aaf218a",
   "metadata": {},
   "outputs": [],
   "source": [
    "9. Create a program that checks if a given string is a palindrome."
   ]
  },
  {
   "cell_type": "code",
   "execution_count": 12,
   "id": "9d14e186-787d-460a-ac11-d52e09ebed46",
   "metadata": {},
   "outputs": [
    {
     "name": "stdout",
     "output_type": "stream",
     "text": [
      "Palindromic string\n"
     ]
    }
   ],
   "source": [
    "st=\"malayalam\"\n",
    "if st == st[::-1]:\n",
    "    print(\"Palindromic string\")\n",
    "else:\n",
    "    print(\"Not a Palindromic string\")"
   ]
  },
  {
   "cell_type": "code",
   "execution_count": null,
   "id": "cbaff78f-337c-43f3-81b9-15bdf22d7fcf",
   "metadata": {},
   "outputs": [],
   "source": [
    "10. Write a Python program to calculate the grade based on a student's score."
   ]
  },
  {
   "cell_type": "code",
   "execution_count": 13,
   "id": "dc953d01-132f-4fa8-bf14-7d6367b8bd9b",
   "metadata": {},
   "outputs": [
    {
     "name": "stdin",
     "output_type": "stream",
     "text": [
      "Enter the student's score:  56\n"
     ]
    },
    {
     "name": "stdout",
     "output_type": "stream",
     "text": [
      "The student's score is  56.0\n",
      "The student's grade is: F\n"
     ]
    }
   ],
   "source": [
    "score = float(input(\"Enter the student's score: \"))\n",
    "print(\"The student's score is \",score)\n",
    "if 90 <= score <= 100:\n",
    "    grade = 'A'\n",
    "elif 80 <= score < 90:\n",
    "    grade = 'B'\n",
    "elif 70 <= score < 80:\n",
    "    grade = 'C'\n",
    "elif 60 <= score < 70:\n",
    "    grade = 'D'\n",
    "elif 0 <= score < 60:\n",
    "    grade = 'F'\n",
    "else:\n",
    "    grade = 'Invalid (score out of range)'\n",
    "print(f\"The student's grade is: {grade}\")"
   ]
  },
  {
   "cell_type": "code",
   "execution_count": null,
   "id": "0a3c9707-08fd-4dab-9e7c-b78cc0bc4ee0",
   "metadata": {},
   "outputs": [],
   "source": [
    "Nested If-Else Statements:"
   ]
  },
  {
   "cell_type": "code",
   "execution_count": null,
   "id": "362a2a99-89d8-4f35-b364-c352ca3c52f8",
   "metadata": {},
   "outputs": [],
   "source": [
    "11. Write a program to find the largest among three numbers using nested if-else statements."
   ]
  },
  {
   "cell_type": "code",
   "execution_count": 14,
   "id": "0ee39257-bb34-4a82-9bcc-2e858cca7e57",
   "metadata": {},
   "outputs": [
    {
     "name": "stdout",
     "output_type": "stream",
     "text": [
      "The largest number among 78, 56, and 88 is 88.\n"
     ]
    }
   ],
   "source": [
    "num1,num2,num3=78,56,88\n",
    "if num1 >= num2:\n",
    "    if num1 >= num3:\n",
    "        largest = num1\n",
    "    else:\n",
    "        largest = num3\n",
    "else:\n",
    "    if num2 >= num3:\n",
    "        largest = num2\n",
    "    else:\n",
    "        largest = num3\n",
    "print(f\"The largest number among {num1}, {num2}, and {num3} is {largest}.\")"
   ]
  },
  {
   "cell_type": "code",
   "execution_count": null,
   "id": "a67486a9-7ddd-4bed-8c75-6cc7b173f42a",
   "metadata": {},
   "outputs": [],
   "source": [
    "12. Implement a program to determine if a triangle is equilateral, isosceles, or scalene."
   ]
  },
  {
   "cell_type": "code",
   "execution_count": 15,
   "id": "3981c30f-47d6-4667-984f-8246fd5ca4e0",
   "metadata": {},
   "outputs": [
    {
     "name": "stdout",
     "output_type": "stream",
     "text": [
      "Triangle is isoceles\n"
     ]
    }
   ],
   "source": [
    "s1,s2,s3=25,25,56\n",
    "if s1 == s2 or s2 == s3 or s3 == s1:\n",
    "    print(\"Triangle is isoceles\")\n",
    "elif s1 == s2 == s3:\n",
    "    print(\"Triangle is equilateral\")\n",
    "else:\n",
    "    print(\"Triangle is scalene\")"
   ]
  },
  {
   "cell_type": "code",
   "execution_count": null,
   "id": "5da754ed-ecdc-4795-8573-7f5d795c2909",
   "metadata": {},
   "outputs": [],
   "source": [
    "13. Develop a program that checks if a year is a leap year and also if it is a century year."
   ]
  },
  {
   "cell_type": "code",
   "execution_count": 16,
   "id": "b632cc4e-505c-4d7d-bdff-6675c24c2032",
   "metadata": {},
   "outputs": [
    {
     "name": "stdin",
     "output_type": "stream",
     "text": [
      "Enter a year:  1992\n"
     ]
    },
    {
     "name": "stdout",
     "output_type": "stream",
     "text": [
      "1992 is a leap year.\n",
      "1992 is not a century year.\n"
     ]
    }
   ],
   "source": [
    "year = int(input(\"Enter a year: \"))\n",
    "is_leap_year = False\n",
    "if (year % 4 == 0 and year % 100 != 0) or (year % 400 == 0):\n",
    "    is_leap_year = True\n",
    "is_century_year = year % 100 == 0\n",
    "if is_leap_year == True:\n",
    "    print(year, \"is a leap year.\")\n",
    "else:\n",
    "    print(year, \"is not a leap year.\")\n",
    "if is_century_year == True:\n",
    "    print(year, \"is a century year.\")\n",
    "else:\n",
    "    print(year, \"is not a century year.\")"
   ]
  },
  {
   "cell_type": "code",
   "execution_count": null,
   "id": "dd5cd325-4b12-4dbb-96c7-8ad13bc77830",
   "metadata": {},
   "outputs": [],
   "source": [
    "14. Write a Python script to determine if a number is positive, negative, or zero."
   ]
  },
  {
   "cell_type": "code",
   "execution_count": 17,
   "id": "5ee8a257-ff8b-4d75-a152-28d8dcb9293d",
   "metadata": {},
   "outputs": [
    {
     "name": "stdin",
     "output_type": "stream",
     "text": [
      "Enter a number:-  5\n"
     ]
    },
    {
     "name": "stdout",
     "output_type": "stream",
     "text": [
      "Number provided is:-  5\n",
      "Number is positive\n"
     ]
    }
   ],
   "source": [
    "num=int(input(\"Enter a number:- \"))\n",
    "print(\"Number provided is:- \",num)\n",
    "if num > 0:\n",
    "    print(\"Number is positive\")\n",
    "elif num < 0:\n",
    "    print(\"Number is negative\")\n",
    "else:\n",
    "    print(\"Number is 0\")"
   ]
  },
  {
   "cell_type": "code",
   "execution_count": null,
   "id": "cd72081b-f902-4046-9ba9-ce12dc98628c",
   "metadata": {},
   "outputs": [],
   "source": [
    "15. Create a program to check if a person is a teenager (between 13 and 19 years old)."
   ]
  },
  {
   "cell_type": "code",
   "execution_count": 22,
   "id": "602d67dc-2f7f-482c-8cbb-b917f4cfbdcd",
   "metadata": {},
   "outputs": [
    {
     "name": "stdin",
     "output_type": "stream",
     "text": [
      "Enter the person's age 15\n"
     ]
    },
    {
     "name": "stdout",
     "output_type": "stream",
     "text": [
      "The person's age is :-  15\n",
      "Person is a teenager\n"
     ]
    }
   ],
   "source": [
    "age=int(input(\"Enter the person's age\"))\n",
    "print(\"The person's age is :- \",age)\n",
    "if 13 < age <19:\n",
    "    print(\"Person is a teenager\")\n",
    "else:\n",
    "    print(\"Person is not a teenager\")"
   ]
  },
  {
   "cell_type": "code",
   "execution_count": null,
   "id": "bc866a18-5410-44eb-b882-ed5fc6bd5882",
   "metadata": {},
   "outputs": [],
   "source": [
    "16. Develop a program that determines the type of angle based on its measure (acute, obtuse, or right)."
   ]
  },
  {
   "cell_type": "code",
   "execution_count": 24,
   "id": "d1a5c8d3-ed10-4b7a-bf84-eb40dfcf645d",
   "metadata": {},
   "outputs": [
    {
     "name": "stdin",
     "output_type": "stream",
     "text": [
      "Enter the measure of the angle in degrees:  120\n"
     ]
    },
    {
     "name": "stdout",
     "output_type": "stream",
     "text": [
      "The measure of the angle in the triangle is :-  120.0\n",
      "The angle with a measure of 120.0 degrees is a Obtuse angle.\n"
     ]
    }
   ],
   "source": [
    "angle_measure = float(input(\"Enter the measure of the angle in degrees: \"))\n",
    "print(\"The measure of the angle in the triangle is :- \",angle_measure)\n",
    "if angle_measure < 90:\n",
    "    angle_type = \"Acute\"\n",
    "elif angle_measure == 90:\n",
    "    angle_type = \"Right\"\n",
    "elif angle_measure > 90 and angle_measure < 180:\n",
    "    angle_type = \"Obtuse\"\n",
    "else:\n",
    "    angle_type = \"Reflex\"\n",
    "print(f\"The angle with a measure of {angle_measure} degrees is a {angle_type} angle.\")"
   ]
  },
  {
   "cell_type": "code",
   "execution_count": null,
   "id": "ed1d5296-a9a5-4b34-845d-c417197cd26f",
   "metadata": {},
   "outputs": [],
   "source": [
    "17. Write a Python program to calculate the roots of a quadratic equation."
   ]
  },
  {
   "cell_type": "code",
   "execution_count": 28,
   "id": "2179b693-15cf-4ee1-9b9b-8cabb0746d28",
   "metadata": {},
   "outputs": [
    {
     "name": "stdout",
     "output_type": "stream",
     "text": [
      "The roots are complex: -1.0 + 1.4142135623730951i and -1.0 - 1.4142135623730951i\n"
     ]
    }
   ],
   "source": [
    "a,b,c=5,10,15\n",
    "D = b**2 - 4*a*c\n",
    "if D > 0:\n",
    "    root1 = (-b + (D**0.5)) / (2*a)\n",
    "    root2 = (-b - (D**0.5)) / (2*a)\n",
    "    print(f\"The roots are real and distinct: {root1} and {root2}\")\n",
    "elif D == 0:\n",
    "    root1 = -b / (2*a)\n",
    "    print(f\"There is one real root (repeated): {root1}\")\n",
    "else:\n",
    "    real_part = -b / (2*a)\n",
    "    imaginary_part = (abs(D)**0.5) / (2*a)\n",
    "    print(f\"The roots are complex: {real_part} + {imaginary_part}i and {real_part} - {imaginary_part}i\")"
   ]
  },
  {
   "cell_type": "code",
   "execution_count": null,
   "id": "c6a09da6-1912-4a30-80a1-f9a8109105d8",
   "metadata": {},
   "outputs": [],
   "source": [
    "18. Implement a program to determine the day of the week based on a user-provided number (1 for Monday, 2 for Tuesday, etc.)."
   ]
  },
  {
   "cell_type": "code",
   "execution_count": 29,
   "id": "7c5297c7-71db-4efd-a749-dfaeae8dd458",
   "metadata": {},
   "outputs": [
    {
     "name": "stdout",
     "output_type": "stream",
     "text": [
      "The day corresponding to 5 is Friday.\n"
     ]
    }
   ],
   "source": [
    "day_number = 5\n",
    "days_of_week = [\"Monday\", \"Tuesday\", \"Wednesday\", \"Thursday\", \"Friday\", \"Saturday\", \"Sunday\"]\n",
    "if 1 <= day_number <= 7:\n",
    "    day_name = days_of_week[day_number - 1]\n",
    "    print(f\"The day corresponding to {day_number} is {day_name}.\")\n",
    "else:\n",
    "    print(\"Invalid input. Please enter a number between 1 and 7.\")"
   ]
  },
  {
   "cell_type": "code",
   "execution_count": null,
   "id": "ee19b71f-a15e-4169-8944-c8065871f15a",
   "metadata": {},
   "outputs": [],
   "source": [
    "19. Create a program that determines if a year is a leap year and also if it is evenly divisible by 400."
   ]
  },
  {
   "cell_type": "code",
   "execution_count": 32,
   "id": "bc1ebd56-0b6c-4db3-a659-96bcf1d10b2b",
   "metadata": {},
   "outputs": [
    {
     "name": "stdin",
     "output_type": "stream",
     "text": [
      "Enter a year:  2000\n"
     ]
    },
    {
     "name": "stdout",
     "output_type": "stream",
     "text": [
      "Year provided:-  2000\n",
      "2000 is a leap year and evenly divisible by 400.\n"
     ]
    }
   ],
   "source": [
    "year = int(input(\"Enter a year: \"))\n",
    "print(\"Year provided:- \",year)\n",
    "is_leap_year = (year % 4 == 0 and (year % 100 != 0 or year % 400 == 0))\n",
    "\n",
    "if is_leap_year:\n",
    "    print(year, \"is a leap year and evenly divisible by 400.\")\n",
    "else:\n",
    "    print(year, \"is not a leap year or not evenly divisible by 400.\")"
   ]
  },
  {
   "cell_type": "code",
   "execution_count": null,
   "id": "c1de0c68-eef1-4fc1-ab2e-a5380adec467",
   "metadata": {},
   "outputs": [],
   "source": [
    "20. Develop a program that checks if a given number is prime or not using nested if-else statements."
   ]
  },
  {
   "cell_type": "code",
   "execution_count": 35,
   "id": "79ce65b4-094e-4a79-991a-b04eb1a54951",
   "metadata": {},
   "outputs": [
    {
     "name": "stdin",
     "output_type": "stream",
     "text": [
      "Enter a number:  83\n"
     ]
    },
    {
     "name": "stdout",
     "output_type": "stream",
     "text": [
      "Number is :-  83\n",
      "83 is a prime number.\n"
     ]
    }
   ],
   "source": [
    "num = int(input(\"Enter a number: \"))\n",
    "print(\"Number is :- \",num)\n",
    "if num > 1:\n",
    "    for i in range(2, int(num ** 0.5) + 1):\n",
    "        if num % i == 0:\n",
    "            print(num, \"is not a prime number.\")\n",
    "            break\n",
    "    else:\n",
    "        print(num, \"is a prime number.\")\n",
    "else:\n",
    "    print(num, \"is not a prime number.\")"
   ]
  },
  {
   "cell_type": "code",
   "execution_count": null,
   "id": "3194804c-80f4-4b52-9791-54473507d846",
   "metadata": {},
   "outputs": [],
   "source": [
    "Elif Statements:"
   ]
  },
  {
   "cell_type": "code",
   "execution_count": null,
   "id": "c786bbba-35e3-491e-8196-4abbaeeda1a3",
   "metadata": {},
   "outputs": [],
   "source": [
    "21. Write a Python program to assign grades based on different ranges of scores using elif statements."
   ]
  },
  {
   "cell_type": "code",
   "execution_count": 36,
   "id": "9debe40f-4b2d-4909-97c8-cc916e7431b6",
   "metadata": {},
   "outputs": [
    {
     "name": "stdin",
     "output_type": "stream",
     "text": [
      "Enter the student's score:  87\n"
     ]
    },
    {
     "name": "stdout",
     "output_type": "stream",
     "text": [
      "The student's score is  87.0\n",
      "The student's grade is: B\n"
     ]
    }
   ],
   "source": [
    "score = float(input(\"Enter the student's score: \"))\n",
    "print(\"The student's score is \",score)\n",
    "if 90 <= score <= 100:\n",
    "    grade = 'A'\n",
    "elif 80 <= score < 90:\n",
    "    grade = 'B'\n",
    "elif 70 <= score < 80:\n",
    "    grade = 'C'\n",
    "elif 60 <= score < 70:\n",
    "    grade = 'D'\n",
    "elif 0 <= score < 60:\n",
    "    grade = 'F'\n",
    "else:\n",
    "    grade = 'Invalid (score out of range)'\n",
    "print(f\"The student's grade is: {grade}\")"
   ]
  },
  {
   "cell_type": "code",
   "execution_count": null,
   "id": "2d068655-f727-445f-8cd9-2629d5389b32",
   "metadata": {},
   "outputs": [],
   "source": [
    "22. Implement a program to determine the type of a triangle based on its angles."
   ]
  },
  {
   "cell_type": "code",
   "execution_count": 39,
   "id": "d9d5ad25-5a8c-4044-a8f8-eb04e685e260",
   "metadata": {},
   "outputs": [
    {
     "name": "stdout",
     "output_type": "stream",
     "text": [
      "Invalid input: The angles do not form a valid triangle.\n"
     ]
    }
   ],
   "source": [
    "angle1,angle2,angle3=78,56,47\n",
    "if angle1 + angle2 + angle3 == 180:\n",
    "    if angle1 < 90 and angle2 < 90 and angle3 < 90:\n",
    "        triangle_type = \"Acute\"\n",
    "    elif angle1 == 90 or angle2 == 90 or angle3 == 90:\n",
    "        triangle_type = \"Right\"\n",
    "    else:\n",
    "        triangle_type = \"Obtuse\"\n",
    "    print(f\"The triangle with angles {angle1}, {angle2}, and {angle3} degrees is a {triangle_type} triangle.\")\n",
    "else:\n",
    "    print(\"Invalid input: The angles do not form a valid triangle.\")"
   ]
  },
  {
   "cell_type": "code",
   "execution_count": null,
   "id": "21fc547b-1ab4-4981-8667-2d70aa5ad551",
   "metadata": {},
   "outputs": [],
   "source": [
    "23. Develop a program to categorize a given person's BMI into underweight, normal, overweight, or obese using elif statements."
   ]
  },
  {
   "cell_type": "code",
   "execution_count": 42,
   "id": "d46b491c-f1d2-43f1-8683-d77a75e4719d",
   "metadata": {},
   "outputs": [
    {
     "name": "stdout",
     "output_type": "stream",
     "text": [
      "Your BMI is 22.40, which falls into the category: Normal\n"
     ]
    }
   ],
   "source": [
    "weight,height=80,1.89\n",
    "bmi = weight / (height ** 2)\n",
    "if bmi < 18.5:\n",
    "    category = \"Underweight\"\n",
    "elif 18.5 <= bmi < 24.9:\n",
    "    category = \"Normal\"\n",
    "elif 24.9 <= bmi < 29.9:\n",
    "    category = \"Overweight\"\n",
    "else:\n",
    "    category = \"Obese\"\n",
    "print(f\"Your BMI is {bmi:.2f}, which falls into the category: {category}\")"
   ]
  },
  {
   "cell_type": "code",
   "execution_count": null,
   "id": "1518d287-8236-4bbd-a6a0-754a0f2500f6",
   "metadata": {},
   "outputs": [],
   "source": [
    "24. Create a program that determines whether a given number is positive, negative, or zero using elif\n",
    "statements."
   ]
  },
  {
   "cell_type": "code",
   "execution_count": 43,
   "id": "867b6d9e-55d1-4b49-82c9-88ba89129aa3",
   "metadata": {},
   "outputs": [
    {
     "name": "stdin",
     "output_type": "stream",
     "text": [
      "Enter a number:-  0\n"
     ]
    },
    {
     "name": "stdout",
     "output_type": "stream",
     "text": [
      "Number provided is:-  0\n",
      "Number is 0\n"
     ]
    }
   ],
   "source": [
    "num=int(input(\"Enter a number:- \"))\n",
    "print(\"Number provided is:- \",num)\n",
    "if num > 0:\n",
    "    print(\"Number is positive\")\n",
    "elif num < 0:\n",
    "    print(\"Number is negative\")\n",
    "else:\n",
    "    print(\"Number is 0\")"
   ]
  },
  {
   "cell_type": "code",
   "execution_count": null,
   "id": "05e88022-c226-4dfb-926f-4c459db83ff2",
   "metadata": {},
   "outputs": [],
   "source": [
    "25. Write a Python script to determine the type of a character (uppercase, lowercase, or special) using elif\n",
    "statements."
   ]
  },
  {
   "cell_type": "code",
   "execution_count": 46,
   "id": "86078ef3-9a7e-4e72-b648-aa8baa6ba6b8",
   "metadata": {},
   "outputs": [
    {
     "name": "stdout",
     "output_type": "stream",
     "text": [
      "Character is LowerCase\n"
     ]
    }
   ],
   "source": [
    "char = \"a\"\n",
    "\n",
    "if char.isupper():\n",
    "    print(\"Character is UpperCase\")\n",
    "elif char.islower():\n",
    "    print(\"Character is LowerCase\")\n",
    "else:\n",
    "    print(\"Character is a special character\")"
   ]
  },
  {
   "cell_type": "code",
   "execution_count": null,
   "id": "f7757ad2-0f5b-4249-a763-7c9465458cde",
   "metadata": {},
   "outputs": [],
   "source": [
    "26. Implement a program to calculate the discounted price based on different purchase amounts using elif\n",
    "statements."
   ]
  },
  {
   "cell_type": "code",
   "execution_count": 48,
   "id": "c5985878-bcaa-4662-a0ba-d60c3a100c1d",
   "metadata": {},
   "outputs": [
    {
     "name": "stdin",
     "output_type": "stream",
     "text": [
      "Enter the purchase amount:  560\n"
     ]
    },
    {
     "name": "stdout",
     "output_type": "stream",
     "text": [
      "The purchased amount is :-  560.0\n",
      "The discounted price is: $504.00\n"
     ]
    }
   ],
   "source": [
    "purchase_amount = float(input(\"Enter the purchase amount: \"))\n",
    "print(\"The purchased amount is :- \",purchase_amount)\n",
    "discounted_price = purchase_amount  \n",
    "if purchase_amount >= 100:\n",
    "    discounted_price *= 0.9 \n",
    "elif purchase_amount >= 50:\n",
    "    discounted_price *= 0.95 \n",
    "elif purchase_amount >= 25:\n",
    "    discounted_price *= 0.98 \n",
    "print(f\"The discounted price is: ${discounted_price:.2f}\")"
   ]
  },
  {
   "cell_type": "code",
   "execution_count": null,
   "id": "5abbb70d-82fe-45f4-8093-132dbb218a4a",
   "metadata": {},
   "outputs": [],
   "source": [
    "27. Develop a program to calculate the electricity bill based on different consumption slabs using elif\n",
    "statements."
   ]
  },
  {
   "cell_type": "code",
   "execution_count": 49,
   "id": "e101b07a-1812-4c64-b53a-c935bf953341",
   "metadata": {},
   "outputs": [
    {
     "name": "stdout",
     "output_type": "stream",
     "text": [
      "The electricity bill for 200 kWh is: $120.00\n"
     ]
    }
   ],
   "source": [
    "consumption = 200\n",
    "total_bill = 0.0\n",
    "slab1_limit = 100  \n",
    "slab2_limit = 200  \n",
    "slab3_limit = 300 \n",
    "rate_slab1 = 0.5  \n",
    "rate_slab2 = 0.7  \n",
    "rate_slab3 = 1.0  \n",
    "if consumption <= slab1_limit:\n",
    "    total_bill = consumption * rate_slab1\n",
    "elif consumption <= slab2_limit:\n",
    "    total_bill = (slab1_limit * rate_slab1) + ((consumption - slab1_limit) * rate_slab2)\n",
    "elif consumption <= slab3_limit:\n",
    "    total_bill = (slab1_limit * rate_slab1) + (slab2_limit * rate_slab2) + ((consumption - slab2_limit) * rate_slab3)\n",
    "else:\n",
    "    total_bill = (slab1_limit * rate_slab1) + (slab2_limit * rate_slab2) + (slab3_limit * rate_slab3) + ((consumption - slab3_limit) * rate_slab3)\n",
    "print(f\"The electricity bill for {consumption} kWh is: ${total_bill:.2f}\")"
   ]
  },
  {
   "cell_type": "code",
   "execution_count": null,
   "id": "385ddf5e-9a5b-4bd5-a88f-0f6eead40863",
   "metadata": {},
   "outputs": [],
   "source": [
    "28. Create a program to determine the type of quadrilateral based on its angles and sides using elif\n",
    "statements."
   ]
  },
  {
   "cell_type": "code",
   "execution_count": 52,
   "id": "40259688-3d4f-4f37-9793-bac73c86596a",
   "metadata": {},
   "outputs": [
    {
     "name": "stdout",
     "output_type": "stream",
     "text": [
      "The quadrilateral is a Quadrilateral (General quadrilateral).\n"
     ]
    }
   ],
   "source": [
    "angle1,angle2,angle3,angle4 = 80,100,90,90\n",
    "side1,side2,side3,side4=55,77,55,78\n",
    "if angle1 + angle2 + angle3 + angle4 == 360 and side1 + side2 + side3 + side4 > 0:\n",
    "    if angle1 == angle2 == angle3 == angle4 == 90:\n",
    "        quadrilateral_type = \"Square (All angles are right angles)\"\n",
    "    elif angle1 == angle2 == angle3 == angle4:\n",
    "        quadrilateral_type = \"Rectangle (All angles are equal but not necessarily right angles)\"\n",
    "    elif side1 == side2 == side3 == side4:\n",
    "        quadrilateral_type = \"Rhombus (All sides are equal)\"\n",
    "    elif angle1 == angle3 and angle2 == angle4 and side1 == side3 and side2 == side4:\n",
    "        quadrilateral_type = \"Parallelogram (Opposite angles and sides are equal)\"\n",
    "    elif angle1 == angle2 and angle3 == angle4 and side1 != side2 and side3 != side4:\n",
    "        quadrilateral_type = \"Kite (Two pairs of adjacent angles are equal)\"\n",
    "    else:\n",
    "        quadrilateral_type = \"Quadrilateral (General quadrilateral)\"\n",
    "    print(f\"The quadrilateral is a {quadrilateral_type}.\")\n",
    "else:\n",
    "    print(\"Invalid input: The angles do not add up to 360 degrees or the sides are not positive.\")"
   ]
  },
  {
   "cell_type": "code",
   "execution_count": null,
   "id": "1ed3305e-2053-413b-bcc1-d4d138491f2f",
   "metadata": {},
   "outputs": [],
   "source": [
    "29. Write a Python script to determine the season based on a user-provided month using elif statements."
   ]
  },
  {
   "cell_type": "code",
   "execution_count": 53,
   "id": "8561f73e-3c06-4cb5-9c2f-a04a47f377e7",
   "metadata": {},
   "outputs": [
    {
     "name": "stdout",
     "output_type": "stream",
     "text": [
      "The season for month 6 is Summer.\n"
     ]
    }
   ],
   "source": [
    "month = 6\n",
    "if 3 <= month <= 5:\n",
    "    season = \"Spring\"\n",
    "elif 6 <= month <= 8:\n",
    "    season = \"Summer\"\n",
    "elif 9 <= month <= 11:\n",
    "    season = \"Autumn (Fall)\"\n",
    "elif month == 12 or month == 1 or month == 2:\n",
    "    season = \"Winter\"\n",
    "else:\n",
    "    season = \"Invalid month\"\n",
    "if season != \"Invalid month\":\n",
    "    print(f\"The season for month {month} is {season}.\")\n",
    "else:\n",
    "    print(\"Invalid input: Please enter a month between 1 and 12.\")"
   ]
  },
  {
   "cell_type": "code",
   "execution_count": null,
   "id": "ebe3ff1e-7e82-404d-b97b-22f8bf5d756d",
   "metadata": {},
   "outputs": [],
   "source": [
    "30. Implement a program to determine the type of a year (leap or common) and month (30 or 31 days) using\n",
    "elif statements."
   ]
  },
  {
   "cell_type": "code",
   "execution_count": 55,
   "id": "d448dd72-41c2-4b61-a1ed-17f2d66e16f2",
   "metadata": {},
   "outputs": [
    {
     "name": "stdout",
     "output_type": "stream",
     "text": [
      "2002 is a common year.\n",
      "The month 10 has 31 days.\n"
     ]
    }
   ],
   "source": [
    "year = 2002\n",
    "month = 10\n",
    "is_leap_year = (year % 4 == 0 and (year % 100 != 0 or year % 400 == 0))\n",
    "if 1 <= month <= 12:\n",
    "    if month in [4, 6, 9, 11]:\n",
    "        days_in_month = 30\n",
    "    elif month == 2:\n",
    "        if is_leap_year:\n",
    "            days_in_month = 29\n",
    "        else:\n",
    "            days_in_month = 28\n",
    "    else:\n",
    "        days_in_month = 31\n",
    "    if is_leap_year:\n",
    "        print(f\"{year} is a leap year.\")\n",
    "    else:\n",
    "        print(f\"{year} is a common year.\")\n",
    "    print(f\"The month {month} has {days_in_month} days.\")\n",
    "else:\n",
    "    print(\"Invalid input: Please enter a valid month (1-12).\")"
   ]
  },
  {
   "cell_type": "code",
   "execution_count": null,
   "id": "4bb6056e-a60a-4943-bf1a-acb2e80f11ea",
   "metadata": {},
   "outputs": [],
   "source": [
    "Basic Level:"
   ]
  },
  {
   "cell_type": "code",
   "execution_count": null,
   "id": "bfc5ceb4-65f0-456f-a34c-e849452d8f41",
   "metadata": {},
   "outputs": [],
   "source": [
    "1. Write a Python program that checks if a given number is positive, negative, or zero."
   ]
  },
  {
   "cell_type": "code",
   "execution_count": 1,
   "id": "461d500f-3d3a-433f-9129-f86585af45cf",
   "metadata": {},
   "outputs": [
    {
     "name": "stdin",
     "output_type": "stream",
     "text": [
      "Enter a number:-  7\n"
     ]
    },
    {
     "name": "stdout",
     "output_type": "stream",
     "text": [
      "Number provided is:-  7\n",
      "Number is positive\n"
     ]
    }
   ],
   "source": [
    "num=int(input(\"Enter a number:- \"))\n",
    "print(\"Number provided is:- \",num)\n",
    "if num > 0:\n",
    "    print(\"Number is positive\")\n",
    "elif num < 0:\n",
    "    print(\"Number is negative\")\n",
    "else:\n",
    "    print(\"Number is 0\")"
   ]
  },
  {
   "cell_type": "code",
   "execution_count": null,
   "id": "5eb3282a-f861-4026-a7c2-00ea07c7f8fd",
   "metadata": {},
   "outputs": [],
   "source": [
    "2. Create a program to determine if a person is eligible to vote based on their age."
   ]
  },
  {
   "cell_type": "code",
   "execution_count": 2,
   "id": "ed86bdc5-8068-441c-8c36-6c960981f05f",
   "metadata": {},
   "outputs": [
    {
     "name": "stdout",
     "output_type": "stream",
     "text": [
      "Person is eligible to vote\n"
     ]
    }
   ],
   "source": [
    "age=56\n",
    "if age>=18:\n",
    "    print(\"Person is eligible to vote\")\n",
    "else:\n",
    "    print(\"Person is not eligiblie to vote\")"
   ]
  },
  {
   "cell_type": "code",
   "execution_count": null,
   "id": "114925a3-8eab-4703-ac31-d34c13a26ee5",
   "metadata": {},
   "outputs": [],
   "source": [
    "3. Write a program to find the maximum of two given numbers using conditional statements."
   ]
  },
  {
   "cell_type": "code",
   "execution_count": 3,
   "id": "b6f60c2d-2880-44af-a9ec-382cfce49c53",
   "metadata": {},
   "outputs": [
    {
     "name": "stdout",
     "output_type": "stream",
     "text": [
      "Max of both numbers is  99\n"
     ]
    }
   ],
   "source": [
    "num1,num2=99,29\n",
    "if num1>num2:\n",
    "    print(\"Max of both numbers is \",num1)\n",
    "else:\n",
    "    print(\"Max of both numbers is \",num2)"
   ]
  },
  {
   "cell_type": "code",
   "execution_count": null,
   "id": "2b40ea2f-c4ab-4ace-bcac-b0e7a7b76b2e",
   "metadata": {},
   "outputs": [],
   "source": [
    "4. Develop a program that calculates the grade of a student based on their exam score."
   ]
  },
  {
   "cell_type": "code",
   "execution_count": 4,
   "id": "7a41c36a-8abf-47da-a87c-a724f5256bc8",
   "metadata": {},
   "outputs": [
    {
     "name": "stdin",
     "output_type": "stream",
     "text": [
      "Enter the student's score:  75\n"
     ]
    },
    {
     "name": "stdout",
     "output_type": "stream",
     "text": [
      "The student's score is  75.0\n",
      "The student's grade is: C\n"
     ]
    }
   ],
   "source": [
    "score = float(input(\"Enter the student's score: \"))\n",
    "print(\"The student's score is \",score)\n",
    "if 90 <= score <= 100:\n",
    "    grade = 'A'\n",
    "elif 80 <= score < 90:\n",
    "    grade = 'B'\n",
    "elif 70 <= score < 80:\n",
    "    grade = 'C'\n",
    "elif 60 <= score < 70:\n",
    "    grade = 'D'\n",
    "elif 0 <= score < 60:\n",
    "    grade = 'F'\n",
    "else:\n",
    "    grade = 'Invalid (score out of range)'\n",
    "print(f\"The student's grade is: {grade}\")"
   ]
  },
  {
   "cell_type": "code",
   "execution_count": null,
   "id": "66ed3b93-249b-43b9-8447-d77d92f06e2f",
   "metadata": {},
   "outputs": [],
   "source": [
    "5. Create a program that checks if a year is a leap year or not."
   ]
  },
  {
   "cell_type": "code",
   "execution_count": 5,
   "id": "074d3308-3519-46db-a713-4a0ff27c11ad",
   "metadata": {},
   "outputs": [
    {
     "name": "stdout",
     "output_type": "stream",
     "text": [
      "1998 is not a leap year.\n"
     ]
    }
   ],
   "source": [
    "year=1998\n",
    "if (year % 4 == 0 and year % 100 != 0) or (year % 400 == 0):\n",
    "    print(year, \"is a leap year.\")\n",
    "else:\n",
    "    print(year, \"is not a leap year.\")"
   ]
  },
  {
   "cell_type": "code",
   "execution_count": null,
   "id": "cf96f943-a52c-49ad-9dd9-64e5f5332172",
   "metadata": {},
   "outputs": [],
   "source": [
    "6. Write a program to classify a triangle based on its sides' lengths."
   ]
  },
  {
   "cell_type": "code",
   "execution_count": 6,
   "id": "b5687fc0-9706-4951-bb37-55eb03facb44",
   "metadata": {},
   "outputs": [
    {
     "name": "stdout",
     "output_type": "stream",
     "text": [
      "Triangle is scalene\n"
     ]
    }
   ],
   "source": [
    "s1,s2,s3=25,28,69\n",
    "if s1 == s2 or s2 == s3 or s3 == s1:\n",
    "    print(\"Triangle is isoceles\")\n",
    "elif s1 == s2 == s3:\n",
    "    print(\"Triangle is equilateral\")\n",
    "else:\n",
    "    print(\"Triangle is scalene\")"
   ]
  },
  {
   "cell_type": "code",
   "execution_count": null,
   "id": "40737300-05ec-4a08-9606-98fe7e7c04eb",
   "metadata": {},
   "outputs": [],
   "source": [
    "7. Build a program that determines the largest of three given numbers."
   ]
  },
  {
   "cell_type": "code",
   "execution_count": 7,
   "id": "aa9a5c13-7d4a-47c7-944a-6ea7ecbe4f81",
   "metadata": {},
   "outputs": [
    {
     "name": "stdout",
     "output_type": "stream",
     "text": [
      "The largest number among 45, 56, and 11 is 56.\n"
     ]
    }
   ],
   "source": [
    "num1,num2,num3=45,56,11\n",
    "if num1 >= num2 and num1 >= num3:\n",
    "    largest = num1\n",
    "elif num2 >= num1 and num2 >= num3:\n",
    "    largest = num2\n",
    "else:\n",
    "    largest = num3\n",
    "print(f\"The largest number among {num1}, {num2}, and {num3} is {largest}.\")"
   ]
  },
  {
   "cell_type": "code",
   "execution_count": null,
   "id": "4b5fe807-b512-4875-b7c6-ad2cc55ab16f",
   "metadata": {},
   "outputs": [],
   "source": [
    "8. Develop a program that checks whether a character is a vowel or a consonant."
   ]
  },
  {
   "cell_type": "code",
   "execution_count": 8,
   "id": "34685647-7f04-4067-9bf5-962072b8691a",
   "metadata": {},
   "outputs": [
    {
     "name": "stdout",
     "output_type": "stream",
     "text": [
      "l is a consonant.\n"
     ]
    }
   ],
   "source": [
    "char=\"l\"\n",
    "char = char.lower()\n",
    "if char.isalpha() and len(char) == 1:\n",
    "    if char in 'aeiou':\n",
    "        print(char, \"is a vowel.\")\n",
    "    else:\n",
    "        print(char, \"is a consonant.\")\n",
    "else:\n",
    "    print(\"Please enter a single alphabetic character.\")"
   ]
  },
  {
   "cell_type": "code",
   "execution_count": null,
   "id": "e3cc7771-2f59-4844-8da5-f9de72acdb3b",
   "metadata": {},
   "outputs": [],
   "source": [
    "9. Create a program to calculate the total cost of a shopping cart based on discounts."
   ]
  },
  {
   "cell_type": "code",
   "execution_count": 10,
   "id": "bab5cdd5-0ef7-40c4-a60b-0f155452c92f",
   "metadata": {},
   "outputs": [
    {
     "name": "stdin",
     "output_type": "stream",
     "text": [
      "Enter the price of item 1: $ 9\n",
      "Enter the quantity of item 1:  5\n"
     ]
    },
    {
     "name": "stdout",
     "output_type": "stream",
     "text": [
      "9.0  ->  5\n"
     ]
    },
    {
     "name": "stdin",
     "output_type": "stream",
     "text": [
      "Enter the price of item 2: $ 5\n",
      "Enter the quantity of item 2:  5\n"
     ]
    },
    {
     "name": "stdout",
     "output_type": "stream",
     "text": [
      "5.0  ->  5\n"
     ]
    },
    {
     "name": "stdin",
     "output_type": "stream",
     "text": [
      "Enter the price of item 3: $ 2\n",
      "Enter the quantity of item 3:  4\n"
     ]
    },
    {
     "name": "stdout",
     "output_type": "stream",
     "text": [
      "2.0  ->  4\n"
     ]
    },
    {
     "name": "stdin",
     "output_type": "stream",
     "text": [
      "Enter the price of item 4: $ 6\n",
      "Enter the quantity of item 4:  5\n"
     ]
    },
    {
     "name": "stdout",
     "output_type": "stream",
     "text": [
      "6.0  ->  5\n"
     ]
    },
    {
     "name": "stdin",
     "output_type": "stream",
     "text": [
      "Enter the price of item 5: $ 8\n",
      "Enter the quantity of item 5:  7\n"
     ]
    },
    {
     "name": "stdout",
     "output_type": "stream",
     "text": [
      "8.0  ->  7\n",
      "Total cost before discount: $164.00\n",
      "Discount applied: $16.40\n",
      "Final cost after discount: $147.60\n"
     ]
    }
   ],
   "source": [
    "total_cost = 0.0\n",
    "num_items = 5\n",
    "\n",
    "for i in range(1, num_items + 1):\n",
    "    price = float(input(f\"Enter the price of item {i}: $\"))\n",
    "    quantity = int(input(f\"Enter the quantity of item {i}: \"))\n",
    "    item_cost = price * quantity\n",
    "    total_cost += item_cost\n",
    "    print(price,' -> ',quantity)\n",
    "\n",
    "if total_cost >= 100:\n",
    "    discount = 0.1 * total_cost\n",
    "elif total_cost >= 50:\n",
    "    discount = 0.05 * total_cost\n",
    "else:\n",
    "    discount = 0.0\n",
    "\n",
    "final_cost = total_cost - discount\n",
    "\n",
    "print(f\"Total cost before discount: ${total_cost:.2f}\")\n",
    "print(f\"Discount applied: ${discount:.2f}\")\n",
    "print(f\"Final cost after discount: ${final_cost:.2f}\")\n"
   ]
  },
  {
   "cell_type": "code",
   "execution_count": null,
   "id": "8c3b4215-3a09-4b74-92eb-3a2c240b1e68",
   "metadata": {},
   "outputs": [],
   "source": [
    "10. Write a program that checks if a given number is even or odd."
   ]
  },
  {
   "cell_type": "code",
   "execution_count": 11,
   "id": "aee395ee-65bc-4935-9e28-9bd52ea7afe0",
   "metadata": {},
   "outputs": [
    {
     "name": "stdout",
     "output_type": "stream",
     "text": [
      "Number is even\n"
     ]
    }
   ],
   "source": [
    "n=78\n",
    "if n%2==0:\n",
    "    print(\"Number is even\")\n",
    "else:\n",
    "    print(\"Number is not even\")"
   ]
  },
  {
   "cell_type": "code",
   "execution_count": null,
   "id": "3d63a885-6c02-497a-823e-50ba70b3c765",
   "metadata": {},
   "outputs": [],
   "source": [
    "Intermediate Level:"
   ]
  },
  {
   "cell_type": "code",
   "execution_count": null,
   "id": "09adedd9-0a0b-4d45-be8f-b70971c5ef40",
   "metadata": {},
   "outputs": [],
   "source": [
    "11. Write a program that calculates the roots of a quadratic equation ."
   ]
  },
  {
   "cell_type": "code",
   "execution_count": 2,
   "id": "0a767711-f8c6-4476-a2a9-a47ac3680182",
   "metadata": {},
   "outputs": [
    {
     "name": "stdout",
     "output_type": "stream",
     "text": [
      "The roots are complex: -0.6666666666666666 + 1.1055415967851334i and -0.6666666666666666 - 1.1055415967851334i\n"
     ]
    }
   ],
   "source": [
    "a,b,c=15,20,25\n",
    "D = b**2 - 4*a*c\n",
    "if D > 0:\n",
    "    root1 = (-b + (D**0.5)) / (2*a)\n",
    "    root2 = (-b - (D**0.5)) / (2*a)\n",
    "    print(f\"The roots are real and distinct: {root1} and {root2}\")\n",
    "elif D == 0:\n",
    "    root1 = -b / (2*a)\n",
    "    print(f\"There is one real root (repeated): {root1}\")\n",
    "else:\n",
    "    real_part = -b / (2*a)\n",
    "    imaginary_part = (abs(D)**0.5) / (2*a)\n",
    "    print(f\"The roots are complex: {real_part} + {imaginary_part}i and {real_part} - {imaginary_part}i\")"
   ]
  },
  {
   "cell_type": "code",
   "execution_count": null,
   "id": "eb7399f7-34f7-41d4-bb50-72383984c905",
   "metadata": {},
   "outputs": [],
   "source": [
    "12. Create a program that determines the day of the week based on the day number (1-7)."
   ]
  },
  {
   "cell_type": "code",
   "execution_count": 3,
   "id": "6d1a3cfd-67e5-4e5c-ad18-6836d01000f1",
   "metadata": {},
   "outputs": [
    {
     "name": "stdout",
     "output_type": "stream",
     "text": [
      "The day corresponding to 3 is Wednesday.\n"
     ]
    }
   ],
   "source": [
    "day_number = 3\n",
    "days_of_week = [\"Monday\", \"Tuesday\", \"Wednesday\", \"Thursday\", \"Friday\", \"Saturday\", \"Sunday\"]\n",
    "if 1 <= day_number <= 7:\n",
    "    day_name = days_of_week[day_number - 1]\n",
    "    print(f\"The day corresponding to {day_number} is {day_name}.\")\n",
    "else:\n",
    "    print(\"Invalid input. Please enter a number between 1 and 7.\")"
   ]
  },
  {
   "cell_type": "code",
   "execution_count": null,
   "id": "bde635e8-7e0a-49ad-b763-ec4460bc0da3",
   "metadata": {},
   "outputs": [],
   "source": [
    "13. Develop a program that calculates the factorial of a given number using recursion."
   ]
  },
  {
   "cell_type": "code",
   "execution_count": 4,
   "id": "19a414fe-4e58-49b0-bf53-8f323fadc595",
   "metadata": {},
   "outputs": [
    {
     "name": "stdout",
     "output_type": "stream",
     "text": [
      "120\n"
     ]
    }
   ],
   "source": [
    "def fac(n):\n",
    "    if n==0:\n",
    "        return 1\n",
    "    else:\n",
    "        return n * fac(n-1)\n",
    "num=5\n",
    "print(fac(num))"
   ]
  },
  {
   "cell_type": "code",
   "execution_count": null,
   "id": "0376e83e-492e-403d-a139-c5206633d8e8",
   "metadata": {},
   "outputs": [],
   "source": [
    "14. Write a program to find the largest among three numbers without using the `max()` function."
   ]
  },
  {
   "cell_type": "code",
   "execution_count": 5,
   "id": "19c510cb-7270-449a-904d-c34fb02306b7",
   "metadata": {},
   "outputs": [
    {
     "name": "stdout",
     "output_type": "stream",
     "text": [
      "The largest number among 1, 5, and 2 is 5.\n"
     ]
    }
   ],
   "source": [
    "num1,num2,num3=1,5,2\n",
    "if num1 >= num2 and num1 >= num3:\n",
    "    largest = num1\n",
    "elif num2 >= num1 and num2 >= num3:\n",
    "    largest = num2\n",
    "else:\n",
    "    largest = num3\n",
    "print(f\"The largest number among {num1}, {num2}, and {num3} is {largest}.\")"
   ]
  },
  {
   "cell_type": "code",
   "execution_count": null,
   "id": "53113039-7861-47d1-b6ba-eb7181737a0b",
   "metadata": {},
   "outputs": [],
   "source": [
    "15. Create a program that simulates a basic ATM transaction menu."
   ]
  },
  {
   "cell_type": "code",
   "execution_count": 1,
   "id": "8194250c-1f89-4f3e-ad2b-31a4f159064a",
   "metadata": {},
   "outputs": [
    {
     "name": "stdout",
     "output_type": "stream",
     "text": [
      "Welcome to Ayan Bank ATM\n"
     ]
    },
    {
     "name": "stdin",
     "output_type": "stream",
     "text": [
      "Please Enter Your 4 Digit Pin:  1234\n"
     ]
    },
    {
     "name": "stdout",
     "output_type": "stream",
     "text": [
      "You entered your pin correctly\n",
      "\n",
      "Please Press 1 For Your Balance\n",
      "Please Press 2 To Make a Withdrawal\n",
      "Please Press 3 To Pay In\n",
      "Please Press 4 To Return Card\n"
     ]
    },
    {
     "name": "stdin",
     "output_type": "stream",
     "text": [
      "What would you like to choose?  1\n"
     ]
    },
    {
     "name": "stdout",
     "output_type": "stream",
     "text": [
      "Your Balance is Rs. 67.14\n"
     ]
    },
    {
     "name": "stdin",
     "output_type": "stream",
     "text": [
      "Would You like to go back? (Y/N):  n\n"
     ]
    },
    {
     "name": "stdout",
     "output_type": "stream",
     "text": [
      "Thank You\n"
     ]
    },
    {
     "name": "stdin",
     "output_type": "stream",
     "text": [
      "Please Enter Your 4 Digit Pin:  1234\n"
     ]
    },
    {
     "name": "stdout",
     "output_type": "stream",
     "text": [
      "You entered your pin correctly\n",
      "\n",
      "Please Press 1 For Your Balance\n",
      "Please Press 2 To Make a Withdrawal\n",
      "Please Press 3 To Pay In\n",
      "Please Press 4 To Return Card\n"
     ]
    },
    {
     "name": "stdin",
     "output_type": "stream",
     "text": [
      "What would you like to choose?  4\n"
     ]
    },
    {
     "name": "stdout",
     "output_type": "stream",
     "text": [
      "Please wait while your card is returned...\n",
      "Thank you for your service\n"
     ]
    },
    {
     "name": "stdin",
     "output_type": "stream",
     "text": [
      "Please Enter Your 4 Digit Pin:  1234\n"
     ]
    },
    {
     "name": "stdout",
     "output_type": "stream",
     "text": [
      "You entered your pin correctly\n",
      "\n",
      "Please Press 1 For Your Balance\n",
      "Please Press 2 To Make a Withdrawal\n",
      "Please Press 3 To Pay In\n",
      "Please Press 4 To Return Card\n"
     ]
    },
    {
     "name": "stdin",
     "output_type": "stream",
     "text": [
      "What would you like to choose?  2\n",
      "How much would you like to withdraw?  30\n"
     ]
    },
    {
     "name": "stdout",
     "output_type": "stream",
     "text": [
      "Invalid Amount, Please Re-try\n"
     ]
    },
    {
     "name": "stdin",
     "output_type": "stream",
     "text": [
      "Would You like to go back? (Y/N):  y\n"
     ]
    },
    {
     "name": "stdout",
     "output_type": "stream",
     "text": [
      "Please Press 1 For Your Balance\n",
      "Please Press 2 To Make a Withdrawal\n",
      "Please Press 3 To Pay In\n",
      "Please Press 4 To Return Card\n"
     ]
    },
    {
     "name": "stdin",
     "output_type": "stream",
     "text": [
      "What would you like to choose?  1\n"
     ]
    },
    {
     "name": "stdout",
     "output_type": "stream",
     "text": [
      "Your Balance is Rs. 67.14\n"
     ]
    },
    {
     "name": "stdin",
     "output_type": "stream",
     "text": [
      "Would You like to go back? (Y/N):  n\n"
     ]
    },
    {
     "name": "stdout",
     "output_type": "stream",
     "text": [
      "Thank You\n"
     ]
    },
    {
     "name": "stdin",
     "output_type": "stream",
     "text": [
      "Please Enter Your 4 Digit Pin:  1324\n"
     ]
    },
    {
     "name": "stdout",
     "output_type": "stream",
     "text": [
      "Incorrect Password\n"
     ]
    },
    {
     "name": "stdin",
     "output_type": "stream",
     "text": [
      "Please Enter Your 4 Digit Pin:  1235\n"
     ]
    },
    {
     "name": "stdout",
     "output_type": "stream",
     "text": [
      "Incorrect Password\n"
     ]
    },
    {
     "name": "stdin",
     "output_type": "stream",
     "text": [
      "Please Enter Your 4 Digit Pin:  1542\n"
     ]
    },
    {
     "name": "stdout",
     "output_type": "stream",
     "text": [
      "Incorrect Password\n",
      "\n",
      "No more tries\n"
     ]
    }
   ],
   "source": [
    "print('Welcome to Ayan Bank ATM')\n",
    "chances = 3\n",
    "balance = 67.14\n",
    "\n",
    "while chances > 0:\n",
    "    pin = int(input('Please Enter Your 4 Digit Pin: '))\n",
    "    \n",
    "    if pin == 1234:\n",
    "        print('You entered your pin correctly\\n')\n",
    "        \n",
    "        while True:\n",
    "            print('Please Press 1 For Your Balance')\n",
    "            print('Please Press 2 To Make a Withdrawal')\n",
    "            print('Please Press 3 To Pay In')\n",
    "            print('Please Press 4 To Return Card')\n",
    "            \n",
    "            option = int(input('What would you like to choose? '))\n",
    "            \n",
    "            if option == 1:\n",
    "                print('Your Balance is Rs.', balance)\n",
    "            elif option == 2:\n",
    "                withdrawal = float(input('How much would you like to withdraw? '))\n",
    "                if withdrawal in [10, 20, 40, 60, 80, 100]:\n",
    "                    balance -= withdrawal\n",
    "                    print('Your Balance is now Rs.', balance)\n",
    "                else:\n",
    "                    print('Invalid Amount, Please Re-try')\n",
    "            elif option == 3:\n",
    "                pay_in = float(input('How Much Would You Like To Pay In? '))\n",
    "                balance += pay_in\n",
    "                print('Your Balance is now Rs.', balance)\n",
    "            elif option == 4:\n",
    "                print('Please wait while your card is returned...')\n",
    "                print('Thank you for your service')\n",
    "                break\n",
    "            else:\n",
    "                print('Please Enter a correct number.')\n",
    "\n",
    "            restart = input('Would You like to go back? (Y/N): ')\n",
    "            if restart.lower() not in ('y', 'yes'):\n",
    "                print('Thank You')\n",
    "                break\n",
    "    else:\n",
    "        print('Incorrect Password')\n",
    "        chances -= 1\n",
    "        if chances == 0:\n",
    "            print('\\nNo more tries')\n",
    "            break\n"
   ]
  },
  {
   "cell_type": "code",
   "execution_count": null,
   "id": "4e740dfb-98cb-4c84-b9b2-048a5b86a23d",
   "metadata": {},
   "outputs": [],
   "source": [
    "16. Build a program that checks if a given string is a palindrome or not."
   ]
  },
  {
   "cell_type": "code",
   "execution_count": 2,
   "id": "b0a1f4c8-180b-4ac4-b36a-03c881277bac",
   "metadata": {},
   "outputs": [
    {
     "name": "stdout",
     "output_type": "stream",
     "text": [
      "Palindromic string\n"
     ]
    }
   ],
   "source": [
    "st=\"naman\"\n",
    "if st == st[::-1]:\n",
    "    print(\"Palindromic string\")\n",
    "else:\n",
    "    print(\"Not a Palindromic string\")"
   ]
  },
  {
   "cell_type": "code",
   "execution_count": null,
   "id": "3f6744bc-b557-40a4-ab6c-3fbdf6c86bde",
   "metadata": {},
   "outputs": [],
   "source": [
    "17. Write a program that calculates the average of a list of numbers, excluding the smallest and largest values."
   ]
  },
  {
   "cell_type": "code",
   "execution_count": 3,
   "id": "ad1e52f8-3755-43e1-841d-6ba927fed1ff",
   "metadata": {},
   "outputs": [
    {
     "name": "stdout",
     "output_type": "stream",
     "text": [
      "The average (excluding extremes) is: 10.40\n"
     ]
    }
   ],
   "source": [
    "numbers = [12, 4, 7, 9, 21, 8, 16]\n",
    "\n",
    "if len(numbers) < 3:\n",
    "    print(\"Insufficient data to calculate an average.\")\n",
    "else:\n",
    "    numbers.remove(min(numbers))\n",
    "    numbers.remove(max(numbers))\n",
    "    average = sum(numbers) / len(numbers)\n",
    "    print(f\"The average (excluding extremes) is: {average:.2f}\")"
   ]
  },
  {
   "cell_type": "code",
   "execution_count": null,
   "id": "65aa03fc-92cd-4ea0-a73c-7b42f3f6effe",
   "metadata": {},
   "outputs": [],
   "source": [
    "18. Develop a program that converts a given temperature from Celsius to Fahrenheit."
   ]
  },
  {
   "cell_type": "code",
   "execution_count": 4,
   "id": "58077d63-e454-4ef8-801b-285561622089",
   "metadata": {},
   "outputs": [
    {
     "name": "stdin",
     "output_type": "stream",
     "text": [
      "Enter temperature in Celsius:  25\n"
     ]
    },
    {
     "name": "stdout",
     "output_type": "stream",
     "text": [
      "25.0\n",
      "25.0 degrees Celsius is equal to 77.00 degrees Fahrenheit.\n"
     ]
    }
   ],
   "source": [
    "celsius = float(input(\"Enter temperature in Celsius: \"))\n",
    "print(celsius)\n",
    "fahrenheit = (celsius * 9/5) + 32\n",
    "print(f\"{celsius} degrees Celsius is equal to {fahrenheit:.2f} degrees Fahrenheit.\")\n"
   ]
  },
  {
   "cell_type": "code",
   "execution_count": null,
   "id": "50bfbb81-3241-4128-9a75-f971951e8486",
   "metadata": {},
   "outputs": [],
   "source": [
    "19. Create a program that simulates a basic calculator for addition, subtraction, multiplication, and division."
   ]
  },
  {
   "cell_type": "code",
   "execution_count": 5,
   "id": "8ffd57ab-a21f-4d0a-b7e3-0fa15541a0c4",
   "metadata": {},
   "outputs": [
    {
     "name": "stdout",
     "output_type": "stream",
     "text": [
      "Options:\n",
      "Enter 'add' for addition\n",
      "Enter 'subtract' for subtraction\n",
      "Enter 'multiply' for multiplication\n",
      "Enter 'divide' for division\n",
      "Enter 'quit' to end the program\n"
     ]
    },
    {
     "name": "stdin",
     "output_type": "stream",
     "text": [
      ":  add\n",
      "Enter first number:  5\n",
      "Enter second number:  3\n"
     ]
    },
    {
     "name": "stdout",
     "output_type": "stream",
     "text": [
      "The result of addition is: 8.0\n",
      "Options:\n",
      "Enter 'add' for addition\n",
      "Enter 'subtract' for subtraction\n",
      "Enter 'multiply' for multiplication\n",
      "Enter 'divide' for division\n",
      "Enter 'quit' to end the program\n"
     ]
    },
    {
     "name": "stdin",
     "output_type": "stream",
     "text": [
      ":  quit\n"
     ]
    }
   ],
   "source": [
    "while True:\n",
    "    print(\"Options:\")\n",
    "    print(\"Enter 'add' for addition\")\n",
    "    print(\"Enter 'subtract' for subtraction\")\n",
    "    print(\"Enter 'multiply' for multiplication\")\n",
    "    print(\"Enter 'divide' for division\")\n",
    "    print(\"Enter 'quit' to end the program\")\n",
    "\n",
    "    user_input = input(\": \")\n",
    "\n",
    "    if user_input == \"quit\":\n",
    "        break\n",
    "    elif user_input in (\"add\", \"subtract\", \"multiply\", \"divide\"):\n",
    "        num1 = float(input(\"Enter first number: \"))\n",
    "        num2 = float(input(\"Enter second number: \"))\n",
    "\n",
    "        if user_input == \"add\":\n",
    "            result = num1 + num2\n",
    "            operation = \"addition\"\n",
    "        elif user_input == \"subtract\":\n",
    "            result = num1 - num2\n",
    "            operation = \"subtraction\"\n",
    "        elif user_input == \"multiply\":\n",
    "            result = num1 * num2\n",
    "            operation = \"multiplication\"\n",
    "        elif user_input == \"divide\":\n",
    "            if num2 == 0:\n",
    "                print(\"Cannot divide by zero.\")\n",
    "                continue\n",
    "            result = num1 / num2\n",
    "            operation = \"division\"\n",
    "\n",
    "        print(f\"The result of {operation} is: {result}\")\n",
    "    else:\n",
    "        print(\"Invalid input. Please enter a valid option.\")"
   ]
  },
  {
   "cell_type": "code",
   "execution_count": null,
   "id": "b3efc54d-31cc-4d9e-b8e3-3ee5eec65d8b",
   "metadata": {},
   "outputs": [],
   "source": [
    "20. Write a program that determines the roots of a cubic equation using the Cardano formula."
   ]
  },
  {
   "cell_type": "code",
   "execution_count": 6,
   "id": "32ff67dc-d8ef-4f34-8a87-132867b4bd8e",
   "metadata": {},
   "outputs": [
    {
     "name": "stdin",
     "output_type": "stream",
     "text": [
      "Enter coefficient a:  5\n",
      "Enter coefficient b:  10\n",
      "Enter coefficient c:  15\n",
      "Enter coefficient d:  20\n"
     ]
    },
    {
     "name": "stdout",
     "output_type": "stream",
     "text": [
      "Roots of the cubic equation:\n",
      "Root 1: (-1.6506291914393876+0j)\n",
      "Root 2: (-0.1746854042803064-1.5468688872313963j)\n",
      "Root 3: (-0.17468540428030574+1.5468688872313954j)\n"
     ]
    }
   ],
   "source": [
    "import cmath\n",
    "\n",
    "a = float(input(\"Enter coefficient a: \"))\n",
    "b = float(input(\"Enter coefficient b: \"))\n",
    "c = float(input(\"Enter coefficient c: \"))\n",
    "d = float(input(\"Enter coefficient d: \"))\n",
    "\n",
    "delta_0 = b**2 - 3 * a * c\n",
    "delta_1 = 2 * b**3 - 9 * a * b * c + 27 * a**2 * d\n",
    "C = ((delta_1 + cmath.sqrt(delta_1**2 - 4 * delta_0**3)) / 2)**(1/3)\n",
    "root1 = (-1 / (3 * a)) * (b + C + delta_0 / C)\n",
    "root2 = (-1 / (3 * a)) * (b + cmath.exp(2j * cmath.pi / 3) * C + delta_0 / (C * cmath.exp(2j * cmath.pi / 3)))\n",
    "root3 = (-1 / (3 * a)) * (b + cmath.exp(4j * cmath.pi / 3) * C + delta_0 / (C * cmath.exp(4j * cmath.pi / 3)))\n",
    "\n",
    "print(\"Roots of the cubic equation:\")\n",
    "print(f\"Root 1: {root1}\")\n",
    "print(f\"Root 2: {root2}\")\n",
    "print(f\"Root 3: {root3}\")\n"
   ]
  },
  {
   "cell_type": "code",
   "execution_count": null,
   "id": "7a77e27e-c505-4401-b71c-e0fc4b920df8",
   "metadata": {},
   "outputs": [],
   "source": [
    "Advanced Level:"
   ]
  },
  {
   "cell_type": "code",
   "execution_count": null,
   "id": "4a8cbb06-9c23-4117-9915-97c3e347d788",
   "metadata": {},
   "outputs": [],
   "source": [
    "21. Create a program that calculates the income tax based on the user's income and tax brackets."
   ]
  },
  {
   "cell_type": "code",
   "execution_count": 7,
   "id": "45318775-71dc-4396-bfab-ef9e9beb9ab0",
   "metadata": {},
   "outputs": [
    {
     "name": "stdin",
     "output_type": "stream",
     "text": [
      "Enter your annual income:  25000\n"
     ]
    },
    {
     "name": "stdout",
     "output_type": "stream",
     "text": [
      "Your income tax is: $3999.80\n"
     ]
    }
   ],
   "source": [
    "tax_brackets = [\n",
    "    (0, 10000, 0.10),\n",
    "    (10001, 50000, 0.20),\n",
    "    (50001, 100000, 0.30),\n",
    "    (100001, float('inf'), 0.40)\n",
    "]\n",
    "\n",
    "income = float(input(\"Enter your annual income: \"))\n",
    "\n",
    "tax = 0\n",
    "for bracket in tax_brackets:\n",
    "    min_income, max_income, rate = bracket\n",
    "    if income <= min_income:\n",
    "        continue\n",
    "    taxable_income = min(income, max_income) - min_income\n",
    "    tax += taxable_income * rate\n",
    "\n",
    "print(f\"Your income tax is: ${tax:.2f}\")\n"
   ]
  },
  {
   "cell_type": "code",
   "execution_count": null,
   "id": "a9fd192d-128e-428f-95fb-45821ff822db",
   "metadata": {},
   "outputs": [],
   "source": [
    "22. Write a program that simulates a rock-paper-scissors game against the computer."
   ]
  },
  {
   "cell_type": "code",
   "execution_count": 8,
   "id": "652e1f97-b540-405e-90bf-77b4e85602dd",
   "metadata": {},
   "outputs": [
    {
     "name": "stdout",
     "output_type": "stream",
     "text": [
      "Welcome to Rock-Paper-Scissors!\n"
     ]
    },
    {
     "name": "stdin",
     "output_type": "stream",
     "text": [
      "Enter your choice (rock, paper, scissors):  rock\n"
     ]
    },
    {
     "name": "stdout",
     "output_type": "stream",
     "text": [
      "You chose rock.\n",
      "The computer chose scissors.\n",
      "You win!\n"
     ]
    },
    {
     "name": "stdin",
     "output_type": "stream",
     "text": [
      "Do you want to play again? (yes/no):  no\n"
     ]
    }
   ],
   "source": [
    "import random\n",
    "\n",
    "print(\"Welcome to Rock-Paper-Scissors!\")\n",
    "\n",
    "while True:\n",
    "    user_choice = input(\"Enter your choice (rock, paper, scissors): \").lower()\n",
    "    \n",
    "    computer_choice = random.choice(['rock', 'paper', 'scissors'])\n",
    "    \n",
    "    print(f\"You chose {user_choice}.\")\n",
    "    print(f\"The computer chose {computer_choice}.\")\n",
    "\n",
    "    if user_choice == computer_choice:\n",
    "        print(\"It's a tie!\")\n",
    "    elif (\n",
    "        (user_choice == 'rock' and computer_choice == 'scissors') or\n",
    "        (user_choice == 'paper' and computer_choice == 'rock') or\n",
    "        (user_choice == 'scissors' and computer_choice == 'paper')\n",
    "    ):\n",
    "        print(\"You win!\")\n",
    "    else:\n",
    "        print(\"Computer wins!\")\n",
    "\n",
    "    play_again = input(\"Do you want to play again? (yes/no): \").lower()\n",
    "    if play_again != 'yes':\n",
    "        break\n"
   ]
  },
  {
   "cell_type": "code",
   "execution_count": null,
   "id": "affd611e-155a-43d6-94b8-8c9c88b4e2d8",
   "metadata": {},
   "outputs": [],
   "source": [
    "23. Develop a program that generates a random password based on user preferences (length, complexity)."
   ]
  },
  {
   "cell_type": "code",
   "execution_count": 10,
   "id": "2ff6bdf5-10eb-4601-9a70-2ddc2e4757b0",
   "metadata": {},
   "outputs": [
    {
     "name": "stdout",
     "output_type": "stream",
     "text": [
      "Password Generator\n"
     ]
    },
    {
     "name": "stdin",
     "output_type": "stream",
     "text": [
      "Enter the desired password length:  8\n",
      "Include uppercase letters? (yes/no):  yes\n",
      "Include lowercase letters? (yes/no):  yes\n",
      "Include digits? (yes/no):  yes\n",
      "Include special characters? (yes/no):  yes\n"
     ]
    },
    {
     "name": "stdout",
     "output_type": "stream",
     "text": [
      "Generated Password: !A/sj9y'\n"
     ]
    }
   ],
   "source": [
    "import random\n",
    "import string\n",
    "\n",
    "print(\"Password Generator\")\n",
    "\n",
    "length = int(input(\"Enter the desired password length: \"))\n",
    "include_uppercase = input(\"Include uppercase letters? (yes/no): \").lower() == 'yes'\n",
    "include_lowercase = input(\"Include lowercase letters? (yes/no): \").lower() == 'yes'\n",
    "include_digits = input(\"Include digits? (yes/no): \").lower() == 'yes'\n",
    "include_special_chars = input(\"Include special characters? (yes/no): \").lower() == 'yes'\n",
    "\n",
    "characters = \"\"\n",
    "\n",
    "if include_uppercase:\n",
    "    characters += string.ascii_uppercase\n",
    "if include_lowercase:\n",
    "    characters += string.ascii_lowercase\n",
    "if include_digits:\n",
    "    characters += string.digits\n",
    "if include_special_chars:\n",
    "    characters += string.punctuation\n",
    "\n",
    "if not characters:\n",
    "    print(\"Please select at least one character type.\")\n",
    "else:\n",
    "    password = ''.join(random.choice(characters) for _ in range(length))\n",
    "    print(\"Generated Password:\", password)\n"
   ]
  },
  {
   "cell_type": "code",
   "execution_count": null,
   "id": "05caa79f-9ca9-44bb-9892-2e0fed50522b",
   "metadata": {},
   "outputs": [],
   "source": [
    "24. Create a program that implements a simple text-based adventure game with branching scenarios."
   ]
  },
  {
   "cell_type": "code",
   "execution_count": 11,
   "id": "4e951202-c950-4dfa-a58f-39fb3ede1f30",
   "metadata": {},
   "outputs": [
    {
     "name": "stdout",
     "output_type": "stream",
     "text": [
      "Welcome to the Text-Based Adventure Game!\n",
      "\n",
      "You find yourself standing at a crossroads.\n"
     ]
    },
    {
     "name": "stdin",
     "output_type": "stream",
     "text": [
      "Do you want to go left or right? (left/right):  left\n"
     ]
    },
    {
     "name": "stdout",
     "output_type": "stream",
     "text": [
      "\n",
      "You venture down the left path and find a hidden treasure chest!\n",
      "Congratulations! You win!\n"
     ]
    }
   ],
   "source": [
    "print(\"Welcome to the Text-Based Adventure Game!\")\n",
    "\n",
    "# Start of the game\n",
    "print(\"\\nYou find yourself standing at a crossroads.\")\n",
    "choice1 = input(\"Do you want to go left or right? (left/right): \").lower()\n",
    "\n",
    "if choice1 == \"left\":\n",
    "    print(\"\\nYou venture down the left path and find a hidden treasure chest!\")\n",
    "    print(\"Congratulations! You win!\")\n",
    "else:\n",
    "    print(\"\\nYou chose to go right and arrive at a dark cave entrance.\")\n",
    "    choice2 = input(\"Do you want to enter the cave or turn back? (enter/turn back): \").lower()\n",
    "    \n",
    "    if choice2 == \"enter\":\n",
    "        print(\"\\nYou enter the cave and find a sleeping dragon.\")\n",
    "        choice3 = input(\"Do you want to sneak past it or wake it up? (sneak/wake): \").lower()\n",
    "        \n",
    "        if choice3 == \"sneak\":\n",
    "            print(\"\\nYou manage to sneak past the dragon and discover a hidden treasure!\")\n",
    "            print(\"Congratulations! You win!\")\n",
    "        else:\n",
    "            print(\"\\nYou wake up the dragon, and it roars angrily.\")\n",
    "            print(\"The dragon breathes fire and you are toast. Game Over!\")\n",
    "    else:\n",
    "        print(\"\\nYou decide to turn back and go home.\")\n",
    "        print(\"Thanks for playing! Game Over!\")\n"
   ]
  },
  {
   "cell_type": "code",
   "execution_count": null,
   "id": "7f85fe57-0b21-43d2-95c0-d02cf7c60ff0",
   "metadata": {},
   "outputs": [],
   "source": [
    "25. Build a program that solves a linear equation for x, considering different cases."
   ]
  },
  {
   "cell_type": "code",
   "execution_count": 12,
   "id": "5e4126cf-d6cc-4b2d-99e2-9cde4af3a67b",
   "metadata": {},
   "outputs": [
    {
     "name": "stdout",
     "output_type": "stream",
     "text": [
      "Linear Equation Solver\n"
     ]
    },
    {
     "name": "stdin",
     "output_type": "stream",
     "text": [
      "Enter the coefficient 'a' (for 'ax + b = 0'):  5\n",
      "Enter the coefficient 'b' (for 'ax + b = 0'):  10\n"
     ]
    },
    {
     "name": "stdout",
     "output_type": "stream",
     "text": [
      "The solution for 'x' is: x = -2.0\n"
     ]
    }
   ],
   "source": [
    "print(\"Linear Equation Solver\")\n",
    "\n",
    "# Get the coefficients from the user\n",
    "a = float(input(\"Enter the coefficient 'a' (for 'ax + b = 0'): \"))\n",
    "b = float(input(\"Enter the coefficient 'b' (for 'ax + b = 0'): \"))\n",
    "\n",
    "# Check if the equation is linear or degenerate\n",
    "if a == 0:\n",
    "    if b == 0:\n",
    "        print(\"The equation has infinitely many solutions.\")\n",
    "    else:\n",
    "        print(\"The equation has no solution.\")\n",
    "else:\n",
    "    # Solve the equation ax + b = 0 for x\n",
    "    x = -b / a\n",
    "    print(f\"The solution for 'x' is: x = {x}\")\n"
   ]
  },
  {
   "cell_type": "code",
   "execution_count": null,
   "id": "19a2cb2b-840e-4b26-8581-4c36cc003bea",
   "metadata": {},
   "outputs": [],
   "source": [
    "26. Write a program that simulates a basic quiz game with multiple-choice questions and scoring."
   ]
  },
  {
   "cell_type": "code",
   "execution_count": 13,
   "id": "166561bd-c6b3-488f-8d7a-d5d989078bfe",
   "metadata": {},
   "outputs": [
    {
     "name": "stdout",
     "output_type": "stream",
     "text": [
      "Welcome to the Quiz Game!\n",
      "\n",
      "Question 1: What is the capital of France?\n",
      "A) London\n",
      "B) Berlin\n",
      "C) Paris\n",
      "D) Madrid\n"
     ]
    },
    {
     "name": "stdin",
     "output_type": "stream",
     "text": [
      "Enter your answer (A/B/C/D):  c\n"
     ]
    },
    {
     "name": "stdout",
     "output_type": "stream",
     "text": [
      "Correct!\n",
      "\n",
      "Question 2: Which planet is known as the Red Planet?\n",
      "A) Earth\n",
      "B) Mars\n",
      "C) Venus\n",
      "D) Jupiter\n"
     ]
    },
    {
     "name": "stdin",
     "output_type": "stream",
     "text": [
      "Enter your answer (A/B/C/D):  a\n"
     ]
    },
    {
     "name": "stdout",
     "output_type": "stream",
     "text": [
      "Sorry, the correct answer is B.\n",
      "\n",
      "Question 3: What is the largest mammal in the world?\n",
      "A) Elephant\n",
      "B) Giraffe\n",
      "C) Blue Whale\n",
      "D) Lion\n"
     ]
    },
    {
     "name": "stdin",
     "output_type": "stream",
     "text": [
      "Enter your answer (A/B/C/D):  b\n"
     ]
    },
    {
     "name": "stdout",
     "output_type": "stream",
     "text": [
      "Sorry, the correct answer is C.\n",
      "\n",
      "Quiz Complete! Your score is: 1/3\n"
     ]
    }
   ],
   "source": [
    "# Define the quiz questions and answers\n",
    "quiz = [\n",
    "    {\n",
    "        \"question\": \"What is the capital of France?\",\n",
    "        \"options\": [\"A) London\", \"B) Berlin\", \"C) Paris\", \"D) Madrid\"],\n",
    "        \"correct_answer\": \"C\"\n",
    "    },\n",
    "    {\n",
    "        \"question\": \"Which planet is known as the Red Planet?\",\n",
    "        \"options\": [\"A) Earth\", \"B) Mars\", \"C) Venus\", \"D) Jupiter\"],\n",
    "        \"correct_answer\": \"B\"\n",
    "    },\n",
    "    {\n",
    "        \"question\": \"What is the largest mammal in the world?\",\n",
    "        \"options\": [\"A) Elephant\", \"B) Giraffe\", \"C) Blue Whale\", \"D) Lion\"],\n",
    "        \"correct_answer\": \"C\"\n",
    "    }\n",
    "]\n",
    "\n",
    "# Initialize the score\n",
    "score = 0\n",
    "\n",
    "# Welcome message\n",
    "print(\"Welcome to the Quiz Game!\")\n",
    "\n",
    "# Iterate through the quiz questions\n",
    "for i, question_data in enumerate(quiz, start=1):\n",
    "    print(f\"\\nQuestion {i}: {question_data['question']}\")\n",
    "    for option in question_data[\"options\"]:\n",
    "        print(option)\n",
    "    \n",
    "    user_answer = input(\"Enter your answer (A/B/C/D): \").upper()\n",
    "    \n",
    "    if user_answer == question_data[\"correct_answer\"]:\n",
    "        print(\"Correct!\")\n",
    "        score += 1\n",
    "    else:\n",
    "        print(f\"Sorry, the correct answer is {question_data['correct_answer']}.\")\n",
    "\n",
    "# Display the final score\n",
    "print(f\"\\nQuiz Complete! Your score is: {score}/{len(quiz)}\")\n"
   ]
  },
  {
   "cell_type": "code",
   "execution_count": null,
   "id": "8cffad60-ce7f-44e3-98fa-b33f6e8795ca",
   "metadata": {},
   "outputs": [],
   "source": [
    "27. Develop a program that determines whether a given year is a prime number or not."
   ]
  },
  {
   "cell_type": "code",
   "execution_count": 14,
   "id": "3d3a0b17-0123-4987-b06e-f9d396a38521",
   "metadata": {},
   "outputs": [
    {
     "name": "stdin",
     "output_type": "stream",
     "text": [
      "Enter a year to check if it's prime:  2017\n"
     ]
    },
    {
     "name": "stdout",
     "output_type": "stream",
     "text": [
      "2017 is a prime year!\n"
     ]
    }
   ],
   "source": [
    "def is_prime(year):\n",
    "    if year <= 1:\n",
    "        return False\n",
    "    elif year == 2:\n",
    "        return True\n",
    "    elif year % 2 == 0:\n",
    "        return False\n",
    "    else:\n",
    "        # Check for factors from 3 to the square root of the year\n",
    "        for i in range(3, int(year**0.5) + 1, 2):\n",
    "            if year % i == 0:\n",
    "                return False\n",
    "        return True\n",
    "\n",
    "try:\n",
    "    year = int(input(\"Enter a year to check if it's prime: \"))\n",
    "    if is_prime(year):\n",
    "        print(f\"{year} is a prime year!\")\n",
    "    else:\n",
    "        print(f\"{year} is not a prime year.\")\n",
    "except ValueError:\n",
    "    print(\"Invalid input. Please enter a valid year.\")\n"
   ]
  },
  {
   "cell_type": "raw",
   "id": "9b85b93a-9fa0-4b4c-984c-070b5474c058",
   "metadata": {},
   "source": [
    "28. Create a program that sorts three numbers in ascending order using conditional statements."
   ]
  },
  {
   "cell_type": "code",
   "execution_count": 17,
   "id": "a9de1297-fa9e-465b-9233-f57649194a5d",
   "metadata": {},
   "outputs": [
    {
     "name": "stdin",
     "output_type": "stream",
     "text": [
      "Enter the first number:  5\n",
      "Enter the second number:  1\n",
      "Enter the third number:  2\n"
     ]
    },
    {
     "name": "stdout",
     "output_type": "stream",
     "text": [
      "Sorted numbers in ascending order: [1.0, 2.0, 5.0]\n"
     ]
    }
   ],
   "source": [
    "# Input three numbers\n",
    "num1 = float(input(\"Enter the first number: \"))\n",
    "num2 = float(input(\"Enter the second number: \"))\n",
    "num3 = float(input(\"Enter the third number: \"))\n",
    "\n",
    "# Using conditional statements to sort the numbers\n",
    "if num1 <= num2 <= num3:\n",
    "    sorted_nums = [num1, num2, num3]\n",
    "elif num1 <= num3 <= num2:\n",
    "    sorted_nums = [num1, num3, num2]\n",
    "elif num2 <= num1 <= num3:\n",
    "    sorted_nums = [num2, num1, num3]\n",
    "elif num2 <= num3 <= num1:\n",
    "    sorted_nums = [num2, num3, num1]\n",
    "elif num3 <= num1 <= num2:\n",
    "    sorted_nums = [num3, num1, num2]\n",
    "else:\n",
    "    sorted_nums = [num3, num2, num1]\n",
    "\n",
    "# Display the sorted numbers\n",
    "print(\"Sorted numbers in ascending order:\", sorted_nums)\n"
   ]
  },
  {
   "cell_type": "code",
   "execution_count": null,
   "id": "b88004d7-32d1-498f-8836-cf38f5c222d6",
   "metadata": {},
   "outputs": [],
   "source": [
    "29. Build a program that determines the roots of a quartic equation using numerical methods."
   ]
  },
  {
   "cell_type": "code",
   "execution_count": 18,
   "id": "2bdc473e-b100-4fa6-9198-e0ddf22ccb1d",
   "metadata": {},
   "outputs": [
    {
     "name": "stdout",
     "output_type": "stream",
     "text": [
      "Approximate roots of the quartic equation:\n",
      "x = 0\n",
      "x = 1.00000000000000\n",
      "x = 2.00000000000000\n",
      "x = 3.00000000000000\n"
     ]
    }
   ],
   "source": [
    "import sympy as sp\n",
    "\n",
    "# Define the quartic equation\n",
    "x = sp.symbols('x')\n",
    "quartic_eq = x**4 - 6*x**3 + 11*x**2 - 6*x\n",
    "\n",
    "# Find the roots numerically\n",
    "roots = sp.solve(quartic_eq, x)\n",
    "\n",
    "# Display the roots\n",
    "print(\"Approximate roots of the quartic equation:\")\n",
    "for root in roots:\n",
    "    print(f\"x = {root.evalf()}\")\n"
   ]
  },
  {
   "cell_type": "code",
   "execution_count": null,
   "id": "b0fbd33e-4017-45cb-b09e-ea73ba19402c",
   "metadata": {},
   "outputs": [],
   "source": [
    "30. Write a program that calculates the BMI (Body Mass Index) and provides health recommendations based\n",
    "on the user's input."
   ]
  },
  {
   "cell_type": "code",
   "execution_count": 19,
   "id": "c7885309-3730-4608-93fc-253f87a70d7c",
   "metadata": {},
   "outputs": [
    {
     "name": "stdin",
     "output_type": "stream",
     "text": [
      "Enter your height in meters:  1.6\n",
      "Enter your weight in kilograms:  80\n"
     ]
    },
    {
     "name": "stdout",
     "output_type": "stream",
     "text": [
      "Your BMI is: 31.25\n",
      "You are obese. Please consult a doctor and focus on improving your health.\n"
     ]
    }
   ],
   "source": [
    "# Input height and weight from the user\n",
    "height_meters = float(input(\"Enter your height in meters: \"))\n",
    "weight_kg = float(input(\"Enter your weight in kilograms: \"))\n",
    "\n",
    "# Calculate BMI\n",
    "bmi = weight_kg / (height_meters ** 2)\n",
    "\n",
    "# Display the calculated BMI\n",
    "print(f\"Your BMI is: {bmi:.2f}\")\n",
    "\n",
    "# Provide health recommendations based on BMI\n",
    "if bmi < 18.5:\n",
    "    print(\"You are underweight. Consider consulting with a nutritionist.\")\n",
    "elif 18.5 <= bmi < 24.9:\n",
    "    print(\"Your weight is normal. Keep up the good work!\")\n",
    "elif 25 <= bmi < 29.9:\n",
    "    print(\"You are overweight. Consider adopting a healthier lifestyle.\")\n",
    "else:\n",
    "    print(\"You are obese. Please consult a doctor and focus on improving your health.\")\n"
   ]
  },
  {
   "cell_type": "code",
   "execution_count": null,
   "id": "217889e7-4d30-43fb-86aa-d03e491764dc",
   "metadata": {},
   "outputs": [],
   "source": [
    "Challenge Level:"
   ]
  },
  {
   "cell_type": "code",
   "execution_count": null,
   "id": "8d342600-a5c2-43ff-96ad-72ecb915a2dc",
   "metadata": {},
   "outputs": [],
   "source": [
    "31. Create a program that validates a password based on complexity rules (length, characters, etc.)."
   ]
  },
  {
   "cell_type": "code",
   "execution_count": 20,
   "id": "0fa69e18-7bf5-48da-a800-d0efadc5b1c8",
   "metadata": {},
   "outputs": [
    {
     "name": "stdin",
     "output_type": "stream",
     "text": [
      "Enter your password:  ayan1234\n"
     ]
    },
    {
     "name": "stdout",
     "output_type": "stream",
     "text": [
      "Password is invalid. Please ensure it meets the complexity rules.\n"
     ]
    }
   ],
   "source": [
    "# Get the password from the user\n",
    "password = input(\"Enter your password: \")\n",
    "\n",
    "# Check if the password meets the length requirement (at least 8 characters)\n",
    "if len(password) < 8:\n",
    "    print(\"Password is too short. It should have at least 8 characters.\")\n",
    "else:\n",
    "    # Check if the password contains at least one uppercase letter\n",
    "    has_uppercase = any(char.isupper() for char in password)\n",
    "\n",
    "    # Check if the password contains at least one lowercase letter\n",
    "    has_lowercase = any(char.islower() for char in password)\n",
    "\n",
    "    # Check if the password contains at least one digit\n",
    "    has_digit = any(char.isdigit() for char in password)\n",
    "\n",
    "    # Check if the password contains at least one special character\n",
    "    special_chars = \"!@#$%^&*()_+-=[]{}|;:',.<>?/\\\\\"\n",
    "    has_special_char = any(char in special_chars for char in password)\n",
    "\n",
    "    if has_uppercase and has_lowercase and has_digit and has_special_char:\n",
    "        print(\"Password is valid!\")\n",
    "    else:\n",
    "        print(\"Password is invalid. Please ensure it meets the complexity rules.\")\n"
   ]
  },
  {
   "cell_type": "code",
   "execution_count": null,
   "id": "4b6206d4-77b7-421a-9de2-71f5eff6dd79",
   "metadata": {},
   "outputs": [],
   "source": [
    "32. Develop a program that performs matrix addition and subtraction based on user input."
   ]
  },
  {
   "cell_type": "code",
   "execution_count": 21,
   "id": "783fe312-0c60-43ca-89e7-366375780c38",
   "metadata": {},
   "outputs": [
    {
     "name": "stdin",
     "output_type": "stream",
     "text": [
      "Enter the number of rows:  2\n",
      "Enter the number of columns:  3\n"
     ]
    },
    {
     "name": "stdout",
     "output_type": "stream",
     "text": [
      "\n",
      "Enter values for the first matrix:\n"
     ]
    },
    {
     "name": "stdin",
     "output_type": "stream",
     "text": [
      "Enter element [1][1]:  1\n",
      "Enter element [1][2]:  2\n",
      "Enter element [1][3]:  3\n",
      "Enter element [2][1]:  1\n",
      "Enter element [2][2]:  1\n",
      "Enter element [2][3]:  2\n"
     ]
    },
    {
     "name": "stdout",
     "output_type": "stream",
     "text": [
      "\n",
      "Enter values for the second matrix:\n"
     ]
    },
    {
     "name": "stdin",
     "output_type": "stream",
     "text": [
      "Enter element [1][1]:  2\n",
      "Enter element [1][2]:  1\n",
      "Enter element [1][3]:  3\n",
      "Enter element [2][1]:  1\n",
      "Enter element [2][2]:  1\n",
      "Enter element [2][3]:  2\n"
     ]
    },
    {
     "name": "stdout",
     "output_type": "stream",
     "text": [
      "\n",
      "Matrix Addition Result:\n",
      "3.0\t3.0\t6.0\t\n",
      "2.0\t2.0\t4.0\t\n",
      "\n",
      "Matrix Subtraction Result:\n",
      "-1.0\t1.0\t0.0\t\n",
      "0.0\t0.0\t0.0\t\n"
     ]
    }
   ],
   "source": [
    "# Get matrix dimensions from the user\n",
    "rows = int(input(\"Enter the number of rows: \"))\n",
    "cols = int(input(\"Enter the number of columns: \"))\n",
    "\n",
    "# Initialize empty matrices for addition and subtraction\n",
    "matrix1 = []\n",
    "matrix2 = []\n",
    "result_addition = []\n",
    "result_subtraction = []\n",
    "\n",
    "# Input values for the first matrix\n",
    "print(\"\\nEnter values for the first matrix:\")\n",
    "for i in range(rows):\n",
    "    row = []\n",
    "    for j in range(cols):\n",
    "        value = float(input(f\"Enter element [{i+1}][{j+1}]: \"))\n",
    "        row.append(value)\n",
    "    matrix1.append(row)\n",
    "\n",
    "# Input values for the second matrix\n",
    "print(\"\\nEnter values for the second matrix:\")\n",
    "for i in range(rows):\n",
    "    row = []\n",
    "    for j in range(cols):\n",
    "        value = float(input(f\"Enter element [{i+1}][{j+1}]: \"))\n",
    "        row.append(value)\n",
    "    matrix2.append(row)\n",
    "\n",
    "# Perform matrix addition and subtraction\n",
    "for i in range(rows):\n",
    "    add_row = []\n",
    "    sub_row = []\n",
    "    for j in range(cols):\n",
    "        add_value = matrix1[i][j] + matrix2[i][j]\n",
    "        sub_value = matrix1[i][j] - matrix2[i][j]\n",
    "        add_row.append(add_value)\n",
    "        sub_row.append(sub_value)\n",
    "    result_addition.append(add_row)\n",
    "    result_subtraction.append(sub_row)\n",
    "\n",
    "# Display the results\n",
    "print(\"\\nMatrix Addition Result:\")\n",
    "for i in range(rows):\n",
    "    for j in range(cols):\n",
    "        print(result_addition[i][j], end=\"\\t\")\n",
    "    print()\n",
    "\n",
    "print(\"\\nMatrix Subtraction Result:\")\n",
    "for i in range(rows):\n",
    "    for j in range(cols):\n",
    "        print(result_subtraction[i][j], end=\"\\t\")\n",
    "    print()\n"
   ]
  },
  {
   "cell_type": "code",
   "execution_count": null,
   "id": "5d38b68a-4bb1-4855-8c48-dcf22b879452",
   "metadata": {},
   "outputs": [],
   "source": [
    "33. Write a program that calculates the greatest common divisor (GCD) of two numbers using the Euclidean\n",
    "algorithm."
   ]
  },
  {
   "cell_type": "code",
   "execution_count": 22,
   "id": "2df5ab34-1ad5-4c34-b520-513f40850462",
   "metadata": {},
   "outputs": [
    {
     "name": "stdin",
     "output_type": "stream",
     "text": [
      "Enter the first number:  10\n",
      "Enter the second number:  20\n"
     ]
    },
    {
     "name": "stdout",
     "output_type": "stream",
     "text": [
      "The greatest common divisor (GCD) of 10 and 0 is 10\n"
     ]
    }
   ],
   "source": [
    "# Input two numbers from the user\n",
    "num1 = int(input(\"Enter the first number: \"))\n",
    "num2 = int(input(\"Enter the second number: \"))\n",
    "\n",
    "# Euclidean algorithm to find the GCD\n",
    "while num2 != 0:\n",
    "    temp = num2\n",
    "    num2 = num1 % num2\n",
    "    num1 = temp\n",
    "\n",
    "# The GCD is stored in num1\n",
    "gcd = num1\n",
    "\n",
    "print(f\"The greatest common divisor (GCD) of {num1} and {num2} is {gcd}\")\n"
   ]
  },
  {
   "cell_type": "code",
   "execution_count": null,
   "id": "24fc9b98-12be-489a-af33-33bdf53b6aaa",
   "metadata": {},
   "outputs": [],
   "source": [
    "34. Build a program that performs matrix multiplication using nested loops and conditional statements."
   ]
  },
  {
   "cell_type": "code",
   "execution_count": null,
   "id": "678d2f66-c224-4231-9bca-54502b578e1d",
   "metadata": {},
   "outputs": [
    {
     "name": "stdin",
     "output_type": "stream",
     "text": [
      "Enter the number of rows for the first matrix:  2\n",
      "Enter the number of columns for the first matrix:  2\n",
      "Enter the number of rows for the second matrix:  2\n",
      "Enter the number of columns for the second matrix:  2\n"
     ]
    },
    {
     "name": "stdout",
     "output_type": "stream",
     "text": [
      "\n",
      "Enter values for the first matrix:\n"
     ]
    },
    {
     "name": "stdin",
     "output_type": "stream",
     "text": [
      "Enter element [1][1]:  1\n",
      "Enter element [1][2]:  4\n",
      "Enter element [2][1]:  5\n",
      "Enter element [2][2]:  2\n"
     ]
    },
    {
     "name": "stdout",
     "output_type": "stream",
     "text": [
      "\n",
      "Enter values for the second matrix:\n"
     ]
    },
    {
     "name": "stdin",
     "output_type": "stream",
     "text": [
      "Enter element [1][1]:  1\n",
      "Enter element [1][2]:  2\n",
      "Enter element [2][1]:  4\n",
      "Enter element [2][2]:  5\n"
     ]
    },
    {
     "name": "stdout",
     "output_type": "stream",
     "text": [
      "\n",
      "Matrix Multiplication Result:\n",
      "17.0\t22.0\t\n",
      "13.0\t20.0\t\n"
     ]
    }
   ],
   "source": [
    "# Get the dimensions of the matrices from the user\n",
    "rows1 = int(input(\"Enter the number of rows for the first matrix: \"))\n",
    "cols1 = int(input(\"Enter the number of columns for the first matrix: \"))\n",
    "rows2 = int(input(\"Enter the number of rows for the second matrix: \"))\n",
    "cols2 = int(input(\"Enter the number of columns for the second matrix: \"))\n",
    "\n",
    "# Check if matrix multiplication is possible\n",
    "if cols1 != rows2:\n",
    "    print(\"Matrix multiplication is not possible. The number of columns in the first matrix must be equal to the number of rows in the second matrix.\")\n",
    "else:\n",
    "    # Initialize empty matrices for multiplication\n",
    "    matrix1 = []\n",
    "    matrix2 = []\n",
    "    result_matrix = []\n",
    "\n",
    "    # Input values for the first matrix\n",
    "    print(\"\\nEnter values for the first matrix:\")\n",
    "    for i in range(rows1):\n",
    "        row = []\n",
    "        for j in range(cols1):\n",
    "            value = float(input(f\"Enter element [{i+1}][{j+1}]: \"))\n",
    "            row.append(value)\n",
    "        matrix1.append(row)\n",
    "\n",
    "    # Input values for the second matrix\n",
    "    print(\"\\nEnter values for the second matrix:\")\n",
    "    for i in range(rows2):\n",
    "        row = []\n",
    "        for j in range(cols2):\n",
    "            value = float(input(f\"Enter element [{i+1}][{j+1}]: \"))\n",
    "            row.append(value)\n",
    "        matrix2.append(row)\n",
    "\n",
    "    # Initialize the result matrix with zeros\n",
    "    for i in range(rows1):\n",
    "        result_row = []\n",
    "        for j in range(cols2):\n",
    "            result_row.append(0)\n",
    "        result_matrix.append(result_row)\n",
    "\n",
    "    # Perform matrix multiplication\n",
    "    for i in range(rows1):\n",
    "        for j in range(cols2):\n",
    "            for k in range(cols1):\n",
    "                result_matrix[i][j] += matrix1[i][k] * matrix2[k][j]\n",
    "\n",
    "    # Display the result matrix\n",
    "    print(\"\\nMatrix Multiplication Result:\")\n",
    "    for i in range(rows1):\n",
    "        for j in range(cols2):\n",
    "            print(result_matrix[i][j], end=\"\\t\")\n",
    "        print()\n"
   ]
  },
  {
   "cell_type": "code",
   "execution_count": null,
   "id": "503cfb54-b684-4853-9a60-e9203caf71ff",
   "metadata": {},
   "outputs": [],
   "source": [
    "35. Create a program that simulates a basic text-based tic-tac-toe game against the computer."
   ]
  },
  {
   "cell_type": "code",
   "execution_count": null,
   "id": "a302cfb6-f391-41c1-aef1-ace4eb24e1fe",
   "metadata": {},
   "outputs": [
    {
     "name": "stdout",
     "output_type": "stream",
     "text": [
      "Welcome to Tic-Tac-Toe!\n"
     ]
    },
    {
     "name": "stdin",
     "output_type": "stream",
     "text": [
      "Choose your symbol (X or O):  O\n"
     ]
    },
    {
     "name": "stdout",
     "output_type": "stream",
     "text": [
      "O goes first.\n",
      "\n",
      "Your turn!\n",
      "  |   |  \n",
      "---------\n",
      "  |   |  \n",
      "---------\n",
      "  |   |  \n",
      "---------\n"
     ]
    },
    {
     "name": "stdin",
     "output_type": "stream",
     "text": [
      "Enter your move (row and column):  1 1\n"
     ]
    },
    {
     "name": "stdout",
     "output_type": "stream",
     "text": [
      "\n",
      "Computer's turn...\n",
      "\n",
      "Your turn!\n",
      "O |   |  \n",
      "---------\n",
      "  |   |  \n",
      "---------\n",
      "  | X |  \n",
      "---------\n"
     ]
    },
    {
     "name": "stdin",
     "output_type": "stream",
     "text": [
      "Enter your move (row and column):  1 2\n"
     ]
    },
    {
     "name": "stdout",
     "output_type": "stream",
     "text": [
      "\n",
      "Computer's turn...\n",
      "\n",
      "Your turn!\n",
      "O | O |  \n",
      "---------\n",
      "X |   |  \n",
      "---------\n",
      "  | X |  \n",
      "---------\n"
     ]
    },
    {
     "name": "stdin",
     "output_type": "stream",
     "text": [
      "Enter your move (row and column):  1 3\n"
     ]
    },
    {
     "name": "stdout",
     "output_type": "stream",
     "text": [
      "O | O | O\n",
      "---------\n",
      "X |   |  \n",
      "---------\n",
      "  | X |  \n",
      "---------\n",
      "O wins!\n",
      "\n",
      "Computer's turn...\n",
      "O | O | O\n",
      "---------\n",
      "X |   |  \n",
      "---------\n",
      "  | X | X\n",
      "---------\n",
      "O wins!\n",
      "\n",
      "Your turn!\n",
      "O | O | O\n",
      "---------\n",
      "X |   |  \n",
      "---------\n",
      "  | X | X\n",
      "---------\n"
     ]
    },
    {
     "name": "stdin",
     "output_type": "stream",
     "text": [
      "Enter your move (row and column):  2 2\n"
     ]
    },
    {
     "name": "stdout",
     "output_type": "stream",
     "text": [
      "O | O | O\n",
      "---------\n",
      "X | O |  \n",
      "---------\n",
      "  | X | X\n",
      "---------\n",
      "O wins!\n",
      "\n",
      "Computer's turn...\n",
      "O | O | O\n",
      "---------\n",
      "X | O |  \n",
      "---------\n",
      "X | X | X\n",
      "---------\n",
      "O wins!\n",
      "O | O | O\n",
      "---------\n",
      "X | O |  \n",
      "---------\n",
      "X | X | X\n",
      "---------\n",
      "X wins!\n",
      "\n",
      "Your turn!\n",
      "O | O | O\n",
      "---------\n",
      "X | O |  \n",
      "---------\n",
      "X | X | X\n",
      "---------\n"
     ]
    },
    {
     "name": "stdin",
     "output_type": "stream",
     "text": [
      "Enter your move (row and column):  2 3\n"
     ]
    },
    {
     "name": "stdout",
     "output_type": "stream",
     "text": [
      "O | O | O\n",
      "---------\n",
      "X | O | O\n",
      "---------\n",
      "X | X | X\n",
      "---------\n",
      "O wins!\n",
      "O | O | O\n",
      "---------\n",
      "X | O | O\n",
      "---------\n",
      "X | X | X\n",
      "---------\n",
      "X wins!\n",
      "O | O | O\n",
      "---------\n",
      "X | O | O\n",
      "---------\n",
      "X | X | X\n",
      "---------\n",
      "It's a draw!\n",
      "\n",
      "Computer's turn...\n"
     ]
    }
   ],
   "source": [
    "import random\n",
    "\n",
    "print(\"Welcome to Tic-Tac-Toe!\")\n",
    "\n",
    "# Initialize the board\n",
    "board = [[\" \" for _ in range(3)] for _ in range(3)]\n",
    "\n",
    "# Display the initial board\n",
    "def print_board():\n",
    "    for row in board:\n",
    "        print(\" | \".join(row))\n",
    "        print(\"-\" * 9)\n",
    "\n",
    "# Player chooses X or O\n",
    "player = input(\"Choose your symbol (X or O): \").upper()\n",
    "computer = \"O\" if player == \"X\" else \"X\"\n",
    "\n",
    "# Determine who goes first\n",
    "first_turn = random.choice([player, computer])\n",
    "print(f\"{first_turn} goes first.\")\n",
    "\n",
    "# Main game loop\n",
    "while True:\n",
    "    # Player's turn\n",
    "    if first_turn == player:\n",
    "        print(\"\\nYour turn!\")\n",
    "        print_board()\n",
    "        while True:\n",
    "            try:\n",
    "                row, col = map(int, input(\"Enter your move (row and column): \").split())\n",
    "                if board[row - 1][col - 1] == \" \":\n",
    "                    board[row - 1][col - 1] = player\n",
    "                    break\n",
    "                else:\n",
    "                    print(\"That spot is already taken. Try again.\")\n",
    "            except (ValueError, IndexError):\n",
    "                print(\"Invalid input. Please enter row and column numbers (e.g., '1 2').\")\n",
    "    \n",
    "    # Computer's turn\n",
    "    else:\n",
    "        print(\"\\nComputer's turn...\")\n",
    "        while True:\n",
    "            row = random.randint(1, 3)\n",
    "            col = random.randint(1, 3)\n",
    "            if board[row - 1][col - 1] == \" \":\n",
    "                board[row - 1][col - 1] = computer\n",
    "                break\n",
    "\n",
    "    # Check for a win or a draw\n",
    "    for i in range(3):\n",
    "        if board[i][0] == board[i][1] == board[i][2] != \" \":\n",
    "            print_board()\n",
    "            print(f\"{board[i][0]} wins!\")\n",
    "            break\n",
    "        if board[0][i] == board[1][i] == board[2][i] != \" \":\n",
    "            print_board()\n",
    "            print(f\"{board[0][i]} wins!\")\n",
    "            break\n",
    "    if board[0][0] == board[1][1] == board[2][2] != \" \" or board[0][2] == board[1][1] == board[2][0] != \" \":\n",
    "        print_board()\n",
    "        print(f\"{board[1][1]} wins!\")\n",
    "        break\n",
    "    if all(cell != \" \" for row in board for cell in row):\n",
    "        print_board()\n",
    "        print(\"It's a draw!\")\n",
    "        break\n",
    "    \n",
    "    # Toggle turns\n",
    "    first_turn = player if first_turn == computer else computer\n"
   ]
  },
  {
   "cell_type": "code",
   "execution_count": null,
   "id": "a3ae21ba-e21b-42e4-baf8-4f7073c92015",
   "metadata": {},
   "outputs": [],
   "source": [
    "36. Write a program that generates Fibonacci numbers up to a specified term using iterative methods."
   ]
  },
  {
   "cell_type": "code",
   "execution_count": 1,
   "id": "9c9cdd61-266f-400b-a49f-761d81b4c831",
   "metadata": {},
   "outputs": [
    {
     "name": "stdin",
     "output_type": "stream",
     "text": [
      "Enter the number of Fibonacci terms to generate:  5\n"
     ]
    },
    {
     "name": "stdout",
     "output_type": "stream",
     "text": [
      "Fibonacci sequence up to 5 terms:\n",
      "0 1 1 2 3 "
     ]
    }
   ],
   "source": [
    "# Get the number of terms from the user\n",
    "n = int(input(\"Enter the number of Fibonacci terms to generate: \"))\n",
    "\n",
    "# Initialize the first two terms\n",
    "a, b = 0, 1\n",
    "\n",
    "# Display the Fibonacci sequence\n",
    "print(f\"Fibonacci sequence up to {n} terms:\")\n",
    "if n >= 1:\n",
    "    print(a, end=\" \")\n",
    "if n >= 2:\n",
    "    print(b, end=\" \")\n",
    "\n",
    "for _ in range(2, n):\n",
    "    # Calculate the next term and update a and b\n",
    "    next_term = a + b\n",
    "    a, b = b, next_term\n",
    "    print(next_term, end=\" \")\n"
   ]
  },
  {
   "cell_type": "code",
   "execution_count": null,
   "id": "456b59c7-7be0-4b63-b613-d877b2274818",
   "metadata": {},
   "outputs": [],
   "source": [
    "37. Develop a program that calculates the nth term of the Fibonacci sequence using memoization."
   ]
  },
  {
   "cell_type": "code",
   "execution_count": 2,
   "id": "25abae63-684b-4192-b9c4-bfd3d6a502b5",
   "metadata": {},
   "outputs": [
    {
     "name": "stdin",
     "output_type": "stream",
     "text": [
      "Enter the value of n to find the nth Fibonacci term:  8\n"
     ]
    },
    {
     "name": "stdout",
     "output_type": "stream",
     "text": [
      "The 8th Fibonacci term is: 21\n"
     ]
    }
   ],
   "source": [
    "# Get the value of n from the user\n",
    "n = int(input(\"Enter the value of n to find the nth Fibonacci term: \"))\n",
    "\n",
    "# Initialize variables to store the first two Fibonacci terms\n",
    "a, b = 0, 1\n",
    "\n",
    "# Calculate the nth Fibonacci term using memoization\n",
    "for _ in range(2, n + 1):\n",
    "    next_term = a + b\n",
    "    a, b = b, next_term\n",
    "\n",
    "# Display the result\n",
    "print(f\"The {n}th Fibonacci term is: {b}\")\n"
   ]
  },
  {
   "cell_type": "code",
   "execution_count": null,
   "id": "06a2f763-2a2d-4e27-a0c0-d6e5a0d383c3",
   "metadata": {},
   "outputs": [],
   "source": [
    "38. Create a program that generates a calendar for a given month and year using conditional statements."
   ]
  },
  {
   "cell_type": "code",
   "execution_count": 4,
   "id": "dbc972ff-6af6-4e26-b4bf-2d76b3c50a99",
   "metadata": {},
   "outputs": [
    {
     "name": "stdin",
     "output_type": "stream",
     "text": [
      "Enter the year (e.g., 2023):  2002\n",
      "Enter the month (1-12):  5\n"
     ]
    },
    {
     "name": "stdout",
     "output_type": "stream",
     "text": [
      "\n",
      "Calendar for May 2002:\n",
      "\n",
      "      May 2002\n",
      "Mo Tu We Th Fr Sa Su\n",
      "       1  2  3  4  5\n",
      " 6  7  8  9 10 11 12\n",
      "13 14 15 16 17 18 19\n",
      "20 21 22 23 24 25 26\n",
      "27 28 29 30 31\n",
      "\n"
     ]
    }
   ],
   "source": [
    "import calendar\n",
    "\n",
    "# Get user input for the month and year\n",
    "year = int(input(\"Enter the year (e.g., 2023): \"))\n",
    "month = int(input(\"Enter the month (1-12): \"))\n",
    "\n",
    "# Check if the month and year are valid\n",
    "if month < 1 or month > 12:\n",
    "    print(\"Invalid month. Please enter a month between 1 and 12.\")\n",
    "else:\n",
    "    # Generate the calendar for the specified month and year\n",
    "    cal = calendar.month(year, month)\n",
    "    \n",
    "    # Display the calendar\n",
    "    print(f\"\\nCalendar for {calendar.month_name[month]} {year}:\\n\")\n",
    "    print(cal)\n"
   ]
  },
  {
   "cell_type": "code",
   "execution_count": null,
   "id": "d4015f7a-2073-4676-8ef2-306c914f1e2f",
   "metadata": {},
   "outputs": [],
   "source": [
    "39. Build a program that simulates a basic text-based blackjack game against the computer."
   ]
  },
  {
   "cell_type": "code",
   "execution_count": 5,
   "id": "d5d0a9e9-3bdd-4d42-855d-359d0e76a891",
   "metadata": {},
   "outputs": [
    {
     "name": "stdout",
     "output_type": "stream",
     "text": [
      "Welcome to Blackjack!\n",
      "Your hand: 10, 10 (Total Value: 20)\n",
      "Dealer's hand: Q, ?\n"
     ]
    },
    {
     "name": "stdin",
     "output_type": "stream",
     "text": [
      "Do you want to 'hit' or 'stand'?  hit\n"
     ]
    },
    {
     "name": "stdout",
     "output_type": "stream",
     "text": [
      "You drew: Q\n",
      "Your hand: 10, 10, Q (Total Value: 30)\n",
      "Bust! You lose.\n",
      "\n",
      "Dealer's turn:\n",
      "Dealer's hand: Q, 10 (Total Value: 20)\n",
      "Player busts. Dealer wins.\n"
     ]
    }
   ],
   "source": [
    "import random\n",
    "\n",
    "# Define card values\n",
    "card_values = {'2': 2, '3': 3, '4': 4, '5': 5, '6': 6, '7': 7, '8': 8, '9': 9, '10': 10, 'J': 10, 'Q': 10, 'K': 10, 'A': 11}\n",
    "\n",
    "# Create a deck of cards\n",
    "deck = ['2', '3', '4', '5', '6', '7', '8', '9', '10', 'J', 'Q', 'K', 'A'] * 4\n",
    "\n",
    "# Function to calculate the hand value\n",
    "def calculate_hand_value(hand):\n",
    "    value = sum(card_values[card] for card in hand)\n",
    "    num_aces = hand.count('A')\n",
    "    \n",
    "    while value > 21 and num_aces > 0:\n",
    "        value -= 10\n",
    "        num_aces -= 1\n",
    "    \n",
    "    return value\n",
    "\n",
    "# Deal two initial cards to the player and the dealer\n",
    "player_hand = [random.choice(deck), random.choice(deck)]\n",
    "dealer_hand = [random.choice(deck), random.choice(deck)]\n",
    "\n",
    "# Display the initial hands\n",
    "print(\"Welcome to Blackjack!\")\n",
    "print(f\"Your hand: {', '.join(player_hand)} (Total Value: {calculate_hand_value(player_hand)})\")\n",
    "print(f\"Dealer's hand: {dealer_hand[0]}, ?\")\n",
    "\n",
    "# Player's turn\n",
    "while True:\n",
    "    choice = input(\"Do you want to 'hit' or 'stand'? \").lower()\n",
    "    \n",
    "    if choice == 'hit':\n",
    "        card = random.choice(deck)\n",
    "        player_hand.append(card)\n",
    "        print(f\"You drew: {card}\")\n",
    "        print(f\"Your hand: {', '.join(player_hand)} (Total Value: {calculate_hand_value(player_hand)})\")\n",
    "        \n",
    "        if calculate_hand_value(player_hand) > 21:\n",
    "            print(\"Bust! You lose.\")\n",
    "            break\n",
    "    elif choice == 'stand':\n",
    "        break\n",
    "    else:\n",
    "        print(\"Invalid choice. Please enter 'hit' or 'stand'.\")\n",
    "\n",
    "# Dealer's turn\n",
    "print(\"\\nDealer's turn:\")\n",
    "print(f\"Dealer's hand: {', '.join(dealer_hand)} (Total Value: {calculate_hand_value(dealer_hand)})\")\n",
    "\n",
    "while calculate_hand_value(dealer_hand) < 17:\n",
    "    card = random.choice(deck)\n",
    "    dealer_hand.append(card)\n",
    "    print(f\"Dealer drew: {card}\")\n",
    "    print(f\"Dealer's hand: {', '.join(dealer_hand)} (Total Value: {calculate_hand_value(dealer_hand)})\")\n",
    "\n",
    "# Determine the winner\n",
    "player_value = calculate_hand_value(player_hand)\n",
    "dealer_value = calculate_hand_value(dealer_hand)\n",
    "\n",
    "if player_value > 21:\n",
    "    print(\"Player busts. Dealer wins.\")\n",
    "elif dealer_value > 21:\n",
    "    print(\"Dealer busts. Player wins.\")\n",
    "elif player_value > dealer_value:\n",
    "    print(\"Player wins!\")\n",
    "elif dealer_value > player_value:\n",
    "    print(\"Dealer wins.\")\n",
    "else:\n",
    "    print(\"It's a tie!\")\n",
    "\n"
   ]
  },
  {
   "cell_type": "code",
   "execution_count": null,
   "id": "98930676-c210-4ae9-a60f-91a5124b2ab7",
   "metadata": {},
   "outputs": [],
   "source": [
    "40. Write a program that generates the prime factors of a given number using trial division."
   ]
  },
  {
   "cell_type": "code",
   "execution_count": 6,
   "id": "8806f8c6-efd4-4f5c-a5e9-476738329fa6",
   "metadata": {},
   "outputs": [
    {
     "name": "stdin",
     "output_type": "stream",
     "text": [
      "Enter a positive integer:  5\n"
     ]
    },
    {
     "name": "stdout",
     "output_type": "stream",
     "text": [
      "Prime factors of 1: [5]\n"
     ]
    }
   ],
   "source": [
    "# Get the number from the user\n",
    "num = int(input(\"Enter a positive integer: \"))\n",
    "\n",
    "# Initialize a list to store prime factors\n",
    "prime_factors = []\n",
    "\n",
    "# Find prime factors using trial division\n",
    "divisor = 2\n",
    "while num > 1:\n",
    "    while num % divisor == 0:\n",
    "        prime_factors.append(divisor)\n",
    "        num //= divisor\n",
    "    divisor += 1\n",
    "\n",
    "# Display the prime factors\n",
    "if len(prime_factors) == 0:\n",
    "    print(\"The number has no prime factors.\")\n",
    "else:\n",
    "    print(f\"Prime factors of {num}: {prime_factors}\")\n"
   ]
  },
  {
   "cell_type": "code",
   "execution_count": null,
   "id": "d681ff68-76ca-4876-968c-9a51a71bee6a",
   "metadata": {},
   "outputs": [],
   "source": []
  }
 ],
 "metadata": {
  "kernelspec": {
   "display_name": "Python 3 (ipykernel)",
   "language": "python",
   "name": "python3"
  },
  "language_info": {
   "codemirror_mode": {
    "name": "ipython",
    "version": 3
   },
   "file_extension": ".py",
   "mimetype": "text/x-python",
   "name": "python",
   "nbconvert_exporter": "python",
   "pygments_lexer": "ipython3",
   "version": "3.10.8"
  }
 },
 "nbformat": 4,
 "nbformat_minor": 5
}
