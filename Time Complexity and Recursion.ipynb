{
 "cells": [
  {
   "cell_type": "markdown",
   "id": "03cd5252-d55b-4b82-811d-0007d9aff8ba",
   "metadata": {},
   "source": [
    "Find time complexity of below code blocks :"
   ]
  },
  {
   "cell_type": "raw",
   "id": "3f2e7bcf-9d4d-4d96-ba5a-8794aec49149",
   "metadata": {},
   "source": [
    "Problem 1 :\n",
    "def quicksort(arr):\n",
    "if len(arr) <= 1:\n",
    "return arr\n",
    "pivot = arr[len(arr) // 2]\n",
    "left = [x for x in arr if x < pivot]\n",
    "middle = [x for x in arr if x == pivot]\n",
    "right = [x for x in arr if x > pivot]\n",
    "return quicksort(left) + middle + quicksort(right)"
   ]
  },
  {
   "cell_type": "markdown",
   "id": "7bd9bd56-45e7-4a9b-afc3-2afb23b662af",
   "metadata": {},
   "source": [
    "Problem 1 (Quicksort):\n",
    "The time complexity of quicksort is generally O(n log n) on average, but it can degrade to O(n^2) in the worst case if the pivot selection is poor and the partitioning is unbalanced."
   ]
  },
  {
   "cell_type": "markdown",
   "id": "367061ba-c020-4821-bf34-333280cb005c",
   "metadata": {},
   "source": [
    "Problem 2 :\n",
    "def nested_loop_example(matrix):\n",
    "rows, cols = len(matrix), len(matrix[0])\n",
    "total = 0\n",
    "for i in range(rows):\n",
    "for j in range(cols):\n",
    "total += matrix[i][j]\n",
    "return total"
   ]
  },
  {
   "cell_type": "markdown",
   "id": "b8b698b1-ebdc-4db5-986d-a5ddaccb53e9",
   "metadata": {},
   "source": [
    "Problem 2 (Nested Loop):\n",
    "The time complexity of this nested loop is O(n * m), where n is the number of rows and m is the number of columns in the matrix."
   ]
  },
  {
   "cell_type": "raw",
   "id": "4988f271-bcb3-4baf-b55a-0f39cc5bec5f",
   "metadata": {},
   "source": [
    "Problem 3 :\n",
    "def example_function(arr):\n",
    "result = 0\n",
    "for element in arr:\n",
    "result += element\n",
    "return result"
   ]
  },
  {
   "cell_type": "markdown",
   "id": "6b943c9f-d817-4dde-85db-2a2e69ea3d93",
   "metadata": {},
   "source": [
    "Problem 3 (Sum of Array Elements):\n",
    "The time complexity of summing all elements in an array of size n is O(n), since it iterates through each element once."
   ]
  },
  {
   "cell_type": "raw",
   "id": "5de632ab-114c-438c-8d45-9a5b6a5ecb41",
   "metadata": {},
   "source": [
    "Problem 4 :\n",
    "def longest_increasing_subsequence(nums):\n",
    "n = len(nums)\n",
    "lis = [1] * n\n",
    "for i in range(1, n):\n",
    "for j in range(0, i):\n",
    "if nums[i] > nums[j] and lis[i] < lis[j] + 1:\n",
    "lis[i] = lis[j] + 1\n",
    "return max(lis)"
   ]
  },
  {
   "cell_type": "markdown",
   "id": "a02e6ff8-5e52-4f01-a5c6-bad565c66dd1",
   "metadata": {},
   "source": [
    "Problem 4 (Longest Increasing Subsequence):\n",
    "The time complexity of the dynamic programming solution for finding the longest increasing subsequence is O(n^2)."
   ]
  },
  {
   "cell_type": "raw",
   "id": "485a3be4-92d9-4d0d-b293-0c96098c75e7",
   "metadata": {},
   "source": [
    "Problem 5 :\n",
    "def mysterious_function(arr):\n",
    "n = len(arr)\n",
    "result = 0\n",
    "for i in range(n):\n",
    "for j in range(i, n):\n",
    "result += arr[i] * arr[j]\n",
    "return result"
   ]
  },
  {
   "cell_type": "markdown",
   "id": "d657ecb4-2c53-4ab4-a4f6-f1da393fdcb0",
   "metadata": {},
   "source": [
    "Problem 5 (Mysterious Function):\n",
    "The time complexity of this function is O(n^2), where n is the length of the input array. This is because there are nested loops iterating over the array."
   ]
  },
  {
   "cell_type": "markdown",
   "id": "7e2a7d41-eaa8-49c8-9e27-b0dd30480543",
   "metadata": {},
   "source": [
    "Problem 6 :\n",
    "Write a recursive function to calculate the sum of digits of a given positive integer.\n",
    "sum_of_digits(123) -> 6"
   ]
  },
  {
   "cell_type": "code",
   "execution_count": 1,
   "id": "4be56eb5-f6b0-491e-9a01-0562e7584ccd",
   "metadata": {},
   "outputs": [
    {
     "name": "stdout",
     "output_type": "stream",
     "text": [
      "6\n"
     ]
    }
   ],
   "source": [
    "def sum_of_digits(n):\n",
    "    # Base case: if the number is a single digit, return the number itself\n",
    "    if n < 10:\n",
    "        return n\n",
    "    # Recursive case: sum the last digit (n % 10) with the sum of digits of the remaining number (n // 10)\n",
    "    else:\n",
    "        return n % 10 + sum_of_digits(n // 10)\n",
    "\n",
    "# Example usage:\n",
    "result = sum_of_digits(123)\n",
    "print(result)  # Output: 6\n"
   ]
  },
  {
   "cell_type": "markdown",
   "id": "c664311f-2947-4f90-aaa7-32cc51b9666a",
   "metadata": {},
   "source": [
    "Problem 7: Fibonacci Series"
   ]
  },
  {
   "cell_type": "code",
   "execution_count": 2,
   "id": "d2687dde-69ba-4281-8828-c02eb38046c0",
   "metadata": {},
   "outputs": [
    {
     "name": "stdout",
     "output_type": "stream",
     "text": [
      "[0, 1, 1, 2, 3, 5]\n"
     ]
    }
   ],
   "source": [
    "def fibonacci_series(n):\n",
    "    # Base case: for n = 0, return an empty list\n",
    "    if n == 0:\n",
    "        return []\n",
    "    # Base case: for n = 1, return [0]\n",
    "    elif n == 1:\n",
    "        return [0]\n",
    "    # Base case: for n = 2, return [0, 1]\n",
    "    elif n == 2:\n",
    "        return [0, 1]\n",
    "    # Recursive case: generate the Fibonacci series up to n-1, then add the sum of the last two numbers\n",
    "    else:\n",
    "        series = fibonacci_series(n - 1)\n",
    "        series.append(series[-1] + series[-2])\n",
    "        return series\n",
    "\n",
    "# Example usage:\n",
    "result = fibonacci_series(6)\n",
    "print(result)  # Output: [0, 1, 1, 2, 3, 5]\n"
   ]
  },
  {
   "cell_type": "markdown",
   "id": "eeba0b75-74c1-47f4-a7a0-8f857d78ed71",
   "metadata": {},
   "source": [
    "Problem 8 : Subset Sum"
   ]
  },
  {
   "cell_type": "code",
   "execution_count": 3,
   "id": "0208f6e0-bfa6-4c26-89b2-5daa616fbc5f",
   "metadata": {},
   "outputs": [
    {
     "name": "stdout",
     "output_type": "stream",
     "text": [
      "True\n"
     ]
    }
   ],
   "source": [
    "def subset_sum(nums, target):\n",
    "    # Base cases:\n",
    "    # If target is 0, there exists an empty subset that sums up to 0\n",
    "    if target == 0:\n",
    "        return True\n",
    "    # If nums is empty and target is not 0, there's no subset that sums up to target\n",
    "    if not nums:\n",
    "        return False\n",
    "    # If the last element of nums is greater than target, exclude it\n",
    "    if nums[-1] > target:\n",
    "        return subset_sum(nums[:-1], target)\n",
    "    \n",
    "    # Recursive cases:\n",
    "    # Check if the subset sum can be achieved by either including or excluding the last element\n",
    "    return subset_sum(nums[:-1], target) or subset_sum(nums[:-1], target - nums[-1])\n",
    "\n",
    "# Example usage:\n",
    "nums = [3, 34, 4, 12, 5, 2]\n",
    "target = 9\n",
    "result = subset_sum(nums, target)\n",
    "print(result)  # Output: True\n"
   ]
  },
  {
   "cell_type": "markdown",
   "id": "39382a78-794b-4cbf-9759-9d8ec71ae013",
   "metadata": {},
   "source": [
    "Problem 9: Word Break"
   ]
  },
  {
   "cell_type": "code",
   "execution_count": 4,
   "id": "edc7678b-895a-4975-ae75-185d079432a5",
   "metadata": {},
   "outputs": [
    {
     "name": "stdout",
     "output_type": "stream",
     "text": [
      "True\n"
     ]
    }
   ],
   "source": [
    "def word_break(s, word_dict):\n",
    "    # Base case: if the string is empty, it can be segmented\n",
    "    if not s:\n",
    "        return True\n",
    "\n",
    "    # Check all possible prefix substrings of s\n",
    "    for i in range(1, len(s) + 1):\n",
    "        prefix = s[:i]\n",
    "        # If the prefix is in the dictionary and the remaining substring can also be segmented\n",
    "        if prefix in word_dict and word_break(s[i:], word_dict):\n",
    "            return True\n",
    "\n",
    "    # If no segmentation is possible\n",
    "    return False\n",
    "\n",
    "# Example usage:\n",
    "s = \"leetcode\"\n",
    "word_dict = {\"leet\", \"code\"}\n",
    "result = word_break(s, word_dict)\n",
    "print(result)  # Output: True\n"
   ]
  },
  {
   "cell_type": "markdown",
   "id": "e9d5225f-a96c-4811-9870-957432242746",
   "metadata": {},
   "source": [
    "Problem 10 : N-Queens"
   ]
  },
  {
   "cell_type": "code",
   "execution_count": 5,
   "id": "33b0805a-dac8-43e3-a923-d11e2acd52f0",
   "metadata": {},
   "outputs": [
    {
     "name": "stdout",
     "output_type": "stream",
     "text": [
      "['.Q..', '...Q', 'Q...', '..Q.']\n",
      "['..Q.', 'Q...', '...Q', '.Q..']\n"
     ]
    }
   ],
   "source": [
    "def is_safe(board, row, col, n):\n",
    "    # Check if there's a queen in the same column\n",
    "    for i in range(row):\n",
    "        if board[i][col] == 1:\n",
    "            return False\n",
    "    \n",
    "    # Check upper left diagonal\n",
    "    for i, j in zip(range(row, -1, -1), range(col, -1, -1)):\n",
    "        if board[i][j] == 1:\n",
    "            return False\n",
    "    \n",
    "    # Check upper right diagonal\n",
    "    for i, j in zip(range(row, -1, -1), range(col, n)):\n",
    "        if board[i][j] == 1:\n",
    "            return False\n",
    "    \n",
    "    return True\n",
    "\n",
    "def solve_n_queens_util(board, row, n, solutions):\n",
    "    if row == n:\n",
    "        solutions.append([\"\".join([\"Q\" if cell == 1 else \".\" for cell in row]) for row in board])\n",
    "        return\n",
    "    \n",
    "    for col in range(n):\n",
    "        if is_safe(board, row, col, n):\n",
    "            board[row][col] = 1\n",
    "            solve_n_queens_util(board, row + 1, n, solutions)\n",
    "            board[row][col] = 0\n",
    "\n",
    "def n_queens(n):\n",
    "    board = [[0] * n for _ in range(n)]\n",
    "    solutions = []\n",
    "    solve_n_queens_util(board, 0, n, solutions)\n",
    "    return solutions\n",
    "\n",
    "# Example usage:\n",
    "solutions = n_queens(4)\n",
    "for solution in solutions:\n",
    "    print(solution)\n"
   ]
  }
 ],
 "metadata": {
  "kernelspec": {
   "display_name": "Python 3 (ipykernel)",
   "language": "python",
   "name": "python3"
  },
  "language_info": {
   "codemirror_mode": {
    "name": "ipython",
    "version": 3
   },
   "file_extension": ".py",
   "mimetype": "text/x-python",
   "name": "python",
   "nbconvert_exporter": "python",
   "pygments_lexer": "ipython3",
   "version": "3.10.8"
  }
 },
 "nbformat": 4,
 "nbformat_minor": 5
}
