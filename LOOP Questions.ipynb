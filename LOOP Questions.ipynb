{
 "cells": [
  {
   "cell_type": "code",
   "execution_count": null,
   "id": "30f1c23f-fd9c-49d8-879d-26439a25c638",
   "metadata": {},
   "outputs": [],
   "source": [
    "1. Write a Python program to print the numbers from 1 to 10 using a `for` loop."
   ]
  },
  {
   "cell_type": "code",
   "execution_count": 1,
   "id": "9a4b3be3-f596-442a-8430-7fd2f54c073d",
   "metadata": {},
   "outputs": [
    {
     "name": "stdout",
     "output_type": "stream",
     "text": [
      "1\n",
      "2\n",
      "3\n",
      "4\n",
      "5\n",
      "6\n",
      "7\n",
      "8\n",
      "9\n",
      "10\n"
     ]
    }
   ],
   "source": [
    "for i in range(1,11):\n",
    "    print(i)"
   ]
  },
  {
   "cell_type": "code",
   "execution_count": null,
   "id": "a5731410-03e5-4df4-aa8e-66ddaaa48a0f",
   "metadata": {},
   "outputs": [],
   "source": [
    "2. Create a program that calculates the sum of all numbers in a list using a `for` loop."
   ]
  },
  {
   "cell_type": "code",
   "execution_count": 2,
   "id": "52b97e2b-e74c-43c7-a096-a8307fb6996c",
   "metadata": {},
   "outputs": [
    {
     "name": "stdout",
     "output_type": "stream",
     "text": [
      "55\n"
     ]
    }
   ],
   "source": [
    "l=[1,2,3,4,5,6,7,8,9,10]\n",
    "s=0\n",
    "for i in l:\n",
    "    s+=i\n",
    "print(s)"
   ]
  },
  {
   "cell_type": "code",
   "execution_count": null,
   "id": "e1d75a0e-ec89-4f33-8d95-6cce415762af",
   "metadata": {},
   "outputs": [],
   "source": [
    "3. Write a program to print the characters of a string in reverse order using a `for` loop."
   ]
  },
  {
   "cell_type": "code",
   "execution_count": 5,
   "id": "06255c71-8b29-4148-a91b-945fad4e0a49",
   "metadata": {},
   "outputs": [
    {
     "name": "stdout",
     "output_type": "stream",
     "text": [
      "10\n",
      "9\n",
      "8\n",
      "7\n",
      "6\n",
      "5\n",
      "4\n",
      "3\n",
      "2\n",
      "1\n"
     ]
    }
   ],
   "source": [
    "l=[1,2,3,4,5,6,7,8,9,10]\n",
    "for i in range(-1,-len(l)-1,-1):\n",
    "    print(l[i])"
   ]
  },
  {
   "cell_type": "code",
   "execution_count": null,
   "id": "fa102665-d3a1-459e-a62a-7cca2f06b559",
   "metadata": {},
   "outputs": [],
   "source": [
    "4. Develop a program that finds the factorial of a given number using a `for` loop."
   ]
  },
  {
   "cell_type": "code",
   "execution_count": 10,
   "id": "46bad642-2f0f-4d6c-96a4-fd4da69c0780",
   "metadata": {},
   "outputs": [
    {
     "name": "stdout",
     "output_type": "stream",
     "text": [
      "1\n",
      "2\n",
      "5\n",
      "10\n"
     ]
    }
   ],
   "source": [
    "fac = 0\n",
    "num = 10\n",
    "for i in range(1, num + 1):\n",
    "    if num % i == 0:\n",
    "        print(i)\n",
    "        fac += 1"
   ]
  },
  {
   "cell_type": "code",
   "execution_count": null,
   "id": "925088b2-b70f-4f86-b11b-ca3edc74f2c6",
   "metadata": {},
   "outputs": [],
   "source": [
    "5. Create a program to print the multiplication table of a given number using a `for` loop."
   ]
  },
  {
   "cell_type": "code",
   "execution_count": 11,
   "id": "2b9d4b53-5a49-470c-9093-6f68962ec56f",
   "metadata": {},
   "outputs": [
    {
     "name": "stdout",
     "output_type": "stream",
     "text": [
      "5  X  1  =  5\n",
      "5  X  2  =  10\n",
      "5  X  3  =  15\n",
      "5  X  4  =  20\n",
      "5  X  5  =  25\n",
      "5  X  6  =  30\n",
      "5  X  7  =  35\n",
      "5  X  8  =  40\n",
      "5  X  9  =  45\n",
      "5  X  10  =  50\n"
     ]
    }
   ],
   "source": [
    "n=5\n",
    "for i in range(1,11):\n",
    "    print(n,' X ',i,' = ',n*i)"
   ]
  },
  {
   "cell_type": "code",
   "execution_count": null,
   "id": "0752e206-204f-4bec-b6b0-568fe466d213",
   "metadata": {},
   "outputs": [],
   "source": [
    "6. Write a program that counts the number of even and odd numbers in a list using a `for` loop."
   ]
  },
  {
   "cell_type": "code",
   "execution_count": 13,
   "id": "a82f0f9c-3427-4023-9139-26a073d3297f",
   "metadata": {},
   "outputs": [
    {
     "name": "stdout",
     "output_type": "stream",
     "text": [
      "5 , 5\n"
     ]
    }
   ],
   "source": [
    "list1=[1,2,3,4,5,6,7,8,9,10]\n",
    "e_count,o_count=0,0\n",
    "for i in list1:\n",
    "    if i % 2 == 0:\n",
    "        e_count+=1\n",
    "    else:\n",
    "        o_count+=1\n",
    "print(e_count,',',o_count)"
   ]
  },
  {
   "cell_type": "code",
   "execution_count": null,
   "id": "028dde35-675a-46a3-88ea-abca45794ff0",
   "metadata": {},
   "outputs": [],
   "source": [
    "7. Develop a program that prints the squares of numbers from 1 to 5 using a `for` loop."
   ]
  },
  {
   "cell_type": "code",
   "execution_count": 14,
   "id": "3c3e1f58-22c7-4cb5-a37e-19cead3eaed6",
   "metadata": {},
   "outputs": [
    {
     "name": "stdout",
     "output_type": "stream",
     "text": [
      "[1, 4, 9, 16, 25]\n"
     ]
    }
   ],
   "source": [
    "list1=[]\n",
    "for i in range(1,6):\n",
    "    list1.append(i**2)\n",
    "print(list1)"
   ]
  },
  {
   "cell_type": "code",
   "execution_count": null,
   "id": "6ce5935c-f250-4e7e-b33a-cd758ba5da7b",
   "metadata": {},
   "outputs": [],
   "source": [
    "8. Create a program to find the length of a string without using the `len()` function."
   ]
  },
  {
   "cell_type": "code",
   "execution_count": 15,
   "id": "1cefeeba-c548-45f2-826d-e34a7161a54b",
   "metadata": {},
   "outputs": [
    {
     "name": "stdout",
     "output_type": "stream",
     "text": [
      "10\n"
     ]
    }
   ],
   "source": [
    "list1=[1,2,3,4,1,2,3,4,5,6]\n",
    "l=0\n",
    "for i in list1:\n",
    "    l+=1\n",
    "print(l)"
   ]
  },
  {
   "cell_type": "code",
   "execution_count": null,
   "id": "f7d39fd6-a5e3-4181-a180-b2541dedbdd5",
   "metadata": {},
   "outputs": [],
   "source": [
    "9. Write a program that calculates the average of a list of numbers using a `for` loop."
   ]
  },
  {
   "cell_type": "code",
   "execution_count": 16,
   "id": "c4964ad1-1da7-4ae2-8632-83e24c4cf787",
   "metadata": {},
   "outputs": [
    {
     "name": "stdout",
     "output_type": "stream",
     "text": [
      "3\n"
     ]
    }
   ],
   "source": [
    "list1=[1,2,3,4,1,2,3,4,5,6]\n",
    "avg=sum(list1)//len(list1)\n",
    "print(avg)"
   ]
  },
  {
   "cell_type": "code",
   "execution_count": null,
   "id": "cc933191-3592-4163-b5e8-5aec6891123c",
   "metadata": {},
   "outputs": [],
   "source": [
    "10. Develop a program that prints the first `n` Fibonacci numbers using a `for` loop."
   ]
  },
  {
   "cell_type": "code",
   "execution_count": 17,
   "id": "05ceb95b-50b1-4273-92e9-d59c5432822a",
   "metadata": {},
   "outputs": [
    {
     "name": "stdout",
     "output_type": "stream",
     "text": [
      "[0, 1, 1, 2, 3, 5, 8, 13, 21, 34]\n"
     ]
    }
   ],
   "source": [
    "n=10\n",
    "res=[]\n",
    "a,b=0,1\n",
    "for i in range(n):\n",
    "    res.append(a)\n",
    "    a,b=b,a+b\n",
    "print(res)"
   ]
  },
  {
   "cell_type": "code",
   "execution_count": null,
   "id": "047139ed-c6bb-4bae-9565-3ba0b8c19356",
   "metadata": {},
   "outputs": [],
   "source": [
    "11. Write a program to check if a given list contains any duplicates using a `for` loop."
   ]
  },
  {
   "cell_type": "code",
   "execution_count": 2,
   "id": "5e225bda-9872-4a29-b344-9a6e52f0c148",
   "metadata": {},
   "outputs": [
    {
     "name": "stdout",
     "output_type": "stream",
     "text": [
      "List has duplicate elements\n"
     ]
    }
   ],
   "source": [
    "list1 = [1, 2, 3, 4, 1, 2, 3, 4, 5, 6]\n",
    "has_duplicates = False \n",
    "for i in range(len(list1)):\n",
    "    for j in range(i + 1, len(list1)):\n",
    "        if list1[i] == list1[j]:\n",
    "            has_duplicates = True\n",
    "            break \n",
    "if has_duplicates:\n",
    "    print(\"List has duplicate elements\")\n",
    "else:\n",
    "    print(\"List doesn't have duplicate elements\")"
   ]
  },
  {
   "cell_type": "code",
   "execution_count": null,
   "id": "35c4a869-ab53-4d97-acb7-1cb62ff74716",
   "metadata": {},
   "outputs": [],
   "source": [
    "12. Create a program that prints the prime numbers in a given range using a `for` loop."
   ]
  },
  {
   "cell_type": "code",
   "execution_count": 3,
   "id": "898de37a-0ed0-49c7-93ae-ac3884f3c3e6",
   "metadata": {},
   "outputs": [
    {
     "name": "stdout",
     "output_type": "stream",
     "text": [
      "2\n",
      "3\n",
      "5\n",
      "7\n"
     ]
    }
   ],
   "source": [
    "for num in range(1,11):\n",
    "    if num > 1:\n",
    "        is_prime = True\n",
    "        for i in range(2, int(num**0.5) + 1):\n",
    "            if num % i == 0:\n",
    "                is_prime = False\n",
    "                break\n",
    "        if is_prime:\n",
    "            print(num)"
   ]
  },
  {
   "cell_type": "code",
   "execution_count": null,
   "id": "467e2c06-b2e1-4048-a4d8-b77336bc34bc",
   "metadata": {},
   "outputs": [],
   "source": [
    "13. Develop a program that counts the number of vowels in a string using a `for` loop."
   ]
  },
  {
   "cell_type": "code",
   "execution_count": 4,
   "id": "e612a144-9167-4d8a-bf41-fab3f2c5124f",
   "metadata": {},
   "outputs": [
    {
     "name": "stdout",
     "output_type": "stream",
     "text": [
      "Number of 'a's:  2\n",
      "Number of 'e's:  0\n",
      "Number of 'i's:  0\n",
      "Number of 'o's:  0\n",
      "Number of 'u's:  0\n"
     ]
    }
   ],
   "source": [
    "string=\"ayan\"\n",
    "string = string.lower()\n",
    "# Counting vowels using a count variable\n",
    "count_a = 0\n",
    "count_e = 0\n",
    "count_i = 0\n",
    "count_o = 0\n",
    "count_u = 0\n",
    "for char in string:\n",
    "    if char == 'a':\n",
    "        count_a += 1\n",
    "    elif char == 'e':\n",
    "        count_e += 1\n",
    "    elif char == 'i':\n",
    "        count_i += 1\n",
    "    elif char == 'o':\n",
    "        count_o += 1\n",
    "    elif char == 'u':\n",
    "        count_u += 1\n",
    "print(f\"Number of 'a's: \",count_a)\n",
    "print(f\"Number of 'e's: \",count_e)\n",
    "print(f\"Number of 'i's: \",count_i)\n",
    "print(f\"Number of 'o's: \",count_o)\n",
    "print(f\"Number of 'u's: \",count_u)"
   ]
  },
  {
   "cell_type": "code",
   "execution_count": null,
   "id": "4136edd8-0076-4755-9538-a3795208f572",
   "metadata": {},
   "outputs": [],
   "source": [
    "14. Write a program to find the maximum element in a 2D list using a nested `for` loop."
   ]
  },
  {
   "cell_type": "code",
   "execution_count": 6,
   "id": "92db493e-f2cc-4322-a438-f6e4be1c253f",
   "metadata": {},
   "outputs": [
    {
     "name": "stdout",
     "output_type": "stream",
     "text": [
      "6\n"
     ]
    }
   ],
   "source": [
    "num=[[1,2],[3,4],[5,6]]\n",
    "max_ele=num[0][0]\n",
    "for i in num:\n",
    "    for j in i:\n",
    "        if max_ele < j:\n",
    "            max_ele = j\n",
    "print(max_ele)"
   ]
  },
  {
   "cell_type": "code",
   "execution_count": null,
   "id": "318350de-6be6-4c05-a6a5-0f3543395071",
   "metadata": {},
   "outputs": [],
   "source": [
    "15. Create a program that removes all occurrences of a specific element from a list using a `for` loop."
   ]
  },
  {
   "cell_type": "code",
   "execution_count": 7,
   "id": "36183273-e21c-43c1-9f9f-4eb204b89890",
   "metadata": {},
   "outputs": [
    {
     "name": "stdout",
     "output_type": "stream",
     "text": [
      "4\n"
     ]
    }
   ],
   "source": [
    "l1=[1,2,1,3,4,1,5,1,2,6]\n",
    "c=0\n",
    "num=1\n",
    "for i in l1:\n",
    "    if i==num:\n",
    "        c+=1\n",
    "print(c)"
   ]
  },
  {
   "cell_type": "code",
   "execution_count": null,
   "id": "0e35caa5-630b-4c3c-a149-85bf990a04c7",
   "metadata": {},
   "outputs": [],
   "source": [
    "16. Develop a program that generates a multiplication table for numbers from 1 to 5 using a nested `for` loop."
   ]
  },
  {
   "cell_type": "code",
   "execution_count": 8,
   "id": "93610690-debd-4a6e-831c-917d1f6ee8c4",
   "metadata": {},
   "outputs": [
    {
     "name": "stdout",
     "output_type": "stream",
     "text": [
      "1  X  1  =  1\n",
      "2  X  1  =  2\n",
      "3  X  1  =  3\n",
      "4  X  1  =  4\n",
      "5  X  1  =  5\n",
      "6  X  1  =  6\n",
      "7  X  1  =  7\n",
      "8  X  1  =  8\n",
      "9  X  1  =  9\n",
      "10  X  1  =  10\n",
      "1  X  2  =  2\n",
      "2  X  2  =  4\n",
      "3  X  2  =  6\n",
      "4  X  2  =  8\n",
      "5  X  2  =  10\n",
      "6  X  2  =  12\n",
      "7  X  2  =  14\n",
      "8  X  2  =  16\n",
      "9  X  2  =  18\n",
      "10  X  2  =  20\n",
      "1  X  3  =  3\n",
      "2  X  3  =  6\n",
      "3  X  3  =  9\n",
      "4  X  3  =  12\n",
      "5  X  3  =  15\n",
      "6  X  3  =  18\n",
      "7  X  3  =  21\n",
      "8  X  3  =  24\n",
      "9  X  3  =  27\n",
      "10  X  3  =  30\n",
      "1  X  4  =  4\n",
      "2  X  4  =  8\n",
      "3  X  4  =  12\n",
      "4  X  4  =  16\n",
      "5  X  4  =  20\n",
      "6  X  4  =  24\n",
      "7  X  4  =  28\n",
      "8  X  4  =  32\n",
      "9  X  4  =  36\n",
      "10  X  4  =  40\n",
      "1  X  5  =  5\n",
      "2  X  5  =  10\n",
      "3  X  5  =  15\n",
      "4  X  5  =  20\n",
      "5  X  5  =  25\n",
      "6  X  5  =  30\n",
      "7  X  5  =  35\n",
      "8  X  5  =  40\n",
      "9  X  5  =  45\n",
      "10  X  5  =  50\n"
     ]
    }
   ],
   "source": [
    "for i in range(1,6):\n",
    "    for j in range(1,11):\n",
    "        print(j,\" X \",i,\" = \",j*i)"
   ]
  },
  {
   "cell_type": "code",
   "execution_count": null,
   "id": "6e365051-aba9-4342-8943-331e8b19aa75",
   "metadata": {},
   "outputs": [],
   "source": [
    "17. Write a program that converts a list of Fahrenheit temperatures to Celsius using a `for` loop."
   ]
  },
  {
   "cell_type": "code",
   "execution_count": 9,
   "id": "a77bba16-6e51-41cf-b58a-a4ac4f03b9cc",
   "metadata": {},
   "outputs": [
    {
     "name": "stdout",
     "output_type": "stream",
     "text": [
      "[0.0, 20.0, 37.77777777777778, 100.0]\n"
     ]
    }
   ],
   "source": [
    "f_temp = [32, 68, 100, 212]\n",
    "c_temp = []\n",
    "for fahrenheit in f_temp:\n",
    "    celsius = (fahrenheit - 32) * 5/9\n",
    "    c_temp.append(celsius)\n",
    "print(c_temp)"
   ]
  },
  {
   "cell_type": "code",
   "execution_count": null,
   "id": "44af8d2e-c13a-4079-bb17-de9e5c5d2b93",
   "metadata": {},
   "outputs": [],
   "source": [
    "18. Create a program to print the common elements from two lists using a `for` loop."
   ]
  },
  {
   "cell_type": "code",
   "execution_count": 15,
   "id": "3bb3021a-f9a3-4d39-b06f-66f6215d1afc",
   "metadata": {},
   "outputs": [
    {
     "name": "stdout",
     "output_type": "stream",
     "text": [
      "[2, 3, 5]\n"
     ]
    }
   ],
   "source": [
    "l1=[1,2,3,4,5]\n",
    "l2=[5,2,3,8,9]\n",
    "res=[]\n",
    "for i in range(len(l1)):\n",
    "    for j in range(len(l2)):\n",
    "        if l1[i]==l2[j]:\n",
    "            res.append(l1[i])\n",
    "print(res)"
   ]
  },
  {
   "cell_type": "code",
   "execution_count": null,
   "id": "231eca07-9ef9-4ad6-9617-c8eea701514c",
   "metadata": {},
   "outputs": [],
   "source": [
    "19. Develop a program that prints the pattern of right-angled triangles using a `for` loop. Use ‘*’ to draw the\n",
    "pattern"
   ]
  },
  {
   "cell_type": "code",
   "execution_count": 18,
   "id": "88cb8b1d-1003-472f-bce7-03c7b50e4aa3",
   "metadata": {},
   "outputs": [
    {
     "name": "stdout",
     "output_type": "stream",
     "text": [
      "*  \n",
      "* *  \n",
      "* * *  \n",
      "* * * *  \n",
      "* * * * *  \n"
     ]
    }
   ],
   "source": [
    "for i in range(1,6):\n",
    "    for j in range(1,i+1):\n",
    "        print(\"*\",end=\" \")\n",
    "    print(\" \")"
   ]
  },
  {
   "cell_type": "code",
   "execution_count": null,
   "id": "1b0de8a0-a3cb-4d79-869d-08fbf8d7f5e0",
   "metadata": {},
   "outputs": [],
   "source": [
    "20. Write a program to find the greatest common divisor (GCD) of two numbers using a `for` loop."
   ]
  },
  {
   "cell_type": "code",
   "execution_count": 19,
   "id": "d29ada3d-fcb7-464f-9858-2072326e4676",
   "metadata": {},
   "outputs": [
    {
     "name": "stdout",
     "output_type": "stream",
     "text": [
      "5\n"
     ]
    }
   ],
   "source": [
    "num1 = 35\n",
    "num2 = 45\n",
    "min_num = min(num1, num2)\n",
    "gcd = 1\n",
    "for i in range(1, min_num + 1):\n",
    "    if num1 % i == 0 and num2 % i == 0:\n",
    "        gcd = i\n",
    "print(gcd)"
   ]
  },
  {
   "cell_type": "code",
   "execution_count": null,
   "id": "24ed35fa-ebc5-4587-a04a-472682ded956",
   "metadata": {},
   "outputs": [],
   "source": [
    "21. Create a program that calculates the sum of the digits of numbers in a list using a list comprehension."
   ]
  },
  {
   "cell_type": "code",
   "execution_count": 21,
   "id": "0061d003-e5f9-4a5a-af61-8076d10fbcc1",
   "metadata": {},
   "outputs": [
    {
     "name": "stdout",
     "output_type": "stream",
     "text": [
      "[7, 9, 3, 8]\n"
     ]
    }
   ],
   "source": [
    "l1=[34,45,12,44]\n",
    "sum_ele=[sum(int(digit) for digit in str(num)) for num in l1]\n",
    "print(sum_ele)"
   ]
  },
  {
   "cell_type": "code",
   "execution_count": null,
   "id": "5751b6e4-12f7-4753-8768-fd6c78edbd22",
   "metadata": {},
   "outputs": [],
   "source": [
    "22. Write a program to find the prime factors of a given number using a `for` loop and list comprehension."
   ]
  },
  {
   "cell_type": "code",
   "execution_count": 22,
   "id": "aa3be586-98c9-41c8-924c-772409150356",
   "metadata": {},
   "outputs": [
    {
     "name": "stdout",
     "output_type": "stream",
     "text": [
      "[2, 17]\n"
     ]
    }
   ],
   "source": [
    "num = 34\n",
    "if num <= 1:\n",
    "    print(\"No Prime factors\")\n",
    "else:\n",
    "    factors = [i for i in range(2, num + 1) if num % i == 0]\n",
    "    prime_factors = []\n",
    "    for factor in factors:\n",
    "        is_prime = True\n",
    "        for i in range(2, int(factor ** 0.5) + 1):\n",
    "            if factor % i == 0:\n",
    "                is_prime = False\n",
    "                break\n",
    "        if is_prime:\n",
    "            prime_factors.append(factor)\n",
    "    print(prime_factors)"
   ]
  },
  {
   "cell_type": "code",
   "execution_count": null,
   "id": "b6db2485-da28-4d05-8853-d5fcd572aceb",
   "metadata": {},
   "outputs": [],
   "source": [
    "23. Develop a program that extracts unique elements from a list and stores them in a new list using a list\n",
    "comprehension."
   ]
  },
  {
   "cell_type": "code",
   "execution_count": 1,
   "id": "f7e693fe-213b-4106-b45c-d79ddb39ae4d",
   "metadata": {},
   "outputs": [
    {
     "name": "stdout",
     "output_type": "stream",
     "text": [
      "[3, 4, 5, 6]\n"
     ]
    }
   ],
   "source": [
    "l1=[1,2,3,1,2,4,5,6]\n",
    "ele=[x for x in l1 if l1.count(x)==1]\n",
    "print(ele)"
   ]
  },
  {
   "cell_type": "code",
   "execution_count": null,
   "id": "944a7aab-d284-4b3f-8d01-a58563bae224",
   "metadata": {},
   "outputs": [],
   "source": [
    "24. Create a program that generates a list of all palindromic numbers up to a specified limit using a list\n",
    "comprehension."
   ]
  },
  {
   "cell_type": "code",
   "execution_count": 2,
   "id": "3bf6a426-2223-499e-aaf1-78dddcbd2fae",
   "metadata": {},
   "outputs": [
    {
     "name": "stdout",
     "output_type": "stream",
     "text": [
      "[121, 543345]\n"
     ]
    }
   ],
   "source": [
    "l1 = [121, 26, 31, 12, 45, 543345, 3, 4]\n",
    "ele=[x for x in l1 if str(x) == str(x)[::-1] and len(str(x)) > 1]\n",
    "print(ele)"
   ]
  },
  {
   "cell_type": "code",
   "execution_count": null,
   "id": "16a28e39-4736-4596-8119-1e3be36e929c",
   "metadata": {},
   "outputs": [],
   "source": [
    "25. Write a program to flatten a nested list using list comprehension."
   ]
  },
  {
   "cell_type": "code",
   "execution_count": 4,
   "id": "cad6ddd9-921a-4953-8b9c-92af93b0da23",
   "metadata": {},
   "outputs": [
    {
     "name": "stdout",
     "output_type": "stream",
     "text": [
      "[1, 2, 3, 4, 5, 6, 7, 8]\n"
     ]
    }
   ],
   "source": [
    "l1=[[1,2],[3,4,5],[6,7,8]]\n",
    "ele=[j for x in l1 for j in x]\n",
    "print(ele)"
   ]
  },
  {
   "cell_type": "code",
   "execution_count": null,
   "id": "302d11de-e583-4414-8c3c-c9f575228be6",
   "metadata": {},
   "outputs": [],
   "source": [
    "26. Develop a program that computes the sum of even and odd numbers in a list separately using list\n",
    "comprehension."
   ]
  },
  {
   "cell_type": "code",
   "execution_count": 5,
   "id": "b71a9885-ef36-4eba-9949-37ac34939613",
   "metadata": {},
   "outputs": [
    {
     "name": "stdout",
     "output_type": "stream",
     "text": [
      "20 25\n"
     ]
    }
   ],
   "source": [
    "l1=[1,2,3,4,5,6,7,8,9]\n",
    "soe=[x for x in l1 if x%2==0]\n",
    "soo=[y for y in l1 if y%2!=0]\n",
    "print(sum(soe),sum(soo))"
   ]
  },
  {
   "cell_type": "code",
   "execution_count": null,
   "id": "1b8bb314-4432-4a80-b28a-b2c3abfdcb3e",
   "metadata": {},
   "outputs": [],
   "source": [
    "27. Create a program that generates a list of squares of odd numbers between 1 and 10 using list\n",
    "comprehension."
   ]
  },
  {
   "cell_type": "code",
   "execution_count": 13,
   "id": "a8d3616e-3f31-4cc2-b3be-7cb821749dbe",
   "metadata": {},
   "outputs": [
    {
     "name": "stdout",
     "output_type": "stream",
     "text": [
      "[1, 9, 25, 49, 81]\n"
     ]
    }
   ],
   "source": [
    "list1=[1,2,3,4,5,6,7,8,9]\n",
    "sq=[x**2 for x in list1 if x%2!=0]\n",
    "print(sq)"
   ]
  },
  {
   "cell_type": "code",
   "execution_count": null,
   "id": "6bdb36b1-0bea-4812-b927-4bf66ea1d98f",
   "metadata": {},
   "outputs": [],
   "source": [
    "28. Write a program that combines two lists into a dictionary using list comprehension."
   ]
  },
  {
   "cell_type": "code",
   "execution_count": 19,
   "id": "f53d6ce3-6487-47ff-b11d-7a3410be4e33",
   "metadata": {},
   "outputs": [
    {
     "name": "stdout",
     "output_type": "stream",
     "text": [
      "{(3, 'b'), (3, 'c'), (1, 'b'), (2, 'a'), (1, 'c'), (3, 'a'), (2, 'c'), (1, 'a'), (2, 'b')}\n"
     ]
    }
   ],
   "source": [
    "l1=[1,2,3]\n",
    "l2=[\"a\",\"b\",\"c\"]\n",
    "d={(i,j) for i in l1 for j in l2}\n",
    "print(d)"
   ]
  },
  {
   "cell_type": "code",
   "execution_count": null,
   "id": "e1d58f20-0c9e-4c71-b394-3c6fe1f18ff1",
   "metadata": {},
   "outputs": [],
   "source": [
    "29. Develop a program that extracts the vowels from a string and stores them in a list using list comprehension."
   ]
  },
  {
   "cell_type": "code",
   "execution_count": 23,
   "id": "1f27797e-3cf7-4a39-b316-b7736c1abd4f",
   "metadata": {},
   "outputs": [
    {
     "name": "stdout",
     "output_type": "stream",
     "text": [
      "['s', 'p', 'r', 's', 'h']\n"
     ]
    }
   ],
   "source": [
    "string = \"sparsh\"\n",
    "ele = [x for x in string if x.lower() not in 'aeiou']\n",
    "print(ele)"
   ]
  },
  {
   "cell_type": "code",
   "execution_count": null,
   "id": "f792631e-f11b-48a8-b2a2-d3784f3b9d26",
   "metadata": {},
   "outputs": [],
   "source": [
    "30. Create a program that removes all non-numeric characters from a list of strings using list comprehension."
   ]
  },
  {
   "cell_type": "code",
   "execution_count": 29,
   "id": "b2286f0c-9b62-4ade-8144-c12b041a4cb5",
   "metadata": {},
   "outputs": [
    {
     "name": "stdout",
     "output_type": "stream",
     "text": [
      "[5, 456, 3.14]\n"
     ]
    }
   ],
   "source": [
    "l1 = ['a', 'b', 5, 456, 3.14]\n",
    "ele = [x for x in l1 if isinstance(x, str) and x.isalpha()]\n",
    "result = [x for x in l1 if x not in ele]\n",
    "print(result)"
   ]
  },
  {
   "cell_type": "code",
   "execution_count": null,
   "id": "d305a191-c781-4523-8497-ab3bcce4e6dd",
   "metadata": {},
   "outputs": [],
   "source": [
    "31. Write a program to generate a list of prime numbers using the Sieve of Eratosthenes algorithm and list\n",
    "comprehension."
   ]
  },
  {
   "cell_type": "code",
   "execution_count": 1,
   "id": "30af608a-404b-401f-83c6-e17f6e26be6e",
   "metadata": {},
   "outputs": [
    {
     "name": "stdout",
     "output_type": "stream",
     "text": [
      "[2, 3, 5, 7, 11, 13, 17, 19, 23, 29, 31, 37, 41, 43, 47, 53, 59, 61, 67, 71, 73, 79, 83, 89, 97]\n"
     ]
    }
   ],
   "source": [
    "upper_limit = 100  \n",
    "sieve = [True] * (upper_limit + 1)\n",
    "sieve[0] = sieve[1] = False\n",
    "for p in range(2, int(upper_limit**0.5) + 1):\n",
    "    if sieve[p]:\n",
    "        for i in range(p * p, upper_limit + 1, p):\n",
    "            sieve[i] = False\n",
    "prime_list = [p for p in range(2, upper_limit + 1) if sieve[p]]\n",
    "print(prime_list)"
   ]
  },
  {
   "cell_type": "code",
   "execution_count": 7,
   "id": "0646df4f-1e97-4794-954a-ba43cd93ff92",
   "metadata": {},
   "outputs": [],
   "source": [
    "def length(a):\n",
    "    return len(a)\n",
    "l=[\"ayan\"]"
   ]
  },
  {
   "cell_type": "code",
   "execution_count": 10,
   "id": "a967badb-e3ca-4520-8bdd-a02e7910e3c1",
   "metadata": {},
   "outputs": [
    {
     "data": {
      "text/plain": [
       "[4]"
      ]
     },
     "execution_count": 10,
     "metadata": {},
     "output_type": "execute_result"
    }
   ],
   "source": [
    "list(map(length,l))"
   ]
  },
  {
   "cell_type": "code",
   "execution_count": 11,
   "id": "67939e81-9dbd-4159-b0d3-91639cea1f4d",
   "metadata": {},
   "outputs": [],
   "source": [
    "l=[\"ayan\",\"one\",\"two\"]"
   ]
  },
  {
   "cell_type": "code",
   "execution_count": 12,
   "id": "e452e6b1-d58f-4d5a-a41a-43f983bc4e62",
   "metadata": {},
   "outputs": [],
   "source": [
    "def rev(l):\n",
    "    return str(l)[::-1]\n"
   ]
  },
  {
   "cell_type": "code",
   "execution_count": 13,
   "id": "28e622f6-4713-4414-8742-8650b675e74c",
   "metadata": {},
   "outputs": [
    {
     "data": {
      "text/plain": [
       "['naya', 'eno', 'owt']"
      ]
     },
     "execution_count": 13,
     "metadata": {},
     "output_type": "execute_result"
    }
   ],
   "source": [
    "list(map(rev,l))"
   ]
  },
  {
   "cell_type": "code",
   "execution_count": null,
   "id": "e2c6e302-18e4-4d17-9131-f18f28e90944",
   "metadata": {},
   "outputs": [],
   "source": [
    "32. Create a program that generates a list of all Pythagorean triplets up to a specified limit using list\n",
    "comprehension."
   ]
  },
  {
   "cell_type": "code",
   "execution_count": 16,
   "id": "8774626c-93c6-4f3d-a0a9-3e519ec2163f",
   "metadata": {},
   "outputs": [
    {
     "name": "stdout",
     "output_type": "stream",
     "text": [
      "(3, 4, 5)\n",
      "(5, 12, 13)\n",
      "(6, 8, 10)\n",
      "(7, 24, 25)\n",
      "(8, 15, 17)\n",
      "(9, 12, 15)\n",
      "(9, 40, 41)\n",
      "(10, 24, 26)\n",
      "(12, 16, 20)\n",
      "(12, 35, 37)\n",
      "(15, 20, 25)\n",
      "(15, 36, 39)\n",
      "(16, 30, 34)\n",
      "(18, 24, 30)\n",
      "(20, 21, 29)\n",
      "(21, 28, 35)\n",
      "(24, 32, 40)\n",
      "(27, 36, 45)\n"
     ]
    }
   ],
   "source": [
    "limit=50\n",
    "trip=[(a,b,c) for a in range(1,limit) for b in range(a,limit) for c in range(b,limit) if a**2 + b**2 == c**2]\n",
    "for tr in trip:\n",
    "    print(tr)"
   ]
  },
  {
   "cell_type": "code",
   "execution_count": null,
   "id": "4496a4fe-edcc-49e4-8978-c39a4f8ecc18",
   "metadata": {},
   "outputs": [],
   "source": [
    "33. Develop a program that generates a list of all possible combinations of two lists using list comprehension."
   ]
  },
  {
   "cell_type": "code",
   "execution_count": 18,
   "id": "487c5d3a-0bd9-4590-9bb2-f7eef097e38e",
   "metadata": {},
   "outputs": [
    {
     "name": "stdout",
     "output_type": "stream",
     "text": [
      "[(1, 'a'), (1, 'b'), (1, 'c'), (2, 'a'), (2, 'b'), (2, 'c'), (3, 'a'), (3, 'b'), (3, 'c')]\n"
     ]
    }
   ],
   "source": [
    "l1=[1,2,3]\n",
    "l2=[\"a\",\"b\",\"c\"]\n",
    "l3=[(i,j) for i in l1 for j in l2]\n",
    "print(l3)"
   ]
  },
  {
   "cell_type": "code",
   "execution_count": null,
   "id": "a7eae8b9-0af8-4d80-ae2c-ae31d2a12d26",
   "metadata": {},
   "outputs": [],
   "source": [
    "34. Write a program that calculates the mean, median, and mode of a list of numbers using list\n",
    "comprehension."
   ]
  },
  {
   "cell_type": "code",
   "execution_count": 22,
   "id": "d24448e7-bcbc-431c-b712-d1b862298ece",
   "metadata": {},
   "outputs": [
    {
     "name": "stdout",
     "output_type": "stream",
     "text": [
      "5.25\n",
      "5.0\n",
      "[5]\n"
     ]
    }
   ],
   "source": [
    "from statistics import median\n",
    "from collections import Counter\n",
    "numbers = [1, 2, 3, 4, 5, 5, 5, 6, 7, 8, 8, 9]\n",
    "mean = sum(numbers) / len(numbers)\n",
    "median_value = median(numbers)\n",
    "count = Counter(numbers)\n",
    "mode = [k for k, v in count.items() if v == max(count.values())]\n",
    "print(mean)\n",
    "print(median_value)\n",
    "print(mode)"
   ]
  },
  {
   "cell_type": "code",
   "execution_count": null,
   "id": "09421eb8-a433-4fbe-be19-6f1f31bcf209",
   "metadata": {},
   "outputs": [],
   "source": [
    "35. Create a program that generates Pascal's triangle up to a specified number of rows using list comprehension."
   ]
  },
  {
   "cell_type": "code",
   "execution_count": 28,
   "id": "84646777-0fcc-4865-85da-85554f6a8468",
   "metadata": {},
   "outputs": [
    {
     "name": "stdout",
     "output_type": "stream",
     "text": [
      "[1]\n",
      "[1, 1]\n",
      "[1, 2, 1]\n",
      "[1, 3, 3, 1]\n",
      "[1, 4, 6, 4, 1]\n"
     ]
    }
   ],
   "source": [
    "num_rows = 5  \n",
    "pascals_triangle = [[1]]\n",
    "for i in range(1, num_rows):\n",
    "    prev_row = pascals_triangle[-1]\n",
    "    new_row = [1] \n",
    "    for j in range(1, i):\n",
    "        new_element = prev_row[j - 1] + prev_row[j]\n",
    "        new_row.append(new_element)\n",
    "    new_row.append(1) \n",
    "    pascals_triangle.append(new_row)\n",
    "for row in pascals_triangle:\n",
    "    print(row)"
   ]
  },
  {
   "cell_type": "code",
   "execution_count": null,
   "id": "7f46c9d5-4d0b-4f65-8200-105d9599b3f7",
   "metadata": {},
   "outputs": [],
   "source": [
    "36. Develop a program that calculates the sum of the digits of a factorial of numbers from 1 to 5 using list\n",
    "comprehension."
   ]
  },
  {
   "cell_type": "code",
   "execution_count": 1,
   "id": "c566db51-ba16-4de2-afb8-d76c376f75d2",
   "metadata": {},
   "outputs": [
    {
     "name": "stdout",
     "output_type": "stream",
     "text": [
      "The sum of digits of 1! is 1\n",
      "The sum of digits of 2! is 2\n",
      "The sum of digits of 3! is 6\n",
      "The sum of digits of 4! is 6\n",
      "The sum of digits of 5! is 3\n"
     ]
    }
   ],
   "source": [
    "def factorial(n):\n",
    "    if n == 0:\n",
    "        return 1\n",
    "    else:\n",
    "        return n * factorial(n - 1)\n",
    "factorial_sums = [sum(int(digit) for digit in str(factorial(n))) for n in range(1, 6)]\n",
    "for n, factorial_sum in enumerate(factorial_sums, start=1):\n",
    "    print(f\"The sum of digits of {n}! is {factorial_sum}\")"
   ]
  },
  {
   "cell_type": "code",
   "execution_count": null,
   "id": "94f45785-8df5-4952-8db7-eb8d81a61c4b",
   "metadata": {},
   "outputs": [],
   "source": [
    "37. Write a program that finds the longest word in a sentence using list comprehension."
   ]
  },
  {
   "cell_type": "code",
   "execution_count": 4,
   "id": "bf01db73-e7e6-4421-82b3-6ba3a2fa9539",
   "metadata": {},
   "outputs": [
    {
     "name": "stdout",
     "output_type": "stream",
     "text": [
      "The longest word(s) in the sentence are: ['sentence']\n"
     ]
    }
   ],
   "source": [
    "sentence = \"This is a sample sentence with some long words\"\n",
    "words = sentence.split()\n",
    "longest_words = [word for word in words if len(word) == max(len(word) for word in words)]\n",
    "print(\"The longest word(s) in the sentence are:\", longest_words)"
   ]
  },
  {
   "cell_type": "code",
   "execution_count": null,
   "id": "753df2a3-c070-49ea-943d-e3ed92be2d28",
   "metadata": {},
   "outputs": [],
   "source": [
    "38. Create a program that filters a list of strings to include only those with more than three vowels using list\n",
    "comprehension."
   ]
  },
  {
   "cell_type": "code",
   "execution_count": 8,
   "id": "0bf250f7-0fc0-4e16-9f35-75a6f3f1aad0",
   "metadata": {},
   "outputs": [
    {
     "name": "stdout",
     "output_type": "stream",
     "text": [
      "Strings with more than three vowels: ['applepie']\n"
     ]
    }
   ],
   "source": [
    "strings = [\"hello\", \"world\", \"applepie\", \"banana\", \"programming\"]\n",
    "def count_vowels(s):\n",
    "    return sum(1 for char in s if char.lower() in \"aeiou\")\n",
    "filtered_strings = [s for s in strings if count_vowels(s) > 3]\n",
    "print(\"Strings with more than three vowels:\", filtered_strings)"
   ]
  },
  {
   "cell_type": "code",
   "execution_count": null,
   "id": "e6e76609-052b-40b0-9079-ba247f0772ca",
   "metadata": {},
   "outputs": [],
   "source": [
    "39. Develop a program that calculates the sum of the digits of numbers from 1 to 1000 using list\n",
    "comprehension."
   ]
  },
  {
   "cell_type": "code",
   "execution_count": 10,
   "id": "420d69c0-5cd5-4822-b300-40ff50952bed",
   "metadata": {},
   "outputs": [
    {
     "name": "stdout",
     "output_type": "stream",
     "text": [
      "The sum of digits for numbers from 1 to 1000 is: 13501\n"
     ]
    }
   ],
   "source": [
    "digit_sums = [sum(int(digit) for digit in str(n)) for n in range(1, 1001)]\n",
    "total_sum = sum(digit_sums)\n",
    "print(\"The sum of digits for numbers from 1 to 1000 is:\", total_sum)"
   ]
  },
  {
   "cell_type": "code",
   "execution_count": null,
   "id": "2a2920de-2022-4773-a833-11a87a109f87",
   "metadata": {},
   "outputs": [],
   "source": [
    "40. Write a program that generates a list of prime palindromic numbers using list comprehension."
   ]
  },
  {
   "cell_type": "code",
   "execution_count": 12,
   "id": "be787899-c9f7-4876-978c-102480be8c51",
   "metadata": {},
   "outputs": [
    {
     "name": "stdout",
     "output_type": "stream",
     "text": [
      "[2, 3, 5, 7, 11]\n"
     ]
    }
   ],
   "source": [
    "def is_prime(num):\n",
    "    if num < 2:\n",
    "        return False\n",
    "    for i in range(2, int(num ** 0.5) + 1):\n",
    "        if num % i == 0:\n",
    "            return False\n",
    "    return True\n",
    "\n",
    "def is_palindrome(num):\n",
    "    return str(num) == str(num)[::-1]\n",
    "\n",
    "prime_palindromes = [num for num in range(2, 100) if is_prime(num) and is_palindrome(num)]\n",
    "print(prime_palindromes)"
   ]
  },
  {
   "cell_type": "code",
   "execution_count": null,
   "id": "f1a681f9-aecf-4f68-8631-70b9ac4dfa14",
   "metadata": {},
   "outputs": [],
   "source": []
  }
 ],
 "metadata": {
  "kernelspec": {
   "display_name": "Python 3 (ipykernel)",
   "language": "python",
   "name": "python3"
  },
  "language_info": {
   "codemirror_mode": {
    "name": "ipython",
    "version": 3
   },
   "file_extension": ".py",
   "mimetype": "text/x-python",
   "name": "python",
   "nbconvert_exporter": "python",
   "pygments_lexer": "ipython3",
   "version": "3.10.8"
  }
 },
 "nbformat": 4,
 "nbformat_minor": 5
}
