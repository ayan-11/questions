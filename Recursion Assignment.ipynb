{
 "cells": [
  {
   "cell_type": "markdown",
   "id": "336f7724-e246-4581-ae18-c83f3095eb0f",
   "metadata": {},
   "source": [
    "Q.1 Can you explain the logic and working of the Tower of Hanoi algorithm by writing a Java program?\n",
    "How does the recursion work, and how are the movements of disks between rods accomplished?"
   ]
  },
  {
   "cell_type": "code",
   "execution_count": 1,
   "id": "1827250b-4f89-4d48-b481-441f166336ec",
   "metadata": {},
   "outputs": [
    {
     "name": "stdout",
     "output_type": "stream",
     "text": [
      "Move disk 1 from rod A to rod C\n",
      "Move disk 2 from rod A to rod B\n",
      "Move disk 1 from rod C to rod B\n",
      "Move disk 3 from rod A to rod C\n",
      "Move disk 1 from rod B to rod A\n",
      "Move disk 2 from rod B to rod C\n",
      "Move disk 1 from rod A to rod C\n"
     ]
    }
   ],
   "source": [
    "def tower_of_hanoi(num_disks, source, auxiliary, destination):\n",
    "    if num_disks == 1:\n",
    "        print(\"Move disk 1 from rod\", source, \"to rod\", destination)\n",
    "        return\n",
    "    tower_of_hanoi(num_disks - 1, source, destination, auxiliary)\n",
    "    print(\"Move disk\", num_disks, \"from rod\", source, \"to rod\", destination)\n",
    "    tower_of_hanoi(num_disks - 1, auxiliary, source, destination)\n",
    "\n",
    "# Example usage:\n",
    "num_disks = 3  # Change this value to adjust the number of disks\n",
    "tower_of_hanoi(num_disks, 'A', 'B', 'C')\n"
   ]
  },
  {
   "cell_type": "markdown",
   "id": "410cbbf9-4814-4462-8630-634d74786e13",
   "metadata": {},
   "source": [
    "Q.2 Given two strings word1 and word2, return the minimum number of operations required to convert word1\n",
    "to word2."
   ]
  },
  {
   "cell_type": "code",
   "execution_count": 2,
   "id": "e39ac14a-269d-41be-b449-bd1cb19ae685",
   "metadata": {},
   "outputs": [
    {
     "name": "stdout",
     "output_type": "stream",
     "text": [
      "3\n"
     ]
    }
   ],
   "source": [
    "def minDistance(word1, word2):\n",
    "    m, n = len(word1), len(word2)\n",
    "    \n",
    "    # Initialize a 2D array to store minimum operations\n",
    "    dp = [[0] * (n + 1) for _ in range(m + 1)]\n",
    "    \n",
    "    # Base cases\n",
    "    for i in range(m + 1):\n",
    "        dp[i][0] = i\n",
    "    for j in range(n + 1):\n",
    "        dp[0][j] = j\n",
    "        \n",
    "    # Fill the dp array\n",
    "    for i in range(1, m + 1):\n",
    "        for j in range(1, n + 1):\n",
    "            if word1[i - 1] == word2[j - 1]:\n",
    "                dp[i][j] = dp[i - 1][j - 1]\n",
    "            else:\n",
    "                dp[i][j] = min(dp[i - 1][j], dp[i][j - 1], dp[i - 1][j - 1]) + 1\n",
    "    \n",
    "    return dp[m][n]\n",
    "\n",
    "# Example usage:\n",
    "word1 = \"horse\"\n",
    "word2 = \"ros\"\n",
    "print(minDistance(word1, word2))  # Output should be 3\n"
   ]
  },
  {
   "cell_type": "markdown",
   "id": "bc83c940-a721-4c83-829b-8dbbbf43feba",
   "metadata": {},
   "source": [
    "Q. 3 Print the max value of the array [ 13, 1, -3, 22, 5]."
   ]
  },
  {
   "cell_type": "code",
   "execution_count": 3,
   "id": "fbf603bc-830d-452e-8f5f-069f10197dfc",
   "metadata": {},
   "outputs": [
    {
     "name": "stdout",
     "output_type": "stream",
     "text": [
      "The maximum value of the array is: 22\n"
     ]
    }
   ],
   "source": [
    "array = [13, 1, -3, 22, 5]\n",
    "max_value = max(array)\n",
    "print(\"The maximum value of the array is:\", max_value)\n"
   ]
  },
  {
   "cell_type": "markdown",
   "id": "e3df9cd5-b97a-47ff-b85d-8786e7d6e46e",
   "metadata": {},
   "source": [
    "Q.4 Find the sum of the values of the array [92, 23, 15, -20, 10]."
   ]
  },
  {
   "cell_type": "code",
   "execution_count": 4,
   "id": "73c97495-58e7-4ed2-8c03-452d3b5bc668",
   "metadata": {},
   "outputs": [
    {
     "name": "stdout",
     "output_type": "stream",
     "text": [
      "The sum of the values of the array is: 120\n"
     ]
    }
   ],
   "source": [
    "array = [92, 23, 15, -20, 10]\n",
    "array_sum = sum(array)\n",
    "print(\"The sum of the values of the array is:\", array_sum)\n"
   ]
  },
  {
   "cell_type": "markdown",
   "id": "0fc41ca6-53d0-4723-9cc0-55250c9a0ef7",
   "metadata": {},
   "source": [
    "Q.5 Given a number n. Print if it is an armstrong number or not.An armstrong number is a number if the sum\n",
    "of every digit in that number raised to the power of total digits in that number is equal to the number."
   ]
  },
  {
   "cell_type": "code",
   "execution_count": 5,
   "id": "8fe245fd-caaf-4227-8000-834791445afd",
   "metadata": {},
   "outputs": [
    {
     "name": "stdout",
     "output_type": "stream",
     "text": [
      "153 is an Armstrong number.\n"
     ]
    }
   ],
   "source": [
    "def is_armstrong_number(n):\n",
    "    # Convert the number to a string to count the digits\n",
    "    num_str = str(n)\n",
    "    num_digits = len(num_str)\n",
    "    \n",
    "    # Calculate the sum of each digit raised to the power of the total number of digits\n",
    "    armstrong_sum = sum(int(digit) ** num_digits for digit in num_str)\n",
    "    \n",
    "    # Check if the calculated sum is equal to the original number\n",
    "    return armstrong_sum == n\n",
    "\n",
    "# Example usage:\n",
    "n = 153  # Change this value to test different numbers\n",
    "if is_armstrong_number(n):\n",
    "    print(n, \"is an Armstrong number.\")\n",
    "else:\n",
    "    print(n, \"is not an Armstrong number.\")\n"
   ]
  }
 ],
 "metadata": {
  "kernelspec": {
   "display_name": "Python 3 (ipykernel)",
   "language": "python",
   "name": "python3"
  },
  "language_info": {
   "codemirror_mode": {
    "name": "ipython",
    "version": 3
   },
   "file_extension": ".py",
   "mimetype": "text/x-python",
   "name": "python",
   "nbconvert_exporter": "python",
   "pygments_lexer": "ipython3",
   "version": "3.10.8"
  }
 },
 "nbformat": 4,
 "nbformat_minor": 5
}
